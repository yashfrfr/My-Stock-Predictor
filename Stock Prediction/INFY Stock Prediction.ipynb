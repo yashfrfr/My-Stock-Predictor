{
 "cells": [
  {
   "cell_type": "code",
   "execution_count": 2,
   "id": "5a20ead1",
   "metadata": {},
   "outputs": [],
   "source": [
    "#Import the libraries\n",
    "import pandas as pd \n",
    "import numpy as np \n",
    "import matplotlib.pyplot as plt \n",
    "from sklearn import preprocessing\n",
    "from sklearn.ensemble import RandomForestRegressor\n",
    "from sklearn.model_selection import train_test_split\n",
    "from sklearn.metrics import mean_absolute_error, r2_score"
   ]
  },
  {
   "cell_type": "code",
   "execution_count": 392,
   "id": "1ebabd9c",
   "metadata": {},
   "outputs": [],
   "source": [
    "stock = pd.read_csv(\"C:/Users/suresh/Desktop/PYTHON ML DATA SCIENCE/Stock Prediction/Stock Data/INFY.csv\")"
   ]
  },
  {
   "cell_type": "code",
   "execution_count": 393,
   "id": "b4a873d4",
   "metadata": {},
   "outputs": [
    {
     "data": {
      "text/html": [
       "<div>\n",
       "<style scoped>\n",
       "    .dataframe tbody tr th:only-of-type {\n",
       "        vertical-align: middle;\n",
       "    }\n",
       "\n",
       "    .dataframe tbody tr th {\n",
       "        vertical-align: top;\n",
       "    }\n",
       "\n",
       "    .dataframe thead th {\n",
       "        text-align: right;\n",
       "    }\n",
       "</style>\n",
       "<table border=\"1\" class=\"dataframe\">\n",
       "  <thead>\n",
       "    <tr style=\"text-align: right;\">\n",
       "      <th></th>\n",
       "      <th>Date</th>\n",
       "      <th>Symbol</th>\n",
       "      <th>Series</th>\n",
       "      <th>Prev Close</th>\n",
       "      <th>Open</th>\n",
       "      <th>High</th>\n",
       "      <th>Low</th>\n",
       "      <th>Last</th>\n",
       "      <th>Close</th>\n",
       "      <th>VWAP</th>\n",
       "      <th>Volume</th>\n",
       "      <th>Turnover</th>\n",
       "      <th>Trades</th>\n",
       "      <th>Deliverable Volume</th>\n",
       "      <th>%Deliverble</th>\n",
       "    </tr>\n",
       "  </thead>\n",
       "  <tbody>\n",
       "    <tr>\n",
       "      <th>0</th>\n",
       "      <td>2000-01-03</td>\n",
       "      <td>INFOSYSTCH</td>\n",
       "      <td>EQ</td>\n",
       "      <td>14467.75</td>\n",
       "      <td>15625.00</td>\n",
       "      <td>15625.20</td>\n",
       "      <td>15625.00</td>\n",
       "      <td>15625.20</td>\n",
       "      <td>15625.20</td>\n",
       "      <td>15625.18</td>\n",
       "      <td>5137</td>\n",
       "      <td>8.026657e+12</td>\n",
       "      <td>NaN</td>\n",
       "      <td>NaN</td>\n",
       "      <td>NaN</td>\n",
       "    </tr>\n",
       "    <tr>\n",
       "      <th>1</th>\n",
       "      <td>2000-01-04</td>\n",
       "      <td>INFOSYSTCH</td>\n",
       "      <td>EQ</td>\n",
       "      <td>15625.20</td>\n",
       "      <td>16800.00</td>\n",
       "      <td>16875.25</td>\n",
       "      <td>16253.00</td>\n",
       "      <td>16875.25</td>\n",
       "      <td>16855.90</td>\n",
       "      <td>16646.38</td>\n",
       "      <td>56186</td>\n",
       "      <td>9.352937e+13</td>\n",
       "      <td>NaN</td>\n",
       "      <td>NaN</td>\n",
       "      <td>NaN</td>\n",
       "    </tr>\n",
       "    <tr>\n",
       "      <th>2</th>\n",
       "      <td>2000-01-05</td>\n",
       "      <td>INFOSYSTCH</td>\n",
       "      <td>EQ</td>\n",
       "      <td>16855.90</td>\n",
       "      <td>15701.00</td>\n",
       "      <td>16250.00</td>\n",
       "      <td>15507.45</td>\n",
       "      <td>15507.45</td>\n",
       "      <td>15507.45</td>\n",
       "      <td>15786.38</td>\n",
       "      <td>164605</td>\n",
       "      <td>2.598516e+14</td>\n",
       "      <td>NaN</td>\n",
       "      <td>NaN</td>\n",
       "      <td>NaN</td>\n",
       "    </tr>\n",
       "    <tr>\n",
       "      <th>3</th>\n",
       "      <td>2000-01-06</td>\n",
       "      <td>INFOSYSTCH</td>\n",
       "      <td>EQ</td>\n",
       "      <td>15507.45</td>\n",
       "      <td>15256.65</td>\n",
       "      <td>15300.00</td>\n",
       "      <td>14266.85</td>\n",
       "      <td>14266.85</td>\n",
       "      <td>14266.85</td>\n",
       "      <td>14462.82</td>\n",
       "      <td>81997</td>\n",
       "      <td>1.185908e+14</td>\n",
       "      <td>NaN</td>\n",
       "      <td>NaN</td>\n",
       "      <td>NaN</td>\n",
       "    </tr>\n",
       "    <tr>\n",
       "      <th>4</th>\n",
       "      <td>2000-01-07</td>\n",
       "      <td>INFOSYSTCH</td>\n",
       "      <td>EQ</td>\n",
       "      <td>14266.85</td>\n",
       "      <td>13125.50</td>\n",
       "      <td>13125.50</td>\n",
       "      <td>13125.50</td>\n",
       "      <td>13125.50</td>\n",
       "      <td>13125.50</td>\n",
       "      <td>13125.50</td>\n",
       "      <td>7589</td>\n",
       "      <td>9.960942e+12</td>\n",
       "      <td>NaN</td>\n",
       "      <td>NaN</td>\n",
       "      <td>NaN</td>\n",
       "    </tr>\n",
       "  </tbody>\n",
       "</table>\n",
       "</div>"
      ],
      "text/plain": [
       "         Date      Symbol Series  Prev Close      Open      High       Low  \\\n",
       "0  2000-01-03  INFOSYSTCH     EQ    14467.75  15625.00  15625.20  15625.00   \n",
       "1  2000-01-04  INFOSYSTCH     EQ    15625.20  16800.00  16875.25  16253.00   \n",
       "2  2000-01-05  INFOSYSTCH     EQ    16855.90  15701.00  16250.00  15507.45   \n",
       "3  2000-01-06  INFOSYSTCH     EQ    15507.45  15256.65  15300.00  14266.85   \n",
       "4  2000-01-07  INFOSYSTCH     EQ    14266.85  13125.50  13125.50  13125.50   \n",
       "\n",
       "       Last     Close      VWAP  Volume      Turnover  Trades  \\\n",
       "0  15625.20  15625.20  15625.18    5137  8.026657e+12     NaN   \n",
       "1  16875.25  16855.90  16646.38   56186  9.352937e+13     NaN   \n",
       "2  15507.45  15507.45  15786.38  164605  2.598516e+14     NaN   \n",
       "3  14266.85  14266.85  14462.82   81997  1.185908e+14     NaN   \n",
       "4  13125.50  13125.50  13125.50    7589  9.960942e+12     NaN   \n",
       "\n",
       "   Deliverable Volume  %Deliverble  \n",
       "0                 NaN          NaN  \n",
       "1                 NaN          NaN  \n",
       "2                 NaN          NaN  \n",
       "3                 NaN          NaN  \n",
       "4                 NaN          NaN  "
      ]
     },
     "execution_count": 393,
     "metadata": {},
     "output_type": "execute_result"
    }
   ],
   "source": [
    "stock.head()"
   ]
  },
  {
   "cell_type": "code",
   "execution_count": 394,
   "id": "564201f0",
   "metadata": {},
   "outputs": [
    {
     "name": "stdout",
     "output_type": "stream",
     "text": [
      "<class 'pandas.core.frame.DataFrame'>\n",
      "RangeIndex: 5306 entries, 0 to 5305\n",
      "Data columns (total 15 columns):\n",
      " #   Column              Non-Null Count  Dtype  \n",
      "---  ------              --------------  -----  \n",
      " 0   Date                5306 non-null   object \n",
      " 1   Symbol              5306 non-null   object \n",
      " 2   Series              5306 non-null   object \n",
      " 3   Prev Close          5306 non-null   float64\n",
      " 4   Open                5306 non-null   float64\n",
      " 5   High                5306 non-null   float64\n",
      " 6   Low                 5306 non-null   float64\n",
      " 7   Last                5306 non-null   float64\n",
      " 8   Close               5306 non-null   float64\n",
      " 9   VWAP                5306 non-null   float64\n",
      " 10  Volume              5306 non-null   int64  \n",
      " 11  Turnover            5306 non-null   float64\n",
      " 12  Trades              2456 non-null   float64\n",
      " 13  Deliverable Volume  4797 non-null   float64\n",
      " 14  %Deliverble         4797 non-null   float64\n",
      "dtypes: float64(11), int64(1), object(3)\n",
      "memory usage: 621.9+ KB\n"
     ]
    }
   ],
   "source": [
    "stock.info()"
   ]
  },
  {
   "cell_type": "code",
   "execution_count": 395,
   "id": "c9d711dd",
   "metadata": {},
   "outputs": [
    {
     "data": {
      "text/html": [
       "<div>\n",
       "<style scoped>\n",
       "    .dataframe tbody tr th:only-of-type {\n",
       "        vertical-align: middle;\n",
       "    }\n",
       "\n",
       "    .dataframe tbody tr th {\n",
       "        vertical-align: top;\n",
       "    }\n",
       "\n",
       "    .dataframe thead th {\n",
       "        text-align: right;\n",
       "    }\n",
       "</style>\n",
       "<table border=\"1\" class=\"dataframe\">\n",
       "  <thead>\n",
       "    <tr style=\"text-align: right;\">\n",
       "      <th></th>\n",
       "      <th>Prev Close</th>\n",
       "      <th>Open</th>\n",
       "      <th>High</th>\n",
       "      <th>Low</th>\n",
       "      <th>Last</th>\n",
       "      <th>Close</th>\n",
       "      <th>VWAP</th>\n",
       "      <th>Volume</th>\n",
       "      <th>Turnover</th>\n",
       "      <th>Trades</th>\n",
       "      <th>Deliverable Volume</th>\n",
       "      <th>%Deliverble</th>\n",
       "    </tr>\n",
       "  </thead>\n",
       "  <tbody>\n",
       "    <tr>\n",
       "      <th>count</th>\n",
       "      <td>5306.000000</td>\n",
       "      <td>5306.000000</td>\n",
       "      <td>5306.000000</td>\n",
       "      <td>5306.000000</td>\n",
       "      <td>5306.000000</td>\n",
       "      <td>5306.000000</td>\n",
       "      <td>5306.000000</td>\n",
       "      <td>5.306000e+03</td>\n",
       "      <td>5.306000e+03</td>\n",
       "      <td>2.456000e+03</td>\n",
       "      <td>4.797000e+03</td>\n",
       "      <td>4797.000000</td>\n",
       "    </tr>\n",
       "    <tr>\n",
       "      <th>mean</th>\n",
       "      <td>2584.356643</td>\n",
       "      <td>2584.665266</td>\n",
       "      <td>2626.204297</td>\n",
       "      <td>2539.065002</td>\n",
       "      <td>2581.678345</td>\n",
       "      <td>2581.885215</td>\n",
       "      <td>2582.749548</td>\n",
       "      <td>2.622813e+06</td>\n",
       "      <td>3.855758e+14</td>\n",
       "      <td>1.118490e+05</td>\n",
       "      <td>1.574596e+06</td>\n",
       "      <td>0.536366</td>\n",
       "    </tr>\n",
       "    <tr>\n",
       "      <th>std</th>\n",
       "      <td>1796.807396</td>\n",
       "      <td>1796.731660</td>\n",
       "      <td>1842.170527</td>\n",
       "      <td>1743.052412</td>\n",
       "      <td>1789.259360</td>\n",
       "      <td>1789.462674</td>\n",
       "      <td>1792.981289</td>\n",
       "      <td>4.202984e+06</td>\n",
       "      <td>3.808224e+14</td>\n",
       "      <td>9.020307e+04</td>\n",
       "      <td>2.269940e+06</td>\n",
       "      <td>0.179496</td>\n",
       "    </tr>\n",
       "    <tr>\n",
       "      <th>min</th>\n",
       "      <td>526.450000</td>\n",
       "      <td>509.250000</td>\n",
       "      <td>558.000000</td>\n",
       "      <td>509.250000</td>\n",
       "      <td>529.150000</td>\n",
       "      <td>526.450000</td>\n",
       "      <td>531.330000</td>\n",
       "      <td>3.291000e+03</td>\n",
       "      <td>2.933192e+12</td>\n",
       "      <td>1.350000e+03</td>\n",
       "      <td>4.352000e+03</td>\n",
       "      <td>0.045800</td>\n",
       "    </tr>\n",
       "    <tr>\n",
       "      <th>25%</th>\n",
       "      <td>1216.062500</td>\n",
       "      <td>1213.675000</td>\n",
       "      <td>1233.675000</td>\n",
       "      <td>1197.925000</td>\n",
       "      <td>1215.750000</td>\n",
       "      <td>1216.062500</td>\n",
       "      <td>1214.647500</td>\n",
       "      <td>7.166842e+05</td>\n",
       "      <td>2.065910e+14</td>\n",
       "      <td>5.922600e+04</td>\n",
       "      <td>4.074360e+05</td>\n",
       "      <td>0.455700</td>\n",
       "    </tr>\n",
       "    <tr>\n",
       "      <th>50%</th>\n",
       "      <td>2265.675000</td>\n",
       "      <td>2265.000000</td>\n",
       "      <td>2294.300000</td>\n",
       "      <td>2232.475000</td>\n",
       "      <td>2263.275000</td>\n",
       "      <td>2265.575000</td>\n",
       "      <td>2262.210000</td>\n",
       "      <td>1.210798e+06</td>\n",
       "      <td>2.911119e+14</td>\n",
       "      <td>9.025650e+04</td>\n",
       "      <td>8.011600e+05</td>\n",
       "      <td>0.579900</td>\n",
       "    </tr>\n",
       "    <tr>\n",
       "      <th>75%</th>\n",
       "      <td>3170.562500</td>\n",
       "      <td>3174.762500</td>\n",
       "      <td>3210.037500</td>\n",
       "      <td>3124.575000</td>\n",
       "      <td>3170.750000</td>\n",
       "      <td>3169.350000</td>\n",
       "      <td>3168.457500</td>\n",
       "      <td>2.784006e+06</td>\n",
       "      <td>4.335687e+14</td>\n",
       "      <td>1.354770e+05</td>\n",
       "      <td>1.986846e+06</td>\n",
       "      <td>0.663700</td>\n",
       "    </tr>\n",
       "    <tr>\n",
       "      <th>max</th>\n",
       "      <td>16855.900000</td>\n",
       "      <td>16800.000000</td>\n",
       "      <td>16875.250000</td>\n",
       "      <td>16253.000000</td>\n",
       "      <td>16875.250000</td>\n",
       "      <td>16855.900000</td>\n",
       "      <td>16646.380000</td>\n",
       "      <td>9.043339e+07</td>\n",
       "      <td>8.323905e+15</td>\n",
       "      <td>1.643015e+06</td>\n",
       "      <td>5.775916e+07</td>\n",
       "      <td>0.996000</td>\n",
       "    </tr>\n",
       "  </tbody>\n",
       "</table>\n",
       "</div>"
      ],
      "text/plain": [
       "         Prev Close          Open          High           Low          Last  \\\n",
       "count   5306.000000   5306.000000   5306.000000   5306.000000   5306.000000   \n",
       "mean    2584.356643   2584.665266   2626.204297   2539.065002   2581.678345   \n",
       "std     1796.807396   1796.731660   1842.170527   1743.052412   1789.259360   \n",
       "min      526.450000    509.250000    558.000000    509.250000    529.150000   \n",
       "25%     1216.062500   1213.675000   1233.675000   1197.925000   1215.750000   \n",
       "50%     2265.675000   2265.000000   2294.300000   2232.475000   2263.275000   \n",
       "75%     3170.562500   3174.762500   3210.037500   3124.575000   3170.750000   \n",
       "max    16855.900000  16800.000000  16875.250000  16253.000000  16875.250000   \n",
       "\n",
       "              Close          VWAP        Volume      Turnover        Trades  \\\n",
       "count   5306.000000   5306.000000  5.306000e+03  5.306000e+03  2.456000e+03   \n",
       "mean    2581.885215   2582.749548  2.622813e+06  3.855758e+14  1.118490e+05   \n",
       "std     1789.462674   1792.981289  4.202984e+06  3.808224e+14  9.020307e+04   \n",
       "min      526.450000    531.330000  3.291000e+03  2.933192e+12  1.350000e+03   \n",
       "25%     1216.062500   1214.647500  7.166842e+05  2.065910e+14  5.922600e+04   \n",
       "50%     2265.575000   2262.210000  1.210798e+06  2.911119e+14  9.025650e+04   \n",
       "75%     3169.350000   3168.457500  2.784006e+06  4.335687e+14  1.354770e+05   \n",
       "max    16855.900000  16646.380000  9.043339e+07  8.323905e+15  1.643015e+06   \n",
       "\n",
       "       Deliverable Volume  %Deliverble  \n",
       "count        4.797000e+03  4797.000000  \n",
       "mean         1.574596e+06     0.536366  \n",
       "std          2.269940e+06     0.179496  \n",
       "min          4.352000e+03     0.045800  \n",
       "25%          4.074360e+05     0.455700  \n",
       "50%          8.011600e+05     0.579900  \n",
       "75%          1.986846e+06     0.663700  \n",
       "max          5.775916e+07     0.996000  "
      ]
     },
     "execution_count": 395,
     "metadata": {},
     "output_type": "execute_result"
    }
   ],
   "source": [
    "stock.describe()"
   ]
  },
  {
   "cell_type": "code",
   "execution_count": 396,
   "id": "011a47e9",
   "metadata": {},
   "outputs": [],
   "source": [
    "# Ensure we are working with a copy of the DataFrame to avoid the SettingWithCopyWarning\n",
    "stock = stock.copy()"
   ]
  },
  {
   "cell_type": "code",
   "execution_count": 397,
   "id": "7758c824",
   "metadata": {},
   "outputs": [],
   "source": [
    "# Calculate HL_Perc and CO_Perc\n",
    "stock.loc[:, 'HL_Perc'] = (stock['High'] - stock['Low']) / stock['Low'] * 100\n",
    "stock.loc[:, 'CO_Perc'] = (stock['Close'] - stock['Open']) / stock['Open'] * 100"
   ]
  },
  {
   "cell_type": "code",
   "execution_count": 398,
   "id": "0bb9c198",
   "metadata": {},
   "outputs": [],
   "source": [
    "dates = np.array(stock[\"Date\"])\n",
    "dates_check = dates[-30:]\n",
    "dates = dates[:-30]"
   ]
  },
  {
   "cell_type": "code",
   "execution_count": 399,
   "id": "07901da7",
   "metadata": {},
   "outputs": [
    {
     "data": {
      "text/plain": [
       "Index(['Date', 'Symbol', 'Series', 'Prev Close', 'Open', 'High', 'Low', 'Last',\n",
       "       'Close', 'VWAP', 'Volume', 'Turnover', 'Trades', 'Deliverable Volume',\n",
       "       '%Deliverble', 'HL_Perc', 'CO_Perc'],\n",
       "      dtype='object')"
      ]
     },
     "execution_count": 399,
     "metadata": {},
     "output_type": "execute_result"
    }
   ],
   "source": [
    "stock.columns"
   ]
  },
  {
   "cell_type": "code",
   "execution_count": 400,
   "id": "75b07f7b",
   "metadata": {},
   "outputs": [],
   "source": [
    "stock = stock[[\"HL_Perc\", \"CO_Perc\", \"Close\", \"Volume\"]]"
   ]
  },
  {
   "cell_type": "code",
   "execution_count": 401,
   "id": "772db78e",
   "metadata": {},
   "outputs": [],
   "source": [
    "#Define the label column\n",
    "stock[\"PriceNextMonth\"] = stock[\"Close\"].shift(-30)"
   ]
  },
  {
   "cell_type": "code",
   "execution_count": 402,
   "id": "79011229",
   "metadata": {},
   "outputs": [
    {
     "data": {
      "text/html": [
       "<div>\n",
       "<style scoped>\n",
       "    .dataframe tbody tr th:only-of-type {\n",
       "        vertical-align: middle;\n",
       "    }\n",
       "\n",
       "    .dataframe tbody tr th {\n",
       "        vertical-align: top;\n",
       "    }\n",
       "\n",
       "    .dataframe thead th {\n",
       "        text-align: right;\n",
       "    }\n",
       "</style>\n",
       "<table border=\"1\" class=\"dataframe\">\n",
       "  <thead>\n",
       "    <tr style=\"text-align: right;\">\n",
       "      <th></th>\n",
       "      <th>HL_Perc</th>\n",
       "      <th>CO_Perc</th>\n",
       "      <th>Close</th>\n",
       "      <th>Volume</th>\n",
       "      <th>PriceNextMonth</th>\n",
       "    </tr>\n",
       "  </thead>\n",
       "  <tbody>\n",
       "    <tr>\n",
       "      <th>5301</th>\n",
       "      <td>2.293717</td>\n",
       "      <td>0.848189</td>\n",
       "      <td>1343.55</td>\n",
       "      <td>7088606</td>\n",
       "      <td>NaN</td>\n",
       "    </tr>\n",
       "    <tr>\n",
       "      <th>5302</th>\n",
       "      <td>0.958848</td>\n",
       "      <td>0.185736</td>\n",
       "      <td>1348.50</td>\n",
       "      <td>3636115</td>\n",
       "      <td>NaN</td>\n",
       "    </tr>\n",
       "    <tr>\n",
       "      <th>5303</th>\n",
       "      <td>1.108136</td>\n",
       "      <td>-0.147275</td>\n",
       "      <td>1356.00</td>\n",
       "      <td>4879234</td>\n",
       "      <td>NaN</td>\n",
       "    </tr>\n",
       "    <tr>\n",
       "      <th>5304</th>\n",
       "      <td>1.302353</td>\n",
       "      <td>-0.851608</td>\n",
       "      <td>1356.35</td>\n",
       "      <td>5412357</td>\n",
       "      <td>NaN</td>\n",
       "    </tr>\n",
       "    <tr>\n",
       "      <th>5305</th>\n",
       "      <td>2.080392</td>\n",
       "      <td>0.597935</td>\n",
       "      <td>1354.35</td>\n",
       "      <td>8354677</td>\n",
       "      <td>NaN</td>\n",
       "    </tr>\n",
       "  </tbody>\n",
       "</table>\n",
       "</div>"
      ],
      "text/plain": [
       "       HL_Perc   CO_Perc    Close   Volume  PriceNextMonth\n",
       "5301  2.293717  0.848189  1343.55  7088606             NaN\n",
       "5302  0.958848  0.185736  1348.50  3636115             NaN\n",
       "5303  1.108136 -0.147275  1356.00  4879234             NaN\n",
       "5304  1.302353 -0.851608  1356.35  5412357             NaN\n",
       "5305  2.080392  0.597935  1354.35  8354677             NaN"
      ]
     },
     "execution_count": 402,
     "metadata": {},
     "output_type": "execute_result"
    }
   ],
   "source": [
    "stock.tail()"
   ]
  },
  {
   "cell_type": "code",
   "execution_count": 403,
   "id": "c687b99c",
   "metadata": {},
   "outputs": [
    {
     "name": "stderr",
     "output_type": "stream",
     "text": [
      "C:\\Users\\suresh\\AppData\\Local\\Temp\\ipykernel_17924\\459189850.py:2: FutureWarning: In a future version of pandas all arguments of DataFrame.drop except for the argument 'labels' will be keyword-only.\n",
      "  X = np.array(stock.drop([\"PriceNextMonth\"], 1))\n"
     ]
    }
   ],
   "source": [
    "#Make fetaure and label arrays\n",
    "X = np.array(stock.drop([\"PriceNextMonth\"], 1))\n",
    "X = preprocessing.scale(X)\n",
    "X_Check = X[-30:]\n",
    "X = X[:-30]\n",
    "stock.dropna(inplace = True)\n",
    "y = np.array(stock[\"PriceNextMonth\"])"
   ]
  },
  {
   "cell_type": "code",
   "execution_count": 404,
   "id": "381f2472",
   "metadata": {},
   "outputs": [],
   "source": [
    "#Divide the data set into training data and testing data\n",
    "X_train, X_test, y_train, y_test = train_test_split(X,y,test_size = 0.2)"
   ]
  },
  {
   "cell_type": "code",
   "execution_count": 405,
   "id": "489c08a2",
   "metadata": {},
   "outputs": [],
   "source": [
    "#Define the prediction model\n",
    "model = RandomForestRegressor()"
   ]
  },
  {
   "cell_type": "code",
   "execution_count": 406,
   "id": "74ff8cec",
   "metadata": {},
   "outputs": [
    {
     "data": {
      "text/plain": [
       "RandomForestRegressor()"
      ]
     },
     "execution_count": 406,
     "metadata": {},
     "output_type": "execute_result"
    }
   ],
   "source": [
    "#Fit the model using training data\n",
    "model.fit(X_train, y_train)"
   ]
  },
  {
   "cell_type": "code",
   "execution_count": 407,
   "id": "520c0372",
   "metadata": {},
   "outputs": [
    {
     "name": "stdout",
     "output_type": "stream",
     "text": [
      "0.8999777396120759\n"
     ]
    }
   ],
   "source": [
    "#Calculate the confidence value by applying the model to testing data\n",
    "conf = model.score(X_test, y_test)\n",
    "print(conf)"
   ]
  },
  {
   "cell_type": "code",
   "execution_count": 408,
   "id": "b9381393",
   "metadata": {},
   "outputs": [
    {
     "data": {
      "text/plain": [
       "RandomForestRegressor()"
      ]
     },
     "execution_count": 408,
     "metadata": {},
     "output_type": "execute_result"
    }
   ],
   "source": [
    "#Fit the model again using the whole data set\n",
    "model.fit(X,y)"
   ]
  },
  {
   "cell_type": "code",
   "execution_count": 409,
   "id": "4990c67a",
   "metadata": {},
   "outputs": [],
   "source": [
    "predictions = model.predict(X_Check)"
   ]
  },
  {
   "cell_type": "code",
   "execution_count": 410,
   "id": "c0d5a9e2",
   "metadata": {},
   "outputs": [],
   "source": [
    "#Make the final DataFrame containing Dates, ClosePrices, and Forecast values\n",
    "actual = pd.DataFrame(dates, columns = [\"Date\"])\n",
    "actual[\"ClosePrice\"] = stock[\"Close\"]\n",
    "actual[\"Forecast\"] = np.nan\n",
    "actual.set_index(\"Date\", inplace = True)\n",
    "forecast = pd.DataFrame(dates_check, columns=[\"Date\"])\n",
    "forecast[\"Forecast\"] = predictions\n",
    "forecast[\"ClosePrice\"] = np.nan\n",
    "forecast.set_index(\"Date\", inplace = True)\n",
    "var = [actual, forecast]\n",
    "result = pd.concat(var)  #This is the final DataFrame"
   ]
  },
  {
   "cell_type": "code",
   "execution_count": 411,
   "id": "45722829",
   "metadata": {},
   "outputs": [
    {
     "data": {
      "text/plain": [
       "Text(0, 0.5, 'Price')"
      ]
     },
     "execution_count": 411,
     "metadata": {},
     "output_type": "execute_result"
    },
    {
     "data": {
      "image/png": "[encoded data removed]",
      "text/plain": [
       "<Figure size 2000x1000 with 1 Axes>"
      ]
     },
     "metadata": {},
     "output_type": "display_data"
    }
   ],
   "source": [
    "#Plot the final results\n",
    "result.plot(figsize=(20,10), linewidth=1.5)\n",
    "plt.legend(loc=2, prop={'size':20})\n",
    "plt.xlabel('Date')\n",
    "plt.ylabel('Price')"
   ]
  },
  {
   "cell_type": "code",
   "execution_count": null,
   "id": "e099aee8",
   "metadata": {},
   "outputs": [],
   "source": []
  },
  {
   "cell_type": "code",
   "execution_count": null,
   "id": "2b687fe4",
   "metadata": {},
   "outputs": [],
   "source": []
  }
 ],
 "metadata": {
  "kernelspec": {
   "display_name": "Python 3 (ipykernel)",
   "language": "python",
   "name": "python3"
  },
  "language_info": {
   "codemirror_mode": {
    "name": "ipython",
    "version": 3
   },
   "file_extension": ".py",
   "mimetype": "text/x-python",
   "name": "python",
   "nbconvert_exporter": "python",
   "pygments_lexer": "ipython3",
   "version": "3.9.13"
  }
 },
 "nbformat": 4,
 "nbformat_minor": 5
}
