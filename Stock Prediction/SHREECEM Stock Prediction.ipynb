{
 "cells": [
  {
   "cell_type": "code",
   "execution_count": 2,
   "id": "5a20ead1",
   "metadata": {},
   "outputs": [],
   "source": [
    "#Import the libraries\n",
    "import pandas as pd \n",
    "import numpy as np \n",
    "import matplotlib.pyplot as plt \n",
    "from sklearn import preprocessing\n",
    "from sklearn.ensemble import RandomForestRegressor\n",
    "from sklearn.model_selection import train_test_split\n",
    "from sklearn.metrics import mean_absolute_error, r2_score"
   ]
  },
  {
   "cell_type": "code",
   "execution_count": 243,
   "id": "1ebabd9c",
   "metadata": {},
   "outputs": [],
   "source": [
    "stock = pd.read_csv(\"C:/Users/suresh/Desktop/PYTHON ML DATA SCIENCE/Stock Prediction/Stock Data/SHREECEM.csv\")"
   ]
  },
  {
   "cell_type": "code",
   "execution_count": 244,
   "id": "b4a873d4",
   "metadata": {},
   "outputs": [
    {
     "data": {
      "text/html": [
       "<div>\n",
       "<style scoped>\n",
       "    .dataframe tbody tr th:only-of-type {\n",
       "        vertical-align: middle;\n",
       "    }\n",
       "\n",
       "    .dataframe tbody tr th {\n",
       "        vertical-align: top;\n",
       "    }\n",
       "\n",
       "    .dataframe thead th {\n",
       "        text-align: right;\n",
       "    }\n",
       "</style>\n",
       "<table border=\"1\" class=\"dataframe\">\n",
       "  <thead>\n",
       "    <tr style=\"text-align: right;\">\n",
       "      <th></th>\n",
       "      <th>Date</th>\n",
       "      <th>Symbol</th>\n",
       "      <th>Series</th>\n",
       "      <th>Prev Close</th>\n",
       "      <th>Open</th>\n",
       "      <th>High</th>\n",
       "      <th>Low</th>\n",
       "      <th>Last</th>\n",
       "      <th>Close</th>\n",
       "      <th>VWAP</th>\n",
       "      <th>Volume</th>\n",
       "      <th>Turnover</th>\n",
       "      <th>Trades</th>\n",
       "      <th>Deliverable Volume</th>\n",
       "      <th>%Deliverble</th>\n",
       "    </tr>\n",
       "  </thead>\n",
       "  <tbody>\n",
       "    <tr>\n",
       "      <th>0</th>\n",
       "      <td>2000-01-03</td>\n",
       "      <td>SHREECEM</td>\n",
       "      <td>EQ</td>\n",
       "      <td>63.50</td>\n",
       "      <td>68.0</td>\n",
       "      <td>68.00</td>\n",
       "      <td>63.05</td>\n",
       "      <td>63.60</td>\n",
       "      <td>64.75</td>\n",
       "      <td>65.13</td>\n",
       "      <td>30530</td>\n",
       "      <td>1.988420e+11</td>\n",
       "      <td>NaN</td>\n",
       "      <td>NaN</td>\n",
       "      <td>NaN</td>\n",
       "    </tr>\n",
       "    <tr>\n",
       "      <th>1</th>\n",
       "      <td>2000-01-04</td>\n",
       "      <td>SHREECEM</td>\n",
       "      <td>EQ</td>\n",
       "      <td>64.75</td>\n",
       "      <td>65.6</td>\n",
       "      <td>66.00</td>\n",
       "      <td>59.60</td>\n",
       "      <td>59.60</td>\n",
       "      <td>59.85</td>\n",
       "      <td>60.70</td>\n",
       "      <td>23525</td>\n",
       "      <td>1.427920e+11</td>\n",
       "      <td>NaN</td>\n",
       "      <td>NaN</td>\n",
       "      <td>NaN</td>\n",
       "    </tr>\n",
       "    <tr>\n",
       "      <th>2</th>\n",
       "      <td>2000-01-05</td>\n",
       "      <td>SHREECEM</td>\n",
       "      <td>EQ</td>\n",
       "      <td>59.85</td>\n",
       "      <td>59.1</td>\n",
       "      <td>61.00</td>\n",
       "      <td>59.00</td>\n",
       "      <td>60.00</td>\n",
       "      <td>60.00</td>\n",
       "      <td>60.03</td>\n",
       "      <td>23535</td>\n",
       "      <td>1.412922e+11</td>\n",
       "      <td>NaN</td>\n",
       "      <td>NaN</td>\n",
       "      <td>NaN</td>\n",
       "    </tr>\n",
       "    <tr>\n",
       "      <th>3</th>\n",
       "      <td>2000-01-06</td>\n",
       "      <td>SHREECEM</td>\n",
       "      <td>EQ</td>\n",
       "      <td>60.00</td>\n",
       "      <td>58.1</td>\n",
       "      <td>62.00</td>\n",
       "      <td>58.10</td>\n",
       "      <td>60.65</td>\n",
       "      <td>60.60</td>\n",
       "      <td>60.52</td>\n",
       "      <td>8931</td>\n",
       "      <td>5.404982e+10</td>\n",
       "      <td>NaN</td>\n",
       "      <td>NaN</td>\n",
       "      <td>NaN</td>\n",
       "    </tr>\n",
       "    <tr>\n",
       "      <th>4</th>\n",
       "      <td>2000-01-07</td>\n",
       "      <td>SHREECEM</td>\n",
       "      <td>EQ</td>\n",
       "      <td>60.60</td>\n",
       "      <td>60.0</td>\n",
       "      <td>61.95</td>\n",
       "      <td>57.05</td>\n",
       "      <td>60.60</td>\n",
       "      <td>60.45</td>\n",
       "      <td>60.21</td>\n",
       "      <td>5115</td>\n",
       "      <td>3.079580e+10</td>\n",
       "      <td>NaN</td>\n",
       "      <td>NaN</td>\n",
       "      <td>NaN</td>\n",
       "    </tr>\n",
       "  </tbody>\n",
       "</table>\n",
       "</div>"
      ],
      "text/plain": [
       "         Date    Symbol Series  Prev Close  Open   High    Low   Last  Close  \\\n",
       "0  2000-01-03  SHREECEM     EQ       63.50  68.0  68.00  63.05  63.60  64.75   \n",
       "1  2000-01-04  SHREECEM     EQ       64.75  65.6  66.00  59.60  59.60  59.85   \n",
       "2  2000-01-05  SHREECEM     EQ       59.85  59.1  61.00  59.00  60.00  60.00   \n",
       "3  2000-01-06  SHREECEM     EQ       60.00  58.1  62.00  58.10  60.65  60.60   \n",
       "4  2000-01-07  SHREECEM     EQ       60.60  60.0  61.95  57.05  60.60  60.45   \n",
       "\n",
       "    VWAP  Volume      Turnover  Trades  Deliverable Volume  %Deliverble  \n",
       "0  65.13   30530  1.988420e+11     NaN                 NaN          NaN  \n",
       "1  60.70   23525  1.427920e+11     NaN                 NaN          NaN  \n",
       "2  60.03   23535  1.412922e+11     NaN                 NaN          NaN  \n",
       "3  60.52    8931  5.404982e+10     NaN                 NaN          NaN  \n",
       "4  60.21    5115  3.079580e+10     NaN                 NaN          NaN  "
      ]
     },
     "execution_count": 244,
     "metadata": {},
     "output_type": "execute_result"
    }
   ],
   "source": [
    "stock.head()"
   ]
  },
  {
   "cell_type": "code",
   "execution_count": 245,
   "id": "564201f0",
   "metadata": {},
   "outputs": [
    {
     "name": "stdout",
     "output_type": "stream",
     "text": [
      "<class 'pandas.core.frame.DataFrame'>\n",
      "RangeIndex: 4985 entries, 0 to 4984\n",
      "Data columns (total 15 columns):\n",
      " #   Column              Non-Null Count  Dtype  \n",
      "---  ------              --------------  -----  \n",
      " 0   Date                4985 non-null   object \n",
      " 1   Symbol              4985 non-null   object \n",
      " 2   Series              4985 non-null   object \n",
      " 3   Prev Close          4985 non-null   float64\n",
      " 4   Open                4985 non-null   float64\n",
      " 5   High                4985 non-null   float64\n",
      " 6   Low                 4985 non-null   float64\n",
      " 7   Last                4985 non-null   float64\n",
      " 8   Close               4985 non-null   float64\n",
      " 9   VWAP                4985 non-null   float64\n",
      " 10  Volume              4985 non-null   int64  \n",
      " 11  Turnover            4985 non-null   float64\n",
      " 12  Trades              2456 non-null   float64\n",
      " 13  Deliverable Volume  4797 non-null   float64\n",
      " 14  %Deliverble         4797 non-null   float64\n",
      "dtypes: float64(11), int64(1), object(3)\n",
      "memory usage: 584.3+ KB\n"
     ]
    }
   ],
   "source": [
    "stock.info()"
   ]
  },
  {
   "cell_type": "code",
   "execution_count": 246,
   "id": "c9d711dd",
   "metadata": {},
   "outputs": [
    {
     "data": {
      "text/html": [
       "<div>\n",
       "<style scoped>\n",
       "    .dataframe tbody tr th:only-of-type {\n",
       "        vertical-align: middle;\n",
       "    }\n",
       "\n",
       "    .dataframe tbody tr th {\n",
       "        vertical-align: top;\n",
       "    }\n",
       "\n",
       "    .dataframe thead th {\n",
       "        text-align: right;\n",
       "    }\n",
       "</style>\n",
       "<table border=\"1\" class=\"dataframe\">\n",
       "  <thead>\n",
       "    <tr style=\"text-align: right;\">\n",
       "      <th></th>\n",
       "      <th>Prev Close</th>\n",
       "      <th>Open</th>\n",
       "      <th>High</th>\n",
       "      <th>Low</th>\n",
       "      <th>Last</th>\n",
       "      <th>Close</th>\n",
       "      <th>VWAP</th>\n",
       "      <th>Volume</th>\n",
       "      <th>Turnover</th>\n",
       "      <th>Trades</th>\n",
       "      <th>Deliverable Volume</th>\n",
       "      <th>%Deliverble</th>\n",
       "    </tr>\n",
       "  </thead>\n",
       "  <tbody>\n",
       "    <tr>\n",
       "      <th>count</th>\n",
       "      <td>4985.000000</td>\n",
       "      <td>4985.000000</td>\n",
       "      <td>4985.000000</td>\n",
       "      <td>4985.000000</td>\n",
       "      <td>4985.000000</td>\n",
       "      <td>4985.000000</td>\n",
       "      <td>4985.000000</td>\n",
       "      <td>4985.000000</td>\n",
       "      <td>4.985000e+03</td>\n",
       "      <td>2456.000000</td>\n",
       "      <td>4797.000000</td>\n",
       "      <td>4797.000000</td>\n",
       "    </tr>\n",
       "    <tr>\n",
       "      <th>mean</th>\n",
       "      <td>6560.222558</td>\n",
       "      <td>6568.513631</td>\n",
       "      <td>6674.386610</td>\n",
       "      <td>6458.761444</td>\n",
       "      <td>6563.195707</td>\n",
       "      <td>6565.809539</td>\n",
       "      <td>6565.083878</td>\n",
       "      <td>25074.952457</td>\n",
       "      <td>1.975722e+13</td>\n",
       "      <td>5981.912052</td>\n",
       "      <td>16604.085470</td>\n",
       "      <td>0.682339</td>\n",
       "    </tr>\n",
       "    <tr>\n",
       "      <th>std</th>\n",
       "      <td>7784.884253</td>\n",
       "      <td>7794.307466</td>\n",
       "      <td>7910.060252</td>\n",
       "      <td>7671.428642</td>\n",
       "      <td>7786.586149</td>\n",
       "      <td>7790.209999</td>\n",
       "      <td>7789.193050</td>\n",
       "      <td>35791.814726</td>\n",
       "      <td>4.763395e+13</td>\n",
       "      <td>6763.904072</td>\n",
       "      <td>26521.249881</td>\n",
       "      <td>0.186962</td>\n",
       "    </tr>\n",
       "    <tr>\n",
       "      <th>min</th>\n",
       "      <td>24.100000</td>\n",
       "      <td>24.750000</td>\n",
       "      <td>26.000000</td>\n",
       "      <td>22.500000</td>\n",
       "      <td>24.500000</td>\n",
       "      <td>24.100000</td>\n",
       "      <td>25.050000</td>\n",
       "      <td>27.000000</td>\n",
       "      <td>8.845000e+07</td>\n",
       "      <td>11.000000</td>\n",
       "      <td>5.000000</td>\n",
       "      <td>0.053900</td>\n",
       "    </tr>\n",
       "    <tr>\n",
       "      <th>25%</th>\n",
       "      <td>499.800000</td>\n",
       "      <td>498.650000</td>\n",
       "      <td>510.000000</td>\n",
       "      <td>485.000000</td>\n",
       "      <td>499.900000</td>\n",
       "      <td>499.800000</td>\n",
       "      <td>497.290000</td>\n",
       "      <td>6388.000000</td>\n",
       "      <td>4.267110e+11</td>\n",
       "      <td>1430.750000</td>\n",
       "      <td>4248.000000</td>\n",
       "      <td>0.567400</td>\n",
       "    </tr>\n",
       "    <tr>\n",
       "      <th>50%</th>\n",
       "      <td>2023.700000</td>\n",
       "      <td>2025.000000</td>\n",
       "      <td>2058.900000</td>\n",
       "      <td>1997.000000</td>\n",
       "      <td>2025.000000</td>\n",
       "      <td>2024.800000</td>\n",
       "      <td>2024.600000</td>\n",
       "      <td>14276.000000</td>\n",
       "      <td>2.378774e+12</td>\n",
       "      <td>3848.500000</td>\n",
       "      <td>9431.000000</td>\n",
       "      <td>0.702500</td>\n",
       "    </tr>\n",
       "    <tr>\n",
       "      <th>75%</th>\n",
       "      <td>12642.200000</td>\n",
       "      <td>12694.950000</td>\n",
       "      <td>12930.000000</td>\n",
       "      <td>12405.500000</td>\n",
       "      <td>12700.000000</td>\n",
       "      <td>12668.250000</td>\n",
       "      <td>12672.420000</td>\n",
       "      <td>29509.000000</td>\n",
       "      <td>1.712514e+13</td>\n",
       "      <td>7798.250000</td>\n",
       "      <td>19156.000000</td>\n",
       "      <td>0.823900</td>\n",
       "    </tr>\n",
       "    <tr>\n",
       "      <th>max</th>\n",
       "      <td>31748.750000</td>\n",
       "      <td>31682.400000</td>\n",
       "      <td>32048.000000</td>\n",
       "      <td>31120.000000</td>\n",
       "      <td>31680.000000</td>\n",
       "      <td>31748.750000</td>\n",
       "      <td>31573.090000</td>\n",
       "      <td>856719.000000</td>\n",
       "      <td>9.657568e+14</td>\n",
       "      <td>79868.000000</td>\n",
       "      <td>676123.000000</td>\n",
       "      <td>1.000000</td>\n",
       "    </tr>\n",
       "  </tbody>\n",
       "</table>\n",
       "</div>"
      ],
      "text/plain": [
       "         Prev Close          Open          High           Low          Last  \\\n",
       "count   4985.000000   4985.000000   4985.000000   4985.000000   4985.000000   \n",
       "mean    6560.222558   6568.513631   6674.386610   6458.761444   6563.195707   \n",
       "std     7784.884253   7794.307466   7910.060252   7671.428642   7786.586149   \n",
       "min       24.100000     24.750000     26.000000     22.500000     24.500000   \n",
       "25%      499.800000    498.650000    510.000000    485.000000    499.900000   \n",
       "50%     2023.700000   2025.000000   2058.900000   1997.000000   2025.000000   \n",
       "75%    12642.200000  12694.950000  12930.000000  12405.500000  12700.000000   \n",
       "max    31748.750000  31682.400000  32048.000000  31120.000000  31680.000000   \n",
       "\n",
       "              Close          VWAP         Volume      Turnover        Trades  \\\n",
       "count   4985.000000   4985.000000    4985.000000  4.985000e+03   2456.000000   \n",
       "mean    6565.809539   6565.083878   25074.952457  1.975722e+13   5981.912052   \n",
       "std     7790.209999   7789.193050   35791.814726  4.763395e+13   6763.904072   \n",
       "min       24.100000     25.050000      27.000000  8.845000e+07     11.000000   \n",
       "25%      499.800000    497.290000    6388.000000  4.267110e+11   1430.750000   \n",
       "50%     2024.800000   2024.600000   14276.000000  2.378774e+12   3848.500000   \n",
       "75%    12668.250000  12672.420000   29509.000000  1.712514e+13   7798.250000   \n",
       "max    31748.750000  31573.090000  856719.000000  9.657568e+14  79868.000000   \n",
       "\n",
       "       Deliverable Volume  %Deliverble  \n",
       "count         4797.000000  4797.000000  \n",
       "mean         16604.085470     0.682339  \n",
       "std          26521.249881     0.186962  \n",
       "min              5.000000     0.053900  \n",
       "25%           4248.000000     0.567400  \n",
       "50%           9431.000000     0.702500  \n",
       "75%          19156.000000     0.823900  \n",
       "max         676123.000000     1.000000  "
      ]
     },
     "execution_count": 246,
     "metadata": {},
     "output_type": "execute_result"
    }
   ],
   "source": [
    "stock.describe()"
   ]
  },
  {
   "cell_type": "code",
   "execution_count": 247,
   "id": "011a47e9",
   "metadata": {},
   "outputs": [],
   "source": [
    "# Ensure we are working with a copy of the DataFrame to avoid the SettingWithCopyWarning\n",
    "stock = stock.copy()"
   ]
  },
  {
   "cell_type": "code",
   "execution_count": 248,
   "id": "7758c824",
   "metadata": {},
   "outputs": [],
   "source": [
    "# Calculate HL_Perc and CO_Perc\n",
    "stock.loc[:, 'HL_Perc'] = (stock['High'] - stock['Low']) / stock['Low'] * 100\n",
    "stock.loc[:, 'CO_Perc'] = (stock['Close'] - stock['Open']) / stock['Open'] * 100"
   ]
  },
  {
   "cell_type": "code",
   "execution_count": 249,
   "id": "0bb9c198",
   "metadata": {},
   "outputs": [],
   "source": [
    "dates = np.array(stock[\"Date\"])\n",
    "dates_check = dates[-30:]\n",
    "dates = dates[:-30]"
   ]
  },
  {
   "cell_type": "code",
   "execution_count": 250,
   "id": "07901da7",
   "metadata": {},
   "outputs": [
    {
     "data": {
      "text/plain": [
       "Index(['Date', 'Symbol', 'Series', 'Prev Close', 'Open', 'High', 'Low', 'Last',\n",
       "       'Close', 'VWAP', 'Volume', 'Turnover', 'Trades', 'Deliverable Volume',\n",
       "       '%Deliverble', 'HL_Perc', 'CO_Perc'],\n",
       "      dtype='object')"
      ]
     },
     "execution_count": 250,
     "metadata": {},
     "output_type": "execute_result"
    }
   ],
   "source": [
    "stock.columns"
   ]
  },
  {
   "cell_type": "code",
   "execution_count": 251,
   "id": "75b07f7b",
   "metadata": {},
   "outputs": [],
   "source": [
    "stock = stock[[\"HL_Perc\", \"CO_Perc\", \"Close\", \"Volume\"]]"
   ]
  },
  {
   "cell_type": "code",
   "execution_count": 252,
   "id": "772db78e",
   "metadata": {},
   "outputs": [],
   "source": [
    "#Define the label column\n",
    "stock[\"PriceNextMonth\"] = stock[\"Close\"].shift(-30)"
   ]
  },
  {
   "cell_type": "code",
   "execution_count": 253,
   "id": "79011229",
   "metadata": {},
   "outputs": [
    {
     "data": {
      "text/html": [
       "<div>\n",
       "<style scoped>\n",
       "    .dataframe tbody tr th:only-of-type {\n",
       "        vertical-align: middle;\n",
       "    }\n",
       "\n",
       "    .dataframe tbody tr th {\n",
       "        vertical-align: top;\n",
       "    }\n",
       "\n",
       "    .dataframe thead th {\n",
       "        text-align: right;\n",
       "    }\n",
       "</style>\n",
       "<table border=\"1\" class=\"dataframe\">\n",
       "  <thead>\n",
       "    <tr style=\"text-align: right;\">\n",
       "      <th></th>\n",
       "      <th>HL_Perc</th>\n",
       "      <th>CO_Perc</th>\n",
       "      <th>Close</th>\n",
       "      <th>Volume</th>\n",
       "      <th>PriceNextMonth</th>\n",
       "    </tr>\n",
       "  </thead>\n",
       "  <tbody>\n",
       "    <tr>\n",
       "      <th>4980</th>\n",
       "      <td>1.764156</td>\n",
       "      <td>-0.659846</td>\n",
       "      <td>28062.60</td>\n",
       "      <td>40346</td>\n",
       "      <td>NaN</td>\n",
       "    </tr>\n",
       "    <tr>\n",
       "      <th>4981</th>\n",
       "      <td>1.287323</td>\n",
       "      <td>-0.309199</td>\n",
       "      <td>28098.55</td>\n",
       "      <td>31369</td>\n",
       "      <td>NaN</td>\n",
       "    </tr>\n",
       "    <tr>\n",
       "      <th>4982</th>\n",
       "      <td>2.404902</td>\n",
       "      <td>1.801100</td>\n",
       "      <td>28687.55</td>\n",
       "      <td>33961</td>\n",
       "      <td>NaN</td>\n",
       "    </tr>\n",
       "    <tr>\n",
       "      <th>4983</th>\n",
       "      <td>2.834042</td>\n",
       "      <td>-0.894392</td>\n",
       "      <td>28444.35</td>\n",
       "      <td>47589</td>\n",
       "      <td>NaN</td>\n",
       "    </tr>\n",
       "    <tr>\n",
       "      <th>4984</th>\n",
       "      <td>2.244666</td>\n",
       "      <td>-1.515526</td>\n",
       "      <td>27910.50</td>\n",
       "      <td>32147</td>\n",
       "      <td>NaN</td>\n",
       "    </tr>\n",
       "  </tbody>\n",
       "</table>\n",
       "</div>"
      ],
      "text/plain": [
       "       HL_Perc   CO_Perc     Close  Volume  PriceNextMonth\n",
       "4980  1.764156 -0.659846  28062.60   40346             NaN\n",
       "4981  1.287323 -0.309199  28098.55   31369             NaN\n",
       "4982  2.404902  1.801100  28687.55   33961             NaN\n",
       "4983  2.834042 -0.894392  28444.35   47589             NaN\n",
       "4984  2.244666 -1.515526  27910.50   32147             NaN"
      ]
     },
     "execution_count": 253,
     "metadata": {},
     "output_type": "execute_result"
    }
   ],
   "source": [
    "stock.tail()"
   ]
  },
  {
   "cell_type": "code",
   "execution_count": 254,
   "id": "c687b99c",
   "metadata": {},
   "outputs": [
    {
     "name": "stderr",
     "output_type": "stream",
     "text": [
      "C:\\Users\\suresh\\AppData\\Local\\Temp\\ipykernel_9868\\459189850.py:2: FutureWarning: In a future version of pandas all arguments of DataFrame.drop except for the argument 'labels' will be keyword-only.\n",
      "  X = np.array(stock.drop([\"PriceNextMonth\"], 1))\n"
     ]
    }
   ],
   "source": [
    "#Make fetaure and label arrays\n",
    "X = np.array(stock.drop([\"PriceNextMonth\"], 1))\n",
    "X = preprocessing.scale(X)\n",
    "X_Check = X[-30:]\n",
    "X = X[:-30]\n",
    "stock.dropna(inplace = True)\n",
    "y = np.array(stock[\"PriceNextMonth\"])"
   ]
  },
  {
   "cell_type": "code",
   "execution_count": 255,
   "id": "381f2472",
   "metadata": {},
   "outputs": [],
   "source": [
    "#Divide the data set into training data and testing data\n",
    "X_train, X_test, y_train, y_test = train_test_split(X,y,test_size = 0.2)"
   ]
  },
  {
   "cell_type": "code",
   "execution_count": 256,
   "id": "489c08a2",
   "metadata": {},
   "outputs": [],
   "source": [
    "#Define the prediction model\n",
    "model = RandomForestRegressor()"
   ]
  },
  {
   "cell_type": "code",
   "execution_count": 257,
   "id": "74ff8cec",
   "metadata": {},
   "outputs": [
    {
     "data": {
      "text/plain": [
       "RandomForestRegressor()"
      ]
     },
     "execution_count": 257,
     "metadata": {},
     "output_type": "execute_result"
    }
   ],
   "source": [
    "#Fit the model using training data\n",
    "model.fit(X_train, y_train)"
   ]
  },
  {
   "cell_type": "code",
   "execution_count": 258,
   "id": "520c0372",
   "metadata": {},
   "outputs": [
    {
     "name": "stdout",
     "output_type": "stream",
     "text": [
      "0.98637136438139\n"
     ]
    }
   ],
   "source": [
    "#Calculate the confidence value by applying the model to testing data\n",
    "conf = model.score(X_test, y_test)\n",
    "print(conf)"
   ]
  },
  {
   "cell_type": "code",
   "execution_count": 259,
   "id": "b9381393",
   "metadata": {},
   "outputs": [
    {
     "data": {
      "text/plain": [
       "RandomForestRegressor()"
      ]
     },
     "execution_count": 259,
     "metadata": {},
     "output_type": "execute_result"
    }
   ],
   "source": [
    "#Fit the model again using the whole data set\n",
    "model.fit(X,y)"
   ]
  },
  {
   "cell_type": "code",
   "execution_count": 260,
   "id": "4990c67a",
   "metadata": {},
   "outputs": [],
   "source": [
    "predictions = model.predict(X_Check)"
   ]
  },
  {
   "cell_type": "code",
   "execution_count": 261,
   "id": "c0d5a9e2",
   "metadata": {},
   "outputs": [],
   "source": [
    "#Make the final DataFrame containing Dates, ClosePrices, and Forecast values\n",
    "actual = pd.DataFrame(dates, columns = [\"Date\"])\n",
    "actual[\"ClosePrice\"] = stock[\"Close\"]\n",
    "actual[\"Forecast\"] = np.nan\n",
    "actual.set_index(\"Date\", inplace = True)\n",
    "forecast = pd.DataFrame(dates_check, columns=[\"Date\"])\n",
    "forecast[\"Forecast\"] = predictions\n",
    "forecast[\"ClosePrice\"] = np.nan\n",
    "forecast.set_index(\"Date\", inplace = True)\n",
    "var = [actual, forecast]\n",
    "result = pd.concat(var)  #This is the final DataFrame"
   ]
  },
  {
   "cell_type": "code",
   "execution_count": 262,
   "id": "45722829",
   "metadata": {},
   "outputs": [
    {
     "data": {
      "text/plain": [
       "Text(0, 0.5, 'Price')"
      ]
     },
     "execution_count": 262,
     "metadata": {},
     "output_type": "execute_result"
    },
    {
     "data": {
      "image/png": "[encoded data removed]",
      "text/plain": [
       "<Figure size 2000x1000 with 1 Axes>"
      ]
     },
     "metadata": {},
     "output_type": "display_data"
    }
   ],
   "source": [
    "#Plot the final results\n",
    "result.plot(figsize=(20,10), linewidth=1.5)\n",
    "plt.legend(loc=2, prop={'size':20})\n",
    "plt.xlabel('Date')\n",
    "plt.ylabel('Price')"
   ]
  },
  {
   "cell_type": "code",
   "execution_count": null,
   "id": "e099aee8",
   "metadata": {},
   "outputs": [],
   "source": []
  },
  {
   "cell_type": "code",
   "execution_count": null,
   "id": "9f8c7a22",
   "metadata": {},
   "outputs": [],
   "source": []
  }
 ],
 "metadata": {
  "kernelspec": {
   "display_name": "Python 3 (ipykernel)",
   "language": "python",
   "name": "python3"
  },
  "language_info": {
   "codemirror_mode": {
    "name": "ipython",
    "version": 3
   },
   "file_extension": ".py",
   "mimetype": "text/x-python",
   "name": "python",
   "nbconvert_exporter": "python",
   "pygments_lexer": "ipython3",
   "version": "3.9.13"
  }
 },
 "nbformat": 4,
 "nbformat_minor": 5
}
