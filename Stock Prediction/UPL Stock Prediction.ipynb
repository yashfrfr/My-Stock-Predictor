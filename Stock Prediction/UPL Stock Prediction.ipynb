{
 "cells": [
  {
   "cell_type": "code",
   "execution_count": 2,
   "id": "5a20ead1",
   "metadata": {},
   "outputs": [],
   "source": [
    "#Import the libraries\n",
    "import pandas as pd \n",
    "import numpy as np \n",
    "import matplotlib.pyplot as plt \n",
    "from sklearn import preprocessing\n",
    "from sklearn.ensemble import RandomForestRegressor\n",
    "from sklearn.model_selection import train_test_split\n",
    "from sklearn.metrics import mean_absolute_error, r2_score"
   ]
  },
  {
   "cell_type": "code",
   "execution_count": 183,
   "id": "1ebabd9c",
   "metadata": {},
   "outputs": [],
   "source": [
    "stock = pd.read_csv(\"C:/Users/suresh/Desktop/PYTHON ML DATA SCIENCE/Stock Prediction/Stock Data/UPL.csv\")"
   ]
  },
  {
   "cell_type": "code",
   "execution_count": 184,
   "id": "b4a873d4",
   "metadata": {},
   "outputs": [
    {
     "data": {
      "text/html": [
       "<div>\n",
       "<style scoped>\n",
       "    .dataframe tbody tr th:only-of-type {\n",
       "        vertical-align: middle;\n",
       "    }\n",
       "\n",
       "    .dataframe tbody tr th {\n",
       "        vertical-align: top;\n",
       "    }\n",
       "\n",
       "    .dataframe thead th {\n",
       "        text-align: right;\n",
       "    }\n",
       "</style>\n",
       "<table border=\"1\" class=\"dataframe\">\n",
       "  <thead>\n",
       "    <tr style=\"text-align: right;\">\n",
       "      <th></th>\n",
       "      <th>Date</th>\n",
       "      <th>Symbol</th>\n",
       "      <th>Series</th>\n",
       "      <th>Prev Close</th>\n",
       "      <th>Open</th>\n",
       "      <th>High</th>\n",
       "      <th>Low</th>\n",
       "      <th>Last</th>\n",
       "      <th>Close</th>\n",
       "      <th>VWAP</th>\n",
       "      <th>Volume</th>\n",
       "      <th>Turnover</th>\n",
       "      <th>Trades</th>\n",
       "      <th>Deliverable Volume</th>\n",
       "      <th>%Deliverble</th>\n",
       "    </tr>\n",
       "  </thead>\n",
       "  <tbody>\n",
       "    <tr>\n",
       "      <th>0</th>\n",
       "      <td>2004-01-23</td>\n",
       "      <td>UNIPHOS</td>\n",
       "      <td>EQ</td>\n",
       "      <td>10.00</td>\n",
       "      <td>100.0</td>\n",
       "      <td>560.0</td>\n",
       "      <td>100.0</td>\n",
       "      <td>555.1</td>\n",
       "      <td>553.80</td>\n",
       "      <td>483.69</td>\n",
       "      <td>73629</td>\n",
       "      <td>3.561361e+12</td>\n",
       "      <td>NaN</td>\n",
       "      <td>52799.0</td>\n",
       "      <td>0.7171</td>\n",
       "    </tr>\n",
       "    <tr>\n",
       "      <th>1</th>\n",
       "      <td>2004-01-27</td>\n",
       "      <td>UNIPHOS</td>\n",
       "      <td>EQ</td>\n",
       "      <td>553.80</td>\n",
       "      <td>570.0</td>\n",
       "      <td>570.0</td>\n",
       "      <td>525.0</td>\n",
       "      <td>530.1</td>\n",
       "      <td>540.35</td>\n",
       "      <td>540.77</td>\n",
       "      <td>26737</td>\n",
       "      <td>1.445851e+12</td>\n",
       "      <td>NaN</td>\n",
       "      <td>17314.0</td>\n",
       "      <td>0.6476</td>\n",
       "    </tr>\n",
       "    <tr>\n",
       "      <th>2</th>\n",
       "      <td>2004-01-28</td>\n",
       "      <td>UNIPHOS</td>\n",
       "      <td>EQ</td>\n",
       "      <td>540.35</td>\n",
       "      <td>530.0</td>\n",
       "      <td>565.0</td>\n",
       "      <td>511.0</td>\n",
       "      <td>542.0</td>\n",
       "      <td>538.85</td>\n",
       "      <td>542.24</td>\n",
       "      <td>32155</td>\n",
       "      <td>1.743569e+12</td>\n",
       "      <td>NaN</td>\n",
       "      <td>23285.0</td>\n",
       "      <td>0.7241</td>\n",
       "    </tr>\n",
       "    <tr>\n",
       "      <th>3</th>\n",
       "      <td>2004-01-29</td>\n",
       "      <td>UNIPHOS</td>\n",
       "      <td>EQ</td>\n",
       "      <td>538.85</td>\n",
       "      <td>530.0</td>\n",
       "      <td>543.5</td>\n",
       "      <td>504.0</td>\n",
       "      <td>517.0</td>\n",
       "      <td>515.10</td>\n",
       "      <td>529.23</td>\n",
       "      <td>19074</td>\n",
       "      <td>1.009447e+12</td>\n",
       "      <td>NaN</td>\n",
       "      <td>12935.0</td>\n",
       "      <td>0.6781</td>\n",
       "    </tr>\n",
       "    <tr>\n",
       "      <th>4</th>\n",
       "      <td>2004-01-30</td>\n",
       "      <td>UNIPHOS</td>\n",
       "      <td>EQ</td>\n",
       "      <td>515.10</td>\n",
       "      <td>519.0</td>\n",
       "      <td>519.0</td>\n",
       "      <td>471.4</td>\n",
       "      <td>485.0</td>\n",
       "      <td>482.95</td>\n",
       "      <td>485.85</td>\n",
       "      <td>23807</td>\n",
       "      <td>1.156659e+12</td>\n",
       "      <td>NaN</td>\n",
       "      <td>12750.0</td>\n",
       "      <td>0.5356</td>\n",
       "    </tr>\n",
       "  </tbody>\n",
       "</table>\n",
       "</div>"
      ],
      "text/plain": [
       "         Date   Symbol Series  Prev Close   Open   High    Low   Last   Close  \\\n",
       "0  2004-01-23  UNIPHOS     EQ       10.00  100.0  560.0  100.0  555.1  553.80   \n",
       "1  2004-01-27  UNIPHOS     EQ      553.80  570.0  570.0  525.0  530.1  540.35   \n",
       "2  2004-01-28  UNIPHOS     EQ      540.35  530.0  565.0  511.0  542.0  538.85   \n",
       "3  2004-01-29  UNIPHOS     EQ      538.85  530.0  543.5  504.0  517.0  515.10   \n",
       "4  2004-01-30  UNIPHOS     EQ      515.10  519.0  519.0  471.4  485.0  482.95   \n",
       "\n",
       "     VWAP  Volume      Turnover  Trades  Deliverable Volume  %Deliverble  \n",
       "0  483.69   73629  3.561361e+12     NaN             52799.0       0.7171  \n",
       "1  540.77   26737  1.445851e+12     NaN             17314.0       0.6476  \n",
       "2  542.24   32155  1.743569e+12     NaN             23285.0       0.7241  \n",
       "3  529.23   19074  1.009447e+12     NaN             12935.0       0.6781  \n",
       "4  485.85   23807  1.156659e+12     NaN             12750.0       0.5356  "
      ]
     },
     "execution_count": 184,
     "metadata": {},
     "output_type": "execute_result"
    }
   ],
   "source": [
    "stock.head()"
   ]
  },
  {
   "cell_type": "code",
   "execution_count": 185,
   "id": "564201f0",
   "metadata": {},
   "outputs": [
    {
     "name": "stdout",
     "output_type": "stream",
     "text": [
      "<class 'pandas.core.frame.DataFrame'>\n",
      "RangeIndex: 4287 entries, 0 to 4286\n",
      "Data columns (total 15 columns):\n",
      " #   Column              Non-Null Count  Dtype  \n",
      "---  ------              --------------  -----  \n",
      " 0   Date                4287 non-null   object \n",
      " 1   Symbol              4287 non-null   object \n",
      " 2   Series              4287 non-null   object \n",
      " 3   Prev Close          4287 non-null   float64\n",
      " 4   Open                4287 non-null   float64\n",
      " 5   High                4287 non-null   float64\n",
      " 6   Low                 4287 non-null   float64\n",
      " 7   Last                4287 non-null   float64\n",
      " 8   Close               4287 non-null   float64\n",
      " 9   VWAP                4287 non-null   float64\n",
      " 10  Volume              4287 non-null   int64  \n",
      " 11  Turnover            4287 non-null   float64\n",
      " 12  Trades              2456 non-null   float64\n",
      " 13  Deliverable Volume  4281 non-null   float64\n",
      " 14  %Deliverble         4281 non-null   float64\n",
      "dtypes: float64(11), int64(1), object(3)\n",
      "memory usage: 502.5+ KB\n"
     ]
    }
   ],
   "source": [
    "stock.info()"
   ]
  },
  {
   "cell_type": "code",
   "execution_count": 186,
   "id": "c9d711dd",
   "metadata": {},
   "outputs": [
    {
     "data": {
      "text/html": [
       "<div>\n",
       "<style scoped>\n",
       "    .dataframe tbody tr th:only-of-type {\n",
       "        vertical-align: middle;\n",
       "    }\n",
       "\n",
       "    .dataframe tbody tr th {\n",
       "        vertical-align: top;\n",
       "    }\n",
       "\n",
       "    .dataframe thead th {\n",
       "        text-align: right;\n",
       "    }\n",
       "</style>\n",
       "<table border=\"1\" class=\"dataframe\">\n",
       "  <thead>\n",
       "    <tr style=\"text-align: right;\">\n",
       "      <th></th>\n",
       "      <th>Prev Close</th>\n",
       "      <th>Open</th>\n",
       "      <th>High</th>\n",
       "      <th>Low</th>\n",
       "      <th>Last</th>\n",
       "      <th>Close</th>\n",
       "      <th>VWAP</th>\n",
       "      <th>Volume</th>\n",
       "      <th>Turnover</th>\n",
       "      <th>Trades</th>\n",
       "      <th>Deliverable Volume</th>\n",
       "      <th>%Deliverble</th>\n",
       "    </tr>\n",
       "  </thead>\n",
       "  <tbody>\n",
       "    <tr>\n",
       "      <th>count</th>\n",
       "      <td>4287.000000</td>\n",
       "      <td>4287.000000</td>\n",
       "      <td>4287.000000</td>\n",
       "      <td>4287.000000</td>\n",
       "      <td>4287.000000</td>\n",
       "      <td>4287.000000</td>\n",
       "      <td>4287.000000</td>\n",
       "      <td>4.287000e+03</td>\n",
       "      <td>4.287000e+03</td>\n",
       "      <td>2456.000000</td>\n",
       "      <td>4.281000e+03</td>\n",
       "      <td>4281.000000</td>\n",
       "    </tr>\n",
       "    <tr>\n",
       "      <th>mean</th>\n",
       "      <td>403.192151</td>\n",
       "      <td>403.596279</td>\n",
       "      <td>411.002927</td>\n",
       "      <td>396.025064</td>\n",
       "      <td>403.290320</td>\n",
       "      <td>403.331386</td>\n",
       "      <td>403.690133</td>\n",
       "      <td>1.692215e+06</td>\n",
       "      <td>7.369939e+13</td>\n",
       "      <td>43472.249593</td>\n",
       "      <td>7.064405e+05</td>\n",
       "      <td>0.558502</td>\n",
       "    </tr>\n",
       "    <tr>\n",
       "      <th>std</th>\n",
       "      <td>242.503045</td>\n",
       "      <td>242.792103</td>\n",
       "      <td>245.662113</td>\n",
       "      <td>239.380109</td>\n",
       "      <td>242.394231</td>\n",
       "      <td>242.448589</td>\n",
       "      <td>242.475362</td>\n",
       "      <td>2.880158e+06</td>\n",
       "      <td>1.434760e+14</td>\n",
       "      <td>41826.382086</td>\n",
       "      <td>9.106659e+05</td>\n",
       "      <td>0.203112</td>\n",
       "    </tr>\n",
       "    <tr>\n",
       "      <th>min</th>\n",
       "      <td>10.000000</td>\n",
       "      <td>72.500000</td>\n",
       "      <td>76.000000</td>\n",
       "      <td>71.500000</td>\n",
       "      <td>73.500000</td>\n",
       "      <td>74.150000</td>\n",
       "      <td>75.020000</td>\n",
       "      <td>2.500000e+02</td>\n",
       "      <td>1.209481e+10</td>\n",
       "      <td>535.000000</td>\n",
       "      <td>1.740000e+02</td>\n",
       "      <td>0.080900</td>\n",
       "    </tr>\n",
       "    <tr>\n",
       "      <th>25%</th>\n",
       "      <td>167.850000</td>\n",
       "      <td>168.700000</td>\n",
       "      <td>172.450000</td>\n",
       "      <td>165.150000</td>\n",
       "      <td>168.000000</td>\n",
       "      <td>168.000000</td>\n",
       "      <td>168.870000</td>\n",
       "      <td>3.144830e+05</td>\n",
       "      <td>6.607107e+12</td>\n",
       "      <td>20212.750000</td>\n",
       "      <td>1.869020e+05</td>\n",
       "      <td>0.413800</td>\n",
       "    </tr>\n",
       "    <tr>\n",
       "      <th>50%</th>\n",
       "      <td>338.450000</td>\n",
       "      <td>339.000000</td>\n",
       "      <td>345.100000</td>\n",
       "      <td>331.400000</td>\n",
       "      <td>339.000000</td>\n",
       "      <td>338.500000</td>\n",
       "      <td>338.260000</td>\n",
       "      <td>1.044446e+06</td>\n",
       "      <td>2.501376e+13</td>\n",
       "      <td>32820.000000</td>\n",
       "      <td>5.086170e+05</td>\n",
       "      <td>0.550800</td>\n",
       "    </tr>\n",
       "    <tr>\n",
       "      <th>75%</th>\n",
       "      <td>596.825000</td>\n",
       "      <td>599.275000</td>\n",
       "      <td>608.650000</td>\n",
       "      <td>587.875000</td>\n",
       "      <td>597.600000</td>\n",
       "      <td>597.000000</td>\n",
       "      <td>598.680000</td>\n",
       "      <td>1.957141e+06</td>\n",
       "      <td>8.824685e+13</td>\n",
       "      <td>54394.500000</td>\n",
       "      <td>9.300740e+05</td>\n",
       "      <td>0.701900</td>\n",
       "    </tr>\n",
       "    <tr>\n",
       "      <th>max</th>\n",
       "      <td>1034.500000</td>\n",
       "      <td>1030.250000</td>\n",
       "      <td>1043.750000</td>\n",
       "      <td>1017.250000</td>\n",
       "      <td>1030.250000</td>\n",
       "      <td>1034.500000</td>\n",
       "      <td>1031.960000</td>\n",
       "      <td>8.727905e+07</td>\n",
       "      <td>3.773965e+15</td>\n",
       "      <td>869118.000000</td>\n",
       "      <td>2.409247e+07</td>\n",
       "      <td>1.000000</td>\n",
       "    </tr>\n",
       "  </tbody>\n",
       "</table>\n",
       "</div>"
      ],
      "text/plain": [
       "        Prev Close         Open         High          Low         Last  \\\n",
       "count  4287.000000  4287.000000  4287.000000  4287.000000  4287.000000   \n",
       "mean    403.192151   403.596279   411.002927   396.025064   403.290320   \n",
       "std     242.503045   242.792103   245.662113   239.380109   242.394231   \n",
       "min      10.000000    72.500000    76.000000    71.500000    73.500000   \n",
       "25%     167.850000   168.700000   172.450000   165.150000   168.000000   \n",
       "50%     338.450000   339.000000   345.100000   331.400000   339.000000   \n",
       "75%     596.825000   599.275000   608.650000   587.875000   597.600000   \n",
       "max    1034.500000  1030.250000  1043.750000  1017.250000  1030.250000   \n",
       "\n",
       "             Close         VWAP        Volume      Turnover         Trades  \\\n",
       "count  4287.000000  4287.000000  4.287000e+03  4.287000e+03    2456.000000   \n",
       "mean    403.331386   403.690133  1.692215e+06  7.369939e+13   43472.249593   \n",
       "std     242.448589   242.475362  2.880158e+06  1.434760e+14   41826.382086   \n",
       "min      74.150000    75.020000  2.500000e+02  1.209481e+10     535.000000   \n",
       "25%     168.000000   168.870000  3.144830e+05  6.607107e+12   20212.750000   \n",
       "50%     338.500000   338.260000  1.044446e+06  2.501376e+13   32820.000000   \n",
       "75%     597.000000   598.680000  1.957141e+06  8.824685e+13   54394.500000   \n",
       "max    1034.500000  1031.960000  8.727905e+07  3.773965e+15  869118.000000   \n",
       "\n",
       "       Deliverable Volume  %Deliverble  \n",
       "count        4.281000e+03  4281.000000  \n",
       "mean         7.064405e+05     0.558502  \n",
       "std          9.106659e+05     0.203112  \n",
       "min          1.740000e+02     0.080900  \n",
       "25%          1.869020e+05     0.413800  \n",
       "50%          5.086170e+05     0.550800  \n",
       "75%          9.300740e+05     0.701900  \n",
       "max          2.409247e+07     1.000000  "
      ]
     },
     "execution_count": 186,
     "metadata": {},
     "output_type": "execute_result"
    }
   ],
   "source": [
    "stock.describe()"
   ]
  },
  {
   "cell_type": "code",
   "execution_count": 187,
   "id": "011a47e9",
   "metadata": {},
   "outputs": [],
   "source": [
    "# Ensure we are working with a copy of the DataFrame to avoid the SettingWithCopyWarning\n",
    "stock = stock.copy()"
   ]
  },
  {
   "cell_type": "code",
   "execution_count": 188,
   "id": "7758c824",
   "metadata": {},
   "outputs": [],
   "source": [
    "# Calculate HL_Perc and CO_Perc\n",
    "stock.loc[:, 'HL_Perc'] = (stock['High'] - stock['Low']) / stock['Low'] * 100\n",
    "stock.loc[:, 'CO_Perc'] = (stock['Close'] - stock['Open']) / stock['Open'] * 100"
   ]
  },
  {
   "cell_type": "code",
   "execution_count": 189,
   "id": "0bb9c198",
   "metadata": {},
   "outputs": [],
   "source": [
    "dates = np.array(stock[\"Date\"])\n",
    "dates_check = dates[-30:]\n",
    "dates = dates[:-30]"
   ]
  },
  {
   "cell_type": "code",
   "execution_count": 190,
   "id": "07901da7",
   "metadata": {},
   "outputs": [
    {
     "data": {
      "text/plain": [
       "Index(['Date', 'Symbol', 'Series', 'Prev Close', 'Open', 'High', 'Low', 'Last',\n",
       "       'Close', 'VWAP', 'Volume', 'Turnover', 'Trades', 'Deliverable Volume',\n",
       "       '%Deliverble', 'HL_Perc', 'CO_Perc'],\n",
       "      dtype='object')"
      ]
     },
     "execution_count": 190,
     "metadata": {},
     "output_type": "execute_result"
    }
   ],
   "source": [
    "stock.columns"
   ]
  },
  {
   "cell_type": "code",
   "execution_count": 191,
   "id": "75b07f7b",
   "metadata": {},
   "outputs": [],
   "source": [
    "stock = stock[[\"HL_Perc\", \"CO_Perc\", \"Close\", \"Volume\"]]"
   ]
  },
  {
   "cell_type": "code",
   "execution_count": 192,
   "id": "772db78e",
   "metadata": {},
   "outputs": [],
   "source": [
    "#Define the label column\n",
    "stock[\"PriceNextMonth\"] = stock[\"Close\"].shift(-30)"
   ]
  },
  {
   "cell_type": "code",
   "execution_count": 193,
   "id": "79011229",
   "metadata": {},
   "outputs": [
    {
     "data": {
      "text/html": [
       "<div>\n",
       "<style scoped>\n",
       "    .dataframe tbody tr th:only-of-type {\n",
       "        vertical-align: middle;\n",
       "    }\n",
       "\n",
       "    .dataframe tbody tr th {\n",
       "        vertical-align: top;\n",
       "    }\n",
       "\n",
       "    .dataframe thead th {\n",
       "        text-align: right;\n",
       "    }\n",
       "</style>\n",
       "<table border=\"1\" class=\"dataframe\">\n",
       "  <thead>\n",
       "    <tr style=\"text-align: right;\">\n",
       "      <th></th>\n",
       "      <th>HL_Perc</th>\n",
       "      <th>CO_Perc</th>\n",
       "      <th>Close</th>\n",
       "      <th>Volume</th>\n",
       "      <th>PriceNextMonth</th>\n",
       "    </tr>\n",
       "  </thead>\n",
       "  <tbody>\n",
       "    <tr>\n",
       "      <th>4282</th>\n",
       "      <td>2.048131</td>\n",
       "      <td>0.604667</td>\n",
       "      <td>590.65</td>\n",
       "      <td>3162291</td>\n",
       "      <td>NaN</td>\n",
       "    </tr>\n",
       "    <tr>\n",
       "      <th>4283</th>\n",
       "      <td>2.680692</td>\n",
       "      <td>1.074268</td>\n",
       "      <td>597.45</td>\n",
       "      <td>4496811</td>\n",
       "      <td>NaN</td>\n",
       "    </tr>\n",
       "    <tr>\n",
       "      <th>4284</th>\n",
       "      <td>2.079175</td>\n",
       "      <td>0.845841</td>\n",
       "      <td>608.05</td>\n",
       "      <td>4983043</td>\n",
       "      <td>NaN</td>\n",
       "    </tr>\n",
       "    <tr>\n",
       "      <th>4285</th>\n",
       "      <td>1.836668</td>\n",
       "      <td>0.391262</td>\n",
       "      <td>615.80</td>\n",
       "      <td>6257014</td>\n",
       "      <td>NaN</td>\n",
       "    </tr>\n",
       "    <tr>\n",
       "      <th>4286</th>\n",
       "      <td>2.806059</td>\n",
       "      <td>-0.638507</td>\n",
       "      <td>606.90</td>\n",
       "      <td>3072295</td>\n",
       "      <td>NaN</td>\n",
       "    </tr>\n",
       "  </tbody>\n",
       "</table>\n",
       "</div>"
      ],
      "text/plain": [
       "       HL_Perc   CO_Perc   Close   Volume  PriceNextMonth\n",
       "4282  2.048131  0.604667  590.65  3162291             NaN\n",
       "4283  2.680692  1.074268  597.45  4496811             NaN\n",
       "4284  2.079175  0.845841  608.05  4983043             NaN\n",
       "4285  1.836668  0.391262  615.80  6257014             NaN\n",
       "4286  2.806059 -0.638507  606.90  3072295             NaN"
      ]
     },
     "execution_count": 193,
     "metadata": {},
     "output_type": "execute_result"
    }
   ],
   "source": [
    "stock.tail()"
   ]
  },
  {
   "cell_type": "code",
   "execution_count": 194,
   "id": "c687b99c",
   "metadata": {},
   "outputs": [
    {
     "name": "stderr",
     "output_type": "stream",
     "text": [
      "C:\\Users\\suresh\\AppData\\Local\\Temp\\ipykernel_9868\\459189850.py:2: FutureWarning: In a future version of pandas all arguments of DataFrame.drop except for the argument 'labels' will be keyword-only.\n",
      "  X = np.array(stock.drop([\"PriceNextMonth\"], 1))\n"
     ]
    }
   ],
   "source": [
    "#Make fetaure and label arrays\n",
    "X = np.array(stock.drop([\"PriceNextMonth\"], 1))\n",
    "X = preprocessing.scale(X)\n",
    "X_Check = X[-30:]\n",
    "X = X[:-30]\n",
    "stock.dropna(inplace = True)\n",
    "y = np.array(stock[\"PriceNextMonth\"])"
   ]
  },
  {
   "cell_type": "code",
   "execution_count": 195,
   "id": "381f2472",
   "metadata": {},
   "outputs": [],
   "source": [
    "#Divide the data set into training data and testing data\n",
    "X_train, X_test, y_train, y_test = train_test_split(X,y,test_size = 0.2)"
   ]
  },
  {
   "cell_type": "code",
   "execution_count": 196,
   "id": "489c08a2",
   "metadata": {},
   "outputs": [],
   "source": [
    "#Define the prediction model\n",
    "model = RandomForestRegressor()"
   ]
  },
  {
   "cell_type": "code",
   "execution_count": 197,
   "id": "74ff8cec",
   "metadata": {},
   "outputs": [
    {
     "data": {
      "text/plain": [
       "RandomForestRegressor()"
      ]
     },
     "execution_count": 197,
     "metadata": {},
     "output_type": "execute_result"
    }
   ],
   "source": [
    "#Fit the model using training data\n",
    "model.fit(X_train, y_train)"
   ]
  },
  {
   "cell_type": "code",
   "execution_count": 198,
   "id": "520c0372",
   "metadata": {},
   "outputs": [
    {
     "name": "stdout",
     "output_type": "stream",
     "text": [
      "0.9596458020987723\n"
     ]
    }
   ],
   "source": [
    "#Calculate the confidence value by applying the model to testing data\n",
    "conf = model.score(X_test, y_test)\n",
    "print(conf)"
   ]
  },
  {
   "cell_type": "code",
   "execution_count": 199,
   "id": "b9381393",
   "metadata": {},
   "outputs": [
    {
     "data": {
      "text/plain": [
       "RandomForestRegressor()"
      ]
     },
     "execution_count": 199,
     "metadata": {},
     "output_type": "execute_result"
    }
   ],
   "source": [
    "#Fit the model again using the whole data set\n",
    "model.fit(X,y)"
   ]
  },
  {
   "cell_type": "code",
   "execution_count": 200,
   "id": "4990c67a",
   "metadata": {},
   "outputs": [],
   "source": [
    "predictions = model.predict(X_Check)"
   ]
  },
  {
   "cell_type": "code",
   "execution_count": 201,
   "id": "c0d5a9e2",
   "metadata": {},
   "outputs": [],
   "source": [
    "#Make the final DataFrame containing Dates, ClosePrices, and Forecast values\n",
    "actual = pd.DataFrame(dates, columns = [\"Date\"])\n",
    "actual[\"ClosePrice\"] = stock[\"Close\"]\n",
    "actual[\"Forecast\"] = np.nan\n",
    "actual.set_index(\"Date\", inplace = True)\n",
    "forecast = pd.DataFrame(dates_check, columns=[\"Date\"])\n",
    "forecast[\"Forecast\"] = predictions\n",
    "forecast[\"ClosePrice\"] = np.nan\n",
    "forecast.set_index(\"Date\", inplace = True)\n",
    "var = [actual, forecast]\n",
    "result = pd.concat(var)  #This is the final DataFrame"
   ]
  },
  {
   "cell_type": "code",
   "execution_count": 202,
   "id": "45722829",
   "metadata": {},
   "outputs": [
    {
     "data": {
      "text/plain": [
       "Text(0, 0.5, 'Price')"
      ]
     },
     "execution_count": 202,
     "metadata": {},
     "output_type": "execute_result"
    },
    {
     "data": {
      "image/png": "[encoded data removed]",
      "text/plain": [
       "<Figure size 2000x1000 with 1 Axes>"
      ]
     },
     "metadata": {},
     "output_type": "display_data"
    }
   ],
   "source": [
    "#Plot the final results\n",
    "result.plot(figsize=(20,10), linewidth=1.5)\n",
    "plt.legend(loc=2, prop={'size':20})\n",
    "plt.xlabel('Date')\n",
    "plt.ylabel('Price')"
   ]
  },
  {
   "cell_type": "code",
   "execution_count": null,
   "id": "e099aee8",
   "metadata": {},
   "outputs": [],
   "source": []
  },
  {
   "cell_type": "code",
   "execution_count": null,
   "id": "9f8c7a22",
   "metadata": {},
   "outputs": [],
   "source": []
  }
 ],
 "metadata": {
  "kernelspec": {
   "display_name": "Python 3 (ipykernel)",
   "language": "python",
   "name": "python3"
  },
  "language_info": {
   "codemirror_mode": {
    "name": "ipython",
    "version": 3
   },
   "file_extension": ".py",
   "mimetype": "text/x-python",
   "name": "python",
   "nbconvert_exporter": "python",
   "pygments_lexer": "ipython3",
   "version": "3.9.13"
  }
 },
 "nbformat": 4,
 "nbformat_minor": 5
}
