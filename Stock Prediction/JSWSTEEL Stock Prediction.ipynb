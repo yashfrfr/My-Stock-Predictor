{
 "cells": [
  {
   "cell_type": "code",
   "execution_count": 2,
   "id": "5a20ead1",
   "metadata": {},
   "outputs": [],
   "source": [
    "#Import the libraries\n",
    "import pandas as pd \n",
    "import numpy as np \n",
    "import matplotlib.pyplot as plt \n",
    "from sklearn import preprocessing\n",
    "from sklearn.ensemble import RandomForestRegressor\n",
    "from sklearn.model_selection import train_test_split\n",
    "from sklearn.metrics import mean_absolute_error, r2_score"
   ]
  },
  {
   "cell_type": "code",
   "execution_count": 452,
   "id": "1ebabd9c",
   "metadata": {},
   "outputs": [],
   "source": [
    "stock = pd.read_csv(\"C:/Users/suresh/Desktop/PYTHON ML DATA SCIENCE/Stock Prediction/Stock Data/JSWSTEEL.csv\")"
   ]
  },
  {
   "cell_type": "code",
   "execution_count": 453,
   "id": "b4a873d4",
   "metadata": {},
   "outputs": [
    {
     "data": {
      "text/html": [
       "<div>\n",
       "<style scoped>\n",
       "    .dataframe tbody tr th:only-of-type {\n",
       "        vertical-align: middle;\n",
       "    }\n",
       "\n",
       "    .dataframe tbody tr th {\n",
       "        vertical-align: top;\n",
       "    }\n",
       "\n",
       "    .dataframe thead th {\n",
       "        text-align: right;\n",
       "    }\n",
       "</style>\n",
       "<table border=\"1\" class=\"dataframe\">\n",
       "  <thead>\n",
       "    <tr style=\"text-align: right;\">\n",
       "      <th></th>\n",
       "      <th>Date</th>\n",
       "      <th>Symbol</th>\n",
       "      <th>Series</th>\n",
       "      <th>Prev Close</th>\n",
       "      <th>Open</th>\n",
       "      <th>High</th>\n",
       "      <th>Low</th>\n",
       "      <th>Last</th>\n",
       "      <th>Close</th>\n",
       "      <th>VWAP</th>\n",
       "      <th>Volume</th>\n",
       "      <th>Turnover</th>\n",
       "      <th>Trades</th>\n",
       "      <th>Deliverable Volume</th>\n",
       "      <th>%Deliverble</th>\n",
       "    </tr>\n",
       "  </thead>\n",
       "  <tbody>\n",
       "    <tr>\n",
       "      <th>0</th>\n",
       "      <td>2005-03-23</td>\n",
       "      <td>JSWSTL</td>\n",
       "      <td>EQ</td>\n",
       "      <td>10.00</td>\n",
       "      <td>455.00</td>\n",
       "      <td>458.50</td>\n",
       "      <td>383.60</td>\n",
       "      <td>386.9</td>\n",
       "      <td>390.15</td>\n",
       "      <td>419.86</td>\n",
       "      <td>2087710</td>\n",
       "      <td>8.765375e+13</td>\n",
       "      <td>NaN</td>\n",
       "      <td>382057</td>\n",
       "      <td>0.1830</td>\n",
       "    </tr>\n",
       "    <tr>\n",
       "      <th>1</th>\n",
       "      <td>2005-03-24</td>\n",
       "      <td>JSWSTL</td>\n",
       "      <td>EQ</td>\n",
       "      <td>390.15</td>\n",
       "      <td>392.85</td>\n",
       "      <td>398.50</td>\n",
       "      <td>357.50</td>\n",
       "      <td>371.8</td>\n",
       "      <td>369.20</td>\n",
       "      <td>372.01</td>\n",
       "      <td>1226479</td>\n",
       "      <td>4.562638e+13</td>\n",
       "      <td>NaN</td>\n",
       "      <td>232172</td>\n",
       "      <td>0.1893</td>\n",
       "    </tr>\n",
       "    <tr>\n",
       "      <th>2</th>\n",
       "      <td>2005-03-28</td>\n",
       "      <td>JSWSTL</td>\n",
       "      <td>EQ</td>\n",
       "      <td>369.20</td>\n",
       "      <td>376.70</td>\n",
       "      <td>394.05</td>\n",
       "      <td>375.00</td>\n",
       "      <td>380.0</td>\n",
       "      <td>378.85</td>\n",
       "      <td>383.64</td>\n",
       "      <td>1235794</td>\n",
       "      <td>4.741048e+13</td>\n",
       "      <td>NaN</td>\n",
       "      <td>263415</td>\n",
       "      <td>0.2132</td>\n",
       "    </tr>\n",
       "    <tr>\n",
       "      <th>3</th>\n",
       "      <td>2005-03-29</td>\n",
       "      <td>JSWSTL</td>\n",
       "      <td>EQ</td>\n",
       "      <td>378.85</td>\n",
       "      <td>382.90</td>\n",
       "      <td>383.80</td>\n",
       "      <td>363.25</td>\n",
       "      <td>369.1</td>\n",
       "      <td>368.05</td>\n",
       "      <td>375.26</td>\n",
       "      <td>624072</td>\n",
       "      <td>2.341915e+13</td>\n",
       "      <td>NaN</td>\n",
       "      <td>198916</td>\n",
       "      <td>0.3187</td>\n",
       "    </tr>\n",
       "    <tr>\n",
       "      <th>4</th>\n",
       "      <td>2005-03-30</td>\n",
       "      <td>JSWSTL</td>\n",
       "      <td>EQ</td>\n",
       "      <td>368.05</td>\n",
       "      <td>367.00</td>\n",
       "      <td>371.90</td>\n",
       "      <td>360.05</td>\n",
       "      <td>362.7</td>\n",
       "      <td>362.15</td>\n",
       "      <td>365.13</td>\n",
       "      <td>466349</td>\n",
       "      <td>1.702775e+13</td>\n",
       "      <td>NaN</td>\n",
       "      <td>159641</td>\n",
       "      <td>0.3423</td>\n",
       "    </tr>\n",
       "  </tbody>\n",
       "</table>\n",
       "</div>"
      ],
      "text/plain": [
       "         Date  Symbol Series  Prev Close    Open    High     Low   Last  \\\n",
       "0  2005-03-23  JSWSTL     EQ       10.00  455.00  458.50  383.60  386.9   \n",
       "1  2005-03-24  JSWSTL     EQ      390.15  392.85  398.50  357.50  371.8   \n",
       "2  2005-03-28  JSWSTL     EQ      369.20  376.70  394.05  375.00  380.0   \n",
       "3  2005-03-29  JSWSTL     EQ      378.85  382.90  383.80  363.25  369.1   \n",
       "4  2005-03-30  JSWSTL     EQ      368.05  367.00  371.90  360.05  362.7   \n",
       "\n",
       "    Close    VWAP   Volume      Turnover  Trades  Deliverable Volume  \\\n",
       "0  390.15  419.86  2087710  8.765375e+13     NaN              382057   \n",
       "1  369.20  372.01  1226479  4.562638e+13     NaN              232172   \n",
       "2  378.85  383.64  1235794  4.741048e+13     NaN              263415   \n",
       "3  368.05  375.26   624072  2.341915e+13     NaN              198916   \n",
       "4  362.15  365.13   466349  1.702775e+13     NaN              159641   \n",
       "\n",
       "   %Deliverble  \n",
       "0       0.1830  \n",
       "1       0.1893  \n",
       "2       0.2132  \n",
       "3       0.3187  \n",
       "4       0.3423  "
      ]
     },
     "execution_count": 453,
     "metadata": {},
     "output_type": "execute_result"
    }
   ],
   "source": [
    "stock.head()"
   ]
  },
  {
   "cell_type": "code",
   "execution_count": 454,
   "id": "564201f0",
   "metadata": {},
   "outputs": [
    {
     "name": "stdout",
     "output_type": "stream",
     "text": [
      "<class 'pandas.core.frame.DataFrame'>\n",
      "RangeIndex: 3994 entries, 0 to 3993\n",
      "Data columns (total 15 columns):\n",
      " #   Column              Non-Null Count  Dtype  \n",
      "---  ------              --------------  -----  \n",
      " 0   Date                3994 non-null   object \n",
      " 1   Symbol              3994 non-null   object \n",
      " 2   Series              3994 non-null   object \n",
      " 3   Prev Close          3994 non-null   float64\n",
      " 4   Open                3994 non-null   float64\n",
      " 5   High                3994 non-null   float64\n",
      " 6   Low                 3994 non-null   float64\n",
      " 7   Last                3994 non-null   float64\n",
      " 8   Close               3994 non-null   float64\n",
      " 9   VWAP                3994 non-null   float64\n",
      " 10  Volume              3994 non-null   int64  \n",
      " 11  Turnover            3994 non-null   float64\n",
      " 12  Trades              2456 non-null   float64\n",
      " 13  Deliverable Volume  3994 non-null   int64  \n",
      " 14  %Deliverble         3994 non-null   float64\n",
      "dtypes: float64(10), int64(2), object(3)\n",
      "memory usage: 468.2+ KB\n"
     ]
    }
   ],
   "source": [
    "stock.info()"
   ]
  },
  {
   "cell_type": "code",
   "execution_count": 455,
   "id": "c9d711dd",
   "metadata": {},
   "outputs": [
    {
     "data": {
      "text/html": [
       "<div>\n",
       "<style scoped>\n",
       "    .dataframe tbody tr th:only-of-type {\n",
       "        vertical-align: middle;\n",
       "    }\n",
       "\n",
       "    .dataframe tbody tr th {\n",
       "        vertical-align: top;\n",
       "    }\n",
       "\n",
       "    .dataframe thead th {\n",
       "        text-align: right;\n",
       "    }\n",
       "</style>\n",
       "<table border=\"1\" class=\"dataframe\">\n",
       "  <thead>\n",
       "    <tr style=\"text-align: right;\">\n",
       "      <th></th>\n",
       "      <th>Prev Close</th>\n",
       "      <th>Open</th>\n",
       "      <th>High</th>\n",
       "      <th>Low</th>\n",
       "      <th>Last</th>\n",
       "      <th>Close</th>\n",
       "      <th>VWAP</th>\n",
       "      <th>Volume</th>\n",
       "      <th>Turnover</th>\n",
       "      <th>Trades</th>\n",
       "      <th>Deliverable Volume</th>\n",
       "      <th>%Deliverble</th>\n",
       "    </tr>\n",
       "  </thead>\n",
       "  <tbody>\n",
       "    <tr>\n",
       "      <th>count</th>\n",
       "      <td>3994.000000</td>\n",
       "      <td>3994.000000</td>\n",
       "      <td>3994.000000</td>\n",
       "      <td>3994.000000</td>\n",
       "      <td>3994.000000</td>\n",
       "      <td>3994.000000</td>\n",
       "      <td>3994.000000</td>\n",
       "      <td>3.994000e+03</td>\n",
       "      <td>3.994000e+03</td>\n",
       "      <td>2456.000000</td>\n",
       "      <td>3.994000e+03</td>\n",
       "      <td>3994.000000</td>\n",
       "    </tr>\n",
       "    <tr>\n",
       "      <th>mean</th>\n",
       "      <td>660.368052</td>\n",
       "      <td>661.197359</td>\n",
       "      <td>673.906072</td>\n",
       "      <td>647.724011</td>\n",
       "      <td>660.313095</td>\n",
       "      <td>660.545280</td>\n",
       "      <td>661.144362</td>\n",
       "      <td>2.680639e+06</td>\n",
       "      <td>1.176519e+14</td>\n",
       "      <td>40357.029723</td>\n",
       "      <td>6.409097e+05</td>\n",
       "      <td>0.303980</td>\n",
       "    </tr>\n",
       "    <tr>\n",
       "      <th>std</th>\n",
       "      <td>395.564104</td>\n",
       "      <td>395.656439</td>\n",
       "      <td>401.421790</td>\n",
       "      <td>389.648633</td>\n",
       "      <td>395.328407</td>\n",
       "      <td>395.431191</td>\n",
       "      <td>395.519572</td>\n",
       "      <td>3.942895e+06</td>\n",
       "      <td>1.658072e+14</td>\n",
       "      <td>34158.225625</td>\n",
       "      <td>9.516483e+05</td>\n",
       "      <td>0.168694</td>\n",
       "    </tr>\n",
       "    <tr>\n",
       "      <th>min</th>\n",
       "      <td>10.000000</td>\n",
       "      <td>143.250000</td>\n",
       "      <td>145.950000</td>\n",
       "      <td>132.500000</td>\n",
       "      <td>142.350000</td>\n",
       "      <td>140.700000</td>\n",
       "      <td>137.910000</td>\n",
       "      <td>9.694000e+03</td>\n",
       "      <td>4.703767e+11</td>\n",
       "      <td>1361.000000</td>\n",
       "      <td>6.224000e+03</td>\n",
       "      <td>0.031800</td>\n",
       "    </tr>\n",
       "    <tr>\n",
       "      <th>25%</th>\n",
       "      <td>286.212500</td>\n",
       "      <td>286.475000</td>\n",
       "      <td>291.137500</td>\n",
       "      <td>280.850000</td>\n",
       "      <td>286.000000</td>\n",
       "      <td>286.275000</td>\n",
       "      <td>286.140000</td>\n",
       "      <td>5.515000e+05</td>\n",
       "      <td>4.633062e+13</td>\n",
       "      <td>21350.750000</td>\n",
       "      <td>1.447090e+05</td>\n",
       "      <td>0.175425</td>\n",
       "    </tr>\n",
       "    <tr>\n",
       "      <th>50%</th>\n",
       "      <td>638.750000</td>\n",
       "      <td>638.425000</td>\n",
       "      <td>653.825000</td>\n",
       "      <td>623.600000</td>\n",
       "      <td>638.525000</td>\n",
       "      <td>639.550000</td>\n",
       "      <td>638.140000</td>\n",
       "      <td>1.079757e+06</td>\n",
       "      <td>8.593032e+13</td>\n",
       "      <td>32302.500000</td>\n",
       "      <td>2.910040e+05</td>\n",
       "      <td>0.262550</td>\n",
       "    </tr>\n",
       "    <tr>\n",
       "      <th>75%</th>\n",
       "      <td>942.837500</td>\n",
       "      <td>944.975000</td>\n",
       "      <td>964.487500</td>\n",
       "      <td>927.050000</td>\n",
       "      <td>944.837500</td>\n",
       "      <td>942.837500</td>\n",
       "      <td>944.045000</td>\n",
       "      <td>3.457287e+06</td>\n",
       "      <td>1.522540e+14</td>\n",
       "      <td>50174.500000</td>\n",
       "      <td>7.760825e+05</td>\n",
       "      <td>0.399275</td>\n",
       "    </tr>\n",
       "    <tr>\n",
       "      <th>max</th>\n",
       "      <td>1862.550000</td>\n",
       "      <td>1874.100000</td>\n",
       "      <td>1885.950000</td>\n",
       "      <td>1842.550000</td>\n",
       "      <td>1867.000000</td>\n",
       "      <td>1862.550000</td>\n",
       "      <td>1862.710000</td>\n",
       "      <td>7.200615e+07</td>\n",
       "      <td>4.362297e+15</td>\n",
       "      <td>667821.000000</td>\n",
       "      <td>1.791488e+07</td>\n",
       "      <td>1.000000</td>\n",
       "    </tr>\n",
       "  </tbody>\n",
       "</table>\n",
       "</div>"
      ],
      "text/plain": [
       "        Prev Close         Open         High          Low         Last  \\\n",
       "count  3994.000000  3994.000000  3994.000000  3994.000000  3994.000000   \n",
       "mean    660.368052   661.197359   673.906072   647.724011   660.313095   \n",
       "std     395.564104   395.656439   401.421790   389.648633   395.328407   \n",
       "min      10.000000   143.250000   145.950000   132.500000   142.350000   \n",
       "25%     286.212500   286.475000   291.137500   280.850000   286.000000   \n",
       "50%     638.750000   638.425000   653.825000   623.600000   638.525000   \n",
       "75%     942.837500   944.975000   964.487500   927.050000   944.837500   \n",
       "max    1862.550000  1874.100000  1885.950000  1842.550000  1867.000000   \n",
       "\n",
       "             Close         VWAP        Volume      Turnover         Trades  \\\n",
       "count  3994.000000  3994.000000  3.994000e+03  3.994000e+03    2456.000000   \n",
       "mean    660.545280   661.144362  2.680639e+06  1.176519e+14   40357.029723   \n",
       "std     395.431191   395.519572  3.942895e+06  1.658072e+14   34158.225625   \n",
       "min     140.700000   137.910000  9.694000e+03  4.703767e+11    1361.000000   \n",
       "25%     286.275000   286.140000  5.515000e+05  4.633062e+13   21350.750000   \n",
       "50%     639.550000   638.140000  1.079757e+06  8.593032e+13   32302.500000   \n",
       "75%     942.837500   944.045000  3.457287e+06  1.522540e+14   50174.500000   \n",
       "max    1862.550000  1862.710000  7.200615e+07  4.362297e+15  667821.000000   \n",
       "\n",
       "       Deliverable Volume  %Deliverble  \n",
       "count        3.994000e+03  3994.000000  \n",
       "mean         6.409097e+05     0.303980  \n",
       "std          9.516483e+05     0.168694  \n",
       "min          6.224000e+03     0.031800  \n",
       "25%          1.447090e+05     0.175425  \n",
       "50%          2.910040e+05     0.262550  \n",
       "75%          7.760825e+05     0.399275  \n",
       "max          1.791488e+07     1.000000  "
      ]
     },
     "execution_count": 455,
     "metadata": {},
     "output_type": "execute_result"
    }
   ],
   "source": [
    "stock.describe()"
   ]
  },
  {
   "cell_type": "code",
   "execution_count": 456,
   "id": "011a47e9",
   "metadata": {},
   "outputs": [],
   "source": [
    "# Ensure we are working with a copy of the DataFrame to avoid the SettingWithCopyWarning\n",
    "stock = stock.copy()"
   ]
  },
  {
   "cell_type": "code",
   "execution_count": 457,
   "id": "7758c824",
   "metadata": {},
   "outputs": [],
   "source": [
    "# Calculate HL_Perc and CO_Perc\n",
    "stock.loc[:, 'HL_Perc'] = (stock['High'] - stock['Low']) / stock['Low'] * 100\n",
    "stock.loc[:, 'CO_Perc'] = (stock['Close'] - stock['Open']) / stock['Open'] * 100"
   ]
  },
  {
   "cell_type": "code",
   "execution_count": 458,
   "id": "0bb9c198",
   "metadata": {},
   "outputs": [],
   "source": [
    "dates = np.array(stock[\"Date\"])\n",
    "dates_check = dates[-30:]\n",
    "dates = dates[:-30]"
   ]
  },
  {
   "cell_type": "code",
   "execution_count": 459,
   "id": "07901da7",
   "metadata": {},
   "outputs": [
    {
     "data": {
      "text/plain": [
       "Index(['Date', 'Symbol', 'Series', 'Prev Close', 'Open', 'High', 'Low', 'Last',\n",
       "       'Close', 'VWAP', 'Volume', 'Turnover', 'Trades', 'Deliverable Volume',\n",
       "       '%Deliverble', 'HL_Perc', 'CO_Perc'],\n",
       "      dtype='object')"
      ]
     },
     "execution_count": 459,
     "metadata": {},
     "output_type": "execute_result"
    }
   ],
   "source": [
    "stock.columns"
   ]
  },
  {
   "cell_type": "code",
   "execution_count": 460,
   "id": "75b07f7b",
   "metadata": {},
   "outputs": [],
   "source": [
    "stock = stock[[\"HL_Perc\", \"CO_Perc\", \"Close\", \"Volume\"]]"
   ]
  },
  {
   "cell_type": "code",
   "execution_count": 461,
   "id": "772db78e",
   "metadata": {},
   "outputs": [],
   "source": [
    "#Define the label column\n",
    "stock[\"PriceNextMonth\"] = stock[\"Close\"].shift(-30)"
   ]
  },
  {
   "cell_type": "code",
   "execution_count": 462,
   "id": "79011229",
   "metadata": {},
   "outputs": [
    {
     "data": {
      "text/html": [
       "<div>\n",
       "<style scoped>\n",
       "    .dataframe tbody tr th:only-of-type {\n",
       "        vertical-align: middle;\n",
       "    }\n",
       "\n",
       "    .dataframe tbody tr th {\n",
       "        vertical-align: top;\n",
       "    }\n",
       "\n",
       "    .dataframe thead th {\n",
       "        text-align: right;\n",
       "    }\n",
       "</style>\n",
       "<table border=\"1\" class=\"dataframe\">\n",
       "  <thead>\n",
       "    <tr style=\"text-align: right;\">\n",
       "      <th></th>\n",
       "      <th>HL_Perc</th>\n",
       "      <th>CO_Perc</th>\n",
       "      <th>Close</th>\n",
       "      <th>Volume</th>\n",
       "      <th>PriceNextMonth</th>\n",
       "    </tr>\n",
       "  </thead>\n",
       "  <tbody>\n",
       "    <tr>\n",
       "      <th>3989</th>\n",
       "      <td>3.517430</td>\n",
       "      <td>2.149533</td>\n",
       "      <td>655.80</td>\n",
       "      <td>16506538</td>\n",
       "      <td>NaN</td>\n",
       "    </tr>\n",
       "    <tr>\n",
       "      <th>3990</th>\n",
       "      <td>1.876900</td>\n",
       "      <td>0.794672</td>\n",
       "      <td>665.90</td>\n",
       "      <td>15799458</td>\n",
       "      <td>NaN</td>\n",
       "    </tr>\n",
       "    <tr>\n",
       "      <th>3991</th>\n",
       "      <td>3.896104</td>\n",
       "      <td>-1.060097</td>\n",
       "      <td>662.65</td>\n",
       "      <td>15558949</td>\n",
       "      <td>NaN</td>\n",
       "    </tr>\n",
       "    <tr>\n",
       "      <th>3992</th>\n",
       "      <td>9.108600</td>\n",
       "      <td>8.110119</td>\n",
       "      <td>726.50</td>\n",
       "      <td>56816962</td>\n",
       "      <td>NaN</td>\n",
       "    </tr>\n",
       "    <tr>\n",
       "      <th>3993</th>\n",
       "      <td>4.012931</td>\n",
       "      <td>-0.243191</td>\n",
       "      <td>717.85</td>\n",
       "      <td>36449711</td>\n",
       "      <td>NaN</td>\n",
       "    </tr>\n",
       "  </tbody>\n",
       "</table>\n",
       "</div>"
      ],
      "text/plain": [
       "       HL_Perc   CO_Perc   Close    Volume  PriceNextMonth\n",
       "3989  3.517430  2.149533  655.80  16506538             NaN\n",
       "3990  1.876900  0.794672  665.90  15799458             NaN\n",
       "3991  3.896104 -1.060097  662.65  15558949             NaN\n",
       "3992  9.108600  8.110119  726.50  56816962             NaN\n",
       "3993  4.012931 -0.243191  717.85  36449711             NaN"
      ]
     },
     "execution_count": 462,
     "metadata": {},
     "output_type": "execute_result"
    }
   ],
   "source": [
    "stock.tail()"
   ]
  },
  {
   "cell_type": "code",
   "execution_count": 463,
   "id": "c687b99c",
   "metadata": {},
   "outputs": [
    {
     "name": "stderr",
     "output_type": "stream",
     "text": [
      "C:\\Users\\suresh\\AppData\\Local\\Temp\\ipykernel_17924\\459189850.py:2: FutureWarning: In a future version of pandas all arguments of DataFrame.drop except for the argument 'labels' will be keyword-only.\n",
      "  X = np.array(stock.drop([\"PriceNextMonth\"], 1))\n"
     ]
    }
   ],
   "source": [
    "#Make fetaure and label arrays\n",
    "X = np.array(stock.drop([\"PriceNextMonth\"], 1))\n",
    "X = preprocessing.scale(X)\n",
    "X_Check = X[-30:]\n",
    "X = X[:-30]\n",
    "stock.dropna(inplace = True)\n",
    "y = np.array(stock[\"PriceNextMonth\"])"
   ]
  },
  {
   "cell_type": "code",
   "execution_count": 464,
   "id": "381f2472",
   "metadata": {},
   "outputs": [],
   "source": [
    "#Divide the data set into training data and testing data\n",
    "X_train, X_test, y_train, y_test = train_test_split(X,y,test_size = 0.2)"
   ]
  },
  {
   "cell_type": "code",
   "execution_count": 465,
   "id": "489c08a2",
   "metadata": {},
   "outputs": [],
   "source": [
    "#Define the prediction model\n",
    "model = RandomForestRegressor()"
   ]
  },
  {
   "cell_type": "code",
   "execution_count": 466,
   "id": "74ff8cec",
   "metadata": {},
   "outputs": [
    {
     "data": {
      "text/plain": [
       "RandomForestRegressor()"
      ]
     },
     "execution_count": 466,
     "metadata": {},
     "output_type": "execute_result"
    }
   ],
   "source": [
    "#Fit the model using training data\n",
    "model.fit(X_train, y_train)"
   ]
  },
  {
   "cell_type": "code",
   "execution_count": 467,
   "id": "520c0372",
   "metadata": {},
   "outputs": [
    {
     "name": "stdout",
     "output_type": "stream",
     "text": [
      "0.8778058523977993\n"
     ]
    }
   ],
   "source": [
    "#Calculate the confidence value by applying the model to testing data\n",
    "conf = model.score(X_test, y_test)\n",
    "print(conf)"
   ]
  },
  {
   "cell_type": "code",
   "execution_count": 468,
   "id": "b9381393",
   "metadata": {},
   "outputs": [
    {
     "data": {
      "text/plain": [
       "RandomForestRegressor()"
      ]
     },
     "execution_count": 468,
     "metadata": {},
     "output_type": "execute_result"
    }
   ],
   "source": [
    "#Fit the model again using the whole data set\n",
    "model.fit(X,y)"
   ]
  },
  {
   "cell_type": "code",
   "execution_count": 469,
   "id": "4990c67a",
   "metadata": {},
   "outputs": [],
   "source": [
    "predictions = model.predict(X_Check)"
   ]
  },
  {
   "cell_type": "code",
   "execution_count": 470,
   "id": "c0d5a9e2",
   "metadata": {},
   "outputs": [],
   "source": [
    "#Make the final DataFrame containing Dates, ClosePrices, and Forecast values\n",
    "actual = pd.DataFrame(dates, columns = [\"Date\"])\n",
    "actual[\"ClosePrice\"] = stock[\"Close\"]\n",
    "actual[\"Forecast\"] = np.nan\n",
    "actual.set_index(\"Date\", inplace = True)\n",
    "forecast = pd.DataFrame(dates_check, columns=[\"Date\"])\n",
    "forecast[\"Forecast\"] = predictions\n",
    "forecast[\"ClosePrice\"] = np.nan\n",
    "forecast.set_index(\"Date\", inplace = True)\n",
    "var = [actual, forecast]\n",
    "result = pd.concat(var)  #This is the final DataFrame"
   ]
  },
  {
   "cell_type": "code",
   "execution_count": 471,
   "id": "45722829",
   "metadata": {},
   "outputs": [
    {
     "data": {
      "text/plain": [
       "Text(0, 0.5, 'Price')"
      ]
     },
     "execution_count": 471,
     "metadata": {},
     "output_type": "execute_result"
    },
    {
     "data": {
      "image/png": "[encoded data removed]",
      "text/plain": [
       "<Figure size 2000x1000 with 1 Axes>"
      ]
     },
     "metadata": {},
     "output_type": "display_data"
    }
   ],
   "source": [
    "#Plot the final results\n",
    "result.plot(figsize=(20,10), linewidth=1.5)\n",
    "plt.legend(loc=2, prop={'size':20})\n",
    "plt.xlabel('Date')\n",
    "plt.ylabel('Price')"
   ]
  },
  {
   "cell_type": "code",
   "execution_count": null,
   "id": "e099aee8",
   "metadata": {},
   "outputs": [],
   "source": []
  },
  {
   "cell_type": "code",
   "execution_count": null,
   "id": "56ffc4c3",
   "metadata": {},
   "outputs": [],
   "source": []
  }
 ],
 "metadata": {
  "kernelspec": {
   "display_name": "Python 3 (ipykernel)",
   "language": "python",
   "name": "python3"
  },
  "language_info": {
   "codemirror_mode": {
    "name": "ipython",
    "version": 3
   },
   "file_extension": ".py",
   "mimetype": "text/x-python",
   "name": "python",
   "nbconvert_exporter": "python",
   "pygments_lexer": "ipython3",
   "version": "3.9.13"
  }
 },
 "nbformat": 4,
 "nbformat_minor": 5
}
