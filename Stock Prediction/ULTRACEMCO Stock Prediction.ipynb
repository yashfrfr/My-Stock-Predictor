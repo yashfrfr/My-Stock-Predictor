{
 "cells": [
  {
   "cell_type": "code",
   "execution_count": 2,
   "id": "5a20ead1",
   "metadata": {},
   "outputs": [],
   "source": [
    "#Import the libraries\n",
    "import pandas as pd \n",
    "import numpy as np \n",
    "import matplotlib.pyplot as plt \n",
    "from sklearn import preprocessing\n",
    "from sklearn.ensemble import RandomForestRegressor\n",
    "from sklearn.model_selection import train_test_split\n",
    "from sklearn.metrics import mean_absolute_error, r2_score"
   ]
  },
  {
   "cell_type": "code",
   "execution_count": 163,
   "id": "1ebabd9c",
   "metadata": {},
   "outputs": [],
   "source": [
    "stock = pd.read_csv(\"C:/Users/suresh/Desktop/PYTHON ML DATA SCIENCE/Stock Prediction/Stock Data/ULTRACEMCO.csv\")"
   ]
  },
  {
   "cell_type": "code",
   "execution_count": 164,
   "id": "b4a873d4",
   "metadata": {},
   "outputs": [
    {
     "data": {
      "text/html": [
       "<div>\n",
       "<style scoped>\n",
       "    .dataframe tbody tr th:only-of-type {\n",
       "        vertical-align: middle;\n",
       "    }\n",
       "\n",
       "    .dataframe tbody tr th {\n",
       "        vertical-align: top;\n",
       "    }\n",
       "\n",
       "    .dataframe thead th {\n",
       "        text-align: right;\n",
       "    }\n",
       "</style>\n",
       "<table border=\"1\" class=\"dataframe\">\n",
       "  <thead>\n",
       "    <tr style=\"text-align: right;\">\n",
       "      <th></th>\n",
       "      <th>Date</th>\n",
       "      <th>Symbol</th>\n",
       "      <th>Series</th>\n",
       "      <th>Prev Close</th>\n",
       "      <th>Open</th>\n",
       "      <th>High</th>\n",
       "      <th>Low</th>\n",
       "      <th>Last</th>\n",
       "      <th>Close</th>\n",
       "      <th>VWAP</th>\n",
       "      <th>Volume</th>\n",
       "      <th>Turnover</th>\n",
       "      <th>Trades</th>\n",
       "      <th>Deliverable Volume</th>\n",
       "      <th>%Deliverble</th>\n",
       "    </tr>\n",
       "  </thead>\n",
       "  <tbody>\n",
       "    <tr>\n",
       "      <th>0</th>\n",
       "      <td>2004-08-24</td>\n",
       "      <td>ULTRACEMCO</td>\n",
       "      <td>EQ</td>\n",
       "      <td>10.00</td>\n",
       "      <td>305.00</td>\n",
       "      <td>340.00</td>\n",
       "      <td>253.25</td>\n",
       "      <td>259.00</td>\n",
       "      <td>260.20</td>\n",
       "      <td>268.80</td>\n",
       "      <td>6633956</td>\n",
       "      <td>1.783237e+14</td>\n",
       "      <td>NaN</td>\n",
       "      <td>970249</td>\n",
       "      <td>0.1463</td>\n",
       "    </tr>\n",
       "    <tr>\n",
       "      <th>1</th>\n",
       "      <td>2004-08-25</td>\n",
       "      <td>ULTRACEMCO</td>\n",
       "      <td>EQ</td>\n",
       "      <td>260.20</td>\n",
       "      <td>262.00</td>\n",
       "      <td>264.70</td>\n",
       "      <td>249.20</td>\n",
       "      <td>255.00</td>\n",
       "      <td>255.55</td>\n",
       "      <td>255.54</td>\n",
       "      <td>2794161</td>\n",
       "      <td>7.140107e+13</td>\n",
       "      <td>NaN</td>\n",
       "      <td>584835</td>\n",
       "      <td>0.2093</td>\n",
       "    </tr>\n",
       "    <tr>\n",
       "      <th>2</th>\n",
       "      <td>2004-08-26</td>\n",
       "      <td>ULTRACEMCO</td>\n",
       "      <td>EQ</td>\n",
       "      <td>255.55</td>\n",
       "      <td>257.75</td>\n",
       "      <td>272.50</td>\n",
       "      <td>256.00</td>\n",
       "      <td>270.10</td>\n",
       "      <td>270.70</td>\n",
       "      <td>267.00</td>\n",
       "      <td>2340926</td>\n",
       "      <td>6.250231e+13</td>\n",
       "      <td>NaN</td>\n",
       "      <td>443707</td>\n",
       "      <td>0.1895</td>\n",
       "    </tr>\n",
       "    <tr>\n",
       "      <th>3</th>\n",
       "      <td>2004-08-27</td>\n",
       "      <td>ULTRACEMCO</td>\n",
       "      <td>EQ</td>\n",
       "      <td>270.70</td>\n",
       "      <td>272.00</td>\n",
       "      <td>272.55</td>\n",
       "      <td>260.65</td>\n",
       "      <td>261.35</td>\n",
       "      <td>262.25</td>\n",
       "      <td>264.40</td>\n",
       "      <td>915106</td>\n",
       "      <td>2.419529e+13</td>\n",
       "      <td>NaN</td>\n",
       "      <td>222763</td>\n",
       "      <td>0.2434</td>\n",
       "    </tr>\n",
       "    <tr>\n",
       "      <th>4</th>\n",
       "      <td>2004-08-30</td>\n",
       "      <td>ULTRACEMCO</td>\n",
       "      <td>EQ</td>\n",
       "      <td>262.25</td>\n",
       "      <td>263.70</td>\n",
       "      <td>269.00</td>\n",
       "      <td>262.05</td>\n",
       "      <td>267.00</td>\n",
       "      <td>266.10</td>\n",
       "      <td>265.38</td>\n",
       "      <td>387417</td>\n",
       "      <td>1.028108e+13</td>\n",
       "      <td>NaN</td>\n",
       "      <td>84031</td>\n",
       "      <td>0.2169</td>\n",
       "    </tr>\n",
       "  </tbody>\n",
       "</table>\n",
       "</div>"
      ],
      "text/plain": [
       "         Date      Symbol Series  Prev Close    Open    High     Low    Last  \\\n",
       "0  2004-08-24  ULTRACEMCO     EQ       10.00  305.00  340.00  253.25  259.00   \n",
       "1  2004-08-25  ULTRACEMCO     EQ      260.20  262.00  264.70  249.20  255.00   \n",
       "2  2004-08-26  ULTRACEMCO     EQ      255.55  257.75  272.50  256.00  270.10   \n",
       "3  2004-08-27  ULTRACEMCO     EQ      270.70  272.00  272.55  260.65  261.35   \n",
       "4  2004-08-30  ULTRACEMCO     EQ      262.25  263.70  269.00  262.05  267.00   \n",
       "\n",
       "    Close    VWAP   Volume      Turnover  Trades  Deliverable Volume  \\\n",
       "0  260.20  268.80  6633956  1.783237e+14     NaN              970249   \n",
       "1  255.55  255.54  2794161  7.140107e+13     NaN              584835   \n",
       "2  270.70  267.00  2340926  6.250231e+13     NaN              443707   \n",
       "3  262.25  264.40   915106  2.419529e+13     NaN              222763   \n",
       "4  266.10  265.38   387417  1.028108e+13     NaN               84031   \n",
       "\n",
       "   %Deliverble  \n",
       "0       0.1463  \n",
       "1       0.2093  \n",
       "2       0.1895  \n",
       "3       0.2434  \n",
       "4       0.2169  "
      ]
     },
     "execution_count": 164,
     "metadata": {},
     "output_type": "execute_result"
    }
   ],
   "source": [
    "stock.head()"
   ]
  },
  {
   "cell_type": "code",
   "execution_count": 165,
   "id": "564201f0",
   "metadata": {},
   "outputs": [
    {
     "name": "stdout",
     "output_type": "stream",
     "text": [
      "<class 'pandas.core.frame.DataFrame'>\n",
      "RangeIndex: 4140 entries, 0 to 4139\n",
      "Data columns (total 15 columns):\n",
      " #   Column              Non-Null Count  Dtype  \n",
      "---  ------              --------------  -----  \n",
      " 0   Date                4140 non-null   object \n",
      " 1   Symbol              4140 non-null   object \n",
      " 2   Series              4140 non-null   object \n",
      " 3   Prev Close          4140 non-null   float64\n",
      " 4   Open                4140 non-null   float64\n",
      " 5   High                4140 non-null   float64\n",
      " 6   Low                 4140 non-null   float64\n",
      " 7   Last                4140 non-null   float64\n",
      " 8   Close               4140 non-null   float64\n",
      " 9   VWAP                4140 non-null   float64\n",
      " 10  Volume              4140 non-null   int64  \n",
      " 11  Turnover            4140 non-null   float64\n",
      " 12  Trades              2456 non-null   float64\n",
      " 13  Deliverable Volume  4140 non-null   int64  \n",
      " 14  %Deliverble         4140 non-null   float64\n",
      "dtypes: float64(10), int64(2), object(3)\n",
      "memory usage: 485.3+ KB\n"
     ]
    }
   ],
   "source": [
    "stock.info()"
   ]
  },
  {
   "cell_type": "code",
   "execution_count": 166,
   "id": "c9d711dd",
   "metadata": {},
   "outputs": [
    {
     "data": {
      "text/html": [
       "<div>\n",
       "<style scoped>\n",
       "    .dataframe tbody tr th:only-of-type {\n",
       "        vertical-align: middle;\n",
       "    }\n",
       "\n",
       "    .dataframe tbody tr th {\n",
       "        vertical-align: top;\n",
       "    }\n",
       "\n",
       "    .dataframe thead th {\n",
       "        text-align: right;\n",
       "    }\n",
       "</style>\n",
       "<table border=\"1\" class=\"dataframe\">\n",
       "  <thead>\n",
       "    <tr style=\"text-align: right;\">\n",
       "      <th></th>\n",
       "      <th>Prev Close</th>\n",
       "      <th>Open</th>\n",
       "      <th>High</th>\n",
       "      <th>Low</th>\n",
       "      <th>Last</th>\n",
       "      <th>Close</th>\n",
       "      <th>VWAP</th>\n",
       "      <th>Volume</th>\n",
       "      <th>Turnover</th>\n",
       "      <th>Trades</th>\n",
       "      <th>Deliverable Volume</th>\n",
       "      <th>%Deliverble</th>\n",
       "    </tr>\n",
       "  </thead>\n",
       "  <tbody>\n",
       "    <tr>\n",
       "      <th>count</th>\n",
       "      <td>4140.000000</td>\n",
       "      <td>4140.000000</td>\n",
       "      <td>4140.000000</td>\n",
       "      <td>4140.000000</td>\n",
       "      <td>4140.000000</td>\n",
       "      <td>4140.000000</td>\n",
       "      <td>4140.000000</td>\n",
       "      <td>4.140000e+03</td>\n",
       "      <td>4.140000e+03</td>\n",
       "      <td>2456.000000</td>\n",
       "      <td>4.140000e+03</td>\n",
       "      <td>4140.000000</td>\n",
       "    </tr>\n",
       "    <tr>\n",
       "      <th>mean</th>\n",
       "      <td>2149.412331</td>\n",
       "      <td>2152.617633</td>\n",
       "      <td>2182.208889</td>\n",
       "      <td>2121.329191</td>\n",
       "      <td>2150.547174</td>\n",
       "      <td>2150.926570</td>\n",
       "      <td>2151.959976</td>\n",
       "      <td>2.476179e+05</td>\n",
       "      <td>7.259128e+13</td>\n",
       "      <td>26078.000407</td>\n",
       "      <td>1.390155e+05</td>\n",
       "      <td>0.601918</td>\n",
       "    </tr>\n",
       "    <tr>\n",
       "      <th>std</th>\n",
       "      <td>1523.672869</td>\n",
       "      <td>1526.122210</td>\n",
       "      <td>1542.575320</td>\n",
       "      <td>1508.295746</td>\n",
       "      <td>1524.576526</td>\n",
       "      <td>1524.660937</td>\n",
       "      <td>1525.636357</td>\n",
       "      <td>3.793894e+05</td>\n",
       "      <td>1.221163e+14</td>\n",
       "      <td>21219.302379</td>\n",
       "      <td>2.675854e+05</td>\n",
       "      <td>0.165380</td>\n",
       "    </tr>\n",
       "    <tr>\n",
       "      <th>min</th>\n",
       "      <td>10.000000</td>\n",
       "      <td>256.000000</td>\n",
       "      <td>262.150000</td>\n",
       "      <td>245.250000</td>\n",
       "      <td>253.000000</td>\n",
       "      <td>255.550000</td>\n",
       "      <td>255.540000</td>\n",
       "      <td>4.020000e+02</td>\n",
       "      <td>2.615271e+10</td>\n",
       "      <td>97.000000</td>\n",
       "      <td>4.020000e+02</td>\n",
       "      <td>0.097100</td>\n",
       "    </tr>\n",
       "    <tr>\n",
       "      <th>25%</th>\n",
       "      <td>847.812500</td>\n",
       "      <td>848.987500</td>\n",
       "      <td>864.975000</td>\n",
       "      <td>830.000000</td>\n",
       "      <td>849.000000</td>\n",
       "      <td>848.700000</td>\n",
       "      <td>848.110000</td>\n",
       "      <td>8.101775e+04</td>\n",
       "      <td>6.545025e+12</td>\n",
       "      <td>12156.000000</td>\n",
       "      <td>4.799650e+04</td>\n",
       "      <td>0.492775</td>\n",
       "    </tr>\n",
       "    <tr>\n",
       "      <th>50%</th>\n",
       "      <td>1740.100000</td>\n",
       "      <td>1749.975000</td>\n",
       "      <td>1767.000000</td>\n",
       "      <td>1720.200000</td>\n",
       "      <td>1742.000000</td>\n",
       "      <td>1742.175000</td>\n",
       "      <td>1744.315000</td>\n",
       "      <td>1.687580e+05</td>\n",
       "      <td>2.815186e+13</td>\n",
       "      <td>20725.000000</td>\n",
       "      <td>9.836150e+04</td>\n",
       "      <td>0.615000</td>\n",
       "    </tr>\n",
       "    <tr>\n",
       "      <th>75%</th>\n",
       "      <td>3679.162500</td>\n",
       "      <td>3676.350000</td>\n",
       "      <td>3729.287500</td>\n",
       "      <td>3631.637500</td>\n",
       "      <td>3683.837500</td>\n",
       "      <td>3680.837500</td>\n",
       "      <td>3682.930000</td>\n",
       "      <td>3.038030e+05</td>\n",
       "      <td>9.110827e+13</td>\n",
       "      <td>33559.500000</td>\n",
       "      <td>1.753795e+05</td>\n",
       "      <td>0.718600</td>\n",
       "    </tr>\n",
       "    <tr>\n",
       "      <th>max</th>\n",
       "      <td>6971.250000</td>\n",
       "      <td>7040.000000</td>\n",
       "      <td>7055.950000</td>\n",
       "      <td>6840.000000</td>\n",
       "      <td>7040.000000</td>\n",
       "      <td>6971.250000</td>\n",
       "      <td>6905.460000</td>\n",
       "      <td>1.573858e+07</td>\n",
       "      <td>1.850766e+15</td>\n",
       "      <td>229469.000000</td>\n",
       "      <td>1.431144e+07</td>\n",
       "      <td>1.000000</td>\n",
       "    </tr>\n",
       "  </tbody>\n",
       "</table>\n",
       "</div>"
      ],
      "text/plain": [
       "        Prev Close         Open         High          Low         Last  \\\n",
       "count  4140.000000  4140.000000  4140.000000  4140.000000  4140.000000   \n",
       "mean   2149.412331  2152.617633  2182.208889  2121.329191  2150.547174   \n",
       "std    1523.672869  1526.122210  1542.575320  1508.295746  1524.576526   \n",
       "min      10.000000   256.000000   262.150000   245.250000   253.000000   \n",
       "25%     847.812500   848.987500   864.975000   830.000000   849.000000   \n",
       "50%    1740.100000  1749.975000  1767.000000  1720.200000  1742.000000   \n",
       "75%    3679.162500  3676.350000  3729.287500  3631.637500  3683.837500   \n",
       "max    6971.250000  7040.000000  7055.950000  6840.000000  7040.000000   \n",
       "\n",
       "             Close         VWAP        Volume      Turnover         Trades  \\\n",
       "count  4140.000000  4140.000000  4.140000e+03  4.140000e+03    2456.000000   \n",
       "mean   2150.926570  2151.959976  2.476179e+05  7.259128e+13   26078.000407   \n",
       "std    1524.660937  1525.636357  3.793894e+05  1.221163e+14   21219.302379   \n",
       "min     255.550000   255.540000  4.020000e+02  2.615271e+10      97.000000   \n",
       "25%     848.700000   848.110000  8.101775e+04  6.545025e+12   12156.000000   \n",
       "50%    1742.175000  1744.315000  1.687580e+05  2.815186e+13   20725.000000   \n",
       "75%    3680.837500  3682.930000  3.038030e+05  9.110827e+13   33559.500000   \n",
       "max    6971.250000  6905.460000  1.573858e+07  1.850766e+15  229469.000000   \n",
       "\n",
       "       Deliverable Volume  %Deliverble  \n",
       "count        4.140000e+03  4140.000000  \n",
       "mean         1.390155e+05     0.601918  \n",
       "std          2.675854e+05     0.165380  \n",
       "min          4.020000e+02     0.097100  \n",
       "25%          4.799650e+04     0.492775  \n",
       "50%          9.836150e+04     0.615000  \n",
       "75%          1.753795e+05     0.718600  \n",
       "max          1.431144e+07     1.000000  "
      ]
     },
     "execution_count": 166,
     "metadata": {},
     "output_type": "execute_result"
    }
   ],
   "source": [
    "stock.describe()"
   ]
  },
  {
   "cell_type": "code",
   "execution_count": 167,
   "id": "011a47e9",
   "metadata": {},
   "outputs": [],
   "source": [
    "# Ensure we are working with a copy of the DataFrame to avoid the SettingWithCopyWarning\n",
    "stock = stock.copy()"
   ]
  },
  {
   "cell_type": "code",
   "execution_count": 168,
   "id": "7758c824",
   "metadata": {},
   "outputs": [],
   "source": [
    "# Calculate HL_Perc and CO_Perc\n",
    "stock.loc[:, 'HL_Perc'] = (stock['High'] - stock['Low']) / stock['Low'] * 100\n",
    "stock.loc[:, 'CO_Perc'] = (stock['Close'] - stock['Open']) / stock['Open'] * 100"
   ]
  },
  {
   "cell_type": "code",
   "execution_count": 169,
   "id": "0bb9c198",
   "metadata": {},
   "outputs": [],
   "source": [
    "dates = np.array(stock[\"Date\"])\n",
    "dates_check = dates[-30:]\n",
    "dates = dates[:-30]"
   ]
  },
  {
   "cell_type": "code",
   "execution_count": 170,
   "id": "07901da7",
   "metadata": {},
   "outputs": [
    {
     "data": {
      "text/plain": [
       "Index(['Date', 'Symbol', 'Series', 'Prev Close', 'Open', 'High', 'Low', 'Last',\n",
       "       'Close', 'VWAP', 'Volume', 'Turnover', 'Trades', 'Deliverable Volume',\n",
       "       '%Deliverble', 'HL_Perc', 'CO_Perc'],\n",
       "      dtype='object')"
      ]
     },
     "execution_count": 170,
     "metadata": {},
     "output_type": "execute_result"
    }
   ],
   "source": [
    "stock.columns"
   ]
  },
  {
   "cell_type": "code",
   "execution_count": 171,
   "id": "75b07f7b",
   "metadata": {},
   "outputs": [],
   "source": [
    "stock = stock[[\"HL_Perc\", \"CO_Perc\", \"Close\", \"Volume\"]]"
   ]
  },
  {
   "cell_type": "code",
   "execution_count": 172,
   "id": "772db78e",
   "metadata": {},
   "outputs": [],
   "source": [
    "#Define the label column\n",
    "stock[\"PriceNextMonth\"] = stock[\"Close\"].shift(-30)"
   ]
  },
  {
   "cell_type": "code",
   "execution_count": 173,
   "id": "79011229",
   "metadata": {},
   "outputs": [
    {
     "data": {
      "text/html": [
       "<div>\n",
       "<style scoped>\n",
       "    .dataframe tbody tr th:only-of-type {\n",
       "        vertical-align: middle;\n",
       "    }\n",
       "\n",
       "    .dataframe tbody tr th {\n",
       "        vertical-align: top;\n",
       "    }\n",
       "\n",
       "    .dataframe thead th {\n",
       "        text-align: right;\n",
       "    }\n",
       "</style>\n",
       "<table border=\"1\" class=\"dataframe\">\n",
       "  <thead>\n",
       "    <tr style=\"text-align: right;\">\n",
       "      <th></th>\n",
       "      <th>HL_Perc</th>\n",
       "      <th>CO_Perc</th>\n",
       "      <th>Close</th>\n",
       "      <th>Volume</th>\n",
       "      <th>PriceNextMonth</th>\n",
       "    </tr>\n",
       "  </thead>\n",
       "  <tbody>\n",
       "    <tr>\n",
       "      <th>4135</th>\n",
       "      <td>2.974023</td>\n",
       "      <td>2.350044</td>\n",
       "      <td>6275.90</td>\n",
       "      <td>697792</td>\n",
       "      <td>NaN</td>\n",
       "    </tr>\n",
       "    <tr>\n",
       "      <th>4136</th>\n",
       "      <td>1.778669</td>\n",
       "      <td>0.761268</td>\n",
       "      <td>6326.80</td>\n",
       "      <td>512910</td>\n",
       "      <td>NaN</td>\n",
       "    </tr>\n",
       "    <tr>\n",
       "      <th>4137</th>\n",
       "      <td>1.990446</td>\n",
       "      <td>0.012579</td>\n",
       "      <td>6360.80</td>\n",
       "      <td>414435</td>\n",
       "      <td>NaN</td>\n",
       "    </tr>\n",
       "    <tr>\n",
       "      <th>4138</th>\n",
       "      <td>2.007784</td>\n",
       "      <td>-0.584891</td>\n",
       "      <td>6382.45</td>\n",
       "      <td>406869</td>\n",
       "      <td>NaN</td>\n",
       "    </tr>\n",
       "    <tr>\n",
       "      <th>4139</th>\n",
       "      <td>3.055241</td>\n",
       "      <td>-1.583856</td>\n",
       "      <td>6278.95</td>\n",
       "      <td>475175</td>\n",
       "      <td>NaN</td>\n",
       "    </tr>\n",
       "  </tbody>\n",
       "</table>\n",
       "</div>"
      ],
      "text/plain": [
       "       HL_Perc   CO_Perc    Close  Volume  PriceNextMonth\n",
       "4135  2.974023  2.350044  6275.90  697792             NaN\n",
       "4136  1.778669  0.761268  6326.80  512910             NaN\n",
       "4137  1.990446  0.012579  6360.80  414435             NaN\n",
       "4138  2.007784 -0.584891  6382.45  406869             NaN\n",
       "4139  3.055241 -1.583856  6278.95  475175             NaN"
      ]
     },
     "execution_count": 173,
     "metadata": {},
     "output_type": "execute_result"
    }
   ],
   "source": [
    "stock.tail()"
   ]
  },
  {
   "cell_type": "code",
   "execution_count": 174,
   "id": "c687b99c",
   "metadata": {},
   "outputs": [
    {
     "name": "stderr",
     "output_type": "stream",
     "text": [
      "C:\\Users\\suresh\\AppData\\Local\\Temp\\ipykernel_9868\\459189850.py:2: FutureWarning: In a future version of pandas all arguments of DataFrame.drop except for the argument 'labels' will be keyword-only.\n",
      "  X = np.array(stock.drop([\"PriceNextMonth\"], 1))\n"
     ]
    }
   ],
   "source": [
    "#Make fetaure and label arrays\n",
    "X = np.array(stock.drop([\"PriceNextMonth\"], 1))\n",
    "X = preprocessing.scale(X)\n",
    "X_Check = X[-30:]\n",
    "X = X[:-30]\n",
    "stock.dropna(inplace = True)\n",
    "y = np.array(stock[\"PriceNextMonth\"])"
   ]
  },
  {
   "cell_type": "code",
   "execution_count": 175,
   "id": "381f2472",
   "metadata": {},
   "outputs": [],
   "source": [
    "#Divide the data set into training data and testing data\n",
    "X_train, X_test, y_train, y_test = train_test_split(X,y,test_size = 0.2)"
   ]
  },
  {
   "cell_type": "code",
   "execution_count": 176,
   "id": "489c08a2",
   "metadata": {},
   "outputs": [],
   "source": [
    "#Define the prediction model\n",
    "model = RandomForestRegressor()"
   ]
  },
  {
   "cell_type": "code",
   "execution_count": 177,
   "id": "74ff8cec",
   "metadata": {},
   "outputs": [
    {
     "data": {
      "text/plain": [
       "RandomForestRegressor()"
      ]
     },
     "execution_count": 177,
     "metadata": {},
     "output_type": "execute_result"
    }
   ],
   "source": [
    "#Fit the model using training data\n",
    "model.fit(X_train, y_train)"
   ]
  },
  {
   "cell_type": "code",
   "execution_count": 178,
   "id": "520c0372",
   "metadata": {},
   "outputs": [
    {
     "name": "stdout",
     "output_type": "stream",
     "text": [
      "0.9807010509345552\n"
     ]
    }
   ],
   "source": [
    "#Calculate the confidence value by applying the model to testing data\n",
    "conf = model.score(X_test, y_test)\n",
    "print(conf)"
   ]
  },
  {
   "cell_type": "code",
   "execution_count": 179,
   "id": "b9381393",
   "metadata": {},
   "outputs": [
    {
     "data": {
      "text/plain": [
       "RandomForestRegressor()"
      ]
     },
     "execution_count": 179,
     "metadata": {},
     "output_type": "execute_result"
    }
   ],
   "source": [
    "#Fit the model again using the whole data set\n",
    "model.fit(X,y)"
   ]
  },
  {
   "cell_type": "code",
   "execution_count": 180,
   "id": "4990c67a",
   "metadata": {},
   "outputs": [],
   "source": [
    "predictions = model.predict(X_Check)"
   ]
  },
  {
   "cell_type": "code",
   "execution_count": 181,
   "id": "c0d5a9e2",
   "metadata": {},
   "outputs": [],
   "source": [
    "#Make the final DataFrame containing Dates, ClosePrices, and Forecast values\n",
    "actual = pd.DataFrame(dates, columns = [\"Date\"])\n",
    "actual[\"ClosePrice\"] = stock[\"Close\"]\n",
    "actual[\"Forecast\"] = np.nan\n",
    "actual.set_index(\"Date\", inplace = True)\n",
    "forecast = pd.DataFrame(dates_check, columns=[\"Date\"])\n",
    "forecast[\"Forecast\"] = predictions\n",
    "forecast[\"ClosePrice\"] = np.nan\n",
    "forecast.set_index(\"Date\", inplace = True)\n",
    "var = [actual, forecast]\n",
    "result = pd.concat(var)  #This is the final DataFrame"
   ]
  },
  {
   "cell_type": "code",
   "execution_count": 182,
   "id": "45722829",
   "metadata": {},
   "outputs": [
    {
     "data": {
      "text/plain": [
       "Text(0, 0.5, 'Price')"
      ]
     },
     "execution_count": 182,
     "metadata": {},
     "output_type": "execute_result"
    },
    {
     "data": {
      "image/png": "[encoded data removed]",
      "text/plain": [
       "<Figure size 2000x1000 with 1 Axes>"
      ]
     },
     "metadata": {},
     "output_type": "display_data"
    }
   ],
   "source": [
    "#Plot the final results\n",
    "result.plot(figsize=(20,10), linewidth=1.5)\n",
    "plt.legend(loc=2, prop={'size':20})\n",
    "plt.xlabel('Date')\n",
    "plt.ylabel('Price')"
   ]
  },
  {
   "cell_type": "code",
   "execution_count": null,
   "id": "e099aee8",
   "metadata": {},
   "outputs": [],
   "source": []
  },
  {
   "cell_type": "code",
   "execution_count": null,
   "id": "9f8c7a22",
   "metadata": {},
   "outputs": [],
   "source": []
  }
 ],
 "metadata": {
  "kernelspec": {
   "display_name": "Python 3 (ipykernel)",
   "language": "python",
   "name": "python3"
  },
  "language_info": {
   "codemirror_mode": {
    "name": "ipython",
    "version": 3
   },
   "file_extension": ".py",
   "mimetype": "text/x-python",
   "name": "python",
   "nbconvert_exporter": "python",
   "pygments_lexer": "ipython3",
   "version": "3.9.13"
  }
 },
 "nbformat": 4,
 "nbformat_minor": 5
}
