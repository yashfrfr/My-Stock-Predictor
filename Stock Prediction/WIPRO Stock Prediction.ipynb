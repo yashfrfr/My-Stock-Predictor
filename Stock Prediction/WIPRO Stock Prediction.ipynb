{
 "cells": [
  {
   "cell_type": "code",
   "execution_count": 2,
   "id": "5a20ead1",
   "metadata": {},
   "outputs": [],
   "source": [
    "#Import the libraries\n",
    "import pandas as pd \n",
    "import numpy as np \n",
    "import matplotlib.pyplot as plt \n",
    "from sklearn import preprocessing\n",
    "from sklearn.ensemble import RandomForestRegressor\n",
    "from sklearn.model_selection import train_test_split\n",
    "from sklearn.metrics import mean_absolute_error, r2_score"
   ]
  },
  {
   "cell_type": "code",
   "execution_count": 203,
   "id": "1ebabd9c",
   "metadata": {},
   "outputs": [],
   "source": [
    "stock = pd.read_csv(\"C:/Users/suresh/Desktop/PYTHON ML DATA SCIENCE/Stock Prediction/Stock Data/WIPRO.csv\")"
   ]
  },
  {
   "cell_type": "code",
   "execution_count": 204,
   "id": "b4a873d4",
   "metadata": {},
   "outputs": [
    {
     "data": {
      "text/html": [
       "<div>\n",
       "<style scoped>\n",
       "    .dataframe tbody tr th:only-of-type {\n",
       "        vertical-align: middle;\n",
       "    }\n",
       "\n",
       "    .dataframe tbody tr th {\n",
       "        vertical-align: top;\n",
       "    }\n",
       "\n",
       "    .dataframe thead th {\n",
       "        text-align: right;\n",
       "    }\n",
       "</style>\n",
       "<table border=\"1\" class=\"dataframe\">\n",
       "  <thead>\n",
       "    <tr style=\"text-align: right;\">\n",
       "      <th></th>\n",
       "      <th>Date</th>\n",
       "      <th>Symbol</th>\n",
       "      <th>Series</th>\n",
       "      <th>Prev Close</th>\n",
       "      <th>Open</th>\n",
       "      <th>High</th>\n",
       "      <th>Low</th>\n",
       "      <th>Last</th>\n",
       "      <th>Close</th>\n",
       "      <th>VWAP</th>\n",
       "      <th>Volume</th>\n",
       "      <th>Turnover</th>\n",
       "      <th>Trades</th>\n",
       "      <th>Deliverable Volume</th>\n",
       "      <th>%Deliverble</th>\n",
       "    </tr>\n",
       "  </thead>\n",
       "  <tbody>\n",
       "    <tr>\n",
       "      <th>0</th>\n",
       "      <td>2000-01-03</td>\n",
       "      <td>WIPRO</td>\n",
       "      <td>EQ</td>\n",
       "      <td>2522.40</td>\n",
       "      <td>2724.00</td>\n",
       "      <td>2724.20</td>\n",
       "      <td>2724.00</td>\n",
       "      <td>2724.20</td>\n",
       "      <td>2724.20</td>\n",
       "      <td>2724.17</td>\n",
       "      <td>1599</td>\n",
       "      <td>4.355942e+11</td>\n",
       "      <td>NaN</td>\n",
       "      <td>NaN</td>\n",
       "      <td>NaN</td>\n",
       "    </tr>\n",
       "    <tr>\n",
       "      <th>1</th>\n",
       "      <td>2000-01-04</td>\n",
       "      <td>WIPRO</td>\n",
       "      <td>EQ</td>\n",
       "      <td>2724.20</td>\n",
       "      <td>2942.15</td>\n",
       "      <td>2942.15</td>\n",
       "      <td>2942.15</td>\n",
       "      <td>2942.15</td>\n",
       "      <td>2942.15</td>\n",
       "      <td>2942.15</td>\n",
       "      <td>4392</td>\n",
       "      <td>1.292192e+12</td>\n",
       "      <td>NaN</td>\n",
       "      <td>NaN</td>\n",
       "      <td>NaN</td>\n",
       "    </tr>\n",
       "    <tr>\n",
       "      <th>2</th>\n",
       "      <td>2000-01-05</td>\n",
       "      <td>WIPRO</td>\n",
       "      <td>EQ</td>\n",
       "      <td>2942.15</td>\n",
       "      <td>2942.15</td>\n",
       "      <td>3177.55</td>\n",
       "      <td>2715.00</td>\n",
       "      <td>3000.00</td>\n",
       "      <td>2990.10</td>\n",
       "      <td>3063.86</td>\n",
       "      <td>132297</td>\n",
       "      <td>4.053390e+13</td>\n",
       "      <td>NaN</td>\n",
       "      <td>NaN</td>\n",
       "      <td>NaN</td>\n",
       "    </tr>\n",
       "    <tr>\n",
       "      <th>3</th>\n",
       "      <td>2000-01-06</td>\n",
       "      <td>WIPRO</td>\n",
       "      <td>EQ</td>\n",
       "      <td>2990.10</td>\n",
       "      <td>3144.70</td>\n",
       "      <td>3183.00</td>\n",
       "      <td>2790.00</td>\n",
       "      <td>2915.00</td>\n",
       "      <td>2932.25</td>\n",
       "      <td>2962.41</td>\n",
       "      <td>72840</td>\n",
       "      <td>2.157822e+13</td>\n",
       "      <td>NaN</td>\n",
       "      <td>NaN</td>\n",
       "      <td>NaN</td>\n",
       "    </tr>\n",
       "    <tr>\n",
       "      <th>4</th>\n",
       "      <td>2000-01-07</td>\n",
       "      <td>WIPRO</td>\n",
       "      <td>EQ</td>\n",
       "      <td>2932.25</td>\n",
       "      <td>2751.00</td>\n",
       "      <td>2751.00</td>\n",
       "      <td>2697.70</td>\n",
       "      <td>2697.70</td>\n",
       "      <td>2697.70</td>\n",
       "      <td>2697.95</td>\n",
       "      <td>10110</td>\n",
       "      <td>2.727630e+12</td>\n",
       "      <td>NaN</td>\n",
       "      <td>NaN</td>\n",
       "      <td>NaN</td>\n",
       "    </tr>\n",
       "  </tbody>\n",
       "</table>\n",
       "</div>"
      ],
      "text/plain": [
       "         Date Symbol Series  Prev Close     Open     High      Low     Last  \\\n",
       "0  2000-01-03  WIPRO     EQ     2522.40  2724.00  2724.20  2724.00  2724.20   \n",
       "1  2000-01-04  WIPRO     EQ     2724.20  2942.15  2942.15  2942.15  2942.15   \n",
       "2  2000-01-05  WIPRO     EQ     2942.15  2942.15  3177.55  2715.00  3000.00   \n",
       "3  2000-01-06  WIPRO     EQ     2990.10  3144.70  3183.00  2790.00  2915.00   \n",
       "4  2000-01-07  WIPRO     EQ     2932.25  2751.00  2751.00  2697.70  2697.70   \n",
       "\n",
       "     Close     VWAP  Volume      Turnover  Trades  Deliverable Volume  \\\n",
       "0  2724.20  2724.17    1599  4.355942e+11     NaN                 NaN   \n",
       "1  2942.15  2942.15    4392  1.292192e+12     NaN                 NaN   \n",
       "2  2990.10  3063.86  132297  4.053390e+13     NaN                 NaN   \n",
       "3  2932.25  2962.41   72840  2.157822e+13     NaN                 NaN   \n",
       "4  2697.70  2697.95   10110  2.727630e+12     NaN                 NaN   \n",
       "\n",
       "   %Deliverble  \n",
       "0          NaN  \n",
       "1          NaN  \n",
       "2          NaN  \n",
       "3          NaN  \n",
       "4          NaN  "
      ]
     },
     "execution_count": 204,
     "metadata": {},
     "output_type": "execute_result"
    }
   ],
   "source": [
    "stock.head()"
   ]
  },
  {
   "cell_type": "code",
   "execution_count": 205,
   "id": "564201f0",
   "metadata": {},
   "outputs": [
    {
     "name": "stdout",
     "output_type": "stream",
     "text": [
      "<class 'pandas.core.frame.DataFrame'>\n",
      "RangeIndex: 5306 entries, 0 to 5305\n",
      "Data columns (total 15 columns):\n",
      " #   Column              Non-Null Count  Dtype  \n",
      "---  ------              --------------  -----  \n",
      " 0   Date                5306 non-null   object \n",
      " 1   Symbol              5306 non-null   object \n",
      " 2   Series              5306 non-null   object \n",
      " 3   Prev Close          5306 non-null   float64\n",
      " 4   Open                5306 non-null   float64\n",
      " 5   High                5306 non-null   float64\n",
      " 6   Low                 5306 non-null   float64\n",
      " 7   Last                5306 non-null   float64\n",
      " 8   Close               5306 non-null   float64\n",
      " 9   VWAP                5306 non-null   float64\n",
      " 10  Volume              5306 non-null   int64  \n",
      " 11  Turnover            5306 non-null   float64\n",
      " 12  Trades              2456 non-null   float64\n",
      " 13  Deliverable Volume  4797 non-null   float64\n",
      " 14  %Deliverble         4797 non-null   float64\n",
      "dtypes: float64(11), int64(1), object(3)\n",
      "memory usage: 621.9+ KB\n"
     ]
    }
   ],
   "source": [
    "stock.info()"
   ]
  },
  {
   "cell_type": "code",
   "execution_count": 206,
   "id": "c9d711dd",
   "metadata": {},
   "outputs": [
    {
     "data": {
      "text/html": [
       "<div>\n",
       "<style scoped>\n",
       "    .dataframe tbody tr th:only-of-type {\n",
       "        vertical-align: middle;\n",
       "    }\n",
       "\n",
       "    .dataframe tbody tr th {\n",
       "        vertical-align: top;\n",
       "    }\n",
       "\n",
       "    .dataframe thead th {\n",
       "        text-align: right;\n",
       "    }\n",
       "</style>\n",
       "<table border=\"1\" class=\"dataframe\">\n",
       "  <thead>\n",
       "    <tr style=\"text-align: right;\">\n",
       "      <th></th>\n",
       "      <th>Prev Close</th>\n",
       "      <th>Open</th>\n",
       "      <th>High</th>\n",
       "      <th>Low</th>\n",
       "      <th>Last</th>\n",
       "      <th>Close</th>\n",
       "      <th>VWAP</th>\n",
       "      <th>Volume</th>\n",
       "      <th>Turnover</th>\n",
       "      <th>Trades</th>\n",
       "      <th>Deliverable Volume</th>\n",
       "      <th>%Deliverble</th>\n",
       "    </tr>\n",
       "  </thead>\n",
       "  <tbody>\n",
       "    <tr>\n",
       "      <th>count</th>\n",
       "      <td>5306.000000</td>\n",
       "      <td>5306.000000</td>\n",
       "      <td>5306.000000</td>\n",
       "      <td>5306.000000</td>\n",
       "      <td>5306.000000</td>\n",
       "      <td>5306.000000</td>\n",
       "      <td>5306.000000</td>\n",
       "      <td>5.306000e+03</td>\n",
       "      <td>5.306000e+03</td>\n",
       "      <td>2456.000000</td>\n",
       "      <td>4.797000e+03</td>\n",
       "      <td>4797.000000</td>\n",
       "    </tr>\n",
       "    <tr>\n",
       "      <th>mean</th>\n",
       "      <td>754.857303</td>\n",
       "      <td>756.799981</td>\n",
       "      <td>772.478364</td>\n",
       "      <td>738.150886</td>\n",
       "      <td>754.522418</td>\n",
       "      <td>754.474783</td>\n",
       "      <td>755.165515</td>\n",
       "      <td>2.236123e+06</td>\n",
       "      <td>1.024537e+14</td>\n",
       "      <td>48112.935668</td>\n",
       "      <td>9.957321e+05</td>\n",
       "      <td>0.459096</td>\n",
       "    </tr>\n",
       "    <tr>\n",
       "      <th>std</th>\n",
       "      <td>794.521897</td>\n",
       "      <td>803.371567</td>\n",
       "      <td>825.259513</td>\n",
       "      <td>768.613272</td>\n",
       "      <td>794.383479</td>\n",
       "      <td>794.159260</td>\n",
       "      <td>795.825682</td>\n",
       "      <td>4.827183e+06</td>\n",
       "      <td>1.741585e+14</td>\n",
       "      <td>46662.502048</td>\n",
       "      <td>1.324731e+06</td>\n",
       "      <td>0.185192</td>\n",
       "    </tr>\n",
       "    <tr>\n",
       "      <th>min</th>\n",
       "      <td>162.350000</td>\n",
       "      <td>163.100000</td>\n",
       "      <td>171.350000</td>\n",
       "      <td>159.400000</td>\n",
       "      <td>161.800000</td>\n",
       "      <td>162.350000</td>\n",
       "      <td>166.440000</td>\n",
       "      <td>1.003000e+03</td>\n",
       "      <td>4.355942e+11</td>\n",
       "      <td>692.000000</td>\n",
       "      <td>8.242000e+03</td>\n",
       "      <td>0.036400</td>\n",
       "    </tr>\n",
       "    <tr>\n",
       "      <th>25%</th>\n",
       "      <td>380.525000</td>\n",
       "      <td>380.575000</td>\n",
       "      <td>386.900000</td>\n",
       "      <td>374.475000</td>\n",
       "      <td>380.612500</td>\n",
       "      <td>380.525000</td>\n",
       "      <td>380.480000</td>\n",
       "      <td>6.937025e+05</td>\n",
       "      <td>4.319006e+13</td>\n",
       "      <td>25021.000000</td>\n",
       "      <td>3.023500e+05</td>\n",
       "      <td>0.332100</td>\n",
       "    </tr>\n",
       "    <tr>\n",
       "      <th>50%</th>\n",
       "      <td>503.400000</td>\n",
       "      <td>504.000000</td>\n",
       "      <td>510.800000</td>\n",
       "      <td>494.500000</td>\n",
       "      <td>503.800000</td>\n",
       "      <td>503.250000</td>\n",
       "      <td>503.450000</td>\n",
       "      <td>1.152270e+06</td>\n",
       "      <td>6.579357e+13</td>\n",
       "      <td>36659.500000</td>\n",
       "      <td>6.432110e+05</td>\n",
       "      <td>0.483000</td>\n",
       "    </tr>\n",
       "    <tr>\n",
       "      <th>75%</th>\n",
       "      <td>679.225000</td>\n",
       "      <td>680.000000</td>\n",
       "      <td>690.887500</td>\n",
       "      <td>670.812500</td>\n",
       "      <td>679.925000</td>\n",
       "      <td>678.687500</td>\n",
       "      <td>680.795000</td>\n",
       "      <td>2.004576e+06</td>\n",
       "      <td>1.075259e+14</td>\n",
       "      <td>55772.750000</td>\n",
       "      <td>1.197829e+06</td>\n",
       "      <td>0.596700</td>\n",
       "    </tr>\n",
       "    <tr>\n",
       "      <th>max</th>\n",
       "      <td>9587.450000</td>\n",
       "      <td>10350.000000</td>\n",
       "      <td>10350.000000</td>\n",
       "      <td>8928.350000</td>\n",
       "      <td>9640.000000</td>\n",
       "      <td>9587.450000</td>\n",
       "      <td>9607.140000</td>\n",
       "      <td>1.303677e+08</td>\n",
       "      <td>5.075003e+15</td>\n",
       "      <td>793471.000000</td>\n",
       "      <td>3.554140e+07</td>\n",
       "      <td>0.939400</td>\n",
       "    </tr>\n",
       "  </tbody>\n",
       "</table>\n",
       "</div>"
      ],
      "text/plain": [
       "        Prev Close          Open          High          Low         Last  \\\n",
       "count  5306.000000   5306.000000   5306.000000  5306.000000  5306.000000   \n",
       "mean    754.857303    756.799981    772.478364   738.150886   754.522418   \n",
       "std     794.521897    803.371567    825.259513   768.613272   794.383479   \n",
       "min     162.350000    163.100000    171.350000   159.400000   161.800000   \n",
       "25%     380.525000    380.575000    386.900000   374.475000   380.612500   \n",
       "50%     503.400000    504.000000    510.800000   494.500000   503.800000   \n",
       "75%     679.225000    680.000000    690.887500   670.812500   679.925000   \n",
       "max    9587.450000  10350.000000  10350.000000  8928.350000  9640.000000   \n",
       "\n",
       "             Close         VWAP        Volume      Turnover         Trades  \\\n",
       "count  5306.000000  5306.000000  5.306000e+03  5.306000e+03    2456.000000   \n",
       "mean    754.474783   755.165515  2.236123e+06  1.024537e+14   48112.935668   \n",
       "std     794.159260   795.825682  4.827183e+06  1.741585e+14   46662.502048   \n",
       "min     162.350000   166.440000  1.003000e+03  4.355942e+11     692.000000   \n",
       "25%     380.525000   380.480000  6.937025e+05  4.319006e+13   25021.000000   \n",
       "50%     503.250000   503.450000  1.152270e+06  6.579357e+13   36659.500000   \n",
       "75%     678.687500   680.795000  2.004576e+06  1.075259e+14   55772.750000   \n",
       "max    9587.450000  9607.140000  1.303677e+08  5.075003e+15  793471.000000   \n",
       "\n",
       "       Deliverable Volume  %Deliverble  \n",
       "count        4.797000e+03  4797.000000  \n",
       "mean         9.957321e+05     0.459096  \n",
       "std          1.324731e+06     0.185192  \n",
       "min          8.242000e+03     0.036400  \n",
       "25%          3.023500e+05     0.332100  \n",
       "50%          6.432110e+05     0.483000  \n",
       "75%          1.197829e+06     0.596700  \n",
       "max          3.554140e+07     0.939400  "
      ]
     },
     "execution_count": 206,
     "metadata": {},
     "output_type": "execute_result"
    }
   ],
   "source": [
    "stock.describe()"
   ]
  },
  {
   "cell_type": "code",
   "execution_count": 207,
   "id": "011a47e9",
   "metadata": {},
   "outputs": [],
   "source": [
    "# Ensure we are working with a copy of the DataFrame to avoid the SettingWithCopyWarning\n",
    "stock = stock.copy()"
   ]
  },
  {
   "cell_type": "code",
   "execution_count": 208,
   "id": "7758c824",
   "metadata": {},
   "outputs": [],
   "source": [
    "# Calculate HL_Perc and CO_Perc\n",
    "stock.loc[:, 'HL_Perc'] = (stock['High'] - stock['Low']) / stock['Low'] * 100\n",
    "stock.loc[:, 'CO_Perc'] = (stock['Close'] - stock['Open']) / stock['Open'] * 100"
   ]
  },
  {
   "cell_type": "code",
   "execution_count": 209,
   "id": "0bb9c198",
   "metadata": {},
   "outputs": [],
   "source": [
    "dates = np.array(stock[\"Date\"])\n",
    "dates_check = dates[-30:]\n",
    "dates = dates[:-30]"
   ]
  },
  {
   "cell_type": "code",
   "execution_count": 210,
   "id": "07901da7",
   "metadata": {},
   "outputs": [
    {
     "data": {
      "text/plain": [
       "Index(['Date', 'Symbol', 'Series', 'Prev Close', 'Open', 'High', 'Low', 'Last',\n",
       "       'Close', 'VWAP', 'Volume', 'Turnover', 'Trades', 'Deliverable Volume',\n",
       "       '%Deliverble', 'HL_Perc', 'CO_Perc'],\n",
       "      dtype='object')"
      ]
     },
     "execution_count": 210,
     "metadata": {},
     "output_type": "execute_result"
    }
   ],
   "source": [
    "stock.columns"
   ]
  },
  {
   "cell_type": "code",
   "execution_count": 211,
   "id": "75b07f7b",
   "metadata": {},
   "outputs": [],
   "source": [
    "stock = stock[[\"HL_Perc\", \"CO_Perc\", \"Close\", \"Volume\"]]"
   ]
  },
  {
   "cell_type": "code",
   "execution_count": 212,
   "id": "772db78e",
   "metadata": {},
   "outputs": [],
   "source": [
    "#Define the label column\n",
    "stock[\"PriceNextMonth\"] = stock[\"Close\"].shift(-30)"
   ]
  },
  {
   "cell_type": "code",
   "execution_count": 213,
   "id": "79011229",
   "metadata": {},
   "outputs": [
    {
     "data": {
      "text/html": [
       "<div>\n",
       "<style scoped>\n",
       "    .dataframe tbody tr th:only-of-type {\n",
       "        vertical-align: middle;\n",
       "    }\n",
       "\n",
       "    .dataframe tbody tr th {\n",
       "        vertical-align: top;\n",
       "    }\n",
       "\n",
       "    .dataframe thead th {\n",
       "        text-align: right;\n",
       "    }\n",
       "</style>\n",
       "<table border=\"1\" class=\"dataframe\">\n",
       "  <thead>\n",
       "    <tr style=\"text-align: right;\">\n",
       "      <th></th>\n",
       "      <th>HL_Perc</th>\n",
       "      <th>CO_Perc</th>\n",
       "      <th>Close</th>\n",
       "      <th>Volume</th>\n",
       "      <th>PriceNextMonth</th>\n",
       "    </tr>\n",
       "  </thead>\n",
       "  <tbody>\n",
       "    <tr>\n",
       "      <th>5301</th>\n",
       "      <td>1.436059</td>\n",
       "      <td>0.187735</td>\n",
       "      <td>480.30</td>\n",
       "      <td>9314644</td>\n",
       "      <td>NaN</td>\n",
       "    </tr>\n",
       "    <tr>\n",
       "      <th>5302</th>\n",
       "      <td>1.247401</td>\n",
       "      <td>0.758205</td>\n",
       "      <td>485.05</td>\n",
       "      <td>7209467</td>\n",
       "      <td>NaN</td>\n",
       "    </tr>\n",
       "    <tr>\n",
       "      <th>5303</th>\n",
       "      <td>2.483117</td>\n",
       "      <td>0.710096</td>\n",
       "      <td>489.30</td>\n",
       "      <td>9615534</td>\n",
       "      <td>NaN</td>\n",
       "    </tr>\n",
       "    <tr>\n",
       "      <th>5304</th>\n",
       "      <td>1.461808</td>\n",
       "      <td>-0.578445</td>\n",
       "      <td>489.85</td>\n",
       "      <td>7641133</td>\n",
       "      <td>NaN</td>\n",
       "    </tr>\n",
       "    <tr>\n",
       "      <th>5305</th>\n",
       "      <td>4.598406</td>\n",
       "      <td>0.254323</td>\n",
       "      <td>492.75</td>\n",
       "      <td>29115571</td>\n",
       "      <td>NaN</td>\n",
       "    </tr>\n",
       "  </tbody>\n",
       "</table>\n",
       "</div>"
      ],
      "text/plain": [
       "       HL_Perc   CO_Perc   Close    Volume  PriceNextMonth\n",
       "5301  1.436059  0.187735  480.30   9314644             NaN\n",
       "5302  1.247401  0.758205  485.05   7209467             NaN\n",
       "5303  2.483117  0.710096  489.30   9615534             NaN\n",
       "5304  1.461808 -0.578445  489.85   7641133             NaN\n",
       "5305  4.598406  0.254323  492.75  29115571             NaN"
      ]
     },
     "execution_count": 213,
     "metadata": {},
     "output_type": "execute_result"
    }
   ],
   "source": [
    "stock.tail()"
   ]
  },
  {
   "cell_type": "code",
   "execution_count": 214,
   "id": "c687b99c",
   "metadata": {},
   "outputs": [
    {
     "name": "stderr",
     "output_type": "stream",
     "text": [
      "C:\\Users\\suresh\\AppData\\Local\\Temp\\ipykernel_9868\\459189850.py:2: FutureWarning: In a future version of pandas all arguments of DataFrame.drop except for the argument 'labels' will be keyword-only.\n",
      "  X = np.array(stock.drop([\"PriceNextMonth\"], 1))\n"
     ]
    }
   ],
   "source": [
    "#Make fetaure and label arrays\n",
    "X = np.array(stock.drop([\"PriceNextMonth\"], 1))\n",
    "X = preprocessing.scale(X)\n",
    "X_Check = X[-30:]\n",
    "X = X[:-30]\n",
    "stock.dropna(inplace = True)\n",
    "y = np.array(stock[\"PriceNextMonth\"])"
   ]
  },
  {
   "cell_type": "code",
   "execution_count": 215,
   "id": "381f2472",
   "metadata": {},
   "outputs": [],
   "source": [
    "#Divide the data set into training data and testing data\n",
    "X_train, X_test, y_train, y_test = train_test_split(X,y,test_size = 0.2)"
   ]
  },
  {
   "cell_type": "code",
   "execution_count": 216,
   "id": "489c08a2",
   "metadata": {},
   "outputs": [],
   "source": [
    "#Define the prediction model\n",
    "model = RandomForestRegressor()"
   ]
  },
  {
   "cell_type": "code",
   "execution_count": 217,
   "id": "74ff8cec",
   "metadata": {},
   "outputs": [
    {
     "data": {
      "text/plain": [
       "RandomForestRegressor()"
      ]
     },
     "execution_count": 217,
     "metadata": {},
     "output_type": "execute_result"
    }
   ],
   "source": [
    "#Fit the model using training data\n",
    "model.fit(X_train, y_train)"
   ]
  },
  {
   "cell_type": "code",
   "execution_count": 218,
   "id": "520c0372",
   "metadata": {},
   "outputs": [
    {
     "name": "stdout",
     "output_type": "stream",
     "text": [
      "0.8723100965855164\n"
     ]
    }
   ],
   "source": [
    "#Calculate the confidence value by applying the model to testing data\n",
    "conf = model.score(X_test, y_test)\n",
    "print(conf)"
   ]
  },
  {
   "cell_type": "code",
   "execution_count": 219,
   "id": "b9381393",
   "metadata": {},
   "outputs": [
    {
     "data": {
      "text/plain": [
       "RandomForestRegressor()"
      ]
     },
     "execution_count": 219,
     "metadata": {},
     "output_type": "execute_result"
    }
   ],
   "source": [
    "#Fit the model again using the whole data set\n",
    "model.fit(X,y)"
   ]
  },
  {
   "cell_type": "code",
   "execution_count": 220,
   "id": "4990c67a",
   "metadata": {},
   "outputs": [],
   "source": [
    "predictions = model.predict(X_Check)"
   ]
  },
  {
   "cell_type": "code",
   "execution_count": 221,
   "id": "c0d5a9e2",
   "metadata": {},
   "outputs": [],
   "source": [
    "#Make the final DataFrame containing Dates, ClosePrices, and Forecast values\n",
    "actual = pd.DataFrame(dates, columns = [\"Date\"])\n",
    "actual[\"ClosePrice\"] = stock[\"Close\"]\n",
    "actual[\"Forecast\"] = np.nan\n",
    "actual.set_index(\"Date\", inplace = True)\n",
    "forecast = pd.DataFrame(dates_check, columns=[\"Date\"])\n",
    "forecast[\"Forecast\"] = predictions\n",
    "forecast[\"ClosePrice\"] = np.nan\n",
    "forecast.set_index(\"Date\", inplace = True)\n",
    "var = [actual, forecast]\n",
    "result = pd.concat(var)  #This is the final DataFrame"
   ]
  },
  {
   "cell_type": "code",
   "execution_count": 222,
   "id": "45722829",
   "metadata": {},
   "outputs": [
    {
     "data": {
      "text/plain": [
       "Text(0, 0.5, 'Price')"
      ]
     },
     "execution_count": 222,
     "metadata": {},
     "output_type": "execute_result"
    },
    {
     "data": {
      "image/png": "[encoded data removed]",
      "text/plain": [
       "<Figure size 2000x1000 with 1 Axes>"
      ]
     },
     "metadata": {},
     "output_type": "display_data"
    }
   ],
   "source": [
    "#Plot the final results\n",
    "result.plot(figsize=(20,10), linewidth=1.5)\n",
    "plt.legend(loc=2, prop={'size':20})\n",
    "plt.xlabel('Date')\n",
    "plt.ylabel('Price')"
   ]
  },
  {
   "cell_type": "code",
   "execution_count": null,
   "id": "e099aee8",
   "metadata": {},
   "outputs": [],
   "source": []
  },
  {
   "cell_type": "code",
   "execution_count": null,
   "id": "9f8c7a22",
   "metadata": {},
   "outputs": [],
   "source": []
  }
 ],
 "metadata": {
  "kernelspec": {
   "display_name": "Python 3 (ipykernel)",
   "language": "python",
   "name": "python3"
  },
  "language_info": {
   "codemirror_mode": {
    "name": "ipython",
    "version": 3
   },
   "file_extension": ".py",
   "mimetype": "text/x-python",
   "name": "python",
   "nbconvert_exporter": "python",
   "pygments_lexer": "ipython3",
   "version": "3.9.13"
  }
 },
 "nbformat": 4,
 "nbformat_minor": 5
}
