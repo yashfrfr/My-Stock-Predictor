{
 "cells": [
  {
   "cell_type": "code",
   "execution_count": 2,
   "id": "5a20ead1",
   "metadata": {},
   "outputs": [],
   "source": [
    "#Import the libraries\n",
    "import pandas as pd \n",
    "import numpy as np \n",
    "import matplotlib.pyplot as plt \n",
    "from sklearn import preprocessing\n",
    "from sklearn.ensemble import RandomForestRegressor\n",
    "from sklearn.model_selection import train_test_split\n",
    "from sklearn.metrics import mean_absolute_error, r2_score"
   ]
  },
  {
   "cell_type": "code",
   "execution_count": 223,
   "id": "1ebabd9c",
   "metadata": {},
   "outputs": [],
   "source": [
    "stock = pd.read_csv(\"C:/Users/suresh/Desktop/PYTHON ML DATA SCIENCE/Stock Prediction/Stock Data/HCLTECH.csv\")"
   ]
  },
  {
   "cell_type": "code",
   "execution_count": 224,
   "id": "b4a873d4",
   "metadata": {},
   "outputs": [
    {
     "data": {
      "text/html": [
       "<div>\n",
       "<style scoped>\n",
       "    .dataframe tbody tr th:only-of-type {\n",
       "        vertical-align: middle;\n",
       "    }\n",
       "\n",
       "    .dataframe tbody tr th {\n",
       "        vertical-align: top;\n",
       "    }\n",
       "\n",
       "    .dataframe thead th {\n",
       "        text-align: right;\n",
       "    }\n",
       "</style>\n",
       "<table border=\"1\" class=\"dataframe\">\n",
       "  <thead>\n",
       "    <tr style=\"text-align: right;\">\n",
       "      <th></th>\n",
       "      <th>Date</th>\n",
       "      <th>Symbol</th>\n",
       "      <th>Series</th>\n",
       "      <th>Prev Close</th>\n",
       "      <th>Open</th>\n",
       "      <th>High</th>\n",
       "      <th>Low</th>\n",
       "      <th>Last</th>\n",
       "      <th>Close</th>\n",
       "      <th>VWAP</th>\n",
       "      <th>Volume</th>\n",
       "      <th>Turnover</th>\n",
       "      <th>Trades</th>\n",
       "      <th>Deliverable Volume</th>\n",
       "      <th>%Deliverble</th>\n",
       "    </tr>\n",
       "  </thead>\n",
       "  <tbody>\n",
       "    <tr>\n",
       "      <th>0</th>\n",
       "      <td>2000-01-11</td>\n",
       "      <td>HCLTECH</td>\n",
       "      <td>EQ</td>\n",
       "      <td>580.00</td>\n",
       "      <td>1550.0</td>\n",
       "      <td>1725.00</td>\n",
       "      <td>1492.00</td>\n",
       "      <td>1560.00</td>\n",
       "      <td>1554.45</td>\n",
       "      <td>1582.72</td>\n",
       "      <td>1192200</td>\n",
       "      <td>1.886915e+14</td>\n",
       "      <td>NaN</td>\n",
       "      <td>NaN</td>\n",
       "      <td>NaN</td>\n",
       "    </tr>\n",
       "    <tr>\n",
       "      <th>1</th>\n",
       "      <td>2000-01-12</td>\n",
       "      <td>HCLTECH</td>\n",
       "      <td>EQ</td>\n",
       "      <td>1554.45</td>\n",
       "      <td>1560.0</td>\n",
       "      <td>1678.85</td>\n",
       "      <td>1560.00</td>\n",
       "      <td>1678.85</td>\n",
       "      <td>1678.85</td>\n",
       "      <td>1657.05</td>\n",
       "      <td>344850</td>\n",
       "      <td>5.714349e+13</td>\n",
       "      <td>NaN</td>\n",
       "      <td>NaN</td>\n",
       "      <td>NaN</td>\n",
       "    </tr>\n",
       "    <tr>\n",
       "      <th>2</th>\n",
       "      <td>2000-01-13</td>\n",
       "      <td>HCLTECH</td>\n",
       "      <td>EQ</td>\n",
       "      <td>1678.85</td>\n",
       "      <td>1790.0</td>\n",
       "      <td>1813.20</td>\n",
       "      <td>1781.00</td>\n",
       "      <td>1813.20</td>\n",
       "      <td>1813.20</td>\n",
       "      <td>1804.69</td>\n",
       "      <td>53000</td>\n",
       "      <td>9.564880e+12</td>\n",
       "      <td>NaN</td>\n",
       "      <td>NaN</td>\n",
       "      <td>NaN</td>\n",
       "    </tr>\n",
       "    <tr>\n",
       "      <th>3</th>\n",
       "      <td>2000-01-14</td>\n",
       "      <td>HCLTECH</td>\n",
       "      <td>EQ</td>\n",
       "      <td>1813.20</td>\n",
       "      <td>1958.3</td>\n",
       "      <td>1958.30</td>\n",
       "      <td>1835.00</td>\n",
       "      <td>1958.30</td>\n",
       "      <td>1958.30</td>\n",
       "      <td>1939.90</td>\n",
       "      <td>270950</td>\n",
       "      <td>5.256169e+13</td>\n",
       "      <td>NaN</td>\n",
       "      <td>NaN</td>\n",
       "      <td>NaN</td>\n",
       "    </tr>\n",
       "    <tr>\n",
       "      <th>4</th>\n",
       "      <td>2000-01-17</td>\n",
       "      <td>HCLTECH</td>\n",
       "      <td>EQ</td>\n",
       "      <td>1958.30</td>\n",
       "      <td>2115.0</td>\n",
       "      <td>2115.00</td>\n",
       "      <td>1801.65</td>\n",
       "      <td>1801.65</td>\n",
       "      <td>1801.65</td>\n",
       "      <td>1990.55</td>\n",
       "      <td>428800</td>\n",
       "      <td>8.535473e+13</td>\n",
       "      <td>NaN</td>\n",
       "      <td>NaN</td>\n",
       "      <td>NaN</td>\n",
       "    </tr>\n",
       "  </tbody>\n",
       "</table>\n",
       "</div>"
      ],
      "text/plain": [
       "         Date   Symbol Series  Prev Close    Open     High      Low     Last  \\\n",
       "0  2000-01-11  HCLTECH     EQ      580.00  1550.0  1725.00  1492.00  1560.00   \n",
       "1  2000-01-12  HCLTECH     EQ     1554.45  1560.0  1678.85  1560.00  1678.85   \n",
       "2  2000-01-13  HCLTECH     EQ     1678.85  1790.0  1813.20  1781.00  1813.20   \n",
       "3  2000-01-14  HCLTECH     EQ     1813.20  1958.3  1958.30  1835.00  1958.30   \n",
       "4  2000-01-17  HCLTECH     EQ     1958.30  2115.0  2115.00  1801.65  1801.65   \n",
       "\n",
       "     Close     VWAP   Volume      Turnover  Trades  Deliverable Volume  \\\n",
       "0  1554.45  1582.72  1192200  1.886915e+14     NaN                 NaN   \n",
       "1  1678.85  1657.05   344850  5.714349e+13     NaN                 NaN   \n",
       "2  1813.20  1804.69    53000  9.564880e+12     NaN                 NaN   \n",
       "3  1958.30  1939.90   270950  5.256169e+13     NaN                 NaN   \n",
       "4  1801.65  1990.55   428800  8.535473e+13     NaN                 NaN   \n",
       "\n",
       "   %Deliverble  \n",
       "0          NaN  \n",
       "1          NaN  \n",
       "2          NaN  \n",
       "3          NaN  \n",
       "4          NaN  "
      ]
     },
     "execution_count": 224,
     "metadata": {},
     "output_type": "execute_result"
    }
   ],
   "source": [
    "stock.head()"
   ]
  },
  {
   "cell_type": "code",
   "execution_count": 225,
   "id": "564201f0",
   "metadata": {},
   "outputs": [
    {
     "name": "stdout",
     "output_type": "stream",
     "text": [
      "<class 'pandas.core.frame.DataFrame'>\n",
      "RangeIndex: 5300 entries, 0 to 5299\n",
      "Data columns (total 15 columns):\n",
      " #   Column              Non-Null Count  Dtype  \n",
      "---  ------              --------------  -----  \n",
      " 0   Date                5300 non-null   object \n",
      " 1   Symbol              5300 non-null   object \n",
      " 2   Series              5300 non-null   object \n",
      " 3   Prev Close          5300 non-null   float64\n",
      " 4   Open                5300 non-null   float64\n",
      " 5   High                5300 non-null   float64\n",
      " 6   Low                 5300 non-null   float64\n",
      " 7   Last                5300 non-null   float64\n",
      " 8   Close               5300 non-null   float64\n",
      " 9   VWAP                5300 non-null   float64\n",
      " 10  Volume              5300 non-null   int64  \n",
      " 11  Turnover            5300 non-null   float64\n",
      " 12  Trades              2456 non-null   float64\n",
      " 13  Deliverable Volume  4797 non-null   float64\n",
      " 14  %Deliverble         4797 non-null   float64\n",
      "dtypes: float64(11), int64(1), object(3)\n",
      "memory usage: 621.2+ KB\n"
     ]
    }
   ],
   "source": [
    "stock.info()"
   ]
  },
  {
   "cell_type": "code",
   "execution_count": 226,
   "id": "c9d711dd",
   "metadata": {},
   "outputs": [
    {
     "data": {
      "text/html": [
       "<div>\n",
       "<style scoped>\n",
       "    .dataframe tbody tr th:only-of-type {\n",
       "        vertical-align: middle;\n",
       "    }\n",
       "\n",
       "    .dataframe tbody tr th {\n",
       "        vertical-align: top;\n",
       "    }\n",
       "\n",
       "    .dataframe thead th {\n",
       "        text-align: right;\n",
       "    }\n",
       "</style>\n",
       "<table border=\"1\" class=\"dataframe\">\n",
       "  <thead>\n",
       "    <tr style=\"text-align: right;\">\n",
       "      <th></th>\n",
       "      <th>Prev Close</th>\n",
       "      <th>Open</th>\n",
       "      <th>High</th>\n",
       "      <th>Low</th>\n",
       "      <th>Last</th>\n",
       "      <th>Close</th>\n",
       "      <th>VWAP</th>\n",
       "      <th>Volume</th>\n",
       "      <th>Turnover</th>\n",
       "      <th>Trades</th>\n",
       "      <th>Deliverable Volume</th>\n",
       "      <th>%Deliverble</th>\n",
       "    </tr>\n",
       "  </thead>\n",
       "  <tbody>\n",
       "    <tr>\n",
       "      <th>count</th>\n",
       "      <td>5300.000000</td>\n",
       "      <td>5300.000000</td>\n",
       "      <td>5300.000000</td>\n",
       "      <td>5300.000000</td>\n",
       "      <td>5300.000000</td>\n",
       "      <td>5300.000000</td>\n",
       "      <td>5300.000000</td>\n",
       "      <td>5.300000e+03</td>\n",
       "      <td>5.300000e+03</td>\n",
       "      <td>2456.000000</td>\n",
       "      <td>4.797000e+03</td>\n",
       "      <td>4797.000000</td>\n",
       "    </tr>\n",
       "    <tr>\n",
       "      <th>mean</th>\n",
       "      <td>642.113802</td>\n",
       "      <td>643.018887</td>\n",
       "      <td>654.269217</td>\n",
       "      <td>630.466274</td>\n",
       "      <td>642.240547</td>\n",
       "      <td>642.173981</td>\n",
       "      <td>642.502587</td>\n",
       "      <td>1.645121e+06</td>\n",
       "      <td>1.075213e+14</td>\n",
       "      <td>65378.973941</td>\n",
       "      <td>8.142533e+05</td>\n",
       "      <td>0.504206</td>\n",
       "    </tr>\n",
       "    <tr>\n",
       "      <th>std</th>\n",
       "      <td>411.660337</td>\n",
       "      <td>413.208429</td>\n",
       "      <td>420.237830</td>\n",
       "      <td>404.336086</td>\n",
       "      <td>411.739377</td>\n",
       "      <td>411.674568</td>\n",
       "      <td>412.001186</td>\n",
       "      <td>2.187826e+06</td>\n",
       "      <td>1.718074e+14</td>\n",
       "      <td>47842.804142</td>\n",
       "      <td>9.392883e+05</td>\n",
       "      <td>0.177111</td>\n",
       "    </tr>\n",
       "    <tr>\n",
       "      <th>min</th>\n",
       "      <td>89.700000</td>\n",
       "      <td>87.100000</td>\n",
       "      <td>94.750000</td>\n",
       "      <td>86.650000</td>\n",
       "      <td>89.000000</td>\n",
       "      <td>89.700000</td>\n",
       "      <td>91.440000</td>\n",
       "      <td>8.500000e+02</td>\n",
       "      <td>5.092228e+10</td>\n",
       "      <td>482.000000</td>\n",
       "      <td>3.095000e+03</td>\n",
       "      <td>0.045600</td>\n",
       "    </tr>\n",
       "    <tr>\n",
       "      <th>25%</th>\n",
       "      <td>314.200000</td>\n",
       "      <td>315.825000</td>\n",
       "      <td>322.725000</td>\n",
       "      <td>308.050000</td>\n",
       "      <td>314.462500</td>\n",
       "      <td>314.200000</td>\n",
       "      <td>315.047500</td>\n",
       "      <td>5.917092e+05</td>\n",
       "      <td>2.166692e+13</td>\n",
       "      <td>35885.750000</td>\n",
       "      <td>2.671450e+05</td>\n",
       "      <td>0.380000</td>\n",
       "    </tr>\n",
       "    <tr>\n",
       "      <th>50%</th>\n",
       "      <td>535.075000</td>\n",
       "      <td>533.250000</td>\n",
       "      <td>545.000000</td>\n",
       "      <td>520.250000</td>\n",
       "      <td>535.150000</td>\n",
       "      <td>535.075000</td>\n",
       "      <td>533.600000</td>\n",
       "      <td>1.036871e+06</td>\n",
       "      <td>4.816815e+13</td>\n",
       "      <td>55244.500000</td>\n",
       "      <td>5.379440e+05</td>\n",
       "      <td>0.528600</td>\n",
       "    </tr>\n",
       "    <tr>\n",
       "      <th>75%</th>\n",
       "      <td>893.975000</td>\n",
       "      <td>893.425000</td>\n",
       "      <td>907.837500</td>\n",
       "      <td>882.487500</td>\n",
       "      <td>895.425000</td>\n",
       "      <td>894.387500</td>\n",
       "      <td>895.102500</td>\n",
       "      <td>1.775460e+06</td>\n",
       "      <td>1.313830e+14</td>\n",
       "      <td>81039.000000</td>\n",
       "      <td>9.818800e+05</td>\n",
       "      <td>0.636100</td>\n",
       "    </tr>\n",
       "    <tr>\n",
       "      <th>max</th>\n",
       "      <td>2819.150000</td>\n",
       "      <td>2825.000000</td>\n",
       "      <td>2998.000000</td>\n",
       "      <td>2760.500000</td>\n",
       "      <td>2805.000000</td>\n",
       "      <td>2819.150000</td>\n",
       "      <td>2883.950000</td>\n",
       "      <td>3.231253e+07</td>\n",
       "      <td>2.532038e+15</td>\n",
       "      <td>465056.000000</td>\n",
       "      <td>1.973903e+07</td>\n",
       "      <td>1.000000</td>\n",
       "    </tr>\n",
       "  </tbody>\n",
       "</table>\n",
       "</div>"
      ],
      "text/plain": [
       "        Prev Close         Open         High          Low         Last  \\\n",
       "count  5300.000000  5300.000000  5300.000000  5300.000000  5300.000000   \n",
       "mean    642.113802   643.018887   654.269217   630.466274   642.240547   \n",
       "std     411.660337   413.208429   420.237830   404.336086   411.739377   \n",
       "min      89.700000    87.100000    94.750000    86.650000    89.000000   \n",
       "25%     314.200000   315.825000   322.725000   308.050000   314.462500   \n",
       "50%     535.075000   533.250000   545.000000   520.250000   535.150000   \n",
       "75%     893.975000   893.425000   907.837500   882.487500   895.425000   \n",
       "max    2819.150000  2825.000000  2998.000000  2760.500000  2805.000000   \n",
       "\n",
       "             Close         VWAP        Volume      Turnover         Trades  \\\n",
       "count  5300.000000  5300.000000  5.300000e+03  5.300000e+03    2456.000000   \n",
       "mean    642.173981   642.502587  1.645121e+06  1.075213e+14   65378.973941   \n",
       "std     411.674568   412.001186  2.187826e+06  1.718074e+14   47842.804142   \n",
       "min      89.700000    91.440000  8.500000e+02  5.092228e+10     482.000000   \n",
       "25%     314.200000   315.047500  5.917092e+05  2.166692e+13   35885.750000   \n",
       "50%     535.075000   533.600000  1.036871e+06  4.816815e+13   55244.500000   \n",
       "75%     894.387500   895.102500  1.775460e+06  1.313830e+14   81039.000000   \n",
       "max    2819.150000  2883.950000  3.231253e+07  2.532038e+15  465056.000000   \n",
       "\n",
       "       Deliverable Volume  %Deliverble  \n",
       "count        4.797000e+03  4797.000000  \n",
       "mean         8.142533e+05     0.504206  \n",
       "std          9.392883e+05     0.177111  \n",
       "min          3.095000e+03     0.045600  \n",
       "25%          2.671450e+05     0.380000  \n",
       "50%          5.379440e+05     0.528600  \n",
       "75%          9.818800e+05     0.636100  \n",
       "max          1.973903e+07     1.000000  "
      ]
     },
     "execution_count": 226,
     "metadata": {},
     "output_type": "execute_result"
    }
   ],
   "source": [
    "stock.describe()"
   ]
  },
  {
   "cell_type": "code",
   "execution_count": 227,
   "id": "011a47e9",
   "metadata": {},
   "outputs": [],
   "source": [
    "# Ensure we are working with a copy of the DataFrame to avoid the SettingWithCopyWarning\n",
    "stock = stock.copy()"
   ]
  },
  {
   "cell_type": "code",
   "execution_count": 228,
   "id": "7758c824",
   "metadata": {},
   "outputs": [],
   "source": [
    "# Calculate HL_Perc and CO_Perc\n",
    "stock.loc[:, 'HL_Perc'] = (stock['High'] - stock['Low']) / stock['Low'] * 100\n",
    "stock.loc[:, 'CO_Perc'] = (stock['Close'] - stock['Open']) / stock['Open'] * 100"
   ]
  },
  {
   "cell_type": "code",
   "execution_count": 229,
   "id": "0bb9c198",
   "metadata": {},
   "outputs": [],
   "source": [
    "dates = np.array(stock[\"Date\"])\n",
    "dates_check = dates[-30:]\n",
    "dates = dates[:-30]"
   ]
  },
  {
   "cell_type": "code",
   "execution_count": 230,
   "id": "07901da7",
   "metadata": {},
   "outputs": [
    {
     "data": {
      "text/plain": [
       "Index(['Date', 'Symbol', 'Series', 'Prev Close', 'Open', 'High', 'Low', 'Last',\n",
       "       'Close', 'VWAP', 'Volume', 'Turnover', 'Trades', 'Deliverable Volume',\n",
       "       '%Deliverble', 'HL_Perc', 'CO_Perc'],\n",
       "      dtype='object')"
      ]
     },
     "execution_count": 230,
     "metadata": {},
     "output_type": "execute_result"
    }
   ],
   "source": [
    "stock.columns"
   ]
  },
  {
   "cell_type": "code",
   "execution_count": 231,
   "id": "75b07f7b",
   "metadata": {},
   "outputs": [],
   "source": [
    "stock = stock[[\"HL_Perc\", \"CO_Perc\", \"Close\", \"Volume\"]]"
   ]
  },
  {
   "cell_type": "code",
   "execution_count": 232,
   "id": "772db78e",
   "metadata": {},
   "outputs": [],
   "source": [
    "#Define the label column\n",
    "stock[\"PriceNextMonth\"] = stock[\"Close\"].shift(-30)"
   ]
  },
  {
   "cell_type": "code",
   "execution_count": 233,
   "id": "79011229",
   "metadata": {},
   "outputs": [
    {
     "data": {
      "text/html": [
       "<div>\n",
       "<style scoped>\n",
       "    .dataframe tbody tr th:only-of-type {\n",
       "        vertical-align: middle;\n",
       "    }\n",
       "\n",
       "    .dataframe tbody tr th {\n",
       "        vertical-align: top;\n",
       "    }\n",
       "\n",
       "    .dataframe thead th {\n",
       "        text-align: right;\n",
       "    }\n",
       "</style>\n",
       "<table border=\"1\" class=\"dataframe\">\n",
       "  <thead>\n",
       "    <tr style=\"text-align: right;\">\n",
       "      <th></th>\n",
       "      <th>HL_Perc</th>\n",
       "      <th>CO_Perc</th>\n",
       "      <th>Close</th>\n",
       "      <th>Volume</th>\n",
       "      <th>PriceNextMonth</th>\n",
       "    </tr>\n",
       "  </thead>\n",
       "  <tbody>\n",
       "    <tr>\n",
       "      <th>5295</th>\n",
       "      <td>3.407183</td>\n",
       "      <td>-1.191489</td>\n",
       "      <td>928.80</td>\n",
       "      <td>19619972</td>\n",
       "      <td>NaN</td>\n",
       "    </tr>\n",
       "    <tr>\n",
       "      <th>5296</th>\n",
       "      <td>1.640676</td>\n",
       "      <td>-0.230934</td>\n",
       "      <td>928.85</td>\n",
       "      <td>6406825</td>\n",
       "      <td>NaN</td>\n",
       "    </tr>\n",
       "    <tr>\n",
       "      <th>5297</th>\n",
       "      <td>1.529699</td>\n",
       "      <td>-0.794674</td>\n",
       "      <td>923.80</td>\n",
       "      <td>6845677</td>\n",
       "      <td>NaN</td>\n",
       "    </tr>\n",
       "    <tr>\n",
       "      <th>5298</th>\n",
       "      <td>2.491456</td>\n",
       "      <td>-2.167366</td>\n",
       "      <td>909.55</td>\n",
       "      <td>8588734</td>\n",
       "      <td>NaN</td>\n",
       "    </tr>\n",
       "    <tr>\n",
       "      <th>5299</th>\n",
       "      <td>2.188966</td>\n",
       "      <td>-0.668508</td>\n",
       "      <td>898.95</td>\n",
       "      <td>10921664</td>\n",
       "      <td>NaN</td>\n",
       "    </tr>\n",
       "  </tbody>\n",
       "</table>\n",
       "</div>"
      ],
      "text/plain": [
       "       HL_Perc   CO_Perc   Close    Volume  PriceNextMonth\n",
       "5295  3.407183 -1.191489  928.80  19619972             NaN\n",
       "5296  1.640676 -0.230934  928.85   6406825             NaN\n",
       "5297  1.529699 -0.794674  923.80   6845677             NaN\n",
       "5298  2.491456 -2.167366  909.55   8588734             NaN\n",
       "5299  2.188966 -0.668508  898.95  10921664             NaN"
      ]
     },
     "execution_count": 233,
     "metadata": {},
     "output_type": "execute_result"
    }
   ],
   "source": [
    "stock.tail()"
   ]
  },
  {
   "cell_type": "code",
   "execution_count": 234,
   "id": "c687b99c",
   "metadata": {},
   "outputs": [
    {
     "name": "stderr",
     "output_type": "stream",
     "text": [
      "C:\\Users\\suresh\\AppData\\Local\\Temp\\ipykernel_17924\\459189850.py:2: FutureWarning: In a future version of pandas all arguments of DataFrame.drop except for the argument 'labels' will be keyword-only.\n",
      "  X = np.array(stock.drop([\"PriceNextMonth\"], 1))\n"
     ]
    }
   ],
   "source": [
    "#Make fetaure and label arrays\n",
    "X = np.array(stock.drop([\"PriceNextMonth\"], 1))\n",
    "X = preprocessing.scale(X)\n",
    "X_Check = X[-30:]\n",
    "X = X[:-30]\n",
    "stock.dropna(inplace = True)\n",
    "y = np.array(stock[\"PriceNextMonth\"])"
   ]
  },
  {
   "cell_type": "code",
   "execution_count": 235,
   "id": "381f2472",
   "metadata": {},
   "outputs": [],
   "source": [
    "#Divide the data set into training data and testing data\n",
    "X_train, X_test, y_train, y_test = train_test_split(X,y,test_size = 0.2)"
   ]
  },
  {
   "cell_type": "code",
   "execution_count": 236,
   "id": "489c08a2",
   "metadata": {},
   "outputs": [],
   "source": [
    "#Define the prediction model\n",
    "model = RandomForestRegressor()"
   ]
  },
  {
   "cell_type": "code",
   "execution_count": 237,
   "id": "74ff8cec",
   "metadata": {},
   "outputs": [
    {
     "data": {
      "text/plain": [
       "RandomForestRegressor()"
      ]
     },
     "execution_count": 237,
     "metadata": {},
     "output_type": "execute_result"
    }
   ],
   "source": [
    "#Fit the model using training data\n",
    "model.fit(X_train, y_train)"
   ]
  },
  {
   "cell_type": "code",
   "execution_count": 238,
   "id": "520c0372",
   "metadata": {},
   "outputs": [
    {
     "name": "stdout",
     "output_type": "stream",
     "text": [
      "0.9457530611789565\n"
     ]
    }
   ],
   "source": [
    "#Calculate the confidence value by applying the model to testing data\n",
    "conf = model.score(X_test, y_test)\n",
    "print(conf)"
   ]
  },
  {
   "cell_type": "code",
   "execution_count": 239,
   "id": "b9381393",
   "metadata": {},
   "outputs": [
    {
     "data": {
      "text/plain": [
       "RandomForestRegressor()"
      ]
     },
     "execution_count": 239,
     "metadata": {},
     "output_type": "execute_result"
    }
   ],
   "source": [
    "#Fit the model again using the whole data set\n",
    "model.fit(X,y)"
   ]
  },
  {
   "cell_type": "code",
   "execution_count": 240,
   "id": "4990c67a",
   "metadata": {},
   "outputs": [],
   "source": [
    "predictions = model.predict(X_Check)"
   ]
  },
  {
   "cell_type": "code",
   "execution_count": 241,
   "id": "c0d5a9e2",
   "metadata": {},
   "outputs": [],
   "source": [
    "#Make the final DataFrame containing Dates, ClosePrices, and Forecast values\n",
    "actual = pd.DataFrame(dates, columns = [\"Date\"])\n",
    "actual[\"ClosePrice\"] = stock[\"Close\"]\n",
    "actual[\"Forecast\"] = np.nan\n",
    "actual.set_index(\"Date\", inplace = True)\n",
    "forecast = pd.DataFrame(dates_check, columns=[\"Date\"])\n",
    "forecast[\"Forecast\"] = predictions\n",
    "forecast[\"ClosePrice\"] = np.nan\n",
    "forecast.set_index(\"Date\", inplace = True)\n",
    "var = [actual, forecast]\n",
    "result = pd.concat(var)  #This is the final DataFrame"
   ]
  },
  {
   "cell_type": "code",
   "execution_count": 242,
   "id": "45722829",
   "metadata": {},
   "outputs": [
    {
     "data": {
      "text/plain": [
       "Text(0, 0.5, 'Price')"
      ]
     },
     "execution_count": 242,
     "metadata": {},
     "output_type": "execute_result"
    },
    {
     "data": {
      "image/png": "[encoded data removed]",
      "text/plain": [
       "<Figure size 2000x1000 with 1 Axes>"
      ]
     },
     "metadata": {},
     "output_type": "display_data"
    }
   ],
   "source": [
    "#Plot the final results\n",
    "result.plot(figsize=(20,10), linewidth=1.5)\n",
    "plt.legend(loc=2, prop={'size':20})\n",
    "plt.xlabel('Date')\n",
    "plt.ylabel('Price')"
   ]
  },
  {
   "cell_type": "code",
   "execution_count": null,
   "id": "e099aee8",
   "metadata": {},
   "outputs": [],
   "source": []
  },
  {
   "cell_type": "code",
   "execution_count": null,
   "id": "8fedf6cb",
   "metadata": {},
   "outputs": [],
   "source": []
  }
 ],
 "metadata": {
  "kernelspec": {
   "display_name": "Python 3 (ipykernel)",
   "language": "python",
   "name": "python3"
  },
  "language_info": {
   "codemirror_mode": {
    "name": "ipython",
    "version": 3
   },
   "file_extension": ".py",
   "mimetype": "text/x-python",
   "name": "python",
   "nbconvert_exporter": "python",
   "pygments_lexer": "ipython3",
   "version": "3.9.13"
  }
 },
 "nbformat": 4,
 "nbformat_minor": 5
}
