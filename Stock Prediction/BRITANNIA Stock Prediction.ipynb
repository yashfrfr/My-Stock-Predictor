{
 "cells": [
  {
   "cell_type": "code",
   "execution_count": 2,
   "id": "5a20ead1",
   "metadata": {},
   "outputs": [],
   "source": [
    "#Import the libraries\n",
    "import pandas as pd \n",
    "import numpy as np \n",
    "import matplotlib.pyplot as plt \n",
    "from sklearn import preprocessing\n",
    "from sklearn.ensemble import RandomForestRegressor\n",
    "from sklearn.model_selection import train_test_split\n",
    "from sklearn.metrics import mean_absolute_error, r2_score"
   ]
  },
  {
   "cell_type": "code",
   "execution_count": 83,
   "id": "1ebabd9c",
   "metadata": {},
   "outputs": [],
   "source": [
    "stock = pd.read_csv(\"C:/Users/suresh/Desktop/PYTHON ML DATA SCIENCE/Stock Prediction/Stock Data/BRITANNIA.csv\")"
   ]
  },
  {
   "cell_type": "code",
   "execution_count": 84,
   "id": "b4a873d4",
   "metadata": {},
   "outputs": [
    {
     "data": {
      "text/html": [
       "<div>\n",
       "<style scoped>\n",
       "    .dataframe tbody tr th:only-of-type {\n",
       "        vertical-align: middle;\n",
       "    }\n",
       "\n",
       "    .dataframe tbody tr th {\n",
       "        vertical-align: top;\n",
       "    }\n",
       "\n",
       "    .dataframe thead th {\n",
       "        text-align: right;\n",
       "    }\n",
       "</style>\n",
       "<table border=\"1\" class=\"dataframe\">\n",
       "  <thead>\n",
       "    <tr style=\"text-align: right;\">\n",
       "      <th></th>\n",
       "      <th>Date</th>\n",
       "      <th>Symbol</th>\n",
       "      <th>Series</th>\n",
       "      <th>Prev Close</th>\n",
       "      <th>Open</th>\n",
       "      <th>High</th>\n",
       "      <th>Low</th>\n",
       "      <th>Last</th>\n",
       "      <th>Close</th>\n",
       "      <th>VWAP</th>\n",
       "      <th>Volume</th>\n",
       "      <th>Turnover</th>\n",
       "      <th>Trades</th>\n",
       "      <th>Deliverable Volume</th>\n",
       "      <th>%Deliverble</th>\n",
       "    </tr>\n",
       "  </thead>\n",
       "  <tbody>\n",
       "    <tr>\n",
       "      <th>0</th>\n",
       "      <td>2000-01-03</td>\n",
       "      <td>BRITANNIA</td>\n",
       "      <td>EQ</td>\n",
       "      <td>703.25</td>\n",
       "      <td>705.0</td>\n",
       "      <td>759.50</td>\n",
       "      <td>705.0</td>\n",
       "      <td>758.0</td>\n",
       "      <td>756.90</td>\n",
       "      <td>741.01</td>\n",
       "      <td>7512</td>\n",
       "      <td>5.566488e+11</td>\n",
       "      <td>NaN</td>\n",
       "      <td>NaN</td>\n",
       "      <td>NaN</td>\n",
       "    </tr>\n",
       "    <tr>\n",
       "      <th>1</th>\n",
       "      <td>2000-01-04</td>\n",
       "      <td>BRITANNIA</td>\n",
       "      <td>EQ</td>\n",
       "      <td>756.90</td>\n",
       "      <td>710.0</td>\n",
       "      <td>770.00</td>\n",
       "      <td>710.0</td>\n",
       "      <td>740.0</td>\n",
       "      <td>754.55</td>\n",
       "      <td>742.52</td>\n",
       "      <td>8135</td>\n",
       "      <td>6.040391e+11</td>\n",
       "      <td>NaN</td>\n",
       "      <td>NaN</td>\n",
       "      <td>NaN</td>\n",
       "    </tr>\n",
       "    <tr>\n",
       "      <th>2</th>\n",
       "      <td>2000-01-05</td>\n",
       "      <td>BRITANNIA</td>\n",
       "      <td>EQ</td>\n",
       "      <td>754.55</td>\n",
       "      <td>755.0</td>\n",
       "      <td>759.00</td>\n",
       "      <td>705.0</td>\n",
       "      <td>740.0</td>\n",
       "      <td>735.30</td>\n",
       "      <td>739.92</td>\n",
       "      <td>6095</td>\n",
       "      <td>4.509784e+11</td>\n",
       "      <td>NaN</td>\n",
       "      <td>NaN</td>\n",
       "      <td>NaN</td>\n",
       "    </tr>\n",
       "    <tr>\n",
       "      <th>3</th>\n",
       "      <td>2000-01-06</td>\n",
       "      <td>BRITANNIA</td>\n",
       "      <td>EQ</td>\n",
       "      <td>735.30</td>\n",
       "      <td>740.0</td>\n",
       "      <td>794.15</td>\n",
       "      <td>740.0</td>\n",
       "      <td>770.0</td>\n",
       "      <td>785.65</td>\n",
       "      <td>788.83</td>\n",
       "      <td>19697</td>\n",
       "      <td>1.553756e+12</td>\n",
       "      <td>NaN</td>\n",
       "      <td>NaN</td>\n",
       "      <td>NaN</td>\n",
       "    </tr>\n",
       "    <tr>\n",
       "      <th>4</th>\n",
       "      <td>2000-01-07</td>\n",
       "      <td>BRITANNIA</td>\n",
       "      <td>EQ</td>\n",
       "      <td>785.65</td>\n",
       "      <td>808.0</td>\n",
       "      <td>848.50</td>\n",
       "      <td>798.0</td>\n",
       "      <td>848.5</td>\n",
       "      <td>848.50</td>\n",
       "      <td>827.53</td>\n",
       "      <td>33107</td>\n",
       "      <td>2.739708e+12</td>\n",
       "      <td>NaN</td>\n",
       "      <td>NaN</td>\n",
       "      <td>NaN</td>\n",
       "    </tr>\n",
       "  </tbody>\n",
       "</table>\n",
       "</div>"
      ],
      "text/plain": [
       "         Date     Symbol Series  Prev Close   Open    High    Low   Last  \\\n",
       "0  2000-01-03  BRITANNIA     EQ      703.25  705.0  759.50  705.0  758.0   \n",
       "1  2000-01-04  BRITANNIA     EQ      756.90  710.0  770.00  710.0  740.0   \n",
       "2  2000-01-05  BRITANNIA     EQ      754.55  755.0  759.00  705.0  740.0   \n",
       "3  2000-01-06  BRITANNIA     EQ      735.30  740.0  794.15  740.0  770.0   \n",
       "4  2000-01-07  BRITANNIA     EQ      785.65  808.0  848.50  798.0  848.5   \n",
       "\n",
       "    Close    VWAP  Volume      Turnover  Trades  Deliverable Volume  \\\n",
       "0  756.90  741.01    7512  5.566488e+11     NaN                 NaN   \n",
       "1  754.55  742.52    8135  6.040391e+11     NaN                 NaN   \n",
       "2  735.30  739.92    6095  4.509784e+11     NaN                 NaN   \n",
       "3  785.65  788.83   19697  1.553756e+12     NaN                 NaN   \n",
       "4  848.50  827.53   33107  2.739708e+12     NaN                 NaN   \n",
       "\n",
       "   %Deliverble  \n",
       "0          NaN  \n",
       "1          NaN  \n",
       "2          NaN  \n",
       "3          NaN  \n",
       "4          NaN  "
      ]
     },
     "execution_count": 84,
     "metadata": {},
     "output_type": "execute_result"
    }
   ],
   "source": [
    "stock.head()"
   ]
  },
  {
   "cell_type": "code",
   "execution_count": 85,
   "id": "564201f0",
   "metadata": {},
   "outputs": [
    {
     "name": "stdout",
     "output_type": "stream",
     "text": [
      "<class 'pandas.core.frame.DataFrame'>\n",
      "RangeIndex: 5305 entries, 0 to 5304\n",
      "Data columns (total 15 columns):\n",
      " #   Column              Non-Null Count  Dtype  \n",
      "---  ------              --------------  -----  \n",
      " 0   Date                5305 non-null   object \n",
      " 1   Symbol              5305 non-null   object \n",
      " 2   Series              5305 non-null   object \n",
      " 3   Prev Close          5305 non-null   float64\n",
      " 4   Open                5305 non-null   float64\n",
      " 5   High                5305 non-null   float64\n",
      " 6   Low                 5305 non-null   float64\n",
      " 7   Last                5305 non-null   float64\n",
      " 8   Close               5305 non-null   float64\n",
      " 9   VWAP                5305 non-null   float64\n",
      " 10  Volume              5305 non-null   int64  \n",
      " 11  Turnover            5305 non-null   float64\n",
      " 12  Trades              2456 non-null   float64\n",
      " 13  Deliverable Volume  4796 non-null   float64\n",
      " 14  %Deliverble         4796 non-null   float64\n",
      "dtypes: float64(11), int64(1), object(3)\n",
      "memory usage: 621.8+ KB\n"
     ]
    }
   ],
   "source": [
    "stock.info()"
   ]
  },
  {
   "cell_type": "code",
   "execution_count": 86,
   "id": "c9d711dd",
   "metadata": {},
   "outputs": [
    {
     "data": {
      "text/html": [
       "<div>\n",
       "<style scoped>\n",
       "    .dataframe tbody tr th:only-of-type {\n",
       "        vertical-align: middle;\n",
       "    }\n",
       "\n",
       "    .dataframe tbody tr th {\n",
       "        vertical-align: top;\n",
       "    }\n",
       "\n",
       "    .dataframe thead th {\n",
       "        text-align: right;\n",
       "    }\n",
       "</style>\n",
       "<table border=\"1\" class=\"dataframe\">\n",
       "  <thead>\n",
       "    <tr style=\"text-align: right;\">\n",
       "      <th></th>\n",
       "      <th>Prev Close</th>\n",
       "      <th>Open</th>\n",
       "      <th>High</th>\n",
       "      <th>Low</th>\n",
       "      <th>Last</th>\n",
       "      <th>Close</th>\n",
       "      <th>VWAP</th>\n",
       "      <th>Volume</th>\n",
       "      <th>Turnover</th>\n",
       "      <th>Trades</th>\n",
       "      <th>Deliverable Volume</th>\n",
       "      <th>%Deliverble</th>\n",
       "    </tr>\n",
       "  </thead>\n",
       "  <tbody>\n",
       "    <tr>\n",
       "      <th>count</th>\n",
       "      <td>5305.000000</td>\n",
       "      <td>5305.000000</td>\n",
       "      <td>5305.000000</td>\n",
       "      <td>5305.000000</td>\n",
       "      <td>5305.000000</td>\n",
       "      <td>5305.000000</td>\n",
       "      <td>5305.000000</td>\n",
       "      <td>5.305000e+03</td>\n",
       "      <td>5.305000e+03</td>\n",
       "      <td>2456.000000</td>\n",
       "      <td>4.796000e+03</td>\n",
       "      <td>4796.000000</td>\n",
       "    </tr>\n",
       "    <tr>\n",
       "      <th>mean</th>\n",
       "      <td>1687.974769</td>\n",
       "      <td>1690.173054</td>\n",
       "      <td>1713.527135</td>\n",
       "      <td>1665.679293</td>\n",
       "      <td>1688.601112</td>\n",
       "      <td>1688.492347</td>\n",
       "      <td>1689.630878</td>\n",
       "      <td>1.220883e+05</td>\n",
       "      <td>3.531071e+13</td>\n",
       "      <td>19243.627850</td>\n",
       "      <td>6.877725e+04</td>\n",
       "      <td>0.644524</td>\n",
       "    </tr>\n",
       "    <tr>\n",
       "      <th>std</th>\n",
       "      <td>1364.834888</td>\n",
       "      <td>1367.095820</td>\n",
       "      <td>1379.848544</td>\n",
       "      <td>1350.727532</td>\n",
       "      <td>1365.080043</td>\n",
       "      <td>1364.982005</td>\n",
       "      <td>1365.360931</td>\n",
       "      <td>2.668956e+05</td>\n",
       "      <td>9.119291e+13</td>\n",
       "      <td>22420.581857</td>\n",
       "      <td>1.340685e+05</td>\n",
       "      <td>0.179159</td>\n",
       "    </tr>\n",
       "    <tr>\n",
       "      <th>min</th>\n",
       "      <td>336.350000</td>\n",
       "      <td>340.000000</td>\n",
       "      <td>347.700000</td>\n",
       "      <td>295.200000</td>\n",
       "      <td>336.950000</td>\n",
       "      <td>336.350000</td>\n",
       "      <td>339.860000</td>\n",
       "      <td>8.400000e+01</td>\n",
       "      <td>9.614630e+09</td>\n",
       "      <td>27.000000</td>\n",
       "      <td>5.700000e+01</td>\n",
       "      <td>0.027900</td>\n",
       "    </tr>\n",
       "    <tr>\n",
       "      <th>25%</th>\n",
       "      <td>591.800000</td>\n",
       "      <td>594.500000</td>\n",
       "      <td>603.900000</td>\n",
       "      <td>580.200000</td>\n",
       "      <td>592.500000</td>\n",
       "      <td>591.800000</td>\n",
       "      <td>592.100000</td>\n",
       "      <td>4.284000e+03</td>\n",
       "      <td>3.694440e+11</td>\n",
       "      <td>4496.750000</td>\n",
       "      <td>3.040500e+03</td>\n",
       "      <td>0.518900</td>\n",
       "    </tr>\n",
       "    <tr>\n",
       "      <th>50%</th>\n",
       "      <td>1230.150000</td>\n",
       "      <td>1230.000000</td>\n",
       "      <td>1259.000000</td>\n",
       "      <td>1203.350000</td>\n",
       "      <td>1230.000000</td>\n",
       "      <td>1230.300000</td>\n",
       "      <td>1232.610000</td>\n",
       "      <td>2.002900e+04</td>\n",
       "      <td>1.347110e+12</td>\n",
       "      <td>13231.000000</td>\n",
       "      <td>1.913050e+04</td>\n",
       "      <td>0.651350</td>\n",
       "    </tr>\n",
       "    <tr>\n",
       "      <th>75%</th>\n",
       "      <td>2743.700000</td>\n",
       "      <td>2741.050000</td>\n",
       "      <td>2778.400000</td>\n",
       "      <td>2701.100000</td>\n",
       "      <td>2747.000000</td>\n",
       "      <td>2743.900000</td>\n",
       "      <td>2743.300000</td>\n",
       "      <td>1.347500e+05</td>\n",
       "      <td>3.634675e+13</td>\n",
       "      <td>24920.750000</td>\n",
       "      <td>8.919100e+04</td>\n",
       "      <td>0.777425</td>\n",
       "    </tr>\n",
       "    <tr>\n",
       "      <th>max</th>\n",
       "      <td>6900.150000</td>\n",
       "      <td>6918.000000</td>\n",
       "      <td>6934.350000</td>\n",
       "      <td>6831.700000</td>\n",
       "      <td>6898.000000</td>\n",
       "      <td>6900.150000</td>\n",
       "      <td>6886.460000</td>\n",
       "      <td>5.383773e+06</td>\n",
       "      <td>1.954734e+15</td>\n",
       "      <td>294264.000000</td>\n",
       "      <td>4.253015e+06</td>\n",
       "      <td>1.000000</td>\n",
       "    </tr>\n",
       "  </tbody>\n",
       "</table>\n",
       "</div>"
      ],
      "text/plain": [
       "        Prev Close         Open         High          Low         Last  \\\n",
       "count  5305.000000  5305.000000  5305.000000  5305.000000  5305.000000   \n",
       "mean   1687.974769  1690.173054  1713.527135  1665.679293  1688.601112   \n",
       "std    1364.834888  1367.095820  1379.848544  1350.727532  1365.080043   \n",
       "min     336.350000   340.000000   347.700000   295.200000   336.950000   \n",
       "25%     591.800000   594.500000   603.900000   580.200000   592.500000   \n",
       "50%    1230.150000  1230.000000  1259.000000  1203.350000  1230.000000   \n",
       "75%    2743.700000  2741.050000  2778.400000  2701.100000  2747.000000   \n",
       "max    6900.150000  6918.000000  6934.350000  6831.700000  6898.000000   \n",
       "\n",
       "             Close         VWAP        Volume      Turnover         Trades  \\\n",
       "count  5305.000000  5305.000000  5.305000e+03  5.305000e+03    2456.000000   \n",
       "mean   1688.492347  1689.630878  1.220883e+05  3.531071e+13   19243.627850   \n",
       "std    1364.982005  1365.360931  2.668956e+05  9.119291e+13   22420.581857   \n",
       "min     336.350000   339.860000  8.400000e+01  9.614630e+09      27.000000   \n",
       "25%     591.800000   592.100000  4.284000e+03  3.694440e+11    4496.750000   \n",
       "50%    1230.300000  1232.610000  2.002900e+04  1.347110e+12   13231.000000   \n",
       "75%    2743.900000  2743.300000  1.347500e+05  3.634675e+13   24920.750000   \n",
       "max    6900.150000  6886.460000  5.383773e+06  1.954734e+15  294264.000000   \n",
       "\n",
       "       Deliverable Volume  %Deliverble  \n",
       "count        4.796000e+03  4796.000000  \n",
       "mean         6.877725e+04     0.644524  \n",
       "std          1.340685e+05     0.179159  \n",
       "min          5.700000e+01     0.027900  \n",
       "25%          3.040500e+03     0.518900  \n",
       "50%          1.913050e+04     0.651350  \n",
       "75%          8.919100e+04     0.777425  \n",
       "max          4.253015e+06     1.000000  "
      ]
     },
     "execution_count": 86,
     "metadata": {},
     "output_type": "execute_result"
    }
   ],
   "source": [
    "stock.describe()"
   ]
  },
  {
   "cell_type": "code",
   "execution_count": 87,
   "id": "011a47e9",
   "metadata": {},
   "outputs": [],
   "source": [
    "# Ensure we are working with a copy of the DataFrame to avoid the SettingWithCopyWarning\n",
    "stock = stock.copy()"
   ]
  },
  {
   "cell_type": "code",
   "execution_count": 88,
   "id": "7758c824",
   "metadata": {},
   "outputs": [],
   "source": [
    "# Calculate HL_Perc and CO_Perc\n",
    "stock.loc[:, 'HL_Perc'] = (stock['High'] - stock['Low']) / stock['Low'] * 100\n",
    "stock.loc[:, 'CO_Perc'] = (stock['Close'] - stock['Open']) / stock['Open'] * 100"
   ]
  },
  {
   "cell_type": "code",
   "execution_count": 89,
   "id": "0bb9c198",
   "metadata": {},
   "outputs": [],
   "source": [
    "dates = np.array(stock[\"Date\"])\n",
    "dates_check = dates[-30:]\n",
    "dates = dates[:-30]"
   ]
  },
  {
   "cell_type": "code",
   "execution_count": 90,
   "id": "07901da7",
   "metadata": {},
   "outputs": [
    {
     "data": {
      "text/plain": [
       "Index(['Date', 'Symbol', 'Series', 'Prev Close', 'Open', 'High', 'Low', 'Last',\n",
       "       'Close', 'VWAP', 'Volume', 'Turnover', 'Trades', 'Deliverable Volume',\n",
       "       '%Deliverble', 'HL_Perc', 'CO_Perc'],\n",
       "      dtype='object')"
      ]
     },
     "execution_count": 90,
     "metadata": {},
     "output_type": "execute_result"
    }
   ],
   "source": [
    "stock.columns"
   ]
  },
  {
   "cell_type": "code",
   "execution_count": 91,
   "id": "75b07f7b",
   "metadata": {},
   "outputs": [],
   "source": [
    "stock = stock[[\"HL_Perc\", \"CO_Perc\", \"Close\", \"Volume\"]]"
   ]
  },
  {
   "cell_type": "code",
   "execution_count": 92,
   "id": "772db78e",
   "metadata": {},
   "outputs": [],
   "source": [
    "#Define the label column\n",
    "stock[\"PriceNextMonth\"] = stock[\"Close\"].shift(-30)"
   ]
  },
  {
   "cell_type": "code",
   "execution_count": 93,
   "id": "79011229",
   "metadata": {},
   "outputs": [
    {
     "data": {
      "text/html": [
       "<div>\n",
       "<style scoped>\n",
       "    .dataframe tbody tr th:only-of-type {\n",
       "        vertical-align: middle;\n",
       "    }\n",
       "\n",
       "    .dataframe tbody tr th {\n",
       "        vertical-align: top;\n",
       "    }\n",
       "\n",
       "    .dataframe thead th {\n",
       "        text-align: right;\n",
       "    }\n",
       "</style>\n",
       "<table border=\"1\" class=\"dataframe\">\n",
       "  <thead>\n",
       "    <tr style=\"text-align: right;\">\n",
       "      <th></th>\n",
       "      <th>HL_Perc</th>\n",
       "      <th>CO_Perc</th>\n",
       "      <th>Close</th>\n",
       "      <th>Volume</th>\n",
       "      <th>PriceNextMonth</th>\n",
       "    </tr>\n",
       "  </thead>\n",
       "  <tbody>\n",
       "    <tr>\n",
       "      <th>5300</th>\n",
       "      <td>3.709997</td>\n",
       "      <td>-3.329600</td>\n",
       "      <td>3539.20</td>\n",
       "      <td>1031406</td>\n",
       "      <td>NaN</td>\n",
       "    </tr>\n",
       "    <tr>\n",
       "      <th>5301</th>\n",
       "      <td>1.637759</td>\n",
       "      <td>-0.881686</td>\n",
       "      <td>3541.20</td>\n",
       "      <td>813608</td>\n",
       "      <td>NaN</td>\n",
       "    </tr>\n",
       "    <tr>\n",
       "      <th>5302</th>\n",
       "      <td>1.671952</td>\n",
       "      <td>-0.265195</td>\n",
       "      <td>3478.75</td>\n",
       "      <td>1498181</td>\n",
       "      <td>NaN</td>\n",
       "    </tr>\n",
       "    <tr>\n",
       "      <th>5303</th>\n",
       "      <td>1.708732</td>\n",
       "      <td>-0.796454</td>\n",
       "      <td>3468.90</td>\n",
       "      <td>611087</td>\n",
       "      <td>NaN</td>\n",
       "    </tr>\n",
       "    <tr>\n",
       "      <th>5304</th>\n",
       "      <td>0.912133</td>\n",
       "      <td>-0.317919</td>\n",
       "      <td>3449.00</td>\n",
       "      <td>436187</td>\n",
       "      <td>NaN</td>\n",
       "    </tr>\n",
       "  </tbody>\n",
       "</table>\n",
       "</div>"
      ],
      "text/plain": [
       "       HL_Perc   CO_Perc    Close   Volume  PriceNextMonth\n",
       "5300  3.709997 -3.329600  3539.20  1031406             NaN\n",
       "5301  1.637759 -0.881686  3541.20   813608             NaN\n",
       "5302  1.671952 -0.265195  3478.75  1498181             NaN\n",
       "5303  1.708732 -0.796454  3468.90   611087             NaN\n",
       "5304  0.912133 -0.317919  3449.00   436187             NaN"
      ]
     },
     "execution_count": 93,
     "metadata": {},
     "output_type": "execute_result"
    }
   ],
   "source": [
    "stock.tail()"
   ]
  },
  {
   "cell_type": "code",
   "execution_count": 94,
   "id": "c687b99c",
   "metadata": {},
   "outputs": [
    {
     "name": "stderr",
     "output_type": "stream",
     "text": [
      "C:\\Users\\suresh\\AppData\\Local\\Temp\\ipykernel_17924\\459189850.py:2: FutureWarning: In a future version of pandas all arguments of DataFrame.drop except for the argument 'labels' will be keyword-only.\n",
      "  X = np.array(stock.drop([\"PriceNextMonth\"], 1))\n"
     ]
    }
   ],
   "source": [
    "#Make fetaure and label arrays\n",
    "X = np.array(stock.drop([\"PriceNextMonth\"], 1))\n",
    "X = preprocessing.scale(X)\n",
    "X_Check = X[-30:]\n",
    "X = X[:-30]\n",
    "stock.dropna(inplace = True)\n",
    "y = np.array(stock[\"PriceNextMonth\"])"
   ]
  },
  {
   "cell_type": "code",
   "execution_count": 95,
   "id": "381f2472",
   "metadata": {},
   "outputs": [],
   "source": [
    "#Divide the data set into training data and testing data\n",
    "X_train, X_test, y_train, y_test = train_test_split(X,y,test_size = 0.2)"
   ]
  },
  {
   "cell_type": "code",
   "execution_count": 96,
   "id": "489c08a2",
   "metadata": {},
   "outputs": [],
   "source": [
    "#Define the prediction model\n",
    "model = RandomForestRegressor()"
   ]
  },
  {
   "cell_type": "code",
   "execution_count": 97,
   "id": "74ff8cec",
   "metadata": {},
   "outputs": [
    {
     "data": {
      "text/plain": [
       "RandomForestRegressor()"
      ]
     },
     "execution_count": 97,
     "metadata": {},
     "output_type": "execute_result"
    }
   ],
   "source": [
    "#Fit the model using training data\n",
    "model.fit(X_train, y_train)"
   ]
  },
  {
   "cell_type": "code",
   "execution_count": 98,
   "id": "520c0372",
   "metadata": {},
   "outputs": [
    {
     "name": "stdout",
     "output_type": "stream",
     "text": [
      "0.9730106175480284\n"
     ]
    }
   ],
   "source": [
    "#Calculate the confidence value by applying the model to testing data\n",
    "conf = model.score(X_test, y_test)\n",
    "print(conf)"
   ]
  },
  {
   "cell_type": "code",
   "execution_count": 99,
   "id": "b9381393",
   "metadata": {},
   "outputs": [
    {
     "data": {
      "text/plain": [
       "RandomForestRegressor()"
      ]
     },
     "execution_count": 99,
     "metadata": {},
     "output_type": "execute_result"
    }
   ],
   "source": [
    "#Fit the model again using the whole data set\n",
    "model.fit(X,y)"
   ]
  },
  {
   "cell_type": "code",
   "execution_count": 100,
   "id": "4990c67a",
   "metadata": {},
   "outputs": [],
   "source": [
    "predictions = model.predict(X_Check)"
   ]
  },
  {
   "cell_type": "code",
   "execution_count": 101,
   "id": "c0d5a9e2",
   "metadata": {},
   "outputs": [],
   "source": [
    "#Make the final DataFrame containing Dates, ClosePrices, and Forecast values\n",
    "actual = pd.DataFrame(dates, columns = [\"Date\"])\n",
    "actual[\"ClosePrice\"] = stock[\"Close\"]\n",
    "actual[\"Forecast\"] = np.nan\n",
    "actual.set_index(\"Date\", inplace = True)\n",
    "forecast = pd.DataFrame(dates_check, columns=[\"Date\"])\n",
    "forecast[\"Forecast\"] = predictions\n",
    "forecast[\"ClosePrice\"] = np.nan\n",
    "forecast.set_index(\"Date\", inplace = True)\n",
    "var = [actual, forecast]\n",
    "result = pd.concat(var)  #This is the final DataFrame"
   ]
  },
  {
   "cell_type": "code",
   "execution_count": 102,
   "id": "45722829",
   "metadata": {},
   "outputs": [
    {
     "data": {
      "text/plain": [
       "Text(0, 0.5, 'Price')"
      ]
     },
     "execution_count": 102,
     "metadata": {},
     "output_type": "execute_result"
    },
    {
     "data": {
      "image/png": "[encoded data removed]",
      "text/plain": [
       "<Figure size 2000x1000 with 1 Axes>"
      ]
     },
     "metadata": {},
     "output_type": "display_data"
    }
   ],
   "source": [
    "#Plot the final results\n",
    "result.plot(figsize=(20,10), linewidth=1.5)\n",
    "plt.legend(loc=2, prop={'size':20})\n",
    "plt.xlabel('Date')\n",
    "plt.ylabel('Price')"
   ]
  },
  {
   "cell_type": "code",
   "execution_count": null,
   "id": "e099aee8",
   "metadata": {},
   "outputs": [],
   "source": []
  },
  {
   "cell_type": "code",
   "execution_count": null,
   "id": "f302738d",
   "metadata": {},
   "outputs": [],
   "source": []
  }
 ],
 "metadata": {
  "kernelspec": {
   "display_name": "Python 3 (ipykernel)",
   "language": "python",
   "name": "python3"
  },
  "language_info": {
   "codemirror_mode": {
    "name": "ipython",
    "version": 3
   },
   "file_extension": ".py",
   "mimetype": "text/x-python",
   "name": "python",
   "nbconvert_exporter": "python",
   "pygments_lexer": "ipython3",
   "version": "3.9.13"
  }
 },
 "nbformat": 4,
 "nbformat_minor": 5
}
