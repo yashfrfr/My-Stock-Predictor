{
 "cells": [
  {
   "cell_type": "code",
   "execution_count": 2,
   "id": "5a20ead1",
   "metadata": {},
   "outputs": [],
   "source": [
    "#Import the libraries\n",
    "import pandas as pd \n",
    "import numpy as np \n",
    "import matplotlib.pyplot as plt \n",
    "from sklearn import preprocessing\n",
    "from sklearn.ensemble import RandomForestRegressor\n",
    "from sklearn.model_selection import train_test_split\n",
    "from sklearn.metrics import mean_absolute_error, r2_score"
   ]
  },
  {
   "cell_type": "code",
   "execution_count": 83,
   "id": "1ebabd9c",
   "metadata": {},
   "outputs": [],
   "source": [
    "stock = pd.read_csv(\"C:/Users/suresh/Desktop/PYTHON ML DATA SCIENCE/Stock Prediction/Stock Data/SBIN.csv\")"
   ]
  },
  {
   "cell_type": "code",
   "execution_count": 84,
   "id": "b4a873d4",
   "metadata": {},
   "outputs": [
    {
     "data": {
      "text/html": [
       "<div>\n",
       "<style scoped>\n",
       "    .dataframe tbody tr th:only-of-type {\n",
       "        vertical-align: middle;\n",
       "    }\n",
       "\n",
       "    .dataframe tbody tr th {\n",
       "        vertical-align: top;\n",
       "    }\n",
       "\n",
       "    .dataframe thead th {\n",
       "        text-align: right;\n",
       "    }\n",
       "</style>\n",
       "<table border=\"1\" class=\"dataframe\">\n",
       "  <thead>\n",
       "    <tr style=\"text-align: right;\">\n",
       "      <th></th>\n",
       "      <th>Date</th>\n",
       "      <th>Symbol</th>\n",
       "      <th>Series</th>\n",
       "      <th>Prev Close</th>\n",
       "      <th>Open</th>\n",
       "      <th>High</th>\n",
       "      <th>Low</th>\n",
       "      <th>Last</th>\n",
       "      <th>Close</th>\n",
       "      <th>VWAP</th>\n",
       "      <th>Volume</th>\n",
       "      <th>Turnover</th>\n",
       "      <th>Trades</th>\n",
       "      <th>Deliverable Volume</th>\n",
       "      <th>%Deliverble</th>\n",
       "    </tr>\n",
       "  </thead>\n",
       "  <tbody>\n",
       "    <tr>\n",
       "      <th>0</th>\n",
       "      <td>2000-01-03</td>\n",
       "      <td>SBIN</td>\n",
       "      <td>EQ</td>\n",
       "      <td>225.60</td>\n",
       "      <td>236.00</td>\n",
       "      <td>243.65</td>\n",
       "      <td>234.25</td>\n",
       "      <td>243.65</td>\n",
       "      <td>243.65</td>\n",
       "      <td>240.83</td>\n",
       "      <td>2373228</td>\n",
       "      <td>5.715338e+13</td>\n",
       "      <td>NaN</td>\n",
       "      <td>NaN</td>\n",
       "      <td>NaN</td>\n",
       "    </tr>\n",
       "    <tr>\n",
       "      <th>1</th>\n",
       "      <td>2000-01-04</td>\n",
       "      <td>SBIN</td>\n",
       "      <td>EQ</td>\n",
       "      <td>243.65</td>\n",
       "      <td>243.65</td>\n",
       "      <td>262.00</td>\n",
       "      <td>238.85</td>\n",
       "      <td>258.00</td>\n",
       "      <td>259.10</td>\n",
       "      <td>251.46</td>\n",
       "      <td>4495741</td>\n",
       "      <td>1.130506e+14</td>\n",
       "      <td>NaN</td>\n",
       "      <td>NaN</td>\n",
       "      <td>NaN</td>\n",
       "    </tr>\n",
       "    <tr>\n",
       "      <th>2</th>\n",
       "      <td>2000-01-05</td>\n",
       "      <td>SBIN</td>\n",
       "      <td>EQ</td>\n",
       "      <td>259.10</td>\n",
       "      <td>249.00</td>\n",
       "      <td>264.70</td>\n",
       "      <td>245.00</td>\n",
       "      <td>249.05</td>\n",
       "      <td>248.45</td>\n",
       "      <td>252.35</td>\n",
       "      <td>3434058</td>\n",
       "      <td>8.666008e+13</td>\n",
       "      <td>NaN</td>\n",
       "      <td>NaN</td>\n",
       "      <td>NaN</td>\n",
       "    </tr>\n",
       "    <tr>\n",
       "      <th>3</th>\n",
       "      <td>2000-01-06</td>\n",
       "      <td>SBIN</td>\n",
       "      <td>EQ</td>\n",
       "      <td>248.45</td>\n",
       "      <td>252.00</td>\n",
       "      <td>268.00</td>\n",
       "      <td>252.00</td>\n",
       "      <td>260.50</td>\n",
       "      <td>261.00</td>\n",
       "      <td>262.18</td>\n",
       "      <td>6658801</td>\n",
       "      <td>1.745817e+14</td>\n",
       "      <td>NaN</td>\n",
       "      <td>NaN</td>\n",
       "      <td>NaN</td>\n",
       "    </tr>\n",
       "    <tr>\n",
       "      <th>4</th>\n",
       "      <td>2000-01-07</td>\n",
       "      <td>SBIN</td>\n",
       "      <td>EQ</td>\n",
       "      <td>261.00</td>\n",
       "      <td>261.50</td>\n",
       "      <td>279.90</td>\n",
       "      <td>255.00</td>\n",
       "      <td>279.00</td>\n",
       "      <td>273.30</td>\n",
       "      <td>269.02</td>\n",
       "      <td>7873985</td>\n",
       "      <td>2.118287e+14</td>\n",
       "      <td>NaN</td>\n",
       "      <td>NaN</td>\n",
       "      <td>NaN</td>\n",
       "    </tr>\n",
       "  </tbody>\n",
       "</table>\n",
       "</div>"
      ],
      "text/plain": [
       "         Date Symbol Series  Prev Close    Open    High     Low    Last  \\\n",
       "0  2000-01-03   SBIN     EQ      225.60  236.00  243.65  234.25  243.65   \n",
       "1  2000-01-04   SBIN     EQ      243.65  243.65  262.00  238.85  258.00   \n",
       "2  2000-01-05   SBIN     EQ      259.10  249.00  264.70  245.00  249.05   \n",
       "3  2000-01-06   SBIN     EQ      248.45  252.00  268.00  252.00  260.50   \n",
       "4  2000-01-07   SBIN     EQ      261.00  261.50  279.90  255.00  279.00   \n",
       "\n",
       "    Close    VWAP   Volume      Turnover  Trades  Deliverable Volume  \\\n",
       "0  243.65  240.83  2373228  5.715338e+13     NaN                 NaN   \n",
       "1  259.10  251.46  4495741  1.130506e+14     NaN                 NaN   \n",
       "2  248.45  252.35  3434058  8.666008e+13     NaN                 NaN   \n",
       "3  261.00  262.18  6658801  1.745817e+14     NaN                 NaN   \n",
       "4  273.30  269.02  7873985  2.118287e+14     NaN                 NaN   \n",
       "\n",
       "   %Deliverble  \n",
       "0          NaN  \n",
       "1          NaN  \n",
       "2          NaN  \n",
       "3          NaN  \n",
       "4          NaN  "
      ]
     },
     "execution_count": 84,
     "metadata": {},
     "output_type": "execute_result"
    }
   ],
   "source": [
    "stock.head()"
   ]
  },
  {
   "cell_type": "code",
   "execution_count": 85,
   "id": "564201f0",
   "metadata": {},
   "outputs": [
    {
     "name": "stdout",
     "output_type": "stream",
     "text": [
      "<class 'pandas.core.frame.DataFrame'>\n",
      "RangeIndex: 5306 entries, 0 to 5305\n",
      "Data columns (total 15 columns):\n",
      " #   Column              Non-Null Count  Dtype  \n",
      "---  ------              --------------  -----  \n",
      " 0   Date                5306 non-null   object \n",
      " 1   Symbol              5306 non-null   object \n",
      " 2   Series              5306 non-null   object \n",
      " 3   Prev Close          5306 non-null   float64\n",
      " 4   Open                5306 non-null   float64\n",
      " 5   High                5306 non-null   float64\n",
      " 6   Low                 5306 non-null   float64\n",
      " 7   Last                5306 non-null   float64\n",
      " 8   Close               5306 non-null   float64\n",
      " 9   VWAP                5306 non-null   float64\n",
      " 10  Volume              5306 non-null   int64  \n",
      " 11  Turnover            5306 non-null   float64\n",
      " 12  Trades              2456 non-null   float64\n",
      " 13  Deliverable Volume  4792 non-null   float64\n",
      " 14  %Deliverble         4792 non-null   float64\n",
      "dtypes: float64(11), int64(1), object(3)\n",
      "memory usage: 621.9+ KB\n"
     ]
    }
   ],
   "source": [
    "stock.info()"
   ]
  },
  {
   "cell_type": "code",
   "execution_count": 86,
   "id": "c9d711dd",
   "metadata": {},
   "outputs": [
    {
     "data": {
      "text/html": [
       "<div>\n",
       "<style scoped>\n",
       "    .dataframe tbody tr th:only-of-type {\n",
       "        vertical-align: middle;\n",
       "    }\n",
       "\n",
       "    .dataframe tbody tr th {\n",
       "        vertical-align: top;\n",
       "    }\n",
       "\n",
       "    .dataframe thead th {\n",
       "        text-align: right;\n",
       "    }\n",
       "</style>\n",
       "<table border=\"1\" class=\"dataframe\">\n",
       "  <thead>\n",
       "    <tr style=\"text-align: right;\">\n",
       "      <th></th>\n",
       "      <th>Prev Close</th>\n",
       "      <th>Open</th>\n",
       "      <th>High</th>\n",
       "      <th>Low</th>\n",
       "      <th>Last</th>\n",
       "      <th>Close</th>\n",
       "      <th>VWAP</th>\n",
       "      <th>Volume</th>\n",
       "      <th>Turnover</th>\n",
       "      <th>Trades</th>\n",
       "      <th>Deliverable Volume</th>\n",
       "      <th>%Deliverble</th>\n",
       "    </tr>\n",
       "  </thead>\n",
       "  <tbody>\n",
       "    <tr>\n",
       "      <th>count</th>\n",
       "      <td>5306.000000</td>\n",
       "      <td>5306.000000</td>\n",
       "      <td>5306.000000</td>\n",
       "      <td>5306.000000</td>\n",
       "      <td>5306.000000</td>\n",
       "      <td>5306.000000</td>\n",
       "      <td>5306.00000</td>\n",
       "      <td>5.306000e+03</td>\n",
       "      <td>5.306000e+03</td>\n",
       "      <td>2.456000e+03</td>\n",
       "      <td>4.792000e+03</td>\n",
       "      <td>4792.000000</td>\n",
       "    </tr>\n",
       "    <tr>\n",
       "      <th>mean</th>\n",
       "      <td>965.871438</td>\n",
       "      <td>967.182115</td>\n",
       "      <td>982.101583</td>\n",
       "      <td>950.898587</td>\n",
       "      <td>965.727026</td>\n",
       "      <td>965.895543</td>\n",
       "      <td>966.77033</td>\n",
       "      <td>1.003930e+07</td>\n",
       "      <td>4.136854e+14</td>\n",
       "      <td>1.507028e+05</td>\n",
       "      <td>3.012573e+06</td>\n",
       "      <td>0.280363</td>\n",
       "    </tr>\n",
       "    <tr>\n",
       "      <th>std</th>\n",
       "      <td>857.785547</td>\n",
       "      <td>858.925475</td>\n",
       "      <td>870.739801</td>\n",
       "      <td>845.761231</td>\n",
       "      <td>857.510230</td>\n",
       "      <td>857.766537</td>\n",
       "      <td>858.38307</td>\n",
       "      <td>1.783189e+07</td>\n",
       "      <td>4.578376e+14</td>\n",
       "      <td>1.082755e+05</td>\n",
       "      <td>5.073956e+06</td>\n",
       "      <td>0.120499</td>\n",
       "    </tr>\n",
       "    <tr>\n",
       "      <th>min</th>\n",
       "      <td>141.450000</td>\n",
       "      <td>142.850000</td>\n",
       "      <td>147.950000</td>\n",
       "      <td>140.050000</td>\n",
       "      <td>140.550000</td>\n",
       "      <td>141.450000</td>\n",
       "      <td>145.90000</td>\n",
       "      <td>3.633000e+03</td>\n",
       "      <td>7.680600e+10</td>\n",
       "      <td>4.016000e+03</td>\n",
       "      <td>1.548000e+04</td>\n",
       "      <td>0.029400</td>\n",
       "    </tr>\n",
       "    <tr>\n",
       "      <th>25%</th>\n",
       "      <td>258.662500</td>\n",
       "      <td>259.262500</td>\n",
       "      <td>262.662500</td>\n",
       "      <td>255.000000</td>\n",
       "      <td>258.500000</td>\n",
       "      <td>258.712500</td>\n",
       "      <td>258.58750</td>\n",
       "      <td>1.451959e+06</td>\n",
       "      <td>1.447402e+14</td>\n",
       "      <td>8.465700e+04</td>\n",
       "      <td>3.537600e+05</td>\n",
       "      <td>0.190900</td>\n",
       "    </tr>\n",
       "    <tr>\n",
       "      <th>50%</th>\n",
       "      <td>475.275000</td>\n",
       "      <td>475.050000</td>\n",
       "      <td>482.625000</td>\n",
       "      <td>466.400000</td>\n",
       "      <td>475.000000</td>\n",
       "      <td>475.275000</td>\n",
       "      <td>476.19000</td>\n",
       "      <td>2.580254e+06</td>\n",
       "      <td>3.116596e+14</td>\n",
       "      <td>1.168515e+05</td>\n",
       "      <td>6.799895e+05</td>\n",
       "      <td>0.273800</td>\n",
       "    </tr>\n",
       "    <tr>\n",
       "      <th>75%</th>\n",
       "      <td>1722.025000</td>\n",
       "      <td>1725.000000</td>\n",
       "      <td>1755.000000</td>\n",
       "      <td>1695.000000</td>\n",
       "      <td>1718.737500</td>\n",
       "      <td>1722.025000</td>\n",
       "      <td>1725.38750</td>\n",
       "      <td>1.193361e+07</td>\n",
       "      <td>5.085768e+14</td>\n",
       "      <td>1.750568e+05</td>\n",
       "      <td>4.349524e+06</td>\n",
       "      <td>0.362075</td>\n",
       "    </tr>\n",
       "    <tr>\n",
       "      <th>max</th>\n",
       "      <td>3489.950000</td>\n",
       "      <td>3505.000000</td>\n",
       "      <td>3515.000000</td>\n",
       "      <td>3451.350000</td>\n",
       "      <td>3499.000000</td>\n",
       "      <td>3489.950000</td>\n",
       "      <td>3485.25000</td>\n",
       "      <td>2.626771e+08</td>\n",
       "      <td>8.549083e+15</td>\n",
       "      <td>1.155236e+06</td>\n",
       "      <td>1.333311e+08</td>\n",
       "      <td>0.948200</td>\n",
       "    </tr>\n",
       "  </tbody>\n",
       "</table>\n",
       "</div>"
      ],
      "text/plain": [
       "        Prev Close         Open         High          Low         Last  \\\n",
       "count  5306.000000  5306.000000  5306.000000  5306.000000  5306.000000   \n",
       "mean    965.871438   967.182115   982.101583   950.898587   965.727026   \n",
       "std     857.785547   858.925475   870.739801   845.761231   857.510230   \n",
       "min     141.450000   142.850000   147.950000   140.050000   140.550000   \n",
       "25%     258.662500   259.262500   262.662500   255.000000   258.500000   \n",
       "50%     475.275000   475.050000   482.625000   466.400000   475.000000   \n",
       "75%    1722.025000  1725.000000  1755.000000  1695.000000  1718.737500   \n",
       "max    3489.950000  3505.000000  3515.000000  3451.350000  3499.000000   \n",
       "\n",
       "             Close        VWAP        Volume      Turnover        Trades  \\\n",
       "count  5306.000000  5306.00000  5.306000e+03  5.306000e+03  2.456000e+03   \n",
       "mean    965.895543   966.77033  1.003930e+07  4.136854e+14  1.507028e+05   \n",
       "std     857.766537   858.38307  1.783189e+07  4.578376e+14  1.082755e+05   \n",
       "min     141.450000   145.90000  3.633000e+03  7.680600e+10  4.016000e+03   \n",
       "25%     258.712500   258.58750  1.451959e+06  1.447402e+14  8.465700e+04   \n",
       "50%     475.275000   476.19000  2.580254e+06  3.116596e+14  1.168515e+05   \n",
       "75%    1722.025000  1725.38750  1.193361e+07  5.085768e+14  1.750568e+05   \n",
       "max    3489.950000  3485.25000  2.626771e+08  8.549083e+15  1.155236e+06   \n",
       "\n",
       "       Deliverable Volume  %Deliverble  \n",
       "count        4.792000e+03  4792.000000  \n",
       "mean         3.012573e+06     0.280363  \n",
       "std          5.073956e+06     0.120499  \n",
       "min          1.548000e+04     0.029400  \n",
       "25%          3.537600e+05     0.190900  \n",
       "50%          6.799895e+05     0.273800  \n",
       "75%          4.349524e+06     0.362075  \n",
       "max          1.333311e+08     0.948200  "
      ]
     },
     "execution_count": 86,
     "metadata": {},
     "output_type": "execute_result"
    }
   ],
   "source": [
    "stock.describe()"
   ]
  },
  {
   "cell_type": "code",
   "execution_count": 87,
   "id": "011a47e9",
   "metadata": {},
   "outputs": [],
   "source": [
    "# Ensure we are working with a copy of the DataFrame to avoid the SettingWithCopyWarning\n",
    "stock = stock.copy()"
   ]
  },
  {
   "cell_type": "code",
   "execution_count": 88,
   "id": "7758c824",
   "metadata": {},
   "outputs": [],
   "source": [
    "# Calculate HL_Perc and CO_Perc\n",
    "stock.loc[:, 'HL_Perc'] = (stock['High'] - stock['Low']) / stock['Low'] * 100\n",
    "stock.loc[:, 'CO_Perc'] = (stock['Close'] - stock['Open']) / stock['Open'] * 100"
   ]
  },
  {
   "cell_type": "code",
   "execution_count": 89,
   "id": "0bb9c198",
   "metadata": {},
   "outputs": [],
   "source": [
    "dates = np.array(stock[\"Date\"])\n",
    "dates_check = dates[-30:]\n",
    "dates = dates[:-30]"
   ]
  },
  {
   "cell_type": "code",
   "execution_count": 90,
   "id": "07901da7",
   "metadata": {},
   "outputs": [
    {
     "data": {
      "text/plain": [
       "Index(['Date', 'Symbol', 'Series', 'Prev Close', 'Open', 'High', 'Low', 'Last',\n",
       "       'Close', 'VWAP', 'Volume', 'Turnover', 'Trades', 'Deliverable Volume',\n",
       "       '%Deliverble', 'HL_Perc', 'CO_Perc'],\n",
       "      dtype='object')"
      ]
     },
     "execution_count": 90,
     "metadata": {},
     "output_type": "execute_result"
    }
   ],
   "source": [
    "stock.columns"
   ]
  },
  {
   "cell_type": "code",
   "execution_count": 91,
   "id": "75b07f7b",
   "metadata": {},
   "outputs": [],
   "source": [
    "stock = stock[[\"HL_Perc\", \"CO_Perc\", \"Close\", \"Volume\"]]"
   ]
  },
  {
   "cell_type": "code",
   "execution_count": 92,
   "id": "772db78e",
   "metadata": {},
   "outputs": [],
   "source": [
    "#Define the label column\n",
    "stock[\"PriceNextMonth\"] = stock[\"Close\"].shift(-30)"
   ]
  },
  {
   "cell_type": "code",
   "execution_count": 93,
   "id": "79011229",
   "metadata": {},
   "outputs": [
    {
     "data": {
      "text/html": [
       "<div>\n",
       "<style scoped>\n",
       "    .dataframe tbody tr th:only-of-type {\n",
       "        vertical-align: middle;\n",
       "    }\n",
       "\n",
       "    .dataframe tbody tr th {\n",
       "        vertical-align: top;\n",
       "    }\n",
       "\n",
       "    .dataframe thead th {\n",
       "        text-align: right;\n",
       "    }\n",
       "</style>\n",
       "<table border=\"1\" class=\"dataframe\">\n",
       "  <thead>\n",
       "    <tr style=\"text-align: right;\">\n",
       "      <th></th>\n",
       "      <th>HL_Perc</th>\n",
       "      <th>CO_Perc</th>\n",
       "      <th>Close</th>\n",
       "      <th>Volume</th>\n",
       "      <th>PriceNextMonth</th>\n",
       "    </tr>\n",
       "  </thead>\n",
       "  <tbody>\n",
       "    <tr>\n",
       "      <th>5301</th>\n",
       "      <td>2.417097</td>\n",
       "      <td>1.488578</td>\n",
       "      <td>344.30</td>\n",
       "      <td>49234985</td>\n",
       "      <td>NaN</td>\n",
       "    </tr>\n",
       "    <tr>\n",
       "      <th>5302</th>\n",
       "      <td>3.665304</td>\n",
       "      <td>2.630814</td>\n",
       "      <td>353.05</td>\n",
       "      <td>46003023</td>\n",
       "      <td>NaN</td>\n",
       "    </tr>\n",
       "    <tr>\n",
       "      <th>5303</th>\n",
       "      <td>2.317090</td>\n",
       "      <td>1.792717</td>\n",
       "      <td>363.40</td>\n",
       "      <td>56696255</td>\n",
       "      <td>NaN</td>\n",
       "    </tr>\n",
       "    <tr>\n",
       "      <th>5304</th>\n",
       "      <td>4.064698</td>\n",
       "      <td>-1.534247</td>\n",
       "      <td>359.40</td>\n",
       "      <td>63692926</td>\n",
       "      <td>NaN</td>\n",
       "    </tr>\n",
       "    <tr>\n",
       "      <th>5305</th>\n",
       "      <td>3.438436</td>\n",
       "      <td>0.014146</td>\n",
       "      <td>353.50</td>\n",
       "      <td>53832840</td>\n",
       "      <td>NaN</td>\n",
       "    </tr>\n",
       "  </tbody>\n",
       "</table>\n",
       "</div>"
      ],
      "text/plain": [
       "       HL_Perc   CO_Perc   Close    Volume  PriceNextMonth\n",
       "5301  2.417097  1.488578  344.30  49234985             NaN\n",
       "5302  3.665304  2.630814  353.05  46003023             NaN\n",
       "5303  2.317090  1.792717  363.40  56696255             NaN\n",
       "5304  4.064698 -1.534247  359.40  63692926             NaN\n",
       "5305  3.438436  0.014146  353.50  53832840             NaN"
      ]
     },
     "execution_count": 93,
     "metadata": {},
     "output_type": "execute_result"
    }
   ],
   "source": [
    "stock.tail()"
   ]
  },
  {
   "cell_type": "code",
   "execution_count": 94,
   "id": "c687b99c",
   "metadata": {},
   "outputs": [
    {
     "name": "stderr",
     "output_type": "stream",
     "text": [
      "C:\\Users\\suresh\\AppData\\Local\\Temp\\ipykernel_9868\\459189850.py:2: FutureWarning: In a future version of pandas all arguments of DataFrame.drop except for the argument 'labels' will be keyword-only.\n",
      "  X = np.array(stock.drop([\"PriceNextMonth\"], 1))\n"
     ]
    }
   ],
   "source": [
    "#Make fetaure and label arrays\n",
    "X = np.array(stock.drop([\"PriceNextMonth\"], 1))\n",
    "X = preprocessing.scale(X)\n",
    "X_Check = X[-30:]\n",
    "X = X[:-30]\n",
    "stock.dropna(inplace = True)\n",
    "y = np.array(stock[\"PriceNextMonth\"])"
   ]
  },
  {
   "cell_type": "code",
   "execution_count": 95,
   "id": "381f2472",
   "metadata": {},
   "outputs": [],
   "source": [
    "#Divide the data set into training data and testing data\n",
    "X_train, X_test, y_train, y_test = train_test_split(X,y,test_size = 0.2)"
   ]
  },
  {
   "cell_type": "code",
   "execution_count": 96,
   "id": "489c08a2",
   "metadata": {},
   "outputs": [],
   "source": [
    "#Define the prediction model\n",
    "model = RandomForestRegressor()"
   ]
  },
  {
   "cell_type": "code",
   "execution_count": 97,
   "id": "74ff8cec",
   "metadata": {},
   "outputs": [
    {
     "data": {
      "text/plain": [
       "RandomForestRegressor()"
      ]
     },
     "execution_count": 97,
     "metadata": {},
     "output_type": "execute_result"
    }
   ],
   "source": [
    "#Fit the model using training data\n",
    "model.fit(X_train, y_train)"
   ]
  },
  {
   "cell_type": "code",
   "execution_count": 98,
   "id": "520c0372",
   "metadata": {},
   "outputs": [
    {
     "name": "stdout",
     "output_type": "stream",
     "text": [
      "0.9411425043298026\n"
     ]
    }
   ],
   "source": [
    "#Calculate the confidence value by applying the model to testing data\n",
    "conf = model.score(X_test, y_test)\n",
    "print(conf)"
   ]
  },
  {
   "cell_type": "code",
   "execution_count": 99,
   "id": "b9381393",
   "metadata": {},
   "outputs": [
    {
     "data": {
      "text/plain": [
       "RandomForestRegressor()"
      ]
     },
     "execution_count": 99,
     "metadata": {},
     "output_type": "execute_result"
    }
   ],
   "source": [
    "#Fit the model again using the whole data set\n",
    "model.fit(X,y)"
   ]
  },
  {
   "cell_type": "code",
   "execution_count": 100,
   "id": "4990c67a",
   "metadata": {},
   "outputs": [],
   "source": [
    "predictions = model.predict(X_Check)"
   ]
  },
  {
   "cell_type": "code",
   "execution_count": 101,
   "id": "c0d5a9e2",
   "metadata": {},
   "outputs": [],
   "source": [
    "#Make the final DataFrame containing Dates, ClosePrices, and Forecast values\n",
    "actual = pd.DataFrame(dates, columns = [\"Date\"])\n",
    "actual[\"ClosePrice\"] = stock[\"Close\"]\n",
    "actual[\"Forecast\"] = np.nan\n",
    "actual.set_index(\"Date\", inplace = True)\n",
    "forecast = pd.DataFrame(dates_check, columns=[\"Date\"])\n",
    "forecast[\"Forecast\"] = predictions\n",
    "forecast[\"ClosePrice\"] = np.nan\n",
    "forecast.set_index(\"Date\", inplace = True)\n",
    "var = [actual, forecast]\n",
    "result = pd.concat(var)  #This is the final DataFrame"
   ]
  },
  {
   "cell_type": "code",
   "execution_count": 102,
   "id": "45722829",
   "metadata": {},
   "outputs": [
    {
     "data": {
      "text/plain": [
       "Text(0, 0.5, 'Price')"
      ]
     },
     "execution_count": 102,
     "metadata": {},
     "output_type": "execute_result"
    },
    {
     "data": {
      "image/png": "[encoded data removed]",
      "text/plain": [
       "<Figure size 2000x1000 with 1 Axes>"
      ]
     },
     "metadata": {},
     "output_type": "display_data"
    }
   ],
   "source": [
    "#Plot the final results\n",
    "result.plot(figsize=(20,10), linewidth=1.5)\n",
    "plt.legend(loc=2, prop={'size':20})\n",
    "plt.xlabel('Date')\n",
    "plt.ylabel('Price')"
   ]
  },
  {
   "cell_type": "code",
   "execution_count": null,
   "id": "e099aee8",
   "metadata": {},
   "outputs": [],
   "source": []
  },
  {
   "cell_type": "code",
   "execution_count": null,
   "id": "9f8c7a22",
   "metadata": {},
   "outputs": [],
   "source": []
  }
 ],
 "metadata": {
  "kernelspec": {
   "display_name": "Python 3 (ipykernel)",
   "language": "python",
   "name": "python3"
  },
  "language_info": {
   "codemirror_mode": {
    "name": "ipython",
    "version": 3
   },
   "file_extension": ".py",
   "mimetype": "text/x-python",
   "name": "python",
   "nbconvert_exporter": "python",
   "pygments_lexer": "ipython3",
   "version": "3.9.13"
  }
 },
 "nbformat": 4,
 "nbformat_minor": 5
}
