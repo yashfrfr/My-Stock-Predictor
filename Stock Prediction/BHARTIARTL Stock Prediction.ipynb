{
 "cells": [
  {
   "cell_type": "code",
   "execution_count": 2,
   "id": "5a20ead1",
   "metadata": {},
   "outputs": [],
   "source": [
    "#Import the libraries\n",
    "import pandas as pd \n",
    "import numpy as np \n",
    "import matplotlib.pyplot as plt \n",
    "from sklearn import preprocessing\n",
    "from sklearn.ensemble import RandomForestRegressor\n",
    "from sklearn.model_selection import train_test_split\n",
    "from sklearn.metrics import mean_absolute_error, r2_score"
   ]
  },
  {
   "cell_type": "code",
   "execution_count": 43,
   "id": "1ebabd9c",
   "metadata": {},
   "outputs": [],
   "source": [
    "stock = pd.read_csv(\"C:/Users/suresh/Desktop/PYTHON ML DATA SCIENCE/Stock Prediction/Stock Data/BHARTIARTL.csv\")"
   ]
  },
  {
   "cell_type": "code",
   "execution_count": 44,
   "id": "b4a873d4",
   "metadata": {},
   "outputs": [
    {
     "data": {
      "text/html": [
       "<div>\n",
       "<style scoped>\n",
       "    .dataframe tbody tr th:only-of-type {\n",
       "        vertical-align: middle;\n",
       "    }\n",
       "\n",
       "    .dataframe tbody tr th {\n",
       "        vertical-align: top;\n",
       "    }\n",
       "\n",
       "    .dataframe thead th {\n",
       "        text-align: right;\n",
       "    }\n",
       "</style>\n",
       "<table border=\"1\" class=\"dataframe\">\n",
       "  <thead>\n",
       "    <tr style=\"text-align: right;\">\n",
       "      <th></th>\n",
       "      <th>Date</th>\n",
       "      <th>Symbol</th>\n",
       "      <th>Series</th>\n",
       "      <th>Prev Close</th>\n",
       "      <th>Open</th>\n",
       "      <th>High</th>\n",
       "      <th>Low</th>\n",
       "      <th>Last</th>\n",
       "      <th>Close</th>\n",
       "      <th>VWAP</th>\n",
       "      <th>Volume</th>\n",
       "      <th>Turnover</th>\n",
       "      <th>Trades</th>\n",
       "      <th>Deliverable Volume</th>\n",
       "      <th>%Deliverble</th>\n",
       "    </tr>\n",
       "  </thead>\n",
       "  <tbody>\n",
       "    <tr>\n",
       "      <th>0</th>\n",
       "      <td>2002-02-18</td>\n",
       "      <td>BHARTI</td>\n",
       "      <td>EQ</td>\n",
       "      <td>0.00</td>\n",
       "      <td>51.90</td>\n",
       "      <td>51.90</td>\n",
       "      <td>43.50</td>\n",
       "      <td>44.70</td>\n",
       "      <td>44.35</td>\n",
       "      <td>46.00</td>\n",
       "      <td>10381190</td>\n",
       "      <td>4.775431e+13</td>\n",
       "      <td>NaN</td>\n",
       "      <td>6503775.0</td>\n",
       "      <td>0.6265</td>\n",
       "    </tr>\n",
       "    <tr>\n",
       "      <th>1</th>\n",
       "      <td>2002-02-19</td>\n",
       "      <td>BHARTI</td>\n",
       "      <td>EQ</td>\n",
       "      <td>44.35</td>\n",
       "      <td>45.15</td>\n",
       "      <td>45.15</td>\n",
       "      <td>41.30</td>\n",
       "      <td>41.35</td>\n",
       "      <td>41.70</td>\n",
       "      <td>42.58</td>\n",
       "      <td>3552660</td>\n",
       "      <td>1.512609e+13</td>\n",
       "      <td>NaN</td>\n",
       "      <td>1741184.0</td>\n",
       "      <td>0.4901</td>\n",
       "    </tr>\n",
       "    <tr>\n",
       "      <th>2</th>\n",
       "      <td>2002-02-20</td>\n",
       "      <td>BHARTI</td>\n",
       "      <td>EQ</td>\n",
       "      <td>41.70</td>\n",
       "      <td>40.60</td>\n",
       "      <td>42.80</td>\n",
       "      <td>40.25</td>\n",
       "      <td>41.20</td>\n",
       "      <td>41.25</td>\n",
       "      <td>41.56</td>\n",
       "      <td>2512964</td>\n",
       "      <td>1.044348e+13</td>\n",
       "      <td>NaN</td>\n",
       "      <td>NaN</td>\n",
       "      <td>NaN</td>\n",
       "    </tr>\n",
       "    <tr>\n",
       "      <th>3</th>\n",
       "      <td>2002-02-21</td>\n",
       "      <td>BHARTI</td>\n",
       "      <td>EQ</td>\n",
       "      <td>41.25</td>\n",
       "      <td>42.85</td>\n",
       "      <td>43.40</td>\n",
       "      <td>42.15</td>\n",
       "      <td>42.20</td>\n",
       "      <td>42.40</td>\n",
       "      <td>42.76</td>\n",
       "      <td>1338196</td>\n",
       "      <td>5.722681e+12</td>\n",
       "      <td>NaN</td>\n",
       "      <td>485969.0</td>\n",
       "      <td>0.3632</td>\n",
       "    </tr>\n",
       "    <tr>\n",
       "      <th>4</th>\n",
       "      <td>2002-02-22</td>\n",
       "      <td>BHARTI</td>\n",
       "      <td>EQ</td>\n",
       "      <td>42.40</td>\n",
       "      <td>42.65</td>\n",
       "      <td>43.60</td>\n",
       "      <td>41.10</td>\n",
       "      <td>43.35</td>\n",
       "      <td>43.30</td>\n",
       "      <td>42.75</td>\n",
       "      <td>811327</td>\n",
       "      <td>3.468413e+12</td>\n",
       "      <td>NaN</td>\n",
       "      <td>399133.0</td>\n",
       "      <td>0.4920</td>\n",
       "    </tr>\n",
       "  </tbody>\n",
       "</table>\n",
       "</div>"
      ],
      "text/plain": [
       "         Date  Symbol Series  Prev Close   Open   High    Low   Last  Close  \\\n",
       "0  2002-02-18  BHARTI     EQ        0.00  51.90  51.90  43.50  44.70  44.35   \n",
       "1  2002-02-19  BHARTI     EQ       44.35  45.15  45.15  41.30  41.35  41.70   \n",
       "2  2002-02-20  BHARTI     EQ       41.70  40.60  42.80  40.25  41.20  41.25   \n",
       "3  2002-02-21  BHARTI     EQ       41.25  42.85  43.40  42.15  42.20  42.40   \n",
       "4  2002-02-22  BHARTI     EQ       42.40  42.65  43.60  41.10  43.35  43.30   \n",
       "\n",
       "    VWAP    Volume      Turnover  Trades  Deliverable Volume  %Deliverble  \n",
       "0  46.00  10381190  4.775431e+13     NaN           6503775.0       0.6265  \n",
       "1  42.58   3552660  1.512609e+13     NaN           1741184.0       0.4901  \n",
       "2  41.56   2512964  1.044348e+13     NaN                 NaN          NaN  \n",
       "3  42.76   1338196  5.722681e+12     NaN            485969.0       0.3632  \n",
       "4  42.75    811327  3.468413e+12     NaN            399133.0       0.4920  "
      ]
     },
     "execution_count": 44,
     "metadata": {},
     "output_type": "execute_result"
    }
   ],
   "source": [
    "stock.head()"
   ]
  },
  {
   "cell_type": "code",
   "execution_count": 45,
   "id": "564201f0",
   "metadata": {},
   "outputs": [
    {
     "name": "stdout",
     "output_type": "stream",
     "text": [
      "<class 'pandas.core.frame.DataFrame'>\n",
      "RangeIndex: 4774 entries, 0 to 4773\n",
      "Data columns (total 15 columns):\n",
      " #   Column              Non-Null Count  Dtype  \n",
      "---  ------              --------------  -----  \n",
      " 0   Date                4774 non-null   object \n",
      " 1   Symbol              4774 non-null   object \n",
      " 2   Series              4774 non-null   object \n",
      " 3   Prev Close          4774 non-null   float64\n",
      " 4   Open                4774 non-null   float64\n",
      " 5   High                4774 non-null   float64\n",
      " 6   Low                 4774 non-null   float64\n",
      " 7   Last                4774 non-null   float64\n",
      " 8   Close               4774 non-null   float64\n",
      " 9   VWAP                4774 non-null   float64\n",
      " 10  Volume              4774 non-null   int64  \n",
      " 11  Turnover            4774 non-null   float64\n",
      " 12  Trades              2456 non-null   float64\n",
      " 13  Deliverable Volume  4758 non-null   float64\n",
      " 14  %Deliverble         4758 non-null   float64\n",
      "dtypes: float64(11), int64(1), object(3)\n",
      "memory usage: 559.6+ KB\n"
     ]
    }
   ],
   "source": [
    "stock.info()"
   ]
  },
  {
   "cell_type": "code",
   "execution_count": 46,
   "id": "c9d711dd",
   "metadata": {},
   "outputs": [
    {
     "data": {
      "text/html": [
       "<div>\n",
       "<style scoped>\n",
       "    .dataframe tbody tr th:only-of-type {\n",
       "        vertical-align: middle;\n",
       "    }\n",
       "\n",
       "    .dataframe tbody tr th {\n",
       "        vertical-align: top;\n",
       "    }\n",
       "\n",
       "    .dataframe thead th {\n",
       "        text-align: right;\n",
       "    }\n",
       "</style>\n",
       "<table border=\"1\" class=\"dataframe\">\n",
       "  <thead>\n",
       "    <tr style=\"text-align: right;\">\n",
       "      <th></th>\n",
       "      <th>Prev Close</th>\n",
       "      <th>Open</th>\n",
       "      <th>High</th>\n",
       "      <th>Low</th>\n",
       "      <th>Last</th>\n",
       "      <th>Close</th>\n",
       "      <th>VWAP</th>\n",
       "      <th>Volume</th>\n",
       "      <th>Turnover</th>\n",
       "      <th>Trades</th>\n",
       "      <th>Deliverable Volume</th>\n",
       "      <th>%Deliverble</th>\n",
       "    </tr>\n",
       "  </thead>\n",
       "  <tbody>\n",
       "    <tr>\n",
       "      <th>count</th>\n",
       "      <td>4774.000000</td>\n",
       "      <td>4774.000000</td>\n",
       "      <td>4774.000000</td>\n",
       "      <td>4774.000000</td>\n",
       "      <td>4774.000000</td>\n",
       "      <td>4774.000000</td>\n",
       "      <td>4774.000000</td>\n",
       "      <td>4.774000e+03</td>\n",
       "      <td>4.774000e+03</td>\n",
       "      <td>2456.000000</td>\n",
       "      <td>4.758000e+03</td>\n",
       "      <td>4758.000000</td>\n",
       "    </tr>\n",
       "    <tr>\n",
       "      <th>mean</th>\n",
       "      <td>379.688333</td>\n",
       "      <td>380.478456</td>\n",
       "      <td>387.034761</td>\n",
       "      <td>372.705216</td>\n",
       "      <td>379.798502</td>\n",
       "      <td>379.800765</td>\n",
       "      <td>379.824874</td>\n",
       "      <td>5.341070e+06</td>\n",
       "      <td>2.245218e+14</td>\n",
       "      <td>85133.370114</td>\n",
       "      <td>2.653730e+06</td>\n",
       "      <td>0.521711</td>\n",
       "    </tr>\n",
       "    <tr>\n",
       "      <th>std</th>\n",
       "      <td>207.237329</td>\n",
       "      <td>207.774041</td>\n",
       "      <td>212.037403</td>\n",
       "      <td>202.270599</td>\n",
       "      <td>207.163319</td>\n",
       "      <td>207.176886</td>\n",
       "      <td>206.953021</td>\n",
       "      <td>7.976471e+06</td>\n",
       "      <td>4.014405e+14</td>\n",
       "      <td>75136.125261</td>\n",
       "      <td>4.016530e+06</td>\n",
       "      <td>0.148377</td>\n",
       "    </tr>\n",
       "    <tr>\n",
       "      <th>min</th>\n",
       "      <td>0.000000</td>\n",
       "      <td>21.100000</td>\n",
       "      <td>21.600000</td>\n",
       "      <td>20.650000</td>\n",
       "      <td>20.700000</td>\n",
       "      <td>20.750000</td>\n",
       "      <td>20.960000</td>\n",
       "      <td>2.824600e+04</td>\n",
       "      <td>7.373966e+10</td>\n",
       "      <td>1392.000000</td>\n",
       "      <td>1.830100e+04</td>\n",
       "      <td>0.071900</td>\n",
       "    </tr>\n",
       "    <tr>\n",
       "      <th>25%</th>\n",
       "      <td>301.325000</td>\n",
       "      <td>302.000000</td>\n",
       "      <td>306.825000</td>\n",
       "      <td>296.575000</td>\n",
       "      <td>301.162500</td>\n",
       "      <td>301.400000</td>\n",
       "      <td>301.390000</td>\n",
       "      <td>1.838864e+06</td>\n",
       "      <td>5.580891e+13</td>\n",
       "      <td>43331.000000</td>\n",
       "      <td>8.125398e+05</td>\n",
       "      <td>0.417850</td>\n",
       "    </tr>\n",
       "    <tr>\n",
       "      <th>50%</th>\n",
       "      <td>348.800000</td>\n",
       "      <td>349.000000</td>\n",
       "      <td>353.925000</td>\n",
       "      <td>343.500000</td>\n",
       "      <td>348.575000</td>\n",
       "      <td>348.800000</td>\n",
       "      <td>348.750000</td>\n",
       "      <td>3.474614e+06</td>\n",
       "      <td>1.268449e+14</td>\n",
       "      <td>62231.500000</td>\n",
       "      <td>1.793994e+06</td>\n",
       "      <td>0.530000</td>\n",
       "    </tr>\n",
       "    <tr>\n",
       "      <th>75%</th>\n",
       "      <td>423.850000</td>\n",
       "      <td>425.000000</td>\n",
       "      <td>431.312500</td>\n",
       "      <td>417.250000</td>\n",
       "      <td>423.275000</td>\n",
       "      <td>423.937500</td>\n",
       "      <td>424.297500</td>\n",
       "      <td>5.922892e+06</td>\n",
       "      <td>2.382761e+14</td>\n",
       "      <td>97361.750000</td>\n",
       "      <td>3.254393e+06</td>\n",
       "      <td>0.628475</td>\n",
       "    </tr>\n",
       "    <tr>\n",
       "      <th>max</th>\n",
       "      <td>1125.650000</td>\n",
       "      <td>1133.900000</td>\n",
       "      <td>1184.200000</td>\n",
       "      <td>1090.250000</td>\n",
       "      <td>1131.350000</td>\n",
       "      <td>1125.650000</td>\n",
       "      <td>1113.580000</td>\n",
       "      <td>1.948880e+08</td>\n",
       "      <td>1.090756e+16</td>\n",
       "      <td>946705.000000</td>\n",
       "      <td>1.229199e+08</td>\n",
       "      <td>0.999800</td>\n",
       "    </tr>\n",
       "  </tbody>\n",
       "</table>\n",
       "</div>"
      ],
      "text/plain": [
       "        Prev Close         Open         High          Low         Last  \\\n",
       "count  4774.000000  4774.000000  4774.000000  4774.000000  4774.000000   \n",
       "mean    379.688333   380.478456   387.034761   372.705216   379.798502   \n",
       "std     207.237329   207.774041   212.037403   202.270599   207.163319   \n",
       "min       0.000000    21.100000    21.600000    20.650000    20.700000   \n",
       "25%     301.325000   302.000000   306.825000   296.575000   301.162500   \n",
       "50%     348.800000   349.000000   353.925000   343.500000   348.575000   \n",
       "75%     423.850000   425.000000   431.312500   417.250000   423.275000   \n",
       "max    1125.650000  1133.900000  1184.200000  1090.250000  1131.350000   \n",
       "\n",
       "             Close         VWAP        Volume      Turnover         Trades  \\\n",
       "count  4774.000000  4774.000000  4.774000e+03  4.774000e+03    2456.000000   \n",
       "mean    379.800765   379.824874  5.341070e+06  2.245218e+14   85133.370114   \n",
       "std     207.176886   206.953021  7.976471e+06  4.014405e+14   75136.125261   \n",
       "min      20.750000    20.960000  2.824600e+04  7.373966e+10    1392.000000   \n",
       "25%     301.400000   301.390000  1.838864e+06  5.580891e+13   43331.000000   \n",
       "50%     348.800000   348.750000  3.474614e+06  1.268449e+14   62231.500000   \n",
       "75%     423.937500   424.297500  5.922892e+06  2.382761e+14   97361.750000   \n",
       "max    1125.650000  1113.580000  1.948880e+08  1.090756e+16  946705.000000   \n",
       "\n",
       "       Deliverable Volume  %Deliverble  \n",
       "count        4.758000e+03  4758.000000  \n",
       "mean         2.653730e+06     0.521711  \n",
       "std          4.016530e+06     0.148377  \n",
       "min          1.830100e+04     0.071900  \n",
       "25%          8.125398e+05     0.417850  \n",
       "50%          1.793994e+06     0.530000  \n",
       "75%          3.254393e+06     0.628475  \n",
       "max          1.229199e+08     0.999800  "
      ]
     },
     "execution_count": 46,
     "metadata": {},
     "output_type": "execute_result"
    }
   ],
   "source": [
    "stock.describe()"
   ]
  },
  {
   "cell_type": "code",
   "execution_count": 47,
   "id": "011a47e9",
   "metadata": {},
   "outputs": [],
   "source": [
    "# Ensure we are working with a copy of the DataFrame to avoid the SettingWithCopyWarning\n",
    "stock = stock.copy()"
   ]
  },
  {
   "cell_type": "code",
   "execution_count": 48,
   "id": "7758c824",
   "metadata": {},
   "outputs": [],
   "source": [
    "# Calculate HL_Perc and CO_Perc\n",
    "stock.loc[:, 'HL_Perc'] = (stock['High'] - stock['Low']) / stock['Low'] * 100\n",
    "stock.loc[:, 'CO_Perc'] = (stock['Close'] - stock['Open']) / stock['Open'] * 100"
   ]
  },
  {
   "cell_type": "code",
   "execution_count": 49,
   "id": "0bb9c198",
   "metadata": {},
   "outputs": [],
   "source": [
    "dates = np.array(stock[\"Date\"])\n",
    "dates_check = dates[-30:]\n",
    "dates = dates[:-30]"
   ]
  },
  {
   "cell_type": "code",
   "execution_count": 50,
   "id": "07901da7",
   "metadata": {},
   "outputs": [
    {
     "data": {
      "text/plain": [
       "Index(['Date', 'Symbol', 'Series', 'Prev Close', 'Open', 'High', 'Low', 'Last',\n",
       "       'Close', 'VWAP', 'Volume', 'Turnover', 'Trades', 'Deliverable Volume',\n",
       "       '%Deliverble', 'HL_Perc', 'CO_Perc'],\n",
       "      dtype='object')"
      ]
     },
     "execution_count": 50,
     "metadata": {},
     "output_type": "execute_result"
    }
   ],
   "source": [
    "stock.columns"
   ]
  },
  {
   "cell_type": "code",
   "execution_count": 51,
   "id": "75b07f7b",
   "metadata": {},
   "outputs": [],
   "source": [
    "stock = stock[[\"HL_Perc\", \"CO_Perc\", \"Close\", \"Volume\"]]"
   ]
  },
  {
   "cell_type": "code",
   "execution_count": 52,
   "id": "772db78e",
   "metadata": {},
   "outputs": [],
   "source": [
    "#Define the label column\n",
    "stock[\"PriceNextMonth\"] = stock[\"Close\"].shift(-30)"
   ]
  },
  {
   "cell_type": "code",
   "execution_count": 53,
   "id": "79011229",
   "metadata": {},
   "outputs": [
    {
     "data": {
      "text/html": [
       "<div>\n",
       "<style scoped>\n",
       "    .dataframe tbody tr th:only-of-type {\n",
       "        vertical-align: middle;\n",
       "    }\n",
       "\n",
       "    .dataframe tbody tr th {\n",
       "        vertical-align: top;\n",
       "    }\n",
       "\n",
       "    .dataframe thead th {\n",
       "        text-align: right;\n",
       "    }\n",
       "</style>\n",
       "<table border=\"1\" class=\"dataframe\">\n",
       "  <thead>\n",
       "    <tr style=\"text-align: right;\">\n",
       "      <th></th>\n",
       "      <th>HL_Perc</th>\n",
       "      <th>CO_Perc</th>\n",
       "      <th>Close</th>\n",
       "      <th>Volume</th>\n",
       "      <th>PriceNextMonth</th>\n",
       "    </tr>\n",
       "  </thead>\n",
       "  <tbody>\n",
       "    <tr>\n",
       "      <th>4769</th>\n",
       "      <td>1.099952</td>\n",
       "      <td>0.918221</td>\n",
       "      <td>527.55</td>\n",
       "      <td>5819893</td>\n",
       "      <td>NaN</td>\n",
       "    </tr>\n",
       "    <tr>\n",
       "      <th>4770</th>\n",
       "      <td>2.337292</td>\n",
       "      <td>1.298701</td>\n",
       "      <td>534.30</td>\n",
       "      <td>9693047</td>\n",
       "      <td>NaN</td>\n",
       "    </tr>\n",
       "    <tr>\n",
       "      <th>4771</th>\n",
       "      <td>2.315161</td>\n",
       "      <td>1.557981</td>\n",
       "      <td>544.30</td>\n",
       "      <td>11970652</td>\n",
       "      <td>NaN</td>\n",
       "    </tr>\n",
       "    <tr>\n",
       "      <th>4772</th>\n",
       "      <td>2.021888</td>\n",
       "      <td>-1.609969</td>\n",
       "      <td>540.85</td>\n",
       "      <td>8683857</td>\n",
       "      <td>NaN</td>\n",
       "    </tr>\n",
       "    <tr>\n",
       "      <th>4773</th>\n",
       "      <td>2.530459</td>\n",
       "      <td>0.609185</td>\n",
       "      <td>536.75</td>\n",
       "      <td>8178192</td>\n",
       "      <td>NaN</td>\n",
       "    </tr>\n",
       "  </tbody>\n",
       "</table>\n",
       "</div>"
      ],
      "text/plain": [
       "       HL_Perc   CO_Perc   Close    Volume  PriceNextMonth\n",
       "4769  1.099952  0.918221  527.55   5819893             NaN\n",
       "4770  2.337292  1.298701  534.30   9693047             NaN\n",
       "4771  2.315161  1.557981  544.30  11970652             NaN\n",
       "4772  2.021888 -1.609969  540.85   8683857             NaN\n",
       "4773  2.530459  0.609185  536.75   8178192             NaN"
      ]
     },
     "execution_count": 53,
     "metadata": {},
     "output_type": "execute_result"
    }
   ],
   "source": [
    "stock.tail()"
   ]
  },
  {
   "cell_type": "code",
   "execution_count": 54,
   "id": "c687b99c",
   "metadata": {},
   "outputs": [
    {
     "name": "stderr",
     "output_type": "stream",
     "text": [
      "C:\\Users\\suresh\\AppData\\Local\\Temp\\ipykernel_17924\\459189850.py:2: FutureWarning: In a future version of pandas all arguments of DataFrame.drop except for the argument 'labels' will be keyword-only.\n",
      "  X = np.array(stock.drop([\"PriceNextMonth\"], 1))\n"
     ]
    }
   ],
   "source": [
    "#Make fetaure and label arrays\n",
    "X = np.array(stock.drop([\"PriceNextMonth\"], 1))\n",
    "X = preprocessing.scale(X)\n",
    "X_Check = X[-30:]\n",
    "X = X[:-30]\n",
    "stock.dropna(inplace = True)\n",
    "y = np.array(stock[\"PriceNextMonth\"])"
   ]
  },
  {
   "cell_type": "code",
   "execution_count": 55,
   "id": "381f2472",
   "metadata": {},
   "outputs": [],
   "source": [
    "#Divide the data set into training data and testing data\n",
    "X_train, X_test, y_train, y_test = train_test_split(X,y,test_size = 0.2)"
   ]
  },
  {
   "cell_type": "code",
   "execution_count": 56,
   "id": "489c08a2",
   "metadata": {},
   "outputs": [],
   "source": [
    "#Define the prediction model\n",
    "model = RandomForestRegressor()"
   ]
  },
  {
   "cell_type": "code",
   "execution_count": 57,
   "id": "74ff8cec",
   "metadata": {},
   "outputs": [
    {
     "data": {
      "text/plain": [
       "RandomForestRegressor()"
      ]
     },
     "execution_count": 57,
     "metadata": {},
     "output_type": "execute_result"
    }
   ],
   "source": [
    "#Fit the model using training data\n",
    "model.fit(X_train, y_train)"
   ]
  },
  {
   "cell_type": "code",
   "execution_count": 58,
   "id": "520c0372",
   "metadata": {},
   "outputs": [
    {
     "name": "stdout",
     "output_type": "stream",
     "text": [
      "0.9440189101888452\n"
     ]
    }
   ],
   "source": [
    "#Calculate the confidence value by applying the model to testing data\n",
    "conf = model.score(X_test, y_test)\n",
    "print(conf)"
   ]
  },
  {
   "cell_type": "code",
   "execution_count": 59,
   "id": "b9381393",
   "metadata": {},
   "outputs": [
    {
     "data": {
      "text/plain": [
       "RandomForestRegressor()"
      ]
     },
     "execution_count": 59,
     "metadata": {},
     "output_type": "execute_result"
    }
   ],
   "source": [
    "#Fit the model again using the whole data set\n",
    "model.fit(X,y)"
   ]
  },
  {
   "cell_type": "code",
   "execution_count": 60,
   "id": "4990c67a",
   "metadata": {},
   "outputs": [],
   "source": [
    "predictions = model.predict(X_Check)"
   ]
  },
  {
   "cell_type": "code",
   "execution_count": 61,
   "id": "c0d5a9e2",
   "metadata": {},
   "outputs": [],
   "source": [
    "#Make the final DataFrame containing Dates, ClosePrices, and Forecast values\n",
    "actual = pd.DataFrame(dates, columns = [\"Date\"])\n",
    "actual[\"ClosePrice\"] = stock[\"Close\"]\n",
    "actual[\"Forecast\"] = np.nan\n",
    "actual.set_index(\"Date\", inplace = True)\n",
    "forecast = pd.DataFrame(dates_check, columns=[\"Date\"])\n",
    "forecast[\"Forecast\"] = predictions\n",
    "forecast[\"ClosePrice\"] = np.nan\n",
    "forecast.set_index(\"Date\", inplace = True)\n",
    "var = [actual, forecast]\n",
    "result = pd.concat(var)  #This is the final DataFrame"
   ]
  },
  {
   "cell_type": "code",
   "execution_count": 62,
   "id": "45722829",
   "metadata": {},
   "outputs": [
    {
     "data": {
      "text/plain": [
       "Text(0, 0.5, 'Price')"
      ]
     },
     "execution_count": 62,
     "metadata": {},
     "output_type": "execute_result"
    },
    {
     "data": {
      "image/png": "[encoded data removed]",
      "text/plain": [
       "<Figure size 2000x1000 with 1 Axes>"
      ]
     },
     "metadata": {},
     "output_type": "display_data"
    }
   ],
   "source": [
    "#Plot the final results\n",
    "result.plot(figsize=(20,10), linewidth=1.5)\n",
    "plt.legend(loc=2, prop={'size':20})\n",
    "plt.xlabel('Date')\n",
    "plt.ylabel('Price')"
   ]
  },
  {
   "cell_type": "code",
   "execution_count": null,
   "id": "e099aee8",
   "metadata": {},
   "outputs": [],
   "source": []
  },
  {
   "cell_type": "code",
   "execution_count": null,
   "id": "84c4c9e1",
   "metadata": {},
   "outputs": [],
   "source": []
  }
 ],
 "metadata": {
  "kernelspec": {
   "display_name": "Python 3 (ipykernel)",
   "language": "python",
   "name": "python3"
  },
  "language_info": {
   "codemirror_mode": {
    "name": "ipython",
    "version": 3
   },
   "file_extension": ".py",
   "mimetype": "text/x-python",
   "name": "python",
   "nbconvert_exporter": "python",
   "pygments_lexer": "ipython3",
   "version": "3.9.13"
  }
 },
 "nbformat": 4,
 "nbformat_minor": 5
}
