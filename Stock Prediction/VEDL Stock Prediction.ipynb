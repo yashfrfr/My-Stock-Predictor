{
 "cells": [
  {
   "cell_type": "code",
   "execution_count": 2,
   "id": "5a20ead1",
   "metadata": {},
   "outputs": [],
   "source": [
    "#Import the libraries\n",
    "import pandas as pd \n",
    "import numpy as np \n",
    "import matplotlib.pyplot as plt \n",
    "from sklearn import preprocessing\n",
    "from sklearn.ensemble import RandomForestRegressor\n",
    "from sklearn.model_selection import train_test_split\n",
    "from sklearn.metrics import mean_absolute_error, r2_score"
   ]
  },
  {
   "cell_type": "code",
   "execution_count": 283,
   "id": "1ebabd9c",
   "metadata": {},
   "outputs": [],
   "source": [
    "stock = pd.read_csv(\"C:/Users/suresh/Desktop/PYTHON ML DATA SCIENCE/Stock Prediction/Stock Data/VEDL.csv\")"
   ]
  },
  {
   "cell_type": "code",
   "execution_count": 284,
   "id": "b4a873d4",
   "metadata": {},
   "outputs": [
    {
     "data": {
      "text/html": [
       "<div>\n",
       "<style scoped>\n",
       "    .dataframe tbody tr th:only-of-type {\n",
       "        vertical-align: middle;\n",
       "    }\n",
       "\n",
       "    .dataframe tbody tr th {\n",
       "        vertical-align: top;\n",
       "    }\n",
       "\n",
       "    .dataframe thead th {\n",
       "        text-align: right;\n",
       "    }\n",
       "</style>\n",
       "<table border=\"1\" class=\"dataframe\">\n",
       "  <thead>\n",
       "    <tr style=\"text-align: right;\">\n",
       "      <th></th>\n",
       "      <th>Date</th>\n",
       "      <th>Symbol</th>\n",
       "      <th>Series</th>\n",
       "      <th>Prev Close</th>\n",
       "      <th>Open</th>\n",
       "      <th>High</th>\n",
       "      <th>Low</th>\n",
       "      <th>Last</th>\n",
       "      <th>Close</th>\n",
       "      <th>VWAP</th>\n",
       "      <th>Volume</th>\n",
       "      <th>Turnover</th>\n",
       "      <th>Trades</th>\n",
       "      <th>Deliverable Volume</th>\n",
       "      <th>%Deliverble</th>\n",
       "    </tr>\n",
       "  </thead>\n",
       "  <tbody>\n",
       "    <tr>\n",
       "      <th>0</th>\n",
       "      <td>2000-01-03</td>\n",
       "      <td>SESAGOA</td>\n",
       "      <td>EQ</td>\n",
       "      <td>107.70</td>\n",
       "      <td>111.00</td>\n",
       "      <td>116.35</td>\n",
       "      <td>108.00</td>\n",
       "      <td>116.35</td>\n",
       "      <td>116.35</td>\n",
       "      <td>114.80</td>\n",
       "      <td>20371</td>\n",
       "      <td>2.338597e+11</td>\n",
       "      <td>NaN</td>\n",
       "      <td>NaN</td>\n",
       "      <td>NaN</td>\n",
       "    </tr>\n",
       "    <tr>\n",
       "      <th>1</th>\n",
       "      <td>2000-01-04</td>\n",
       "      <td>SESAGOA</td>\n",
       "      <td>EQ</td>\n",
       "      <td>116.35</td>\n",
       "      <td>113.75</td>\n",
       "      <td>116.00</td>\n",
       "      <td>108.00</td>\n",
       "      <td>116.00</td>\n",
       "      <td>114.70</td>\n",
       "      <td>113.34</td>\n",
       "      <td>22366</td>\n",
       "      <td>2.534994e+11</td>\n",
       "      <td>NaN</td>\n",
       "      <td>NaN</td>\n",
       "      <td>NaN</td>\n",
       "    </tr>\n",
       "    <tr>\n",
       "      <th>2</th>\n",
       "      <td>2000-01-05</td>\n",
       "      <td>SESAGOA</td>\n",
       "      <td>EQ</td>\n",
       "      <td>114.70</td>\n",
       "      <td>107.55</td>\n",
       "      <td>115.85</td>\n",
       "      <td>107.55</td>\n",
       "      <td>114.50</td>\n",
       "      <td>114.00</td>\n",
       "      <td>112.78</td>\n",
       "      <td>18305</td>\n",
       "      <td>2.064361e+11</td>\n",
       "      <td>NaN</td>\n",
       "      <td>NaN</td>\n",
       "      <td>NaN</td>\n",
       "    </tr>\n",
       "    <tr>\n",
       "      <th>3</th>\n",
       "      <td>2000-01-06</td>\n",
       "      <td>SESAGOA</td>\n",
       "      <td>EQ</td>\n",
       "      <td>114.00</td>\n",
       "      <td>112.00</td>\n",
       "      <td>123.10</td>\n",
       "      <td>112.00</td>\n",
       "      <td>118.80</td>\n",
       "      <td>119.30</td>\n",
       "      <td>119.89</td>\n",
       "      <td>25800</td>\n",
       "      <td>3.093133e+11</td>\n",
       "      <td>NaN</td>\n",
       "      <td>NaN</td>\n",
       "      <td>NaN</td>\n",
       "    </tr>\n",
       "    <tr>\n",
       "      <th>4</th>\n",
       "      <td>2000-01-07</td>\n",
       "      <td>SESAGOA</td>\n",
       "      <td>EQ</td>\n",
       "      <td>119.30</td>\n",
       "      <td>119.85</td>\n",
       "      <td>120.00</td>\n",
       "      <td>114.05</td>\n",
       "      <td>116.50</td>\n",
       "      <td>116.50</td>\n",
       "      <td>116.84</td>\n",
       "      <td>17361</td>\n",
       "      <td>2.028403e+11</td>\n",
       "      <td>NaN</td>\n",
       "      <td>NaN</td>\n",
       "      <td>NaN</td>\n",
       "    </tr>\n",
       "  </tbody>\n",
       "</table>\n",
       "</div>"
      ],
      "text/plain": [
       "         Date   Symbol Series  Prev Close    Open    High     Low    Last  \\\n",
       "0  2000-01-03  SESAGOA     EQ      107.70  111.00  116.35  108.00  116.35   \n",
       "1  2000-01-04  SESAGOA     EQ      116.35  113.75  116.00  108.00  116.00   \n",
       "2  2000-01-05  SESAGOA     EQ      114.70  107.55  115.85  107.55  114.50   \n",
       "3  2000-01-06  SESAGOA     EQ      114.00  112.00  123.10  112.00  118.80   \n",
       "4  2000-01-07  SESAGOA     EQ      119.30  119.85  120.00  114.05  116.50   \n",
       "\n",
       "    Close    VWAP  Volume      Turnover  Trades  Deliverable Volume  \\\n",
       "0  116.35  114.80   20371  2.338597e+11     NaN                 NaN   \n",
       "1  114.70  113.34   22366  2.534994e+11     NaN                 NaN   \n",
       "2  114.00  112.78   18305  2.064361e+11     NaN                 NaN   \n",
       "3  119.30  119.89   25800  3.093133e+11     NaN                 NaN   \n",
       "4  116.50  116.84   17361  2.028403e+11     NaN                 NaN   \n",
       "\n",
       "   %Deliverble  \n",
       "0          NaN  \n",
       "1          NaN  \n",
       "2          NaN  \n",
       "3          NaN  \n",
       "4          NaN  "
      ]
     },
     "execution_count": 284,
     "metadata": {},
     "output_type": "execute_result"
    }
   ],
   "source": [
    "stock.head()"
   ]
  },
  {
   "cell_type": "code",
   "execution_count": 285,
   "id": "564201f0",
   "metadata": {},
   "outputs": [
    {
     "name": "stdout",
     "output_type": "stream",
     "text": [
      "<class 'pandas.core.frame.DataFrame'>\n",
      "RangeIndex: 5305 entries, 0 to 5304\n",
      "Data columns (total 15 columns):\n",
      " #   Column              Non-Null Count  Dtype  \n",
      "---  ------              --------------  -----  \n",
      " 0   Date                5305 non-null   object \n",
      " 1   Symbol              5305 non-null   object \n",
      " 2   Series              5305 non-null   object \n",
      " 3   Prev Close          5305 non-null   float64\n",
      " 4   Open                5305 non-null   float64\n",
      " 5   High                5305 non-null   float64\n",
      " 6   Low                 5305 non-null   float64\n",
      " 7   Last                5305 non-null   float64\n",
      " 8   Close               5305 non-null   float64\n",
      " 9   VWAP                5305 non-null   float64\n",
      " 10  Volume              5305 non-null   int64  \n",
      " 11  Turnover            5305 non-null   float64\n",
      " 12  Trades              2456 non-null   float64\n",
      " 13  Deliverable Volume  4792 non-null   float64\n",
      " 14  %Deliverble         4792 non-null   float64\n",
      "dtypes: float64(11), int64(1), object(3)\n",
      "memory usage: 621.8+ KB\n"
     ]
    }
   ],
   "source": [
    "stock.info()"
   ]
  },
  {
   "cell_type": "code",
   "execution_count": 286,
   "id": "c9d711dd",
   "metadata": {},
   "outputs": [
    {
     "data": {
      "text/html": [
       "<div>\n",
       "<style scoped>\n",
       "    .dataframe tbody tr th:only-of-type {\n",
       "        vertical-align: middle;\n",
       "    }\n",
       "\n",
       "    .dataframe tbody tr th {\n",
       "        vertical-align: top;\n",
       "    }\n",
       "\n",
       "    .dataframe thead th {\n",
       "        text-align: right;\n",
       "    }\n",
       "</style>\n",
       "<table border=\"1\" class=\"dataframe\">\n",
       "  <thead>\n",
       "    <tr style=\"text-align: right;\">\n",
       "      <th></th>\n",
       "      <th>Prev Close</th>\n",
       "      <th>Open</th>\n",
       "      <th>High</th>\n",
       "      <th>Low</th>\n",
       "      <th>Last</th>\n",
       "      <th>Close</th>\n",
       "      <th>VWAP</th>\n",
       "      <th>Volume</th>\n",
       "      <th>Turnover</th>\n",
       "      <th>Trades</th>\n",
       "      <th>Deliverable Volume</th>\n",
       "      <th>%Deliverble</th>\n",
       "    </tr>\n",
       "  </thead>\n",
       "  <tbody>\n",
       "    <tr>\n",
       "      <th>count</th>\n",
       "      <td>5305.000000</td>\n",
       "      <td>5305.000000</td>\n",
       "      <td>5305.000000</td>\n",
       "      <td>5305.000000</td>\n",
       "      <td>5305.000000</td>\n",
       "      <td>5305.000000</td>\n",
       "      <td>5305.000000</td>\n",
       "      <td>5.305000e+03</td>\n",
       "      <td>5.305000e+03</td>\n",
       "      <td>2456.000000</td>\n",
       "      <td>4.792000e+03</td>\n",
       "      <td>4792.000000</td>\n",
       "    </tr>\n",
       "    <tr>\n",
       "      <th>mean</th>\n",
       "      <td>462.461188</td>\n",
       "      <td>463.406183</td>\n",
       "      <td>474.350236</td>\n",
       "      <td>451.723685</td>\n",
       "      <td>462.468407</td>\n",
       "      <td>462.489378</td>\n",
       "      <td>463.558641</td>\n",
       "      <td>5.980439e+06</td>\n",
       "      <td>1.182407e+14</td>\n",
       "      <td>64592.116450</td>\n",
       "      <td>2.096782e+06</td>\n",
       "      <td>0.348614</td>\n",
       "    </tr>\n",
       "    <tr>\n",
       "      <th>std</th>\n",
       "      <td>719.934594</td>\n",
       "      <td>721.532016</td>\n",
       "      <td>740.938801</td>\n",
       "      <td>700.907608</td>\n",
       "      <td>719.828804</td>\n",
       "      <td>719.923628</td>\n",
       "      <td>722.096572</td>\n",
       "      <td>1.020356e+07</td>\n",
       "      <td>1.571569e+14</td>\n",
       "      <td>42619.409534</td>\n",
       "      <td>3.516599e+06</td>\n",
       "      <td>0.148474</td>\n",
       "    </tr>\n",
       "    <tr>\n",
       "      <th>min</th>\n",
       "      <td>38.100000</td>\n",
       "      <td>38.100000</td>\n",
       "      <td>39.950000</td>\n",
       "      <td>37.100000</td>\n",
       "      <td>38.100000</td>\n",
       "      <td>38.100000</td>\n",
       "      <td>38.660000</td>\n",
       "      <td>5.100000e+01</td>\n",
       "      <td>2.465900e+08</td>\n",
       "      <td>1064.000000</td>\n",
       "      <td>1.630000e+03</td>\n",
       "      <td>0.071300</td>\n",
       "    </tr>\n",
       "    <tr>\n",
       "      <th>25%</th>\n",
       "      <td>119.550000</td>\n",
       "      <td>119.000000</td>\n",
       "      <td>123.400000</td>\n",
       "      <td>115.100000</td>\n",
       "      <td>119.500000</td>\n",
       "      <td>119.600000</td>\n",
       "      <td>119.000000</td>\n",
       "      <td>1.853450e+05</td>\n",
       "      <td>1.429950e+13</td>\n",
       "      <td>36094.750000</td>\n",
       "      <td>1.119035e+05</td>\n",
       "      <td>0.238675</td>\n",
       "    </tr>\n",
       "    <tr>\n",
       "      <th>50%</th>\n",
       "      <td>202.350000</td>\n",
       "      <td>202.350000</td>\n",
       "      <td>206.000000</td>\n",
       "      <td>198.600000</td>\n",
       "      <td>202.000000</td>\n",
       "      <td>202.350000</td>\n",
       "      <td>202.810000</td>\n",
       "      <td>2.441535e+06</td>\n",
       "      <td>6.760174e+13</td>\n",
       "      <td>56361.500000</td>\n",
       "      <td>9.867705e+05</td>\n",
       "      <td>0.322850</td>\n",
       "    </tr>\n",
       "    <tr>\n",
       "      <th>75%</th>\n",
       "      <td>359.150000</td>\n",
       "      <td>360.000000</td>\n",
       "      <td>368.700000</td>\n",
       "      <td>351.000000</td>\n",
       "      <td>358.050000</td>\n",
       "      <td>359.150000</td>\n",
       "      <td>359.720000</td>\n",
       "      <td>8.630236e+06</td>\n",
       "      <td>1.745150e+14</td>\n",
       "      <td>83665.000000</td>\n",
       "      <td>2.843874e+06</td>\n",
       "      <td>0.429425</td>\n",
       "    </tr>\n",
       "    <tr>\n",
       "      <th>max</th>\n",
       "      <td>4344.200000</td>\n",
       "      <td>4400.000000</td>\n",
       "      <td>4400.000000</td>\n",
       "      <td>4310.000000</td>\n",
       "      <td>4355.000000</td>\n",
       "      <td>4344.200000</td>\n",
       "      <td>4346.450000</td>\n",
       "      <td>2.709680e+08</td>\n",
       "      <td>4.374148e+15</td>\n",
       "      <td>616591.000000</td>\n",
       "      <td>9.555991e+07</td>\n",
       "      <td>0.983900</td>\n",
       "    </tr>\n",
       "  </tbody>\n",
       "</table>\n",
       "</div>"
      ],
      "text/plain": [
       "        Prev Close         Open         High          Low         Last  \\\n",
       "count  5305.000000  5305.000000  5305.000000  5305.000000  5305.000000   \n",
       "mean    462.461188   463.406183   474.350236   451.723685   462.468407   \n",
       "std     719.934594   721.532016   740.938801   700.907608   719.828804   \n",
       "min      38.100000    38.100000    39.950000    37.100000    38.100000   \n",
       "25%     119.550000   119.000000   123.400000   115.100000   119.500000   \n",
       "50%     202.350000   202.350000   206.000000   198.600000   202.000000   \n",
       "75%     359.150000   360.000000   368.700000   351.000000   358.050000   \n",
       "max    4344.200000  4400.000000  4400.000000  4310.000000  4355.000000   \n",
       "\n",
       "             Close         VWAP        Volume      Turnover         Trades  \\\n",
       "count  5305.000000  5305.000000  5.305000e+03  5.305000e+03    2456.000000   \n",
       "mean    462.489378   463.558641  5.980439e+06  1.182407e+14   64592.116450   \n",
       "std     719.923628   722.096572  1.020356e+07  1.571569e+14   42619.409534   \n",
       "min      38.100000    38.660000  5.100000e+01  2.465900e+08    1064.000000   \n",
       "25%     119.600000   119.000000  1.853450e+05  1.429950e+13   36094.750000   \n",
       "50%     202.350000   202.810000  2.441535e+06  6.760174e+13   56361.500000   \n",
       "75%     359.150000   359.720000  8.630236e+06  1.745150e+14   83665.000000   \n",
       "max    4344.200000  4346.450000  2.709680e+08  4.374148e+15  616591.000000   \n",
       "\n",
       "       Deliverable Volume  %Deliverble  \n",
       "count        4.792000e+03  4792.000000  \n",
       "mean         2.096782e+06     0.348614  \n",
       "std          3.516599e+06     0.148474  \n",
       "min          1.630000e+03     0.071300  \n",
       "25%          1.119035e+05     0.238675  \n",
       "50%          9.867705e+05     0.322850  \n",
       "75%          2.843874e+06     0.429425  \n",
       "max          9.555991e+07     0.983900  "
      ]
     },
     "execution_count": 286,
     "metadata": {},
     "output_type": "execute_result"
    }
   ],
   "source": [
    "stock.describe()"
   ]
  },
  {
   "cell_type": "code",
   "execution_count": 287,
   "id": "011a47e9",
   "metadata": {},
   "outputs": [],
   "source": [
    "# Ensure we are working with a copy of the DataFrame to avoid the SettingWithCopyWarning\n",
    "stock = stock.copy()"
   ]
  },
  {
   "cell_type": "code",
   "execution_count": 288,
   "id": "7758c824",
   "metadata": {},
   "outputs": [],
   "source": [
    "# Calculate HL_Perc and CO_Perc\n",
    "stock.loc[:, 'HL_Perc'] = (stock['High'] - stock['Low']) / stock['Low'] * 100\n",
    "stock.loc[:, 'CO_Perc'] = (stock['Close'] - stock['Open']) / stock['Open'] * 100"
   ]
  },
  {
   "cell_type": "code",
   "execution_count": 289,
   "id": "0bb9c198",
   "metadata": {},
   "outputs": [],
   "source": [
    "dates = np.array(stock[\"Date\"])\n",
    "dates_check = dates[-30:]\n",
    "dates = dates[:-30]"
   ]
  },
  {
   "cell_type": "code",
   "execution_count": 290,
   "id": "07901da7",
   "metadata": {},
   "outputs": [
    {
     "data": {
      "text/plain": [
       "Index(['Date', 'Symbol', 'Series', 'Prev Close', 'Open', 'High', 'Low', 'Last',\n",
       "       'Close', 'VWAP', 'Volume', 'Turnover', 'Trades', 'Deliverable Volume',\n",
       "       '%Deliverble', 'HL_Perc', 'CO_Perc'],\n",
       "      dtype='object')"
      ]
     },
     "execution_count": 290,
     "metadata": {},
     "output_type": "execute_result"
    }
   ],
   "source": [
    "stock.columns"
   ]
  },
  {
   "cell_type": "code",
   "execution_count": 291,
   "id": "75b07f7b",
   "metadata": {},
   "outputs": [],
   "source": [
    "stock = stock[[\"HL_Perc\", \"CO_Perc\", \"Close\", \"Volume\"]]"
   ]
  },
  {
   "cell_type": "code",
   "execution_count": 292,
   "id": "772db78e",
   "metadata": {},
   "outputs": [],
   "source": [
    "#Define the label column\n",
    "stock[\"PriceNextMonth\"] = stock[\"Close\"].shift(-30)"
   ]
  },
  {
   "cell_type": "code",
   "execution_count": 293,
   "id": "79011229",
   "metadata": {},
   "outputs": [
    {
     "data": {
      "text/html": [
       "<div>\n",
       "<style scoped>\n",
       "    .dataframe tbody tr th:only-of-type {\n",
       "        vertical-align: middle;\n",
       "    }\n",
       "\n",
       "    .dataframe tbody tr th {\n",
       "        vertical-align: top;\n",
       "    }\n",
       "\n",
       "    .dataframe thead th {\n",
       "        text-align: right;\n",
       "    }\n",
       "</style>\n",
       "<table border=\"1\" class=\"dataframe\">\n",
       "  <thead>\n",
       "    <tr style=\"text-align: right;\">\n",
       "      <th></th>\n",
       "      <th>HL_Perc</th>\n",
       "      <th>CO_Perc</th>\n",
       "      <th>Close</th>\n",
       "      <th>Volume</th>\n",
       "      <th>PriceNextMonth</th>\n",
       "    </tr>\n",
       "  </thead>\n",
       "  <tbody>\n",
       "    <tr>\n",
       "      <th>5300</th>\n",
       "      <td>4.398955</td>\n",
       "      <td>3.070557</td>\n",
       "      <td>236.65</td>\n",
       "      <td>16763872</td>\n",
       "      <td>NaN</td>\n",
       "    </tr>\n",
       "    <tr>\n",
       "      <th>5301</th>\n",
       "      <td>2.279381</td>\n",
       "      <td>1.501564</td>\n",
       "      <td>243.35</td>\n",
       "      <td>15648609</td>\n",
       "      <td>NaN</td>\n",
       "    </tr>\n",
       "    <tr>\n",
       "      <th>5302</th>\n",
       "      <td>3.510238</td>\n",
       "      <td>0.308452</td>\n",
       "      <td>243.90</td>\n",
       "      <td>13518520</td>\n",
       "      <td>NaN</td>\n",
       "    </tr>\n",
       "    <tr>\n",
       "      <th>5303</th>\n",
       "      <td>5.773196</td>\n",
       "      <td>3.784334</td>\n",
       "      <td>255.05</td>\n",
       "      <td>25110119</td>\n",
       "      <td>NaN</td>\n",
       "    </tr>\n",
       "    <tr>\n",
       "      <th>5304</th>\n",
       "      <td>5.404870</td>\n",
       "      <td>0.862576</td>\n",
       "      <td>257.25</td>\n",
       "      <td>21911292</td>\n",
       "      <td>NaN</td>\n",
       "    </tr>\n",
       "  </tbody>\n",
       "</table>\n",
       "</div>"
      ],
      "text/plain": [
       "       HL_Perc   CO_Perc   Close    Volume  PriceNextMonth\n",
       "5300  4.398955  3.070557  236.65  16763872             NaN\n",
       "5301  2.279381  1.501564  243.35  15648609             NaN\n",
       "5302  3.510238  0.308452  243.90  13518520             NaN\n",
       "5303  5.773196  3.784334  255.05  25110119             NaN\n",
       "5304  5.404870  0.862576  257.25  21911292             NaN"
      ]
     },
     "execution_count": 293,
     "metadata": {},
     "output_type": "execute_result"
    }
   ],
   "source": [
    "stock.tail()"
   ]
  },
  {
   "cell_type": "code",
   "execution_count": 294,
   "id": "c687b99c",
   "metadata": {},
   "outputs": [
    {
     "name": "stderr",
     "output_type": "stream",
     "text": [
      "C:\\Users\\suresh\\AppData\\Local\\Temp\\ipykernel_9868\\459189850.py:2: FutureWarning: In a future version of pandas all arguments of DataFrame.drop except for the argument 'labels' will be keyword-only.\n",
      "  X = np.array(stock.drop([\"PriceNextMonth\"], 1))\n"
     ]
    }
   ],
   "source": [
    "#Make fetaure and label arrays\n",
    "X = np.array(stock.drop([\"PriceNextMonth\"], 1))\n",
    "X = preprocessing.scale(X)\n",
    "X_Check = X[-30:]\n",
    "X = X[:-30]\n",
    "stock.dropna(inplace = True)\n",
    "y = np.array(stock[\"PriceNextMonth\"])"
   ]
  },
  {
   "cell_type": "code",
   "execution_count": 295,
   "id": "381f2472",
   "metadata": {},
   "outputs": [],
   "source": [
    "#Divide the data set into training data and testing data\n",
    "X_train, X_test, y_train, y_test = train_test_split(X,y,test_size = 0.2)"
   ]
  },
  {
   "cell_type": "code",
   "execution_count": 296,
   "id": "489c08a2",
   "metadata": {},
   "outputs": [],
   "source": [
    "#Define the prediction model\n",
    "model = RandomForestRegressor()"
   ]
  },
  {
   "cell_type": "code",
   "execution_count": 297,
   "id": "74ff8cec",
   "metadata": {},
   "outputs": [
    {
     "data": {
      "text/plain": [
       "RandomForestRegressor()"
      ]
     },
     "execution_count": 297,
     "metadata": {},
     "output_type": "execute_result"
    }
   ],
   "source": [
    "#Fit the model using training data\n",
    "model.fit(X_train, y_train)"
   ]
  },
  {
   "cell_type": "code",
   "execution_count": 298,
   "id": "520c0372",
   "metadata": {},
   "outputs": [
    {
     "name": "stdout",
     "output_type": "stream",
     "text": [
      "0.9027018803550262\n"
     ]
    }
   ],
   "source": [
    "#Calculate the confidence value by applying the model to testing data\n",
    "conf = model.score(X_test, y_test)\n",
    "print(conf)"
   ]
  },
  {
   "cell_type": "code",
   "execution_count": 299,
   "id": "b9381393",
   "metadata": {},
   "outputs": [
    {
     "data": {
      "text/plain": [
       "RandomForestRegressor()"
      ]
     },
     "execution_count": 299,
     "metadata": {},
     "output_type": "execute_result"
    }
   ],
   "source": [
    "#Fit the model again using the whole data set\n",
    "model.fit(X,y)"
   ]
  },
  {
   "cell_type": "code",
   "execution_count": 300,
   "id": "4990c67a",
   "metadata": {},
   "outputs": [],
   "source": [
    "predictions = model.predict(X_Check)"
   ]
  },
  {
   "cell_type": "code",
   "execution_count": 301,
   "id": "c0d5a9e2",
   "metadata": {},
   "outputs": [],
   "source": [
    "#Make the final DataFrame containing Dates, ClosePrices, and Forecast values\n",
    "actual = pd.DataFrame(dates, columns = [\"Date\"])\n",
    "actual[\"ClosePrice\"] = stock[\"Close\"]\n",
    "actual[\"Forecast\"] = np.nan\n",
    "actual.set_index(\"Date\", inplace = True)\n",
    "forecast = pd.DataFrame(dates_check, columns=[\"Date\"])\n",
    "forecast[\"Forecast\"] = predictions\n",
    "forecast[\"ClosePrice\"] = np.nan\n",
    "forecast.set_index(\"Date\", inplace = True)\n",
    "var = [actual, forecast]\n",
    "result = pd.concat(var)  #This is the final DataFrame"
   ]
  },
  {
   "cell_type": "code",
   "execution_count": 302,
   "id": "45722829",
   "metadata": {},
   "outputs": [
    {
     "data": {
      "text/plain": [
       "Text(0, 0.5, 'Price')"
      ]
     },
     "execution_count": 302,
     "metadata": {},
     "output_type": "execute_result"
    },
    {
     "data": {
      "image/png": "[encoded data removed]",
      "text/plain": [
       "<Figure size 2000x1000 with 1 Axes>"
      ]
     },
     "metadata": {},
     "output_type": "display_data"
    }
   ],
   "source": [
    "#Plot the final results\n",
    "result.plot(figsize=(20,10), linewidth=1.5)\n",
    "plt.legend(loc=2, prop={'size':20})\n",
    "plt.xlabel('Date')\n",
    "plt.ylabel('Price')"
   ]
  },
  {
   "cell_type": "code",
   "execution_count": null,
   "id": "e099aee8",
   "metadata": {},
   "outputs": [],
   "source": []
  },
  {
   "cell_type": "code",
   "execution_count": null,
   "id": "9f8c7a22",
   "metadata": {},
   "outputs": [],
   "source": []
  }
 ],
 "metadata": {
  "kernelspec": {
   "display_name": "Python 3 (ipykernel)",
   "language": "python",
   "name": "python3"
  },
  "language_info": {
   "codemirror_mode": {
    "name": "ipython",
    "version": 3
   },
   "file_extension": ".py",
   "mimetype": "text/x-python",
   "name": "python",
   "nbconvert_exporter": "python",
   "pygments_lexer": "ipython3",
   "version": "3.9.13"
  }
 },
 "nbformat": 4,
 "nbformat_minor": 5
}
