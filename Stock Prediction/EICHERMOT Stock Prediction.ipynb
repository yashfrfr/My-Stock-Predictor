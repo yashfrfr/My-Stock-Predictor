{
 "cells": [
  {
   "cell_type": "code",
   "execution_count": 2,
   "id": "5a20ead1",
   "metadata": {},
   "outputs": [],
   "source": [
    "#Import the libraries\n",
    "import pandas as pd \n",
    "import numpy as np \n",
    "import matplotlib.pyplot as plt \n",
    "from sklearn import preprocessing\n",
    "from sklearn.ensemble import RandomForestRegressor\n",
    "from sklearn.model_selection import train_test_split\n",
    "from sklearn.metrics import mean_absolute_error, r2_score"
   ]
  },
  {
   "cell_type": "code",
   "execution_count": 163,
   "id": "1ebabd9c",
   "metadata": {},
   "outputs": [],
   "source": [
    "stock = pd.read_csv(\"C:/Users/suresh/Desktop/PYTHON ML DATA SCIENCE/Stock Prediction/Stock Data/EICHERMOT.csv\")"
   ]
  },
  {
   "cell_type": "code",
   "execution_count": 164,
   "id": "b4a873d4",
   "metadata": {},
   "outputs": [
    {
     "data": {
      "text/html": [
       "<div>\n",
       "<style scoped>\n",
       "    .dataframe tbody tr th:only-of-type {\n",
       "        vertical-align: middle;\n",
       "    }\n",
       "\n",
       "    .dataframe tbody tr th {\n",
       "        vertical-align: top;\n",
       "    }\n",
       "\n",
       "    .dataframe thead th {\n",
       "        text-align: right;\n",
       "    }\n",
       "</style>\n",
       "<table border=\"1\" class=\"dataframe\">\n",
       "  <thead>\n",
       "    <tr style=\"text-align: right;\">\n",
       "      <th></th>\n",
       "      <th>Date</th>\n",
       "      <th>Symbol</th>\n",
       "      <th>Series</th>\n",
       "      <th>Prev Close</th>\n",
       "      <th>Open</th>\n",
       "      <th>High</th>\n",
       "      <th>Low</th>\n",
       "      <th>Last</th>\n",
       "      <th>Close</th>\n",
       "      <th>VWAP</th>\n",
       "      <th>Volume</th>\n",
       "      <th>Turnover</th>\n",
       "      <th>Trades</th>\n",
       "      <th>Deliverable Volume</th>\n",
       "      <th>%Deliverble</th>\n",
       "    </tr>\n",
       "  </thead>\n",
       "  <tbody>\n",
       "    <tr>\n",
       "      <th>0</th>\n",
       "      <td>2000-01-03</td>\n",
       "      <td>EICHERMOT</td>\n",
       "      <td>EQ</td>\n",
       "      <td>45.20</td>\n",
       "      <td>48.00</td>\n",
       "      <td>48.85</td>\n",
       "      <td>48.00</td>\n",
       "      <td>48.85</td>\n",
       "      <td>48.85</td>\n",
       "      <td>48.75</td>\n",
       "      <td>4100</td>\n",
       "      <td>1.998700e+10</td>\n",
       "      <td>NaN</td>\n",
       "      <td>NaN</td>\n",
       "      <td>NaN</td>\n",
       "    </tr>\n",
       "    <tr>\n",
       "      <th>1</th>\n",
       "      <td>2000-01-04</td>\n",
       "      <td>EICHERMOT</td>\n",
       "      <td>EQ</td>\n",
       "      <td>48.85</td>\n",
       "      <td>52.00</td>\n",
       "      <td>52.75</td>\n",
       "      <td>50.15</td>\n",
       "      <td>51.80</td>\n",
       "      <td>51.40</td>\n",
       "      <td>51.44</td>\n",
       "      <td>49100</td>\n",
       "      <td>2.525880e+11</td>\n",
       "      <td>NaN</td>\n",
       "      <td>NaN</td>\n",
       "      <td>NaN</td>\n",
       "    </tr>\n",
       "    <tr>\n",
       "      <th>2</th>\n",
       "      <td>2000-01-05</td>\n",
       "      <td>EICHERMOT</td>\n",
       "      <td>EQ</td>\n",
       "      <td>51.40</td>\n",
       "      <td>55.00</td>\n",
       "      <td>55.55</td>\n",
       "      <td>51.05</td>\n",
       "      <td>55.55</td>\n",
       "      <td>55.55</td>\n",
       "      <td>53.99</td>\n",
       "      <td>47800</td>\n",
       "      <td>2.580730e+11</td>\n",
       "      <td>NaN</td>\n",
       "      <td>NaN</td>\n",
       "      <td>NaN</td>\n",
       "    </tr>\n",
       "    <tr>\n",
       "      <th>3</th>\n",
       "      <td>2000-01-06</td>\n",
       "      <td>EICHERMOT</td>\n",
       "      <td>EQ</td>\n",
       "      <td>55.55</td>\n",
       "      <td>59.75</td>\n",
       "      <td>60.00</td>\n",
       "      <td>57.30</td>\n",
       "      <td>60.00</td>\n",
       "      <td>60.00</td>\n",
       "      <td>59.75</td>\n",
       "      <td>106200</td>\n",
       "      <td>6.345465e+11</td>\n",
       "      <td>NaN</td>\n",
       "      <td>NaN</td>\n",
       "      <td>NaN</td>\n",
       "    </tr>\n",
       "    <tr>\n",
       "      <th>4</th>\n",
       "      <td>2000-01-07</td>\n",
       "      <td>EICHERMOT</td>\n",
       "      <td>EQ</td>\n",
       "      <td>60.00</td>\n",
       "      <td>64.00</td>\n",
       "      <td>64.80</td>\n",
       "      <td>60.10</td>\n",
       "      <td>64.80</td>\n",
       "      <td>64.65</td>\n",
       "      <td>64.08</td>\n",
       "      <td>115500</td>\n",
       "      <td>7.401300e+11</td>\n",
       "      <td>NaN</td>\n",
       "      <td>NaN</td>\n",
       "      <td>NaN</td>\n",
       "    </tr>\n",
       "  </tbody>\n",
       "</table>\n",
       "</div>"
      ],
      "text/plain": [
       "         Date     Symbol Series  Prev Close   Open   High    Low   Last  \\\n",
       "0  2000-01-03  EICHERMOT     EQ       45.20  48.00  48.85  48.00  48.85   \n",
       "1  2000-01-04  EICHERMOT     EQ       48.85  52.00  52.75  50.15  51.80   \n",
       "2  2000-01-05  EICHERMOT     EQ       51.40  55.00  55.55  51.05  55.55   \n",
       "3  2000-01-06  EICHERMOT     EQ       55.55  59.75  60.00  57.30  60.00   \n",
       "4  2000-01-07  EICHERMOT     EQ       60.00  64.00  64.80  60.10  64.80   \n",
       "\n",
       "   Close   VWAP  Volume      Turnover  Trades  Deliverable Volume  %Deliverble  \n",
       "0  48.85  48.75    4100  1.998700e+10     NaN                 NaN          NaN  \n",
       "1  51.40  51.44   49100  2.525880e+11     NaN                 NaN          NaN  \n",
       "2  55.55  53.99   47800  2.580730e+11     NaN                 NaN          NaN  \n",
       "3  60.00  59.75  106200  6.345465e+11     NaN                 NaN          NaN  \n",
       "4  64.65  64.08  115500  7.401300e+11     NaN                 NaN          NaN  "
      ]
     },
     "execution_count": 164,
     "metadata": {},
     "output_type": "execute_result"
    }
   ],
   "source": [
    "stock.head()"
   ]
  },
  {
   "cell_type": "code",
   "execution_count": 165,
   "id": "564201f0",
   "metadata": {},
   "outputs": [
    {
     "name": "stdout",
     "output_type": "stream",
     "text": [
      "<class 'pandas.core.frame.DataFrame'>\n",
      "RangeIndex: 5301 entries, 0 to 5300\n",
      "Data columns (total 15 columns):\n",
      " #   Column              Non-Null Count  Dtype  \n",
      "---  ------              --------------  -----  \n",
      " 0   Date                5301 non-null   object \n",
      " 1   Symbol              5301 non-null   object \n",
      " 2   Series              5301 non-null   object \n",
      " 3   Prev Close          5301 non-null   float64\n",
      " 4   Open                5301 non-null   float64\n",
      " 5   High                5301 non-null   float64\n",
      " 6   Low                 5301 non-null   float64\n",
      " 7   Last                5301 non-null   float64\n",
      " 8   Close               5301 non-null   float64\n",
      " 9   VWAP                5301 non-null   float64\n",
      " 10  Volume              5301 non-null   int64  \n",
      " 11  Turnover            5301 non-null   float64\n",
      " 12  Trades              2456 non-null   float64\n",
      " 13  Deliverable Volume  4797 non-null   float64\n",
      " 14  %Deliverble         4797 non-null   float64\n",
      "dtypes: float64(11), int64(1), object(3)\n",
      "memory usage: 621.3+ KB\n"
     ]
    }
   ],
   "source": [
    "stock.info()"
   ]
  },
  {
   "cell_type": "code",
   "execution_count": 166,
   "id": "c9d711dd",
   "metadata": {},
   "outputs": [
    {
     "data": {
      "text/html": [
       "<div>\n",
       "<style scoped>\n",
       "    .dataframe tbody tr th:only-of-type {\n",
       "        vertical-align: middle;\n",
       "    }\n",
       "\n",
       "    .dataframe tbody tr th {\n",
       "        vertical-align: top;\n",
       "    }\n",
       "\n",
       "    .dataframe thead th {\n",
       "        text-align: right;\n",
       "    }\n",
       "</style>\n",
       "<table border=\"1\" class=\"dataframe\">\n",
       "  <thead>\n",
       "    <tr style=\"text-align: right;\">\n",
       "      <th></th>\n",
       "      <th>Prev Close</th>\n",
       "      <th>Open</th>\n",
       "      <th>High</th>\n",
       "      <th>Low</th>\n",
       "      <th>Last</th>\n",
       "      <th>Close</th>\n",
       "      <th>VWAP</th>\n",
       "      <th>Volume</th>\n",
       "      <th>Turnover</th>\n",
       "      <th>Trades</th>\n",
       "      <th>Deliverable Volume</th>\n",
       "      <th>%Deliverble</th>\n",
       "    </tr>\n",
       "  </thead>\n",
       "  <tbody>\n",
       "    <tr>\n",
       "      <th>count</th>\n",
       "      <td>5301.000000</td>\n",
       "      <td>5301.000000</td>\n",
       "      <td>5301.000000</td>\n",
       "      <td>5301.000000</td>\n",
       "      <td>5301.000000</td>\n",
       "      <td>5301.000000</td>\n",
       "      <td>5301.000000</td>\n",
       "      <td>5.301000e+03</td>\n",
       "      <td>5.301000e+03</td>\n",
       "      <td>2456.000000</td>\n",
       "      <td>4.797000e+03</td>\n",
       "      <td>4797.000000</td>\n",
       "    </tr>\n",
       "    <tr>\n",
       "      <th>mean</th>\n",
       "      <td>6750.617101</td>\n",
       "      <td>6761.015705</td>\n",
       "      <td>6854.390323</td>\n",
       "      <td>6655.626608</td>\n",
       "      <td>6748.902217</td>\n",
       "      <td>6751.063167</td>\n",
       "      <td>6754.185869</td>\n",
       "      <td>9.628430e+04</td>\n",
       "      <td>6.585217e+13</td>\n",
       "      <td>20394.132329</td>\n",
       "      <td>3.559143e+04</td>\n",
       "      <td>0.574677</td>\n",
       "    </tr>\n",
       "    <tr>\n",
       "      <th>std</th>\n",
       "      <td>9702.905045</td>\n",
       "      <td>9720.554306</td>\n",
       "      <td>9837.340546</td>\n",
       "      <td>9578.945003</td>\n",
       "      <td>9699.746985</td>\n",
       "      <td>9702.651623</td>\n",
       "      <td>9705.534096</td>\n",
       "      <td>3.543847e+05</td>\n",
       "      <td>1.483869e+14</td>\n",
       "      <td>27550.083825</td>\n",
       "      <td>8.999170e+04</td>\n",
       "      <td>0.215865</td>\n",
       "    </tr>\n",
       "    <tr>\n",
       "      <th>min</th>\n",
       "      <td>17.700000</td>\n",
       "      <td>17.050000</td>\n",
       "      <td>17.750000</td>\n",
       "      <td>15.000000</td>\n",
       "      <td>17.700000</td>\n",
       "      <td>17.700000</td>\n",
       "      <td>17.220000</td>\n",
       "      <td>2.500000e+01</td>\n",
       "      <td>6.300000e+07</td>\n",
       "      <td>20.000000</td>\n",
       "      <td>2.500000e+01</td>\n",
       "      <td>0.040200</td>\n",
       "    </tr>\n",
       "    <tr>\n",
       "      <th>25%</th>\n",
       "      <td>225.000000</td>\n",
       "      <td>225.000000</td>\n",
       "      <td>230.000000</td>\n",
       "      <td>220.050000</td>\n",
       "      <td>225.000000</td>\n",
       "      <td>225.050000</td>\n",
       "      <td>225.020000</td>\n",
       "      <td>8.050000e+03</td>\n",
       "      <td>2.220701e+11</td>\n",
       "      <td>3160.250000</td>\n",
       "      <td>6.311000e+03</td>\n",
       "      <td>0.422600</td>\n",
       "    </tr>\n",
       "    <tr>\n",
       "      <th>50%</th>\n",
       "      <td>1038.300000</td>\n",
       "      <td>1038.500000</td>\n",
       "      <td>1060.000000</td>\n",
       "      <td>1015.100000</td>\n",
       "      <td>1040.000000</td>\n",
       "      <td>1043.450000</td>\n",
       "      <td>1041.230000</td>\n",
       "      <td>2.262100e+04</td>\n",
       "      <td>1.561524e+12</td>\n",
       "      <td>11820.000000</td>\n",
       "      <td>1.445700e+04</td>\n",
       "      <td>0.585800</td>\n",
       "    </tr>\n",
       "    <tr>\n",
       "      <th>75%</th>\n",
       "      <td>15334.600000</td>\n",
       "      <td>15350.000000</td>\n",
       "      <td>15580.000000</td>\n",
       "      <td>15094.200000</td>\n",
       "      <td>15335.000000</td>\n",
       "      <td>15334.600000</td>\n",
       "      <td>15335.020000</td>\n",
       "      <td>5.583800e+04</td>\n",
       "      <td>7.388372e+13</td>\n",
       "      <td>25675.250000</td>\n",
       "      <td>3.050800e+04</td>\n",
       "      <td>0.740300</td>\n",
       "    </tr>\n",
       "    <tr>\n",
       "      <th>max</th>\n",
       "      <td>32861.950000</td>\n",
       "      <td>33399.950000</td>\n",
       "      <td>33480.000000</td>\n",
       "      <td>32468.100000</td>\n",
       "      <td>32849.000000</td>\n",
       "      <td>32861.950000</td>\n",
       "      <td>32975.240000</td>\n",
       "      <td>1.149173e+07</td>\n",
       "      <td>2.654207e+15</td>\n",
       "      <td>528187.000000</td>\n",
       "      <td>1.832367e+06</td>\n",
       "      <td>1.000000</td>\n",
       "    </tr>\n",
       "  </tbody>\n",
       "</table>\n",
       "</div>"
      ],
      "text/plain": [
       "         Prev Close          Open          High           Low          Last  \\\n",
       "count   5301.000000   5301.000000   5301.000000   5301.000000   5301.000000   \n",
       "mean    6750.617101   6761.015705   6854.390323   6655.626608   6748.902217   \n",
       "std     9702.905045   9720.554306   9837.340546   9578.945003   9699.746985   \n",
       "min       17.700000     17.050000     17.750000     15.000000     17.700000   \n",
       "25%      225.000000    225.000000    230.000000    220.050000    225.000000   \n",
       "50%     1038.300000   1038.500000   1060.000000   1015.100000   1040.000000   \n",
       "75%    15334.600000  15350.000000  15580.000000  15094.200000  15335.000000   \n",
       "max    32861.950000  33399.950000  33480.000000  32468.100000  32849.000000   \n",
       "\n",
       "              Close          VWAP        Volume      Turnover         Trades  \\\n",
       "count   5301.000000   5301.000000  5.301000e+03  5.301000e+03    2456.000000   \n",
       "mean    6751.063167   6754.185869  9.628430e+04  6.585217e+13   20394.132329   \n",
       "std     9702.651623   9705.534096  3.543847e+05  1.483869e+14   27550.083825   \n",
       "min       17.700000     17.220000  2.500000e+01  6.300000e+07      20.000000   \n",
       "25%      225.050000    225.020000  8.050000e+03  2.220701e+11    3160.250000   \n",
       "50%     1043.450000   1041.230000  2.262100e+04  1.561524e+12   11820.000000   \n",
       "75%    15334.600000  15335.020000  5.583800e+04  7.388372e+13   25675.250000   \n",
       "max    32861.950000  32975.240000  1.149173e+07  2.654207e+15  528187.000000   \n",
       "\n",
       "       Deliverable Volume  %Deliverble  \n",
       "count        4.797000e+03  4797.000000  \n",
       "mean         3.559143e+04     0.574677  \n",
       "std          8.999170e+04     0.215865  \n",
       "min          2.500000e+01     0.040200  \n",
       "25%          6.311000e+03     0.422600  \n",
       "50%          1.445700e+04     0.585800  \n",
       "75%          3.050800e+04     0.740300  \n",
       "max          1.832367e+06     1.000000  "
      ]
     },
     "execution_count": 166,
     "metadata": {},
     "output_type": "execute_result"
    }
   ],
   "source": [
    "stock.describe()"
   ]
  },
  {
   "cell_type": "code",
   "execution_count": 167,
   "id": "011a47e9",
   "metadata": {},
   "outputs": [],
   "source": [
    "# Ensure we are working with a copy of the DataFrame to avoid the SettingWithCopyWarning\n",
    "stock = stock.copy()"
   ]
  },
  {
   "cell_type": "code",
   "execution_count": 168,
   "id": "7758c824",
   "metadata": {},
   "outputs": [],
   "source": [
    "# Calculate HL_Perc and CO_Perc\n",
    "stock.loc[:, 'HL_Perc'] = (stock['High'] - stock['Low']) / stock['Low'] * 100\n",
    "stock.loc[:, 'CO_Perc'] = (stock['Close'] - stock['Open']) / stock['Open'] * 100"
   ]
  },
  {
   "cell_type": "code",
   "execution_count": 169,
   "id": "0bb9c198",
   "metadata": {},
   "outputs": [],
   "source": [
    "dates = np.array(stock[\"Date\"])\n",
    "dates_check = dates[-30:]\n",
    "dates = dates[:-30]"
   ]
  },
  {
   "cell_type": "code",
   "execution_count": 170,
   "id": "07901da7",
   "metadata": {},
   "outputs": [
    {
     "data": {
      "text/plain": [
       "Index(['Date', 'Symbol', 'Series', 'Prev Close', 'Open', 'High', 'Low', 'Last',\n",
       "       'Close', 'VWAP', 'Volume', 'Turnover', 'Trades', 'Deliverable Volume',\n",
       "       '%Deliverble', 'HL_Perc', 'CO_Perc'],\n",
       "      dtype='object')"
      ]
     },
     "execution_count": 170,
     "metadata": {},
     "output_type": "execute_result"
    }
   ],
   "source": [
    "stock.columns"
   ]
  },
  {
   "cell_type": "code",
   "execution_count": 171,
   "id": "75b07f7b",
   "metadata": {},
   "outputs": [],
   "source": [
    "stock = stock[[\"HL_Perc\", \"CO_Perc\", \"Close\", \"Volume\"]]"
   ]
  },
  {
   "cell_type": "code",
   "execution_count": 172,
   "id": "772db78e",
   "metadata": {},
   "outputs": [],
   "source": [
    "#Define the label column\n",
    "stock[\"PriceNextMonth\"] = stock[\"Close\"].shift(-30)"
   ]
  },
  {
   "cell_type": "code",
   "execution_count": 173,
   "id": "79011229",
   "metadata": {},
   "outputs": [
    {
     "data": {
      "text/html": [
       "<div>\n",
       "<style scoped>\n",
       "    .dataframe tbody tr th:only-of-type {\n",
       "        vertical-align: middle;\n",
       "    }\n",
       "\n",
       "    .dataframe tbody tr th {\n",
       "        vertical-align: top;\n",
       "    }\n",
       "\n",
       "    .dataframe thead th {\n",
       "        text-align: right;\n",
       "    }\n",
       "</style>\n",
       "<table border=\"1\" class=\"dataframe\">\n",
       "  <thead>\n",
       "    <tr style=\"text-align: right;\">\n",
       "      <th></th>\n",
       "      <th>HL_Perc</th>\n",
       "      <th>CO_Perc</th>\n",
       "      <th>Close</th>\n",
       "      <th>Volume</th>\n",
       "      <th>PriceNextMonth</th>\n",
       "    </tr>\n",
       "  </thead>\n",
       "  <tbody>\n",
       "    <tr>\n",
       "      <th>5296</th>\n",
       "      <td>2.002576</td>\n",
       "      <td>1.732131</td>\n",
       "      <td>2369.85</td>\n",
       "      <td>1330072</td>\n",
       "      <td>NaN</td>\n",
       "    </tr>\n",
       "    <tr>\n",
       "      <th>5297</th>\n",
       "      <td>1.702793</td>\n",
       "      <td>1.276452</td>\n",
       "      <td>2400.10</td>\n",
       "      <td>523800</td>\n",
       "      <td>NaN</td>\n",
       "    </tr>\n",
       "    <tr>\n",
       "      <th>5298</th>\n",
       "      <td>5.387631</td>\n",
       "      <td>3.838550</td>\n",
       "      <td>2521.20</td>\n",
       "      <td>1681975</td>\n",
       "      <td>NaN</td>\n",
       "    </tr>\n",
       "    <tr>\n",
       "      <th>5299</th>\n",
       "      <td>3.846467</td>\n",
       "      <td>-2.498021</td>\n",
       "      <td>2462.90</td>\n",
       "      <td>1170842</td>\n",
       "      <td>NaN</td>\n",
       "    </tr>\n",
       "    <tr>\n",
       "      <th>5300</th>\n",
       "      <td>2.330157</td>\n",
       "      <td>-0.833333</td>\n",
       "      <td>2421.65</td>\n",
       "      <td>646257</td>\n",
       "      <td>NaN</td>\n",
       "    </tr>\n",
       "  </tbody>\n",
       "</table>\n",
       "</div>"
      ],
      "text/plain": [
       "       HL_Perc   CO_Perc    Close   Volume  PriceNextMonth\n",
       "5296  2.002576  1.732131  2369.85  1330072             NaN\n",
       "5297  1.702793  1.276452  2400.10   523800             NaN\n",
       "5298  5.387631  3.838550  2521.20  1681975             NaN\n",
       "5299  3.846467 -2.498021  2462.90  1170842             NaN\n",
       "5300  2.330157 -0.833333  2421.65   646257             NaN"
      ]
     },
     "execution_count": 173,
     "metadata": {},
     "output_type": "execute_result"
    }
   ],
   "source": [
    "stock.tail()"
   ]
  },
  {
   "cell_type": "code",
   "execution_count": 174,
   "id": "c687b99c",
   "metadata": {},
   "outputs": [
    {
     "name": "stderr",
     "output_type": "stream",
     "text": [
      "C:\\Users\\suresh\\AppData\\Local\\Temp\\ipykernel_17924\\459189850.py:2: FutureWarning: In a future version of pandas all arguments of DataFrame.drop except for the argument 'labels' will be keyword-only.\n",
      "  X = np.array(stock.drop([\"PriceNextMonth\"], 1))\n"
     ]
    }
   ],
   "source": [
    "#Make fetaure and label arrays\n",
    "X = np.array(stock.drop([\"PriceNextMonth\"], 1))\n",
    "X = preprocessing.scale(X)\n",
    "X_Check = X[-30:]\n",
    "X = X[:-30]\n",
    "stock.dropna(inplace = True)\n",
    "y = np.array(stock[\"PriceNextMonth\"])"
   ]
  },
  {
   "cell_type": "code",
   "execution_count": 175,
   "id": "381f2472",
   "metadata": {},
   "outputs": [],
   "source": [
    "#Divide the data set into training data and testing data\n",
    "X_train, X_test, y_train, y_test = train_test_split(X,y,test_size = 0.2)"
   ]
  },
  {
   "cell_type": "code",
   "execution_count": 176,
   "id": "489c08a2",
   "metadata": {},
   "outputs": [],
   "source": [
    "#Define the prediction model\n",
    "model = RandomForestRegressor()"
   ]
  },
  {
   "cell_type": "code",
   "execution_count": 177,
   "id": "74ff8cec",
   "metadata": {},
   "outputs": [
    {
     "data": {
      "text/plain": [
       "RandomForestRegressor()"
      ]
     },
     "execution_count": 177,
     "metadata": {},
     "output_type": "execute_result"
    }
   ],
   "source": [
    "#Fit the model using training data\n",
    "model.fit(X_train, y_train)"
   ]
  },
  {
   "cell_type": "code",
   "execution_count": 178,
   "id": "520c0372",
   "metadata": {},
   "outputs": [
    {
     "name": "stdout",
     "output_type": "stream",
     "text": [
      "0.9726440557564551\n"
     ]
    }
   ],
   "source": [
    "#Calculate the confidence value by applying the model to testing data\n",
    "conf = model.score(X_test, y_test)\n",
    "print(conf)"
   ]
  },
  {
   "cell_type": "code",
   "execution_count": 179,
   "id": "b9381393",
   "metadata": {},
   "outputs": [
    {
     "data": {
      "text/plain": [
       "RandomForestRegressor()"
      ]
     },
     "execution_count": 179,
     "metadata": {},
     "output_type": "execute_result"
    }
   ],
   "source": [
    "#Fit the model again using the whole data set\n",
    "model.fit(X,y)"
   ]
  },
  {
   "cell_type": "code",
   "execution_count": 180,
   "id": "4990c67a",
   "metadata": {},
   "outputs": [],
   "source": [
    "predictions = model.predict(X_Check)"
   ]
  },
  {
   "cell_type": "code",
   "execution_count": 181,
   "id": "c0d5a9e2",
   "metadata": {},
   "outputs": [],
   "source": [
    "#Make the final DataFrame containing Dates, ClosePrices, and Forecast values\n",
    "actual = pd.DataFrame(dates, columns = [\"Date\"])\n",
    "actual[\"ClosePrice\"] = stock[\"Close\"]\n",
    "actual[\"Forecast\"] = np.nan\n",
    "actual.set_index(\"Date\", inplace = True)\n",
    "forecast = pd.DataFrame(dates_check, columns=[\"Date\"])\n",
    "forecast[\"Forecast\"] = predictions\n",
    "forecast[\"ClosePrice\"] = np.nan\n",
    "forecast.set_index(\"Date\", inplace = True)\n",
    "var = [actual, forecast]\n",
    "result = pd.concat(var)  #This is the final DataFrame"
   ]
  },
  {
   "cell_type": "code",
   "execution_count": 182,
   "id": "45722829",
   "metadata": {},
   "outputs": [
    {
     "data": {
      "text/plain": [
       "Text(0, 0.5, 'Price')"
      ]
     },
     "execution_count": 182,
     "metadata": {},
     "output_type": "execute_result"
    },
    {
     "data": {
      "image/png": "[encoded data removed]",
      "text/plain": [
       "<Figure size 2000x1000 with 1 Axes>"
      ]
     },
     "metadata": {},
     "output_type": "display_data"
    }
   ],
   "source": [
    "#Plot the final results\n",
    "result.plot(figsize=(20,10), linewidth=1.5)\n",
    "plt.legend(loc=2, prop={'size':20})\n",
    "plt.xlabel('Date')\n",
    "plt.ylabel('Price')"
   ]
  },
  {
   "cell_type": "code",
   "execution_count": null,
   "id": "e099aee8",
   "metadata": {},
   "outputs": [],
   "source": []
  },
  {
   "cell_type": "code",
   "execution_count": null,
   "id": "f8d92cd8",
   "metadata": {},
   "outputs": [],
   "source": []
  }
 ],
 "metadata": {
  "kernelspec": {
   "display_name": "Python 3 (ipykernel)",
   "language": "python",
   "name": "python3"
  },
  "language_info": {
   "codemirror_mode": {
    "name": "ipython",
    "version": 3
   },
   "file_extension": ".py",
   "mimetype": "text/x-python",
   "name": "python",
   "nbconvert_exporter": "python",
   "pygments_lexer": "ipython3",
   "version": "3.9.13"
  }
 },
 "nbformat": 4,
 "nbformat_minor": 5
}
