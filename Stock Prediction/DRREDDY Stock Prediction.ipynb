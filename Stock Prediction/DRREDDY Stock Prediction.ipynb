{
 "cells": [
  {
   "cell_type": "code",
   "execution_count": 2,
   "id": "5a20ead1",
   "metadata": {},
   "outputs": [],
   "source": [
    "#Import the libraries\n",
    "import pandas as pd \n",
    "import numpy as np \n",
    "import matplotlib.pyplot as plt \n",
    "from sklearn import preprocessing\n",
    "from sklearn.ensemble import RandomForestRegressor\n",
    "from sklearn.model_selection import train_test_split\n",
    "from sklearn.metrics import mean_absolute_error, r2_score"
   ]
  },
  {
   "cell_type": "code",
   "execution_count": 143,
   "id": "1ebabd9c",
   "metadata": {},
   "outputs": [],
   "source": [
    "stock = pd.read_csv(\"C:/Users/suresh/Desktop/PYTHON ML DATA SCIENCE/Stock Prediction/Stock Data/DRREDDY.csv\")"
   ]
  },
  {
   "cell_type": "code",
   "execution_count": 144,
   "id": "b4a873d4",
   "metadata": {},
   "outputs": [
    {
     "data": {
      "text/html": [
       "<div>\n",
       "<style scoped>\n",
       "    .dataframe tbody tr th:only-of-type {\n",
       "        vertical-align: middle;\n",
       "    }\n",
       "\n",
       "    .dataframe tbody tr th {\n",
       "        vertical-align: top;\n",
       "    }\n",
       "\n",
       "    .dataframe thead th {\n",
       "        text-align: right;\n",
       "    }\n",
       "</style>\n",
       "<table border=\"1\" class=\"dataframe\">\n",
       "  <thead>\n",
       "    <tr style=\"text-align: right;\">\n",
       "      <th></th>\n",
       "      <th>Date</th>\n",
       "      <th>Symbol</th>\n",
       "      <th>Series</th>\n",
       "      <th>Prev Close</th>\n",
       "      <th>Open</th>\n",
       "      <th>High</th>\n",
       "      <th>Low</th>\n",
       "      <th>Last</th>\n",
       "      <th>Close</th>\n",
       "      <th>VWAP</th>\n",
       "      <th>Volume</th>\n",
       "      <th>Turnover</th>\n",
       "      <th>Trades</th>\n",
       "      <th>Deliverable Volume</th>\n",
       "      <th>%Deliverble</th>\n",
       "    </tr>\n",
       "  </thead>\n",
       "  <tbody>\n",
       "    <tr>\n",
       "      <th>0</th>\n",
       "      <td>2000-01-03</td>\n",
       "      <td>DRREDDY</td>\n",
       "      <td>EQ</td>\n",
       "      <td>1396.50</td>\n",
       "      <td>1505.0</td>\n",
       "      <td>1508.25</td>\n",
       "      <td>1505.00</td>\n",
       "      <td>1508.25</td>\n",
       "      <td>1508.25</td>\n",
       "      <td>1508.21</td>\n",
       "      <td>13280</td>\n",
       "      <td>2.002904e+12</td>\n",
       "      <td>NaN</td>\n",
       "      <td>NaN</td>\n",
       "      <td>NaN</td>\n",
       "    </tr>\n",
       "    <tr>\n",
       "      <th>1</th>\n",
       "      <td>2000-01-04</td>\n",
       "      <td>DRREDDY</td>\n",
       "      <td>EQ</td>\n",
       "      <td>1508.25</td>\n",
       "      <td>1590.0</td>\n",
       "      <td>1628.95</td>\n",
       "      <td>1510.00</td>\n",
       "      <td>1628.95</td>\n",
       "      <td>1628.95</td>\n",
       "      <td>1579.29</td>\n",
       "      <td>57142</td>\n",
       "      <td>9.024405e+12</td>\n",
       "      <td>NaN</td>\n",
       "      <td>NaN</td>\n",
       "      <td>NaN</td>\n",
       "    </tr>\n",
       "    <tr>\n",
       "      <th>2</th>\n",
       "      <td>2000-01-05</td>\n",
       "      <td>DRREDDY</td>\n",
       "      <td>EQ</td>\n",
       "      <td>1628.95</td>\n",
       "      <td>1549.0</td>\n",
       "      <td>1650.00</td>\n",
       "      <td>1499.00</td>\n",
       "      <td>1566.00</td>\n",
       "      <td>1568.05</td>\n",
       "      <td>1594.99</td>\n",
       "      <td>119697</td>\n",
       "      <td>1.909155e+13</td>\n",
       "      <td>NaN</td>\n",
       "      <td>NaN</td>\n",
       "      <td>NaN</td>\n",
       "    </tr>\n",
       "    <tr>\n",
       "      <th>3</th>\n",
       "      <td>2000-01-06</td>\n",
       "      <td>DRREDDY</td>\n",
       "      <td>EQ</td>\n",
       "      <td>1568.05</td>\n",
       "      <td>1599.0</td>\n",
       "      <td>1693.50</td>\n",
       "      <td>1571.00</td>\n",
       "      <td>1693.50</td>\n",
       "      <td>1661.55</td>\n",
       "      <td>1632.11</td>\n",
       "      <td>121966</td>\n",
       "      <td>1.990625e+13</td>\n",
       "      <td>NaN</td>\n",
       "      <td>NaN</td>\n",
       "      <td>NaN</td>\n",
       "    </tr>\n",
       "    <tr>\n",
       "      <th>4</th>\n",
       "      <td>2000-01-07</td>\n",
       "      <td>DRREDDY</td>\n",
       "      <td>EQ</td>\n",
       "      <td>1661.55</td>\n",
       "      <td>1685.0</td>\n",
       "      <td>1685.00</td>\n",
       "      <td>1528.65</td>\n",
       "      <td>1528.65</td>\n",
       "      <td>1529.10</td>\n",
       "      <td>1585.24</td>\n",
       "      <td>79641</td>\n",
       "      <td>1.262497e+13</td>\n",
       "      <td>NaN</td>\n",
       "      <td>NaN</td>\n",
       "      <td>NaN</td>\n",
       "    </tr>\n",
       "  </tbody>\n",
       "</table>\n",
       "</div>"
      ],
      "text/plain": [
       "         Date   Symbol Series  Prev Close    Open     High      Low     Last  \\\n",
       "0  2000-01-03  DRREDDY     EQ     1396.50  1505.0  1508.25  1505.00  1508.25   \n",
       "1  2000-01-04  DRREDDY     EQ     1508.25  1590.0  1628.95  1510.00  1628.95   \n",
       "2  2000-01-05  DRREDDY     EQ     1628.95  1549.0  1650.00  1499.00  1566.00   \n",
       "3  2000-01-06  DRREDDY     EQ     1568.05  1599.0  1693.50  1571.00  1693.50   \n",
       "4  2000-01-07  DRREDDY     EQ     1661.55  1685.0  1685.00  1528.65  1528.65   \n",
       "\n",
       "     Close     VWAP  Volume      Turnover  Trades  Deliverable Volume  \\\n",
       "0  1508.25  1508.21   13280  2.002904e+12     NaN                 NaN   \n",
       "1  1628.95  1579.29   57142  9.024405e+12     NaN                 NaN   \n",
       "2  1568.05  1594.99  119697  1.909155e+13     NaN                 NaN   \n",
       "3  1661.55  1632.11  121966  1.990625e+13     NaN                 NaN   \n",
       "4  1529.10  1585.24   79641  1.262497e+13     NaN                 NaN   \n",
       "\n",
       "   %Deliverble  \n",
       "0          NaN  \n",
       "1          NaN  \n",
       "2          NaN  \n",
       "3          NaN  \n",
       "4          NaN  "
      ]
     },
     "execution_count": 144,
     "metadata": {},
     "output_type": "execute_result"
    }
   ],
   "source": [
    "stock.head()"
   ]
  },
  {
   "cell_type": "code",
   "execution_count": 145,
   "id": "564201f0",
   "metadata": {},
   "outputs": [
    {
     "name": "stdout",
     "output_type": "stream",
     "text": [
      "<class 'pandas.core.frame.DataFrame'>\n",
      "RangeIndex: 5306 entries, 0 to 5305\n",
      "Data columns (total 15 columns):\n",
      " #   Column              Non-Null Count  Dtype  \n",
      "---  ------              --------------  -----  \n",
      " 0   Date                5306 non-null   object \n",
      " 1   Symbol              5306 non-null   object \n",
      " 2   Series              5306 non-null   object \n",
      " 3   Prev Close          5306 non-null   float64\n",
      " 4   Open                5306 non-null   float64\n",
      " 5   High                5306 non-null   float64\n",
      " 6   Low                 5306 non-null   float64\n",
      " 7   Last                5306 non-null   float64\n",
      " 8   Close               5306 non-null   float64\n",
      " 9   VWAP                5306 non-null   float64\n",
      " 10  Volume              5306 non-null   int64  \n",
      " 11  Turnover            5306 non-null   float64\n",
      " 12  Trades              2456 non-null   float64\n",
      " 13  Deliverable Volume  4797 non-null   float64\n",
      " 14  %Deliverble         4797 non-null   float64\n",
      "dtypes: float64(11), int64(1), object(3)\n",
      "memory usage: 621.9+ KB\n"
     ]
    }
   ],
   "source": [
    "stock.info()"
   ]
  },
  {
   "cell_type": "code",
   "execution_count": 146,
   "id": "c9d711dd",
   "metadata": {},
   "outputs": [
    {
     "data": {
      "text/html": [
       "<div>\n",
       "<style scoped>\n",
       "    .dataframe tbody tr th:only-of-type {\n",
       "        vertical-align: middle;\n",
       "    }\n",
       "\n",
       "    .dataframe tbody tr th {\n",
       "        vertical-align: top;\n",
       "    }\n",
       "\n",
       "    .dataframe thead th {\n",
       "        text-align: right;\n",
       "    }\n",
       "</style>\n",
       "<table border=\"1\" class=\"dataframe\">\n",
       "  <thead>\n",
       "    <tr style=\"text-align: right;\">\n",
       "      <th></th>\n",
       "      <th>Prev Close</th>\n",
       "      <th>Open</th>\n",
       "      <th>High</th>\n",
       "      <th>Low</th>\n",
       "      <th>Last</th>\n",
       "      <th>Close</th>\n",
       "      <th>VWAP</th>\n",
       "      <th>Volume</th>\n",
       "      <th>Turnover</th>\n",
       "      <th>Trades</th>\n",
       "      <th>Deliverable Volume</th>\n",
       "      <th>%Deliverble</th>\n",
       "    </tr>\n",
       "  </thead>\n",
       "  <tbody>\n",
       "    <tr>\n",
       "      <th>count</th>\n",
       "      <td>5306.000000</td>\n",
       "      <td>5306.000000</td>\n",
       "      <td>5306.000000</td>\n",
       "      <td>5306.000000</td>\n",
       "      <td>5306.000000</td>\n",
       "      <td>5306.000000</td>\n",
       "      <td>5306.000000</td>\n",
       "      <td>5.306000e+03</td>\n",
       "      <td>5.306000e+03</td>\n",
       "      <td>2456.000000</td>\n",
       "      <td>4.797000e+03</td>\n",
       "      <td>4797.000000</td>\n",
       "    </tr>\n",
       "    <tr>\n",
       "      <th>mean</th>\n",
       "      <td>1827.672814</td>\n",
       "      <td>1830.099821</td>\n",
       "      <td>1855.226715</td>\n",
       "      <td>1803.185488</td>\n",
       "      <td>1828.279693</td>\n",
       "      <td>1828.382689</td>\n",
       "      <td>1829.621266</td>\n",
       "      <td>4.409815e+05</td>\n",
       "      <td>1.045022e+14</td>\n",
       "      <td>37121.187296</td>\n",
       "      <td>2.174943e+05</td>\n",
       "      <td>0.523664</td>\n",
       "    </tr>\n",
       "    <tr>\n",
       "      <th>std</th>\n",
       "      <td>1092.984492</td>\n",
       "      <td>1095.534718</td>\n",
       "      <td>1106.531082</td>\n",
       "      <td>1082.903924</td>\n",
       "      <td>1093.978015</td>\n",
       "      <td>1093.927165</td>\n",
       "      <td>1094.668053</td>\n",
       "      <td>6.060398e+05</td>\n",
       "      <td>2.719076e+14</td>\n",
       "      <td>39213.885661</td>\n",
       "      <td>1.871552e+05</td>\n",
       "      <td>0.165854</td>\n",
       "    </tr>\n",
       "    <tr>\n",
       "      <th>min</th>\n",
       "      <td>374.000000</td>\n",
       "      <td>365.650000</td>\n",
       "      <td>384.950000</td>\n",
       "      <td>355.250000</td>\n",
       "      <td>375.150000</td>\n",
       "      <td>374.000000</td>\n",
       "      <td>372.550000</td>\n",
       "      <td>7.070000e+02</td>\n",
       "      <td>4.333085e+10</td>\n",
       "      <td>450.000000</td>\n",
       "      <td>7.070000e+02</td>\n",
       "      <td>0.036800</td>\n",
       "    </tr>\n",
       "    <tr>\n",
       "      <th>25%</th>\n",
       "      <td>906.175000</td>\n",
       "      <td>908.175000</td>\n",
       "      <td>923.175000</td>\n",
       "      <td>897.000000</td>\n",
       "      <td>906.125000</td>\n",
       "      <td>906.175000</td>\n",
       "      <td>907.810000</td>\n",
       "      <td>1.669668e+05</td>\n",
       "      <td>1.787360e+13</td>\n",
       "      <td>17731.000000</td>\n",
       "      <td>9.731900e+04</td>\n",
       "      <td>0.411500</td>\n",
       "    </tr>\n",
       "    <tr>\n",
       "      <th>50%</th>\n",
       "      <td>1538.825000</td>\n",
       "      <td>1539.500000</td>\n",
       "      <td>1565.375000</td>\n",
       "      <td>1511.125000</td>\n",
       "      <td>1539.000000</td>\n",
       "      <td>1539.400000</td>\n",
       "      <td>1540.465000</td>\n",
       "      <td>2.959825e+05</td>\n",
       "      <td>4.506694e+13</td>\n",
       "      <td>27115.000000</td>\n",
       "      <td>1.692400e+05</td>\n",
       "      <td>0.539100</td>\n",
       "    </tr>\n",
       "    <tr>\n",
       "      <th>75%</th>\n",
       "      <td>2609.337500</td>\n",
       "      <td>2612.000000</td>\n",
       "      <td>2641.500000</td>\n",
       "      <td>2582.900000</td>\n",
       "      <td>2609.812500</td>\n",
       "      <td>2609.625000</td>\n",
       "      <td>2608.522500</td>\n",
       "      <td>5.271700e+05</td>\n",
       "      <td>1.020985e+14</td>\n",
       "      <td>43138.750000</td>\n",
       "      <td>2.769510e+05</td>\n",
       "      <td>0.644200</td>\n",
       "    </tr>\n",
       "    <tr>\n",
       "      <th>max</th>\n",
       "      <td>5416.800000</td>\n",
       "      <td>5440.950000</td>\n",
       "      <td>5512.650000</td>\n",
       "      <td>5329.450000</td>\n",
       "      <td>5413.000000</td>\n",
       "      <td>5416.800000</td>\n",
       "      <td>5396.870000</td>\n",
       "      <td>2.198715e+07</td>\n",
       "      <td>1.157853e+16</td>\n",
       "      <td>929801.000000</td>\n",
       "      <td>2.065429e+06</td>\n",
       "      <td>1.000000</td>\n",
       "    </tr>\n",
       "  </tbody>\n",
       "</table>\n",
       "</div>"
      ],
      "text/plain": [
       "        Prev Close         Open         High          Low         Last  \\\n",
       "count  5306.000000  5306.000000  5306.000000  5306.000000  5306.000000   \n",
       "mean   1827.672814  1830.099821  1855.226715  1803.185488  1828.279693   \n",
       "std    1092.984492  1095.534718  1106.531082  1082.903924  1093.978015   \n",
       "min     374.000000   365.650000   384.950000   355.250000   375.150000   \n",
       "25%     906.175000   908.175000   923.175000   897.000000   906.125000   \n",
       "50%    1538.825000  1539.500000  1565.375000  1511.125000  1539.000000   \n",
       "75%    2609.337500  2612.000000  2641.500000  2582.900000  2609.812500   \n",
       "max    5416.800000  5440.950000  5512.650000  5329.450000  5413.000000   \n",
       "\n",
       "             Close         VWAP        Volume      Turnover         Trades  \\\n",
       "count  5306.000000  5306.000000  5.306000e+03  5.306000e+03    2456.000000   \n",
       "mean   1828.382689  1829.621266  4.409815e+05  1.045022e+14   37121.187296   \n",
       "std    1093.927165  1094.668053  6.060398e+05  2.719076e+14   39213.885661   \n",
       "min     374.000000   372.550000  7.070000e+02  4.333085e+10     450.000000   \n",
       "25%     906.175000   907.810000  1.669668e+05  1.787360e+13   17731.000000   \n",
       "50%    1539.400000  1540.465000  2.959825e+05  4.506694e+13   27115.000000   \n",
       "75%    2609.625000  2608.522500  5.271700e+05  1.020985e+14   43138.750000   \n",
       "max    5416.800000  5396.870000  2.198715e+07  1.157853e+16  929801.000000   \n",
       "\n",
       "       Deliverable Volume  %Deliverble  \n",
       "count        4.797000e+03  4797.000000  \n",
       "mean         2.174943e+05     0.523664  \n",
       "std          1.871552e+05     0.165854  \n",
       "min          7.070000e+02     0.036800  \n",
       "25%          9.731900e+04     0.411500  \n",
       "50%          1.692400e+05     0.539100  \n",
       "75%          2.769510e+05     0.644200  \n",
       "max          2.065429e+06     1.000000  "
      ]
     },
     "execution_count": 146,
     "metadata": {},
     "output_type": "execute_result"
    }
   ],
   "source": [
    "stock.describe()"
   ]
  },
  {
   "cell_type": "code",
   "execution_count": 147,
   "id": "011a47e9",
   "metadata": {},
   "outputs": [],
   "source": [
    "# Ensure we are working with a copy of the DataFrame to avoid the SettingWithCopyWarning\n",
    "stock = stock.copy()"
   ]
  },
  {
   "cell_type": "code",
   "execution_count": 148,
   "id": "7758c824",
   "metadata": {},
   "outputs": [],
   "source": [
    "# Calculate HL_Perc and CO_Perc\n",
    "stock.loc[:, 'HL_Perc'] = (stock['High'] - stock['Low']) / stock['Low'] * 100\n",
    "stock.loc[:, 'CO_Perc'] = (stock['Close'] - stock['Open']) / stock['Open'] * 100"
   ]
  },
  {
   "cell_type": "code",
   "execution_count": 149,
   "id": "0bb9c198",
   "metadata": {},
   "outputs": [],
   "source": [
    "dates = np.array(stock[\"Date\"])\n",
    "dates_check = dates[-30:]\n",
    "dates = dates[:-30]"
   ]
  },
  {
   "cell_type": "code",
   "execution_count": 150,
   "id": "07901da7",
   "metadata": {},
   "outputs": [
    {
     "data": {
      "text/plain": [
       "Index(['Date', 'Symbol', 'Series', 'Prev Close', 'Open', 'High', 'Low', 'Last',\n",
       "       'Close', 'VWAP', 'Volume', 'Turnover', 'Trades', 'Deliverable Volume',\n",
       "       '%Deliverble', 'HL_Perc', 'CO_Perc'],\n",
       "      dtype='object')"
      ]
     },
     "execution_count": 150,
     "metadata": {},
     "output_type": "execute_result"
    }
   ],
   "source": [
    "stock.columns"
   ]
  },
  {
   "cell_type": "code",
   "execution_count": 151,
   "id": "75b07f7b",
   "metadata": {},
   "outputs": [],
   "source": [
    "stock = stock[[\"HL_Perc\", \"CO_Perc\", \"Close\", \"Volume\"]]"
   ]
  },
  {
   "cell_type": "code",
   "execution_count": 152,
   "id": "772db78e",
   "metadata": {},
   "outputs": [],
   "source": [
    "#Define the label column\n",
    "stock[\"PriceNextMonth\"] = stock[\"Close\"].shift(-30)"
   ]
  },
  {
   "cell_type": "code",
   "execution_count": 153,
   "id": "79011229",
   "metadata": {},
   "outputs": [
    {
     "data": {
      "text/html": [
       "<div>\n",
       "<style scoped>\n",
       "    .dataframe tbody tr th:only-of-type {\n",
       "        vertical-align: middle;\n",
       "    }\n",
       "\n",
       "    .dataframe tbody tr th {\n",
       "        vertical-align: top;\n",
       "    }\n",
       "\n",
       "    .dataframe thead th {\n",
       "        text-align: right;\n",
       "    }\n",
       "</style>\n",
       "<table border=\"1\" class=\"dataframe\">\n",
       "  <thead>\n",
       "    <tr style=\"text-align: right;\">\n",
       "      <th></th>\n",
       "      <th>HL_Perc</th>\n",
       "      <th>CO_Perc</th>\n",
       "      <th>Close</th>\n",
       "      <th>Volume</th>\n",
       "      <th>PriceNextMonth</th>\n",
       "    </tr>\n",
       "  </thead>\n",
       "  <tbody>\n",
       "    <tr>\n",
       "      <th>5301</th>\n",
       "      <td>1.983003</td>\n",
       "      <td>-1.137561</td>\n",
       "      <td>5066.70</td>\n",
       "      <td>950577</td>\n",
       "      <td>NaN</td>\n",
       "    </tr>\n",
       "    <tr>\n",
       "      <th>5302</th>\n",
       "      <td>1.884951</td>\n",
       "      <td>-0.653177</td>\n",
       "      <td>5057.25</td>\n",
       "      <td>957835</td>\n",
       "      <td>NaN</td>\n",
       "    </tr>\n",
       "    <tr>\n",
       "      <th>5303</th>\n",
       "      <td>1.528827</td>\n",
       "      <td>-0.749624</td>\n",
       "      <td>5044.45</td>\n",
       "      <td>843953</td>\n",
       "      <td>NaN</td>\n",
       "    </tr>\n",
       "    <tr>\n",
       "      <th>5304</th>\n",
       "      <td>2.016937</td>\n",
       "      <td>0.632119</td>\n",
       "      <td>5102.30</td>\n",
       "      <td>1071931</td>\n",
       "      <td>NaN</td>\n",
       "    </tr>\n",
       "    <tr>\n",
       "      <th>5305</th>\n",
       "      <td>1.675073</td>\n",
       "      <td>0.449416</td>\n",
       "      <td>5163.10</td>\n",
       "      <td>1306950</td>\n",
       "      <td>NaN</td>\n",
       "    </tr>\n",
       "  </tbody>\n",
       "</table>\n",
       "</div>"
      ],
      "text/plain": [
       "       HL_Perc   CO_Perc    Close   Volume  PriceNextMonth\n",
       "5301  1.983003 -1.137561  5066.70   950577             NaN\n",
       "5302  1.884951 -0.653177  5057.25   957835             NaN\n",
       "5303  1.528827 -0.749624  5044.45   843953             NaN\n",
       "5304  2.016937  0.632119  5102.30  1071931             NaN\n",
       "5305  1.675073  0.449416  5163.10  1306950             NaN"
      ]
     },
     "execution_count": 153,
     "metadata": {},
     "output_type": "execute_result"
    }
   ],
   "source": [
    "stock.tail()"
   ]
  },
  {
   "cell_type": "code",
   "execution_count": 154,
   "id": "c687b99c",
   "metadata": {},
   "outputs": [
    {
     "name": "stderr",
     "output_type": "stream",
     "text": [
      "C:\\Users\\suresh\\AppData\\Local\\Temp\\ipykernel_17924\\459189850.py:2: FutureWarning: In a future version of pandas all arguments of DataFrame.drop except for the argument 'labels' will be keyword-only.\n",
      "  X = np.array(stock.drop([\"PriceNextMonth\"], 1))\n"
     ]
    }
   ],
   "source": [
    "#Make fetaure and label arrays\n",
    "X = np.array(stock.drop([\"PriceNextMonth\"], 1))\n",
    "X = preprocessing.scale(X)\n",
    "X_Check = X[-30:]\n",
    "X = X[:-30]\n",
    "stock.dropna(inplace = True)\n",
    "y = np.array(stock[\"PriceNextMonth\"])"
   ]
  },
  {
   "cell_type": "code",
   "execution_count": 155,
   "id": "381f2472",
   "metadata": {},
   "outputs": [],
   "source": [
    "#Divide the data set into training data and testing data\n",
    "X_train, X_test, y_train, y_test = train_test_split(X,y,test_size = 0.2)"
   ]
  },
  {
   "cell_type": "code",
   "execution_count": 156,
   "id": "489c08a2",
   "metadata": {},
   "outputs": [],
   "source": [
    "#Define the prediction model\n",
    "model = RandomForestRegressor()"
   ]
  },
  {
   "cell_type": "code",
   "execution_count": 157,
   "id": "74ff8cec",
   "metadata": {},
   "outputs": [
    {
     "data": {
      "text/plain": [
       "RandomForestRegressor()"
      ]
     },
     "execution_count": 157,
     "metadata": {},
     "output_type": "execute_result"
    }
   ],
   "source": [
    "#Fit the model using training data\n",
    "model.fit(X_train, y_train)"
   ]
  },
  {
   "cell_type": "code",
   "execution_count": 158,
   "id": "520c0372",
   "metadata": {},
   "outputs": [
    {
     "name": "stdout",
     "output_type": "stream",
     "text": [
      "0.9650820010566917\n"
     ]
    }
   ],
   "source": [
    "#Calculate the confidence value by applying the model to testing data\n",
    "conf = model.score(X_test, y_test)\n",
    "print(conf)"
   ]
  },
  {
   "cell_type": "code",
   "execution_count": 159,
   "id": "b9381393",
   "metadata": {},
   "outputs": [
    {
     "data": {
      "text/plain": [
       "RandomForestRegressor()"
      ]
     },
     "execution_count": 159,
     "metadata": {},
     "output_type": "execute_result"
    }
   ],
   "source": [
    "#Fit the model again using the whole data set\n",
    "model.fit(X,y)"
   ]
  },
  {
   "cell_type": "code",
   "execution_count": 160,
   "id": "4990c67a",
   "metadata": {},
   "outputs": [],
   "source": [
    "predictions = model.predict(X_Check)"
   ]
  },
  {
   "cell_type": "code",
   "execution_count": 161,
   "id": "c0d5a9e2",
   "metadata": {},
   "outputs": [],
   "source": [
    "#Make the final DataFrame containing Dates, ClosePrices, and Forecast values\n",
    "actual = pd.DataFrame(dates, columns = [\"Date\"])\n",
    "actual[\"ClosePrice\"] = stock[\"Close\"]\n",
    "actual[\"Forecast\"] = np.nan\n",
    "actual.set_index(\"Date\", inplace = True)\n",
    "forecast = pd.DataFrame(dates_check, columns=[\"Date\"])\n",
    "forecast[\"Forecast\"] = predictions\n",
    "forecast[\"ClosePrice\"] = np.nan\n",
    "forecast.set_index(\"Date\", inplace = True)\n",
    "var = [actual, forecast]\n",
    "result = pd.concat(var)  #This is the final DataFrame"
   ]
  },
  {
   "cell_type": "code",
   "execution_count": 162,
   "id": "45722829",
   "metadata": {},
   "outputs": [
    {
     "data": {
      "text/plain": [
       "Text(0, 0.5, 'Price')"
      ]
     },
     "execution_count": 162,
     "metadata": {},
     "output_type": "execute_result"
    },
    {
     "data": {
      "image/png": "[encoded data removed]",
      "text/plain": [
       "<Figure size 2000x1000 with 1 Axes>"
      ]
     },
     "metadata": {},
     "output_type": "display_data"
    }
   ],
   "source": [
    "#Plot the final results\n",
    "result.plot(figsize=(20,10), linewidth=1.5)\n",
    "plt.legend(loc=2, prop={'size':20})\n",
    "plt.xlabel('Date')\n",
    "plt.ylabel('Price')"
   ]
  },
  {
   "cell_type": "code",
   "execution_count": null,
   "id": "e099aee8",
   "metadata": {},
   "outputs": [],
   "source": []
  },
  {
   "cell_type": "code",
   "execution_count": null,
   "id": "11a407e0",
   "metadata": {},
   "outputs": [],
   "source": []
  }
 ],
 "metadata": {
  "kernelspec": {
   "display_name": "Python 3 (ipykernel)",
   "language": "python",
   "name": "python3"
  },
  "language_info": {
   "codemirror_mode": {
    "name": "ipython",
    "version": 3
   },
   "file_extension": ".py",
   "mimetype": "text/x-python",
   "name": "python",
   "nbconvert_exporter": "python",
   "pygments_lexer": "ipython3",
   "version": "3.9.13"
  }
 },
 "nbformat": 4,
 "nbformat_minor": 5
}
