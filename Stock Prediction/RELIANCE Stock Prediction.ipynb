{
 "cells": [
  {
   "cell_type": "code",
   "execution_count": 2,
   "id": "5a20ead1",
   "metadata": {},
   "outputs": [],
   "source": [
    "#Import the libraries\n",
    "import pandas as pd \n",
    "import numpy as np \n",
    "import matplotlib.pyplot as plt \n",
    "from sklearn import preprocessing\n",
    "from sklearn.ensemble import RandomForestRegressor\n",
    "from sklearn.model_selection import train_test_split\n",
    "from sklearn.metrics import mean_absolute_error, r2_score"
   ]
  },
  {
   "cell_type": "code",
   "execution_count": 63,
   "id": "1ebabd9c",
   "metadata": {},
   "outputs": [],
   "source": [
    "stock = pd.read_csv(\"C:/Users/suresh/Desktop/PYTHON ML DATA SCIENCE/Stock Prediction/Stock Data/RELIANCE.csv\")"
   ]
  },
  {
   "cell_type": "code",
   "execution_count": 64,
   "id": "b4a873d4",
   "metadata": {},
   "outputs": [
    {
     "data": {
      "text/html": [
       "<div>\n",
       "<style scoped>\n",
       "    .dataframe tbody tr th:only-of-type {\n",
       "        vertical-align: middle;\n",
       "    }\n",
       "\n",
       "    .dataframe tbody tr th {\n",
       "        vertical-align: top;\n",
       "    }\n",
       "\n",
       "    .dataframe thead th {\n",
       "        text-align: right;\n",
       "    }\n",
       "</style>\n",
       "<table border=\"1\" class=\"dataframe\">\n",
       "  <thead>\n",
       "    <tr style=\"text-align: right;\">\n",
       "      <th></th>\n",
       "      <th>Date</th>\n",
       "      <th>Symbol</th>\n",
       "      <th>Series</th>\n",
       "      <th>Prev Close</th>\n",
       "      <th>Open</th>\n",
       "      <th>High</th>\n",
       "      <th>Low</th>\n",
       "      <th>Last</th>\n",
       "      <th>Close</th>\n",
       "      <th>VWAP</th>\n",
       "      <th>Volume</th>\n",
       "      <th>Turnover</th>\n",
       "      <th>Trades</th>\n",
       "      <th>Deliverable Volume</th>\n",
       "      <th>%Deliverble</th>\n",
       "    </tr>\n",
       "  </thead>\n",
       "  <tbody>\n",
       "    <tr>\n",
       "      <th>0</th>\n",
       "      <td>2000-01-03</td>\n",
       "      <td>RELIANCE</td>\n",
       "      <td>EQ</td>\n",
       "      <td>233.05</td>\n",
       "      <td>237.50</td>\n",
       "      <td>251.70</td>\n",
       "      <td>237.50</td>\n",
       "      <td>251.70</td>\n",
       "      <td>251.70</td>\n",
       "      <td>249.37</td>\n",
       "      <td>4456424</td>\n",
       "      <td>1.111319e+14</td>\n",
       "      <td>NaN</td>\n",
       "      <td>NaN</td>\n",
       "      <td>NaN</td>\n",
       "    </tr>\n",
       "    <tr>\n",
       "      <th>1</th>\n",
       "      <td>2000-01-04</td>\n",
       "      <td>RELIANCE</td>\n",
       "      <td>EQ</td>\n",
       "      <td>251.70</td>\n",
       "      <td>258.40</td>\n",
       "      <td>271.85</td>\n",
       "      <td>251.30</td>\n",
       "      <td>271.85</td>\n",
       "      <td>271.85</td>\n",
       "      <td>263.52</td>\n",
       "      <td>9487878</td>\n",
       "      <td>2.500222e+14</td>\n",
       "      <td>NaN</td>\n",
       "      <td>NaN</td>\n",
       "      <td>NaN</td>\n",
       "    </tr>\n",
       "    <tr>\n",
       "      <th>2</th>\n",
       "      <td>2000-01-05</td>\n",
       "      <td>RELIANCE</td>\n",
       "      <td>EQ</td>\n",
       "      <td>271.85</td>\n",
       "      <td>256.65</td>\n",
       "      <td>287.90</td>\n",
       "      <td>256.65</td>\n",
       "      <td>286.75</td>\n",
       "      <td>282.50</td>\n",
       "      <td>274.79</td>\n",
       "      <td>26833684</td>\n",
       "      <td>7.373697e+14</td>\n",
       "      <td>NaN</td>\n",
       "      <td>NaN</td>\n",
       "      <td>NaN</td>\n",
       "    </tr>\n",
       "    <tr>\n",
       "      <th>3</th>\n",
       "      <td>2000-01-06</td>\n",
       "      <td>RELIANCE</td>\n",
       "      <td>EQ</td>\n",
       "      <td>282.50</td>\n",
       "      <td>289.00</td>\n",
       "      <td>300.70</td>\n",
       "      <td>289.00</td>\n",
       "      <td>293.50</td>\n",
       "      <td>294.35</td>\n",
       "      <td>295.45</td>\n",
       "      <td>15682286</td>\n",
       "      <td>4.633254e+14</td>\n",
       "      <td>NaN</td>\n",
       "      <td>NaN</td>\n",
       "      <td>NaN</td>\n",
       "    </tr>\n",
       "    <tr>\n",
       "      <th>4</th>\n",
       "      <td>2000-01-07</td>\n",
       "      <td>RELIANCE</td>\n",
       "      <td>EQ</td>\n",
       "      <td>294.35</td>\n",
       "      <td>295.00</td>\n",
       "      <td>317.90</td>\n",
       "      <td>293.00</td>\n",
       "      <td>314.50</td>\n",
       "      <td>314.55</td>\n",
       "      <td>308.91</td>\n",
       "      <td>19870977</td>\n",
       "      <td>6.138388e+14</td>\n",
       "      <td>NaN</td>\n",
       "      <td>NaN</td>\n",
       "      <td>NaN</td>\n",
       "    </tr>\n",
       "  </tbody>\n",
       "</table>\n",
       "</div>"
      ],
      "text/plain": [
       "         Date    Symbol Series  Prev Close    Open    High     Low    Last  \\\n",
       "0  2000-01-03  RELIANCE     EQ      233.05  237.50  251.70  237.50  251.70   \n",
       "1  2000-01-04  RELIANCE     EQ      251.70  258.40  271.85  251.30  271.85   \n",
       "2  2000-01-05  RELIANCE     EQ      271.85  256.65  287.90  256.65  286.75   \n",
       "3  2000-01-06  RELIANCE     EQ      282.50  289.00  300.70  289.00  293.50   \n",
       "4  2000-01-07  RELIANCE     EQ      294.35  295.00  317.90  293.00  314.50   \n",
       "\n",
       "    Close    VWAP    Volume      Turnover  Trades  Deliverable Volume  \\\n",
       "0  251.70  249.37   4456424  1.111319e+14     NaN                 NaN   \n",
       "1  271.85  263.52   9487878  2.500222e+14     NaN                 NaN   \n",
       "2  282.50  274.79  26833684  7.373697e+14     NaN                 NaN   \n",
       "3  294.35  295.45  15682286  4.633254e+14     NaN                 NaN   \n",
       "4  314.55  308.91  19870977  6.138388e+14     NaN                 NaN   \n",
       "\n",
       "   %Deliverble  \n",
       "0          NaN  \n",
       "1          NaN  \n",
       "2          NaN  \n",
       "3          NaN  \n",
       "4          NaN  "
      ]
     },
     "execution_count": 64,
     "metadata": {},
     "output_type": "execute_result"
    }
   ],
   "source": [
    "stock.head()"
   ]
  },
  {
   "cell_type": "code",
   "execution_count": 65,
   "id": "564201f0",
   "metadata": {},
   "outputs": [
    {
     "name": "stdout",
     "output_type": "stream",
     "text": [
      "<class 'pandas.core.frame.DataFrame'>\n",
      "RangeIndex: 5306 entries, 0 to 5305\n",
      "Data columns (total 15 columns):\n",
      " #   Column              Non-Null Count  Dtype  \n",
      "---  ------              --------------  -----  \n",
      " 0   Date                5306 non-null   object \n",
      " 1   Symbol              5306 non-null   object \n",
      " 2   Series              5306 non-null   object \n",
      " 3   Prev Close          5306 non-null   float64\n",
      " 4   Open                5306 non-null   float64\n",
      " 5   High                5306 non-null   float64\n",
      " 6   Low                 5306 non-null   float64\n",
      " 7   Last                5306 non-null   float64\n",
      " 8   Close               5306 non-null   float64\n",
      " 9   VWAP                5306 non-null   float64\n",
      " 10  Volume              5306 non-null   int64  \n",
      " 11  Turnover            5306 non-null   float64\n",
      " 12  Trades              2456 non-null   float64\n",
      " 13  Deliverable Volume  4792 non-null   float64\n",
      " 14  %Deliverble         4792 non-null   float64\n",
      "dtypes: float64(11), int64(1), object(3)\n",
      "memory usage: 621.9+ KB\n"
     ]
    }
   ],
   "source": [
    "stock.info()"
   ]
  },
  {
   "cell_type": "code",
   "execution_count": 66,
   "id": "c9d711dd",
   "metadata": {},
   "outputs": [
    {
     "data": {
      "text/html": [
       "<div>\n",
       "<style scoped>\n",
       "    .dataframe tbody tr th:only-of-type {\n",
       "        vertical-align: middle;\n",
       "    }\n",
       "\n",
       "    .dataframe tbody tr th {\n",
       "        vertical-align: top;\n",
       "    }\n",
       "\n",
       "    .dataframe thead th {\n",
       "        text-align: right;\n",
       "    }\n",
       "</style>\n",
       "<table border=\"1\" class=\"dataframe\">\n",
       "  <thead>\n",
       "    <tr style=\"text-align: right;\">\n",
       "      <th></th>\n",
       "      <th>Prev Close</th>\n",
       "      <th>Open</th>\n",
       "      <th>High</th>\n",
       "      <th>Low</th>\n",
       "      <th>Last</th>\n",
       "      <th>Close</th>\n",
       "      <th>VWAP</th>\n",
       "      <th>Volume</th>\n",
       "      <th>Turnover</th>\n",
       "      <th>Trades</th>\n",
       "      <th>Deliverable Volume</th>\n",
       "      <th>%Deliverble</th>\n",
       "    </tr>\n",
       "  </thead>\n",
       "  <tbody>\n",
       "    <tr>\n",
       "      <th>count</th>\n",
       "      <td>5306.000000</td>\n",
       "      <td>5306.000000</td>\n",
       "      <td>5306.000000</td>\n",
       "      <td>5306.000000</td>\n",
       "      <td>5306.000000</td>\n",
       "      <td>5306.000000</td>\n",
       "      <td>5306.000000</td>\n",
       "      <td>5.306000e+03</td>\n",
       "      <td>5.306000e+03</td>\n",
       "      <td>2.456000e+03</td>\n",
       "      <td>4.792000e+03</td>\n",
       "      <td>4792.000000</td>\n",
       "    </tr>\n",
       "    <tr>\n",
       "      <th>mean</th>\n",
       "      <td>1010.984866</td>\n",
       "      <td>1012.602375</td>\n",
       "      <td>1026.823803</td>\n",
       "      <td>996.886977</td>\n",
       "      <td>1011.157143</td>\n",
       "      <td>1011.316839</td>\n",
       "      <td>1011.937409</td>\n",
       "      <td>5.583028e+06</td>\n",
       "      <td>6.076715e+14</td>\n",
       "      <td>1.452306e+05</td>\n",
       "      <td>2.280885e+06</td>\n",
       "      <td>0.435039</td>\n",
       "    </tr>\n",
       "    <tr>\n",
       "      <th>std</th>\n",
       "      <td>570.987079</td>\n",
       "      <td>572.575893</td>\n",
       "      <td>581.986757</td>\n",
       "      <td>560.703328</td>\n",
       "      <td>570.938608</td>\n",
       "      <td>571.046753</td>\n",
       "      <td>571.222520</td>\n",
       "      <td>4.983793e+06</td>\n",
       "      <td>8.369739e+14</td>\n",
       "      <td>1.297557e+05</td>\n",
       "      <td>1.882665e+06</td>\n",
       "      <td>0.144722</td>\n",
       "    </tr>\n",
       "    <tr>\n",
       "      <th>min</th>\n",
       "      <td>203.200000</td>\n",
       "      <td>205.500000</td>\n",
       "      <td>219.500000</td>\n",
       "      <td>197.150000</td>\n",
       "      <td>203.300000</td>\n",
       "      <td>203.200000</td>\n",
       "      <td>212.290000</td>\n",
       "      <td>5.282000e+04</td>\n",
       "      <td>4.295543e+12</td>\n",
       "      <td>2.991000e+03</td>\n",
       "      <td>2.909700e+04</td>\n",
       "      <td>0.076300</td>\n",
       "    </tr>\n",
       "    <tr>\n",
       "      <th>25%</th>\n",
       "      <td>572.137500</td>\n",
       "      <td>572.925000</td>\n",
       "      <td>582.950000</td>\n",
       "      <td>564.237500</td>\n",
       "      <td>572.062500</td>\n",
       "      <td>572.512500</td>\n",
       "      <td>573.190000</td>\n",
       "      <td>2.836454e+06</td>\n",
       "      <td>2.203354e+14</td>\n",
       "      <td>7.215900e+04</td>\n",
       "      <td>1.194524e+06</td>\n",
       "      <td>0.323325</td>\n",
       "    </tr>\n",
       "    <tr>\n",
       "      <th>50%</th>\n",
       "      <td>937.950000</td>\n",
       "      <td>939.000000</td>\n",
       "      <td>950.075000</td>\n",
       "      <td>927.550000</td>\n",
       "      <td>939.025000</td>\n",
       "      <td>938.275000</td>\n",
       "      <td>939.785000</td>\n",
       "      <td>4.213432e+06</td>\n",
       "      <td>3.662999e+14</td>\n",
       "      <td>1.021435e+05</td>\n",
       "      <td>1.810434e+06</td>\n",
       "      <td>0.449450</td>\n",
       "    </tr>\n",
       "    <tr>\n",
       "      <th>75%</th>\n",
       "      <td>1247.387500</td>\n",
       "      <td>1247.675000</td>\n",
       "      <td>1267.350000</td>\n",
       "      <td>1227.450000</td>\n",
       "      <td>1248.287500</td>\n",
       "      <td>1248.275000</td>\n",
       "      <td>1247.375000</td>\n",
       "      <td>6.602604e+06</td>\n",
       "      <td>6.656490e+14</td>\n",
       "      <td>1.686702e+05</td>\n",
       "      <td>2.752935e+06</td>\n",
       "      <td>0.544300</td>\n",
       "    </tr>\n",
       "    <tr>\n",
       "      <th>max</th>\n",
       "      <td>3220.850000</td>\n",
       "      <td>3298.000000</td>\n",
       "      <td>3298.000000</td>\n",
       "      <td>3141.300000</td>\n",
       "      <td>3223.000000</td>\n",
       "      <td>3220.850000</td>\n",
       "      <td>3197.750000</td>\n",
       "      <td>6.523089e+07</td>\n",
       "      <td>1.473434e+16</td>\n",
       "      <td>1.428490e+06</td>\n",
       "      <td>3.495888e+07</td>\n",
       "      <td>0.978300</td>\n",
       "    </tr>\n",
       "  </tbody>\n",
       "</table>\n",
       "</div>"
      ],
      "text/plain": [
       "        Prev Close         Open         High          Low         Last  \\\n",
       "count  5306.000000  5306.000000  5306.000000  5306.000000  5306.000000   \n",
       "mean   1010.984866  1012.602375  1026.823803   996.886977  1011.157143   \n",
       "std     570.987079   572.575893   581.986757   560.703328   570.938608   \n",
       "min     203.200000   205.500000   219.500000   197.150000   203.300000   \n",
       "25%     572.137500   572.925000   582.950000   564.237500   572.062500   \n",
       "50%     937.950000   939.000000   950.075000   927.550000   939.025000   \n",
       "75%    1247.387500  1247.675000  1267.350000  1227.450000  1248.287500   \n",
       "max    3220.850000  3298.000000  3298.000000  3141.300000  3223.000000   \n",
       "\n",
       "             Close         VWAP        Volume      Turnover        Trades  \\\n",
       "count  5306.000000  5306.000000  5.306000e+03  5.306000e+03  2.456000e+03   \n",
       "mean   1011.316839  1011.937409  5.583028e+06  6.076715e+14  1.452306e+05   \n",
       "std     571.046753   571.222520  4.983793e+06  8.369739e+14  1.297557e+05   \n",
       "min     203.200000   212.290000  5.282000e+04  4.295543e+12  2.991000e+03   \n",
       "25%     572.512500   573.190000  2.836454e+06  2.203354e+14  7.215900e+04   \n",
       "50%     938.275000   939.785000  4.213432e+06  3.662999e+14  1.021435e+05   \n",
       "75%    1248.275000  1247.375000  6.602604e+06  6.656490e+14  1.686702e+05   \n",
       "max    3220.850000  3197.750000  6.523089e+07  1.473434e+16  1.428490e+06   \n",
       "\n",
       "       Deliverable Volume  %Deliverble  \n",
       "count        4.792000e+03  4792.000000  \n",
       "mean         2.280885e+06     0.435039  \n",
       "std          1.882665e+06     0.144722  \n",
       "min          2.909700e+04     0.076300  \n",
       "25%          1.194524e+06     0.323325  \n",
       "50%          1.810434e+06     0.449450  \n",
       "75%          2.752935e+06     0.544300  \n",
       "max          3.495888e+07     0.978300  "
      ]
     },
     "execution_count": 66,
     "metadata": {},
     "output_type": "execute_result"
    }
   ],
   "source": [
    "stock.describe()"
   ]
  },
  {
   "cell_type": "code",
   "execution_count": 67,
   "id": "011a47e9",
   "metadata": {},
   "outputs": [],
   "source": [
    "# Ensure we are working with a copy of the DataFrame to avoid the SettingWithCopyWarning\n",
    "stock = stock.copy()"
   ]
  },
  {
   "cell_type": "code",
   "execution_count": 68,
   "id": "7758c824",
   "metadata": {},
   "outputs": [],
   "source": [
    "# Calculate HL_Perc and CO_Perc\n",
    "stock.loc[:, 'HL_Perc'] = (stock['High'] - stock['Low']) / stock['Low'] * 100\n",
    "stock.loc[:, 'CO_Perc'] = (stock['Close'] - stock['Open']) / stock['Open'] * 100"
   ]
  },
  {
   "cell_type": "code",
   "execution_count": 69,
   "id": "0bb9c198",
   "metadata": {},
   "outputs": [],
   "source": [
    "dates = np.array(stock[\"Date\"])\n",
    "dates_check = dates[-30:]\n",
    "dates = dates[:-30]"
   ]
  },
  {
   "cell_type": "code",
   "execution_count": 70,
   "id": "07901da7",
   "metadata": {},
   "outputs": [
    {
     "data": {
      "text/plain": [
       "Index(['Date', 'Symbol', 'Series', 'Prev Close', 'Open', 'High', 'Low', 'Last',\n",
       "       'Close', 'VWAP', 'Volume', 'Turnover', 'Trades', 'Deliverable Volume',\n",
       "       '%Deliverble', 'HL_Perc', 'CO_Perc'],\n",
       "      dtype='object')"
      ]
     },
     "execution_count": 70,
     "metadata": {},
     "output_type": "execute_result"
    }
   ],
   "source": [
    "stock.columns"
   ]
  },
  {
   "cell_type": "code",
   "execution_count": 71,
   "id": "75b07f7b",
   "metadata": {},
   "outputs": [],
   "source": [
    "stock = stock[[\"HL_Perc\", \"CO_Perc\", \"Close\", \"Volume\"]]"
   ]
  },
  {
   "cell_type": "code",
   "execution_count": 72,
   "id": "772db78e",
   "metadata": {},
   "outputs": [],
   "source": [
    "#Define the label column\n",
    "stock[\"PriceNextMonth\"] = stock[\"Close\"].shift(-30)"
   ]
  },
  {
   "cell_type": "code",
   "execution_count": 73,
   "id": "79011229",
   "metadata": {},
   "outputs": [
    {
     "data": {
      "text/html": [
       "<div>\n",
       "<style scoped>\n",
       "    .dataframe tbody tr th:only-of-type {\n",
       "        vertical-align: middle;\n",
       "    }\n",
       "\n",
       "    .dataframe tbody tr th {\n",
       "        vertical-align: top;\n",
       "    }\n",
       "\n",
       "    .dataframe thead th {\n",
       "        text-align: right;\n",
       "    }\n",
       "</style>\n",
       "<table border=\"1\" class=\"dataframe\">\n",
       "  <thead>\n",
       "    <tr style=\"text-align: right;\">\n",
       "      <th></th>\n",
       "      <th>HL_Perc</th>\n",
       "      <th>CO_Perc</th>\n",
       "      <th>Close</th>\n",
       "      <th>Volume</th>\n",
       "      <th>PriceNextMonth</th>\n",
       "    </tr>\n",
       "  </thead>\n",
       "  <tbody>\n",
       "    <tr>\n",
       "      <th>5301</th>\n",
       "      <td>2.641904</td>\n",
       "      <td>0.929687</td>\n",
       "      <td>1937.85</td>\n",
       "      <td>9620785</td>\n",
       "      <td>NaN</td>\n",
       "    </tr>\n",
       "    <tr>\n",
       "      <th>5302</th>\n",
       "      <td>3.041403</td>\n",
       "      <td>2.507732</td>\n",
       "      <td>1988.65</td>\n",
       "      <td>9226547</td>\n",
       "      <td>NaN</td>\n",
       "    </tr>\n",
       "    <tr>\n",
       "      <th>5303</th>\n",
       "      <td>1.406459</td>\n",
       "      <td>-0.027530</td>\n",
       "      <td>1997.30</td>\n",
       "      <td>7902002</td>\n",
       "      <td>NaN</td>\n",
       "    </tr>\n",
       "    <tr>\n",
       "      <th>5304</th>\n",
       "      <td>1.853236</td>\n",
       "      <td>0.056849</td>\n",
       "      <td>2024.05</td>\n",
       "      <td>8035915</td>\n",
       "      <td>NaN</td>\n",
       "    </tr>\n",
       "    <tr>\n",
       "      <th>5305</th>\n",
       "      <td>2.437675</td>\n",
       "      <td>-0.697038</td>\n",
       "      <td>1994.50</td>\n",
       "      <td>9150974</td>\n",
       "      <td>NaN</td>\n",
       "    </tr>\n",
       "  </tbody>\n",
       "</table>\n",
       "</div>"
      ],
      "text/plain": [
       "       HL_Perc   CO_Perc    Close   Volume  PriceNextMonth\n",
       "5301  2.641904  0.929687  1937.85  9620785             NaN\n",
       "5302  3.041403  2.507732  1988.65  9226547             NaN\n",
       "5303  1.406459 -0.027530  1997.30  7902002             NaN\n",
       "5304  1.853236  0.056849  2024.05  8035915             NaN\n",
       "5305  2.437675 -0.697038  1994.50  9150974             NaN"
      ]
     },
     "execution_count": 73,
     "metadata": {},
     "output_type": "execute_result"
    }
   ],
   "source": [
    "stock.tail()"
   ]
  },
  {
   "cell_type": "code",
   "execution_count": 74,
   "id": "c687b99c",
   "metadata": {},
   "outputs": [
    {
     "name": "stderr",
     "output_type": "stream",
     "text": [
      "C:\\Users\\suresh\\AppData\\Local\\Temp\\ipykernel_9868\\459189850.py:2: FutureWarning: In a future version of pandas all arguments of DataFrame.drop except for the argument 'labels' will be keyword-only.\n",
      "  X = np.array(stock.drop([\"PriceNextMonth\"], 1))\n"
     ]
    }
   ],
   "source": [
    "#Make fetaure and label arrays\n",
    "X = np.array(stock.drop([\"PriceNextMonth\"], 1))\n",
    "X = preprocessing.scale(X)\n",
    "X_Check = X[-30:]\n",
    "X = X[:-30]\n",
    "stock.dropna(inplace = True)\n",
    "y = np.array(stock[\"PriceNextMonth\"])"
   ]
  },
  {
   "cell_type": "code",
   "execution_count": 75,
   "id": "381f2472",
   "metadata": {},
   "outputs": [],
   "source": [
    "#Divide the data set into training data and testing data\n",
    "X_train, X_test, y_train, y_test = train_test_split(X,y,test_size = 0.2)"
   ]
  },
  {
   "cell_type": "code",
   "execution_count": 76,
   "id": "489c08a2",
   "metadata": {},
   "outputs": [],
   "source": [
    "#Define the prediction model\n",
    "model = RandomForestRegressor()"
   ]
  },
  {
   "cell_type": "code",
   "execution_count": 77,
   "id": "74ff8cec",
   "metadata": {},
   "outputs": [
    {
     "data": {
      "text/plain": [
       "RandomForestRegressor()"
      ]
     },
     "execution_count": 77,
     "metadata": {},
     "output_type": "execute_result"
    }
   ],
   "source": [
    "#Fit the model using training data\n",
    "model.fit(X_train, y_train)"
   ]
  },
  {
   "cell_type": "code",
   "execution_count": 78,
   "id": "520c0372",
   "metadata": {},
   "outputs": [
    {
     "name": "stdout",
     "output_type": "stream",
     "text": [
      "0.9338630117189682\n"
     ]
    }
   ],
   "source": [
    "#Calculate the confidence value by applying the model to testing data\n",
    "conf = model.score(X_test, y_test)\n",
    "print(conf)"
   ]
  },
  {
   "cell_type": "code",
   "execution_count": 79,
   "id": "b9381393",
   "metadata": {},
   "outputs": [
    {
     "data": {
      "text/plain": [
       "RandomForestRegressor()"
      ]
     },
     "execution_count": 79,
     "metadata": {},
     "output_type": "execute_result"
    }
   ],
   "source": [
    "#Fit the model again using the whole data set\n",
    "model.fit(X,y)"
   ]
  },
  {
   "cell_type": "code",
   "execution_count": 80,
   "id": "4990c67a",
   "metadata": {},
   "outputs": [],
   "source": [
    "predictions = model.predict(X_Check)"
   ]
  },
  {
   "cell_type": "code",
   "execution_count": 81,
   "id": "c0d5a9e2",
   "metadata": {},
   "outputs": [],
   "source": [
    "#Make the final DataFrame containing Dates, ClosePrices, and Forecast values\n",
    "actual = pd.DataFrame(dates, columns = [\"Date\"])\n",
    "actual[\"ClosePrice\"] = stock[\"Close\"]\n",
    "actual[\"Forecast\"] = np.nan\n",
    "actual.set_index(\"Date\", inplace = True)\n",
    "forecast = pd.DataFrame(dates_check, columns=[\"Date\"])\n",
    "forecast[\"Forecast\"] = predictions\n",
    "forecast[\"ClosePrice\"] = np.nan\n",
    "forecast.set_index(\"Date\", inplace = True)\n",
    "var = [actual, forecast]\n",
    "result = pd.concat(var)  #This is the final DataFrame"
   ]
  },
  {
   "cell_type": "code",
   "execution_count": 82,
   "id": "45722829",
   "metadata": {},
   "outputs": [
    {
     "data": {
      "text/plain": [
       "Text(0, 0.5, 'Price')"
      ]
     },
     "execution_count": 82,
     "metadata": {},
     "output_type": "execute_result"
    },
    {
     "data": {
      "image/png": "[encoded data removed]",
      "text/plain": [
       "<Figure size 2000x1000 with 1 Axes>"
      ]
     },
     "metadata": {},
     "output_type": "display_data"
    }
   ],
   "source": [
    "#Plot the final results\n",
    "result.plot(figsize=(20,10), linewidth=1.5)\n",
    "plt.legend(loc=2, prop={'size':20})\n",
    "plt.xlabel('Date')\n",
    "plt.ylabel('Price')"
   ]
  },
  {
   "cell_type": "code",
   "execution_count": null,
   "id": "e099aee8",
   "metadata": {},
   "outputs": [],
   "source": []
  },
  {
   "cell_type": "code",
   "execution_count": null,
   "id": "9f8c7a22",
   "metadata": {},
   "outputs": [],
   "source": []
  }
 ],
 "metadata": {
  "kernelspec": {
   "display_name": "Python 3 (ipykernel)",
   "language": "python",
   "name": "python3"
  },
  "language_info": {
   "codemirror_mode": {
    "name": "ipython",
    "version": 3
   },
   "file_extension": ".py",
   "mimetype": "text/x-python",
   "name": "python",
   "nbconvert_exporter": "python",
   "pygments_lexer": "ipython3",
   "version": "3.9.13"
  }
 },
 "nbformat": 4,
 "nbformat_minor": 5
}
