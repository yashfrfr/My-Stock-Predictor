{
 "cells": [
  {
   "cell_type": "code",
   "execution_count": 2,
   "id": "5a20ead1",
   "metadata": {},
   "outputs": [],
   "source": [
    "#Import the libraries\n",
    "import pandas as pd \n",
    "import numpy as np \n",
    "import matplotlib.pyplot as plt \n",
    "from sklearn import preprocessing\n",
    "from sklearn.ensemble import RandomForestRegressor\n",
    "from sklearn.model_selection import train_test_split\n",
    "from sklearn.metrics import mean_absolute_error, r2_score"
   ]
  },
  {
   "cell_type": "code",
   "execution_count": 103,
   "id": "1ebabd9c",
   "metadata": {},
   "outputs": [],
   "source": [
    "stock = pd.read_csv(\"C:/Users/suresh/Desktop/PYTHON ML DATA SCIENCE/Stock Prediction/Stock Data/CIPLA.csv\")"
   ]
  },
  {
   "cell_type": "code",
   "execution_count": 104,
   "id": "b4a873d4",
   "metadata": {},
   "outputs": [
    {
     "data": {
      "text/html": [
       "<div>\n",
       "<style scoped>\n",
       "    .dataframe tbody tr th:only-of-type {\n",
       "        vertical-align: middle;\n",
       "    }\n",
       "\n",
       "    .dataframe tbody tr th {\n",
       "        vertical-align: top;\n",
       "    }\n",
       "\n",
       "    .dataframe thead th {\n",
       "        text-align: right;\n",
       "    }\n",
       "</style>\n",
       "<table border=\"1\" class=\"dataframe\">\n",
       "  <thead>\n",
       "    <tr style=\"text-align: right;\">\n",
       "      <th></th>\n",
       "      <th>Date</th>\n",
       "      <th>Symbol</th>\n",
       "      <th>Series</th>\n",
       "      <th>Prev Close</th>\n",
       "      <th>Open</th>\n",
       "      <th>High</th>\n",
       "      <th>Low</th>\n",
       "      <th>Last</th>\n",
       "      <th>Close</th>\n",
       "      <th>VWAP</th>\n",
       "      <th>Volume</th>\n",
       "      <th>Turnover</th>\n",
       "      <th>Trades</th>\n",
       "      <th>Deliverable Volume</th>\n",
       "      <th>%Deliverble</th>\n",
       "    </tr>\n",
       "  </thead>\n",
       "  <tbody>\n",
       "    <tr>\n",
       "      <th>0</th>\n",
       "      <td>2000-01-03</td>\n",
       "      <td>CIPLA</td>\n",
       "      <td>EQ</td>\n",
       "      <td>1349.40</td>\n",
       "      <td>1410.0</td>\n",
       "      <td>1457.35</td>\n",
       "      <td>1380.05</td>\n",
       "      <td>1457.35</td>\n",
       "      <td>1457.35</td>\n",
       "      <td>1441.36</td>\n",
       "      <td>21060</td>\n",
       "      <td>3.035496e+12</td>\n",
       "      <td>NaN</td>\n",
       "      <td>NaN</td>\n",
       "      <td>NaN</td>\n",
       "    </tr>\n",
       "    <tr>\n",
       "      <th>1</th>\n",
       "      <td>2000-01-04</td>\n",
       "      <td>CIPLA</td>\n",
       "      <td>EQ</td>\n",
       "      <td>1457.35</td>\n",
       "      <td>1537.0</td>\n",
       "      <td>1537.00</td>\n",
       "      <td>1430.00</td>\n",
       "      <td>1466.05</td>\n",
       "      <td>1465.25</td>\n",
       "      <td>1460.43</td>\n",
       "      <td>30215</td>\n",
       "      <td>4.412698e+12</td>\n",
       "      <td>NaN</td>\n",
       "      <td>NaN</td>\n",
       "      <td>NaN</td>\n",
       "    </tr>\n",
       "    <tr>\n",
       "      <th>2</th>\n",
       "      <td>2000-01-05</td>\n",
       "      <td>CIPLA</td>\n",
       "      <td>EQ</td>\n",
       "      <td>1465.25</td>\n",
       "      <td>1474.0</td>\n",
       "      <td>1474.00</td>\n",
       "      <td>1365.00</td>\n",
       "      <td>1441.00</td>\n",
       "      <td>1435.05</td>\n",
       "      <td>1428.11</td>\n",
       "      <td>33799</td>\n",
       "      <td>4.826872e+12</td>\n",
       "      <td>NaN</td>\n",
       "      <td>NaN</td>\n",
       "      <td>NaN</td>\n",
       "    </tr>\n",
       "    <tr>\n",
       "      <th>3</th>\n",
       "      <td>2000-01-06</td>\n",
       "      <td>CIPLA</td>\n",
       "      <td>EQ</td>\n",
       "      <td>1435.05</td>\n",
       "      <td>1434.0</td>\n",
       "      <td>1435.00</td>\n",
       "      <td>1349.00</td>\n",
       "      <td>1365.00</td>\n",
       "      <td>1355.85</td>\n",
       "      <td>1390.55</td>\n",
       "      <td>33083</td>\n",
       "      <td>4.600356e+12</td>\n",
       "      <td>NaN</td>\n",
       "      <td>NaN</td>\n",
       "      <td>NaN</td>\n",
       "    </tr>\n",
       "    <tr>\n",
       "      <th>4</th>\n",
       "      <td>2000-01-07</td>\n",
       "      <td>CIPLA</td>\n",
       "      <td>EQ</td>\n",
       "      <td>1355.85</td>\n",
       "      <td>1370.0</td>\n",
       "      <td>1389.90</td>\n",
       "      <td>1247.40</td>\n",
       "      <td>1247.40</td>\n",
       "      <td>1247.55</td>\n",
       "      <td>1267.49</td>\n",
       "      <td>66536</td>\n",
       "      <td>8.433351e+12</td>\n",
       "      <td>NaN</td>\n",
       "      <td>NaN</td>\n",
       "      <td>NaN</td>\n",
       "    </tr>\n",
       "  </tbody>\n",
       "</table>\n",
       "</div>"
      ],
      "text/plain": [
       "         Date Symbol Series  Prev Close    Open     High      Low     Last  \\\n",
       "0  2000-01-03  CIPLA     EQ     1349.40  1410.0  1457.35  1380.05  1457.35   \n",
       "1  2000-01-04  CIPLA     EQ     1457.35  1537.0  1537.00  1430.00  1466.05   \n",
       "2  2000-01-05  CIPLA     EQ     1465.25  1474.0  1474.00  1365.00  1441.00   \n",
       "3  2000-01-06  CIPLA     EQ     1435.05  1434.0  1435.00  1349.00  1365.00   \n",
       "4  2000-01-07  CIPLA     EQ     1355.85  1370.0  1389.90  1247.40  1247.40   \n",
       "\n",
       "     Close     VWAP  Volume      Turnover  Trades  Deliverable Volume  \\\n",
       "0  1457.35  1441.36   21060  3.035496e+12     NaN                 NaN   \n",
       "1  1465.25  1460.43   30215  4.412698e+12     NaN                 NaN   \n",
       "2  1435.05  1428.11   33799  4.826872e+12     NaN                 NaN   \n",
       "3  1355.85  1390.55   33083  4.600356e+12     NaN                 NaN   \n",
       "4  1247.55  1267.49   66536  8.433351e+12     NaN                 NaN   \n",
       "\n",
       "   %Deliverble  \n",
       "0          NaN  \n",
       "1          NaN  \n",
       "2          NaN  \n",
       "3          NaN  \n",
       "4          NaN  "
      ]
     },
     "execution_count": 104,
     "metadata": {},
     "output_type": "execute_result"
    }
   ],
   "source": [
    "stock.head()"
   ]
  },
  {
   "cell_type": "code",
   "execution_count": 105,
   "id": "564201f0",
   "metadata": {},
   "outputs": [
    {
     "name": "stdout",
     "output_type": "stream",
     "text": [
      "<class 'pandas.core.frame.DataFrame'>\n",
      "RangeIndex: 5306 entries, 0 to 5305\n",
      "Data columns (total 15 columns):\n",
      " #   Column              Non-Null Count  Dtype  \n",
      "---  ------              --------------  -----  \n",
      " 0   Date                5306 non-null   object \n",
      " 1   Symbol              5306 non-null   object \n",
      " 2   Series              5306 non-null   object \n",
      " 3   Prev Close          5306 non-null   float64\n",
      " 4   Open                5306 non-null   float64\n",
      " 5   High                5306 non-null   float64\n",
      " 6   Low                 5306 non-null   float64\n",
      " 7   Last                5306 non-null   float64\n",
      " 8   Close               5306 non-null   float64\n",
      " 9   VWAP                5306 non-null   float64\n",
      " 10  Volume              5306 non-null   int64  \n",
      " 11  Turnover            5306 non-null   float64\n",
      " 12  Trades              2456 non-null   float64\n",
      " 13  Deliverable Volume  4792 non-null   float64\n",
      " 14  %Deliverble         4792 non-null   float64\n",
      "dtypes: float64(11), int64(1), object(3)\n",
      "memory usage: 621.9+ KB\n"
     ]
    }
   ],
   "source": [
    "stock.info()"
   ]
  },
  {
   "cell_type": "code",
   "execution_count": 106,
   "id": "c9d711dd",
   "metadata": {},
   "outputs": [
    {
     "data": {
      "text/html": [
       "<div>\n",
       "<style scoped>\n",
       "    .dataframe tbody tr th:only-of-type {\n",
       "        vertical-align: middle;\n",
       "    }\n",
       "\n",
       "    .dataframe tbody tr th {\n",
       "        vertical-align: top;\n",
       "    }\n",
       "\n",
       "    .dataframe thead th {\n",
       "        text-align: right;\n",
       "    }\n",
       "</style>\n",
       "<table border=\"1\" class=\"dataframe\">\n",
       "  <thead>\n",
       "    <tr style=\"text-align: right;\">\n",
       "      <th></th>\n",
       "      <th>Prev Close</th>\n",
       "      <th>Open</th>\n",
       "      <th>High</th>\n",
       "      <th>Low</th>\n",
       "      <th>Last</th>\n",
       "      <th>Close</th>\n",
       "      <th>VWAP</th>\n",
       "      <th>Volume</th>\n",
       "      <th>Turnover</th>\n",
       "      <th>Trades</th>\n",
       "      <th>Deliverable Volume</th>\n",
       "      <th>%Deliverble</th>\n",
       "    </tr>\n",
       "  </thead>\n",
       "  <tbody>\n",
       "    <tr>\n",
       "      <th>count</th>\n",
       "      <td>5306.000000</td>\n",
       "      <td>5306.000000</td>\n",
       "      <td>5306.000000</td>\n",
       "      <td>5306.000000</td>\n",
       "      <td>5306.000000</td>\n",
       "      <td>5306.000000</td>\n",
       "      <td>5306.000000</td>\n",
       "      <td>5.306000e+03</td>\n",
       "      <td>5.306000e+03</td>\n",
       "      <td>2456.000000</td>\n",
       "      <td>4.792000e+03</td>\n",
       "      <td>4792.000000</td>\n",
       "    </tr>\n",
       "    <tr>\n",
       "      <th>mean</th>\n",
       "      <td>540.503798</td>\n",
       "      <td>541.457755</td>\n",
       "      <td>549.587693</td>\n",
       "      <td>532.143583</td>\n",
       "      <td>540.472588</td>\n",
       "      <td>540.421052</td>\n",
       "      <td>540.931589</td>\n",
       "      <td>1.550071e+06</td>\n",
       "      <td>7.841696e+13</td>\n",
       "      <td>44967.250407</td>\n",
       "      <td>7.408486e+05</td>\n",
       "      <td>0.509209</td>\n",
       "    </tr>\n",
       "    <tr>\n",
       "      <th>std</th>\n",
       "      <td>289.319810</td>\n",
       "      <td>289.955959</td>\n",
       "      <td>295.087710</td>\n",
       "      <td>283.868905</td>\n",
       "      <td>289.158087</td>\n",
       "      <td>289.151156</td>\n",
       "      <td>289.411215</td>\n",
       "      <td>2.317962e+06</td>\n",
       "      <td>1.620908e+14</td>\n",
       "      <td>43776.047324</td>\n",
       "      <td>7.339493e+05</td>\n",
       "      <td>0.154639</td>\n",
       "    </tr>\n",
       "    <tr>\n",
       "      <th>min</th>\n",
       "      <td>160.100000</td>\n",
       "      <td>150.550000</td>\n",
       "      <td>169.450000</td>\n",
       "      <td>145.000000</td>\n",
       "      <td>152.000000</td>\n",
       "      <td>160.100000</td>\n",
       "      <td>158.140000</td>\n",
       "      <td>5.050000e+02</td>\n",
       "      <td>5.400606e+10</td>\n",
       "      <td>613.000000</td>\n",
       "      <td>2.013000e+03</td>\n",
       "      <td>0.069300</td>\n",
       "    </tr>\n",
       "    <tr>\n",
       "      <th>25%</th>\n",
       "      <td>309.025000</td>\n",
       "      <td>309.962500</td>\n",
       "      <td>312.750000</td>\n",
       "      <td>305.350000</td>\n",
       "      <td>309.000000</td>\n",
       "      <td>309.025000</td>\n",
       "      <td>309.290000</td>\n",
       "      <td>3.790408e+05</td>\n",
       "      <td>1.447839e+13</td>\n",
       "      <td>21724.000000</td>\n",
       "      <td>2.831312e+05</td>\n",
       "      <td>0.404575</td>\n",
       "    </tr>\n",
       "    <tr>\n",
       "      <th>50%</th>\n",
       "      <td>473.850000</td>\n",
       "      <td>474.625000</td>\n",
       "      <td>479.950000</td>\n",
       "      <td>468.875000</td>\n",
       "      <td>473.525000</td>\n",
       "      <td>473.850000</td>\n",
       "      <td>475.215000</td>\n",
       "      <td>1.047786e+06</td>\n",
       "      <td>3.725861e+13</td>\n",
       "      <td>32967.000000</td>\n",
       "      <td>5.787145e+05</td>\n",
       "      <td>0.516650</td>\n",
       "    </tr>\n",
       "    <tr>\n",
       "      <th>75%</th>\n",
       "      <td>681.937500</td>\n",
       "      <td>683.225000</td>\n",
       "      <td>691.787500</td>\n",
       "      <td>671.675000</td>\n",
       "      <td>681.937500</td>\n",
       "      <td>681.937500</td>\n",
       "      <td>682.035000</td>\n",
       "      <td>1.815542e+06</td>\n",
       "      <td>7.848478e+13</td>\n",
       "      <td>50869.500000</td>\n",
       "      <td>9.761000e+05</td>\n",
       "      <td>0.615125</td>\n",
       "    </tr>\n",
       "    <tr>\n",
       "      <th>max</th>\n",
       "      <td>1465.250000</td>\n",
       "      <td>1537.000000</td>\n",
       "      <td>1537.000000</td>\n",
       "      <td>1430.000000</td>\n",
       "      <td>1466.050000</td>\n",
       "      <td>1465.250000</td>\n",
       "      <td>1460.430000</td>\n",
       "      <td>5.689556e+07</td>\n",
       "      <td>4.498902e+15</td>\n",
       "      <td>603361.000000</td>\n",
       "      <td>1.081558e+07</td>\n",
       "      <td>0.994500</td>\n",
       "    </tr>\n",
       "  </tbody>\n",
       "</table>\n",
       "</div>"
      ],
      "text/plain": [
       "        Prev Close         Open         High          Low         Last  \\\n",
       "count  5306.000000  5306.000000  5306.000000  5306.000000  5306.000000   \n",
       "mean    540.503798   541.457755   549.587693   532.143583   540.472588   \n",
       "std     289.319810   289.955959   295.087710   283.868905   289.158087   \n",
       "min     160.100000   150.550000   169.450000   145.000000   152.000000   \n",
       "25%     309.025000   309.962500   312.750000   305.350000   309.000000   \n",
       "50%     473.850000   474.625000   479.950000   468.875000   473.525000   \n",
       "75%     681.937500   683.225000   691.787500   671.675000   681.937500   \n",
       "max    1465.250000  1537.000000  1537.000000  1430.000000  1466.050000   \n",
       "\n",
       "             Close         VWAP        Volume      Turnover         Trades  \\\n",
       "count  5306.000000  5306.000000  5.306000e+03  5.306000e+03    2456.000000   \n",
       "mean    540.421052   540.931589  1.550071e+06  7.841696e+13   44967.250407   \n",
       "std     289.151156   289.411215  2.317962e+06  1.620908e+14   43776.047324   \n",
       "min     160.100000   158.140000  5.050000e+02  5.400606e+10     613.000000   \n",
       "25%     309.025000   309.290000  3.790408e+05  1.447839e+13   21724.000000   \n",
       "50%     473.850000   475.215000  1.047786e+06  3.725861e+13   32967.000000   \n",
       "75%     681.937500   682.035000  1.815542e+06  7.848478e+13   50869.500000   \n",
       "max    1465.250000  1460.430000  5.689556e+07  4.498902e+15  603361.000000   \n",
       "\n",
       "       Deliverable Volume  %Deliverble  \n",
       "count        4.792000e+03  4792.000000  \n",
       "mean         7.408486e+05     0.509209  \n",
       "std          7.339493e+05     0.154639  \n",
       "min          2.013000e+03     0.069300  \n",
       "25%          2.831312e+05     0.404575  \n",
       "50%          5.787145e+05     0.516650  \n",
       "75%          9.761000e+05     0.615125  \n",
       "max          1.081558e+07     0.994500  "
      ]
     },
     "execution_count": 106,
     "metadata": {},
     "output_type": "execute_result"
    }
   ],
   "source": [
    "stock.describe()"
   ]
  },
  {
   "cell_type": "code",
   "execution_count": 107,
   "id": "011a47e9",
   "metadata": {},
   "outputs": [],
   "source": [
    "# Ensure we are working with a copy of the DataFrame to avoid the SettingWithCopyWarning\n",
    "stock = stock.copy()"
   ]
  },
  {
   "cell_type": "code",
   "execution_count": 108,
   "id": "7758c824",
   "metadata": {},
   "outputs": [],
   "source": [
    "# Calculate HL_Perc and CO_Perc\n",
    "stock.loc[:, 'HL_Perc'] = (stock['High'] - stock['Low']) / stock['Low'] * 100\n",
    "stock.loc[:, 'CO_Perc'] = (stock['Close'] - stock['Open']) / stock['Open'] * 100"
   ]
  },
  {
   "cell_type": "code",
   "execution_count": 109,
   "id": "0bb9c198",
   "metadata": {},
   "outputs": [],
   "source": [
    "dates = np.array(stock[\"Date\"])\n",
    "dates_check = dates[-30:]\n",
    "dates = dates[:-30]"
   ]
  },
  {
   "cell_type": "code",
   "execution_count": 110,
   "id": "07901da7",
   "metadata": {},
   "outputs": [
    {
     "data": {
      "text/plain": [
       "Index(['Date', 'Symbol', 'Series', 'Prev Close', 'Open', 'High', 'Low', 'Last',\n",
       "       'Close', 'VWAP', 'Volume', 'Turnover', 'Trades', 'Deliverable Volume',\n",
       "       '%Deliverble', 'HL_Perc', 'CO_Perc'],\n",
       "      dtype='object')"
      ]
     },
     "execution_count": 110,
     "metadata": {},
     "output_type": "execute_result"
    }
   ],
   "source": [
    "stock.columns"
   ]
  },
  {
   "cell_type": "code",
   "execution_count": 111,
   "id": "75b07f7b",
   "metadata": {},
   "outputs": [],
   "source": [
    "stock = stock[[\"HL_Perc\", \"CO_Perc\", \"Close\", \"Volume\"]]"
   ]
  },
  {
   "cell_type": "code",
   "execution_count": 112,
   "id": "772db78e",
   "metadata": {},
   "outputs": [],
   "source": [
    "#Define the label column\n",
    "stock[\"PriceNextMonth\"] = stock[\"Close\"].shift(-30)"
   ]
  },
  {
   "cell_type": "code",
   "execution_count": 113,
   "id": "79011229",
   "metadata": {},
   "outputs": [
    {
     "data": {
      "text/html": [
       "<div>\n",
       "<style scoped>\n",
       "    .dataframe tbody tr th:only-of-type {\n",
       "        vertical-align: middle;\n",
       "    }\n",
       "\n",
       "    .dataframe tbody tr th {\n",
       "        vertical-align: top;\n",
       "    }\n",
       "\n",
       "    .dataframe thead th {\n",
       "        text-align: right;\n",
       "    }\n",
       "</style>\n",
       "<table border=\"1\" class=\"dataframe\">\n",
       "  <thead>\n",
       "    <tr style=\"text-align: right;\">\n",
       "      <th></th>\n",
       "      <th>HL_Perc</th>\n",
       "      <th>CO_Perc</th>\n",
       "      <th>Close</th>\n",
       "      <th>Volume</th>\n",
       "      <th>PriceNextMonth</th>\n",
       "    </tr>\n",
       "  </thead>\n",
       "  <tbody>\n",
       "    <tr>\n",
       "      <th>5301</th>\n",
       "      <td>4.195533</td>\n",
       "      <td>-3.227875</td>\n",
       "      <td>905.40</td>\n",
       "      <td>10255697</td>\n",
       "      <td>NaN</td>\n",
       "    </tr>\n",
       "    <tr>\n",
       "      <th>5302</th>\n",
       "      <td>2.053274</td>\n",
       "      <td>-0.065717</td>\n",
       "      <td>912.40</td>\n",
       "      <td>5669049</td>\n",
       "      <td>NaN</td>\n",
       "    </tr>\n",
       "    <tr>\n",
       "      <th>5303</th>\n",
       "      <td>1.666759</td>\n",
       "      <td>-0.453874</td>\n",
       "      <td>910.20</td>\n",
       "      <td>7251009</td>\n",
       "      <td>NaN</td>\n",
       "    </tr>\n",
       "    <tr>\n",
       "      <th>5304</th>\n",
       "      <td>1.482301</td>\n",
       "      <td>-0.597620</td>\n",
       "      <td>906.50</td>\n",
       "      <td>4953091</td>\n",
       "      <td>NaN</td>\n",
       "    </tr>\n",
       "    <tr>\n",
       "      <th>5305</th>\n",
       "      <td>2.248127</td>\n",
       "      <td>1.065779</td>\n",
       "      <td>910.35</td>\n",
       "      <td>6459737</td>\n",
       "      <td>NaN</td>\n",
       "    </tr>\n",
       "  </tbody>\n",
       "</table>\n",
       "</div>"
      ],
      "text/plain": [
       "       HL_Perc   CO_Perc   Close    Volume  PriceNextMonth\n",
       "5301  4.195533 -3.227875  905.40  10255697             NaN\n",
       "5302  2.053274 -0.065717  912.40   5669049             NaN\n",
       "5303  1.666759 -0.453874  910.20   7251009             NaN\n",
       "5304  1.482301 -0.597620  906.50   4953091             NaN\n",
       "5305  2.248127  1.065779  910.35   6459737             NaN"
      ]
     },
     "execution_count": 113,
     "metadata": {},
     "output_type": "execute_result"
    }
   ],
   "source": [
    "stock.tail()"
   ]
  },
  {
   "cell_type": "code",
   "execution_count": 114,
   "id": "c687b99c",
   "metadata": {},
   "outputs": [
    {
     "name": "stderr",
     "output_type": "stream",
     "text": [
      "C:\\Users\\suresh\\AppData\\Local\\Temp\\ipykernel_17924\\459189850.py:2: FutureWarning: In a future version of pandas all arguments of DataFrame.drop except for the argument 'labels' will be keyword-only.\n",
      "  X = np.array(stock.drop([\"PriceNextMonth\"], 1))\n"
     ]
    }
   ],
   "source": [
    "#Make fetaure and label arrays\n",
    "X = np.array(stock.drop([\"PriceNextMonth\"], 1))\n",
    "X = preprocessing.scale(X)\n",
    "X_Check = X[-30:]\n",
    "X = X[:-30]\n",
    "stock.dropna(inplace = True)\n",
    "y = np.array(stock[\"PriceNextMonth\"])"
   ]
  },
  {
   "cell_type": "code",
   "execution_count": 115,
   "id": "381f2472",
   "metadata": {},
   "outputs": [],
   "source": [
    "#Divide the data set into training data and testing data\n",
    "X_train, X_test, y_train, y_test = train_test_split(X,y,test_size = 0.2)"
   ]
  },
  {
   "cell_type": "code",
   "execution_count": 116,
   "id": "489c08a2",
   "metadata": {},
   "outputs": [],
   "source": [
    "#Define the prediction model\n",
    "model = RandomForestRegressor()"
   ]
  },
  {
   "cell_type": "code",
   "execution_count": 117,
   "id": "74ff8cec",
   "metadata": {},
   "outputs": [
    {
     "data": {
      "text/plain": [
       "RandomForestRegressor()"
      ]
     },
     "execution_count": 117,
     "metadata": {},
     "output_type": "execute_result"
    }
   ],
   "source": [
    "#Fit the model using training data\n",
    "model.fit(X_train, y_train)"
   ]
  },
  {
   "cell_type": "code",
   "execution_count": 118,
   "id": "520c0372",
   "metadata": {},
   "outputs": [
    {
     "name": "stdout",
     "output_type": "stream",
     "text": [
      "0.8677815971962398\n"
     ]
    }
   ],
   "source": [
    "#Calculate the confidence value by applying the model to testing data\n",
    "conf = model.score(X_test, y_test)\n",
    "print(conf)"
   ]
  },
  {
   "cell_type": "code",
   "execution_count": 119,
   "id": "b9381393",
   "metadata": {},
   "outputs": [
    {
     "data": {
      "text/plain": [
       "RandomForestRegressor()"
      ]
     },
     "execution_count": 119,
     "metadata": {},
     "output_type": "execute_result"
    }
   ],
   "source": [
    "#Fit the model again using the whole data set\n",
    "model.fit(X,y)"
   ]
  },
  {
   "cell_type": "code",
   "execution_count": 120,
   "id": "4990c67a",
   "metadata": {},
   "outputs": [],
   "source": [
    "predictions = model.predict(X_Check)"
   ]
  },
  {
   "cell_type": "code",
   "execution_count": 121,
   "id": "c0d5a9e2",
   "metadata": {},
   "outputs": [],
   "source": [
    "#Make the final DataFrame containing Dates, ClosePrices, and Forecast values\n",
    "actual = pd.DataFrame(dates, columns = [\"Date\"])\n",
    "actual[\"ClosePrice\"] = stock[\"Close\"]\n",
    "actual[\"Forecast\"] = np.nan\n",
    "actual.set_index(\"Date\", inplace = True)\n",
    "forecast = pd.DataFrame(dates_check, columns=[\"Date\"])\n",
    "forecast[\"Forecast\"] = predictions\n",
    "forecast[\"ClosePrice\"] = np.nan\n",
    "forecast.set_index(\"Date\", inplace = True)\n",
    "var = [actual, forecast]\n",
    "result = pd.concat(var)  #This is the final DataFrame"
   ]
  },
  {
   "cell_type": "code",
   "execution_count": 122,
   "id": "45722829",
   "metadata": {},
   "outputs": [
    {
     "data": {
      "text/plain": [
       "Text(0, 0.5, 'Price')"
      ]
     },
     "execution_count": 122,
     "metadata": {},
     "output_type": "execute_result"
    },
    {
     "data": {
      "image/png": "[encoded data removed]",
      "text/plain": [
       "<Figure size 2000x1000 with 1 Axes>"
      ]
     },
     "metadata": {},
     "output_type": "display_data"
    }
   ],
   "source": [
    "#Plot the final results\n",
    "result.plot(figsize=(20,10), linewidth=1.5)\n",
    "plt.legend(loc=2, prop={'size':20})\n",
    "plt.xlabel('Date')\n",
    "plt.ylabel('Price')"
   ]
  },
  {
   "cell_type": "code",
   "execution_count": null,
   "id": "e099aee8",
   "metadata": {},
   "outputs": [],
   "source": []
  },
  {
   "cell_type": "code",
   "execution_count": null,
   "id": "571927c2",
   "metadata": {},
   "outputs": [],
   "source": []
  }
 ],
 "metadata": {
  "kernelspec": {
   "display_name": "Python 3 (ipykernel)",
   "language": "python",
   "name": "python3"
  },
  "language_info": {
   "codemirror_mode": {
    "name": "ipython",
    "version": 3
   },
   "file_extension": ".py",
   "mimetype": "text/x-python",
   "name": "python",
   "nbconvert_exporter": "python",
   "pygments_lexer": "ipython3",
   "version": "3.9.13"
  }
 },
 "nbformat": 4,
 "nbformat_minor": 5
}
