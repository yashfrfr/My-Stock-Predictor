{
 "cells": [
  {
   "cell_type": "code",
   "execution_count": 2,
   "id": "5a20ead1",
   "metadata": {},
   "outputs": [],
   "source": [
    "#Import the libraries\n",
    "import pandas as pd \n",
    "import numpy as np \n",
    "import matplotlib.pyplot as plt \n",
    "from sklearn import preprocessing\n",
    "from sklearn.ensemble import RandomForestRegressor\n",
    "from sklearn.model_selection import train_test_split\n",
    "from sklearn.metrics import mean_absolute_error, r2_score"
   ]
  },
  {
   "cell_type": "code",
   "execution_count": 303,
   "id": "1ebabd9c",
   "metadata": {},
   "outputs": [],
   "source": [
    "stock = pd.read_csv(\"C:/Users/suresh/Desktop/PYTHON ML DATA SCIENCE/Stock Prediction/Stock Data/HINDALCO.csv\")"
   ]
  },
  {
   "cell_type": "code",
   "execution_count": 304,
   "id": "b4a873d4",
   "metadata": {},
   "outputs": [
    {
     "data": {
      "text/html": [
       "<div>\n",
       "<style scoped>\n",
       "    .dataframe tbody tr th:only-of-type {\n",
       "        vertical-align: middle;\n",
       "    }\n",
       "\n",
       "    .dataframe tbody tr th {\n",
       "        vertical-align: top;\n",
       "    }\n",
       "\n",
       "    .dataframe thead th {\n",
       "        text-align: right;\n",
       "    }\n",
       "</style>\n",
       "<table border=\"1\" class=\"dataframe\">\n",
       "  <thead>\n",
       "    <tr style=\"text-align: right;\">\n",
       "      <th></th>\n",
       "      <th>Date</th>\n",
       "      <th>Symbol</th>\n",
       "      <th>Series</th>\n",
       "      <th>Prev Close</th>\n",
       "      <th>Open</th>\n",
       "      <th>High</th>\n",
       "      <th>Low</th>\n",
       "      <th>Last</th>\n",
       "      <th>Close</th>\n",
       "      <th>VWAP</th>\n",
       "      <th>Volume</th>\n",
       "      <th>Turnover</th>\n",
       "      <th>Trades</th>\n",
       "      <th>Deliverable Volume</th>\n",
       "      <th>%Deliverble</th>\n",
       "    </tr>\n",
       "  </thead>\n",
       "  <tbody>\n",
       "    <tr>\n",
       "      <th>0</th>\n",
       "      <td>2000-01-03</td>\n",
       "      <td>HINDALC0</td>\n",
       "      <td>EQ</td>\n",
       "      <td>813.45</td>\n",
       "      <td>851.00</td>\n",
       "      <td>878.50</td>\n",
       "      <td>851.0</td>\n",
       "      <td>869.0</td>\n",
       "      <td>867.45</td>\n",
       "      <td>869.86</td>\n",
       "      <td>33799</td>\n",
       "      <td>2.940055e+12</td>\n",
       "      <td>NaN</td>\n",
       "      <td>NaN</td>\n",
       "      <td>NaN</td>\n",
       "    </tr>\n",
       "    <tr>\n",
       "      <th>1</th>\n",
       "      <td>2000-01-04</td>\n",
       "      <td>HINDALC0</td>\n",
       "      <td>EQ</td>\n",
       "      <td>867.45</td>\n",
       "      <td>879.00</td>\n",
       "      <td>930.00</td>\n",
       "      <td>870.0</td>\n",
       "      <td>900.0</td>\n",
       "      <td>900.35</td>\n",
       "      <td>903.51</td>\n",
       "      <td>70944</td>\n",
       "      <td>6.409848e+12</td>\n",
       "      <td>NaN</td>\n",
       "      <td>NaN</td>\n",
       "      <td>NaN</td>\n",
       "    </tr>\n",
       "    <tr>\n",
       "      <th>2</th>\n",
       "      <td>2000-01-05</td>\n",
       "      <td>HINDALC0</td>\n",
       "      <td>EQ</td>\n",
       "      <td>900.35</td>\n",
       "      <td>835.00</td>\n",
       "      <td>972.40</td>\n",
       "      <td>835.0</td>\n",
       "      <td>972.4</td>\n",
       "      <td>972.35</td>\n",
       "      <td>949.32</td>\n",
       "      <td>153030</td>\n",
       "      <td>1.452744e+13</td>\n",
       "      <td>NaN</td>\n",
       "      <td>NaN</td>\n",
       "      <td>NaN</td>\n",
       "    </tr>\n",
       "    <tr>\n",
       "      <th>3</th>\n",
       "      <td>2000-01-06</td>\n",
       "      <td>HINDALC0</td>\n",
       "      <td>EQ</td>\n",
       "      <td>972.35</td>\n",
       "      <td>1050.15</td>\n",
       "      <td>1050.15</td>\n",
       "      <td>1015.1</td>\n",
       "      <td>1045.0</td>\n",
       "      <td>1048.45</td>\n",
       "      <td>1047.08</td>\n",
       "      <td>129708</td>\n",
       "      <td>1.358144e+13</td>\n",
       "      <td>NaN</td>\n",
       "      <td>NaN</td>\n",
       "      <td>NaN</td>\n",
       "    </tr>\n",
       "    <tr>\n",
       "      <th>4</th>\n",
       "      <td>2000-01-07</td>\n",
       "      <td>HINDALC0</td>\n",
       "      <td>EQ</td>\n",
       "      <td>1048.45</td>\n",
       "      <td>1096.00</td>\n",
       "      <td>1120.00</td>\n",
       "      <td>1015.0</td>\n",
       "      <td>1086.0</td>\n",
       "      <td>1094.95</td>\n",
       "      <td>1085.24</td>\n",
       "      <td>138829</td>\n",
       "      <td>1.506623e+13</td>\n",
       "      <td>NaN</td>\n",
       "      <td>NaN</td>\n",
       "      <td>NaN</td>\n",
       "    </tr>\n",
       "  </tbody>\n",
       "</table>\n",
       "</div>"
      ],
      "text/plain": [
       "         Date    Symbol Series  Prev Close     Open     High     Low    Last  \\\n",
       "0  2000-01-03  HINDALC0     EQ      813.45   851.00   878.50   851.0   869.0   \n",
       "1  2000-01-04  HINDALC0     EQ      867.45   879.00   930.00   870.0   900.0   \n",
       "2  2000-01-05  HINDALC0     EQ      900.35   835.00   972.40   835.0   972.4   \n",
       "3  2000-01-06  HINDALC0     EQ      972.35  1050.15  1050.15  1015.1  1045.0   \n",
       "4  2000-01-07  HINDALC0     EQ     1048.45  1096.00  1120.00  1015.0  1086.0   \n",
       "\n",
       "     Close     VWAP  Volume      Turnover  Trades  Deliverable Volume  \\\n",
       "0   867.45   869.86   33799  2.940055e+12     NaN                 NaN   \n",
       "1   900.35   903.51   70944  6.409848e+12     NaN                 NaN   \n",
       "2   972.35   949.32  153030  1.452744e+13     NaN                 NaN   \n",
       "3  1048.45  1047.08  129708  1.358144e+13     NaN                 NaN   \n",
       "4  1094.95  1085.24  138829  1.506623e+13     NaN                 NaN   \n",
       "\n",
       "   %Deliverble  \n",
       "0          NaN  \n",
       "1          NaN  \n",
       "2          NaN  \n",
       "3          NaN  \n",
       "4          NaN  "
      ]
     },
     "execution_count": 304,
     "metadata": {},
     "output_type": "execute_result"
    }
   ],
   "source": [
    "stock.head()"
   ]
  },
  {
   "cell_type": "code",
   "execution_count": 305,
   "id": "564201f0",
   "metadata": {},
   "outputs": [
    {
     "name": "stdout",
     "output_type": "stream",
     "text": [
      "<class 'pandas.core.frame.DataFrame'>\n",
      "RangeIndex: 5306 entries, 0 to 5305\n",
      "Data columns (total 15 columns):\n",
      " #   Column              Non-Null Count  Dtype  \n",
      "---  ------              --------------  -----  \n",
      " 0   Date                5306 non-null   object \n",
      " 1   Symbol              5306 non-null   object \n",
      " 2   Series              5306 non-null   object \n",
      " 3   Prev Close          5306 non-null   float64\n",
      " 4   Open                5306 non-null   float64\n",
      " 5   High                5306 non-null   float64\n",
      " 6   Low                 5306 non-null   float64\n",
      " 7   Last                5306 non-null   float64\n",
      " 8   Close               5306 non-null   float64\n",
      " 9   VWAP                5306 non-null   float64\n",
      " 10  Volume              5306 non-null   int64  \n",
      " 11  Turnover            5306 non-null   float64\n",
      " 12  Trades              2456 non-null   float64\n",
      " 13  Deliverable Volume  4781 non-null   float64\n",
      " 14  %Deliverble         4781 non-null   float64\n",
      "dtypes: float64(11), int64(1), object(3)\n",
      "memory usage: 621.9+ KB\n"
     ]
    }
   ],
   "source": [
    "stock.info()"
   ]
  },
  {
   "cell_type": "code",
   "execution_count": 306,
   "id": "c9d711dd",
   "metadata": {},
   "outputs": [
    {
     "data": {
      "text/html": [
       "<div>\n",
       "<style scoped>\n",
       "    .dataframe tbody tr th:only-of-type {\n",
       "        vertical-align: middle;\n",
       "    }\n",
       "\n",
       "    .dataframe tbody tr th {\n",
       "        vertical-align: top;\n",
       "    }\n",
       "\n",
       "    .dataframe thead th {\n",
       "        text-align: right;\n",
       "    }\n",
       "</style>\n",
       "<table border=\"1\" class=\"dataframe\">\n",
       "  <thead>\n",
       "    <tr style=\"text-align: right;\">\n",
       "      <th></th>\n",
       "      <th>Prev Close</th>\n",
       "      <th>Open</th>\n",
       "      <th>High</th>\n",
       "      <th>Low</th>\n",
       "      <th>Last</th>\n",
       "      <th>Close</th>\n",
       "      <th>VWAP</th>\n",
       "      <th>Volume</th>\n",
       "      <th>Turnover</th>\n",
       "      <th>Trades</th>\n",
       "      <th>Deliverable Volume</th>\n",
       "      <th>%Deliverble</th>\n",
       "    </tr>\n",
       "  </thead>\n",
       "  <tbody>\n",
       "    <tr>\n",
       "      <th>count</th>\n",
       "      <td>5306.000000</td>\n",
       "      <td>5306.000000</td>\n",
       "      <td>5306.000000</td>\n",
       "      <td>5306.000000</td>\n",
       "      <td>5306.000000</td>\n",
       "      <td>5306.000000</td>\n",
       "      <td>5306.000000</td>\n",
       "      <td>5.306000e+03</td>\n",
       "      <td>5.306000e+03</td>\n",
       "      <td>2456.000000</td>\n",
       "      <td>4.781000e+03</td>\n",
       "      <td>4781.000000</td>\n",
       "    </tr>\n",
       "    <tr>\n",
       "      <th>mean</th>\n",
       "      <td>355.738504</td>\n",
       "      <td>356.085064</td>\n",
       "      <td>362.501696</td>\n",
       "      <td>349.341934</td>\n",
       "      <td>355.680107</td>\n",
       "      <td>355.653873</td>\n",
       "      <td>355.879176</td>\n",
       "      <td>6.320499e+06</td>\n",
       "      <td>1.056218e+14</td>\n",
       "      <td>60639.510586</td>\n",
       "      <td>2.551709e+06</td>\n",
       "      <td>0.434026</td>\n",
       "    </tr>\n",
       "    <tr>\n",
       "      <th>std</th>\n",
       "      <td>356.014633</td>\n",
       "      <td>356.596610</td>\n",
       "      <td>362.459284</td>\n",
       "      <td>350.142561</td>\n",
       "      <td>355.938376</td>\n",
       "      <td>355.959176</td>\n",
       "      <td>356.197303</td>\n",
       "      <td>6.266133e+06</td>\n",
       "      <td>1.226098e+14</td>\n",
       "      <td>34429.932376</td>\n",
       "      <td>2.314570e+06</td>\n",
       "      <td>0.168495</td>\n",
       "    </tr>\n",
       "    <tr>\n",
       "      <th>min</th>\n",
       "      <td>37.400000</td>\n",
       "      <td>37.000000</td>\n",
       "      <td>38.400000</td>\n",
       "      <td>36.750000</td>\n",
       "      <td>37.500000</td>\n",
       "      <td>37.400000</td>\n",
       "      <td>37.740000</td>\n",
       "      <td>6.200000e+01</td>\n",
       "      <td>4.773755e+09</td>\n",
       "      <td>2598.000000</td>\n",
       "      <td>1.053000e+03</td>\n",
       "      <td>0.045400</td>\n",
       "    </tr>\n",
       "    <tr>\n",
       "      <th>25%</th>\n",
       "      <td>135.950000</td>\n",
       "      <td>136.000000</td>\n",
       "      <td>138.812500</td>\n",
       "      <td>133.562500</td>\n",
       "      <td>136.112500</td>\n",
       "      <td>135.950000</td>\n",
       "      <td>136.087500</td>\n",
       "      <td>2.467105e+05</td>\n",
       "      <td>1.927090e+13</td>\n",
       "      <td>38081.000000</td>\n",
       "      <td>9.599470e+05</td>\n",
       "      <td>0.314700</td>\n",
       "    </tr>\n",
       "    <tr>\n",
       "      <th>50%</th>\n",
       "      <td>184.025000</td>\n",
       "      <td>184.000000</td>\n",
       "      <td>187.900000</td>\n",
       "      <td>181.000000</td>\n",
       "      <td>184.000000</td>\n",
       "      <td>184.025000</td>\n",
       "      <td>184.390000</td>\n",
       "      <td>5.492389e+06</td>\n",
       "      <td>7.532902e+13</td>\n",
       "      <td>52399.000000</td>\n",
       "      <td>2.150299e+06</td>\n",
       "      <td>0.407100</td>\n",
       "    </tr>\n",
       "    <tr>\n",
       "      <th>75%</th>\n",
       "      <td>565.550000</td>\n",
       "      <td>561.000000</td>\n",
       "      <td>574.975000</td>\n",
       "      <td>554.600000</td>\n",
       "      <td>565.000000</td>\n",
       "      <td>564.675000</td>\n",
       "      <td>561.905000</td>\n",
       "      <td>9.319115e+06</td>\n",
       "      <td>1.462953e+14</td>\n",
       "      <td>73767.500000</td>\n",
       "      <td>3.586920e+06</td>\n",
       "      <td>0.523900</td>\n",
       "    </tr>\n",
       "    <tr>\n",
       "      <th>max</th>\n",
       "      <td>1472.600000</td>\n",
       "      <td>1599.000000</td>\n",
       "      <td>1599.000000</td>\n",
       "      <td>1450.000000</td>\n",
       "      <td>1475.000000</td>\n",
       "      <td>1472.600000</td>\n",
       "      <td>1461.420000</td>\n",
       "      <td>5.067723e+07</td>\n",
       "      <td>1.667374e+15</td>\n",
       "      <td>329561.000000</td>\n",
       "      <td>2.745422e+07</td>\n",
       "      <td>0.988300</td>\n",
       "    </tr>\n",
       "  </tbody>\n",
       "</table>\n",
       "</div>"
      ],
      "text/plain": [
       "        Prev Close         Open         High          Low         Last  \\\n",
       "count  5306.000000  5306.000000  5306.000000  5306.000000  5306.000000   \n",
       "mean    355.738504   356.085064   362.501696   349.341934   355.680107   \n",
       "std     356.014633   356.596610   362.459284   350.142561   355.938376   \n",
       "min      37.400000    37.000000    38.400000    36.750000    37.500000   \n",
       "25%     135.950000   136.000000   138.812500   133.562500   136.112500   \n",
       "50%     184.025000   184.000000   187.900000   181.000000   184.000000   \n",
       "75%     565.550000   561.000000   574.975000   554.600000   565.000000   \n",
       "max    1472.600000  1599.000000  1599.000000  1450.000000  1475.000000   \n",
       "\n",
       "             Close         VWAP        Volume      Turnover         Trades  \\\n",
       "count  5306.000000  5306.000000  5.306000e+03  5.306000e+03    2456.000000   \n",
       "mean    355.653873   355.879176  6.320499e+06  1.056218e+14   60639.510586   \n",
       "std     355.959176   356.197303  6.266133e+06  1.226098e+14   34429.932376   \n",
       "min      37.400000    37.740000  6.200000e+01  4.773755e+09    2598.000000   \n",
       "25%     135.950000   136.087500  2.467105e+05  1.927090e+13   38081.000000   \n",
       "50%     184.025000   184.390000  5.492389e+06  7.532902e+13   52399.000000   \n",
       "75%     564.675000   561.905000  9.319115e+06  1.462953e+14   73767.500000   \n",
       "max    1472.600000  1461.420000  5.067723e+07  1.667374e+15  329561.000000   \n",
       "\n",
       "       Deliverable Volume  %Deliverble  \n",
       "count        4.781000e+03  4781.000000  \n",
       "mean         2.551709e+06     0.434026  \n",
       "std          2.314570e+06     0.168495  \n",
       "min          1.053000e+03     0.045400  \n",
       "25%          9.599470e+05     0.314700  \n",
       "50%          2.150299e+06     0.407100  \n",
       "75%          3.586920e+06     0.523900  \n",
       "max          2.745422e+07     0.988300  "
      ]
     },
     "execution_count": 306,
     "metadata": {},
     "output_type": "execute_result"
    }
   ],
   "source": [
    "stock.describe()"
   ]
  },
  {
   "cell_type": "code",
   "execution_count": 307,
   "id": "011a47e9",
   "metadata": {},
   "outputs": [],
   "source": [
    "# Ensure we are working with a copy of the DataFrame to avoid the SettingWithCopyWarning\n",
    "stock = stock.copy()"
   ]
  },
  {
   "cell_type": "code",
   "execution_count": 308,
   "id": "7758c824",
   "metadata": {},
   "outputs": [],
   "source": [
    "# Calculate HL_Perc and CO_Perc\n",
    "stock.loc[:, 'HL_Perc'] = (stock['High'] - stock['Low']) / stock['Low'] * 100\n",
    "stock.loc[:, 'CO_Perc'] = (stock['Close'] - stock['Open']) / stock['Open'] * 100"
   ]
  },
  {
   "cell_type": "code",
   "execution_count": 309,
   "id": "0bb9c198",
   "metadata": {},
   "outputs": [],
   "source": [
    "dates = np.array(stock[\"Date\"])\n",
    "dates_check = dates[-30:]\n",
    "dates = dates[:-30]"
   ]
  },
  {
   "cell_type": "code",
   "execution_count": 310,
   "id": "07901da7",
   "metadata": {},
   "outputs": [
    {
     "data": {
      "text/plain": [
       "Index(['Date', 'Symbol', 'Series', 'Prev Close', 'Open', 'High', 'Low', 'Last',\n",
       "       'Close', 'VWAP', 'Volume', 'Turnover', 'Trades', 'Deliverable Volume',\n",
       "       '%Deliverble', 'HL_Perc', 'CO_Perc'],\n",
       "      dtype='object')"
      ]
     },
     "execution_count": 310,
     "metadata": {},
     "output_type": "execute_result"
    }
   ],
   "source": [
    "stock.columns"
   ]
  },
  {
   "cell_type": "code",
   "execution_count": 311,
   "id": "75b07f7b",
   "metadata": {},
   "outputs": [],
   "source": [
    "stock = stock[[\"HL_Perc\", \"CO_Perc\", \"Close\", \"Volume\"]]"
   ]
  },
  {
   "cell_type": "code",
   "execution_count": 312,
   "id": "772db78e",
   "metadata": {},
   "outputs": [],
   "source": [
    "#Define the label column\n",
    "stock[\"PriceNextMonth\"] = stock[\"Close\"].shift(-30)"
   ]
  },
  {
   "cell_type": "code",
   "execution_count": 313,
   "id": "79011229",
   "metadata": {},
   "outputs": [
    {
     "data": {
      "text/html": [
       "<div>\n",
       "<style scoped>\n",
       "    .dataframe tbody tr th:only-of-type {\n",
       "        vertical-align: middle;\n",
       "    }\n",
       "\n",
       "    .dataframe tbody tr th {\n",
       "        vertical-align: top;\n",
       "    }\n",
       "\n",
       "    .dataframe thead th {\n",
       "        text-align: right;\n",
       "    }\n",
       "</style>\n",
       "<table border=\"1\" class=\"dataframe\">\n",
       "  <thead>\n",
       "    <tr style=\"text-align: right;\">\n",
       "      <th></th>\n",
       "      <th>HL_Perc</th>\n",
       "      <th>CO_Perc</th>\n",
       "      <th>Close</th>\n",
       "      <th>Volume</th>\n",
       "      <th>PriceNextMonth</th>\n",
       "    </tr>\n",
       "  </thead>\n",
       "  <tbody>\n",
       "    <tr>\n",
       "      <th>5301</th>\n",
       "      <td>3.690304</td>\n",
       "      <td>-1.317280</td>\n",
       "      <td>348.35</td>\n",
       "      <td>16472269</td>\n",
       "      <td>NaN</td>\n",
       "    </tr>\n",
       "    <tr>\n",
       "      <th>5302</th>\n",
       "      <td>5.684090</td>\n",
       "      <td>4.612968</td>\n",
       "      <td>366.25</td>\n",
       "      <td>41263319</td>\n",
       "      <td>NaN</td>\n",
       "    </tr>\n",
       "    <tr>\n",
       "      <th>5303</th>\n",
       "      <td>3.044693</td>\n",
       "      <td>-1.694456</td>\n",
       "      <td>362.60</td>\n",
       "      <td>15197329</td>\n",
       "      <td>NaN</td>\n",
       "    </tr>\n",
       "    <tr>\n",
       "      <th>5304</th>\n",
       "      <td>3.483269</td>\n",
       "      <td>1.292869</td>\n",
       "      <td>372.15</td>\n",
       "      <td>34391622</td>\n",
       "      <td>NaN</td>\n",
       "    </tr>\n",
       "    <tr>\n",
       "      <th>5305</th>\n",
       "      <td>4.345419</td>\n",
       "      <td>-1.219843</td>\n",
       "      <td>364.40</td>\n",
       "      <td>19935239</td>\n",
       "      <td>NaN</td>\n",
       "    </tr>\n",
       "  </tbody>\n",
       "</table>\n",
       "</div>"
      ],
      "text/plain": [
       "       HL_Perc   CO_Perc   Close    Volume  PriceNextMonth\n",
       "5301  3.690304 -1.317280  348.35  16472269             NaN\n",
       "5302  5.684090  4.612968  366.25  41263319             NaN\n",
       "5303  3.044693 -1.694456  362.60  15197329             NaN\n",
       "5304  3.483269  1.292869  372.15  34391622             NaN\n",
       "5305  4.345419 -1.219843  364.40  19935239             NaN"
      ]
     },
     "execution_count": 313,
     "metadata": {},
     "output_type": "execute_result"
    }
   ],
   "source": [
    "stock.tail()"
   ]
  },
  {
   "cell_type": "code",
   "execution_count": 314,
   "id": "c687b99c",
   "metadata": {},
   "outputs": [
    {
     "name": "stderr",
     "output_type": "stream",
     "text": [
      "C:\\Users\\suresh\\AppData\\Local\\Temp\\ipykernel_17924\\459189850.py:2: FutureWarning: In a future version of pandas all arguments of DataFrame.drop except for the argument 'labels' will be keyword-only.\n",
      "  X = np.array(stock.drop([\"PriceNextMonth\"], 1))\n"
     ]
    }
   ],
   "source": [
    "#Make fetaure and label arrays\n",
    "X = np.array(stock.drop([\"PriceNextMonth\"], 1))\n",
    "X = preprocessing.scale(X)\n",
    "X_Check = X[-30:]\n",
    "X = X[:-30]\n",
    "stock.dropna(inplace = True)\n",
    "y = np.array(stock[\"PriceNextMonth\"])"
   ]
  },
  {
   "cell_type": "code",
   "execution_count": 315,
   "id": "381f2472",
   "metadata": {},
   "outputs": [],
   "source": [
    "#Divide the data set into training data and testing data\n",
    "X_train, X_test, y_train, y_test = train_test_split(X,y,test_size = 0.2)"
   ]
  },
  {
   "cell_type": "code",
   "execution_count": 316,
   "id": "489c08a2",
   "metadata": {},
   "outputs": [],
   "source": [
    "#Define the prediction model\n",
    "model = RandomForestRegressor()"
   ]
  },
  {
   "cell_type": "code",
   "execution_count": 317,
   "id": "74ff8cec",
   "metadata": {},
   "outputs": [
    {
     "data": {
      "text/plain": [
       "RandomForestRegressor()"
      ]
     },
     "execution_count": 317,
     "metadata": {},
     "output_type": "execute_result"
    }
   ],
   "source": [
    "#Fit the model using training data\n",
    "model.fit(X_train, y_train)"
   ]
  },
  {
   "cell_type": "code",
   "execution_count": 318,
   "id": "520c0372",
   "metadata": {},
   "outputs": [
    {
     "name": "stdout",
     "output_type": "stream",
     "text": [
      "0.9420024669599266\n"
     ]
    }
   ],
   "source": [
    "#Calculate the confidence value by applying the model to testing data\n",
    "conf = model.score(X_test, y_test)\n",
    "print(conf)"
   ]
  },
  {
   "cell_type": "code",
   "execution_count": 319,
   "id": "b9381393",
   "metadata": {},
   "outputs": [
    {
     "data": {
      "text/plain": [
       "RandomForestRegressor()"
      ]
     },
     "execution_count": 319,
     "metadata": {},
     "output_type": "execute_result"
    }
   ],
   "source": [
    "#Fit the model again using the whole data set\n",
    "model.fit(X,y)"
   ]
  },
  {
   "cell_type": "code",
   "execution_count": 320,
   "id": "4990c67a",
   "metadata": {},
   "outputs": [],
   "source": [
    "predictions = model.predict(X_Check)"
   ]
  },
  {
   "cell_type": "code",
   "execution_count": 321,
   "id": "c0d5a9e2",
   "metadata": {},
   "outputs": [],
   "source": [
    "#Make the final DataFrame containing Dates, ClosePrices, and Forecast values\n",
    "actual = pd.DataFrame(dates, columns = [\"Date\"])\n",
    "actual[\"ClosePrice\"] = stock[\"Close\"]\n",
    "actual[\"Forecast\"] = np.nan\n",
    "actual.set_index(\"Date\", inplace = True)\n",
    "forecast = pd.DataFrame(dates_check, columns=[\"Date\"])\n",
    "forecast[\"Forecast\"] = predictions\n",
    "forecast[\"ClosePrice\"] = np.nan\n",
    "forecast.set_index(\"Date\", inplace = True)\n",
    "var = [actual, forecast]\n",
    "result = pd.concat(var)  #This is the final DataFrame"
   ]
  },
  {
   "cell_type": "code",
   "execution_count": 322,
   "id": "45722829",
   "metadata": {},
   "outputs": [
    {
     "data": {
      "text/plain": [
       "Text(0, 0.5, 'Price')"
      ]
     },
     "execution_count": 322,
     "metadata": {},
     "output_type": "execute_result"
    },
    {
     "data": {
      "image/png": "[encoded data removed]",
      "text/plain": [
       "<Figure size 2000x1000 with 1 Axes>"
      ]
     },
     "metadata": {},
     "output_type": "display_data"
    }
   ],
   "source": [
    "#Plot the final results\n",
    "result.plot(figsize=(20,10), linewidth=1.5)\n",
    "plt.legend(loc=2, prop={'size':20})\n",
    "plt.xlabel('Date')\n",
    "plt.ylabel('Price')"
   ]
  },
  {
   "cell_type": "code",
   "execution_count": null,
   "id": "e099aee8",
   "metadata": {},
   "outputs": [],
   "source": []
  },
  {
   "cell_type": "code",
   "execution_count": null,
   "id": "2ea4de56",
   "metadata": {},
   "outputs": [],
   "source": []
  }
 ],
 "metadata": {
  "kernelspec": {
   "display_name": "Python 3 (ipykernel)",
   "language": "python",
   "name": "python3"
  },
  "language_info": {
   "codemirror_mode": {
    "name": "ipython",
    "version": 3
   },
   "file_extension": ".py",
   "mimetype": "text/x-python",
   "name": "python",
   "nbconvert_exporter": "python",
   "pygments_lexer": "ipython3",
   "version": "3.9.13"
  }
 },
 "nbformat": 4,
 "nbformat_minor": 5
}
