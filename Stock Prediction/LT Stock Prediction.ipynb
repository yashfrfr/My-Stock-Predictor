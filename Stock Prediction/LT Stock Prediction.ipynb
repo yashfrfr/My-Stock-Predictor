{
 "cells": [
  {
   "cell_type": "code",
   "execution_count": 2,
   "id": "5a20ead1",
   "metadata": {},
   "outputs": [],
   "source": [
    "#Import the libraries\n",
    "import pandas as pd \n",
    "import numpy as np \n",
    "import matplotlib.pyplot as plt \n",
    "from sklearn import preprocessing\n",
    "from sklearn.ensemble import RandomForestRegressor\n",
    "from sklearn.model_selection import train_test_split\n",
    "from sklearn.metrics import mean_absolute_error, r2_score"
   ]
  },
  {
   "cell_type": "code",
   "execution_count": 492,
   "id": "1ebabd9c",
   "metadata": {},
   "outputs": [],
   "source": [
    "stock = pd.read_csv(\"C:/Users/suresh/Desktop/PYTHON ML DATA SCIENCE/Stock Prediction/Stock Data/LT.csv\")"
   ]
  },
  {
   "cell_type": "code",
   "execution_count": 493,
   "id": "b4a873d4",
   "metadata": {},
   "outputs": [
    {
     "data": {
      "text/html": [
       "<div>\n",
       "<style scoped>\n",
       "    .dataframe tbody tr th:only-of-type {\n",
       "        vertical-align: middle;\n",
       "    }\n",
       "\n",
       "    .dataframe tbody tr th {\n",
       "        vertical-align: top;\n",
       "    }\n",
       "\n",
       "    .dataframe thead th {\n",
       "        text-align: right;\n",
       "    }\n",
       "</style>\n",
       "<table border=\"1\" class=\"dataframe\">\n",
       "  <thead>\n",
       "    <tr style=\"text-align: right;\">\n",
       "      <th></th>\n",
       "      <th>Date</th>\n",
       "      <th>Symbol</th>\n",
       "      <th>Series</th>\n",
       "      <th>Prev Close</th>\n",
       "      <th>Open</th>\n",
       "      <th>High</th>\n",
       "      <th>Low</th>\n",
       "      <th>Last</th>\n",
       "      <th>Close</th>\n",
       "      <th>VWAP</th>\n",
       "      <th>Volume</th>\n",
       "      <th>Turnover</th>\n",
       "      <th>Trades</th>\n",
       "      <th>Deliverable Volume</th>\n",
       "      <th>%Deliverble</th>\n",
       "    </tr>\n",
       "  </thead>\n",
       "  <tbody>\n",
       "    <tr>\n",
       "      <th>0</th>\n",
       "      <td>2004-06-23</td>\n",
       "      <td>LT</td>\n",
       "      <td>EQ</td>\n",
       "      <td>2.00</td>\n",
       "      <td>500.0</td>\n",
       "      <td>745.0</td>\n",
       "      <td>150.0</td>\n",
       "      <td>638.00</td>\n",
       "      <td>635.95</td>\n",
       "      <td>627.71</td>\n",
       "      <td>2699293</td>\n",
       "      <td>1.694372e+14</td>\n",
       "      <td>NaN</td>\n",
       "      <td>395612</td>\n",
       "      <td>0.1466</td>\n",
       "    </tr>\n",
       "    <tr>\n",
       "      <th>1</th>\n",
       "      <td>2004-06-24</td>\n",
       "      <td>LT</td>\n",
       "      <td>EQ</td>\n",
       "      <td>635.95</td>\n",
       "      <td>630.0</td>\n",
       "      <td>630.0</td>\n",
       "      <td>608.4</td>\n",
       "      <td>612.00</td>\n",
       "      <td>616.00</td>\n",
       "      <td>618.21</td>\n",
       "      <td>913575</td>\n",
       "      <td>5.647802e+13</td>\n",
       "      <td>NaN</td>\n",
       "      <td>305751</td>\n",
       "      <td>0.3347</td>\n",
       "    </tr>\n",
       "    <tr>\n",
       "      <th>2</th>\n",
       "      <td>2004-06-25</td>\n",
       "      <td>LT</td>\n",
       "      <td>EQ</td>\n",
       "      <td>616.00</td>\n",
       "      <td>619.0</td>\n",
       "      <td>679.0</td>\n",
       "      <td>616.1</td>\n",
       "      <td>665.00</td>\n",
       "      <td>668.30</td>\n",
       "      <td>658.45</td>\n",
       "      <td>1637383</td>\n",
       "      <td>1.078136e+14</td>\n",
       "      <td>NaN</td>\n",
       "      <td>217950</td>\n",
       "      <td>0.1331</td>\n",
       "    </tr>\n",
       "    <tr>\n",
       "      <th>3</th>\n",
       "      <td>2004-06-28</td>\n",
       "      <td>LT</td>\n",
       "      <td>EQ</td>\n",
       "      <td>668.30</td>\n",
       "      <td>660.0</td>\n",
       "      <td>671.9</td>\n",
       "      <td>640.2</td>\n",
       "      <td>653.00</td>\n",
       "      <td>656.40</td>\n",
       "      <td>657.39</td>\n",
       "      <td>913349</td>\n",
       "      <td>6.004271e+13</td>\n",
       "      <td>NaN</td>\n",
       "      <td>194984</td>\n",
       "      <td>0.2135</td>\n",
       "    </tr>\n",
       "    <tr>\n",
       "      <th>4</th>\n",
       "      <td>2004-06-29</td>\n",
       "      <td>LT</td>\n",
       "      <td>EQ</td>\n",
       "      <td>656.40</td>\n",
       "      <td>656.0</td>\n",
       "      <td>683.4</td>\n",
       "      <td>653.0</td>\n",
       "      <td>666.85</td>\n",
       "      <td>671.70</td>\n",
       "      <td>675.11</td>\n",
       "      <td>743063</td>\n",
       "      <td>5.016488e+13</td>\n",
       "      <td>NaN</td>\n",
       "      <td>101786</td>\n",
       "      <td>0.1370</td>\n",
       "    </tr>\n",
       "  </tbody>\n",
       "</table>\n",
       "</div>"
      ],
      "text/plain": [
       "         Date Symbol Series  Prev Close   Open   High    Low    Last   Close  \\\n",
       "0  2004-06-23     LT     EQ        2.00  500.0  745.0  150.0  638.00  635.95   \n",
       "1  2004-06-24     LT     EQ      635.95  630.0  630.0  608.4  612.00  616.00   \n",
       "2  2004-06-25     LT     EQ      616.00  619.0  679.0  616.1  665.00  668.30   \n",
       "3  2004-06-28     LT     EQ      668.30  660.0  671.9  640.2  653.00  656.40   \n",
       "4  2004-06-29     LT     EQ      656.40  656.0  683.4  653.0  666.85  671.70   \n",
       "\n",
       "     VWAP   Volume      Turnover  Trades  Deliverable Volume  %Deliverble  \n",
       "0  627.71  2699293  1.694372e+14     NaN              395612       0.1466  \n",
       "1  618.21   913575  5.647802e+13     NaN              305751       0.3347  \n",
       "2  658.45  1637383  1.078136e+14     NaN              217950       0.1331  \n",
       "3  657.39   913349  6.004271e+13     NaN              194984       0.2135  \n",
       "4  675.11   743063  5.016488e+13     NaN              101786       0.1370  "
      ]
     },
     "execution_count": 493,
     "metadata": {},
     "output_type": "execute_result"
    }
   ],
   "source": [
    "stock.head()"
   ]
  },
  {
   "cell_type": "code",
   "execution_count": 494,
   "id": "564201f0",
   "metadata": {},
   "outputs": [
    {
     "name": "stdout",
     "output_type": "stream",
     "text": [
      "<class 'pandas.core.frame.DataFrame'>\n",
      "RangeIndex: 4184 entries, 0 to 4183\n",
      "Data columns (total 15 columns):\n",
      " #   Column              Non-Null Count  Dtype  \n",
      "---  ------              --------------  -----  \n",
      " 0   Date                4184 non-null   object \n",
      " 1   Symbol              4184 non-null   object \n",
      " 2   Series              4184 non-null   object \n",
      " 3   Prev Close          4184 non-null   float64\n",
      " 4   Open                4184 non-null   float64\n",
      " 5   High                4184 non-null   float64\n",
      " 6   Low                 4184 non-null   float64\n",
      " 7   Last                4184 non-null   float64\n",
      " 8   Close               4184 non-null   float64\n",
      " 9   VWAP                4184 non-null   float64\n",
      " 10  Volume              4184 non-null   int64  \n",
      " 11  Turnover            4184 non-null   float64\n",
      " 12  Trades              2456 non-null   float64\n",
      " 13  Deliverable Volume  4184 non-null   int64  \n",
      " 14  %Deliverble         4184 non-null   float64\n",
      "dtypes: float64(10), int64(2), object(3)\n",
      "memory usage: 490.4+ KB\n"
     ]
    }
   ],
   "source": [
    "stock.info()"
   ]
  },
  {
   "cell_type": "code",
   "execution_count": 495,
   "id": "c9d711dd",
   "metadata": {},
   "outputs": [
    {
     "data": {
      "text/html": [
       "<div>\n",
       "<style scoped>\n",
       "    .dataframe tbody tr th:only-of-type {\n",
       "        vertical-align: middle;\n",
       "    }\n",
       "\n",
       "    .dataframe tbody tr th {\n",
       "        vertical-align: top;\n",
       "    }\n",
       "\n",
       "    .dataframe thead th {\n",
       "        text-align: right;\n",
       "    }\n",
       "</style>\n",
       "<table border=\"1\" class=\"dataframe\">\n",
       "  <thead>\n",
       "    <tr style=\"text-align: right;\">\n",
       "      <th></th>\n",
       "      <th>Prev Close</th>\n",
       "      <th>Open</th>\n",
       "      <th>High</th>\n",
       "      <th>Low</th>\n",
       "      <th>Last</th>\n",
       "      <th>Close</th>\n",
       "      <th>VWAP</th>\n",
       "      <th>Volume</th>\n",
       "      <th>Turnover</th>\n",
       "      <th>Trades</th>\n",
       "      <th>Deliverable Volume</th>\n",
       "      <th>%Deliverble</th>\n",
       "    </tr>\n",
       "  </thead>\n",
       "  <tbody>\n",
       "    <tr>\n",
       "      <th>count</th>\n",
       "      <td>4184.000000</td>\n",
       "      <td>4184.000000</td>\n",
       "      <td>4184.000000</td>\n",
       "      <td>4184.000000</td>\n",
       "      <td>4184.000000</td>\n",
       "      <td>4184.000000</td>\n",
       "      <td>4184.000000</td>\n",
       "      <td>4.184000e+03</td>\n",
       "      <td>4.184000e+03</td>\n",
       "      <td>2456.000000</td>\n",
       "      <td>4.184000e+03</td>\n",
       "      <td>4184.000000</td>\n",
       "    </tr>\n",
       "    <tr>\n",
       "      <th>mean</th>\n",
       "      <td>1533.954457</td>\n",
       "      <td>1536.559285</td>\n",
       "      <td>1559.038325</td>\n",
       "      <td>1511.295495</td>\n",
       "      <td>1534.166551</td>\n",
       "      <td>1534.274355</td>\n",
       "      <td>1535.421214</td>\n",
       "      <td>1.917127e+06</td>\n",
       "      <td>2.644572e+14</td>\n",
       "      <td>85699.350977</td>\n",
       "      <td>8.946498e+05</td>\n",
       "      <td>0.474611</td>\n",
       "    </tr>\n",
       "    <tr>\n",
       "      <th>std</th>\n",
       "      <td>588.074537</td>\n",
       "      <td>589.993760</td>\n",
       "      <td>602.260762</td>\n",
       "      <td>574.961274</td>\n",
       "      <td>587.548900</td>\n",
       "      <td>587.604848</td>\n",
       "      <td>588.289079</td>\n",
       "      <td>1.708891e+06</td>\n",
       "      <td>2.036930e+14</td>\n",
       "      <td>48006.882654</td>\n",
       "      <td>8.280753e+05</td>\n",
       "      <td>0.116405</td>\n",
       "    </tr>\n",
       "    <tr>\n",
       "      <th>min</th>\n",
       "      <td>2.000000</td>\n",
       "      <td>500.000000</td>\n",
       "      <td>583.400000</td>\n",
       "      <td>150.000000</td>\n",
       "      <td>564.350000</td>\n",
       "      <td>562.050000</td>\n",
       "      <td>569.760000</td>\n",
       "      <td>3.022900e+04</td>\n",
       "      <td>3.660836e+12</td>\n",
       "      <td>2308.000000</td>\n",
       "      <td>1.047900e+04</td>\n",
       "      <td>0.071900</td>\n",
       "    </tr>\n",
       "    <tr>\n",
       "      <th>25%</th>\n",
       "      <td>1237.212500</td>\n",
       "      <td>1236.487500</td>\n",
       "      <td>1255.962500</td>\n",
       "      <td>1220.037500</td>\n",
       "      <td>1237.875000</td>\n",
       "      <td>1237.487500</td>\n",
       "      <td>1239.057500</td>\n",
       "      <td>8.794398e+05</td>\n",
       "      <td>1.461543e+14</td>\n",
       "      <td>54086.500000</td>\n",
       "      <td>3.703270e+05</td>\n",
       "      <td>0.396775</td>\n",
       "    </tr>\n",
       "    <tr>\n",
       "      <th>50%</th>\n",
       "      <td>1433.100000</td>\n",
       "      <td>1435.025000</td>\n",
       "      <td>1455.000000</td>\n",
       "      <td>1413.350000</td>\n",
       "      <td>1434.225000</td>\n",
       "      <td>1433.100000</td>\n",
       "      <td>1434.820000</td>\n",
       "      <td>1.518669e+06</td>\n",
       "      <td>2.263673e+14</td>\n",
       "      <td>74145.500000</td>\n",
       "      <td>6.905090e+05</td>\n",
       "      <td>0.481050</td>\n",
       "    </tr>\n",
       "    <tr>\n",
       "      <th>75%</th>\n",
       "      <td>1666.712500</td>\n",
       "      <td>1668.350000</td>\n",
       "      <td>1685.850000</td>\n",
       "      <td>1646.025000</td>\n",
       "      <td>1667.000000</td>\n",
       "      <td>1666.712500</td>\n",
       "      <td>1665.792500</td>\n",
       "      <td>2.431827e+06</td>\n",
       "      <td>3.339506e+14</td>\n",
       "      <td>101838.250000</td>\n",
       "      <td>1.168027e+06</td>\n",
       "      <td>0.558100</td>\n",
       "    </tr>\n",
       "    <tr>\n",
       "      <th>max</th>\n",
       "      <td>4506.700000</td>\n",
       "      <td>4510.000000</td>\n",
       "      <td>4690.000000</td>\n",
       "      <td>4430.000000</td>\n",
       "      <td>4512.000000</td>\n",
       "      <td>4506.700000</td>\n",
       "      <td>4509.600000</td>\n",
       "      <td>2.115335e+07</td>\n",
       "      <td>2.706056e+15</td>\n",
       "      <td>420826.000000</td>\n",
       "      <td>1.556991e+07</td>\n",
       "      <td>0.990100</td>\n",
       "    </tr>\n",
       "  </tbody>\n",
       "</table>\n",
       "</div>"
      ],
      "text/plain": [
       "        Prev Close         Open         High          Low         Last  \\\n",
       "count  4184.000000  4184.000000  4184.000000  4184.000000  4184.000000   \n",
       "mean   1533.954457  1536.559285  1559.038325  1511.295495  1534.166551   \n",
       "std     588.074537   589.993760   602.260762   574.961274   587.548900   \n",
       "min       2.000000   500.000000   583.400000   150.000000   564.350000   \n",
       "25%    1237.212500  1236.487500  1255.962500  1220.037500  1237.875000   \n",
       "50%    1433.100000  1435.025000  1455.000000  1413.350000  1434.225000   \n",
       "75%    1666.712500  1668.350000  1685.850000  1646.025000  1667.000000   \n",
       "max    4506.700000  4510.000000  4690.000000  4430.000000  4512.000000   \n",
       "\n",
       "             Close         VWAP        Volume      Turnover         Trades  \\\n",
       "count  4184.000000  4184.000000  4.184000e+03  4.184000e+03    2456.000000   \n",
       "mean   1534.274355  1535.421214  1.917127e+06  2.644572e+14   85699.350977   \n",
       "std     587.604848   588.289079  1.708891e+06  2.036930e+14   48006.882654   \n",
       "min     562.050000   569.760000  3.022900e+04  3.660836e+12    2308.000000   \n",
       "25%    1237.487500  1239.057500  8.794398e+05  1.461543e+14   54086.500000   \n",
       "50%    1433.100000  1434.820000  1.518669e+06  2.263673e+14   74145.500000   \n",
       "75%    1666.712500  1665.792500  2.431827e+06  3.339506e+14  101838.250000   \n",
       "max    4506.700000  4509.600000  2.115335e+07  2.706056e+15  420826.000000   \n",
       "\n",
       "       Deliverable Volume  %Deliverble  \n",
       "count        4.184000e+03  4184.000000  \n",
       "mean         8.946498e+05     0.474611  \n",
       "std          8.280753e+05     0.116405  \n",
       "min          1.047900e+04     0.071900  \n",
       "25%          3.703270e+05     0.396775  \n",
       "50%          6.905090e+05     0.481050  \n",
       "75%          1.168027e+06     0.558100  \n",
       "max          1.556991e+07     0.990100  "
      ]
     },
     "execution_count": 495,
     "metadata": {},
     "output_type": "execute_result"
    }
   ],
   "source": [
    "stock.describe()"
   ]
  },
  {
   "cell_type": "code",
   "execution_count": 496,
   "id": "011a47e9",
   "metadata": {},
   "outputs": [],
   "source": [
    "# Ensure we are working with a copy of the DataFrame to avoid the SettingWithCopyWarning\n",
    "stock = stock.copy()"
   ]
  },
  {
   "cell_type": "code",
   "execution_count": 497,
   "id": "7758c824",
   "metadata": {},
   "outputs": [],
   "source": [
    "# Calculate HL_Perc and CO_Perc\n",
    "stock.loc[:, 'HL_Perc'] = (stock['High'] - stock['Low']) / stock['Low'] * 100\n",
    "stock.loc[:, 'CO_Perc'] = (stock['Close'] - stock['Open']) / stock['Open'] * 100"
   ]
  },
  {
   "cell_type": "code",
   "execution_count": 498,
   "id": "0bb9c198",
   "metadata": {},
   "outputs": [],
   "source": [
    "dates = np.array(stock[\"Date\"])\n",
    "dates_check = dates[-30:]\n",
    "dates = dates[:-30]"
   ]
  },
  {
   "cell_type": "code",
   "execution_count": 499,
   "id": "07901da7",
   "metadata": {},
   "outputs": [
    {
     "data": {
      "text/plain": [
       "Index(['Date', 'Symbol', 'Series', 'Prev Close', 'Open', 'High', 'Low', 'Last',\n",
       "       'Close', 'VWAP', 'Volume', 'Turnover', 'Trades', 'Deliverable Volume',\n",
       "       '%Deliverble', 'HL_Perc', 'CO_Perc'],\n",
       "      dtype='object')"
      ]
     },
     "execution_count": 499,
     "metadata": {},
     "output_type": "execute_result"
    }
   ],
   "source": [
    "stock.columns"
   ]
  },
  {
   "cell_type": "code",
   "execution_count": 500,
   "id": "75b07f7b",
   "metadata": {},
   "outputs": [],
   "source": [
    "stock = stock[[\"HL_Perc\", \"CO_Perc\", \"Close\", \"Volume\"]]"
   ]
  },
  {
   "cell_type": "code",
   "execution_count": 501,
   "id": "772db78e",
   "metadata": {},
   "outputs": [],
   "source": [
    "#Define the label column\n",
    "stock[\"PriceNextMonth\"] = stock[\"Close\"].shift(-30)"
   ]
  },
  {
   "cell_type": "code",
   "execution_count": 502,
   "id": "79011229",
   "metadata": {},
   "outputs": [
    {
     "data": {
      "text/html": [
       "<div>\n",
       "<style scoped>\n",
       "    .dataframe tbody tr th:only-of-type {\n",
       "        vertical-align: middle;\n",
       "    }\n",
       "\n",
       "    .dataframe tbody tr th {\n",
       "        vertical-align: top;\n",
       "    }\n",
       "\n",
       "    .dataframe thead th {\n",
       "        text-align: right;\n",
       "    }\n",
       "</style>\n",
       "<table border=\"1\" class=\"dataframe\">\n",
       "  <thead>\n",
       "    <tr style=\"text-align: right;\">\n",
       "      <th></th>\n",
       "      <th>HL_Perc</th>\n",
       "      <th>CO_Perc</th>\n",
       "      <th>Close</th>\n",
       "      <th>Volume</th>\n",
       "      <th>PriceNextMonth</th>\n",
       "    </tr>\n",
       "  </thead>\n",
       "  <tbody>\n",
       "    <tr>\n",
       "      <th>4179</th>\n",
       "      <td>1.375661</td>\n",
       "      <td>0.439833</td>\n",
       "      <td>1335.90</td>\n",
       "      <td>1431562</td>\n",
       "      <td>NaN</td>\n",
       "    </tr>\n",
       "    <tr>\n",
       "      <th>4180</th>\n",
       "      <td>3.933678</td>\n",
       "      <td>3.110530</td>\n",
       "      <td>1380.65</td>\n",
       "      <td>4303909</td>\n",
       "      <td>NaN</td>\n",
       "    </tr>\n",
       "    <tr>\n",
       "      <th>4181</th>\n",
       "      <td>2.000000</td>\n",
       "      <td>-0.646279</td>\n",
       "      <td>1375.90</td>\n",
       "      <td>3220346</td>\n",
       "      <td>NaN</td>\n",
       "    </tr>\n",
       "    <tr>\n",
       "      <th>4182</th>\n",
       "      <td>2.663465</td>\n",
       "      <td>-1.828101</td>\n",
       "      <td>1358.65</td>\n",
       "      <td>2221346</td>\n",
       "      <td>NaN</td>\n",
       "    </tr>\n",
       "    <tr>\n",
       "      <th>4183</th>\n",
       "      <td>2.163012</td>\n",
       "      <td>-0.707407</td>\n",
       "      <td>1340.45</td>\n",
       "      <td>1968093</td>\n",
       "      <td>NaN</td>\n",
       "    </tr>\n",
       "  </tbody>\n",
       "</table>\n",
       "</div>"
      ],
      "text/plain": [
       "       HL_Perc   CO_Perc    Close   Volume  PriceNextMonth\n",
       "4179  1.375661  0.439833  1335.90  1431562             NaN\n",
       "4180  3.933678  3.110530  1380.65  4303909             NaN\n",
       "4181  2.000000 -0.646279  1375.90  3220346             NaN\n",
       "4182  2.663465 -1.828101  1358.65  2221346             NaN\n",
       "4183  2.163012 -0.707407  1340.45  1968093             NaN"
      ]
     },
     "execution_count": 502,
     "metadata": {},
     "output_type": "execute_result"
    }
   ],
   "source": [
    "stock.tail()"
   ]
  },
  {
   "cell_type": "code",
   "execution_count": 503,
   "id": "c687b99c",
   "metadata": {},
   "outputs": [
    {
     "name": "stderr",
     "output_type": "stream",
     "text": [
      "C:\\Users\\suresh\\AppData\\Local\\Temp\\ipykernel_17924\\459189850.py:2: FutureWarning: In a future version of pandas all arguments of DataFrame.drop except for the argument 'labels' will be keyword-only.\n",
      "  X = np.array(stock.drop([\"PriceNextMonth\"], 1))\n"
     ]
    }
   ],
   "source": [
    "#Make fetaure and label arrays\n",
    "X = np.array(stock.drop([\"PriceNextMonth\"], 1))\n",
    "X = preprocessing.scale(X)\n",
    "X_Check = X[-30:]\n",
    "X = X[:-30]\n",
    "stock.dropna(inplace = True)\n",
    "y = np.array(stock[\"PriceNextMonth\"])"
   ]
  },
  {
   "cell_type": "code",
   "execution_count": 504,
   "id": "381f2472",
   "metadata": {},
   "outputs": [],
   "source": [
    "#Divide the data set into training data and testing data\n",
    "X_train, X_test, y_train, y_test = train_test_split(X,y,test_size = 0.2)"
   ]
  },
  {
   "cell_type": "code",
   "execution_count": 505,
   "id": "489c08a2",
   "metadata": {},
   "outputs": [],
   "source": [
    "#Define the prediction model\n",
    "model = RandomForestRegressor()"
   ]
  },
  {
   "cell_type": "code",
   "execution_count": 506,
   "id": "74ff8cec",
   "metadata": {},
   "outputs": [
    {
     "data": {
      "text/plain": [
       "RandomForestRegressor()"
      ]
     },
     "execution_count": 506,
     "metadata": {},
     "output_type": "execute_result"
    }
   ],
   "source": [
    "#Fit the model using training data\n",
    "model.fit(X_train, y_train)"
   ]
  },
  {
   "cell_type": "code",
   "execution_count": 507,
   "id": "520c0372",
   "metadata": {},
   "outputs": [
    {
     "name": "stdout",
     "output_type": "stream",
     "text": [
      "0.7788417373709638\n"
     ]
    }
   ],
   "source": [
    "#Calculate the confidence value by applying the model to testing data\n",
    "conf = model.score(X_test, y_test)\n",
    "print(conf)"
   ]
  },
  {
   "cell_type": "code",
   "execution_count": 508,
   "id": "b9381393",
   "metadata": {},
   "outputs": [
    {
     "data": {
      "text/plain": [
       "RandomForestRegressor()"
      ]
     },
     "execution_count": 508,
     "metadata": {},
     "output_type": "execute_result"
    }
   ],
   "source": [
    "#Fit the model again using the whole data set\n",
    "model.fit(X,y)"
   ]
  },
  {
   "cell_type": "code",
   "execution_count": 509,
   "id": "4990c67a",
   "metadata": {},
   "outputs": [],
   "source": [
    "predictions = model.predict(X_Check)"
   ]
  },
  {
   "cell_type": "code",
   "execution_count": 510,
   "id": "c0d5a9e2",
   "metadata": {},
   "outputs": [],
   "source": [
    "#Make the final DataFrame containing Dates, ClosePrices, and Forecast values\n",
    "actual = pd.DataFrame(dates, columns = [\"Date\"])\n",
    "actual[\"ClosePrice\"] = stock[\"Close\"]\n",
    "actual[\"Forecast\"] = np.nan\n",
    "actual.set_index(\"Date\", inplace = True)\n",
    "forecast = pd.DataFrame(dates_check, columns=[\"Date\"])\n",
    "forecast[\"Forecast\"] = predictions\n",
    "forecast[\"ClosePrice\"] = np.nan\n",
    "forecast.set_index(\"Date\", inplace = True)\n",
    "var = [actual, forecast]\n",
    "result = pd.concat(var)  #This is the final DataFrame"
   ]
  },
  {
   "cell_type": "code",
   "execution_count": 511,
   "id": "45722829",
   "metadata": {},
   "outputs": [
    {
     "data": {
      "text/plain": [
       "Text(0, 0.5, 'Price')"
      ]
     },
     "execution_count": 511,
     "metadata": {},
     "output_type": "execute_result"
    },
    {
     "data": {
      "image/png": "[encoded data removed]",
      "text/plain": [
       "<Figure size 2000x1000 with 1 Axes>"
      ]
     },
     "metadata": {},
     "output_type": "display_data"
    }
   ],
   "source": [
    "#Plot the final results\n",
    "result.plot(figsize=(20,10), linewidth=1.5)\n",
    "plt.legend(loc=2, prop={'size':20})\n",
    "plt.xlabel('Date')\n",
    "plt.ylabel('Price')"
   ]
  },
  {
   "cell_type": "code",
   "execution_count": null,
   "id": "e099aee8",
   "metadata": {},
   "outputs": [],
   "source": []
  },
  {
   "cell_type": "code",
   "execution_count": null,
   "id": "bf20a6c7",
   "metadata": {},
   "outputs": [],
   "source": []
  }
 ],
 "metadata": {
  "kernelspec": {
   "display_name": "Python 3 (ipykernel)",
   "language": "python",
   "name": "python3"
  },
  "language_info": {
   "codemirror_mode": {
    "name": "ipython",
    "version": 3
   },
   "file_extension": ".py",
   "mimetype": "text/x-python",
   "name": "python",
   "nbconvert_exporter": "python",
   "pygments_lexer": "ipython3",
   "version": "3.9.13"
  }
 },
 "nbformat": 4,
 "nbformat_minor": 5
}
