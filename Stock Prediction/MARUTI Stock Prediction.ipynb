{
 "cells": [
  {
   "cell_type": "code",
   "execution_count": 2,
   "id": "5a20ead1",
   "metadata": {},
   "outputs": [],
   "source": [
    "#Import the libraries\n",
    "import pandas as pd \n",
    "import numpy as np \n",
    "import matplotlib.pyplot as plt \n",
    "from sklearn import preprocessing\n",
    "from sklearn.ensemble import RandomForestRegressor\n",
    "from sklearn.model_selection import train_test_split\n",
    "from sklearn.metrics import mean_absolute_error, r2_score"
   ]
  },
  {
   "cell_type": "code",
   "execution_count": 512,
   "id": "1ebabd9c",
   "metadata": {},
   "outputs": [],
   "source": [
    "stock = pd.read_csv(\"C:/Users/suresh/Desktop/PYTHON ML DATA SCIENCE/Stock Prediction/Stock Data/MARUTI.csv\")"
   ]
  },
  {
   "cell_type": "code",
   "execution_count": 513,
   "id": "b4a873d4",
   "metadata": {},
   "outputs": [
    {
     "data": {
      "text/html": [
       "<div>\n",
       "<style scoped>\n",
       "    .dataframe tbody tr th:only-of-type {\n",
       "        vertical-align: middle;\n",
       "    }\n",
       "\n",
       "    .dataframe tbody tr th {\n",
       "        vertical-align: top;\n",
       "    }\n",
       "\n",
       "    .dataframe thead th {\n",
       "        text-align: right;\n",
       "    }\n",
       "</style>\n",
       "<table border=\"1\" class=\"dataframe\">\n",
       "  <thead>\n",
       "    <tr style=\"text-align: right;\">\n",
       "      <th></th>\n",
       "      <th>Date</th>\n",
       "      <th>Symbol</th>\n",
       "      <th>Series</th>\n",
       "      <th>Prev Close</th>\n",
       "      <th>Open</th>\n",
       "      <th>High</th>\n",
       "      <th>Low</th>\n",
       "      <th>Last</th>\n",
       "      <th>Close</th>\n",
       "      <th>VWAP</th>\n",
       "      <th>Volume</th>\n",
       "      <th>Turnover</th>\n",
       "      <th>Trades</th>\n",
       "      <th>Deliverable Volume</th>\n",
       "      <th>%Deliverble</th>\n",
       "    </tr>\n",
       "  </thead>\n",
       "  <tbody>\n",
       "    <tr>\n",
       "      <th>0</th>\n",
       "      <td>2003-07-09</td>\n",
       "      <td>MARUTI</td>\n",
       "      <td>EQ</td>\n",
       "      <td>125.00</td>\n",
       "      <td>164.90</td>\n",
       "      <td>170.40</td>\n",
       "      <td>155.00</td>\n",
       "      <td>164.0</td>\n",
       "      <td>164.30</td>\n",
       "      <td>165.95</td>\n",
       "      <td>35164283</td>\n",
       "      <td>5.835528e+14</td>\n",
       "      <td>NaN</td>\n",
       "      <td>8537695.0</td>\n",
       "      <td>0.2428</td>\n",
       "    </tr>\n",
       "    <tr>\n",
       "      <th>1</th>\n",
       "      <td>2003-07-10</td>\n",
       "      <td>MARUTI</td>\n",
       "      <td>EQ</td>\n",
       "      <td>164.30</td>\n",
       "      <td>167.00</td>\n",
       "      <td>168.70</td>\n",
       "      <td>164.50</td>\n",
       "      <td>167.0</td>\n",
       "      <td>167.00</td>\n",
       "      <td>166.74</td>\n",
       "      <td>10464179</td>\n",
       "      <td>1.744820e+14</td>\n",
       "      <td>NaN</td>\n",
       "      <td>4363947.0</td>\n",
       "      <td>0.4170</td>\n",
       "    </tr>\n",
       "    <tr>\n",
       "      <th>2</th>\n",
       "      <td>2003-07-11</td>\n",
       "      <td>MARUTI</td>\n",
       "      <td>EQ</td>\n",
       "      <td>167.00</td>\n",
       "      <td>167.75</td>\n",
       "      <td>174.85</td>\n",
       "      <td>166.25</td>\n",
       "      <td>173.6</td>\n",
       "      <td>173.35</td>\n",
       "      <td>172.45</td>\n",
       "      <td>11740117</td>\n",
       "      <td>2.024622e+14</td>\n",
       "      <td>NaN</td>\n",
       "      <td>3014852.0</td>\n",
       "      <td>0.2568</td>\n",
       "    </tr>\n",
       "    <tr>\n",
       "      <th>3</th>\n",
       "      <td>2003-07-14</td>\n",
       "      <td>MARUTI</td>\n",
       "      <td>EQ</td>\n",
       "      <td>173.35</td>\n",
       "      <td>174.25</td>\n",
       "      <td>179.25</td>\n",
       "      <td>174.25</td>\n",
       "      <td>178.6</td>\n",
       "      <td>177.95</td>\n",
       "      <td>177.91</td>\n",
       "      <td>5982324</td>\n",
       "      <td>1.064313e+14</td>\n",
       "      <td>NaN</td>\n",
       "      <td>1949217.0</td>\n",
       "      <td>0.3258</td>\n",
       "    </tr>\n",
       "    <tr>\n",
       "      <th>4</th>\n",
       "      <td>2003-07-15</td>\n",
       "      <td>MARUTI</td>\n",
       "      <td>EQ</td>\n",
       "      <td>177.95</td>\n",
       "      <td>200.00</td>\n",
       "      <td>200.00</td>\n",
       "      <td>173.00</td>\n",
       "      <td>176.3</td>\n",
       "      <td>176.20</td>\n",
       "      <td>176.88</td>\n",
       "      <td>6173689</td>\n",
       "      <td>1.092001e+14</td>\n",
       "      <td>NaN</td>\n",
       "      <td>1307694.0</td>\n",
       "      <td>0.2118</td>\n",
       "    </tr>\n",
       "  </tbody>\n",
       "</table>\n",
       "</div>"
      ],
      "text/plain": [
       "         Date  Symbol Series  Prev Close    Open    High     Low   Last  \\\n",
       "0  2003-07-09  MARUTI     EQ      125.00  164.90  170.40  155.00  164.0   \n",
       "1  2003-07-10  MARUTI     EQ      164.30  167.00  168.70  164.50  167.0   \n",
       "2  2003-07-11  MARUTI     EQ      167.00  167.75  174.85  166.25  173.6   \n",
       "3  2003-07-14  MARUTI     EQ      173.35  174.25  179.25  174.25  178.6   \n",
       "4  2003-07-15  MARUTI     EQ      177.95  200.00  200.00  173.00  176.3   \n",
       "\n",
       "    Close    VWAP    Volume      Turnover  Trades  Deliverable Volume  \\\n",
       "0  164.30  165.95  35164283  5.835528e+14     NaN           8537695.0   \n",
       "1  167.00  166.74  10464179  1.744820e+14     NaN           4363947.0   \n",
       "2  173.35  172.45  11740117  2.024622e+14     NaN           3014852.0   \n",
       "3  177.95  177.91   5982324  1.064313e+14     NaN           1949217.0   \n",
       "4  176.20  176.88   6173689  1.092001e+14     NaN           1307694.0   \n",
       "\n",
       "   %Deliverble  \n",
       "0       0.2428  \n",
       "1       0.4170  \n",
       "2       0.2568  \n",
       "3       0.3258  \n",
       "4       0.2118  "
      ]
     },
     "execution_count": 513,
     "metadata": {},
     "output_type": "execute_result"
    }
   ],
   "source": [
    "stock.head()"
   ]
  },
  {
   "cell_type": "code",
   "execution_count": 514,
   "id": "564201f0",
   "metadata": {},
   "outputs": [
    {
     "name": "stdout",
     "output_type": "stream",
     "text": [
      "<class 'pandas.core.frame.DataFrame'>\n",
      "RangeIndex: 4427 entries, 0 to 4426\n",
      "Data columns (total 15 columns):\n",
      " #   Column              Non-Null Count  Dtype  \n",
      "---  ------              --------------  -----  \n",
      " 0   Date                4427 non-null   object \n",
      " 1   Symbol              4427 non-null   object \n",
      " 2   Series              4427 non-null   object \n",
      " 3   Prev Close          4427 non-null   float64\n",
      " 4   Open                4427 non-null   float64\n",
      " 5   High                4427 non-null   float64\n",
      " 6   Low                 4427 non-null   float64\n",
      " 7   Last                4427 non-null   float64\n",
      " 8   Close               4427 non-null   float64\n",
      " 9   VWAP                4427 non-null   float64\n",
      " 10  Volume              4427 non-null   int64  \n",
      " 11  Turnover            4427 non-null   float64\n",
      " 12  Trades              2456 non-null   float64\n",
      " 13  Deliverable Volume  4426 non-null   float64\n",
      " 14  %Deliverble         4426 non-null   float64\n",
      "dtypes: float64(11), int64(1), object(3)\n",
      "memory usage: 518.9+ KB\n"
     ]
    }
   ],
   "source": [
    "stock.info()"
   ]
  },
  {
   "cell_type": "code",
   "execution_count": 515,
   "id": "c9d711dd",
   "metadata": {},
   "outputs": [
    {
     "data": {
      "text/html": [
       "<div>\n",
       "<style scoped>\n",
       "    .dataframe tbody tr th:only-of-type {\n",
       "        vertical-align: middle;\n",
       "    }\n",
       "\n",
       "    .dataframe tbody tr th {\n",
       "        vertical-align: top;\n",
       "    }\n",
       "\n",
       "    .dataframe thead th {\n",
       "        text-align: right;\n",
       "    }\n",
       "</style>\n",
       "<table border=\"1\" class=\"dataframe\">\n",
       "  <thead>\n",
       "    <tr style=\"text-align: right;\">\n",
       "      <th></th>\n",
       "      <th>Prev Close</th>\n",
       "      <th>Open</th>\n",
       "      <th>High</th>\n",
       "      <th>Low</th>\n",
       "      <th>Last</th>\n",
       "      <th>Close</th>\n",
       "      <th>VWAP</th>\n",
       "      <th>Volume</th>\n",
       "      <th>Turnover</th>\n",
       "      <th>Trades</th>\n",
       "      <th>Deliverable Volume</th>\n",
       "      <th>%Deliverble</th>\n",
       "    </tr>\n",
       "  </thead>\n",
       "  <tbody>\n",
       "    <tr>\n",
       "      <th>count</th>\n",
       "      <td>4427.000000</td>\n",
       "      <td>4427.000000</td>\n",
       "      <td>4427.000000</td>\n",
       "      <td>4427.000000</td>\n",
       "      <td>4427.000000</td>\n",
       "      <td>4427.000000</td>\n",
       "      <td>4427.000000</td>\n",
       "      <td>4.427000e+03</td>\n",
       "      <td>4.427000e+03</td>\n",
       "      <td>2456.000000</td>\n",
       "      <td>4.426000e+03</td>\n",
       "      <td>4426.000000</td>\n",
       "    </tr>\n",
       "    <tr>\n",
       "      <th>mean</th>\n",
       "      <td>2923.575085</td>\n",
       "      <td>2927.873074</td>\n",
       "      <td>2962.918432</td>\n",
       "      <td>2889.128066</td>\n",
       "      <td>2924.651604</td>\n",
       "      <td>2925.005094</td>\n",
       "      <td>2926.480642</td>\n",
       "      <td>1.194661e+06</td>\n",
       "      <td>2.395307e+14</td>\n",
       "      <td>55428.511808</td>\n",
       "      <td>3.627677e+05</td>\n",
       "      <td>0.387391</td>\n",
       "    </tr>\n",
       "    <tr>\n",
       "      <th>std</th>\n",
       "      <td>2740.532701</td>\n",
       "      <td>2745.541243</td>\n",
       "      <td>2769.986950</td>\n",
       "      <td>2715.403311</td>\n",
       "      <td>2740.438635</td>\n",
       "      <td>2740.723734</td>\n",
       "      <td>2742.675329</td>\n",
       "      <td>1.637957e+06</td>\n",
       "      <td>2.935761e+14</td>\n",
       "      <td>44405.350898</td>\n",
       "      <td>3.681484e+05</td>\n",
       "      <td>0.157139</td>\n",
       "    </tr>\n",
       "    <tr>\n",
       "      <th>min</th>\n",
       "      <td>125.000000</td>\n",
       "      <td>164.000000</td>\n",
       "      <td>168.700000</td>\n",
       "      <td>155.000000</td>\n",
       "      <td>164.000000</td>\n",
       "      <td>164.300000</td>\n",
       "      <td>165.060000</td>\n",
       "      <td>2.279600e+04</td>\n",
       "      <td>2.131518e+12</td>\n",
       "      <td>1096.000000</td>\n",
       "      <td>4.896000e+03</td>\n",
       "      <td>0.034300</td>\n",
       "    </tr>\n",
       "    <tr>\n",
       "      <th>25%</th>\n",
       "      <td>822.525000</td>\n",
       "      <td>825.100000</td>\n",
       "      <td>840.000000</td>\n",
       "      <td>806.300000</td>\n",
       "      <td>823.025000</td>\n",
       "      <td>822.700000</td>\n",
       "      <td>823.435000</td>\n",
       "      <td>4.263710e+05</td>\n",
       "      <td>6.248277e+13</td>\n",
       "      <td>23089.500000</td>\n",
       "      <td>1.620018e+05</td>\n",
       "      <td>0.267600</td>\n",
       "    </tr>\n",
       "    <tr>\n",
       "      <th>50%</th>\n",
       "      <td>1412.450000</td>\n",
       "      <td>1414.000000</td>\n",
       "      <td>1432.000000</td>\n",
       "      <td>1390.350000</td>\n",
       "      <td>1412.200000</td>\n",
       "      <td>1412.600000</td>\n",
       "      <td>1412.210000</td>\n",
       "      <td>6.909590e+05</td>\n",
       "      <td>1.121591e+14</td>\n",
       "      <td>44031.500000</td>\n",
       "      <td>2.717160e+05</td>\n",
       "      <td>0.389900</td>\n",
       "    </tr>\n",
       "    <tr>\n",
       "      <th>75%</th>\n",
       "      <td>5097.350000</td>\n",
       "      <td>5100.000000</td>\n",
       "      <td>5192.050000</td>\n",
       "      <td>5006.025000</td>\n",
       "      <td>5104.500000</td>\n",
       "      <td>5104.200000</td>\n",
       "      <td>5114.920000</td>\n",
       "      <td>1.208280e+06</td>\n",
       "      <td>3.141731e+14</td>\n",
       "      <td>73714.500000</td>\n",
       "      <td>4.480182e+05</td>\n",
       "      <td>0.500900</td>\n",
       "    </tr>\n",
       "    <tr>\n",
       "      <th>max</th>\n",
       "      <td>9832.450000</td>\n",
       "      <td>9966.000000</td>\n",
       "      <td>9996.400000</td>\n",
       "      <td>9725.000000</td>\n",
       "      <td>9846.000000</td>\n",
       "      <td>9832.450000</td>\n",
       "      <td>9850.960000</td>\n",
       "      <td>3.516428e+07</td>\n",
       "      <td>4.878992e+15</td>\n",
       "      <td>407715.000000</td>\n",
       "      <td>8.537695e+06</td>\n",
       "      <td>1.000000</td>\n",
       "    </tr>\n",
       "  </tbody>\n",
       "</table>\n",
       "</div>"
      ],
      "text/plain": [
       "        Prev Close         Open         High          Low         Last  \\\n",
       "count  4427.000000  4427.000000  4427.000000  4427.000000  4427.000000   \n",
       "mean   2923.575085  2927.873074  2962.918432  2889.128066  2924.651604   \n",
       "std    2740.532701  2745.541243  2769.986950  2715.403311  2740.438635   \n",
       "min     125.000000   164.000000   168.700000   155.000000   164.000000   \n",
       "25%     822.525000   825.100000   840.000000   806.300000   823.025000   \n",
       "50%    1412.450000  1414.000000  1432.000000  1390.350000  1412.200000   \n",
       "75%    5097.350000  5100.000000  5192.050000  5006.025000  5104.500000   \n",
       "max    9832.450000  9966.000000  9996.400000  9725.000000  9846.000000   \n",
       "\n",
       "             Close         VWAP        Volume      Turnover         Trades  \\\n",
       "count  4427.000000  4427.000000  4.427000e+03  4.427000e+03    2456.000000   \n",
       "mean   2925.005094  2926.480642  1.194661e+06  2.395307e+14   55428.511808   \n",
       "std    2740.723734  2742.675329  1.637957e+06  2.935761e+14   44405.350898   \n",
       "min     164.300000   165.060000  2.279600e+04  2.131518e+12    1096.000000   \n",
       "25%     822.700000   823.435000  4.263710e+05  6.248277e+13   23089.500000   \n",
       "50%    1412.600000  1412.210000  6.909590e+05  1.121591e+14   44031.500000   \n",
       "75%    5104.200000  5114.920000  1.208280e+06  3.141731e+14   73714.500000   \n",
       "max    9832.450000  9850.960000  3.516428e+07  4.878992e+15  407715.000000   \n",
       "\n",
       "       Deliverable Volume  %Deliverble  \n",
       "count        4.426000e+03  4426.000000  \n",
       "mean         3.627677e+05     0.387391  \n",
       "std          3.681484e+05     0.157139  \n",
       "min          4.896000e+03     0.034300  \n",
       "25%          1.620018e+05     0.267600  \n",
       "50%          2.717160e+05     0.389900  \n",
       "75%          4.480182e+05     0.500900  \n",
       "max          8.537695e+06     1.000000  "
      ]
     },
     "execution_count": 515,
     "metadata": {},
     "output_type": "execute_result"
    }
   ],
   "source": [
    "stock.describe()"
   ]
  },
  {
   "cell_type": "code",
   "execution_count": 516,
   "id": "011a47e9",
   "metadata": {},
   "outputs": [],
   "source": [
    "# Ensure we are working with a copy of the DataFrame to avoid the SettingWithCopyWarning\n",
    "stock = stock.copy()"
   ]
  },
  {
   "cell_type": "code",
   "execution_count": 517,
   "id": "7758c824",
   "metadata": {},
   "outputs": [],
   "source": [
    "# Calculate HL_Perc and CO_Perc\n",
    "stock.loc[:, 'HL_Perc'] = (stock['High'] - stock['Low']) / stock['Low'] * 100\n",
    "stock.loc[:, 'CO_Perc'] = (stock['Close'] - stock['Open']) / stock['Open'] * 100"
   ]
  },
  {
   "cell_type": "code",
   "execution_count": 518,
   "id": "0bb9c198",
   "metadata": {},
   "outputs": [],
   "source": [
    "dates = np.array(stock[\"Date\"])\n",
    "dates_check = dates[-30:]\n",
    "dates = dates[:-30]"
   ]
  },
  {
   "cell_type": "code",
   "execution_count": 519,
   "id": "07901da7",
   "metadata": {},
   "outputs": [
    {
     "data": {
      "text/plain": [
       "Index(['Date', 'Symbol', 'Series', 'Prev Close', 'Open', 'High', 'Low', 'Last',\n",
       "       'Close', 'VWAP', 'Volume', 'Turnover', 'Trades', 'Deliverable Volume',\n",
       "       '%Deliverble', 'HL_Perc', 'CO_Perc'],\n",
       "      dtype='object')"
      ]
     },
     "execution_count": 519,
     "metadata": {},
     "output_type": "execute_result"
    }
   ],
   "source": [
    "stock.columns"
   ]
  },
  {
   "cell_type": "code",
   "execution_count": 520,
   "id": "75b07f7b",
   "metadata": {},
   "outputs": [],
   "source": [
    "stock = stock[[\"HL_Perc\", \"CO_Perc\", \"Close\", \"Volume\"]]"
   ]
  },
  {
   "cell_type": "code",
   "execution_count": 521,
   "id": "772db78e",
   "metadata": {},
   "outputs": [],
   "source": [
    "#Define the label column\n",
    "stock[\"PriceNextMonth\"] = stock[\"Close\"].shift(-30)"
   ]
  },
  {
   "cell_type": "code",
   "execution_count": 522,
   "id": "79011229",
   "metadata": {},
   "outputs": [
    {
     "data": {
      "text/html": [
       "<div>\n",
       "<style scoped>\n",
       "    .dataframe tbody tr th:only-of-type {\n",
       "        vertical-align: middle;\n",
       "    }\n",
       "\n",
       "    .dataframe tbody tr th {\n",
       "        vertical-align: top;\n",
       "    }\n",
       "\n",
       "    .dataframe thead th {\n",
       "        text-align: right;\n",
       "    }\n",
       "</style>\n",
       "<table border=\"1\" class=\"dataframe\">\n",
       "  <thead>\n",
       "    <tr style=\"text-align: right;\">\n",
       "      <th></th>\n",
       "      <th>HL_Perc</th>\n",
       "      <th>CO_Perc</th>\n",
       "      <th>Close</th>\n",
       "      <th>Volume</th>\n",
       "      <th>PriceNextMonth</th>\n",
       "    </tr>\n",
       "  </thead>\n",
       "  <tbody>\n",
       "    <tr>\n",
       "      <th>4422</th>\n",
       "      <td>2.863636</td>\n",
       "      <td>-0.766793</td>\n",
       "      <td>6638.90</td>\n",
       "      <td>937344</td>\n",
       "      <td>NaN</td>\n",
       "    </tr>\n",
       "    <tr>\n",
       "      <th>4423</th>\n",
       "      <td>2.552736</td>\n",
       "      <td>-1.517253</td>\n",
       "      <td>6568.75</td>\n",
       "      <td>1610651</td>\n",
       "      <td>NaN</td>\n",
       "    </tr>\n",
       "    <tr>\n",
       "      <th>4424</th>\n",
       "      <td>1.604278</td>\n",
       "      <td>0.076879</td>\n",
       "      <td>6573.80</td>\n",
       "      <td>1406270</td>\n",
       "      <td>NaN</td>\n",
       "    </tr>\n",
       "    <tr>\n",
       "      <th>4425</th>\n",
       "      <td>1.456807</td>\n",
       "      <td>-1.045215</td>\n",
       "      <td>6565.65</td>\n",
       "      <td>757075</td>\n",
       "      <td>NaN</td>\n",
       "    </tr>\n",
       "    <tr>\n",
       "      <th>4426</th>\n",
       "      <td>2.158542</td>\n",
       "      <td>-1.245965</td>\n",
       "      <td>6455.65</td>\n",
       "      <td>849997</td>\n",
       "      <td>NaN</td>\n",
       "    </tr>\n",
       "  </tbody>\n",
       "</table>\n",
       "</div>"
      ],
      "text/plain": [
       "       HL_Perc   CO_Perc    Close   Volume  PriceNextMonth\n",
       "4422  2.863636 -0.766793  6638.90   937344             NaN\n",
       "4423  2.552736 -1.517253  6568.75  1610651             NaN\n",
       "4424  1.604278  0.076879  6573.80  1406270             NaN\n",
       "4425  1.456807 -1.045215  6565.65   757075             NaN\n",
       "4426  2.158542 -1.245965  6455.65   849997             NaN"
      ]
     },
     "execution_count": 522,
     "metadata": {},
     "output_type": "execute_result"
    }
   ],
   "source": [
    "stock.tail()"
   ]
  },
  {
   "cell_type": "code",
   "execution_count": 523,
   "id": "c687b99c",
   "metadata": {},
   "outputs": [
    {
     "name": "stderr",
     "output_type": "stream",
     "text": [
      "C:\\Users\\suresh\\AppData\\Local\\Temp\\ipykernel_17924\\459189850.py:2: FutureWarning: In a future version of pandas all arguments of DataFrame.drop except for the argument 'labels' will be keyword-only.\n",
      "  X = np.array(stock.drop([\"PriceNextMonth\"], 1))\n"
     ]
    }
   ],
   "source": [
    "#Make fetaure and label arrays\n",
    "X = np.array(stock.drop([\"PriceNextMonth\"], 1))\n",
    "X = preprocessing.scale(X)\n",
    "X_Check = X[-30:]\n",
    "X = X[:-30]\n",
    "stock.dropna(inplace = True)\n",
    "y = np.array(stock[\"PriceNextMonth\"])"
   ]
  },
  {
   "cell_type": "code",
   "execution_count": 524,
   "id": "381f2472",
   "metadata": {},
   "outputs": [],
   "source": [
    "#Divide the data set into training data and testing data\n",
    "X_train, X_test, y_train, y_test = train_test_split(X,y,test_size = 0.2)"
   ]
  },
  {
   "cell_type": "code",
   "execution_count": 525,
   "id": "489c08a2",
   "metadata": {},
   "outputs": [],
   "source": [
    "#Define the prediction model\n",
    "model = RandomForestRegressor()"
   ]
  },
  {
   "cell_type": "code",
   "execution_count": 526,
   "id": "74ff8cec",
   "metadata": {},
   "outputs": [
    {
     "data": {
      "text/plain": [
       "RandomForestRegressor()"
      ]
     },
     "execution_count": 526,
     "metadata": {},
     "output_type": "execute_result"
    }
   ],
   "source": [
    "#Fit the model using training data\n",
    "model.fit(X_train, y_train)"
   ]
  },
  {
   "cell_type": "code",
   "execution_count": 527,
   "id": "520c0372",
   "metadata": {},
   "outputs": [
    {
     "name": "stdout",
     "output_type": "stream",
     "text": [
      "0.9842407526220599\n"
     ]
    }
   ],
   "source": [
    "#Calculate the confidence value by applying the model to testing data\n",
    "conf = model.score(X_test, y_test)\n",
    "print(conf)"
   ]
  },
  {
   "cell_type": "code",
   "execution_count": 528,
   "id": "b9381393",
   "metadata": {},
   "outputs": [
    {
     "data": {
      "text/plain": [
       "RandomForestRegressor()"
      ]
     },
     "execution_count": 528,
     "metadata": {},
     "output_type": "execute_result"
    }
   ],
   "source": [
    "#Fit the model again using the whole data set\n",
    "model.fit(X,y)"
   ]
  },
  {
   "cell_type": "code",
   "execution_count": 529,
   "id": "4990c67a",
   "metadata": {},
   "outputs": [],
   "source": [
    "predictions = model.predict(X_Check)"
   ]
  },
  {
   "cell_type": "code",
   "execution_count": 530,
   "id": "c0d5a9e2",
   "metadata": {},
   "outputs": [],
   "source": [
    "#Make the final DataFrame containing Dates, ClosePrices, and Forecast values\n",
    "actual = pd.DataFrame(dates, columns = [\"Date\"])\n",
    "actual[\"ClosePrice\"] = stock[\"Close\"]\n",
    "actual[\"Forecast\"] = np.nan\n",
    "actual.set_index(\"Date\", inplace = True)\n",
    "forecast = pd.DataFrame(dates_check, columns=[\"Date\"])\n",
    "forecast[\"Forecast\"] = predictions\n",
    "forecast[\"ClosePrice\"] = np.nan\n",
    "forecast.set_index(\"Date\", inplace = True)\n",
    "var = [actual, forecast]\n",
    "result = pd.concat(var)  #This is the final DataFrame"
   ]
  },
  {
   "cell_type": "code",
   "execution_count": 531,
   "id": "45722829",
   "metadata": {},
   "outputs": [
    {
     "data": {
      "text/plain": [
       "Text(0, 0.5, 'Price')"
      ]
     },
     "execution_count": 531,
     "metadata": {},
     "output_type": "execute_result"
    },
    {
     "data": {
      "image/png": "[encoded data removed]",
      "text/plain": [
       "<Figure size 2000x1000 with 1 Axes>"
      ]
     },
     "metadata": {},
     "output_type": "display_data"
    }
   ],
   "source": [
    "#Plot the final results\n",
    "result.plot(figsize=(20,10), linewidth=1.5)\n",
    "plt.legend(loc=2, prop={'size':20})\n",
    "plt.xlabel('Date')\n",
    "plt.ylabel('Price')"
   ]
  },
  {
   "cell_type": "code",
   "execution_count": null,
   "id": "e099aee8",
   "metadata": {},
   "outputs": [],
   "source": []
  },
  {
   "cell_type": "code",
   "execution_count": null,
   "id": "58b22526",
   "metadata": {},
   "outputs": [],
   "source": []
  }
 ],
 "metadata": {
  "kernelspec": {
   "display_name": "Python 3 (ipykernel)",
   "language": "python",
   "name": "python3"
  },
  "language_info": {
   "codemirror_mode": {
    "name": "ipython",
    "version": 3
   },
   "file_extension": ".py",
   "mimetype": "text/x-python",
   "name": "python",
   "nbconvert_exporter": "python",
   "pygments_lexer": "ipython3",
   "version": "3.9.13"
  }
 },
 "nbformat": 4,
 "nbformat_minor": 5
}
