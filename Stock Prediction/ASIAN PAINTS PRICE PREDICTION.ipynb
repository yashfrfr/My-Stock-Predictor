{
 "cells": [
  {
   "cell_type": "code",
   "execution_count": 1,
   "id": "5a20ead1",
   "metadata": {},
   "outputs": [],
   "source": [
    "#Import the libraries\n",
    "import pandas as pd \n",
    "import numpy as np \n",
    "import matplotlib.pyplot as plt \n",
    "from sklearn import preprocessing\n",
    "from sklearn.ensemble import RandomForestRegressor\n",
    "from sklearn.model_selection import train_test_split\n",
    "from sklearn.metrics import mean_absolute_error, r2_score"
   ]
  },
  {
   "cell_type": "code",
   "execution_count": 22,
   "id": "1ebabd9c",
   "metadata": {},
   "outputs": [],
   "source": [
    "stock = pd.read_csv(\"C:/Users/suresh/Desktop/PYTHON ML DATA SCIENCE/Stock Prediction/Stock Data/ASIANPAINT.csv\")"
   ]
  },
  {
   "cell_type": "code",
   "execution_count": 23,
   "id": "b4a873d4",
   "metadata": {},
   "outputs": [
    {
     "data": {
      "text/html": [
       "<div>\n",
       "<style scoped>\n",
       "    .dataframe tbody tr th:only-of-type {\n",
       "        vertical-align: middle;\n",
       "    }\n",
       "\n",
       "    .dataframe tbody tr th {\n",
       "        vertical-align: top;\n",
       "    }\n",
       "\n",
       "    .dataframe thead th {\n",
       "        text-align: right;\n",
       "    }\n",
       "</style>\n",
       "<table border=\"1\" class=\"dataframe\">\n",
       "  <thead>\n",
       "    <tr style=\"text-align: right;\">\n",
       "      <th></th>\n",
       "      <th>Date</th>\n",
       "      <th>Symbol</th>\n",
       "      <th>Series</th>\n",
       "      <th>Prev Close</th>\n",
       "      <th>Open</th>\n",
       "      <th>High</th>\n",
       "      <th>Low</th>\n",
       "      <th>Last</th>\n",
       "      <th>Close</th>\n",
       "      <th>VWAP</th>\n",
       "      <th>Volume</th>\n",
       "      <th>Turnover</th>\n",
       "      <th>Trades</th>\n",
       "      <th>Deliverable Volume</th>\n",
       "      <th>%Deliverble</th>\n",
       "    </tr>\n",
       "  </thead>\n",
       "  <tbody>\n",
       "    <tr>\n",
       "      <th>0</th>\n",
       "      <td>2000-01-03</td>\n",
       "      <td>ASIANPAINT</td>\n",
       "      <td>EQ</td>\n",
       "      <td>361.20</td>\n",
       "      <td>370.0</td>\n",
       "      <td>390.0</td>\n",
       "      <td>370.0</td>\n",
       "      <td>385.0</td>\n",
       "      <td>381.65</td>\n",
       "      <td>380.54</td>\n",
       "      <td>3318</td>\n",
       "      <td>1.262617e+11</td>\n",
       "      <td>NaN</td>\n",
       "      <td>NaN</td>\n",
       "      <td>NaN</td>\n",
       "    </tr>\n",
       "    <tr>\n",
       "      <th>1</th>\n",
       "      <td>2000-01-04</td>\n",
       "      <td>ASIANPAINT</td>\n",
       "      <td>EQ</td>\n",
       "      <td>381.65</td>\n",
       "      <td>380.0</td>\n",
       "      <td>392.0</td>\n",
       "      <td>375.0</td>\n",
       "      <td>390.0</td>\n",
       "      <td>385.55</td>\n",
       "      <td>383.50</td>\n",
       "      <td>4818</td>\n",
       "      <td>1.847699e+11</td>\n",
       "      <td>NaN</td>\n",
       "      <td>NaN</td>\n",
       "      <td>NaN</td>\n",
       "    </tr>\n",
       "    <tr>\n",
       "      <th>2</th>\n",
       "      <td>2000-01-05</td>\n",
       "      <td>ASIANPAINT</td>\n",
       "      <td>EQ</td>\n",
       "      <td>385.55</td>\n",
       "      <td>371.5</td>\n",
       "      <td>390.0</td>\n",
       "      <td>371.5</td>\n",
       "      <td>383.0</td>\n",
       "      <td>383.00</td>\n",
       "      <td>379.81</td>\n",
       "      <td>2628</td>\n",
       "      <td>9.981384e+10</td>\n",
       "      <td>NaN</td>\n",
       "      <td>NaN</td>\n",
       "      <td>NaN</td>\n",
       "    </tr>\n",
       "    <tr>\n",
       "      <th>3</th>\n",
       "      <td>2000-01-06</td>\n",
       "      <td>ASIANPAINT</td>\n",
       "      <td>EQ</td>\n",
       "      <td>383.00</td>\n",
       "      <td>384.9</td>\n",
       "      <td>384.9</td>\n",
       "      <td>374.5</td>\n",
       "      <td>375.1</td>\n",
       "      <td>377.50</td>\n",
       "      <td>379.88</td>\n",
       "      <td>3354</td>\n",
       "      <td>1.274114e+11</td>\n",
       "      <td>NaN</td>\n",
       "      <td>NaN</td>\n",
       "      <td>NaN</td>\n",
       "    </tr>\n",
       "    <tr>\n",
       "      <th>4</th>\n",
       "      <td>2000-01-07</td>\n",
       "      <td>ASIANPAINT</td>\n",
       "      <td>EQ</td>\n",
       "      <td>377.50</td>\n",
       "      <td>376.0</td>\n",
       "      <td>390.0</td>\n",
       "      <td>370.0</td>\n",
       "      <td>389.0</td>\n",
       "      <td>385.70</td>\n",
       "      <td>383.38</td>\n",
       "      <td>9589</td>\n",
       "      <td>3.676275e+11</td>\n",
       "      <td>NaN</td>\n",
       "      <td>NaN</td>\n",
       "      <td>NaN</td>\n",
       "    </tr>\n",
       "  </tbody>\n",
       "</table>\n",
       "</div>"
      ],
      "text/plain": [
       "         Date      Symbol Series  Prev Close   Open   High    Low   Last  \\\n",
       "0  2000-01-03  ASIANPAINT     EQ      361.20  370.0  390.0  370.0  385.0   \n",
       "1  2000-01-04  ASIANPAINT     EQ      381.65  380.0  392.0  375.0  390.0   \n",
       "2  2000-01-05  ASIANPAINT     EQ      385.55  371.5  390.0  371.5  383.0   \n",
       "3  2000-01-06  ASIANPAINT     EQ      383.00  384.9  384.9  374.5  375.1   \n",
       "4  2000-01-07  ASIANPAINT     EQ      377.50  376.0  390.0  370.0  389.0   \n",
       "\n",
       "    Close    VWAP  Volume      Turnover  Trades  Deliverable Volume  \\\n",
       "0  381.65  380.54    3318  1.262617e+11     NaN                 NaN   \n",
       "1  385.55  383.50    4818  1.847699e+11     NaN                 NaN   \n",
       "2  383.00  379.81    2628  9.981384e+10     NaN                 NaN   \n",
       "3  377.50  379.88    3354  1.274114e+11     NaN                 NaN   \n",
       "4  385.70  383.38    9589  3.676275e+11     NaN                 NaN   \n",
       "\n",
       "   %Deliverble  \n",
       "0          NaN  \n",
       "1          NaN  \n",
       "2          NaN  \n",
       "3          NaN  \n",
       "4          NaN  "
      ]
     },
     "execution_count": 23,
     "metadata": {},
     "output_type": "execute_result"
    }
   ],
   "source": [
    "stock.head()"
   ]
  },
  {
   "cell_type": "code",
   "execution_count": 24,
   "id": "564201f0",
   "metadata": {},
   "outputs": [
    {
     "name": "stdout",
     "output_type": "stream",
     "text": [
      "<class 'pandas.core.frame.DataFrame'>\n",
      "RangeIndex: 5306 entries, 0 to 5305\n",
      "Data columns (total 15 columns):\n",
      " #   Column              Non-Null Count  Dtype  \n",
      "---  ------              --------------  -----  \n",
      " 0   Date                5306 non-null   object \n",
      " 1   Symbol              5306 non-null   object \n",
      " 2   Series              5306 non-null   object \n",
      " 3   Prev Close          5306 non-null   float64\n",
      " 4   Open                5306 non-null   float64\n",
      " 5   High                5306 non-null   float64\n",
      " 6   Low                 5306 non-null   float64\n",
      " 7   Last                5306 non-null   float64\n",
      " 8   Close               5306 non-null   float64\n",
      " 9   VWAP                5306 non-null   float64\n",
      " 10  Volume              5306 non-null   int64  \n",
      " 11  Turnover            5306 non-null   float64\n",
      " 12  Trades              2456 non-null   float64\n",
      " 13  Deliverable Volume  4797 non-null   float64\n",
      " 14  %Deliverble         4797 non-null   float64\n",
      "dtypes: float64(11), int64(1), object(3)\n",
      "memory usage: 621.9+ KB\n"
     ]
    }
   ],
   "source": [
    "stock.info()"
   ]
  },
  {
   "cell_type": "code",
   "execution_count": 25,
   "id": "c9d711dd",
   "metadata": {},
   "outputs": [
    {
     "data": {
      "text/html": [
       "<div>\n",
       "<style scoped>\n",
       "    .dataframe tbody tr th:only-of-type {\n",
       "        vertical-align: middle;\n",
       "    }\n",
       "\n",
       "    .dataframe tbody tr th {\n",
       "        vertical-align: top;\n",
       "    }\n",
       "\n",
       "    .dataframe thead th {\n",
       "        text-align: right;\n",
       "    }\n",
       "</style>\n",
       "<table border=\"1\" class=\"dataframe\">\n",
       "  <thead>\n",
       "    <tr style=\"text-align: right;\">\n",
       "      <th></th>\n",
       "      <th>Prev Close</th>\n",
       "      <th>Open</th>\n",
       "      <th>High</th>\n",
       "      <th>Low</th>\n",
       "      <th>Last</th>\n",
       "      <th>Close</th>\n",
       "      <th>VWAP</th>\n",
       "      <th>Volume</th>\n",
       "      <th>Turnover</th>\n",
       "      <th>Trades</th>\n",
       "      <th>Deliverable Volume</th>\n",
       "      <th>%Deliverble</th>\n",
       "    </tr>\n",
       "  </thead>\n",
       "  <tbody>\n",
       "    <tr>\n",
       "      <th>count</th>\n",
       "      <td>5306.000000</td>\n",
       "      <td>5306.000000</td>\n",
       "      <td>5306.000000</td>\n",
       "      <td>5306.000000</td>\n",
       "      <td>5306.000000</td>\n",
       "      <td>5306.000000</td>\n",
       "      <td>5306.000000</td>\n",
       "      <td>5.306000e+03</td>\n",
       "      <td>5.306000e+03</td>\n",
       "      <td>2456.000000</td>\n",
       "      <td>4.797000e+03</td>\n",
       "      <td>4797.000000</td>\n",
       "    </tr>\n",
       "    <tr>\n",
       "      <th>mean</th>\n",
       "      <td>1247.000952</td>\n",
       "      <td>1247.683952</td>\n",
       "      <td>1264.625349</td>\n",
       "      <td>1230.900697</td>\n",
       "      <td>1247.317132</td>\n",
       "      <td>1247.410903</td>\n",
       "      <td>1247.799926</td>\n",
       "      <td>5.096721e+05</td>\n",
       "      <td>6.942919e+13</td>\n",
       "      <td>41346.011401</td>\n",
       "      <td>2.751281e+05</td>\n",
       "      <td>0.625572</td>\n",
       "    </tr>\n",
       "    <tr>\n",
       "      <th>std</th>\n",
       "      <td>1074.399506</td>\n",
       "      <td>1074.025577</td>\n",
       "      <td>1087.238871</td>\n",
       "      <td>1062.629409</td>\n",
       "      <td>1074.432667</td>\n",
       "      <td>1074.476439</td>\n",
       "      <td>1075.057438</td>\n",
       "      <td>8.535993e+05</td>\n",
       "      <td>1.443973e+14</td>\n",
       "      <td>36435.449733</td>\n",
       "      <td>4.157465e+05</td>\n",
       "      <td>0.187597</td>\n",
       "    </tr>\n",
       "    <tr>\n",
       "      <th>min</th>\n",
       "      <td>210.750000</td>\n",
       "      <td>210.000000</td>\n",
       "      <td>215.750000</td>\n",
       "      <td>204.000000</td>\n",
       "      <td>210.600000</td>\n",
       "      <td>210.750000</td>\n",
       "      <td>212.220000</td>\n",
       "      <td>2.500000e+01</td>\n",
       "      <td>1.278415e+09</td>\n",
       "      <td>70.000000</td>\n",
       "      <td>2.500000e+01</td>\n",
       "      <td>0.076800</td>\n",
       "    </tr>\n",
       "    <tr>\n",
       "      <th>25%</th>\n",
       "      <td>415.737500</td>\n",
       "      <td>415.000000</td>\n",
       "      <td>424.950000</td>\n",
       "      <td>410.000000</td>\n",
       "      <td>416.000000</td>\n",
       "      <td>416.262500</td>\n",
       "      <td>415.692500</td>\n",
       "      <td>1.370750e+04</td>\n",
       "      <td>7.538133e+11</td>\n",
       "      <td>16264.750000</td>\n",
       "      <td>1.262200e+04</td>\n",
       "      <td>0.486200</td>\n",
       "    </tr>\n",
       "    <tr>\n",
       "      <th>50%</th>\n",
       "      <td>889.375000</td>\n",
       "      <td>890.000000</td>\n",
       "      <td>903.975000</td>\n",
       "      <td>878.075000</td>\n",
       "      <td>890.000000</td>\n",
       "      <td>889.475000</td>\n",
       "      <td>888.350000</td>\n",
       "      <td>5.713600e+04</td>\n",
       "      <td>1.109437e+13</td>\n",
       "      <td>32402.500000</td>\n",
       "      <td>5.273800e+04</td>\n",
       "      <td>0.616100</td>\n",
       "    </tr>\n",
       "    <tr>\n",
       "      <th>75%</th>\n",
       "      <td>1599.037500</td>\n",
       "      <td>1599.800000</td>\n",
       "      <td>1629.675000</td>\n",
       "      <td>1573.037500</td>\n",
       "      <td>1602.500000</td>\n",
       "      <td>1600.762500</td>\n",
       "      <td>1600.982500</td>\n",
       "      <td>8.077905e+05</td>\n",
       "      <td>7.761479e+13</td>\n",
       "      <td>54727.500000</td>\n",
       "      <td>4.383750e+05</td>\n",
       "      <td>0.765500</td>\n",
       "    </tr>\n",
       "    <tr>\n",
       "      <th>max</th>\n",
       "      <td>5213.100000</td>\n",
       "      <td>5221.100000</td>\n",
       "      <td>5247.750000</td>\n",
       "      <td>5150.050000</td>\n",
       "      <td>5221.100000</td>\n",
       "      <td>5213.100000</td>\n",
       "      <td>5175.790000</td>\n",
       "      <td>1.154594e+07</td>\n",
       "      <td>2.216650e+15</td>\n",
       "      <td>351347.000000</td>\n",
       "      <td>7.938427e+06</td>\n",
       "      <td>1.000000</td>\n",
       "    </tr>\n",
       "  </tbody>\n",
       "</table>\n",
       "</div>"
      ],
      "text/plain": [
       "        Prev Close         Open         High          Low         Last  \\\n",
       "count  5306.000000  5306.000000  5306.000000  5306.000000  5306.000000   \n",
       "mean   1247.000952  1247.683952  1264.625349  1230.900697  1247.317132   \n",
       "std    1074.399506  1074.025577  1087.238871  1062.629409  1074.432667   \n",
       "min     210.750000   210.000000   215.750000   204.000000   210.600000   \n",
       "25%     415.737500   415.000000   424.950000   410.000000   416.000000   \n",
       "50%     889.375000   890.000000   903.975000   878.075000   890.000000   \n",
       "75%    1599.037500  1599.800000  1629.675000  1573.037500  1602.500000   \n",
       "max    5213.100000  5221.100000  5247.750000  5150.050000  5221.100000   \n",
       "\n",
       "             Close         VWAP        Volume      Turnover         Trades  \\\n",
       "count  5306.000000  5306.000000  5.306000e+03  5.306000e+03    2456.000000   \n",
       "mean   1247.410903  1247.799926  5.096721e+05  6.942919e+13   41346.011401   \n",
       "std    1074.476439  1075.057438  8.535993e+05  1.443973e+14   36435.449733   \n",
       "min     210.750000   212.220000  2.500000e+01  1.278415e+09      70.000000   \n",
       "25%     416.262500   415.692500  1.370750e+04  7.538133e+11   16264.750000   \n",
       "50%     889.475000   888.350000  5.713600e+04  1.109437e+13   32402.500000   \n",
       "75%    1600.762500  1600.982500  8.077905e+05  7.761479e+13   54727.500000   \n",
       "max    5213.100000  5175.790000  1.154594e+07  2.216650e+15  351347.000000   \n",
       "\n",
       "       Deliverable Volume  %Deliverble  \n",
       "count        4.797000e+03  4797.000000  \n",
       "mean         2.751281e+05     0.625572  \n",
       "std          4.157465e+05     0.187597  \n",
       "min          2.500000e+01     0.076800  \n",
       "25%          1.262200e+04     0.486200  \n",
       "50%          5.273800e+04     0.616100  \n",
       "75%          4.383750e+05     0.765500  \n",
       "max          7.938427e+06     1.000000  "
      ]
     },
     "execution_count": 25,
     "metadata": {},
     "output_type": "execute_result"
    }
   ],
   "source": [
    "stock.describe()"
   ]
  },
  {
   "cell_type": "code",
   "execution_count": 26,
   "id": "011a47e9",
   "metadata": {},
   "outputs": [],
   "source": [
    "# Ensure we are working with a copy of the DataFrame to avoid the SettingWithCopyWarning\n",
    "stock = stock.copy()"
   ]
  },
  {
   "cell_type": "code",
   "execution_count": 27,
   "id": "7758c824",
   "metadata": {},
   "outputs": [],
   "source": [
    "# Calculate HL_Perc and CO_Perc\n",
    "stock.loc[:, 'HL_Perc'] = (stock['High'] - stock['Low']) / stock['Low'] * 100\n",
    "stock.loc[:, 'CO_Perc'] = (stock['Close'] - stock['Open']) / stock['Open'] * 100"
   ]
  },
  {
   "cell_type": "code",
   "execution_count": 28,
   "id": "0bb9c198",
   "metadata": {},
   "outputs": [],
   "source": [
    "dates = np.array(stock[\"Date\"])\n",
    "dates_check = dates[-30:]\n",
    "dates = dates[:-30]"
   ]
  },
  {
   "cell_type": "code",
   "execution_count": 29,
   "id": "07901da7",
   "metadata": {},
   "outputs": [
    {
     "data": {
      "text/plain": [
       "Index(['Date', 'Symbol', 'Series', 'Prev Close', 'Open', 'High', 'Low', 'Last',\n",
       "       'Close', 'VWAP', 'Volume', 'Turnover', 'Trades', 'Deliverable Volume',\n",
       "       '%Deliverble', 'HL_Perc', 'CO_Perc'],\n",
       "      dtype='object')"
      ]
     },
     "execution_count": 29,
     "metadata": {},
     "output_type": "execute_result"
    }
   ],
   "source": [
    "stock.columns"
   ]
  },
  {
   "cell_type": "code",
   "execution_count": 30,
   "id": "75b07f7b",
   "metadata": {},
   "outputs": [],
   "source": [
    "stock = stock[[\"HL_Perc\", \"CO_Perc\", \"Close\", \"Volume\"]]"
   ]
  },
  {
   "cell_type": "code",
   "execution_count": 31,
   "id": "772db78e",
   "metadata": {},
   "outputs": [],
   "source": [
    "#Define the label column\n",
    "stock[\"PriceNextMonth\"] = stock[\"Close\"].shift(-30)"
   ]
  },
  {
   "cell_type": "code",
   "execution_count": 32,
   "id": "79011229",
   "metadata": {},
   "outputs": [
    {
     "data": {
      "text/html": [
       "<div>\n",
       "<style scoped>\n",
       "    .dataframe tbody tr th:only-of-type {\n",
       "        vertical-align: middle;\n",
       "    }\n",
       "\n",
       "    .dataframe tbody tr th {\n",
       "        vertical-align: top;\n",
       "    }\n",
       "\n",
       "    .dataframe thead th {\n",
       "        text-align: right;\n",
       "    }\n",
       "</style>\n",
       "<table border=\"1\" class=\"dataframe\">\n",
       "  <thead>\n",
       "    <tr style=\"text-align: right;\">\n",
       "      <th></th>\n",
       "      <th>HL_Perc</th>\n",
       "      <th>CO_Perc</th>\n",
       "      <th>Close</th>\n",
       "      <th>Volume</th>\n",
       "      <th>PriceNextMonth</th>\n",
       "    </tr>\n",
       "  </thead>\n",
       "  <tbody>\n",
       "    <tr>\n",
       "      <th>5301</th>\n",
       "      <td>1.778656</td>\n",
       "      <td>1.102767</td>\n",
       "      <td>2557.90</td>\n",
       "      <td>1103980</td>\n",
       "      <td>NaN</td>\n",
       "    </tr>\n",
       "    <tr>\n",
       "      <th>5302</th>\n",
       "      <td>1.811365</td>\n",
       "      <td>1.153242</td>\n",
       "      <td>2574.35</td>\n",
       "      <td>866331</td>\n",
       "      <td>NaN</td>\n",
       "    </tr>\n",
       "    <tr>\n",
       "      <th>5303</th>\n",
       "      <td>1.757282</td>\n",
       "      <td>1.025889</td>\n",
       "      <td>2614.55</td>\n",
       "      <td>1065561</td>\n",
       "      <td>NaN</td>\n",
       "    </tr>\n",
       "    <tr>\n",
       "      <th>5304</th>\n",
       "      <td>2.801556</td>\n",
       "      <td>-0.629278</td>\n",
       "      <td>2613.45</td>\n",
       "      <td>1295346</td>\n",
       "      <td>NaN</td>\n",
       "    </tr>\n",
       "    <tr>\n",
       "      <th>5305</th>\n",
       "      <td>3.238842</td>\n",
       "      <td>-2.258189</td>\n",
       "      <td>2536.40</td>\n",
       "      <td>1384907</td>\n",
       "      <td>NaN</td>\n",
       "    </tr>\n",
       "  </tbody>\n",
       "</table>\n",
       "</div>"
      ],
      "text/plain": [
       "       HL_Perc   CO_Perc    Close   Volume  PriceNextMonth\n",
       "5301  1.778656  1.102767  2557.90  1103980             NaN\n",
       "5302  1.811365  1.153242  2574.35   866331             NaN\n",
       "5303  1.757282  1.025889  2614.55  1065561             NaN\n",
       "5304  2.801556 -0.629278  2613.45  1295346             NaN\n",
       "5305  3.238842 -2.258189  2536.40  1384907             NaN"
      ]
     },
     "execution_count": 32,
     "metadata": {},
     "output_type": "execute_result"
    }
   ],
   "source": [
    "stock.tail()"
   ]
  },
  {
   "cell_type": "code",
   "execution_count": 33,
   "id": "c687b99c",
   "metadata": {},
   "outputs": [
    {
     "name": "stderr",
     "output_type": "stream",
     "text": [
      "C:\\Users\\suresh\\AppData\\Local\\Temp\\ipykernel_22436\\459189850.py:2: FutureWarning: In a future version of pandas all arguments of DataFrame.drop except for the argument 'labels' will be keyword-only.\n",
      "  X = np.array(stock.drop([\"PriceNextMonth\"], 1))\n"
     ]
    }
   ],
   "source": [
    "#Make fetaure and label arrays\n",
    "X = np.array(stock.drop([\"PriceNextMonth\"], 1))\n",
    "X = preprocessing.scale(X)\n",
    "X_Check = X[-30:]\n",
    "X = X[:-30]\n",
    "stock.dropna(inplace = True)\n",
    "y = np.array(stock[\"PriceNextMonth\"])"
   ]
  },
  {
   "cell_type": "code",
   "execution_count": 34,
   "id": "381f2472",
   "metadata": {},
   "outputs": [],
   "source": [
    "#Divide the data set into training data and testing data\n",
    "X_train, X_test, y_train, y_test = train_test_split(X,y,test_size = 0.2)"
   ]
  },
  {
   "cell_type": "code",
   "execution_count": 35,
   "id": "489c08a2",
   "metadata": {},
   "outputs": [],
   "source": [
    "#Define the prediction model\n",
    "model = RandomForestRegressor()"
   ]
  },
  {
   "cell_type": "code",
   "execution_count": 36,
   "id": "74ff8cec",
   "metadata": {},
   "outputs": [
    {
     "data": {
      "text/plain": [
       "RandomForestRegressor()"
      ]
     },
     "execution_count": 36,
     "metadata": {},
     "output_type": "execute_result"
    }
   ],
   "source": [
    "#Fit the model using training data\n",
    "model.fit(X_train, y_train)"
   ]
  },
  {
   "cell_type": "code",
   "execution_count": 37,
   "id": "520c0372",
   "metadata": {},
   "outputs": [
    {
     "name": "stdout",
     "output_type": "stream",
     "text": [
      "0.8875141935760822\n"
     ]
    }
   ],
   "source": [
    "#Calculate the confidence value by applying the model to testing data\n",
    "conf = model.score(X_test, y_test)\n",
    "print(conf)"
   ]
  },
  {
   "cell_type": "code",
   "execution_count": 38,
   "id": "b9381393",
   "metadata": {},
   "outputs": [
    {
     "data": {
      "text/plain": [
       "RandomForestRegressor()"
      ]
     },
     "execution_count": 38,
     "metadata": {},
     "output_type": "execute_result"
    }
   ],
   "source": [
    "#Fit the model again using the whole data set\n",
    "model.fit(X,y)"
   ]
  },
  {
   "cell_type": "code",
   "execution_count": 39,
   "id": "4990c67a",
   "metadata": {},
   "outputs": [],
   "source": [
    "predictions = model.predict(X_Check)"
   ]
  },
  {
   "cell_type": "code",
   "execution_count": 40,
   "id": "c0d5a9e2",
   "metadata": {},
   "outputs": [],
   "source": [
    "#Make the final DataFrame containing Dates, ClosePrices, and Forecast values\n",
    "actual = pd.DataFrame(dates, columns = [\"Date\"])\n",
    "actual[\"ClosePrice\"] = stock[\"Close\"]\n",
    "actual[\"Forecast\"] = np.nan\n",
    "actual.set_index(\"Date\", inplace = True)\n",
    "forecast = pd.DataFrame(dates_check, columns=[\"Date\"])\n",
    "forecast[\"Forecast\"] = predictions\n",
    "forecast[\"ClosePrice\"] = np.nan\n",
    "forecast.set_index(\"Date\", inplace = True)\n",
    "var = [actual, forecast]\n",
    "result = pd.concat(var)  #This is the final DataFrame"
   ]
  },
  {
   "cell_type": "code",
   "execution_count": 41,
   "id": "45722829",
   "metadata": {},
   "outputs": [
    {
     "data": {
      "text/plain": [
       "Text(0, 0.5, 'Price')"
      ]
     },
     "execution_count": 41,
     "metadata": {},
     "output_type": "execute_result"
    },
    {
     "data": {
      "image/png": "[encoded data removed]",
      "text/plain": [
       "<Figure size 2000x1000 with 1 Axes>"
      ]
     },
     "metadata": {},
     "output_type": "display_data"
    }
   ],
   "source": [
    "#Plot the final results\n",
    "result.plot(figsize=(20,10), linewidth=1.5)\n",
    "plt.legend(loc=2, prop={'size':20})\n",
    "plt.xlabel('Date')\n",
    "plt.ylabel('Price')"
   ]
  },
  {
   "cell_type": "code",
   "execution_count": null,
   "id": "e099aee8",
   "metadata": {},
   "outputs": [],
   "source": []
  }
 ],
 "metadata": {
  "kernelspec": {
   "display_name": "Python 3 (ipykernel)",
   "language": "python",
   "name": "python3"
  },
  "language_info": {
   "codemirror_mode": {
    "name": "ipython",
    "version": 3
   },
   "file_extension": ".py",
   "mimetype": "text/x-python",
   "name": "python",
   "nbconvert_exporter": "python",
   "pygments_lexer": "ipython3",
   "version": "3.9.13"
  }
 },
 "nbformat": 4,
 "nbformat_minor": 5
}
