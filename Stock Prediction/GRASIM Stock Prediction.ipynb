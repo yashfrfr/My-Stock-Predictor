{
 "cells": [
  {
   "cell_type": "code",
   "execution_count": 2,
   "id": "5a20ead1",
   "metadata": {},
   "outputs": [],
   "source": [
    "#Import the libraries\n",
    "import pandas as pd \n",
    "import numpy as np \n",
    "import matplotlib.pyplot as plt \n",
    "from sklearn import preprocessing\n",
    "from sklearn.ensemble import RandomForestRegressor\n",
    "from sklearn.model_selection import train_test_split\n",
    "from sklearn.metrics import mean_absolute_error, r2_score"
   ]
  },
  {
   "cell_type": "code",
   "execution_count": 203,
   "id": "1ebabd9c",
   "metadata": {},
   "outputs": [],
   "source": [
    "stock = pd.read_csv(\"C:/Users/suresh/Desktop/PYTHON ML DATA SCIENCE/Stock Prediction/Stock Data/GRASIM.csv\")"
   ]
  },
  {
   "cell_type": "code",
   "execution_count": 204,
   "id": "b4a873d4",
   "metadata": {},
   "outputs": [
    {
     "data": {
      "text/html": [
       "<div>\n",
       "<style scoped>\n",
       "    .dataframe tbody tr th:only-of-type {\n",
       "        vertical-align: middle;\n",
       "    }\n",
       "\n",
       "    .dataframe tbody tr th {\n",
       "        vertical-align: top;\n",
       "    }\n",
       "\n",
       "    .dataframe thead th {\n",
       "        text-align: right;\n",
       "    }\n",
       "</style>\n",
       "<table border=\"1\" class=\"dataframe\">\n",
       "  <thead>\n",
       "    <tr style=\"text-align: right;\">\n",
       "      <th></th>\n",
       "      <th>Date</th>\n",
       "      <th>Symbol</th>\n",
       "      <th>Series</th>\n",
       "      <th>Prev Close</th>\n",
       "      <th>Open</th>\n",
       "      <th>High</th>\n",
       "      <th>Low</th>\n",
       "      <th>Last</th>\n",
       "      <th>Close</th>\n",
       "      <th>VWAP</th>\n",
       "      <th>Volume</th>\n",
       "      <th>Turnover</th>\n",
       "      <th>Trades</th>\n",
       "      <th>Deliverable Volume</th>\n",
       "      <th>%Deliverble</th>\n",
       "    </tr>\n",
       "  </thead>\n",
       "  <tbody>\n",
       "    <tr>\n",
       "      <th>0</th>\n",
       "      <td>2000-01-03</td>\n",
       "      <td>GRASIM</td>\n",
       "      <td>EQ</td>\n",
       "      <td>405.80</td>\n",
       "      <td>429.9</td>\n",
       "      <td>438.3</td>\n",
       "      <td>425.00</td>\n",
       "      <td>438.3</td>\n",
       "      <td>438.30</td>\n",
       "      <td>432.24</td>\n",
       "      <td>101578</td>\n",
       "      <td>4.390621e+12</td>\n",
       "      <td>NaN</td>\n",
       "      <td>NaN</td>\n",
       "      <td>NaN</td>\n",
       "    </tr>\n",
       "    <tr>\n",
       "      <th>1</th>\n",
       "      <td>2000-01-04</td>\n",
       "      <td>GRASIM</td>\n",
       "      <td>EQ</td>\n",
       "      <td>438.30</td>\n",
       "      <td>437.5</td>\n",
       "      <td>440.0</td>\n",
       "      <td>420.05</td>\n",
       "      <td>439.5</td>\n",
       "      <td>437.15</td>\n",
       "      <td>428.27</td>\n",
       "      <td>126117</td>\n",
       "      <td>5.401216e+12</td>\n",
       "      <td>NaN</td>\n",
       "      <td>NaN</td>\n",
       "      <td>NaN</td>\n",
       "    </tr>\n",
       "    <tr>\n",
       "      <th>2</th>\n",
       "      <td>2000-01-05</td>\n",
       "      <td>GRASIM</td>\n",
       "      <td>EQ</td>\n",
       "      <td>437.15</td>\n",
       "      <td>420.1</td>\n",
       "      <td>447.9</td>\n",
       "      <td>412.00</td>\n",
       "      <td>430.0</td>\n",
       "      <td>439.60</td>\n",
       "      <td>436.10</td>\n",
       "      <td>163877</td>\n",
       "      <td>7.146660e+12</td>\n",
       "      <td>NaN</td>\n",
       "      <td>NaN</td>\n",
       "      <td>NaN</td>\n",
       "    </tr>\n",
       "    <tr>\n",
       "      <th>3</th>\n",
       "      <td>2000-01-06</td>\n",
       "      <td>GRASIM</td>\n",
       "      <td>EQ</td>\n",
       "      <td>439.60</td>\n",
       "      <td>449.9</td>\n",
       "      <td>474.8</td>\n",
       "      <td>449.90</td>\n",
       "      <td>474.8</td>\n",
       "      <td>474.80</td>\n",
       "      <td>474.68</td>\n",
       "      <td>44248</td>\n",
       "      <td>2.100384e+12</td>\n",
       "      <td>NaN</td>\n",
       "      <td>NaN</td>\n",
       "      <td>NaN</td>\n",
       "    </tr>\n",
       "    <tr>\n",
       "      <th>4</th>\n",
       "      <td>2000-01-07</td>\n",
       "      <td>GRASIM</td>\n",
       "      <td>EQ</td>\n",
       "      <td>474.80</td>\n",
       "      <td>472.0</td>\n",
       "      <td>512.8</td>\n",
       "      <td>472.00</td>\n",
       "      <td>512.8</td>\n",
       "      <td>512.80</td>\n",
       "      <td>512.61</td>\n",
       "      <td>188564</td>\n",
       "      <td>9.666049e+12</td>\n",
       "      <td>NaN</td>\n",
       "      <td>NaN</td>\n",
       "      <td>NaN</td>\n",
       "    </tr>\n",
       "  </tbody>\n",
       "</table>\n",
       "</div>"
      ],
      "text/plain": [
       "         Date  Symbol Series  Prev Close   Open   High     Low   Last   Close  \\\n",
       "0  2000-01-03  GRASIM     EQ      405.80  429.9  438.3  425.00  438.3  438.30   \n",
       "1  2000-01-04  GRASIM     EQ      438.30  437.5  440.0  420.05  439.5  437.15   \n",
       "2  2000-01-05  GRASIM     EQ      437.15  420.1  447.9  412.00  430.0  439.60   \n",
       "3  2000-01-06  GRASIM     EQ      439.60  449.9  474.8  449.90  474.8  474.80   \n",
       "4  2000-01-07  GRASIM     EQ      474.80  472.0  512.8  472.00  512.8  512.80   \n",
       "\n",
       "     VWAP  Volume      Turnover  Trades  Deliverable Volume  %Deliverble  \n",
       "0  432.24  101578  4.390621e+12     NaN                 NaN          NaN  \n",
       "1  428.27  126117  5.401216e+12     NaN                 NaN          NaN  \n",
       "2  436.10  163877  7.146660e+12     NaN                 NaN          NaN  \n",
       "3  474.68   44248  2.100384e+12     NaN                 NaN          NaN  \n",
       "4  512.61  188564  9.666049e+12     NaN                 NaN          NaN  "
      ]
     },
     "execution_count": 204,
     "metadata": {},
     "output_type": "execute_result"
    }
   ],
   "source": [
    "stock.head()"
   ]
  },
  {
   "cell_type": "code",
   "execution_count": 205,
   "id": "564201f0",
   "metadata": {},
   "outputs": [
    {
     "name": "stdout",
     "output_type": "stream",
     "text": [
      "<class 'pandas.core.frame.DataFrame'>\n",
      "RangeIndex: 5306 entries, 0 to 5305\n",
      "Data columns (total 15 columns):\n",
      " #   Column              Non-Null Count  Dtype  \n",
      "---  ------              --------------  -----  \n",
      " 0   Date                5306 non-null   object \n",
      " 1   Symbol              5306 non-null   object \n",
      " 2   Series              5306 non-null   object \n",
      " 3   Prev Close          5306 non-null   float64\n",
      " 4   Open                5306 non-null   float64\n",
      " 5   High                5306 non-null   float64\n",
      " 6   Low                 5306 non-null   float64\n",
      " 7   Last                5306 non-null   float64\n",
      " 8   Close               5306 non-null   float64\n",
      " 9   VWAP                5306 non-null   float64\n",
      " 10  Volume              5306 non-null   int64  \n",
      " 11  Turnover            5306 non-null   float64\n",
      " 12  Trades              2456 non-null   float64\n",
      " 13  Deliverable Volume  4797 non-null   float64\n",
      " 14  %Deliverble         4797 non-null   float64\n",
      "dtypes: float64(11), int64(1), object(3)\n",
      "memory usage: 621.9+ KB\n"
     ]
    }
   ],
   "source": [
    "stock.info()"
   ]
  },
  {
   "cell_type": "code",
   "execution_count": 206,
   "id": "c9d711dd",
   "metadata": {},
   "outputs": [
    {
     "data": {
      "text/html": [
       "<div>\n",
       "<style scoped>\n",
       "    .dataframe tbody tr th:only-of-type {\n",
       "        vertical-align: middle;\n",
       "    }\n",
       "\n",
       "    .dataframe tbody tr th {\n",
       "        vertical-align: top;\n",
       "    }\n",
       "\n",
       "    .dataframe thead th {\n",
       "        text-align: right;\n",
       "    }\n",
       "</style>\n",
       "<table border=\"1\" class=\"dataframe\">\n",
       "  <thead>\n",
       "    <tr style=\"text-align: right;\">\n",
       "      <th></th>\n",
       "      <th>Prev Close</th>\n",
       "      <th>Open</th>\n",
       "      <th>High</th>\n",
       "      <th>Low</th>\n",
       "      <th>Last</th>\n",
       "      <th>Close</th>\n",
       "      <th>VWAP</th>\n",
       "      <th>Volume</th>\n",
       "      <th>Turnover</th>\n",
       "      <th>Trades</th>\n",
       "      <th>Deliverable Volume</th>\n",
       "      <th>%Deliverble</th>\n",
       "    </tr>\n",
       "  </thead>\n",
       "  <tbody>\n",
       "    <tr>\n",
       "      <th>count</th>\n",
       "      <td>5306.000000</td>\n",
       "      <td>5306.000000</td>\n",
       "      <td>5306.000000</td>\n",
       "      <td>5306.000000</td>\n",
       "      <td>5306.000000</td>\n",
       "      <td>5306.000000</td>\n",
       "      <td>5306.000000</td>\n",
       "      <td>5.306000e+03</td>\n",
       "      <td>5.306000e+03</td>\n",
       "      <td>2456.000000</td>\n",
       "      <td>4.797000e+03</td>\n",
       "      <td>4797.000000</td>\n",
       "    </tr>\n",
       "    <tr>\n",
       "      <th>mean</th>\n",
       "      <td>1752.963447</td>\n",
       "      <td>1753.665690</td>\n",
       "      <td>1779.806417</td>\n",
       "      <td>1726.919195</td>\n",
       "      <td>1752.879881</td>\n",
       "      <td>1753.151150</td>\n",
       "      <td>1753.952433</td>\n",
       "      <td>4.810774e+05</td>\n",
       "      <td>5.041394e+13</td>\n",
       "      <td>21712.739821</td>\n",
       "      <td>2.109953e+05</td>\n",
       "      <td>0.495072</td>\n",
       "    </tr>\n",
       "    <tr>\n",
       "      <th>std</th>\n",
       "      <td>1152.148007</td>\n",
       "      <td>1152.356342</td>\n",
       "      <td>1165.939635</td>\n",
       "      <td>1138.711933</td>\n",
       "      <td>1151.702343</td>\n",
       "      <td>1152.009612</td>\n",
       "      <td>1152.518031</td>\n",
       "      <td>9.504433e+05</td>\n",
       "      <td>8.393759e+13</td>\n",
       "      <td>24345.564512</td>\n",
       "      <td>4.590644e+05</td>\n",
       "      <td>0.169116</td>\n",
       "    </tr>\n",
       "    <tr>\n",
       "      <th>min</th>\n",
       "      <td>172.500000</td>\n",
       "      <td>170.250000</td>\n",
       "      <td>176.800000</td>\n",
       "      <td>165.950000</td>\n",
       "      <td>173.000000</td>\n",
       "      <td>172.500000</td>\n",
       "      <td>173.410000</td>\n",
       "      <td>5.230000e+02</td>\n",
       "      <td>1.596022e+10</td>\n",
       "      <td>189.000000</td>\n",
       "      <td>4.730000e+02</td>\n",
       "      <td>0.063100</td>\n",
       "    </tr>\n",
       "    <tr>\n",
       "      <th>25%</th>\n",
       "      <td>810.462500</td>\n",
       "      <td>812.700000</td>\n",
       "      <td>824.012500</td>\n",
       "      <td>798.687500</td>\n",
       "      <td>810.350000</td>\n",
       "      <td>811.175000</td>\n",
       "      <td>811.777500</td>\n",
       "      <td>6.769700e+04</td>\n",
       "      <td>1.164514e+13</td>\n",
       "      <td>4710.250000</td>\n",
       "      <td>3.214000e+04</td>\n",
       "      <td>0.373100</td>\n",
       "    </tr>\n",
       "    <tr>\n",
       "      <th>50%</th>\n",
       "      <td>1357.225000</td>\n",
       "      <td>1355.000000</td>\n",
       "      <td>1377.450000</td>\n",
       "      <td>1338.550000</td>\n",
       "      <td>1359.500000</td>\n",
       "      <td>1358.425000</td>\n",
       "      <td>1356.720000</td>\n",
       "      <td>1.360035e+05</td>\n",
       "      <td>2.466485e+13</td>\n",
       "      <td>9620.000000</td>\n",
       "      <td>7.014900e+04</td>\n",
       "      <td>0.492800</td>\n",
       "    </tr>\n",
       "    <tr>\n",
       "      <th>75%</th>\n",
       "      <td>2662.750000</td>\n",
       "      <td>2668.675000</td>\n",
       "      <td>2700.000000</td>\n",
       "      <td>2625.137500</td>\n",
       "      <td>2663.750000</td>\n",
       "      <td>2662.750000</td>\n",
       "      <td>2668.345000</td>\n",
       "      <td>4.253732e+05</td>\n",
       "      <td>5.685606e+13</td>\n",
       "      <td>33442.750000</td>\n",
       "      <td>2.207040e+05</td>\n",
       "      <td>0.621000</td>\n",
       "    </tr>\n",
       "    <tr>\n",
       "      <th>max</th>\n",
       "      <td>5286.100000</td>\n",
       "      <td>5286.000000</td>\n",
       "      <td>5361.050000</td>\n",
       "      <td>5266.100000</td>\n",
       "      <td>5275.500000</td>\n",
       "      <td>5286.100000</td>\n",
       "      <td>5290.460000</td>\n",
       "      <td>2.535892e+07</td>\n",
       "      <td>2.516802e+15</td>\n",
       "      <td>316677.000000</td>\n",
       "      <td>1.767942e+07</td>\n",
       "      <td>0.981500</td>\n",
       "    </tr>\n",
       "  </tbody>\n",
       "</table>\n",
       "</div>"
      ],
      "text/plain": [
       "        Prev Close         Open         High          Low         Last  \\\n",
       "count  5306.000000  5306.000000  5306.000000  5306.000000  5306.000000   \n",
       "mean   1752.963447  1753.665690  1779.806417  1726.919195  1752.879881   \n",
       "std    1152.148007  1152.356342  1165.939635  1138.711933  1151.702343   \n",
       "min     172.500000   170.250000   176.800000   165.950000   173.000000   \n",
       "25%     810.462500   812.700000   824.012500   798.687500   810.350000   \n",
       "50%    1357.225000  1355.000000  1377.450000  1338.550000  1359.500000   \n",
       "75%    2662.750000  2668.675000  2700.000000  2625.137500  2663.750000   \n",
       "max    5286.100000  5286.000000  5361.050000  5266.100000  5275.500000   \n",
       "\n",
       "             Close         VWAP        Volume      Turnover         Trades  \\\n",
       "count  5306.000000  5306.000000  5.306000e+03  5.306000e+03    2456.000000   \n",
       "mean   1753.151150  1753.952433  4.810774e+05  5.041394e+13   21712.739821   \n",
       "std    1152.009612  1152.518031  9.504433e+05  8.393759e+13   24345.564512   \n",
       "min     172.500000   173.410000  5.230000e+02  1.596022e+10     189.000000   \n",
       "25%     811.175000   811.777500  6.769700e+04  1.164514e+13    4710.250000   \n",
       "50%    1358.425000  1356.720000  1.360035e+05  2.466485e+13    9620.000000   \n",
       "75%    2662.750000  2668.345000  4.253732e+05  5.685606e+13   33442.750000   \n",
       "max    5286.100000  5290.460000  2.535892e+07  2.516802e+15  316677.000000   \n",
       "\n",
       "       Deliverable Volume  %Deliverble  \n",
       "count        4.797000e+03  4797.000000  \n",
       "mean         2.109953e+05     0.495072  \n",
       "std          4.590644e+05     0.169116  \n",
       "min          4.730000e+02     0.063100  \n",
       "25%          3.214000e+04     0.373100  \n",
       "50%          7.014900e+04     0.492800  \n",
       "75%          2.207040e+05     0.621000  \n",
       "max          1.767942e+07     0.981500  "
      ]
     },
     "execution_count": 206,
     "metadata": {},
     "output_type": "execute_result"
    }
   ],
   "source": [
    "stock.describe()"
   ]
  },
  {
   "cell_type": "code",
   "execution_count": 207,
   "id": "011a47e9",
   "metadata": {},
   "outputs": [],
   "source": [
    "# Ensure we are working with a copy of the DataFrame to avoid the SettingWithCopyWarning\n",
    "stock = stock.copy()"
   ]
  },
  {
   "cell_type": "code",
   "execution_count": 208,
   "id": "7758c824",
   "metadata": {},
   "outputs": [],
   "source": [
    "# Calculate HL_Perc and CO_Perc\n",
    "stock.loc[:, 'HL_Perc'] = (stock['High'] - stock['Low']) / stock['Low'] * 100\n",
    "stock.loc[:, 'CO_Perc'] = (stock['Close'] - stock['Open']) / stock['Open'] * 100"
   ]
  },
  {
   "cell_type": "code",
   "execution_count": 209,
   "id": "0bb9c198",
   "metadata": {},
   "outputs": [],
   "source": [
    "dates = np.array(stock[\"Date\"])\n",
    "dates_check = dates[-30:]\n",
    "dates = dates[:-30]"
   ]
  },
  {
   "cell_type": "code",
   "execution_count": 210,
   "id": "07901da7",
   "metadata": {},
   "outputs": [
    {
     "data": {
      "text/plain": [
       "Index(['Date', 'Symbol', 'Series', 'Prev Close', 'Open', 'High', 'Low', 'Last',\n",
       "       'Close', 'VWAP', 'Volume', 'Turnover', 'Trades', 'Deliverable Volume',\n",
       "       '%Deliverble', 'HL_Perc', 'CO_Perc'],\n",
       "      dtype='object')"
      ]
     },
     "execution_count": 210,
     "metadata": {},
     "output_type": "execute_result"
    }
   ],
   "source": [
    "stock.columns"
   ]
  },
  {
   "cell_type": "code",
   "execution_count": 211,
   "id": "75b07f7b",
   "metadata": {},
   "outputs": [],
   "source": [
    "stock = stock[[\"HL_Perc\", \"CO_Perc\", \"Close\", \"Volume\"]]"
   ]
  },
  {
   "cell_type": "code",
   "execution_count": 212,
   "id": "772db78e",
   "metadata": {},
   "outputs": [],
   "source": [
    "#Define the label column\n",
    "stock[\"PriceNextMonth\"] = stock[\"Close\"].shift(-30)"
   ]
  },
  {
   "cell_type": "code",
   "execution_count": 213,
   "id": "79011229",
   "metadata": {},
   "outputs": [
    {
     "data": {
      "text/html": [
       "<div>\n",
       "<style scoped>\n",
       "    .dataframe tbody tr th:only-of-type {\n",
       "        vertical-align: middle;\n",
       "    }\n",
       "\n",
       "    .dataframe tbody tr th {\n",
       "        vertical-align: top;\n",
       "    }\n",
       "\n",
       "    .dataframe thead th {\n",
       "        text-align: right;\n",
       "    }\n",
       "</style>\n",
       "<table border=\"1\" class=\"dataframe\">\n",
       "  <thead>\n",
       "    <tr style=\"text-align: right;\">\n",
       "      <th></th>\n",
       "      <th>HL_Perc</th>\n",
       "      <th>CO_Perc</th>\n",
       "      <th>Close</th>\n",
       "      <th>Volume</th>\n",
       "      <th>PriceNextMonth</th>\n",
       "    </tr>\n",
       "  </thead>\n",
       "  <tbody>\n",
       "    <tr>\n",
       "      <th>5301</th>\n",
       "      <td>2.801556</td>\n",
       "      <td>2.128405</td>\n",
       "      <td>1312.35</td>\n",
       "      <td>1233546</td>\n",
       "      <td>NaN</td>\n",
       "    </tr>\n",
       "    <tr>\n",
       "      <th>5302</th>\n",
       "      <td>2.385321</td>\n",
       "      <td>0.848485</td>\n",
       "      <td>1331.20</td>\n",
       "      <td>1236334</td>\n",
       "      <td>NaN</td>\n",
       "    </tr>\n",
       "    <tr>\n",
       "      <th>5303</th>\n",
       "      <td>2.108012</td>\n",
       "      <td>0.276646</td>\n",
       "      <td>1341.15</td>\n",
       "      <td>1283746</td>\n",
       "      <td>NaN</td>\n",
       "    </tr>\n",
       "    <tr>\n",
       "      <th>5304</th>\n",
       "      <td>2.792164</td>\n",
       "      <td>-0.273184</td>\n",
       "      <td>1350.70</td>\n",
       "      <td>1793007</td>\n",
       "      <td>NaN</td>\n",
       "    </tr>\n",
       "    <tr>\n",
       "      <th>5305</th>\n",
       "      <td>5.581395</td>\n",
       "      <td>4.452310</td>\n",
       "      <td>1401.75</td>\n",
       "      <td>3261678</td>\n",
       "      <td>NaN</td>\n",
       "    </tr>\n",
       "  </tbody>\n",
       "</table>\n",
       "</div>"
      ],
      "text/plain": [
       "       HL_Perc   CO_Perc    Close   Volume  PriceNextMonth\n",
       "5301  2.801556  2.128405  1312.35  1233546             NaN\n",
       "5302  2.385321  0.848485  1331.20  1236334             NaN\n",
       "5303  2.108012  0.276646  1341.15  1283746             NaN\n",
       "5304  2.792164 -0.273184  1350.70  1793007             NaN\n",
       "5305  5.581395  4.452310  1401.75  3261678             NaN"
      ]
     },
     "execution_count": 213,
     "metadata": {},
     "output_type": "execute_result"
    }
   ],
   "source": [
    "stock.tail()"
   ]
  },
  {
   "cell_type": "code",
   "execution_count": 214,
   "id": "c687b99c",
   "metadata": {},
   "outputs": [
    {
     "name": "stderr",
     "output_type": "stream",
     "text": [
      "C:\\Users\\suresh\\AppData\\Local\\Temp\\ipykernel_17924\\459189850.py:2: FutureWarning: In a future version of pandas all arguments of DataFrame.drop except for the argument 'labels' will be keyword-only.\n",
      "  X = np.array(stock.drop([\"PriceNextMonth\"], 1))\n"
     ]
    }
   ],
   "source": [
    "#Make fetaure and label arrays\n",
    "X = np.array(stock.drop([\"PriceNextMonth\"], 1))\n",
    "X = preprocessing.scale(X)\n",
    "X_Check = X[-30:]\n",
    "X = X[:-30]\n",
    "stock.dropna(inplace = True)\n",
    "y = np.array(stock[\"PriceNextMonth\"])"
   ]
  },
  {
   "cell_type": "code",
   "execution_count": 215,
   "id": "381f2472",
   "metadata": {},
   "outputs": [],
   "source": [
    "#Divide the data set into training data and testing data\n",
    "X_train, X_test, y_train, y_test = train_test_split(X,y,test_size = 0.2)"
   ]
  },
  {
   "cell_type": "code",
   "execution_count": 216,
   "id": "489c08a2",
   "metadata": {},
   "outputs": [],
   "source": [
    "#Define the prediction model\n",
    "model = RandomForestRegressor()"
   ]
  },
  {
   "cell_type": "code",
   "execution_count": 217,
   "id": "74ff8cec",
   "metadata": {},
   "outputs": [
    {
     "data": {
      "text/plain": [
       "RandomForestRegressor()"
      ]
     },
     "execution_count": 217,
     "metadata": {},
     "output_type": "execute_result"
    }
   ],
   "source": [
    "#Fit the model using training data\n",
    "model.fit(X_train, y_train)"
   ]
  },
  {
   "cell_type": "code",
   "execution_count": 218,
   "id": "520c0372",
   "metadata": {},
   "outputs": [
    {
     "name": "stdout",
     "output_type": "stream",
     "text": [
      "0.9449305927097467\n"
     ]
    }
   ],
   "source": [
    "#Calculate the confidence value by applying the model to testing data\n",
    "conf = model.score(X_test, y_test)\n",
    "print(conf)"
   ]
  },
  {
   "cell_type": "code",
   "execution_count": 219,
   "id": "b9381393",
   "metadata": {},
   "outputs": [
    {
     "data": {
      "text/plain": [
       "RandomForestRegressor()"
      ]
     },
     "execution_count": 219,
     "metadata": {},
     "output_type": "execute_result"
    }
   ],
   "source": [
    "#Fit the model again using the whole data set\n",
    "model.fit(X,y)"
   ]
  },
  {
   "cell_type": "code",
   "execution_count": 220,
   "id": "4990c67a",
   "metadata": {},
   "outputs": [],
   "source": [
    "predictions = model.predict(X_Check)"
   ]
  },
  {
   "cell_type": "code",
   "execution_count": 221,
   "id": "c0d5a9e2",
   "metadata": {},
   "outputs": [],
   "source": [
    "#Make the final DataFrame containing Dates, ClosePrices, and Forecast values\n",
    "actual = pd.DataFrame(dates, columns = [\"Date\"])\n",
    "actual[\"ClosePrice\"] = stock[\"Close\"]\n",
    "actual[\"Forecast\"] = np.nan\n",
    "actual.set_index(\"Date\", inplace = True)\n",
    "forecast = pd.DataFrame(dates_check, columns=[\"Date\"])\n",
    "forecast[\"Forecast\"] = predictions\n",
    "forecast[\"ClosePrice\"] = np.nan\n",
    "forecast.set_index(\"Date\", inplace = True)\n",
    "var = [actual, forecast]\n",
    "result = pd.concat(var)  #This is the final DataFrame"
   ]
  },
  {
   "cell_type": "code",
   "execution_count": 222,
   "id": "45722829",
   "metadata": {},
   "outputs": [
    {
     "data": {
      "text/plain": [
       "Text(0, 0.5, 'Price')"
      ]
     },
     "execution_count": 222,
     "metadata": {},
     "output_type": "execute_result"
    },
    {
     "data": {
      "image/png": "[encoded data removed]",
      "text/plain": [
       "<Figure size 2000x1000 with 1 Axes>"
      ]
     },
     "metadata": {},
     "output_type": "display_data"
    }
   ],
   "source": [
    "#Plot the final results\n",
    "result.plot(figsize=(20,10), linewidth=1.5)\n",
    "plt.legend(loc=2, prop={'size':20})\n",
    "plt.xlabel('Date')\n",
    "plt.ylabel('Price')"
   ]
  },
  {
   "cell_type": "code",
   "execution_count": null,
   "id": "e099aee8",
   "metadata": {},
   "outputs": [],
   "source": []
  },
  {
   "cell_type": "code",
   "execution_count": null,
   "id": "712cb018",
   "metadata": {},
   "outputs": [],
   "source": []
  }
 ],
 "metadata": {
  "kernelspec": {
   "display_name": "Python 3 (ipykernel)",
   "language": "python",
   "name": "python3"
  },
  "language_info": {
   "codemirror_mode": {
    "name": "ipython",
    "version": 3
   },
   "file_extension": ".py",
   "mimetype": "text/x-python",
   "name": "python",
   "nbconvert_exporter": "python",
   "pygments_lexer": "ipython3",
   "version": "3.9.13"
  }
 },
 "nbformat": 4,
 "nbformat_minor": 5
}
