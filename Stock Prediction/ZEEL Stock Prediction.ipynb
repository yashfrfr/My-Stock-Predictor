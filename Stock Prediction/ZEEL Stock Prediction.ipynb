{
 "cells": [
  {
   "cell_type": "code",
   "execution_count": 2,
   "id": "5a20ead1",
   "metadata": {},
   "outputs": [],
   "source": [
    "#Import the libraries\n",
    "import pandas as pd \n",
    "import numpy as np \n",
    "import matplotlib.pyplot as plt \n",
    "from sklearn import preprocessing\n",
    "from sklearn.ensemble import RandomForestRegressor\n",
    "from sklearn.model_selection import train_test_split\n",
    "from sklearn.metrics import mean_absolute_error, r2_score"
   ]
  },
  {
   "cell_type": "code",
   "execution_count": 223,
   "id": "1ebabd9c",
   "metadata": {},
   "outputs": [],
   "source": [
    "stock = pd.read_csv(\"C:/Users/suresh/Desktop/PYTHON ML DATA SCIENCE/Stock Prediction/Stock Data/ZEEL.csv\")"
   ]
  },
  {
   "cell_type": "code",
   "execution_count": 224,
   "id": "b4a873d4",
   "metadata": {},
   "outputs": [
    {
     "data": {
      "text/html": [
       "<div>\n",
       "<style scoped>\n",
       "    .dataframe tbody tr th:only-of-type {\n",
       "        vertical-align: middle;\n",
       "    }\n",
       "\n",
       "    .dataframe tbody tr th {\n",
       "        vertical-align: top;\n",
       "    }\n",
       "\n",
       "    .dataframe thead th {\n",
       "        text-align: right;\n",
       "    }\n",
       "</style>\n",
       "<table border=\"1\" class=\"dataframe\">\n",
       "  <thead>\n",
       "    <tr style=\"text-align: right;\">\n",
       "      <th></th>\n",
       "      <th>Date</th>\n",
       "      <th>Symbol</th>\n",
       "      <th>Series</th>\n",
       "      <th>Prev Close</th>\n",
       "      <th>Open</th>\n",
       "      <th>High</th>\n",
       "      <th>Low</th>\n",
       "      <th>Last</th>\n",
       "      <th>Close</th>\n",
       "      <th>VWAP</th>\n",
       "      <th>Volume</th>\n",
       "      <th>Turnover</th>\n",
       "      <th>Trades</th>\n",
       "      <th>Deliverable Volume</th>\n",
       "      <th>%Deliverble</th>\n",
       "    </tr>\n",
       "  </thead>\n",
       "  <tbody>\n",
       "    <tr>\n",
       "      <th>0</th>\n",
       "      <td>2000-01-03</td>\n",
       "      <td>ZEETELE</td>\n",
       "      <td>EQ</td>\n",
       "      <td>1092.55</td>\n",
       "      <td>1175.00</td>\n",
       "      <td>1179.95</td>\n",
       "      <td>1160.00</td>\n",
       "      <td>1179.95</td>\n",
       "      <td>1179.95</td>\n",
       "      <td>1177.03</td>\n",
       "      <td>1261391</td>\n",
       "      <td>1.484690e+14</td>\n",
       "      <td>NaN</td>\n",
       "      <td>NaN</td>\n",
       "      <td>NaN</td>\n",
       "    </tr>\n",
       "    <tr>\n",
       "      <th>1</th>\n",
       "      <td>2000-01-04</td>\n",
       "      <td>ZEETELE</td>\n",
       "      <td>EQ</td>\n",
       "      <td>1179.95</td>\n",
       "      <td>1220.00</td>\n",
       "      <td>1274.35</td>\n",
       "      <td>1183.10</td>\n",
       "      <td>1274.35</td>\n",
       "      <td>1260.65</td>\n",
       "      <td>1228.02</td>\n",
       "      <td>4616547</td>\n",
       "      <td>5.669220e+14</td>\n",
       "      <td>NaN</td>\n",
       "      <td>NaN</td>\n",
       "      <td>NaN</td>\n",
       "    </tr>\n",
       "    <tr>\n",
       "      <th>2</th>\n",
       "      <td>2000-01-05</td>\n",
       "      <td>ZEETELE</td>\n",
       "      <td>EQ</td>\n",
       "      <td>1260.65</td>\n",
       "      <td>1160.55</td>\n",
       "      <td>1317.70</td>\n",
       "      <td>1159.80</td>\n",
       "      <td>1190.95</td>\n",
       "      <td>1176.55</td>\n",
       "      <td>1238.35</td>\n",
       "      <td>8763127</td>\n",
       "      <td>1.085178e+15</td>\n",
       "      <td>NaN</td>\n",
       "      <td>NaN</td>\n",
       "      <td>NaN</td>\n",
       "    </tr>\n",
       "    <tr>\n",
       "      <th>3</th>\n",
       "      <td>2000-01-06</td>\n",
       "      <td>ZEETELE</td>\n",
       "      <td>EQ</td>\n",
       "      <td>1176.55</td>\n",
       "      <td>1195.00</td>\n",
       "      <td>1200.00</td>\n",
       "      <td>1095.00</td>\n",
       "      <td>1106.00</td>\n",
       "      <td>1115.45</td>\n",
       "      <td>1135.04</td>\n",
       "      <td>5164020</td>\n",
       "      <td>5.861353e+14</td>\n",
       "      <td>NaN</td>\n",
       "      <td>NaN</td>\n",
       "      <td>NaN</td>\n",
       "    </tr>\n",
       "    <tr>\n",
       "      <th>4</th>\n",
       "      <td>2000-01-07</td>\n",
       "      <td>ZEETELE</td>\n",
       "      <td>EQ</td>\n",
       "      <td>1115.45</td>\n",
       "      <td>1097.10</td>\n",
       "      <td>1097.10</td>\n",
       "      <td>1026.25</td>\n",
       "      <td>1026.25</td>\n",
       "      <td>1026.25</td>\n",
       "      <td>1029.94</td>\n",
       "      <td>755129</td>\n",
       "      <td>7.777374e+13</td>\n",
       "      <td>NaN</td>\n",
       "      <td>NaN</td>\n",
       "      <td>NaN</td>\n",
       "    </tr>\n",
       "  </tbody>\n",
       "</table>\n",
       "</div>"
      ],
      "text/plain": [
       "         Date   Symbol Series  Prev Close     Open     High      Low     Last  \\\n",
       "0  2000-01-03  ZEETELE     EQ     1092.55  1175.00  1179.95  1160.00  1179.95   \n",
       "1  2000-01-04  ZEETELE     EQ     1179.95  1220.00  1274.35  1183.10  1274.35   \n",
       "2  2000-01-05  ZEETELE     EQ     1260.65  1160.55  1317.70  1159.80  1190.95   \n",
       "3  2000-01-06  ZEETELE     EQ     1176.55  1195.00  1200.00  1095.00  1106.00   \n",
       "4  2000-01-07  ZEETELE     EQ     1115.45  1097.10  1097.10  1026.25  1026.25   \n",
       "\n",
       "     Close     VWAP   Volume      Turnover  Trades  Deliverable Volume  \\\n",
       "0  1179.95  1177.03  1261391  1.484690e+14     NaN                 NaN   \n",
       "1  1260.65  1228.02  4616547  5.669220e+14     NaN                 NaN   \n",
       "2  1176.55  1238.35  8763127  1.085178e+15     NaN                 NaN   \n",
       "3  1115.45  1135.04  5164020  5.861353e+14     NaN                 NaN   \n",
       "4  1026.25  1029.94   755129  7.777374e+13     NaN                 NaN   \n",
       "\n",
       "   %Deliverble  \n",
       "0          NaN  \n",
       "1          NaN  \n",
       "2          NaN  \n",
       "3          NaN  \n",
       "4          NaN  "
      ]
     },
     "execution_count": 224,
     "metadata": {},
     "output_type": "execute_result"
    }
   ],
   "source": [
    "stock.head()"
   ]
  },
  {
   "cell_type": "code",
   "execution_count": 225,
   "id": "564201f0",
   "metadata": {},
   "outputs": [
    {
     "name": "stdout",
     "output_type": "stream",
     "text": [
      "<class 'pandas.core.frame.DataFrame'>\n",
      "RangeIndex: 5306 entries, 0 to 5305\n",
      "Data columns (total 15 columns):\n",
      " #   Column              Non-Null Count  Dtype  \n",
      "---  ------              --------------  -----  \n",
      " 0   Date                5306 non-null   object \n",
      " 1   Symbol              5306 non-null   object \n",
      " 2   Series              5306 non-null   object \n",
      " 3   Prev Close          5306 non-null   float64\n",
      " 4   Open                5306 non-null   float64\n",
      " 5   High                5306 non-null   float64\n",
      " 6   Low                 5306 non-null   float64\n",
      " 7   Last                5306 non-null   float64\n",
      " 8   Close               5306 non-null   float64\n",
      " 9   VWAP                5306 non-null   float64\n",
      " 10  Volume              5306 non-null   int64  \n",
      " 11  Turnover            5306 non-null   float64\n",
      " 12  Trades              2456 non-null   float64\n",
      " 13  Deliverable Volume  4787 non-null   float64\n",
      " 14  %Deliverble         4787 non-null   float64\n",
      "dtypes: float64(11), int64(1), object(3)\n",
      "memory usage: 621.9+ KB\n"
     ]
    }
   ],
   "source": [
    "stock.info()"
   ]
  },
  {
   "cell_type": "code",
   "execution_count": 226,
   "id": "c9d711dd",
   "metadata": {},
   "outputs": [
    {
     "data": {
      "text/html": [
       "<div>\n",
       "<style scoped>\n",
       "    .dataframe tbody tr th:only-of-type {\n",
       "        vertical-align: middle;\n",
       "    }\n",
       "\n",
       "    .dataframe tbody tr th {\n",
       "        vertical-align: top;\n",
       "    }\n",
       "\n",
       "    .dataframe thead th {\n",
       "        text-align: right;\n",
       "    }\n",
       "</style>\n",
       "<table border=\"1\" class=\"dataframe\">\n",
       "  <thead>\n",
       "    <tr style=\"text-align: right;\">\n",
       "      <th></th>\n",
       "      <th>Prev Close</th>\n",
       "      <th>Open</th>\n",
       "      <th>High</th>\n",
       "      <th>Low</th>\n",
       "      <th>Last</th>\n",
       "      <th>Close</th>\n",
       "      <th>VWAP</th>\n",
       "      <th>Volume</th>\n",
       "      <th>Turnover</th>\n",
       "      <th>Trades</th>\n",
       "      <th>Deliverable Volume</th>\n",
       "      <th>%Deliverble</th>\n",
       "    </tr>\n",
       "  </thead>\n",
       "  <tbody>\n",
       "    <tr>\n",
       "      <th>count</th>\n",
       "      <td>5306.000000</td>\n",
       "      <td>5306.000000</td>\n",
       "      <td>5306.000000</td>\n",
       "      <td>5306.000000</td>\n",
       "      <td>5306.000000</td>\n",
       "      <td>5306.000000</td>\n",
       "      <td>5306.000000</td>\n",
       "      <td>5.306000e+03</td>\n",
       "      <td>5.306000e+03</td>\n",
       "      <td>2.456000e+03</td>\n",
       "      <td>4.787000e+03</td>\n",
       "      <td>4787.000000</td>\n",
       "    </tr>\n",
       "    <tr>\n",
       "      <th>mean</th>\n",
       "      <td>273.404495</td>\n",
       "      <td>273.974746</td>\n",
       "      <td>279.588862</td>\n",
       "      <td>267.593969</td>\n",
       "      <td>273.184075</td>\n",
       "      <td>273.233566</td>\n",
       "      <td>273.627346</td>\n",
       "      <td>4.825422e+06</td>\n",
       "      <td>1.249096e+14</td>\n",
       "      <td>6.264571e+04</td>\n",
       "      <td>1.415718e+06</td>\n",
       "      <td>0.452211</td>\n",
       "    </tr>\n",
       "    <tr>\n",
       "      <th>std</th>\n",
       "      <td>176.403117</td>\n",
       "      <td>177.386116</td>\n",
       "      <td>181.264300</td>\n",
       "      <td>172.365778</td>\n",
       "      <td>176.006686</td>\n",
       "      <td>176.048287</td>\n",
       "      <td>176.843638</td>\n",
       "      <td>8.402019e+06</td>\n",
       "      <td>2.190916e+14</td>\n",
       "      <td>7.267494e+04</td>\n",
       "      <td>1.959727e+06</td>\n",
       "      <td>0.185907</td>\n",
       "    </tr>\n",
       "    <tr>\n",
       "      <th>min</th>\n",
       "      <td>62.300000</td>\n",
       "      <td>62.000000</td>\n",
       "      <td>66.300000</td>\n",
       "      <td>60.100000</td>\n",
       "      <td>62.700000</td>\n",
       "      <td>62.300000</td>\n",
       "      <td>63.080000</td>\n",
       "      <td>4.415000e+03</td>\n",
       "      <td>7.021150e+10</td>\n",
       "      <td>2.960000e+02</td>\n",
       "      <td>4.415000e+03</td>\n",
       "      <td>0.055700</td>\n",
       "    </tr>\n",
       "    <tr>\n",
       "      <th>25%</th>\n",
       "      <td>143.200000</td>\n",
       "      <td>144.000000</td>\n",
       "      <td>146.950000</td>\n",
       "      <td>140.000000</td>\n",
       "      <td>143.500000</td>\n",
       "      <td>143.200000</td>\n",
       "      <td>143.680000</td>\n",
       "      <td>1.218226e+06</td>\n",
       "      <td>2.594652e+13</td>\n",
       "      <td>2.457875e+04</td>\n",
       "      <td>5.136865e+05</td>\n",
       "      <td>0.307300</td>\n",
       "    </tr>\n",
       "    <tr>\n",
       "      <th>50%</th>\n",
       "      <td>238.200000</td>\n",
       "      <td>238.000000</td>\n",
       "      <td>244.000000</td>\n",
       "      <td>231.450000</td>\n",
       "      <td>237.675000</td>\n",
       "      <td>238.125000</td>\n",
       "      <td>238.895000</td>\n",
       "      <td>2.138807e+06</td>\n",
       "      <td>5.249890e+13</td>\n",
       "      <td>4.107400e+04</td>\n",
       "      <td>8.935320e+05</td>\n",
       "      <td>0.463500</td>\n",
       "    </tr>\n",
       "    <tr>\n",
       "      <th>75%</th>\n",
       "      <td>345.637500</td>\n",
       "      <td>345.975000</td>\n",
       "      <td>352.800000</td>\n",
       "      <td>338.400000</td>\n",
       "      <td>345.050000</td>\n",
       "      <td>345.587500</td>\n",
       "      <td>345.637500</td>\n",
       "      <td>4.532904e+06</td>\n",
       "      <td>1.136967e+14</td>\n",
       "      <td>7.146250e+04</td>\n",
       "      <td>1.593444e+06</td>\n",
       "      <td>0.593900</td>\n",
       "    </tr>\n",
       "    <tr>\n",
       "      <th>max</th>\n",
       "      <td>1541.700000</td>\n",
       "      <td>1640.000000</td>\n",
       "      <td>1645.000000</td>\n",
       "      <td>1512.250000</td>\n",
       "      <td>1564.000000</td>\n",
       "      <td>1541.700000</td>\n",
       "      <td>1578.110000</td>\n",
       "      <td>1.659597e+08</td>\n",
       "      <td>4.285622e+15</td>\n",
       "      <td>1.088460e+06</td>\n",
       "      <td>4.289143e+07</td>\n",
       "      <td>1.000000</td>\n",
       "    </tr>\n",
       "  </tbody>\n",
       "</table>\n",
       "</div>"
      ],
      "text/plain": [
       "        Prev Close         Open         High          Low         Last  \\\n",
       "count  5306.000000  5306.000000  5306.000000  5306.000000  5306.000000   \n",
       "mean    273.404495   273.974746   279.588862   267.593969   273.184075   \n",
       "std     176.403117   177.386116   181.264300   172.365778   176.006686   \n",
       "min      62.300000    62.000000    66.300000    60.100000    62.700000   \n",
       "25%     143.200000   144.000000   146.950000   140.000000   143.500000   \n",
       "50%     238.200000   238.000000   244.000000   231.450000   237.675000   \n",
       "75%     345.637500   345.975000   352.800000   338.400000   345.050000   \n",
       "max    1541.700000  1640.000000  1645.000000  1512.250000  1564.000000   \n",
       "\n",
       "             Close         VWAP        Volume      Turnover        Trades  \\\n",
       "count  5306.000000  5306.000000  5.306000e+03  5.306000e+03  2.456000e+03   \n",
       "mean    273.233566   273.627346  4.825422e+06  1.249096e+14  6.264571e+04   \n",
       "std     176.048287   176.843638  8.402019e+06  2.190916e+14  7.267494e+04   \n",
       "min      62.300000    63.080000  4.415000e+03  7.021150e+10  2.960000e+02   \n",
       "25%     143.200000   143.680000  1.218226e+06  2.594652e+13  2.457875e+04   \n",
       "50%     238.125000   238.895000  2.138807e+06  5.249890e+13  4.107400e+04   \n",
       "75%     345.587500   345.637500  4.532904e+06  1.136967e+14  7.146250e+04   \n",
       "max    1541.700000  1578.110000  1.659597e+08  4.285622e+15  1.088460e+06   \n",
       "\n",
       "       Deliverable Volume  %Deliverble  \n",
       "count        4.787000e+03  4787.000000  \n",
       "mean         1.415718e+06     0.452211  \n",
       "std          1.959727e+06     0.185907  \n",
       "min          4.415000e+03     0.055700  \n",
       "25%          5.136865e+05     0.307300  \n",
       "50%          8.935320e+05     0.463500  \n",
       "75%          1.593444e+06     0.593900  \n",
       "max          4.289143e+07     1.000000  "
      ]
     },
     "execution_count": 226,
     "metadata": {},
     "output_type": "execute_result"
    }
   ],
   "source": [
    "stock.describe()"
   ]
  },
  {
   "cell_type": "code",
   "execution_count": 227,
   "id": "011a47e9",
   "metadata": {},
   "outputs": [],
   "source": [
    "# Ensure we are working with a copy of the DataFrame to avoid the SettingWithCopyWarning\n",
    "stock = stock.copy()"
   ]
  },
  {
   "cell_type": "code",
   "execution_count": 228,
   "id": "7758c824",
   "metadata": {},
   "outputs": [],
   "source": [
    "# Calculate HL_Perc and CO_Perc\n",
    "stock.loc[:, 'HL_Perc'] = (stock['High'] - stock['Low']) / stock['Low'] * 100\n",
    "stock.loc[:, 'CO_Perc'] = (stock['Close'] - stock['Open']) / stock['Open'] * 100"
   ]
  },
  {
   "cell_type": "code",
   "execution_count": 229,
   "id": "0bb9c198",
   "metadata": {},
   "outputs": [],
   "source": [
    "dates = np.array(stock[\"Date\"])\n",
    "dates_check = dates[-30:]\n",
    "dates = dates[:-30]"
   ]
  },
  {
   "cell_type": "code",
   "execution_count": 230,
   "id": "07901da7",
   "metadata": {},
   "outputs": [
    {
     "data": {
      "text/plain": [
       "Index(['Date', 'Symbol', 'Series', 'Prev Close', 'Open', 'High', 'Low', 'Last',\n",
       "       'Close', 'VWAP', 'Volume', 'Turnover', 'Trades', 'Deliverable Volume',\n",
       "       '%Deliverble', 'HL_Perc', 'CO_Perc'],\n",
       "      dtype='object')"
      ]
     },
     "execution_count": 230,
     "metadata": {},
     "output_type": "execute_result"
    }
   ],
   "source": [
    "stock.columns"
   ]
  },
  {
   "cell_type": "code",
   "execution_count": 231,
   "id": "75b07f7b",
   "metadata": {},
   "outputs": [],
   "source": [
    "stock = stock[[\"HL_Perc\", \"CO_Perc\", \"Close\", \"Volume\"]]"
   ]
  },
  {
   "cell_type": "code",
   "execution_count": 232,
   "id": "772db78e",
   "metadata": {},
   "outputs": [],
   "source": [
    "#Define the label column\n",
    "stock[\"PriceNextMonth\"] = stock[\"Close\"].shift(-30)"
   ]
  },
  {
   "cell_type": "code",
   "execution_count": 233,
   "id": "79011229",
   "metadata": {},
   "outputs": [
    {
     "data": {
      "text/html": [
       "<div>\n",
       "<style scoped>\n",
       "    .dataframe tbody tr th:only-of-type {\n",
       "        vertical-align: middle;\n",
       "    }\n",
       "\n",
       "    .dataframe tbody tr th {\n",
       "        vertical-align: top;\n",
       "    }\n",
       "\n",
       "    .dataframe thead th {\n",
       "        text-align: right;\n",
       "    }\n",
       "</style>\n",
       "<table border=\"1\" class=\"dataframe\">\n",
       "  <thead>\n",
       "    <tr style=\"text-align: right;\">\n",
       "      <th></th>\n",
       "      <th>HL_Perc</th>\n",
       "      <th>CO_Perc</th>\n",
       "      <th>Close</th>\n",
       "      <th>Volume</th>\n",
       "      <th>PriceNextMonth</th>\n",
       "    </tr>\n",
       "  </thead>\n",
       "  <tbody>\n",
       "    <tr>\n",
       "      <th>5301</th>\n",
       "      <td>3.241491</td>\n",
       "      <td>-2.203568</td>\n",
       "      <td>186.40</td>\n",
       "      <td>8542755</td>\n",
       "      <td>NaN</td>\n",
       "    </tr>\n",
       "    <tr>\n",
       "      <th>5302</th>\n",
       "      <td>3.292291</td>\n",
       "      <td>0.079787</td>\n",
       "      <td>188.15</td>\n",
       "      <td>14247767</td>\n",
       "      <td>NaN</td>\n",
       "    </tr>\n",
       "    <tr>\n",
       "      <th>5303</th>\n",
       "      <td>1.870657</td>\n",
       "      <td>0.158898</td>\n",
       "      <td>189.10</td>\n",
       "      <td>8429439</td>\n",
       "      <td>NaN</td>\n",
       "    </tr>\n",
       "    <tr>\n",
       "      <th>5304</th>\n",
       "      <td>3.037634</td>\n",
       "      <td>-2.227463</td>\n",
       "      <td>186.55</td>\n",
       "      <td>9483009</td>\n",
       "      <td>NaN</td>\n",
       "    </tr>\n",
       "    <tr>\n",
       "      <th>5305</th>\n",
       "      <td>3.974952</td>\n",
       "      <td>0.161900</td>\n",
       "      <td>185.60</td>\n",
       "      <td>11435285</td>\n",
       "      <td>NaN</td>\n",
       "    </tr>\n",
       "  </tbody>\n",
       "</table>\n",
       "</div>"
      ],
      "text/plain": [
       "       HL_Perc   CO_Perc   Close    Volume  PriceNextMonth\n",
       "5301  3.241491 -2.203568  186.40   8542755             NaN\n",
       "5302  3.292291  0.079787  188.15  14247767             NaN\n",
       "5303  1.870657  0.158898  189.10   8429439             NaN\n",
       "5304  3.037634 -2.227463  186.55   9483009             NaN\n",
       "5305  3.974952  0.161900  185.60  11435285             NaN"
      ]
     },
     "execution_count": 233,
     "metadata": {},
     "output_type": "execute_result"
    }
   ],
   "source": [
    "stock.tail()"
   ]
  },
  {
   "cell_type": "code",
   "execution_count": 234,
   "id": "c687b99c",
   "metadata": {},
   "outputs": [
    {
     "name": "stderr",
     "output_type": "stream",
     "text": [
      "C:\\Users\\suresh\\AppData\\Local\\Temp\\ipykernel_9868\\459189850.py:2: FutureWarning: In a future version of pandas all arguments of DataFrame.drop except for the argument 'labels' will be keyword-only.\n",
      "  X = np.array(stock.drop([\"PriceNextMonth\"], 1))\n"
     ]
    }
   ],
   "source": [
    "#Make fetaure and label arrays\n",
    "X = np.array(stock.drop([\"PriceNextMonth\"], 1))\n",
    "X = preprocessing.scale(X)\n",
    "X_Check = X[-30:]\n",
    "X = X[:-30]\n",
    "stock.dropna(inplace = True)\n",
    "y = np.array(stock[\"PriceNextMonth\"])"
   ]
  },
  {
   "cell_type": "code",
   "execution_count": 235,
   "id": "381f2472",
   "metadata": {},
   "outputs": [],
   "source": [
    "#Divide the data set into training data and testing data\n",
    "X_train, X_test, y_train, y_test = train_test_split(X,y,test_size = 0.2)"
   ]
  },
  {
   "cell_type": "code",
   "execution_count": 236,
   "id": "489c08a2",
   "metadata": {},
   "outputs": [],
   "source": [
    "#Define the prediction model\n",
    "model = RandomForestRegressor()"
   ]
  },
  {
   "cell_type": "code",
   "execution_count": 237,
   "id": "74ff8cec",
   "metadata": {},
   "outputs": [
    {
     "data": {
      "text/plain": [
       "RandomForestRegressor()"
      ]
     },
     "execution_count": 237,
     "metadata": {},
     "output_type": "execute_result"
    }
   ],
   "source": [
    "#Fit the model using training data\n",
    "model.fit(X_train, y_train)"
   ]
  },
  {
   "cell_type": "code",
   "execution_count": 238,
   "id": "520c0372",
   "metadata": {},
   "outputs": [
    {
     "name": "stdout",
     "output_type": "stream",
     "text": [
      "0.8602100759156192\n"
     ]
    }
   ],
   "source": [
    "#Calculate the confidence value by applying the model to testing data\n",
    "conf = model.score(X_test, y_test)\n",
    "print(conf)"
   ]
  },
  {
   "cell_type": "code",
   "execution_count": 239,
   "id": "b9381393",
   "metadata": {},
   "outputs": [
    {
     "data": {
      "text/plain": [
       "RandomForestRegressor()"
      ]
     },
     "execution_count": 239,
     "metadata": {},
     "output_type": "execute_result"
    }
   ],
   "source": [
    "#Fit the model again using the whole data set\n",
    "model.fit(X,y)"
   ]
  },
  {
   "cell_type": "code",
   "execution_count": 240,
   "id": "4990c67a",
   "metadata": {},
   "outputs": [],
   "source": [
    "predictions = model.predict(X_Check)"
   ]
  },
  {
   "cell_type": "code",
   "execution_count": 241,
   "id": "c0d5a9e2",
   "metadata": {},
   "outputs": [],
   "source": [
    "#Make the final DataFrame containing Dates, ClosePrices, and Forecast values\n",
    "actual = pd.DataFrame(dates, columns = [\"Date\"])\n",
    "actual[\"ClosePrice\"] = stock[\"Close\"]\n",
    "actual[\"Forecast\"] = np.nan\n",
    "actual.set_index(\"Date\", inplace = True)\n",
    "forecast = pd.DataFrame(dates_check, columns=[\"Date\"])\n",
    "forecast[\"Forecast\"] = predictions\n",
    "forecast[\"ClosePrice\"] = np.nan\n",
    "forecast.set_index(\"Date\", inplace = True)\n",
    "var = [actual, forecast]\n",
    "result = pd.concat(var)  #This is the final DataFrame"
   ]
  },
  {
   "cell_type": "code",
   "execution_count": 242,
   "id": "45722829",
   "metadata": {},
   "outputs": [
    {
     "data": {
      "text/plain": [
       "Text(0, 0.5, 'Price')"
      ]
     },
     "execution_count": 242,
     "metadata": {},
     "output_type": "execute_result"
    },
    {
     "data": {
      "image/png": "[encoded data removed]",
      "text/plain": [
       "<Figure size 2000x1000 with 1 Axes>"
      ]
     },
     "metadata": {},
     "output_type": "display_data"
    }
   ],
   "source": [
    "#Plot the final results\n",
    "result.plot(figsize=(20,10), linewidth=1.5)\n",
    "plt.legend(loc=2, prop={'size':20})\n",
    "plt.xlabel('Date')\n",
    "plt.ylabel('Price')"
   ]
  },
  {
   "cell_type": "code",
   "execution_count": null,
   "id": "e099aee8",
   "metadata": {},
   "outputs": [],
   "source": []
  },
  {
   "cell_type": "code",
   "execution_count": null,
   "id": "9f8c7a22",
   "metadata": {},
   "outputs": [],
   "source": []
  }
 ],
 "metadata": {
  "kernelspec": {
   "display_name": "Python 3 (ipykernel)",
   "language": "python",
   "name": "python3"
  },
  "language_info": {
   "codemirror_mode": {
    "name": "ipython",
    "version": 3
   },
   "file_extension": ".py",
   "mimetype": "text/x-python",
   "name": "python",
   "nbconvert_exporter": "python",
   "pygments_lexer": "ipython3",
   "version": "3.9.13"
  }
 },
 "nbformat": 4,
 "nbformat_minor": 5
}
