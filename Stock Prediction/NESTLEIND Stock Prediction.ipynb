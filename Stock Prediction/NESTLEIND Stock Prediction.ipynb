{
 "cells": [
  {
   "cell_type": "code",
   "execution_count": 2,
   "id": "5a20ead1",
   "metadata": {},
   "outputs": [],
   "source": [
    "#Import the libraries\n",
    "import pandas as pd \n",
    "import numpy as np \n",
    "import matplotlib.pyplot as plt \n",
    "from sklearn import preprocessing\n",
    "from sklearn.ensemble import RandomForestRegressor\n",
    "from sklearn.model_selection import train_test_split\n",
    "from sklearn.metrics import mean_absolute_error, r2_score"
   ]
  },
  {
   "cell_type": "code",
   "execution_count": 552,
   "id": "1ebabd9c",
   "metadata": {},
   "outputs": [],
   "source": [
    "stock = pd.read_csv(\"C:/Users/suresh/Desktop/PYTHON ML DATA SCIENCE/Stock Prediction/Stock Data/NESTLEIND.csv\")"
   ]
  },
  {
   "cell_type": "code",
   "execution_count": 553,
   "id": "b4a873d4",
   "metadata": {},
   "outputs": [
    {
     "data": {
      "text/html": [
       "<div>\n",
       "<style scoped>\n",
       "    .dataframe tbody tr th:only-of-type {\n",
       "        vertical-align: middle;\n",
       "    }\n",
       "\n",
       "    .dataframe tbody tr th {\n",
       "        vertical-align: top;\n",
       "    }\n",
       "\n",
       "    .dataframe thead th {\n",
       "        text-align: right;\n",
       "    }\n",
       "</style>\n",
       "<table border=\"1\" class=\"dataframe\">\n",
       "  <thead>\n",
       "    <tr style=\"text-align: right;\">\n",
       "      <th></th>\n",
       "      <th>Date</th>\n",
       "      <th>Symbol</th>\n",
       "      <th>Series</th>\n",
       "      <th>Prev Close</th>\n",
       "      <th>Open</th>\n",
       "      <th>High</th>\n",
       "      <th>Low</th>\n",
       "      <th>Last</th>\n",
       "      <th>Close</th>\n",
       "      <th>VWAP</th>\n",
       "      <th>Volume</th>\n",
       "      <th>Turnover</th>\n",
       "      <th>Trades</th>\n",
       "      <th>Deliverable Volume</th>\n",
       "      <th>%Deliverble</th>\n",
       "    </tr>\n",
       "  </thead>\n",
       "  <tbody>\n",
       "    <tr>\n",
       "      <th>0</th>\n",
       "      <td>2010-01-08</td>\n",
       "      <td>NESTLEIND</td>\n",
       "      <td>EQ</td>\n",
       "      <td>2512.95</td>\n",
       "      <td>2555.00</td>\n",
       "      <td>2575.0</td>\n",
       "      <td>2475.20</td>\n",
       "      <td>2476.0</td>\n",
       "      <td>2494.65</td>\n",
       "      <td>2529.81</td>\n",
       "      <td>648</td>\n",
       "      <td>1.639316e+11</td>\n",
       "      <td>NaN</td>\n",
       "      <td>438</td>\n",
       "      <td>0.6759</td>\n",
       "    </tr>\n",
       "    <tr>\n",
       "      <th>1</th>\n",
       "      <td>2010-01-11</td>\n",
       "      <td>NESTLEIND</td>\n",
       "      <td>EQ</td>\n",
       "      <td>2494.65</td>\n",
       "      <td>2401.00</td>\n",
       "      <td>2515.0</td>\n",
       "      <td>2400.00</td>\n",
       "      <td>2500.0</td>\n",
       "      <td>2498.95</td>\n",
       "      <td>2494.44</td>\n",
       "      <td>825</td>\n",
       "      <td>2.057909e+11</td>\n",
       "      <td>NaN</td>\n",
       "      <td>638</td>\n",
       "      <td>0.7733</td>\n",
       "    </tr>\n",
       "    <tr>\n",
       "      <th>2</th>\n",
       "      <td>2010-01-12</td>\n",
       "      <td>NESTLEIND</td>\n",
       "      <td>EQ</td>\n",
       "      <td>2498.95</td>\n",
       "      <td>2540.00</td>\n",
       "      <td>2540.0</td>\n",
       "      <td>2471.35</td>\n",
       "      <td>2505.0</td>\n",
       "      <td>2502.85</td>\n",
       "      <td>2485.22</td>\n",
       "      <td>68346</td>\n",
       "      <td>1.698549e+13</td>\n",
       "      <td>NaN</td>\n",
       "      <td>67695</td>\n",
       "      <td>0.9905</td>\n",
       "    </tr>\n",
       "    <tr>\n",
       "      <th>3</th>\n",
       "      <td>2010-01-13</td>\n",
       "      <td>NESTLEIND</td>\n",
       "      <td>EQ</td>\n",
       "      <td>2502.85</td>\n",
       "      <td>2502.85</td>\n",
       "      <td>2540.0</td>\n",
       "      <td>2480.00</td>\n",
       "      <td>2489.8</td>\n",
       "      <td>2489.35</td>\n",
       "      <td>2491.94</td>\n",
       "      <td>1032</td>\n",
       "      <td>2.571682e+11</td>\n",
       "      <td>NaN</td>\n",
       "      <td>718</td>\n",
       "      <td>0.6957</td>\n",
       "    </tr>\n",
       "    <tr>\n",
       "      <th>4</th>\n",
       "      <td>2010-01-14</td>\n",
       "      <td>NESTLEIND</td>\n",
       "      <td>EQ</td>\n",
       "      <td>2489.35</td>\n",
       "      <td>2535.00</td>\n",
       "      <td>2595.0</td>\n",
       "      <td>2470.00</td>\n",
       "      <td>2560.0</td>\n",
       "      <td>2568.20</td>\n",
       "      <td>2510.27</td>\n",
       "      <td>330361</td>\n",
       "      <td>8.292956e+13</td>\n",
       "      <td>NaN</td>\n",
       "      <td>329193</td>\n",
       "      <td>0.9965</td>\n",
       "    </tr>\n",
       "  </tbody>\n",
       "</table>\n",
       "</div>"
      ],
      "text/plain": [
       "         Date     Symbol Series  Prev Close     Open    High      Low    Last  \\\n",
       "0  2010-01-08  NESTLEIND     EQ     2512.95  2555.00  2575.0  2475.20  2476.0   \n",
       "1  2010-01-11  NESTLEIND     EQ     2494.65  2401.00  2515.0  2400.00  2500.0   \n",
       "2  2010-01-12  NESTLEIND     EQ     2498.95  2540.00  2540.0  2471.35  2505.0   \n",
       "3  2010-01-13  NESTLEIND     EQ     2502.85  2502.85  2540.0  2480.00  2489.8   \n",
       "4  2010-01-14  NESTLEIND     EQ     2489.35  2535.00  2595.0  2470.00  2560.0   \n",
       "\n",
       "     Close     VWAP  Volume      Turnover  Trades  Deliverable Volume  \\\n",
       "0  2494.65  2529.81     648  1.639316e+11     NaN                 438   \n",
       "1  2498.95  2494.44     825  2.057909e+11     NaN                 638   \n",
       "2  2502.85  2485.22   68346  1.698549e+13     NaN               67695   \n",
       "3  2489.35  2491.94    1032  2.571682e+11     NaN                 718   \n",
       "4  2568.20  2510.27  330361  8.292956e+13     NaN              329193   \n",
       "\n",
       "   %Deliverble  \n",
       "0       0.6759  \n",
       "1       0.7733  \n",
       "2       0.9905  \n",
       "3       0.6957  \n",
       "4       0.9965  "
      ]
     },
     "execution_count": 553,
     "metadata": {},
     "output_type": "execute_result"
    }
   ],
   "source": [
    "stock.head()"
   ]
  },
  {
   "cell_type": "code",
   "execution_count": 554,
   "id": "564201f0",
   "metadata": {},
   "outputs": [
    {
     "name": "stdout",
     "output_type": "stream",
     "text": [
      "<class 'pandas.core.frame.DataFrame'>\n",
      "RangeIndex: 2806 entries, 0 to 2805\n",
      "Data columns (total 15 columns):\n",
      " #   Column              Non-Null Count  Dtype  \n",
      "---  ------              --------------  -----  \n",
      " 0   Date                2806 non-null   object \n",
      " 1   Symbol              2806 non-null   object \n",
      " 2   Series              2806 non-null   object \n",
      " 3   Prev Close          2806 non-null   float64\n",
      " 4   Open                2806 non-null   float64\n",
      " 5   High                2806 non-null   float64\n",
      " 6   Low                 2806 non-null   float64\n",
      " 7   Last                2806 non-null   float64\n",
      " 8   Close               2806 non-null   float64\n",
      " 9   VWAP                2806 non-null   float64\n",
      " 10  Volume              2806 non-null   int64  \n",
      " 11  Turnover            2806 non-null   float64\n",
      " 12  Trades              2456 non-null   float64\n",
      " 13  Deliverable Volume  2806 non-null   int64  \n",
      " 14  %Deliverble         2806 non-null   float64\n",
      "dtypes: float64(10), int64(2), object(3)\n",
      "memory usage: 329.0+ KB\n"
     ]
    }
   ],
   "source": [
    "stock.info()"
   ]
  },
  {
   "cell_type": "code",
   "execution_count": 555,
   "id": "c9d711dd",
   "metadata": {},
   "outputs": [
    {
     "data": {
      "text/html": [
       "<div>\n",
       "<style scoped>\n",
       "    .dataframe tbody tr th:only-of-type {\n",
       "        vertical-align: middle;\n",
       "    }\n",
       "\n",
       "    .dataframe tbody tr th {\n",
       "        vertical-align: top;\n",
       "    }\n",
       "\n",
       "    .dataframe thead th {\n",
       "        text-align: right;\n",
       "    }\n",
       "</style>\n",
       "<table border=\"1\" class=\"dataframe\">\n",
       "  <thead>\n",
       "    <tr style=\"text-align: right;\">\n",
       "      <th></th>\n",
       "      <th>Prev Close</th>\n",
       "      <th>Open</th>\n",
       "      <th>High</th>\n",
       "      <th>Low</th>\n",
       "      <th>Last</th>\n",
       "      <th>Close</th>\n",
       "      <th>VWAP</th>\n",
       "      <th>Volume</th>\n",
       "      <th>Turnover</th>\n",
       "      <th>Trades</th>\n",
       "      <th>Deliverable Volume</th>\n",
       "      <th>%Deliverble</th>\n",
       "    </tr>\n",
       "  </thead>\n",
       "  <tbody>\n",
       "    <tr>\n",
       "      <th>count</th>\n",
       "      <td>2806.000000</td>\n",
       "      <td>2806.000000</td>\n",
       "      <td>2806.000000</td>\n",
       "      <td>2806.000000</td>\n",
       "      <td>2806.000000</td>\n",
       "      <td>2806.000000</td>\n",
       "      <td>2806.000000</td>\n",
       "      <td>2.806000e+03</td>\n",
       "      <td>2.806000e+03</td>\n",
       "      <td>2456.000000</td>\n",
       "      <td>2806.000000</td>\n",
       "      <td>2806.000000</td>\n",
       "    </tr>\n",
       "    <tr>\n",
       "      <th>mean</th>\n",
       "      <td>7507.122933</td>\n",
       "      <td>7518.226960</td>\n",
       "      <td>7604.765289</td>\n",
       "      <td>7425.280114</td>\n",
       "      <td>7511.272024</td>\n",
       "      <td>7512.039647</td>\n",
       "      <td>7514.318959</td>\n",
       "      <td>5.449900e+04</td>\n",
       "      <td>5.493844e+13</td>\n",
       "      <td>11043.311075</td>\n",
       "      <td>33574.361725</td>\n",
       "      <td>0.662074</td>\n",
       "    </tr>\n",
       "    <tr>\n",
       "      <th>std</th>\n",
       "      <td>4180.468727</td>\n",
       "      <td>4189.232067</td>\n",
       "      <td>4234.100796</td>\n",
       "      <td>4133.100645</td>\n",
       "      <td>4182.250852</td>\n",
       "      <td>4182.705331</td>\n",
       "      <td>4182.857682</td>\n",
       "      <td>6.925583e+04</td>\n",
       "      <td>9.554095e+13</td>\n",
       "      <td>12405.830784</td>\n",
       "      <td>45266.246683</td>\n",
       "      <td>0.162609</td>\n",
       "    </tr>\n",
       "    <tr>\n",
       "      <th>min</th>\n",
       "      <td>2489.350000</td>\n",
       "      <td>2295.000000</td>\n",
       "      <td>2515.000000</td>\n",
       "      <td>2295.000000</td>\n",
       "      <td>2476.000000</td>\n",
       "      <td>2489.350000</td>\n",
       "      <td>2485.220000</td>\n",
       "      <td>3.300000e+01</td>\n",
       "      <td>8.376445e+09</td>\n",
       "      <td>63.000000</td>\n",
       "      <td>32.000000</td>\n",
       "      <td>0.131000</td>\n",
       "    </tr>\n",
       "    <tr>\n",
       "      <th>25%</th>\n",
       "      <td>4641.150000</td>\n",
       "      <td>4650.000000</td>\n",
       "      <td>4700.012500</td>\n",
       "      <td>4600.000000</td>\n",
       "      <td>4642.250000</td>\n",
       "      <td>4644.025000</td>\n",
       "      <td>4646.602500</td>\n",
       "      <td>1.670675e+04</td>\n",
       "      <td>8.197608e+12</td>\n",
       "      <td>3400.000000</td>\n",
       "      <td>10789.500000</td>\n",
       "      <td>0.548025</td>\n",
       "    </tr>\n",
       "    <tr>\n",
       "      <th>50%</th>\n",
       "      <td>6120.975000</td>\n",
       "      <td>6118.275000</td>\n",
       "      <td>6200.000000</td>\n",
       "      <td>6036.000000</td>\n",
       "      <td>6117.050000</td>\n",
       "      <td>6122.550000</td>\n",
       "      <td>6124.270000</td>\n",
       "      <td>3.285500e+04</td>\n",
       "      <td>1.942007e+13</td>\n",
       "      <td>6352.000000</td>\n",
       "      <td>22019.000000</td>\n",
       "      <td>0.665350</td>\n",
       "    </tr>\n",
       "    <tr>\n",
       "      <th>75%</th>\n",
       "      <td>9678.700000</td>\n",
       "      <td>9697.500000</td>\n",
       "      <td>9798.500000</td>\n",
       "      <td>9569.687500</td>\n",
       "      <td>9681.512500</td>\n",
       "      <td>9683.412500</td>\n",
       "      <td>9684.360000</td>\n",
       "      <td>6.691725e+04</td>\n",
       "      <td>5.788988e+13</td>\n",
       "      <td>14116.500000</td>\n",
       "      <td>41911.500000</td>\n",
       "      <td>0.783675</td>\n",
       "    </tr>\n",
       "    <tr>\n",
       "      <th>max</th>\n",
       "      <td>18732.700000</td>\n",
       "      <td>18844.000000</td>\n",
       "      <td>18844.000000</td>\n",
       "      <td>18520.000000</td>\n",
       "      <td>18720.000000</td>\n",
       "      <td>18732.700000</td>\n",
       "      <td>18683.520000</td>\n",
       "      <td>1.106746e+06</td>\n",
       "      <td>1.979044e+15</td>\n",
       "      <td>122364.000000</td>\n",
       "      <td>929598.000000</td>\n",
       "      <td>0.996500</td>\n",
       "    </tr>\n",
       "  </tbody>\n",
       "</table>\n",
       "</div>"
      ],
      "text/plain": [
       "         Prev Close          Open          High           Low          Last  \\\n",
       "count   2806.000000   2806.000000   2806.000000   2806.000000   2806.000000   \n",
       "mean    7507.122933   7518.226960   7604.765289   7425.280114   7511.272024   \n",
       "std     4180.468727   4189.232067   4234.100796   4133.100645   4182.250852   \n",
       "min     2489.350000   2295.000000   2515.000000   2295.000000   2476.000000   \n",
       "25%     4641.150000   4650.000000   4700.012500   4600.000000   4642.250000   \n",
       "50%     6120.975000   6118.275000   6200.000000   6036.000000   6117.050000   \n",
       "75%     9678.700000   9697.500000   9798.500000   9569.687500   9681.512500   \n",
       "max    18732.700000  18844.000000  18844.000000  18520.000000  18720.000000   \n",
       "\n",
       "              Close          VWAP        Volume      Turnover         Trades  \\\n",
       "count   2806.000000   2806.000000  2.806000e+03  2.806000e+03    2456.000000   \n",
       "mean    7512.039647   7514.318959  5.449900e+04  5.493844e+13   11043.311075   \n",
       "std     4182.705331   4182.857682  6.925583e+04  9.554095e+13   12405.830784   \n",
       "min     2489.350000   2485.220000  3.300000e+01  8.376445e+09      63.000000   \n",
       "25%     4644.025000   4646.602500  1.670675e+04  8.197608e+12    3400.000000   \n",
       "50%     6122.550000   6124.270000  3.285500e+04  1.942007e+13    6352.000000   \n",
       "75%     9683.412500   9684.360000  6.691725e+04  5.788988e+13   14116.500000   \n",
       "max    18732.700000  18683.520000  1.106746e+06  1.979044e+15  122364.000000   \n",
       "\n",
       "       Deliverable Volume  %Deliverble  \n",
       "count         2806.000000  2806.000000  \n",
       "mean         33574.361725     0.662074  \n",
       "std          45266.246683     0.162609  \n",
       "min             32.000000     0.131000  \n",
       "25%          10789.500000     0.548025  \n",
       "50%          22019.000000     0.665350  \n",
       "75%          41911.500000     0.783675  \n",
       "max         929598.000000     0.996500  "
      ]
     },
     "execution_count": 555,
     "metadata": {},
     "output_type": "execute_result"
    }
   ],
   "source": [
    "stock.describe()"
   ]
  },
  {
   "cell_type": "code",
   "execution_count": 556,
   "id": "011a47e9",
   "metadata": {},
   "outputs": [],
   "source": [
    "# Ensure we are working with a copy of the DataFrame to avoid the SettingWithCopyWarning\n",
    "stock = stock.copy()"
   ]
  },
  {
   "cell_type": "code",
   "execution_count": 557,
   "id": "7758c824",
   "metadata": {},
   "outputs": [],
   "source": [
    "# Calculate HL_Perc and CO_Perc\n",
    "stock.loc[:, 'HL_Perc'] = (stock['High'] - stock['Low']) / stock['Low'] * 100\n",
    "stock.loc[:, 'CO_Perc'] = (stock['Close'] - stock['Open']) / stock['Open'] * 100"
   ]
  },
  {
   "cell_type": "code",
   "execution_count": 558,
   "id": "0bb9c198",
   "metadata": {},
   "outputs": [],
   "source": [
    "dates = np.array(stock[\"Date\"])\n",
    "dates_check = dates[-30:]\n",
    "dates = dates[:-30]"
   ]
  },
  {
   "cell_type": "code",
   "execution_count": 559,
   "id": "07901da7",
   "metadata": {},
   "outputs": [
    {
     "data": {
      "text/plain": [
       "Index(['Date', 'Symbol', 'Series', 'Prev Close', 'Open', 'High', 'Low', 'Last',\n",
       "       'Close', 'VWAP', 'Volume', 'Turnover', 'Trades', 'Deliverable Volume',\n",
       "       '%Deliverble', 'HL_Perc', 'CO_Perc'],\n",
       "      dtype='object')"
      ]
     },
     "execution_count": 559,
     "metadata": {},
     "output_type": "execute_result"
    }
   ],
   "source": [
    "stock.columns"
   ]
  },
  {
   "cell_type": "code",
   "execution_count": 560,
   "id": "75b07f7b",
   "metadata": {},
   "outputs": [],
   "source": [
    "stock = stock[[\"HL_Perc\", \"CO_Perc\", \"Close\", \"Volume\"]]"
   ]
  },
  {
   "cell_type": "code",
   "execution_count": 561,
   "id": "772db78e",
   "metadata": {},
   "outputs": [],
   "source": [
    "#Define the label column\n",
    "stock[\"PriceNextMonth\"] = stock[\"Close\"].shift(-30)"
   ]
  },
  {
   "cell_type": "code",
   "execution_count": 562,
   "id": "79011229",
   "metadata": {},
   "outputs": [
    {
     "data": {
      "text/html": [
       "<div>\n",
       "<style scoped>\n",
       "    .dataframe tbody tr th:only-of-type {\n",
       "        vertical-align: middle;\n",
       "    }\n",
       "\n",
       "    .dataframe tbody tr th {\n",
       "        vertical-align: top;\n",
       "    }\n",
       "\n",
       "    .dataframe thead th {\n",
       "        text-align: right;\n",
       "    }\n",
       "</style>\n",
       "<table border=\"1\" class=\"dataframe\">\n",
       "  <thead>\n",
       "    <tr style=\"text-align: right;\">\n",
       "      <th></th>\n",
       "      <th>HL_Perc</th>\n",
       "      <th>CO_Perc</th>\n",
       "      <th>Close</th>\n",
       "      <th>Volume</th>\n",
       "      <th>PriceNextMonth</th>\n",
       "    </tr>\n",
       "  </thead>\n",
       "  <tbody>\n",
       "    <tr>\n",
       "      <th>2801</th>\n",
       "      <td>1.388351</td>\n",
       "      <td>0.425917</td>\n",
       "      <td>16870.60</td>\n",
       "      <td>152362</td>\n",
       "      <td>NaN</td>\n",
       "    </tr>\n",
       "    <tr>\n",
       "      <th>2802</th>\n",
       "      <td>1.074627</td>\n",
       "      <td>-0.710101</td>\n",
       "      <td>16779.00</td>\n",
       "      <td>44651</td>\n",
       "      <td>NaN</td>\n",
       "    </tr>\n",
       "    <tr>\n",
       "      <th>2803</th>\n",
       "      <td>1.325026</td>\n",
       "      <td>-0.841729</td>\n",
       "      <td>16633.80</td>\n",
       "      <td>86876</td>\n",
       "      <td>NaN</td>\n",
       "    </tr>\n",
       "    <tr>\n",
       "      <th>2804</th>\n",
       "      <td>1.423544</td>\n",
       "      <td>-1.057917</td>\n",
       "      <td>16502.55</td>\n",
       "      <td>80207</td>\n",
       "      <td>NaN</td>\n",
       "    </tr>\n",
       "    <tr>\n",
       "      <th>2805</th>\n",
       "      <td>1.932944</td>\n",
       "      <td>-1.156061</td>\n",
       "      <td>16309.25</td>\n",
       "      <td>97783</td>\n",
       "      <td>NaN</td>\n",
       "    </tr>\n",
       "  </tbody>\n",
       "</table>\n",
       "</div>"
      ],
      "text/plain": [
       "       HL_Perc   CO_Perc     Close  Volume  PriceNextMonth\n",
       "2801  1.388351  0.425917  16870.60  152362             NaN\n",
       "2802  1.074627 -0.710101  16779.00   44651             NaN\n",
       "2803  1.325026 -0.841729  16633.80   86876             NaN\n",
       "2804  1.423544 -1.057917  16502.55   80207             NaN\n",
       "2805  1.932944 -1.156061  16309.25   97783             NaN"
      ]
     },
     "execution_count": 562,
     "metadata": {},
     "output_type": "execute_result"
    }
   ],
   "source": [
    "stock.tail()"
   ]
  },
  {
   "cell_type": "code",
   "execution_count": 563,
   "id": "c687b99c",
   "metadata": {},
   "outputs": [
    {
     "name": "stderr",
     "output_type": "stream",
     "text": [
      "C:\\Users\\suresh\\AppData\\Local\\Temp\\ipykernel_17924\\459189850.py:2: FutureWarning: In a future version of pandas all arguments of DataFrame.drop except for the argument 'labels' will be keyword-only.\n",
      "  X = np.array(stock.drop([\"PriceNextMonth\"], 1))\n"
     ]
    }
   ],
   "source": [
    "#Make fetaure and label arrays\n",
    "X = np.array(stock.drop([\"PriceNextMonth\"], 1))\n",
    "X = preprocessing.scale(X)\n",
    "X_Check = X[-30:]\n",
    "X = X[:-30]\n",
    "stock.dropna(inplace = True)\n",
    "y = np.array(stock[\"PriceNextMonth\"])"
   ]
  },
  {
   "cell_type": "code",
   "execution_count": 564,
   "id": "381f2472",
   "metadata": {},
   "outputs": [],
   "source": [
    "#Divide the data set into training data and testing data\n",
    "X_train, X_test, y_train, y_test = train_test_split(X,y,test_size = 0.2)"
   ]
  },
  {
   "cell_type": "code",
   "execution_count": 565,
   "id": "489c08a2",
   "metadata": {},
   "outputs": [],
   "source": [
    "#Define the prediction model\n",
    "model = RandomForestRegressor()"
   ]
  },
  {
   "cell_type": "code",
   "execution_count": 566,
   "id": "74ff8cec",
   "metadata": {},
   "outputs": [
    {
     "data": {
      "text/plain": [
       "RandomForestRegressor()"
      ]
     },
     "execution_count": 566,
     "metadata": {},
     "output_type": "execute_result"
    }
   ],
   "source": [
    "#Fit the model using training data\n",
    "model.fit(X_train, y_train)"
   ]
  },
  {
   "cell_type": "code",
   "execution_count": 567,
   "id": "520c0372",
   "metadata": {},
   "outputs": [
    {
     "name": "stdout",
     "output_type": "stream",
     "text": [
      "0.98265069809105\n"
     ]
    }
   ],
   "source": [
    "#Calculate the confidence value by applying the model to testing data\n",
    "conf = model.score(X_test, y_test)\n",
    "print(conf)"
   ]
  },
  {
   "cell_type": "code",
   "execution_count": 568,
   "id": "b9381393",
   "metadata": {},
   "outputs": [
    {
     "data": {
      "text/plain": [
       "RandomForestRegressor()"
      ]
     },
     "execution_count": 568,
     "metadata": {},
     "output_type": "execute_result"
    }
   ],
   "source": [
    "#Fit the model again using the whole data set\n",
    "model.fit(X,y)"
   ]
  },
  {
   "cell_type": "code",
   "execution_count": 569,
   "id": "4990c67a",
   "metadata": {},
   "outputs": [],
   "source": [
    "predictions = model.predict(X_Check)"
   ]
  },
  {
   "cell_type": "code",
   "execution_count": 570,
   "id": "c0d5a9e2",
   "metadata": {},
   "outputs": [],
   "source": [
    "#Make the final DataFrame containing Dates, ClosePrices, and Forecast values\n",
    "actual = pd.DataFrame(dates, columns = [\"Date\"])\n",
    "actual[\"ClosePrice\"] = stock[\"Close\"]\n",
    "actual[\"Forecast\"] = np.nan\n",
    "actual.set_index(\"Date\", inplace = True)\n",
    "forecast = pd.DataFrame(dates_check, columns=[\"Date\"])\n",
    "forecast[\"Forecast\"] = predictions\n",
    "forecast[\"ClosePrice\"] = np.nan\n",
    "forecast.set_index(\"Date\", inplace = True)\n",
    "var = [actual, forecast]\n",
    "result = pd.concat(var)  #This is the final DataFrame"
   ]
  },
  {
   "cell_type": "code",
   "execution_count": 571,
   "id": "45722829",
   "metadata": {},
   "outputs": [
    {
     "data": {
      "text/plain": [
       "Text(0, 0.5, 'Price')"
      ]
     },
     "execution_count": 571,
     "metadata": {},
     "output_type": "execute_result"
    },
    {
     "data": {
      "image/png": "[encoded data removed]",
      "text/plain": [
       "<Figure size 2000x1000 with 1 Axes>"
      ]
     },
     "metadata": {},
     "output_type": "display_data"
    }
   ],
   "source": [
    "#Plot the final results\n",
    "result.plot(figsize=(20,10), linewidth=1.5)\n",
    "plt.legend(loc=2, prop={'size':20})\n",
    "plt.xlabel('Date')\n",
    "plt.ylabel('Price')"
   ]
  },
  {
   "cell_type": "code",
   "execution_count": null,
   "id": "e099aee8",
   "metadata": {},
   "outputs": [],
   "source": []
  },
  {
   "cell_type": "code",
   "execution_count": null,
   "id": "63ea5b96",
   "metadata": {},
   "outputs": [],
   "source": []
  }
 ],
 "metadata": {
  "kernelspec": {
   "display_name": "Python 3 (ipykernel)",
   "language": "python",
   "name": "python3"
  },
  "language_info": {
   "codemirror_mode": {
    "name": "ipython",
    "version": 3
   },
   "file_extension": ".py",
   "mimetype": "text/x-python",
   "name": "python",
   "nbconvert_exporter": "python",
   "pygments_lexer": "ipython3",
   "version": "3.9.13"
  }
 },
 "nbformat": 4,
 "nbformat_minor": 5
}
