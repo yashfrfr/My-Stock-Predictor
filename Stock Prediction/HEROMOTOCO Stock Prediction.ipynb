{
 "cells": [
  {
   "cell_type": "code",
   "execution_count": 2,
   "id": "5a20ead1",
   "metadata": {},
   "outputs": [],
   "source": [
    "#Import the libraries\n",
    "import pandas as pd \n",
    "import numpy as np \n",
    "import matplotlib.pyplot as plt \n",
    "from sklearn import preprocessing\n",
    "from sklearn.ensemble import RandomForestRegressor\n",
    "from sklearn.model_selection import train_test_split\n",
    "from sklearn.metrics import mean_absolute_error, r2_score"
   ]
  },
  {
   "cell_type": "code",
   "execution_count": 283,
   "id": "1ebabd9c",
   "metadata": {},
   "outputs": [],
   "source": [
    "stock = pd.read_csv(\"C:/Users/suresh/Desktop/PYTHON ML DATA SCIENCE/Stock Prediction/Stock Data/HEROMOTOCO.csv\")"
   ]
  },
  {
   "cell_type": "code",
   "execution_count": 284,
   "id": "b4a873d4",
   "metadata": {},
   "outputs": [
    {
     "data": {
      "text/html": [
       "<div>\n",
       "<style scoped>\n",
       "    .dataframe tbody tr th:only-of-type {\n",
       "        vertical-align: middle;\n",
       "    }\n",
       "\n",
       "    .dataframe tbody tr th {\n",
       "        vertical-align: top;\n",
       "    }\n",
       "\n",
       "    .dataframe thead th {\n",
       "        text-align: right;\n",
       "    }\n",
       "</style>\n",
       "<table border=\"1\" class=\"dataframe\">\n",
       "  <thead>\n",
       "    <tr style=\"text-align: right;\">\n",
       "      <th></th>\n",
       "      <th>Date</th>\n",
       "      <th>Symbol</th>\n",
       "      <th>Series</th>\n",
       "      <th>Prev Close</th>\n",
       "      <th>Open</th>\n",
       "      <th>High</th>\n",
       "      <th>Low</th>\n",
       "      <th>Last</th>\n",
       "      <th>Close</th>\n",
       "      <th>VWAP</th>\n",
       "      <th>Volume</th>\n",
       "      <th>Turnover</th>\n",
       "      <th>Trades</th>\n",
       "      <th>Deliverable Volume</th>\n",
       "      <th>%Deliverble</th>\n",
       "    </tr>\n",
       "  </thead>\n",
       "  <tbody>\n",
       "    <tr>\n",
       "      <th>0</th>\n",
       "      <td>2000-01-03</td>\n",
       "      <td>HEROHONDA</td>\n",
       "      <td>EQ</td>\n",
       "      <td>1145.20</td>\n",
       "      <td>1200.0</td>\n",
       "      <td>1236.80</td>\n",
       "      <td>1171.00</td>\n",
       "      <td>1209.95</td>\n",
       "      <td>1207.60</td>\n",
       "      <td>1209.11</td>\n",
       "      <td>10631</td>\n",
       "      <td>1.285401e+12</td>\n",
       "      <td>NaN</td>\n",
       "      <td>NaN</td>\n",
       "      <td>NaN</td>\n",
       "    </tr>\n",
       "    <tr>\n",
       "      <th>1</th>\n",
       "      <td>2000-01-04</td>\n",
       "      <td>HEROHONDA</td>\n",
       "      <td>EQ</td>\n",
       "      <td>1207.60</td>\n",
       "      <td>1200.0</td>\n",
       "      <td>1220.00</td>\n",
       "      <td>1176.00</td>\n",
       "      <td>1200.00</td>\n",
       "      <td>1199.85</td>\n",
       "      <td>1200.93</td>\n",
       "      <td>19849</td>\n",
       "      <td>2.383719e+12</td>\n",
       "      <td>NaN</td>\n",
       "      <td>NaN</td>\n",
       "      <td>NaN</td>\n",
       "    </tr>\n",
       "    <tr>\n",
       "      <th>2</th>\n",
       "      <td>2000-01-05</td>\n",
       "      <td>HEROHONDA</td>\n",
       "      <td>EQ</td>\n",
       "      <td>1199.85</td>\n",
       "      <td>1155.0</td>\n",
       "      <td>1178.00</td>\n",
       "      <td>1140.00</td>\n",
       "      <td>1140.00</td>\n",
       "      <td>1143.80</td>\n",
       "      <td>1159.74</td>\n",
       "      <td>2525</td>\n",
       "      <td>2.928355e+11</td>\n",
       "      <td>NaN</td>\n",
       "      <td>NaN</td>\n",
       "      <td>NaN</td>\n",
       "    </tr>\n",
       "    <tr>\n",
       "      <th>3</th>\n",
       "      <td>2000-01-06</td>\n",
       "      <td>HEROHONDA</td>\n",
       "      <td>EQ</td>\n",
       "      <td>1143.80</td>\n",
       "      <td>1183.0</td>\n",
       "      <td>1189.95</td>\n",
       "      <td>1150.25</td>\n",
       "      <td>1165.00</td>\n",
       "      <td>1161.40</td>\n",
       "      <td>1167.29</td>\n",
       "      <td>4375</td>\n",
       "      <td>5.106887e+11</td>\n",
       "      <td>NaN</td>\n",
       "      <td>NaN</td>\n",
       "      <td>NaN</td>\n",
       "    </tr>\n",
       "    <tr>\n",
       "      <th>4</th>\n",
       "      <td>2000-01-07</td>\n",
       "      <td>HEROHONDA</td>\n",
       "      <td>EQ</td>\n",
       "      <td>1161.40</td>\n",
       "      <td>1140.0</td>\n",
       "      <td>1140.00</td>\n",
       "      <td>1069.00</td>\n",
       "      <td>1105.00</td>\n",
       "      <td>1106.55</td>\n",
       "      <td>1103.52</td>\n",
       "      <td>9093</td>\n",
       "      <td>1.003429e+12</td>\n",
       "      <td>NaN</td>\n",
       "      <td>NaN</td>\n",
       "      <td>NaN</td>\n",
       "    </tr>\n",
       "  </tbody>\n",
       "</table>\n",
       "</div>"
      ],
      "text/plain": [
       "         Date     Symbol Series  Prev Close    Open     High      Low  \\\n",
       "0  2000-01-03  HEROHONDA     EQ     1145.20  1200.0  1236.80  1171.00   \n",
       "1  2000-01-04  HEROHONDA     EQ     1207.60  1200.0  1220.00  1176.00   \n",
       "2  2000-01-05  HEROHONDA     EQ     1199.85  1155.0  1178.00  1140.00   \n",
       "3  2000-01-06  HEROHONDA     EQ     1143.80  1183.0  1189.95  1150.25   \n",
       "4  2000-01-07  HEROHONDA     EQ     1161.40  1140.0  1140.00  1069.00   \n",
       "\n",
       "      Last    Close     VWAP  Volume      Turnover  Trades  \\\n",
       "0  1209.95  1207.60  1209.11   10631  1.285401e+12     NaN   \n",
       "1  1200.00  1199.85  1200.93   19849  2.383719e+12     NaN   \n",
       "2  1140.00  1143.80  1159.74    2525  2.928355e+11     NaN   \n",
       "3  1165.00  1161.40  1167.29    4375  5.106887e+11     NaN   \n",
       "4  1105.00  1106.55  1103.52    9093  1.003429e+12     NaN   \n",
       "\n",
       "   Deliverable Volume  %Deliverble  \n",
       "0                 NaN          NaN  \n",
       "1                 NaN          NaN  \n",
       "2                 NaN          NaN  \n",
       "3                 NaN          NaN  \n",
       "4                 NaN          NaN  "
      ]
     },
     "execution_count": 284,
     "metadata": {},
     "output_type": "execute_result"
    }
   ],
   "source": [
    "stock.head()"
   ]
  },
  {
   "cell_type": "code",
   "execution_count": 285,
   "id": "564201f0",
   "metadata": {},
   "outputs": [
    {
     "name": "stdout",
     "output_type": "stream",
     "text": [
      "<class 'pandas.core.frame.DataFrame'>\n",
      "RangeIndex: 5306 entries, 0 to 5305\n",
      "Data columns (total 15 columns):\n",
      " #   Column              Non-Null Count  Dtype  \n",
      "---  ------              --------------  -----  \n",
      " 0   Date                5306 non-null   object \n",
      " 1   Symbol              5306 non-null   object \n",
      " 2   Series              5306 non-null   object \n",
      " 3   Prev Close          5306 non-null   float64\n",
      " 4   Open                5306 non-null   float64\n",
      " 5   High                5306 non-null   float64\n",
      " 6   Low                 5306 non-null   float64\n",
      " 7   Last                5306 non-null   float64\n",
      " 8   Close               5306 non-null   float64\n",
      " 9   VWAP                5306 non-null   float64\n",
      " 10  Volume              5306 non-null   int64  \n",
      " 11  Turnover            5306 non-null   float64\n",
      " 12  Trades              2456 non-null   float64\n",
      " 13  Deliverable Volume  4797 non-null   float64\n",
      " 14  %Deliverble         4797 non-null   float64\n",
      "dtypes: float64(11), int64(1), object(3)\n",
      "memory usage: 621.9+ KB\n"
     ]
    }
   ],
   "source": [
    "stock.info()"
   ]
  },
  {
   "cell_type": "code",
   "execution_count": 286,
   "id": "c9d711dd",
   "metadata": {},
   "outputs": [
    {
     "data": {
      "text/html": [
       "<div>\n",
       "<style scoped>\n",
       "    .dataframe tbody tr th:only-of-type {\n",
       "        vertical-align: middle;\n",
       "    }\n",
       "\n",
       "    .dataframe tbody tr th {\n",
       "        vertical-align: top;\n",
       "    }\n",
       "\n",
       "    .dataframe thead th {\n",
       "        text-align: right;\n",
       "    }\n",
       "</style>\n",
       "<table border=\"1\" class=\"dataframe\">\n",
       "  <thead>\n",
       "    <tr style=\"text-align: right;\">\n",
       "      <th></th>\n",
       "      <th>Prev Close</th>\n",
       "      <th>Open</th>\n",
       "      <th>High</th>\n",
       "      <th>Low</th>\n",
       "      <th>Last</th>\n",
       "      <th>Close</th>\n",
       "      <th>VWAP</th>\n",
       "      <th>Volume</th>\n",
       "      <th>Turnover</th>\n",
       "      <th>Trades</th>\n",
       "      <th>Deliverable Volume</th>\n",
       "      <th>%Deliverble</th>\n",
       "    </tr>\n",
       "  </thead>\n",
       "  <tbody>\n",
       "    <tr>\n",
       "      <th>count</th>\n",
       "      <td>5306.000000</td>\n",
       "      <td>5306.000000</td>\n",
       "      <td>5306.000000</td>\n",
       "      <td>5306.000000</td>\n",
       "      <td>5306.000000</td>\n",
       "      <td>5306.000000</td>\n",
       "      <td>5306.000000</td>\n",
       "      <td>5.306000e+03</td>\n",
       "      <td>5.306000e+03</td>\n",
       "      <td>2456.000000</td>\n",
       "      <td>4.797000e+03</td>\n",
       "      <td>4797.000000</td>\n",
       "    </tr>\n",
       "    <tr>\n",
       "      <th>mean</th>\n",
       "      <td>1651.346862</td>\n",
       "      <td>1653.169544</td>\n",
       "      <td>1675.767273</td>\n",
       "      <td>1628.693781</td>\n",
       "      <td>1651.483047</td>\n",
       "      <td>1651.662345</td>\n",
       "      <td>1652.497631</td>\n",
       "      <td>4.871809e+05</td>\n",
       "      <td>9.100201e+13</td>\n",
       "      <td>37295.248779</td>\n",
       "      <td>2.599261e+05</td>\n",
       "      <td>0.519843</td>\n",
       "    </tr>\n",
       "    <tr>\n",
       "      <th>std</th>\n",
       "      <td>1083.346794</td>\n",
       "      <td>1085.385796</td>\n",
       "      <td>1095.027199</td>\n",
       "      <td>1073.447115</td>\n",
       "      <td>1083.179725</td>\n",
       "      <td>1083.443103</td>\n",
       "      <td>1084.177213</td>\n",
       "      <td>5.300477e+05</td>\n",
       "      <td>1.396886e+14</td>\n",
       "      <td>26960.953831</td>\n",
       "      <td>2.785190e+05</td>\n",
       "      <td>0.155270</td>\n",
       "    </tr>\n",
       "    <tr>\n",
       "      <th>min</th>\n",
       "      <td>116.650000</td>\n",
       "      <td>117.000000</td>\n",
       "      <td>123.700000</td>\n",
       "      <td>115.050000</td>\n",
       "      <td>117.000000</td>\n",
       "      <td>116.650000</td>\n",
       "      <td>118.880000</td>\n",
       "      <td>5.960000e+02</td>\n",
       "      <td>2.765216e+10</td>\n",
       "      <td>646.000000</td>\n",
       "      <td>1.642000e+03</td>\n",
       "      <td>0.083700</td>\n",
       "    </tr>\n",
       "    <tr>\n",
       "      <th>25%</th>\n",
       "      <td>697.287500</td>\n",
       "      <td>697.325000</td>\n",
       "      <td>709.900000</td>\n",
       "      <td>682.000000</td>\n",
       "      <td>697.000000</td>\n",
       "      <td>697.287500</td>\n",
       "      <td>696.077500</td>\n",
       "      <td>2.078688e+05</td>\n",
       "      <td>1.588965e+13</td>\n",
       "      <td>20107.500000</td>\n",
       "      <td>1.227350e+05</td>\n",
       "      <td>0.413600</td>\n",
       "    </tr>\n",
       "    <tr>\n",
       "      <th>50%</th>\n",
       "      <td>1689.425000</td>\n",
       "      <td>1690.000000</td>\n",
       "      <td>1713.500000</td>\n",
       "      <td>1660.750000</td>\n",
       "      <td>1689.550000</td>\n",
       "      <td>1689.925000</td>\n",
       "      <td>1686.615000</td>\n",
       "      <td>3.546025e+05</td>\n",
       "      <td>5.149785e+13</td>\n",
       "      <td>29540.000000</td>\n",
       "      <td>2.018250e+05</td>\n",
       "      <td>0.526400</td>\n",
       "    </tr>\n",
       "    <tr>\n",
       "      <th>75%</th>\n",
       "      <td>2584.487500</td>\n",
       "      <td>2590.000000</td>\n",
       "      <td>2617.775000</td>\n",
       "      <td>2555.750000</td>\n",
       "      <td>2585.000000</td>\n",
       "      <td>2584.725000</td>\n",
       "      <td>2588.282500</td>\n",
       "      <td>5.967798e+05</td>\n",
       "      <td>1.114694e+14</td>\n",
       "      <td>45236.500000</td>\n",
       "      <td>3.266780e+05</td>\n",
       "      <td>0.632700</td>\n",
       "    </tr>\n",
       "    <tr>\n",
       "      <th>max</th>\n",
       "      <td>4048.950000</td>\n",
       "      <td>4084.000000</td>\n",
       "      <td>4091.950000</td>\n",
       "      <td>3995.000000</td>\n",
       "      <td>4036.050000</td>\n",
       "      <td>4048.950000</td>\n",
       "      <td>4046.970000</td>\n",
       "      <td>1.166595e+07</td>\n",
       "      <td>3.359303e+15</td>\n",
       "      <td>243105.000000</td>\n",
       "      <td>8.862088e+06</td>\n",
       "      <td>1.000000</td>\n",
       "    </tr>\n",
       "  </tbody>\n",
       "</table>\n",
       "</div>"
      ],
      "text/plain": [
       "        Prev Close         Open         High          Low         Last  \\\n",
       "count  5306.000000  5306.000000  5306.000000  5306.000000  5306.000000   \n",
       "mean   1651.346862  1653.169544  1675.767273  1628.693781  1651.483047   \n",
       "std    1083.346794  1085.385796  1095.027199  1073.447115  1083.179725   \n",
       "min     116.650000   117.000000   123.700000   115.050000   117.000000   \n",
       "25%     697.287500   697.325000   709.900000   682.000000   697.000000   \n",
       "50%    1689.425000  1690.000000  1713.500000  1660.750000  1689.550000   \n",
       "75%    2584.487500  2590.000000  2617.775000  2555.750000  2585.000000   \n",
       "max    4048.950000  4084.000000  4091.950000  3995.000000  4036.050000   \n",
       "\n",
       "             Close         VWAP        Volume      Turnover         Trades  \\\n",
       "count  5306.000000  5306.000000  5.306000e+03  5.306000e+03    2456.000000   \n",
       "mean   1651.662345  1652.497631  4.871809e+05  9.100201e+13   37295.248779   \n",
       "std    1083.443103  1084.177213  5.300477e+05  1.396886e+14   26960.953831   \n",
       "min     116.650000   118.880000  5.960000e+02  2.765216e+10     646.000000   \n",
       "25%     697.287500   696.077500  2.078688e+05  1.588965e+13   20107.500000   \n",
       "50%    1689.925000  1686.615000  3.546025e+05  5.149785e+13   29540.000000   \n",
       "75%    2584.725000  2588.282500  5.967798e+05  1.114694e+14   45236.500000   \n",
       "max    4048.950000  4046.970000  1.166595e+07  3.359303e+15  243105.000000   \n",
       "\n",
       "       Deliverable Volume  %Deliverble  \n",
       "count        4.797000e+03  4797.000000  \n",
       "mean         2.599261e+05     0.519843  \n",
       "std          2.785190e+05     0.155270  \n",
       "min          1.642000e+03     0.083700  \n",
       "25%          1.227350e+05     0.413600  \n",
       "50%          2.018250e+05     0.526400  \n",
       "75%          3.266780e+05     0.632700  \n",
       "max          8.862088e+06     1.000000  "
      ]
     },
     "execution_count": 286,
     "metadata": {},
     "output_type": "execute_result"
    }
   ],
   "source": [
    "stock.describe()"
   ]
  },
  {
   "cell_type": "code",
   "execution_count": 287,
   "id": "011a47e9",
   "metadata": {},
   "outputs": [],
   "source": [
    "# Ensure we are working with a copy of the DataFrame to avoid the SettingWithCopyWarning\n",
    "stock = stock.copy()"
   ]
  },
  {
   "cell_type": "code",
   "execution_count": 288,
   "id": "7758c824",
   "metadata": {},
   "outputs": [],
   "source": [
    "# Calculate HL_Perc and CO_Perc\n",
    "stock.loc[:, 'HL_Perc'] = (stock['High'] - stock['Low']) / stock['Low'] * 100\n",
    "stock.loc[:, 'CO_Perc'] = (stock['Close'] - stock['Open']) / stock['Open'] * 100"
   ]
  },
  {
   "cell_type": "code",
   "execution_count": 289,
   "id": "0bb9c198",
   "metadata": {},
   "outputs": [],
   "source": [
    "dates = np.array(stock[\"Date\"])\n",
    "dates_check = dates[-30:]\n",
    "dates = dates[:-30]"
   ]
  },
  {
   "cell_type": "code",
   "execution_count": 290,
   "id": "07901da7",
   "metadata": {},
   "outputs": [
    {
     "data": {
      "text/plain": [
       "Index(['Date', 'Symbol', 'Series', 'Prev Close', 'Open', 'High', 'Low', 'Last',\n",
       "       'Close', 'VWAP', 'Volume', 'Turnover', 'Trades', 'Deliverable Volume',\n",
       "       '%Deliverble', 'HL_Perc', 'CO_Perc'],\n",
       "      dtype='object')"
      ]
     },
     "execution_count": 290,
     "metadata": {},
     "output_type": "execute_result"
    }
   ],
   "source": [
    "stock.columns"
   ]
  },
  {
   "cell_type": "code",
   "execution_count": 291,
   "id": "75b07f7b",
   "metadata": {},
   "outputs": [],
   "source": [
    "stock = stock[[\"HL_Perc\", \"CO_Perc\", \"Close\", \"Volume\"]]"
   ]
  },
  {
   "cell_type": "code",
   "execution_count": 292,
   "id": "772db78e",
   "metadata": {},
   "outputs": [],
   "source": [
    "#Define the label column\n",
    "stock[\"PriceNextMonth\"] = stock[\"Close\"].shift(-30)"
   ]
  },
  {
   "cell_type": "code",
   "execution_count": 293,
   "id": "79011229",
   "metadata": {},
   "outputs": [
    {
     "data": {
      "text/html": [
       "<div>\n",
       "<style scoped>\n",
       "    .dataframe tbody tr th:only-of-type {\n",
       "        vertical-align: middle;\n",
       "    }\n",
       "\n",
       "    .dataframe tbody tr th {\n",
       "        vertical-align: top;\n",
       "    }\n",
       "\n",
       "    .dataframe thead th {\n",
       "        text-align: right;\n",
       "    }\n",
       "</style>\n",
       "<table border=\"1\" class=\"dataframe\">\n",
       "  <thead>\n",
       "    <tr style=\"text-align: right;\">\n",
       "      <th></th>\n",
       "      <th>HL_Perc</th>\n",
       "      <th>CO_Perc</th>\n",
       "      <th>Close</th>\n",
       "      <th>Volume</th>\n",
       "      <th>PriceNextMonth</th>\n",
       "    </tr>\n",
       "  </thead>\n",
       "  <tbody>\n",
       "    <tr>\n",
       "      <th>5301</th>\n",
       "      <td>1.710247</td>\n",
       "      <td>0.157340</td>\n",
       "      <td>2864.55</td>\n",
       "      <td>831133</td>\n",
       "      <td>NaN</td>\n",
       "    </tr>\n",
       "    <tr>\n",
       "      <th>5302</th>\n",
       "      <td>2.395262</td>\n",
       "      <td>1.060870</td>\n",
       "      <td>2905.50</td>\n",
       "      <td>811184</td>\n",
       "      <td>NaN</td>\n",
       "    </tr>\n",
       "    <tr>\n",
       "      <th>5303</th>\n",
       "      <td>3.222929</td>\n",
       "      <td>-0.059768</td>\n",
       "      <td>2926.25</td>\n",
       "      <td>1389833</td>\n",
       "      <td>NaN</td>\n",
       "    </tr>\n",
       "    <tr>\n",
       "      <th>5304</th>\n",
       "      <td>3.991158</td>\n",
       "      <td>-3.498887</td>\n",
       "      <td>2860.10</td>\n",
       "      <td>1009327</td>\n",
       "      <td>NaN</td>\n",
       "    </tr>\n",
       "    <tr>\n",
       "      <th>5305</th>\n",
       "      <td>1.960784</td>\n",
       "      <td>-0.552067</td>\n",
       "      <td>2819.15</td>\n",
       "      <td>670258</td>\n",
       "      <td>NaN</td>\n",
       "    </tr>\n",
       "  </tbody>\n",
       "</table>\n",
       "</div>"
      ],
      "text/plain": [
       "       HL_Perc   CO_Perc    Close   Volume  PriceNextMonth\n",
       "5301  1.710247  0.157340  2864.55   831133             NaN\n",
       "5302  2.395262  1.060870  2905.50   811184             NaN\n",
       "5303  3.222929 -0.059768  2926.25  1389833             NaN\n",
       "5304  3.991158 -3.498887  2860.10  1009327             NaN\n",
       "5305  1.960784 -0.552067  2819.15   670258             NaN"
      ]
     },
     "execution_count": 293,
     "metadata": {},
     "output_type": "execute_result"
    }
   ],
   "source": [
    "stock.tail()"
   ]
  },
  {
   "cell_type": "code",
   "execution_count": 294,
   "id": "c687b99c",
   "metadata": {},
   "outputs": [
    {
     "name": "stderr",
     "output_type": "stream",
     "text": [
      "C:\\Users\\suresh\\AppData\\Local\\Temp\\ipykernel_17924\\459189850.py:2: FutureWarning: In a future version of pandas all arguments of DataFrame.drop except for the argument 'labels' will be keyword-only.\n",
      "  X = np.array(stock.drop([\"PriceNextMonth\"], 1))\n"
     ]
    }
   ],
   "source": [
    "#Make fetaure and label arrays\n",
    "X = np.array(stock.drop([\"PriceNextMonth\"], 1))\n",
    "X = preprocessing.scale(X)\n",
    "X_Check = X[-30:]\n",
    "X = X[:-30]\n",
    "stock.dropna(inplace = True)\n",
    "y = np.array(stock[\"PriceNextMonth\"])"
   ]
  },
  {
   "cell_type": "code",
   "execution_count": 295,
   "id": "381f2472",
   "metadata": {},
   "outputs": [],
   "source": [
    "#Divide the data set into training data and testing data\n",
    "X_train, X_test, y_train, y_test = train_test_split(X,y,test_size = 0.2)"
   ]
  },
  {
   "cell_type": "code",
   "execution_count": 296,
   "id": "489c08a2",
   "metadata": {},
   "outputs": [],
   "source": [
    "#Define the prediction model\n",
    "model = RandomForestRegressor()"
   ]
  },
  {
   "cell_type": "code",
   "execution_count": 297,
   "id": "74ff8cec",
   "metadata": {},
   "outputs": [
    {
     "data": {
      "text/plain": [
       "RandomForestRegressor()"
      ]
     },
     "execution_count": 297,
     "metadata": {},
     "output_type": "execute_result"
    }
   ],
   "source": [
    "#Fit the model using training data\n",
    "model.fit(X_train, y_train)"
   ]
  },
  {
   "cell_type": "code",
   "execution_count": 298,
   "id": "520c0372",
   "metadata": {},
   "outputs": [
    {
     "name": "stdout",
     "output_type": "stream",
     "text": [
      "0.9753079252061572\n"
     ]
    }
   ],
   "source": [
    "#Calculate the confidence value by applying the model to testing data\n",
    "conf = model.score(X_test, y_test)\n",
    "print(conf)"
   ]
  },
  {
   "cell_type": "code",
   "execution_count": 299,
   "id": "b9381393",
   "metadata": {},
   "outputs": [
    {
     "data": {
      "text/plain": [
       "RandomForestRegressor()"
      ]
     },
     "execution_count": 299,
     "metadata": {},
     "output_type": "execute_result"
    }
   ],
   "source": [
    "#Fit the model again using the whole data set\n",
    "model.fit(X,y)"
   ]
  },
  {
   "cell_type": "code",
   "execution_count": 300,
   "id": "4990c67a",
   "metadata": {},
   "outputs": [],
   "source": [
    "predictions = model.predict(X_Check)"
   ]
  },
  {
   "cell_type": "code",
   "execution_count": 301,
   "id": "c0d5a9e2",
   "metadata": {},
   "outputs": [],
   "source": [
    "#Make the final DataFrame containing Dates, ClosePrices, and Forecast values\n",
    "actual = pd.DataFrame(dates, columns = [\"Date\"])\n",
    "actual[\"ClosePrice\"] = stock[\"Close\"]\n",
    "actual[\"Forecast\"] = np.nan\n",
    "actual.set_index(\"Date\", inplace = True)\n",
    "forecast = pd.DataFrame(dates_check, columns=[\"Date\"])\n",
    "forecast[\"Forecast\"] = predictions\n",
    "forecast[\"ClosePrice\"] = np.nan\n",
    "forecast.set_index(\"Date\", inplace = True)\n",
    "var = [actual, forecast]\n",
    "result = pd.concat(var)  #This is the final DataFrame"
   ]
  },
  {
   "cell_type": "code",
   "execution_count": 302,
   "id": "45722829",
   "metadata": {},
   "outputs": [
    {
     "data": {
      "text/plain": [
       "Text(0, 0.5, 'Price')"
      ]
     },
     "execution_count": 302,
     "metadata": {},
     "output_type": "execute_result"
    },
    {
     "data": {
      "image/png": "[encoded data removed]",
      "text/plain": [
       "<Figure size 2000x1000 with 1 Axes>"
      ]
     },
     "metadata": {},
     "output_type": "display_data"
    }
   ],
   "source": [
    "#Plot the final results\n",
    "result.plot(figsize=(20,10), linewidth=1.5)\n",
    "plt.legend(loc=2, prop={'size':20})\n",
    "plt.xlabel('Date')\n",
    "plt.ylabel('Price')"
   ]
  },
  {
   "cell_type": "code",
   "execution_count": null,
   "id": "e099aee8",
   "metadata": {},
   "outputs": [],
   "source": []
  },
  {
   "cell_type": "code",
   "execution_count": null,
   "id": "a0e38302",
   "metadata": {},
   "outputs": [],
   "source": []
  }
 ],
 "metadata": {
  "kernelspec": {
   "display_name": "Python 3 (ipykernel)",
   "language": "python",
   "name": "python3"
  },
  "language_info": {
   "codemirror_mode": {
    "name": "ipython",
    "version": 3
   },
   "file_extension": ".py",
   "mimetype": "text/x-python",
   "name": "python",
   "nbconvert_exporter": "python",
   "pygments_lexer": "ipython3",
   "version": "3.9.13"
  }
 },
 "nbformat": 4,
 "nbformat_minor": 5
}
