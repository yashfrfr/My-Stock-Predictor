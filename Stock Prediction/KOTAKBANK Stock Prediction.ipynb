{
 "cells": [
  {
   "cell_type": "code",
   "execution_count": 2,
   "id": "5a20ead1",
   "metadata": {},
   "outputs": [],
   "source": [
    "#Import the libraries\n",
    "import pandas as pd \n",
    "import numpy as np \n",
    "import matplotlib.pyplot as plt \n",
    "from sklearn import preprocessing\n",
    "from sklearn.ensemble import RandomForestRegressor\n",
    "from sklearn.model_selection import train_test_split\n",
    "from sklearn.metrics import mean_absolute_error, r2_score"
   ]
  },
  {
   "cell_type": "code",
   "execution_count": 472,
   "id": "1ebabd9c",
   "metadata": {},
   "outputs": [],
   "source": [
    "stock = pd.read_csv(\"C:/Users/suresh/Desktop/PYTHON ML DATA SCIENCE/Stock Prediction/Stock Data/KOTAKBANK.csv\")"
   ]
  },
  {
   "cell_type": "code",
   "execution_count": 473,
   "id": "b4a873d4",
   "metadata": {},
   "outputs": [
    {
     "data": {
      "text/html": [
       "<div>\n",
       "<style scoped>\n",
       "    .dataframe tbody tr th:only-of-type {\n",
       "        vertical-align: middle;\n",
       "    }\n",
       "\n",
       "    .dataframe tbody tr th {\n",
       "        vertical-align: top;\n",
       "    }\n",
       "\n",
       "    .dataframe thead th {\n",
       "        text-align: right;\n",
       "    }\n",
       "</style>\n",
       "<table border=\"1\" class=\"dataframe\">\n",
       "  <thead>\n",
       "    <tr style=\"text-align: right;\">\n",
       "      <th></th>\n",
       "      <th>Date</th>\n",
       "      <th>Symbol</th>\n",
       "      <th>Series</th>\n",
       "      <th>Prev Close</th>\n",
       "      <th>Open</th>\n",
       "      <th>High</th>\n",
       "      <th>Low</th>\n",
       "      <th>Last</th>\n",
       "      <th>Close</th>\n",
       "      <th>VWAP</th>\n",
       "      <th>Volume</th>\n",
       "      <th>Turnover</th>\n",
       "      <th>Trades</th>\n",
       "      <th>Deliverable Volume</th>\n",
       "      <th>%Deliverble</th>\n",
       "    </tr>\n",
       "  </thead>\n",
       "  <tbody>\n",
       "    <tr>\n",
       "      <th>0</th>\n",
       "      <td>2000-01-03</td>\n",
       "      <td>KOTAKMAH</td>\n",
       "      <td>EQ</td>\n",
       "      <td>212.35</td>\n",
       "      <td>220.0</td>\n",
       "      <td>229.35</td>\n",
       "      <td>220.00</td>\n",
       "      <td>229.35</td>\n",
       "      <td>229.35</td>\n",
       "      <td>229.13</td>\n",
       "      <td>7086</td>\n",
       "      <td>1.623640e+11</td>\n",
       "      <td>NaN</td>\n",
       "      <td>NaN</td>\n",
       "      <td>NaN</td>\n",
       "    </tr>\n",
       "    <tr>\n",
       "      <th>1</th>\n",
       "      <td>2000-01-04</td>\n",
       "      <td>KOTAKMAH</td>\n",
       "      <td>EQ</td>\n",
       "      <td>229.35</td>\n",
       "      <td>247.7</td>\n",
       "      <td>247.70</td>\n",
       "      <td>225.25</td>\n",
       "      <td>247.70</td>\n",
       "      <td>246.95</td>\n",
       "      <td>244.12</td>\n",
       "      <td>73681</td>\n",
       "      <td>1.798729e+12</td>\n",
       "      <td>NaN</td>\n",
       "      <td>NaN</td>\n",
       "      <td>NaN</td>\n",
       "    </tr>\n",
       "    <tr>\n",
       "      <th>2</th>\n",
       "      <td>2000-01-05</td>\n",
       "      <td>KOTAKMAH</td>\n",
       "      <td>EQ</td>\n",
       "      <td>246.95</td>\n",
       "      <td>229.0</td>\n",
       "      <td>240.00</td>\n",
       "      <td>227.20</td>\n",
       "      <td>228.00</td>\n",
       "      <td>228.40</td>\n",
       "      <td>233.75</td>\n",
       "      <td>105799</td>\n",
       "      <td>2.473093e+12</td>\n",
       "      <td>NaN</td>\n",
       "      <td>NaN</td>\n",
       "      <td>NaN</td>\n",
       "    </tr>\n",
       "    <tr>\n",
       "      <th>3</th>\n",
       "      <td>2000-01-06</td>\n",
       "      <td>KOTAKMAH</td>\n",
       "      <td>EQ</td>\n",
       "      <td>228.40</td>\n",
       "      <td>235.1</td>\n",
       "      <td>239.00</td>\n",
       "      <td>217.00</td>\n",
       "      <td>224.95</td>\n",
       "      <td>225.90</td>\n",
       "      <td>226.84</td>\n",
       "      <td>40202</td>\n",
       "      <td>9.119546e+11</td>\n",
       "      <td>NaN</td>\n",
       "      <td>NaN</td>\n",
       "      <td>NaN</td>\n",
       "    </tr>\n",
       "    <tr>\n",
       "      <th>4</th>\n",
       "      <td>2000-01-07</td>\n",
       "      <td>KOTAKMAH</td>\n",
       "      <td>EQ</td>\n",
       "      <td>225.90</td>\n",
       "      <td>213.0</td>\n",
       "      <td>219.00</td>\n",
       "      <td>207.85</td>\n",
       "      <td>207.85</td>\n",
       "      <td>208.85</td>\n",
       "      <td>209.94</td>\n",
       "      <td>24463</td>\n",
       "      <td>5.135747e+11</td>\n",
       "      <td>NaN</td>\n",
       "      <td>NaN</td>\n",
       "      <td>NaN</td>\n",
       "    </tr>\n",
       "  </tbody>\n",
       "</table>\n",
       "</div>"
      ],
      "text/plain": [
       "         Date    Symbol Series  Prev Close   Open    High     Low    Last  \\\n",
       "0  2000-01-03  KOTAKMAH     EQ      212.35  220.0  229.35  220.00  229.35   \n",
       "1  2000-01-04  KOTAKMAH     EQ      229.35  247.7  247.70  225.25  247.70   \n",
       "2  2000-01-05  KOTAKMAH     EQ      246.95  229.0  240.00  227.20  228.00   \n",
       "3  2000-01-06  KOTAKMAH     EQ      228.40  235.1  239.00  217.00  224.95   \n",
       "4  2000-01-07  KOTAKMAH     EQ      225.90  213.0  219.00  207.85  207.85   \n",
       "\n",
       "    Close    VWAP  Volume      Turnover  Trades  Deliverable Volume  \\\n",
       "0  229.35  229.13    7086  1.623640e+11     NaN                 NaN   \n",
       "1  246.95  244.12   73681  1.798729e+12     NaN                 NaN   \n",
       "2  228.40  233.75  105799  2.473093e+12     NaN                 NaN   \n",
       "3  225.90  226.84   40202  9.119546e+11     NaN                 NaN   \n",
       "4  208.85  209.94   24463  5.135747e+11     NaN                 NaN   \n",
       "\n",
       "   %Deliverble  \n",
       "0          NaN  \n",
       "1          NaN  \n",
       "2          NaN  \n",
       "3          NaN  \n",
       "4          NaN  "
      ]
     },
     "execution_count": 473,
     "metadata": {},
     "output_type": "execute_result"
    }
   ],
   "source": [
    "stock.head()"
   ]
  },
  {
   "cell_type": "code",
   "execution_count": 474,
   "id": "564201f0",
   "metadata": {},
   "outputs": [
    {
     "name": "stdout",
     "output_type": "stream",
     "text": [
      "<class 'pandas.core.frame.DataFrame'>\n",
      "RangeIndex: 4985 entries, 0 to 4984\n",
      "Data columns (total 15 columns):\n",
      " #   Column              Non-Null Count  Dtype  \n",
      "---  ------              --------------  -----  \n",
      " 0   Date                4985 non-null   object \n",
      " 1   Symbol              4985 non-null   object \n",
      " 2   Series              4985 non-null   object \n",
      " 3   Prev Close          4985 non-null   float64\n",
      " 4   Open                4985 non-null   float64\n",
      " 5   High                4985 non-null   float64\n",
      " 6   Low                 4985 non-null   float64\n",
      " 7   Last                4985 non-null   float64\n",
      " 8   Close               4985 non-null   float64\n",
      " 9   VWAP                4985 non-null   float64\n",
      " 10  Volume              4985 non-null   int64  \n",
      " 11  Turnover            4985 non-null   float64\n",
      " 12  Trades              2456 non-null   float64\n",
      " 13  Deliverable Volume  4789 non-null   float64\n",
      " 14  %Deliverble         4789 non-null   float64\n",
      "dtypes: float64(11), int64(1), object(3)\n",
      "memory usage: 584.3+ KB\n"
     ]
    }
   ],
   "source": [
    "stock.info()"
   ]
  },
  {
   "cell_type": "code",
   "execution_count": 475,
   "id": "c9d711dd",
   "metadata": {},
   "outputs": [
    {
     "data": {
      "text/html": [
       "<div>\n",
       "<style scoped>\n",
       "    .dataframe tbody tr th:only-of-type {\n",
       "        vertical-align: middle;\n",
       "    }\n",
       "\n",
       "    .dataframe tbody tr th {\n",
       "        vertical-align: top;\n",
       "    }\n",
       "\n",
       "    .dataframe thead th {\n",
       "        text-align: right;\n",
       "    }\n",
       "</style>\n",
       "<table border=\"1\" class=\"dataframe\">\n",
       "  <thead>\n",
       "    <tr style=\"text-align: right;\">\n",
       "      <th></th>\n",
       "      <th>Prev Close</th>\n",
       "      <th>Open</th>\n",
       "      <th>High</th>\n",
       "      <th>Low</th>\n",
       "      <th>Last</th>\n",
       "      <th>Close</th>\n",
       "      <th>VWAP</th>\n",
       "      <th>Volume</th>\n",
       "      <th>Turnover</th>\n",
       "      <th>Trades</th>\n",
       "      <th>Deliverable Volume</th>\n",
       "      <th>%Deliverble</th>\n",
       "    </tr>\n",
       "  </thead>\n",
       "  <tbody>\n",
       "    <tr>\n",
       "      <th>count</th>\n",
       "      <td>4985.000000</td>\n",
       "      <td>4985.000000</td>\n",
       "      <td>4985.000000</td>\n",
       "      <td>4985.000000</td>\n",
       "      <td>4985.000000</td>\n",
       "      <td>4985.000000</td>\n",
       "      <td>4985.000000</td>\n",
       "      <td>4.985000e+03</td>\n",
       "      <td>4.985000e+03</td>\n",
       "      <td>2456.000000</td>\n",
       "      <td>4.789000e+03</td>\n",
       "      <td>4789.000000</td>\n",
       "    </tr>\n",
       "    <tr>\n",
       "      <th>mean</th>\n",
       "      <td>696.291755</td>\n",
       "      <td>697.154925</td>\n",
       "      <td>708.147543</td>\n",
       "      <td>684.984112</td>\n",
       "      <td>696.556409</td>\n",
       "      <td>696.615135</td>\n",
       "      <td>696.772050</td>\n",
       "      <td>1.283626e+06</td>\n",
       "      <td>1.355506e+14</td>\n",
       "      <td>54912.741857</td>\n",
       "      <td>6.701163e+05</td>\n",
       "      <td>0.514785</td>\n",
       "    </tr>\n",
       "    <tr>\n",
       "      <th>std</th>\n",
       "      <td>440.761023</td>\n",
       "      <td>441.037354</td>\n",
       "      <td>445.558375</td>\n",
       "      <td>435.579256</td>\n",
       "      <td>440.924524</td>\n",
       "      <td>440.938692</td>\n",
       "      <td>440.580761</td>\n",
       "      <td>2.486726e+06</td>\n",
       "      <td>3.589591e+14</td>\n",
       "      <td>60401.337897</td>\n",
       "      <td>1.577341e+06</td>\n",
       "      <td>0.166689</td>\n",
       "    </tr>\n",
       "    <tr>\n",
       "      <th>min</th>\n",
       "      <td>27.300000</td>\n",
       "      <td>26.950000</td>\n",
       "      <td>30.000000</td>\n",
       "      <td>26.000000</td>\n",
       "      <td>26.500000</td>\n",
       "      <td>27.300000</td>\n",
       "      <td>27.670000</td>\n",
       "      <td>1.050000e+02</td>\n",
       "      <td>4.608250e+08</td>\n",
       "      <td>375.000000</td>\n",
       "      <td>1.002000e+03</td>\n",
       "      <td>0.062300</td>\n",
       "    </tr>\n",
       "    <tr>\n",
       "      <th>25%</th>\n",
       "      <td>355.150000</td>\n",
       "      <td>355.000000</td>\n",
       "      <td>366.900000</td>\n",
       "      <td>346.650000</td>\n",
       "      <td>356.000000</td>\n",
       "      <td>355.600000</td>\n",
       "      <td>355.180000</td>\n",
       "      <td>1.855800e+05</td>\n",
       "      <td>5.388055e+12</td>\n",
       "      <td>19646.500000</td>\n",
       "      <td>1.126580e+05</td>\n",
       "      <td>0.401600</td>\n",
       "    </tr>\n",
       "    <tr>\n",
       "      <th>50%</th>\n",
       "      <td>650.950000</td>\n",
       "      <td>652.650000</td>\n",
       "      <td>662.000000</td>\n",
       "      <td>638.450000</td>\n",
       "      <td>650.500000</td>\n",
       "      <td>651.200000</td>\n",
       "      <td>651.390000</td>\n",
       "      <td>7.506900e+05</td>\n",
       "      <td>5.000255e+13</td>\n",
       "      <td>33764.500000</td>\n",
       "      <td>3.548760e+05</td>\n",
       "      <td>0.511100</td>\n",
       "    </tr>\n",
       "    <tr>\n",
       "      <th>75%</th>\n",
       "      <td>966.400000</td>\n",
       "      <td>967.000000</td>\n",
       "      <td>979.600000</td>\n",
       "      <td>955.250000</td>\n",
       "      <td>968.000000</td>\n",
       "      <td>966.850000</td>\n",
       "      <td>966.270000</td>\n",
       "      <td>1.577817e+06</td>\n",
       "      <td>1.243851e+14</td>\n",
       "      <td>66802.500000</td>\n",
       "      <td>8.194760e+05</td>\n",
       "      <td>0.631900</td>\n",
       "    </tr>\n",
       "    <tr>\n",
       "      <th>max</th>\n",
       "      <td>2019.650000</td>\n",
       "      <td>2016.700000</td>\n",
       "      <td>2049.000000</td>\n",
       "      <td>1999.000000</td>\n",
       "      <td>2023.900000</td>\n",
       "      <td>2019.650000</td>\n",
       "      <td>2028.690000</td>\n",
       "      <td>8.385990e+07</td>\n",
       "      <td>1.498222e+16</td>\n",
       "      <td>846705.000000</td>\n",
       "      <td>5.853186e+07</td>\n",
       "      <td>0.990100</td>\n",
       "    </tr>\n",
       "  </tbody>\n",
       "</table>\n",
       "</div>"
      ],
      "text/plain": [
       "        Prev Close         Open         High          Low         Last  \\\n",
       "count  4985.000000  4985.000000  4985.000000  4985.000000  4985.000000   \n",
       "mean    696.291755   697.154925   708.147543   684.984112   696.556409   \n",
       "std     440.761023   441.037354   445.558375   435.579256   440.924524   \n",
       "min      27.300000    26.950000    30.000000    26.000000    26.500000   \n",
       "25%     355.150000   355.000000   366.900000   346.650000   356.000000   \n",
       "50%     650.950000   652.650000   662.000000   638.450000   650.500000   \n",
       "75%     966.400000   967.000000   979.600000   955.250000   968.000000   \n",
       "max    2019.650000  2016.700000  2049.000000  1999.000000  2023.900000   \n",
       "\n",
       "             Close         VWAP        Volume      Turnover         Trades  \\\n",
       "count  4985.000000  4985.000000  4.985000e+03  4.985000e+03    2456.000000   \n",
       "mean    696.615135   696.772050  1.283626e+06  1.355506e+14   54912.741857   \n",
       "std     440.938692   440.580761  2.486726e+06  3.589591e+14   60401.337897   \n",
       "min      27.300000    27.670000  1.050000e+02  4.608250e+08     375.000000   \n",
       "25%     355.600000   355.180000  1.855800e+05  5.388055e+12   19646.500000   \n",
       "50%     651.200000   651.390000  7.506900e+05  5.000255e+13   33764.500000   \n",
       "75%     966.850000   966.270000  1.577817e+06  1.243851e+14   66802.500000   \n",
       "max    2019.650000  2028.690000  8.385990e+07  1.498222e+16  846705.000000   \n",
       "\n",
       "       Deliverable Volume  %Deliverble  \n",
       "count        4.789000e+03  4789.000000  \n",
       "mean         6.701163e+05     0.514785  \n",
       "std          1.577341e+06     0.166689  \n",
       "min          1.002000e+03     0.062300  \n",
       "25%          1.126580e+05     0.401600  \n",
       "50%          3.548760e+05     0.511100  \n",
       "75%          8.194760e+05     0.631900  \n",
       "max          5.853186e+07     0.990100  "
      ]
     },
     "execution_count": 475,
     "metadata": {},
     "output_type": "execute_result"
    }
   ],
   "source": [
    "stock.describe()"
   ]
  },
  {
   "cell_type": "code",
   "execution_count": 476,
   "id": "011a47e9",
   "metadata": {},
   "outputs": [],
   "source": [
    "# Ensure we are working with a copy of the DataFrame to avoid the SettingWithCopyWarning\n",
    "stock = stock.copy()"
   ]
  },
  {
   "cell_type": "code",
   "execution_count": 477,
   "id": "7758c824",
   "metadata": {},
   "outputs": [],
   "source": [
    "# Calculate HL_Perc and CO_Perc\n",
    "stock.loc[:, 'HL_Perc'] = (stock['High'] - stock['Low']) / stock['Low'] * 100\n",
    "stock.loc[:, 'CO_Perc'] = (stock['Close'] - stock['Open']) / stock['Open'] * 100"
   ]
  },
  {
   "cell_type": "code",
   "execution_count": 478,
   "id": "0bb9c198",
   "metadata": {},
   "outputs": [],
   "source": [
    "dates = np.array(stock[\"Date\"])\n",
    "dates_check = dates[-30:]\n",
    "dates = dates[:-30]"
   ]
  },
  {
   "cell_type": "code",
   "execution_count": 479,
   "id": "07901da7",
   "metadata": {},
   "outputs": [
    {
     "data": {
      "text/plain": [
       "Index(['Date', 'Symbol', 'Series', 'Prev Close', 'Open', 'High', 'Low', 'Last',\n",
       "       'Close', 'VWAP', 'Volume', 'Turnover', 'Trades', 'Deliverable Volume',\n",
       "       '%Deliverble', 'HL_Perc', 'CO_Perc'],\n",
       "      dtype='object')"
      ]
     },
     "execution_count": 479,
     "metadata": {},
     "output_type": "execute_result"
    }
   ],
   "source": [
    "stock.columns"
   ]
  },
  {
   "cell_type": "code",
   "execution_count": 480,
   "id": "75b07f7b",
   "metadata": {},
   "outputs": [],
   "source": [
    "stock = stock[[\"HL_Perc\", \"CO_Perc\", \"Close\", \"Volume\"]]"
   ]
  },
  {
   "cell_type": "code",
   "execution_count": 481,
   "id": "772db78e",
   "metadata": {},
   "outputs": [],
   "source": [
    "#Define the label column\n",
    "stock[\"PriceNextMonth\"] = stock[\"Close\"].shift(-30)"
   ]
  },
  {
   "cell_type": "code",
   "execution_count": 482,
   "id": "79011229",
   "metadata": {},
   "outputs": [
    {
     "data": {
      "text/html": [
       "<div>\n",
       "<style scoped>\n",
       "    .dataframe tbody tr th:only-of-type {\n",
       "        vertical-align: middle;\n",
       "    }\n",
       "\n",
       "    .dataframe tbody tr th {\n",
       "        vertical-align: top;\n",
       "    }\n",
       "\n",
       "    .dataframe thead th {\n",
       "        text-align: right;\n",
       "    }\n",
       "</style>\n",
       "<table border=\"1\" class=\"dataframe\">\n",
       "  <thead>\n",
       "    <tr style=\"text-align: right;\">\n",
       "      <th></th>\n",
       "      <th>HL_Perc</th>\n",
       "      <th>CO_Perc</th>\n",
       "      <th>Close</th>\n",
       "      <th>Volume</th>\n",
       "      <th>PriceNextMonth</th>\n",
       "    </tr>\n",
       "  </thead>\n",
       "  <tbody>\n",
       "    <tr>\n",
       "      <th>4980</th>\n",
       "      <td>2.867363</td>\n",
       "      <td>1.129310</td>\n",
       "      <td>1759.65</td>\n",
       "      <td>3253062</td>\n",
       "      <td>NaN</td>\n",
       "    </tr>\n",
       "    <tr>\n",
       "      <th>4981</th>\n",
       "      <td>2.206373</td>\n",
       "      <td>0.017143</td>\n",
       "      <td>1750.30</td>\n",
       "      <td>4533360</td>\n",
       "      <td>NaN</td>\n",
       "    </tr>\n",
       "    <tr>\n",
       "      <th>4982</th>\n",
       "      <td>3.990878</td>\n",
       "      <td>2.777305</td>\n",
       "      <td>1811.45</td>\n",
       "      <td>4174599</td>\n",
       "      <td>NaN</td>\n",
       "    </tr>\n",
       "    <tr>\n",
       "      <th>4983</th>\n",
       "      <td>3.644941</td>\n",
       "      <td>-1.101310</td>\n",
       "      <td>1805.00</td>\n",
       "      <td>3960095</td>\n",
       "      <td>NaN</td>\n",
       "    </tr>\n",
       "    <tr>\n",
       "      <th>4984</th>\n",
       "      <td>3.595964</td>\n",
       "      <td>-1.752809</td>\n",
       "      <td>1748.80</td>\n",
       "      <td>2621783</td>\n",
       "      <td>NaN</td>\n",
       "    </tr>\n",
       "  </tbody>\n",
       "</table>\n",
       "</div>"
      ],
      "text/plain": [
       "       HL_Perc   CO_Perc    Close   Volume  PriceNextMonth\n",
       "4980  2.867363  1.129310  1759.65  3253062             NaN\n",
       "4981  2.206373  0.017143  1750.30  4533360             NaN\n",
       "4982  3.990878  2.777305  1811.45  4174599             NaN\n",
       "4983  3.644941 -1.101310  1805.00  3960095             NaN\n",
       "4984  3.595964 -1.752809  1748.80  2621783             NaN"
      ]
     },
     "execution_count": 482,
     "metadata": {},
     "output_type": "execute_result"
    }
   ],
   "source": [
    "stock.tail()"
   ]
  },
  {
   "cell_type": "code",
   "execution_count": 483,
   "id": "c687b99c",
   "metadata": {},
   "outputs": [
    {
     "name": "stderr",
     "output_type": "stream",
     "text": [
      "C:\\Users\\suresh\\AppData\\Local\\Temp\\ipykernel_17924\\459189850.py:2: FutureWarning: In a future version of pandas all arguments of DataFrame.drop except for the argument 'labels' will be keyword-only.\n",
      "  X = np.array(stock.drop([\"PriceNextMonth\"], 1))\n"
     ]
    }
   ],
   "source": [
    "#Make fetaure and label arrays\n",
    "X = np.array(stock.drop([\"PriceNextMonth\"], 1))\n",
    "X = preprocessing.scale(X)\n",
    "X_Check = X[-30:]\n",
    "X = X[:-30]\n",
    "stock.dropna(inplace = True)\n",
    "y = np.array(stock[\"PriceNextMonth\"])"
   ]
  },
  {
   "cell_type": "code",
   "execution_count": 484,
   "id": "381f2472",
   "metadata": {},
   "outputs": [],
   "source": [
    "#Divide the data set into training data and testing data\n",
    "X_train, X_test, y_train, y_test = train_test_split(X,y,test_size = 0.2)"
   ]
  },
  {
   "cell_type": "code",
   "execution_count": 485,
   "id": "489c08a2",
   "metadata": {},
   "outputs": [],
   "source": [
    "#Define the prediction model\n",
    "model = RandomForestRegressor()"
   ]
  },
  {
   "cell_type": "code",
   "execution_count": 486,
   "id": "74ff8cec",
   "metadata": {},
   "outputs": [
    {
     "data": {
      "text/plain": [
       "RandomForestRegressor()"
      ]
     },
     "execution_count": 486,
     "metadata": {},
     "output_type": "execute_result"
    }
   ],
   "source": [
    "#Fit the model using training data\n",
    "model.fit(X_train, y_train)"
   ]
  },
  {
   "cell_type": "code",
   "execution_count": 487,
   "id": "520c0372",
   "metadata": {},
   "outputs": [
    {
     "name": "stdout",
     "output_type": "stream",
     "text": [
      "0.943880106236705\n"
     ]
    }
   ],
   "source": [
    "#Calculate the confidence value by applying the model to testing data\n",
    "conf = model.score(X_test, y_test)\n",
    "print(conf)"
   ]
  },
  {
   "cell_type": "code",
   "execution_count": 488,
   "id": "b9381393",
   "metadata": {},
   "outputs": [
    {
     "data": {
      "text/plain": [
       "RandomForestRegressor()"
      ]
     },
     "execution_count": 488,
     "metadata": {},
     "output_type": "execute_result"
    }
   ],
   "source": [
    "#Fit the model again using the whole data set\n",
    "model.fit(X,y)"
   ]
  },
  {
   "cell_type": "code",
   "execution_count": 489,
   "id": "4990c67a",
   "metadata": {},
   "outputs": [],
   "source": [
    "predictions = model.predict(X_Check)"
   ]
  },
  {
   "cell_type": "code",
   "execution_count": 490,
   "id": "c0d5a9e2",
   "metadata": {},
   "outputs": [],
   "source": [
    "#Make the final DataFrame containing Dates, ClosePrices, and Forecast values\n",
    "actual = pd.DataFrame(dates, columns = [\"Date\"])\n",
    "actual[\"ClosePrice\"] = stock[\"Close\"]\n",
    "actual[\"Forecast\"] = np.nan\n",
    "actual.set_index(\"Date\", inplace = True)\n",
    "forecast = pd.DataFrame(dates_check, columns=[\"Date\"])\n",
    "forecast[\"Forecast\"] = predictions\n",
    "forecast[\"ClosePrice\"] = np.nan\n",
    "forecast.set_index(\"Date\", inplace = True)\n",
    "var = [actual, forecast]\n",
    "result = pd.concat(var)  #This is the final DataFrame"
   ]
  },
  {
   "cell_type": "code",
   "execution_count": 491,
   "id": "45722829",
   "metadata": {},
   "outputs": [
    {
     "data": {
      "text/plain": [
       "Text(0, 0.5, 'Price')"
      ]
     },
     "execution_count": 491,
     "metadata": {},
     "output_type": "execute_result"
    },
    {
     "data": {
      "image/png": "[encoded data removed]",
      "text/plain": [
       "<Figure size 2000x1000 with 1 Axes>"
      ]
     },
     "metadata": {},
     "output_type": "display_data"
    }
   ],
   "source": [
    "#Plot the final results\n",
    "result.plot(figsize=(20,10), linewidth=1.5)\n",
    "plt.legend(loc=2, prop={'size':20})\n",
    "plt.xlabel('Date')\n",
    "plt.ylabel('Price')"
   ]
  },
  {
   "cell_type": "code",
   "execution_count": null,
   "id": "e099aee8",
   "metadata": {},
   "outputs": [],
   "source": []
  },
  {
   "cell_type": "code",
   "execution_count": null,
   "id": "fa2b8fbe",
   "metadata": {},
   "outputs": [],
   "source": []
  }
 ],
 "metadata": {
  "kernelspec": {
   "display_name": "Python 3 (ipykernel)",
   "language": "python",
   "name": "python3"
  },
  "language_info": {
   "codemirror_mode": {
    "name": "ipython",
    "version": 3
   },
   "file_extension": ".py",
   "mimetype": "text/x-python",
   "name": "python",
   "nbconvert_exporter": "python",
   "pygments_lexer": "ipython3",
   "version": "3.9.13"
  }
 },
 "nbformat": 4,
 "nbformat_minor": 5
}
