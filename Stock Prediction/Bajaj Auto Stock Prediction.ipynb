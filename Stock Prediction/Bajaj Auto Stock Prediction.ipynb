{
 "cells": [
  {
   "cell_type": "code",
   "execution_count": 62,
   "id": "5a20ead1",
   "metadata": {},
   "outputs": [],
   "source": [
    "#Import the libraries\n",
    "import pandas as pd \n",
    "import numpy as np \n",
    "import matplotlib.pyplot as plt \n",
    "from sklearn import preprocessing\n",
    "from sklearn.ensemble import RandomForestRegressor\n",
    "from sklearn.model_selection import train_test_split\n",
    "from sklearn.metrics import mean_absolute_error, r2_score"
   ]
  },
  {
   "cell_type": "code",
   "execution_count": 63,
   "id": "1ebabd9c",
   "metadata": {},
   "outputs": [],
   "source": [
    "stock = pd.read_csv(\"C:/Users/suresh/Desktop/PYTHON ML DATA SCIENCE/Stock Prediction/Stock Data/BAJAJ-AUTO.csv\")"
   ]
  },
  {
   "cell_type": "code",
   "execution_count": 64,
   "id": "b4a873d4",
   "metadata": {},
   "outputs": [
    {
     "data": {
      "text/html": [
       "<div>\n",
       "<style scoped>\n",
       "    .dataframe tbody tr th:only-of-type {\n",
       "        vertical-align: middle;\n",
       "    }\n",
       "\n",
       "    .dataframe tbody tr th {\n",
       "        vertical-align: top;\n",
       "    }\n",
       "\n",
       "    .dataframe thead th {\n",
       "        text-align: right;\n",
       "    }\n",
       "</style>\n",
       "<table border=\"1\" class=\"dataframe\">\n",
       "  <thead>\n",
       "    <tr style=\"text-align: right;\">\n",
       "      <th></th>\n",
       "      <th>Date</th>\n",
       "      <th>Symbol</th>\n",
       "      <th>Series</th>\n",
       "      <th>Prev Close</th>\n",
       "      <th>Open</th>\n",
       "      <th>High</th>\n",
       "      <th>Low</th>\n",
       "      <th>Last</th>\n",
       "      <th>Close</th>\n",
       "      <th>VWAP</th>\n",
       "      <th>Volume</th>\n",
       "      <th>Turnover</th>\n",
       "      <th>Trades</th>\n",
       "      <th>Deliverable Volume</th>\n",
       "      <th>%Deliverble</th>\n",
       "    </tr>\n",
       "  </thead>\n",
       "  <tbody>\n",
       "    <tr>\n",
       "      <th>0</th>\n",
       "      <td>2008-05-26</td>\n",
       "      <td>BAJAJ-AUTO</td>\n",
       "      <td>EQ</td>\n",
       "      <td>2101.05</td>\n",
       "      <td>898.00</td>\n",
       "      <td>898.0</td>\n",
       "      <td>551.35</td>\n",
       "      <td>600.25</td>\n",
       "      <td>604.75</td>\n",
       "      <td>624.61</td>\n",
       "      <td>3972485</td>\n",
       "      <td>2.481245e+14</td>\n",
       "      <td>NaN</td>\n",
       "      <td>1202933</td>\n",
       "      <td>0.3028</td>\n",
       "    </tr>\n",
       "    <tr>\n",
       "      <th>1</th>\n",
       "      <td>2008-05-27</td>\n",
       "      <td>BAJAJ-AUTO</td>\n",
       "      <td>EQ</td>\n",
       "      <td>604.75</td>\n",
       "      <td>624.70</td>\n",
       "      <td>639.0</td>\n",
       "      <td>580.30</td>\n",
       "      <td>595.50</td>\n",
       "      <td>593.15</td>\n",
       "      <td>606.43</td>\n",
       "      <td>1751063</td>\n",
       "      <td>1.061901e+14</td>\n",
       "      <td>NaN</td>\n",
       "      <td>369389</td>\n",
       "      <td>0.2110</td>\n",
       "    </tr>\n",
       "    <tr>\n",
       "      <th>2</th>\n",
       "      <td>2008-05-28</td>\n",
       "      <td>BAJAJ-AUTO</td>\n",
       "      <td>EQ</td>\n",
       "      <td>593.15</td>\n",
       "      <td>561.65</td>\n",
       "      <td>621.9</td>\n",
       "      <td>561.65</td>\n",
       "      <td>605.10</td>\n",
       "      <td>608.15</td>\n",
       "      <td>608.75</td>\n",
       "      <td>1652355</td>\n",
       "      <td>1.005877e+14</td>\n",
       "      <td>NaN</td>\n",
       "      <td>898602</td>\n",
       "      <td>0.5438</td>\n",
       "    </tr>\n",
       "    <tr>\n",
       "      <th>3</th>\n",
       "      <td>2008-05-29</td>\n",
       "      <td>BAJAJ-AUTO</td>\n",
       "      <td>EQ</td>\n",
       "      <td>608.15</td>\n",
       "      <td>619.40</td>\n",
       "      <td>619.4</td>\n",
       "      <td>576.00</td>\n",
       "      <td>600.00</td>\n",
       "      <td>599.45</td>\n",
       "      <td>600.98</td>\n",
       "      <td>669269</td>\n",
       "      <td>4.022165e+13</td>\n",
       "      <td>NaN</td>\n",
       "      <td>449951</td>\n",
       "      <td>0.6723</td>\n",
       "    </tr>\n",
       "    <tr>\n",
       "      <th>4</th>\n",
       "      <td>2008-05-30</td>\n",
       "      <td>BAJAJ-AUTO</td>\n",
       "      <td>EQ</td>\n",
       "      <td>599.45</td>\n",
       "      <td>605.40</td>\n",
       "      <td>607.0</td>\n",
       "      <td>538.00</td>\n",
       "      <td>576.25</td>\n",
       "      <td>571.70</td>\n",
       "      <td>565.55</td>\n",
       "      <td>1262117</td>\n",
       "      <td>7.137937e+13</td>\n",
       "      <td>NaN</td>\n",
       "      <td>936432</td>\n",
       "      <td>0.7420</td>\n",
       "    </tr>\n",
       "  </tbody>\n",
       "</table>\n",
       "</div>"
      ],
      "text/plain": [
       "         Date      Symbol Series  Prev Close    Open   High     Low    Last  \\\n",
       "0  2008-05-26  BAJAJ-AUTO     EQ     2101.05  898.00  898.0  551.35  600.25   \n",
       "1  2008-05-27  BAJAJ-AUTO     EQ      604.75  624.70  639.0  580.30  595.50   \n",
       "2  2008-05-28  BAJAJ-AUTO     EQ      593.15  561.65  621.9  561.65  605.10   \n",
       "3  2008-05-29  BAJAJ-AUTO     EQ      608.15  619.40  619.4  576.00  600.00   \n",
       "4  2008-05-30  BAJAJ-AUTO     EQ      599.45  605.40  607.0  538.00  576.25   \n",
       "\n",
       "    Close    VWAP   Volume      Turnover  Trades  Deliverable Volume  \\\n",
       "0  604.75  624.61  3972485  2.481245e+14     NaN             1202933   \n",
       "1  593.15  606.43  1751063  1.061901e+14     NaN              369389   \n",
       "2  608.15  608.75  1652355  1.005877e+14     NaN              898602   \n",
       "3  599.45  600.98   669269  4.022165e+13     NaN              449951   \n",
       "4  571.70  565.55  1262117  7.137937e+13     NaN              936432   \n",
       "\n",
       "   %Deliverble  \n",
       "0       0.3028  \n",
       "1       0.2110  \n",
       "2       0.5438  \n",
       "3       0.6723  \n",
       "4       0.7420  "
      ]
     },
     "execution_count": 64,
     "metadata": {},
     "output_type": "execute_result"
    }
   ],
   "source": [
    "stock.head()"
   ]
  },
  {
   "cell_type": "code",
   "execution_count": 65,
   "id": "564201f0",
   "metadata": {},
   "outputs": [
    {
     "name": "stdout",
     "output_type": "stream",
     "text": [
      "<class 'pandas.core.frame.DataFrame'>\n",
      "RangeIndex: 3202 entries, 0 to 3201\n",
      "Data columns (total 15 columns):\n",
      " #   Column              Non-Null Count  Dtype  \n",
      "---  ------              --------------  -----  \n",
      " 0   Date                3202 non-null   object \n",
      " 1   Symbol              3202 non-null   object \n",
      " 2   Series              3202 non-null   object \n",
      " 3   Prev Close          3202 non-null   float64\n",
      " 4   Open                3202 non-null   float64\n",
      " 5   High                3202 non-null   float64\n",
      " 6   Low                 3202 non-null   float64\n",
      " 7   Last                3202 non-null   float64\n",
      " 8   Close               3202 non-null   float64\n",
      " 9   VWAP                3202 non-null   float64\n",
      " 10  Volume              3202 non-null   int64  \n",
      " 11  Turnover            3202 non-null   float64\n",
      " 12  Trades              2456 non-null   float64\n",
      " 13  Deliverable Volume  3202 non-null   int64  \n",
      " 14  %Deliverble         3202 non-null   float64\n",
      "dtypes: float64(10), int64(2), object(3)\n",
      "memory usage: 375.4+ KB\n"
     ]
    }
   ],
   "source": [
    "stock.info()"
   ]
  },
  {
   "cell_type": "code",
   "execution_count": 66,
   "id": "c9d711dd",
   "metadata": {},
   "outputs": [
    {
     "data": {
      "text/html": [
       "<div>\n",
       "<style scoped>\n",
       "    .dataframe tbody tr th:only-of-type {\n",
       "        vertical-align: middle;\n",
       "    }\n",
       "\n",
       "    .dataframe tbody tr th {\n",
       "        vertical-align: top;\n",
       "    }\n",
       "\n",
       "    .dataframe thead th {\n",
       "        text-align: right;\n",
       "    }\n",
       "</style>\n",
       "<table border=\"1\" class=\"dataframe\">\n",
       "  <thead>\n",
       "    <tr style=\"text-align: right;\">\n",
       "      <th></th>\n",
       "      <th>Prev Close</th>\n",
       "      <th>Open</th>\n",
       "      <th>High</th>\n",
       "      <th>Low</th>\n",
       "      <th>Last</th>\n",
       "      <th>Close</th>\n",
       "      <th>VWAP</th>\n",
       "      <th>Volume</th>\n",
       "      <th>Turnover</th>\n",
       "      <th>Trades</th>\n",
       "      <th>Deliverable Volume</th>\n",
       "      <th>%Deliverble</th>\n",
       "    </tr>\n",
       "  </thead>\n",
       "  <tbody>\n",
       "    <tr>\n",
       "      <th>count</th>\n",
       "      <td>3202.000000</td>\n",
       "      <td>3202.000000</td>\n",
       "      <td>3202.000000</td>\n",
       "      <td>3202.000000</td>\n",
       "      <td>3202.000000</td>\n",
       "      <td>3202.000000</td>\n",
       "      <td>3202.000000</td>\n",
       "      <td>3.202000e+03</td>\n",
       "      <td>3.202000e+03</td>\n",
       "      <td>2456.000000</td>\n",
       "      <td>3.202000e+03</td>\n",
       "      <td>3202.000000</td>\n",
       "    </tr>\n",
       "    <tr>\n",
       "      <th>mean</th>\n",
       "      <td>2189.871065</td>\n",
       "      <td>2191.537883</td>\n",
       "      <td>2219.934510</td>\n",
       "      <td>2162.215209</td>\n",
       "      <td>2190.307917</td>\n",
       "      <td>2190.412196</td>\n",
       "      <td>2191.294288</td>\n",
       "      <td>4.114639e+05</td>\n",
       "      <td>9.644024e+13</td>\n",
       "      <td>27487.876629</td>\n",
       "      <td>1.944837e+05</td>\n",
       "      <td>0.509401</td>\n",
       "    </tr>\n",
       "    <tr>\n",
       "      <th>std</th>\n",
       "      <td>774.552766</td>\n",
       "      <td>776.148452</td>\n",
       "      <td>781.289529</td>\n",
       "      <td>770.192017</td>\n",
       "      <td>775.065896</td>\n",
       "      <td>775.095766</td>\n",
       "      <td>775.657353</td>\n",
       "      <td>3.911067e+05</td>\n",
       "      <td>1.174628e+14</td>\n",
       "      <td>19453.983219</td>\n",
       "      <td>1.707922e+05</td>\n",
       "      <td>0.172869</td>\n",
       "    </tr>\n",
       "    <tr>\n",
       "      <th>min</th>\n",
       "      <td>301.900000</td>\n",
       "      <td>262.000000</td>\n",
       "      <td>307.050000</td>\n",
       "      <td>262.000000</td>\n",
       "      <td>300.000000</td>\n",
       "      <td>301.900000</td>\n",
       "      <td>301.980000</td>\n",
       "      <td>4.966000e+03</td>\n",
       "      <td>2.497018e+11</td>\n",
       "      <td>451.000000</td>\n",
       "      <td>1.290000e+03</td>\n",
       "      <td>0.073000</td>\n",
       "    </tr>\n",
       "    <tr>\n",
       "      <th>25%</th>\n",
       "      <td>1661.925000</td>\n",
       "      <td>1663.250000</td>\n",
       "      <td>1693.775000</td>\n",
       "      <td>1636.362500</td>\n",
       "      <td>1660.512500</td>\n",
       "      <td>1661.925000</td>\n",
       "      <td>1664.845000</td>\n",
       "      <td>2.054658e+05</td>\n",
       "      <td>4.228246e+13</td>\n",
       "      <td>16041.250000</td>\n",
       "      <td>9.553850e+04</td>\n",
       "      <td>0.391225</td>\n",
       "    </tr>\n",
       "    <tr>\n",
       "      <th>50%</th>\n",
       "      <td>2269.950000</td>\n",
       "      <td>2270.000000</td>\n",
       "      <td>2305.575000</td>\n",
       "      <td>2240.250000</td>\n",
       "      <td>2270.750000</td>\n",
       "      <td>2270.225000</td>\n",
       "      <td>2269.900000</td>\n",
       "      <td>3.125365e+05</td>\n",
       "      <td>6.885321e+13</td>\n",
       "      <td>22822.000000</td>\n",
       "      <td>1.537390e+05</td>\n",
       "      <td>0.520000</td>\n",
       "    </tr>\n",
       "    <tr>\n",
       "      <th>75%</th>\n",
       "      <td>2808.437500</td>\n",
       "      <td>2810.000000</td>\n",
       "      <td>2834.950000</td>\n",
       "      <td>2778.362500</td>\n",
       "      <td>2808.975000</td>\n",
       "      <td>2808.487500</td>\n",
       "      <td>2808.565000</td>\n",
       "      <td>5.000315e+05</td>\n",
       "      <td>1.107763e+14</td>\n",
       "      <td>32952.250000</td>\n",
       "      <td>2.456250e+05</td>\n",
       "      <td>0.626675</td>\n",
       "    </tr>\n",
       "    <tr>\n",
       "      <th>max</th>\n",
       "      <td>4237.450000</td>\n",
       "      <td>4260.000000</td>\n",
       "      <td>4361.400000</td>\n",
       "      <td>4200.000000</td>\n",
       "      <td>4236.000000</td>\n",
       "      <td>4237.450000</td>\n",
       "      <td>4260.500000</td>\n",
       "      <td>8.537143e+06</td>\n",
       "      <td>3.436565e+15</td>\n",
       "      <td>398043.000000</td>\n",
       "      <td>4.154492e+06</td>\n",
       "      <td>1.000000</td>\n",
       "    </tr>\n",
       "  </tbody>\n",
       "</table>\n",
       "</div>"
      ],
      "text/plain": [
       "        Prev Close         Open         High          Low         Last  \\\n",
       "count  3202.000000  3202.000000  3202.000000  3202.000000  3202.000000   \n",
       "mean   2189.871065  2191.537883  2219.934510  2162.215209  2190.307917   \n",
       "std     774.552766   776.148452   781.289529   770.192017   775.065896   \n",
       "min     301.900000   262.000000   307.050000   262.000000   300.000000   \n",
       "25%    1661.925000  1663.250000  1693.775000  1636.362500  1660.512500   \n",
       "50%    2269.950000  2270.000000  2305.575000  2240.250000  2270.750000   \n",
       "75%    2808.437500  2810.000000  2834.950000  2778.362500  2808.975000   \n",
       "max    4237.450000  4260.000000  4361.400000  4200.000000  4236.000000   \n",
       "\n",
       "             Close         VWAP        Volume      Turnover         Trades  \\\n",
       "count  3202.000000  3202.000000  3.202000e+03  3.202000e+03    2456.000000   \n",
       "mean   2190.412196  2191.294288  4.114639e+05  9.644024e+13   27487.876629   \n",
       "std     775.095766   775.657353  3.911067e+05  1.174628e+14   19453.983219   \n",
       "min     301.900000   301.980000  4.966000e+03  2.497018e+11     451.000000   \n",
       "25%    1661.925000  1664.845000  2.054658e+05  4.228246e+13   16041.250000   \n",
       "50%    2270.225000  2269.900000  3.125365e+05  6.885321e+13   22822.000000   \n",
       "75%    2808.487500  2808.565000  5.000315e+05  1.107763e+14   32952.250000   \n",
       "max    4237.450000  4260.500000  8.537143e+06  3.436565e+15  398043.000000   \n",
       "\n",
       "       Deliverable Volume  %Deliverble  \n",
       "count        3.202000e+03  3202.000000  \n",
       "mean         1.944837e+05     0.509401  \n",
       "std          1.707922e+05     0.172869  \n",
       "min          1.290000e+03     0.073000  \n",
       "25%          9.553850e+04     0.391225  \n",
       "50%          1.537390e+05     0.520000  \n",
       "75%          2.456250e+05     0.626675  \n",
       "max          4.154492e+06     1.000000  "
      ]
     },
     "execution_count": 66,
     "metadata": {},
     "output_type": "execute_result"
    }
   ],
   "source": [
    "stock.describe()"
   ]
  },
  {
   "cell_type": "code",
   "execution_count": 67,
   "id": "011a47e9",
   "metadata": {},
   "outputs": [],
   "source": [
    "# Ensure we are working with a copy of the DataFrame to avoid the SettingWithCopyWarning\n",
    "stock = stock.copy()"
   ]
  },
  {
   "cell_type": "code",
   "execution_count": 68,
   "id": "7758c824",
   "metadata": {},
   "outputs": [],
   "source": [
    "# Calculate HL_Perc and CO_Perc\n",
    "stock.loc[:, 'HL_Perc'] = (stock['High'] - stock['Low']) / stock['Low'] * 100\n",
    "stock.loc[:, 'CO_Perc'] = (stock['Close'] - stock['Open']) / stock['Open'] * 100"
   ]
  },
  {
   "cell_type": "code",
   "execution_count": 69,
   "id": "0bb9c198",
   "metadata": {},
   "outputs": [],
   "source": [
    "dates = np.array(stock[\"Date\"])\n",
    "dates_check = dates[-30:]\n",
    "dates = dates[:-30]"
   ]
  },
  {
   "cell_type": "code",
   "execution_count": 70,
   "id": "07901da7",
   "metadata": {},
   "outputs": [
    {
     "data": {
      "text/plain": [
       "Index(['Date', 'Symbol', 'Series', 'Prev Close', 'Open', 'High', 'Low', 'Last',\n",
       "       'Close', 'VWAP', 'Volume', 'Turnover', 'Trades', 'Deliverable Volume',\n",
       "       '%Deliverble', 'HL_Perc', 'CO_Perc'],\n",
       "      dtype='object')"
      ]
     },
     "execution_count": 70,
     "metadata": {},
     "output_type": "execute_result"
    }
   ],
   "source": [
    "stock.columns"
   ]
  },
  {
   "cell_type": "code",
   "execution_count": 71,
   "id": "75b07f7b",
   "metadata": {},
   "outputs": [],
   "source": [
    "stock = stock[[\"HL_Perc\", \"CO_Perc\", \"Close\", \"Volume\"]]"
   ]
  },
  {
   "cell_type": "code",
   "execution_count": 72,
   "id": "772db78e",
   "metadata": {},
   "outputs": [],
   "source": [
    "#Define the label column\n",
    "stock[\"PriceNextMonth\"] = stock[\"Close\"].shift(-30)"
   ]
  },
  {
   "cell_type": "code",
   "execution_count": 73,
   "id": "79011229",
   "metadata": {},
   "outputs": [
    {
     "data": {
      "text/html": [
       "<div>\n",
       "<style scoped>\n",
       "    .dataframe tbody tr th:only-of-type {\n",
       "        vertical-align: middle;\n",
       "    }\n",
       "\n",
       "    .dataframe tbody tr th {\n",
       "        vertical-align: top;\n",
       "    }\n",
       "\n",
       "    .dataframe thead th {\n",
       "        text-align: right;\n",
       "    }\n",
       "</style>\n",
       "<table border=\"1\" class=\"dataframe\">\n",
       "  <thead>\n",
       "    <tr style=\"text-align: right;\">\n",
       "      <th></th>\n",
       "      <th>HL_Perc</th>\n",
       "      <th>CO_Perc</th>\n",
       "      <th>Close</th>\n",
       "      <th>Volume</th>\n",
       "      <th>PriceNextMonth</th>\n",
       "    </tr>\n",
       "  </thead>\n",
       "  <tbody>\n",
       "    <tr>\n",
       "      <th>3197</th>\n",
       "      <td>1.985854</td>\n",
       "      <td>1.538482</td>\n",
       "      <td>3738.85</td>\n",
       "      <td>480016</td>\n",
       "      <td>NaN</td>\n",
       "    </tr>\n",
       "    <tr>\n",
       "      <th>3198</th>\n",
       "      <td>1.899549</td>\n",
       "      <td>1.247710</td>\n",
       "      <td>3785.50</td>\n",
       "      <td>518487</td>\n",
       "      <td>NaN</td>\n",
       "    </tr>\n",
       "    <tr>\n",
       "      <th>3199</th>\n",
       "      <td>3.861308</td>\n",
       "      <td>2.091836</td>\n",
       "      <td>3889.75</td>\n",
       "      <td>1252958</td>\n",
       "      <td>NaN</td>\n",
       "    </tr>\n",
       "    <tr>\n",
       "      <th>3200</th>\n",
       "      <td>3.866460</td>\n",
       "      <td>-2.702257</td>\n",
       "      <td>3836.45</td>\n",
       "      <td>1335444</td>\n",
       "      <td>NaN</td>\n",
       "    </tr>\n",
       "    <tr>\n",
       "      <th>3201</th>\n",
       "      <td>4.377632</td>\n",
       "      <td>0.755585</td>\n",
       "      <td>3833.75</td>\n",
       "      <td>1340273</td>\n",
       "      <td>NaN</td>\n",
       "    </tr>\n",
       "  </tbody>\n",
       "</table>\n",
       "</div>"
      ],
      "text/plain": [
       "       HL_Perc   CO_Perc    Close   Volume  PriceNextMonth\n",
       "3197  1.985854  1.538482  3738.85   480016             NaN\n",
       "3198  1.899549  1.247710  3785.50   518487             NaN\n",
       "3199  3.861308  2.091836  3889.75  1252958             NaN\n",
       "3200  3.866460 -2.702257  3836.45  1335444             NaN\n",
       "3201  4.377632  0.755585  3833.75  1340273             NaN"
      ]
     },
     "execution_count": 73,
     "metadata": {},
     "output_type": "execute_result"
    }
   ],
   "source": [
    "stock.tail()"
   ]
  },
  {
   "cell_type": "code",
   "execution_count": 74,
   "id": "c687b99c",
   "metadata": {},
   "outputs": [
    {
     "name": "stderr",
     "output_type": "stream",
     "text": [
      "C:\\Users\\suresh\\AppData\\Local\\Temp\\ipykernel_22436\\459189850.py:2: FutureWarning: In a future version of pandas all arguments of DataFrame.drop except for the argument 'labels' will be keyword-only.\n",
      "  X = np.array(stock.drop([\"PriceNextMonth\"], 1))\n"
     ]
    }
   ],
   "source": [
    "#Make fetaure and label arrays\n",
    "X = np.array(stock.drop([\"PriceNextMonth\"], 1))\n",
    "X = preprocessing.scale(X)\n",
    "X_Check = X[-30:]\n",
    "X = X[:-30]\n",
    "stock.dropna(inplace = True)\n",
    "y = np.array(stock[\"PriceNextMonth\"])"
   ]
  },
  {
   "cell_type": "code",
   "execution_count": 75,
   "id": "381f2472",
   "metadata": {},
   "outputs": [],
   "source": [
    "#Divide the data set into training data and testing data\n",
    "X_train, X_test, y_train, y_test = train_test_split(X,y,test_size = 0.2)"
   ]
  },
  {
   "cell_type": "code",
   "execution_count": 76,
   "id": "489c08a2",
   "metadata": {},
   "outputs": [],
   "source": [
    "#Define the prediction model\n",
    "model = RandomForestRegressor()"
   ]
  },
  {
   "cell_type": "code",
   "execution_count": 77,
   "id": "74ff8cec",
   "metadata": {},
   "outputs": [
    {
     "data": {
      "text/plain": [
       "RandomForestRegressor()"
      ]
     },
     "execution_count": 77,
     "metadata": {},
     "output_type": "execute_result"
    }
   ],
   "source": [
    "#Fit the model using training data\n",
    "model.fit(X_train, y_train)"
   ]
  },
  {
   "cell_type": "code",
   "execution_count": 78,
   "id": "520c0372",
   "metadata": {},
   "outputs": [
    {
     "name": "stdout",
     "output_type": "stream",
     "text": [
      "0.9128006826180327\n"
     ]
    }
   ],
   "source": [
    "#Calculate the confidence value by applying the model to testing data\n",
    "conf = model.score(X_test, y_test)\n",
    "print(conf)"
   ]
  },
  {
   "cell_type": "code",
   "execution_count": 79,
   "id": "b9381393",
   "metadata": {},
   "outputs": [
    {
     "data": {
      "text/plain": [
       "RandomForestRegressor()"
      ]
     },
     "execution_count": 79,
     "metadata": {},
     "output_type": "execute_result"
    }
   ],
   "source": [
    "#Fit the model again using the whole data set\n",
    "model.fit(X,y)"
   ]
  },
  {
   "cell_type": "code",
   "execution_count": 80,
   "id": "4990c67a",
   "metadata": {},
   "outputs": [],
   "source": [
    "predictions = model.predict(X_Check)"
   ]
  },
  {
   "cell_type": "code",
   "execution_count": 81,
   "id": "c0d5a9e2",
   "metadata": {},
   "outputs": [],
   "source": [
    "#Make the final DataFrame containing Dates, ClosePrices, and Forecast values\n",
    "actual = pd.DataFrame(dates, columns = [\"Date\"])\n",
    "actual[\"ClosePrice\"] = stock[\"Close\"]\n",
    "actual[\"Forecast\"] = np.nan\n",
    "actual.set_index(\"Date\", inplace = True)\n",
    "forecast = pd.DataFrame(dates_check, columns=[\"Date\"])\n",
    "forecast[\"Forecast\"] = predictions\n",
    "forecast[\"ClosePrice\"] = np.nan\n",
    "forecast.set_index(\"Date\", inplace = True)\n",
    "var = [actual, forecast]\n",
    "result = pd.concat(var)  #This is the final DataFrame"
   ]
  },
  {
   "cell_type": "code",
   "execution_count": 82,
   "id": "45722829",
   "metadata": {},
   "outputs": [
    {
     "data": {
      "text/plain": [
       "Text(0, 0.5, 'Price')"
      ]
     },
     "execution_count": 82,
     "metadata": {},
     "output_type": "execute_result"
    },
    {
     "data": {
      "image/png": "[encoded data removed]",
      "text/plain": [
       "<Figure size 2000x1000 with 1 Axes>"
      ]
     },
     "metadata": {},
     "output_type": "display_data"
    }
   ],
   "source": [
    "#Plot the final results\n",
    "result.plot(figsize=(20,10), linewidth=1.5)\n",
    "plt.legend(loc=2, prop={'size':20})\n",
    "plt.xlabel('Date')\n",
    "plt.ylabel('Price')"
   ]
  },
  {
   "cell_type": "code",
   "execution_count": null,
   "id": "e099aee8",
   "metadata": {},
   "outputs": [],
   "source": []
  }
 ],
 "metadata": {
  "kernelspec": {
   "display_name": "Python 3 (ipykernel)",
   "language": "python",
   "name": "python3"
  },
  "language_info": {
   "codemirror_mode": {
    "name": "ipython",
    "version": 3
   },
   "file_extension": ".py",
   "mimetype": "text/x-python",
   "name": "python",
   "nbconvert_exporter": "python",
   "pygments_lexer": "ipython3",
   "version": "3.9.13"
  }
 },
 "nbformat": 4,
 "nbformat_minor": 5
}
