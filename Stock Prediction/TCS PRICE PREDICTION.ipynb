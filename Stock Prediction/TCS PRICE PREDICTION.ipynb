{
 "cells": [
  {
   "cell_type": "code",
   "execution_count": 56,
   "id": "5a20ead1",
   "metadata": {},
   "outputs": [],
   "source": [
    "#Import the libraries\n",
    "import pandas as pd \n",
    "import numpy as np \n",
    "import matplotlib.pyplot as plt \n",
    "from sklearn import preprocessing\n",
    "from sklearn.ensemble import RandomForestRegressor\n",
    "from sklearn.model_selection import train_test_split\n",
    "from sklearn.metrics import mean_absolute_error, r2_score"
   ]
  },
  {
   "cell_type": "code",
   "execution_count": 77,
   "id": "1ebabd9c",
   "metadata": {},
   "outputs": [],
   "source": [
    "stock = pd.read_csv(\"C:/Users/suresh/Desktop/PYTHON ML DATA SCIENCE/Stock Prediction/Stock Data/TCS.csv\")"
   ]
  },
  {
   "cell_type": "code",
   "execution_count": 78,
   "id": "b4a873d4",
   "metadata": {},
   "outputs": [
    {
     "data": {
      "text/html": [
       "<div>\n",
       "<style scoped>\n",
       "    .dataframe tbody tr th:only-of-type {\n",
       "        vertical-align: middle;\n",
       "    }\n",
       "\n",
       "    .dataframe tbody tr th {\n",
       "        vertical-align: top;\n",
       "    }\n",
       "\n",
       "    .dataframe thead th {\n",
       "        text-align: right;\n",
       "    }\n",
       "</style>\n",
       "<table border=\"1\" class=\"dataframe\">\n",
       "  <thead>\n",
       "    <tr style=\"text-align: right;\">\n",
       "      <th></th>\n",
       "      <th>Date</th>\n",
       "      <th>Symbol</th>\n",
       "      <th>Series</th>\n",
       "      <th>Prev Close</th>\n",
       "      <th>Open</th>\n",
       "      <th>High</th>\n",
       "      <th>Low</th>\n",
       "      <th>Last</th>\n",
       "      <th>Close</th>\n",
       "      <th>VWAP</th>\n",
       "      <th>Volume</th>\n",
       "      <th>Turnover</th>\n",
       "      <th>Trades</th>\n",
       "      <th>Deliverable Volume</th>\n",
       "      <th>%Deliverble</th>\n",
       "    </tr>\n",
       "  </thead>\n",
       "  <tbody>\n",
       "    <tr>\n",
       "      <th>0</th>\n",
       "      <td>2004-08-25</td>\n",
       "      <td>TCS</td>\n",
       "      <td>EQ</td>\n",
       "      <td>850.00</td>\n",
       "      <td>1198.7</td>\n",
       "      <td>1198.7</td>\n",
       "      <td>979.00</td>\n",
       "      <td>985.00</td>\n",
       "      <td>987.95</td>\n",
       "      <td>1008.32</td>\n",
       "      <td>17116372</td>\n",
       "      <td>1.725876e+15</td>\n",
       "      <td>NaN</td>\n",
       "      <td>5206360</td>\n",
       "      <td>0.3042</td>\n",
       "    </tr>\n",
       "    <tr>\n",
       "      <th>1</th>\n",
       "      <td>2004-08-26</td>\n",
       "      <td>TCS</td>\n",
       "      <td>EQ</td>\n",
       "      <td>987.95</td>\n",
       "      <td>992.0</td>\n",
       "      <td>997.0</td>\n",
       "      <td>975.30</td>\n",
       "      <td>976.85</td>\n",
       "      <td>979.00</td>\n",
       "      <td>985.65</td>\n",
       "      <td>5055400</td>\n",
       "      <td>4.982865e+14</td>\n",
       "      <td>NaN</td>\n",
       "      <td>1294899</td>\n",
       "      <td>0.2561</td>\n",
       "    </tr>\n",
       "    <tr>\n",
       "      <th>2</th>\n",
       "      <td>2004-08-27</td>\n",
       "      <td>TCS</td>\n",
       "      <td>EQ</td>\n",
       "      <td>979.00</td>\n",
       "      <td>982.4</td>\n",
       "      <td>982.4</td>\n",
       "      <td>958.55</td>\n",
       "      <td>961.20</td>\n",
       "      <td>962.65</td>\n",
       "      <td>969.94</td>\n",
       "      <td>3830750</td>\n",
       "      <td>3.715586e+14</td>\n",
       "      <td>NaN</td>\n",
       "      <td>976527</td>\n",
       "      <td>0.2549</td>\n",
       "    </tr>\n",
       "    <tr>\n",
       "      <th>3</th>\n",
       "      <td>2004-08-30</td>\n",
       "      <td>TCS</td>\n",
       "      <td>EQ</td>\n",
       "      <td>962.65</td>\n",
       "      <td>969.9</td>\n",
       "      <td>990.0</td>\n",
       "      <td>965.00</td>\n",
       "      <td>986.40</td>\n",
       "      <td>986.75</td>\n",
       "      <td>982.65</td>\n",
       "      <td>3058151</td>\n",
       "      <td>3.005106e+14</td>\n",
       "      <td>NaN</td>\n",
       "      <td>701664</td>\n",
       "      <td>0.2294</td>\n",
       "    </tr>\n",
       "    <tr>\n",
       "      <th>4</th>\n",
       "      <td>2004-08-31</td>\n",
       "      <td>TCS</td>\n",
       "      <td>EQ</td>\n",
       "      <td>986.75</td>\n",
       "      <td>986.5</td>\n",
       "      <td>990.0</td>\n",
       "      <td>976.00</td>\n",
       "      <td>987.80</td>\n",
       "      <td>988.10</td>\n",
       "      <td>982.18</td>\n",
       "      <td>2649332</td>\n",
       "      <td>2.602133e+14</td>\n",
       "      <td>NaN</td>\n",
       "      <td>695234</td>\n",
       "      <td>0.2624</td>\n",
       "    </tr>\n",
       "  </tbody>\n",
       "</table>\n",
       "</div>"
      ],
      "text/plain": [
       "         Date Symbol Series  Prev Close    Open    High     Low    Last  \\\n",
       "0  2004-08-25    TCS     EQ      850.00  1198.7  1198.7  979.00  985.00   \n",
       "1  2004-08-26    TCS     EQ      987.95   992.0   997.0  975.30  976.85   \n",
       "2  2004-08-27    TCS     EQ      979.00   982.4   982.4  958.55  961.20   \n",
       "3  2004-08-30    TCS     EQ      962.65   969.9   990.0  965.00  986.40   \n",
       "4  2004-08-31    TCS     EQ      986.75   986.5   990.0  976.00  987.80   \n",
       "\n",
       "    Close     VWAP    Volume      Turnover  Trades  Deliverable Volume  \\\n",
       "0  987.95  1008.32  17116372  1.725876e+15     NaN             5206360   \n",
       "1  979.00   985.65   5055400  4.982865e+14     NaN             1294899   \n",
       "2  962.65   969.94   3830750  3.715586e+14     NaN              976527   \n",
       "3  986.75   982.65   3058151  3.005106e+14     NaN              701664   \n",
       "4  988.10   982.18   2649332  2.602133e+14     NaN              695234   \n",
       "\n",
       "   %Deliverble  \n",
       "0       0.3042  \n",
       "1       0.2561  \n",
       "2       0.2549  \n",
       "3       0.2294  \n",
       "4       0.2624  "
      ]
     },
     "execution_count": 78,
     "metadata": {},
     "output_type": "execute_result"
    }
   ],
   "source": [
    "stock.head()"
   ]
  },
  {
   "cell_type": "code",
   "execution_count": 79,
   "id": "564201f0",
   "metadata": {},
   "outputs": [
    {
     "name": "stdout",
     "output_type": "stream",
     "text": [
      "<class 'pandas.core.frame.DataFrame'>\n",
      "RangeIndex: 4139 entries, 0 to 4138\n",
      "Data columns (total 15 columns):\n",
      " #   Column              Non-Null Count  Dtype  \n",
      "---  ------              --------------  -----  \n",
      " 0   Date                4139 non-null   object \n",
      " 1   Symbol              4139 non-null   object \n",
      " 2   Series              4139 non-null   object \n",
      " 3   Prev Close          4139 non-null   float64\n",
      " 4   Open                4139 non-null   float64\n",
      " 5   High                4139 non-null   float64\n",
      " 6   Low                 4139 non-null   float64\n",
      " 7   Last                4139 non-null   float64\n",
      " 8   Close               4139 non-null   float64\n",
      " 9   VWAP                4139 non-null   float64\n",
      " 10  Volume              4139 non-null   int64  \n",
      " 11  Turnover            4139 non-null   float64\n",
      " 12  Trades              2456 non-null   float64\n",
      " 13  Deliverable Volume  4139 non-null   int64  \n",
      " 14  %Deliverble         4139 non-null   float64\n",
      "dtypes: float64(10), int64(2), object(3)\n",
      "memory usage: 485.2+ KB\n"
     ]
    }
   ],
   "source": [
    "stock.info()"
   ]
  },
  {
   "cell_type": "code",
   "execution_count": 80,
   "id": "c9d711dd",
   "metadata": {},
   "outputs": [
    {
     "data": {
      "text/html": [
       "<div>\n",
       "<style scoped>\n",
       "    .dataframe tbody tr th:only-of-type {\n",
       "        vertical-align: middle;\n",
       "    }\n",
       "\n",
       "    .dataframe tbody tr th {\n",
       "        vertical-align: top;\n",
       "    }\n",
       "\n",
       "    .dataframe thead th {\n",
       "        text-align: right;\n",
       "    }\n",
       "</style>\n",
       "<table border=\"1\" class=\"dataframe\">\n",
       "  <thead>\n",
       "    <tr style=\"text-align: right;\">\n",
       "      <th></th>\n",
       "      <th>Prev Close</th>\n",
       "      <th>Open</th>\n",
       "      <th>High</th>\n",
       "      <th>Low</th>\n",
       "      <th>Last</th>\n",
       "      <th>Close</th>\n",
       "      <th>VWAP</th>\n",
       "      <th>Volume</th>\n",
       "      <th>Turnover</th>\n",
       "      <th>Trades</th>\n",
       "      <th>Deliverable Volume</th>\n",
       "      <th>%Deliverble</th>\n",
       "    </tr>\n",
       "  </thead>\n",
       "  <tbody>\n",
       "    <tr>\n",
       "      <th>count</th>\n",
       "      <td>4139.000000</td>\n",
       "      <td>4139.000000</td>\n",
       "      <td>4139.000000</td>\n",
       "      <td>4139.000000</td>\n",
       "      <td>4139.000000</td>\n",
       "      <td>4139.000000</td>\n",
       "      <td>4139.000000</td>\n",
       "      <td>4.139000e+03</td>\n",
       "      <td>4.139000e+03</td>\n",
       "      <td>2456.000000</td>\n",
       "      <td>4.139000e+03</td>\n",
       "      <td>4139.000000</td>\n",
       "    </tr>\n",
       "    <tr>\n",
       "      <th>mean</th>\n",
       "      <td>1693.843549</td>\n",
       "      <td>1695.594081</td>\n",
       "      <td>1715.882302</td>\n",
       "      <td>1673.585709</td>\n",
       "      <td>1694.310184</td>\n",
       "      <td>1694.371612</td>\n",
       "      <td>1694.618120</td>\n",
       "      <td>1.676762e+06</td>\n",
       "      <td>2.952102e+14</td>\n",
       "      <td>85502.709283</td>\n",
       "      <td>8.952206e+05</td>\n",
       "      <td>0.549429</td>\n",
       "    </tr>\n",
       "    <tr>\n",
       "      <th>std</th>\n",
       "      <td>722.879316</td>\n",
       "      <td>722.978228</td>\n",
       "      <td>728.450096</td>\n",
       "      <td>717.780248</td>\n",
       "      <td>723.177934</td>\n",
       "      <td>723.061025</td>\n",
       "      <td>723.144157</td>\n",
       "      <td>1.607879e+06</td>\n",
       "      <td>3.849370e+14</td>\n",
       "      <td>56031.488595</td>\n",
       "      <td>8.637908e+05</td>\n",
       "      <td>0.132867</td>\n",
       "    </tr>\n",
       "    <tr>\n",
       "      <th>min</th>\n",
       "      <td>366.650000</td>\n",
       "      <td>360.000000</td>\n",
       "      <td>377.750000</td>\n",
       "      <td>358.000000</td>\n",
       "      <td>365.700000</td>\n",
       "      <td>366.650000</td>\n",
       "      <td>368.400000</td>\n",
       "      <td>1.834500e+04</td>\n",
       "      <td>1.370237e+12</td>\n",
       "      <td>1219.000000</td>\n",
       "      <td>7.765000e+03</td>\n",
       "      <td>0.121400</td>\n",
       "    </tr>\n",
       "    <tr>\n",
       "      <th>25%</th>\n",
       "      <td>1106.250000</td>\n",
       "      <td>1105.525000</td>\n",
       "      <td>1120.275000</td>\n",
       "      <td>1088.575000</td>\n",
       "      <td>1107.000000</td>\n",
       "      <td>1106.500000</td>\n",
       "      <td>1105.750000</td>\n",
       "      <td>7.884775e+05</td>\n",
       "      <td>1.050834e+14</td>\n",
       "      <td>46749.500000</td>\n",
       "      <td>4.334740e+05</td>\n",
       "      <td>0.459100</td>\n",
       "    </tr>\n",
       "    <tr>\n",
       "      <th>50%</th>\n",
       "      <td>1633.500000</td>\n",
       "      <td>1625.000000</td>\n",
       "      <td>1655.000000</td>\n",
       "      <td>1610.000000</td>\n",
       "      <td>1630.050000</td>\n",
       "      <td>1636.350000</td>\n",
       "      <td>1629.420000</td>\n",
       "      <td>1.227748e+06</td>\n",
       "      <td>1.824973e+14</td>\n",
       "      <td>68901.000000</td>\n",
       "      <td>7.052640e+05</td>\n",
       "      <td>0.553800</td>\n",
       "    </tr>\n",
       "    <tr>\n",
       "      <th>75%</th>\n",
       "      <td>2326.125000</td>\n",
       "      <td>2321.800000</td>\n",
       "      <td>2345.000000</td>\n",
       "      <td>2301.300000</td>\n",
       "      <td>2325.000000</td>\n",
       "      <td>2326.850000</td>\n",
       "      <td>2319.895000</td>\n",
       "      <td>2.081120e+06</td>\n",
       "      <td>3.455393e+14</td>\n",
       "      <td>110630.250000</td>\n",
       "      <td>1.136132e+06</td>\n",
       "      <td>0.646850</td>\n",
       "    </tr>\n",
       "    <tr>\n",
       "      <th>max</th>\n",
       "      <td>3603.700000</td>\n",
       "      <td>3625.000000</td>\n",
       "      <td>3674.800000</td>\n",
       "      <td>3572.550000</td>\n",
       "      <td>3610.750000</td>\n",
       "      <td>3603.700000</td>\n",
       "      <td>3633.110000</td>\n",
       "      <td>4.403358e+07</td>\n",
       "      <td>1.268362e+16</td>\n",
       "      <td>542541.000000</td>\n",
       "      <td>3.155626e+07</td>\n",
       "      <td>0.962200</td>\n",
       "    </tr>\n",
       "  </tbody>\n",
       "</table>\n",
       "</div>"
      ],
      "text/plain": [
       "        Prev Close         Open         High          Low         Last  \\\n",
       "count  4139.000000  4139.000000  4139.000000  4139.000000  4139.000000   \n",
       "mean   1693.843549  1695.594081  1715.882302  1673.585709  1694.310184   \n",
       "std     722.879316   722.978228   728.450096   717.780248   723.177934   \n",
       "min     366.650000   360.000000   377.750000   358.000000   365.700000   \n",
       "25%    1106.250000  1105.525000  1120.275000  1088.575000  1107.000000   \n",
       "50%    1633.500000  1625.000000  1655.000000  1610.000000  1630.050000   \n",
       "75%    2326.125000  2321.800000  2345.000000  2301.300000  2325.000000   \n",
       "max    3603.700000  3625.000000  3674.800000  3572.550000  3610.750000   \n",
       "\n",
       "             Close         VWAP        Volume      Turnover         Trades  \\\n",
       "count  4139.000000  4139.000000  4.139000e+03  4.139000e+03    2456.000000   \n",
       "mean   1694.371612  1694.618120  1.676762e+06  2.952102e+14   85502.709283   \n",
       "std     723.061025   723.144157  1.607879e+06  3.849370e+14   56031.488595   \n",
       "min     366.650000   368.400000  1.834500e+04  1.370237e+12    1219.000000   \n",
       "25%    1106.500000  1105.750000  7.884775e+05  1.050834e+14   46749.500000   \n",
       "50%    1636.350000  1629.420000  1.227748e+06  1.824973e+14   68901.000000   \n",
       "75%    2326.850000  2319.895000  2.081120e+06  3.455393e+14  110630.250000   \n",
       "max    3603.700000  3633.110000  4.403358e+07  1.268362e+16  542541.000000   \n",
       "\n",
       "       Deliverable Volume  %Deliverble  \n",
       "count        4.139000e+03  4139.000000  \n",
       "mean         8.952206e+05     0.549429  \n",
       "std          8.637908e+05     0.132867  \n",
       "min          7.765000e+03     0.121400  \n",
       "25%          4.334740e+05     0.459100  \n",
       "50%          7.052640e+05     0.553800  \n",
       "75%          1.136132e+06     0.646850  \n",
       "max          3.155626e+07     0.962200  "
      ]
     },
     "execution_count": 80,
     "metadata": {},
     "output_type": "execute_result"
    }
   ],
   "source": [
    "stock.describe()"
   ]
  },
  {
   "cell_type": "code",
   "execution_count": 81,
   "id": "011a47e9",
   "metadata": {},
   "outputs": [],
   "source": [
    "# Ensure we are working with a copy of the DataFrame to avoid the SettingWithCopyWarning\n",
    "stock = stock.copy()"
   ]
  },
  {
   "cell_type": "code",
   "execution_count": 82,
   "id": "7758c824",
   "metadata": {},
   "outputs": [],
   "source": [
    "# Calculate HL_Perc and CO_Perc\n",
    "stock.loc[:, 'HL_Perc'] = (stock['High'] - stock['Low']) / stock['Low'] * 100\n",
    "stock.loc[:, 'CO_Perc'] = (stock['Close'] - stock['Open']) / stock['Open'] * 100"
   ]
  },
  {
   "cell_type": "code",
   "execution_count": 83,
   "id": "0bb9c198",
   "metadata": {},
   "outputs": [],
   "source": [
    "dates = np.array(stock[\"Date\"])\n",
    "dates_check = dates[-30:]\n",
    "dates = dates[:-30]"
   ]
  },
  {
   "cell_type": "code",
   "execution_count": 84,
   "id": "07901da7",
   "metadata": {},
   "outputs": [
    {
     "data": {
      "text/plain": [
       "Index(['Date', 'Symbol', 'Series', 'Prev Close', 'Open', 'High', 'Low', 'Last',\n",
       "       'Close', 'VWAP', 'Volume', 'Turnover', 'Trades', 'Deliverable Volume',\n",
       "       '%Deliverble', 'HL_Perc', 'CO_Perc'],\n",
       "      dtype='object')"
      ]
     },
     "execution_count": 84,
     "metadata": {},
     "output_type": "execute_result"
    }
   ],
   "source": [
    "stock.columns"
   ]
  },
  {
   "cell_type": "code",
   "execution_count": 85,
   "id": "75b07f7b",
   "metadata": {},
   "outputs": [],
   "source": [
    "stock = stock[[\"HL_Perc\", \"CO_Perc\", \"Close\", \"Volume\"]]"
   ]
  },
  {
   "cell_type": "code",
   "execution_count": 86,
   "id": "772db78e",
   "metadata": {},
   "outputs": [],
   "source": [
    "#Define the label column\n",
    "stock[\"PriceNextMonth\"] = stock[\"Close\"].shift(-30)"
   ]
  },
  {
   "cell_type": "code",
   "execution_count": 87,
   "id": "79011229",
   "metadata": {},
   "outputs": [
    {
     "data": {
      "text/html": [
       "<div>\n",
       "<style scoped>\n",
       "    .dataframe tbody tr th:only-of-type {\n",
       "        vertical-align: middle;\n",
       "    }\n",
       "\n",
       "    .dataframe tbody tr th {\n",
       "        vertical-align: top;\n",
       "    }\n",
       "\n",
       "    .dataframe thead th {\n",
       "        text-align: right;\n",
       "    }\n",
       "</style>\n",
       "<table border=\"1\" class=\"dataframe\">\n",
       "  <thead>\n",
       "    <tr style=\"text-align: right;\">\n",
       "      <th></th>\n",
       "      <th>HL_Perc</th>\n",
       "      <th>CO_Perc</th>\n",
       "      <th>Close</th>\n",
       "      <th>Volume</th>\n",
       "      <th>PriceNextMonth</th>\n",
       "    </tr>\n",
       "  </thead>\n",
       "  <tbody>\n",
       "    <tr>\n",
       "      <th>4134</th>\n",
       "      <td>2.103269</td>\n",
       "      <td>-0.040296</td>\n",
       "      <td>3100.80</td>\n",
       "      <td>2490260</td>\n",
       "      <td>NaN</td>\n",
       "    </tr>\n",
       "    <tr>\n",
       "      <th>4135</th>\n",
       "      <td>1.066710</td>\n",
       "      <td>0.837090</td>\n",
       "      <td>3132.00</td>\n",
       "      <td>1471417</td>\n",
       "      <td>NaN</td>\n",
       "    </tr>\n",
       "    <tr>\n",
       "      <th>4136</th>\n",
       "      <td>1.253213</td>\n",
       "      <td>-0.820648</td>\n",
       "      <td>3124.10</td>\n",
       "      <td>1639037</td>\n",
       "      <td>NaN</td>\n",
       "    </tr>\n",
       "    <tr>\n",
       "      <th>4137</th>\n",
       "      <td>1.669618</td>\n",
       "      <td>-0.964840</td>\n",
       "      <td>3115.25</td>\n",
       "      <td>1621395</td>\n",
       "      <td>NaN</td>\n",
       "    </tr>\n",
       "    <tr>\n",
       "      <th>4138</th>\n",
       "      <td>3.710265</td>\n",
       "      <td>-2.044208</td>\n",
       "      <td>3035.65</td>\n",
       "      <td>3072305</td>\n",
       "      <td>NaN</td>\n",
       "    </tr>\n",
       "  </tbody>\n",
       "</table>\n",
       "</div>"
      ],
      "text/plain": [
       "       HL_Perc   CO_Perc    Close   Volume  PriceNextMonth\n",
       "4134  2.103269 -0.040296  3100.80  2490260             NaN\n",
       "4135  1.066710  0.837090  3132.00  1471417             NaN\n",
       "4136  1.253213 -0.820648  3124.10  1639037             NaN\n",
       "4137  1.669618 -0.964840  3115.25  1621395             NaN\n",
       "4138  3.710265 -2.044208  3035.65  3072305             NaN"
      ]
     },
     "execution_count": 87,
     "metadata": {},
     "output_type": "execute_result"
    }
   ],
   "source": [
    "stock.tail()"
   ]
  },
  {
   "cell_type": "code",
   "execution_count": 88,
   "id": "c687b99c",
   "metadata": {},
   "outputs": [
    {
     "name": "stderr",
     "output_type": "stream",
     "text": [
      "C:\\Users\\suresh\\AppData\\Local\\Temp\\ipykernel_7132\\459189850.py:2: FutureWarning: In a future version of pandas all arguments of DataFrame.drop except for the argument 'labels' will be keyword-only.\n",
      "  X = np.array(stock.drop([\"PriceNextMonth\"], 1))\n"
     ]
    }
   ],
   "source": [
    "#Make fetaure and label arrays\n",
    "X = np.array(stock.drop([\"PriceNextMonth\"], 1))\n",
    "X = preprocessing.scale(X)\n",
    "X_Check = X[-30:]\n",
    "X = X[:-30]\n",
    "stock.dropna(inplace = True)\n",
    "y = np.array(stock[\"PriceNextMonth\"])"
   ]
  },
  {
   "cell_type": "code",
   "execution_count": 89,
   "id": "381f2472",
   "metadata": {},
   "outputs": [],
   "source": [
    "#Divide the data set into training data and testing data\n",
    "X_train, X_test, y_train, y_test = train_test_split(X,y,test_size = 0.2)"
   ]
  },
  {
   "cell_type": "code",
   "execution_count": 90,
   "id": "489c08a2",
   "metadata": {},
   "outputs": [],
   "source": [
    "#Define the prediction model\n",
    "model = RandomForestRegressor()"
   ]
  },
  {
   "cell_type": "code",
   "execution_count": 91,
   "id": "74ff8cec",
   "metadata": {},
   "outputs": [
    {
     "data": {
      "text/plain": [
       "RandomForestRegressor()"
      ]
     },
     "execution_count": 91,
     "metadata": {},
     "output_type": "execute_result"
    }
   ],
   "source": [
    "#Fit the model using training data\n",
    "model.fit(X_train, y_train)"
   ]
  },
  {
   "cell_type": "code",
   "execution_count": 92,
   "id": "520c0372",
   "metadata": {},
   "outputs": [
    {
     "name": "stdout",
     "output_type": "stream",
     "text": [
      "0.9437339878280747\n"
     ]
    }
   ],
   "source": [
    "#Calculate the confidence value by applying the model to testing data\n",
    "conf = model.score(X_test, y_test)\n",
    "print(conf)"
   ]
  },
  {
   "cell_type": "code",
   "execution_count": 93,
   "id": "b9381393",
   "metadata": {},
   "outputs": [
    {
     "data": {
      "text/plain": [
       "RandomForestRegressor()"
      ]
     },
     "execution_count": 93,
     "metadata": {},
     "output_type": "execute_result"
    }
   ],
   "source": [
    "#Fit the model again using the whole data set\n",
    "model.fit(X,y)"
   ]
  },
  {
   "cell_type": "code",
   "execution_count": 94,
   "id": "4990c67a",
   "metadata": {},
   "outputs": [],
   "source": [
    "predictions = model.predict(X_Check)"
   ]
  },
  {
   "cell_type": "code",
   "execution_count": 95,
   "id": "c0d5a9e2",
   "metadata": {},
   "outputs": [],
   "source": [
    "#Make the final DataFrame containing Dates, ClosePrices, and Forecast values\n",
    "actual = pd.DataFrame(dates, columns = [\"Date\"])\n",
    "actual[\"ClosePrice\"] = stock[\"Close\"]\n",
    "actual[\"Forecast\"] = np.nan\n",
    "actual.set_index(\"Date\", inplace = True)\n",
    "forecast = pd.DataFrame(dates_check, columns=[\"Date\"])\n",
    "forecast[\"Forecast\"] = predictions\n",
    "forecast[\"ClosePrice\"] = np.nan\n",
    "forecast.set_index(\"Date\", inplace = True)\n",
    "var = [actual, forecast]\n",
    "result = pd.concat(var)  #This is the final DataFrame"
   ]
  },
  {
   "cell_type": "code",
   "execution_count": 96,
   "id": "45722829",
   "metadata": {},
   "outputs": [
    {
     "data": {
      "text/plain": [
       "Text(0, 0.5, 'Price')"
      ]
     },
     "execution_count": 96,
     "metadata": {},
     "output_type": "execute_result"
    },
    {
     "data": {
      "image/png": "[encoded data removed]",
      "text/plain": [
       "<Figure size 2000x1000 with 1 Axes>"
      ]
     },
     "metadata": {},
     "output_type": "display_data"
    }
   ],
   "source": [
    "#Plot the final results\n",
    "result.plot(figsize=(20,10), linewidth=1.5)\n",
    "plt.legend(loc=2, prop={'size':20})\n",
    "plt.xlabel('Date')\n",
    "plt.ylabel('Price')"
   ]
  },
  {
   "cell_type": "code",
   "execution_count": null,
   "id": "e099aee8",
   "metadata": {},
   "outputs": [],
   "source": []
  }
 ],
 "metadata": {
  "kernelspec": {
   "display_name": "Python 3 (ipykernel)",
   "language": "python",
   "name": "python3"
  },
  "language_info": {
   "codemirror_mode": {
    "name": "ipython",
    "version": 3
   },
   "file_extension": ".py",
   "mimetype": "text/x-python",
   "name": "python",
   "nbconvert_exporter": "python",
   "pygments_lexer": "ipython3",
   "version": "3.9.13"
  }
 },
 "nbformat": 4,
 "nbformat_minor": 5
}
