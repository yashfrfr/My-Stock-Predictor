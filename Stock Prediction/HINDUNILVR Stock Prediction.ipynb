{
 "cells": [
  {
   "cell_type": "code",
   "execution_count": 2,
   "id": "5a20ead1",
   "metadata": {},
   "outputs": [],
   "source": [
    "#Import the libraries\n",
    "import pandas as pd \n",
    "import numpy as np \n",
    "import matplotlib.pyplot as plt \n",
    "from sklearn import preprocessing\n",
    "from sklearn.ensemble import RandomForestRegressor\n",
    "from sklearn.model_selection import train_test_split\n",
    "from sklearn.metrics import mean_absolute_error, r2_score"
   ]
  },
  {
   "cell_type": "code",
   "execution_count": 323,
   "id": "1ebabd9c",
   "metadata": {},
   "outputs": [],
   "source": [
    "stock = pd.read_csv(\"C:/Users/suresh/Desktop/PYTHON ML DATA SCIENCE/Stock Prediction/Stock Data/HINDUNILVR.csv\")"
   ]
  },
  {
   "cell_type": "code",
   "execution_count": 324,
   "id": "b4a873d4",
   "metadata": {},
   "outputs": [
    {
     "data": {
      "text/html": [
       "<div>\n",
       "<style scoped>\n",
       "    .dataframe tbody tr th:only-of-type {\n",
       "        vertical-align: middle;\n",
       "    }\n",
       "\n",
       "    .dataframe tbody tr th {\n",
       "        vertical-align: top;\n",
       "    }\n",
       "\n",
       "    .dataframe thead th {\n",
       "        text-align: right;\n",
       "    }\n",
       "</style>\n",
       "<table border=\"1\" class=\"dataframe\">\n",
       "  <thead>\n",
       "    <tr style=\"text-align: right;\">\n",
       "      <th></th>\n",
       "      <th>Date</th>\n",
       "      <th>Symbol</th>\n",
       "      <th>Series</th>\n",
       "      <th>Prev Close</th>\n",
       "      <th>Open</th>\n",
       "      <th>High</th>\n",
       "      <th>Low</th>\n",
       "      <th>Last</th>\n",
       "      <th>Close</th>\n",
       "      <th>VWAP</th>\n",
       "      <th>Volume</th>\n",
       "      <th>Turnover</th>\n",
       "      <th>Trades</th>\n",
       "      <th>Deliverable Volume</th>\n",
       "      <th>%Deliverble</th>\n",
       "    </tr>\n",
       "  </thead>\n",
       "  <tbody>\n",
       "    <tr>\n",
       "      <th>0</th>\n",
       "      <td>2000-01-03</td>\n",
       "      <td>HINDLEVER</td>\n",
       "      <td>EQ</td>\n",
       "      <td>2136.60</td>\n",
       "      <td>2300.0</td>\n",
       "      <td>2307.55</td>\n",
       "      <td>2300.00</td>\n",
       "      <td>2307.55</td>\n",
       "      <td>2307.55</td>\n",
       "      <td>2307.08</td>\n",
       "      <td>24903</td>\n",
       "      <td>5.745330e+12</td>\n",
       "      <td>NaN</td>\n",
       "      <td>NaN</td>\n",
       "      <td>NaN</td>\n",
       "    </tr>\n",
       "    <tr>\n",
       "      <th>1</th>\n",
       "      <td>2000-01-04</td>\n",
       "      <td>HINDLEVER</td>\n",
       "      <td>EQ</td>\n",
       "      <td>2307.55</td>\n",
       "      <td>2381.0</td>\n",
       "      <td>2381.00</td>\n",
       "      <td>2250.00</td>\n",
       "      <td>2270.00</td>\n",
       "      <td>2281.05</td>\n",
       "      <td>2298.15</td>\n",
       "      <td>58514</td>\n",
       "      <td>1.344740e+13</td>\n",
       "      <td>NaN</td>\n",
       "      <td>NaN</td>\n",
       "      <td>NaN</td>\n",
       "    </tr>\n",
       "    <tr>\n",
       "      <th>2</th>\n",
       "      <td>2000-01-05</td>\n",
       "      <td>HINDLEVER</td>\n",
       "      <td>EQ</td>\n",
       "      <td>2281.05</td>\n",
       "      <td>2200.0</td>\n",
       "      <td>2250.00</td>\n",
       "      <td>2105.00</td>\n",
       "      <td>2183.50</td>\n",
       "      <td>2199.90</td>\n",
       "      <td>2211.17</td>\n",
       "      <td>80296</td>\n",
       "      <td>1.775482e+13</td>\n",
       "      <td>NaN</td>\n",
       "      <td>NaN</td>\n",
       "      <td>NaN</td>\n",
       "    </tr>\n",
       "    <tr>\n",
       "      <th>3</th>\n",
       "      <td>2000-01-06</td>\n",
       "      <td>HINDLEVER</td>\n",
       "      <td>EQ</td>\n",
       "      <td>2199.90</td>\n",
       "      <td>2224.9</td>\n",
       "      <td>2360.00</td>\n",
       "      <td>2210.00</td>\n",
       "      <td>2300.00</td>\n",
       "      <td>2288.20</td>\n",
       "      <td>2301.80</td>\n",
       "      <td>190032</td>\n",
       "      <td>4.374157e+13</td>\n",
       "      <td>NaN</td>\n",
       "      <td>NaN</td>\n",
       "      <td>NaN</td>\n",
       "    </tr>\n",
       "    <tr>\n",
       "      <th>4</th>\n",
       "      <td>2000-01-07</td>\n",
       "      <td>HINDLEVER</td>\n",
       "      <td>EQ</td>\n",
       "      <td>2288.20</td>\n",
       "      <td>2300.0</td>\n",
       "      <td>2452.00</td>\n",
       "      <td>2282.25</td>\n",
       "      <td>2395.00</td>\n",
       "      <td>2412.95</td>\n",
       "      <td>2380.24</td>\n",
       "      <td>192582</td>\n",
       "      <td>4.583919e+13</td>\n",
       "      <td>NaN</td>\n",
       "      <td>NaN</td>\n",
       "      <td>NaN</td>\n",
       "    </tr>\n",
       "  </tbody>\n",
       "</table>\n",
       "</div>"
      ],
      "text/plain": [
       "         Date     Symbol Series  Prev Close    Open     High      Low  \\\n",
       "0  2000-01-03  HINDLEVER     EQ     2136.60  2300.0  2307.55  2300.00   \n",
       "1  2000-01-04  HINDLEVER     EQ     2307.55  2381.0  2381.00  2250.00   \n",
       "2  2000-01-05  HINDLEVER     EQ     2281.05  2200.0  2250.00  2105.00   \n",
       "3  2000-01-06  HINDLEVER     EQ     2199.90  2224.9  2360.00  2210.00   \n",
       "4  2000-01-07  HINDLEVER     EQ     2288.20  2300.0  2452.00  2282.25   \n",
       "\n",
       "      Last    Close     VWAP  Volume      Turnover  Trades  \\\n",
       "0  2307.55  2307.55  2307.08   24903  5.745330e+12     NaN   \n",
       "1  2270.00  2281.05  2298.15   58514  1.344740e+13     NaN   \n",
       "2  2183.50  2199.90  2211.17   80296  1.775482e+13     NaN   \n",
       "3  2300.00  2288.20  2301.80  190032  4.374157e+13     NaN   \n",
       "4  2395.00  2412.95  2380.24  192582  4.583919e+13     NaN   \n",
       "\n",
       "   Deliverable Volume  %Deliverble  \n",
       "0                 NaN          NaN  \n",
       "1                 NaN          NaN  \n",
       "2                 NaN          NaN  \n",
       "3                 NaN          NaN  \n",
       "4                 NaN          NaN  "
      ]
     },
     "execution_count": 324,
     "metadata": {},
     "output_type": "execute_result"
    }
   ],
   "source": [
    "stock.head()"
   ]
  },
  {
   "cell_type": "code",
   "execution_count": 325,
   "id": "564201f0",
   "metadata": {},
   "outputs": [
    {
     "name": "stdout",
     "output_type": "stream",
     "text": [
      "<class 'pandas.core.frame.DataFrame'>\n",
      "RangeIndex: 5306 entries, 0 to 5305\n",
      "Data columns (total 15 columns):\n",
      " #   Column              Non-Null Count  Dtype  \n",
      "---  ------              --------------  -----  \n",
      " 0   Date                5306 non-null   object \n",
      " 1   Symbol              5306 non-null   object \n",
      " 2   Series              5306 non-null   object \n",
      " 3   Prev Close          5306 non-null   float64\n",
      " 4   Open                5306 non-null   float64\n",
      " 5   High                5306 non-null   float64\n",
      " 6   Low                 5306 non-null   float64\n",
      " 7   Last                5306 non-null   float64\n",
      " 8   Close               5306 non-null   float64\n",
      " 9   VWAP                5306 non-null   float64\n",
      " 10  Volume              5306 non-null   int64  \n",
      " 11  Turnover            5306 non-null   float64\n",
      " 12  Trades              2456 non-null   float64\n",
      " 13  Deliverable Volume  4791 non-null   float64\n",
      " 14  %Deliverble         4791 non-null   float64\n",
      "dtypes: float64(11), int64(1), object(3)\n",
      "memory usage: 621.9+ KB\n"
     ]
    }
   ],
   "source": [
    "stock.info()"
   ]
  },
  {
   "cell_type": "code",
   "execution_count": 326,
   "id": "c9d711dd",
   "metadata": {},
   "outputs": [
    {
     "data": {
      "text/html": [
       "<div>\n",
       "<style scoped>\n",
       "    .dataframe tbody tr th:only-of-type {\n",
       "        vertical-align: middle;\n",
       "    }\n",
       "\n",
       "    .dataframe tbody tr th {\n",
       "        vertical-align: top;\n",
       "    }\n",
       "\n",
       "    .dataframe thead th {\n",
       "        text-align: right;\n",
       "    }\n",
       "</style>\n",
       "<table border=\"1\" class=\"dataframe\">\n",
       "  <thead>\n",
       "    <tr style=\"text-align: right;\">\n",
       "      <th></th>\n",
       "      <th>Prev Close</th>\n",
       "      <th>Open</th>\n",
       "      <th>High</th>\n",
       "      <th>Low</th>\n",
       "      <th>Last</th>\n",
       "      <th>Close</th>\n",
       "      <th>VWAP</th>\n",
       "      <th>Volume</th>\n",
       "      <th>Turnover</th>\n",
       "      <th>Trades</th>\n",
       "      <th>Deliverable Volume</th>\n",
       "      <th>%Deliverble</th>\n",
       "    </tr>\n",
       "  </thead>\n",
       "  <tbody>\n",
       "    <tr>\n",
       "      <th>count</th>\n",
       "      <td>5306.000000</td>\n",
       "      <td>5306.000000</td>\n",
       "      <td>5306.000000</td>\n",
       "      <td>5306.000000</td>\n",
       "      <td>5306.000000</td>\n",
       "      <td>5306.000000</td>\n",
       "      <td>5306.000000</td>\n",
       "      <td>5.306000e+03</td>\n",
       "      <td>5.306000e+03</td>\n",
       "      <td>2456.000000</td>\n",
       "      <td>4.791000e+03</td>\n",
       "      <td>4791.000000</td>\n",
       "    </tr>\n",
       "    <tr>\n",
       "      <th>mean</th>\n",
       "      <td>681.759037</td>\n",
       "      <td>682.294893</td>\n",
       "      <td>690.944139</td>\n",
       "      <td>672.909273</td>\n",
       "      <td>681.772974</td>\n",
       "      <td>681.799962</td>\n",
       "      <td>681.862976</td>\n",
       "      <td>2.079761e+06</td>\n",
       "      <td>1.288699e+14</td>\n",
       "      <td>56259.508958</td>\n",
       "      <td>1.331771e+06</td>\n",
       "      <td>0.603171</td>\n",
       "    </tr>\n",
       "    <tr>\n",
       "      <th>std</th>\n",
       "      <td>678.262430</td>\n",
       "      <td>679.340181</td>\n",
       "      <td>688.763295</td>\n",
       "      <td>668.803945</td>\n",
       "      <td>678.351376</td>\n",
       "      <td>678.356774</td>\n",
       "      <td>678.668946</td>\n",
       "      <td>3.043906e+06</td>\n",
       "      <td>5.296064e+14</td>\n",
       "      <td>48192.076558</td>\n",
       "      <td>2.295528e+06</td>\n",
       "      <td>0.120553</td>\n",
       "    </tr>\n",
       "    <tr>\n",
       "      <th>min</th>\n",
       "      <td>106.150000</td>\n",
       "      <td>103.100000</td>\n",
       "      <td>108.000000</td>\n",
       "      <td>100.500000</td>\n",
       "      <td>105.750000</td>\n",
       "      <td>106.150000</td>\n",
       "      <td>106.380000</td>\n",
       "      <td>1.875700e+04</td>\n",
       "      <td>7.824905e+11</td>\n",
       "      <td>459.000000</td>\n",
       "      <td>8.020000e+03</td>\n",
       "      <td>0.175400</td>\n",
       "    </tr>\n",
       "    <tr>\n",
       "      <th>25%</th>\n",
       "      <td>210.412500</td>\n",
       "      <td>210.500000</td>\n",
       "      <td>214.000000</td>\n",
       "      <td>207.112500</td>\n",
       "      <td>210.525000</td>\n",
       "      <td>210.412500</td>\n",
       "      <td>210.492500</td>\n",
       "      <td>1.010389e+06</td>\n",
       "      <td>3.468311e+13</td>\n",
       "      <td>28990.750000</td>\n",
       "      <td>6.336585e+05</td>\n",
       "      <td>0.522300</td>\n",
       "    </tr>\n",
       "    <tr>\n",
       "      <th>50%</th>\n",
       "      <td>298.100000</td>\n",
       "      <td>298.150000</td>\n",
       "      <td>302.000000</td>\n",
       "      <td>294.500000</td>\n",
       "      <td>297.675000</td>\n",
       "      <td>298.100000</td>\n",
       "      <td>298.185000</td>\n",
       "      <td>1.615984e+06</td>\n",
       "      <td>6.724330e+13</td>\n",
       "      <td>43874.000000</td>\n",
       "      <td>9.907800e+05</td>\n",
       "      <td>0.610300</td>\n",
       "    </tr>\n",
       "    <tr>\n",
       "      <th>75%</th>\n",
       "      <td>881.212500</td>\n",
       "      <td>881.025000</td>\n",
       "      <td>891.850000</td>\n",
       "      <td>871.137500</td>\n",
       "      <td>880.400000</td>\n",
       "      <td>881.212500</td>\n",
       "      <td>880.545000</td>\n",
       "      <td>2.553852e+06</td>\n",
       "      <td>1.269755e+14</td>\n",
       "      <td>67904.500000</td>\n",
       "      <td>1.616426e+06</td>\n",
       "      <td>0.688700</td>\n",
       "    </tr>\n",
       "    <tr>\n",
       "      <th>max</th>\n",
       "      <td>3141.250000</td>\n",
       "      <td>3165.700000</td>\n",
       "      <td>3234.000000</td>\n",
       "      <td>3050.000000</td>\n",
       "      <td>3130.000000</td>\n",
       "      <td>3141.250000</td>\n",
       "      <td>3166.540000</td>\n",
       "      <td>1.856700e+08</td>\n",
       "      <td>3.564334e+16</td>\n",
       "      <td>946784.000000</td>\n",
       "      <td>1.399438e+08</td>\n",
       "      <td>0.976700</td>\n",
       "    </tr>\n",
       "  </tbody>\n",
       "</table>\n",
       "</div>"
      ],
      "text/plain": [
       "        Prev Close         Open         High          Low         Last  \\\n",
       "count  5306.000000  5306.000000  5306.000000  5306.000000  5306.000000   \n",
       "mean    681.759037   682.294893   690.944139   672.909273   681.772974   \n",
       "std     678.262430   679.340181   688.763295   668.803945   678.351376   \n",
       "min     106.150000   103.100000   108.000000   100.500000   105.750000   \n",
       "25%     210.412500   210.500000   214.000000   207.112500   210.525000   \n",
       "50%     298.100000   298.150000   302.000000   294.500000   297.675000   \n",
       "75%     881.212500   881.025000   891.850000   871.137500   880.400000   \n",
       "max    3141.250000  3165.700000  3234.000000  3050.000000  3130.000000   \n",
       "\n",
       "             Close         VWAP        Volume      Turnover         Trades  \\\n",
       "count  5306.000000  5306.000000  5.306000e+03  5.306000e+03    2456.000000   \n",
       "mean    681.799962   681.862976  2.079761e+06  1.288699e+14   56259.508958   \n",
       "std     678.356774   678.668946  3.043906e+06  5.296064e+14   48192.076558   \n",
       "min     106.150000   106.380000  1.875700e+04  7.824905e+11     459.000000   \n",
       "25%     210.412500   210.492500  1.010389e+06  3.468311e+13   28990.750000   \n",
       "50%     298.100000   298.185000  1.615984e+06  6.724330e+13   43874.000000   \n",
       "75%     881.212500   880.545000  2.553852e+06  1.269755e+14   67904.500000   \n",
       "max    3141.250000  3166.540000  1.856700e+08  3.564334e+16  946784.000000   \n",
       "\n",
       "       Deliverable Volume  %Deliverble  \n",
       "count        4.791000e+03  4791.000000  \n",
       "mean         1.331771e+06     0.603171  \n",
       "std          2.295528e+06     0.120553  \n",
       "min          8.020000e+03     0.175400  \n",
       "25%          6.336585e+05     0.522300  \n",
       "50%          9.907800e+05     0.610300  \n",
       "75%          1.616426e+06     0.688700  \n",
       "max          1.399438e+08     0.976700  "
      ]
     },
     "execution_count": 326,
     "metadata": {},
     "output_type": "execute_result"
    }
   ],
   "source": [
    "stock.describe()"
   ]
  },
  {
   "cell_type": "code",
   "execution_count": 327,
   "id": "011a47e9",
   "metadata": {},
   "outputs": [],
   "source": [
    "# Ensure we are working with a copy of the DataFrame to avoid the SettingWithCopyWarning\n",
    "stock = stock.copy()"
   ]
  },
  {
   "cell_type": "code",
   "execution_count": 328,
   "id": "7758c824",
   "metadata": {},
   "outputs": [],
   "source": [
    "# Calculate HL_Perc and CO_Perc\n",
    "stock.loc[:, 'HL_Perc'] = (stock['High'] - stock['Low']) / stock['Low'] * 100\n",
    "stock.loc[:, 'CO_Perc'] = (stock['Close'] - stock['Open']) / stock['Open'] * 100"
   ]
  },
  {
   "cell_type": "code",
   "execution_count": 329,
   "id": "0bb9c198",
   "metadata": {},
   "outputs": [],
   "source": [
    "dates = np.array(stock[\"Date\"])\n",
    "dates_check = dates[-30:]\n",
    "dates = dates[:-30]"
   ]
  },
  {
   "cell_type": "code",
   "execution_count": 330,
   "id": "07901da7",
   "metadata": {},
   "outputs": [
    {
     "data": {
      "text/plain": [
       "Index(['Date', 'Symbol', 'Series', 'Prev Close', 'Open', 'High', 'Low', 'Last',\n",
       "       'Close', 'VWAP', 'Volume', 'Turnover', 'Trades', 'Deliverable Volume',\n",
       "       '%Deliverble', 'HL_Perc', 'CO_Perc'],\n",
       "      dtype='object')"
      ]
     },
     "execution_count": 330,
     "metadata": {},
     "output_type": "execute_result"
    }
   ],
   "source": [
    "stock.columns"
   ]
  },
  {
   "cell_type": "code",
   "execution_count": 331,
   "id": "75b07f7b",
   "metadata": {},
   "outputs": [],
   "source": [
    "stock = stock[[\"HL_Perc\", \"CO_Perc\", \"Close\", \"Volume\"]]"
   ]
  },
  {
   "cell_type": "code",
   "execution_count": 332,
   "id": "772db78e",
   "metadata": {},
   "outputs": [],
   "source": [
    "#Define the label column\n",
    "stock[\"PriceNextMonth\"] = stock[\"Close\"].shift(-30)"
   ]
  },
  {
   "cell_type": "code",
   "execution_count": 333,
   "id": "79011229",
   "metadata": {},
   "outputs": [
    {
     "data": {
      "text/html": [
       "<div>\n",
       "<style scoped>\n",
       "    .dataframe tbody tr th:only-of-type {\n",
       "        vertical-align: middle;\n",
       "    }\n",
       "\n",
       "    .dataframe tbody tr th {\n",
       "        vertical-align: top;\n",
       "    }\n",
       "\n",
       "    .dataframe thead th {\n",
       "        text-align: right;\n",
       "    }\n",
       "</style>\n",
       "<table border=\"1\" class=\"dataframe\">\n",
       "  <thead>\n",
       "    <tr style=\"text-align: right;\">\n",
       "      <th></th>\n",
       "      <th>HL_Perc</th>\n",
       "      <th>CO_Perc</th>\n",
       "      <th>Close</th>\n",
       "      <th>Volume</th>\n",
       "      <th>PriceNextMonth</th>\n",
       "    </tr>\n",
       "  </thead>\n",
       "  <tbody>\n",
       "    <tr>\n",
       "      <th>5301</th>\n",
       "      <td>2.544353</td>\n",
       "      <td>1.577022</td>\n",
       "      <td>2360.65</td>\n",
       "      <td>1946867</td>\n",
       "      <td>NaN</td>\n",
       "    </tr>\n",
       "    <tr>\n",
       "      <th>5302</th>\n",
       "      <td>1.423745</td>\n",
       "      <td>0.713077</td>\n",
       "      <td>2379.85</td>\n",
       "      <td>1668456</td>\n",
       "      <td>NaN</td>\n",
       "    </tr>\n",
       "    <tr>\n",
       "      <th>5303</th>\n",
       "      <td>3.325867</td>\n",
       "      <td>1.115546</td>\n",
       "      <td>2406.55</td>\n",
       "      <td>1951215</td>\n",
       "      <td>NaN</td>\n",
       "    </tr>\n",
       "    <tr>\n",
       "      <th>5304</th>\n",
       "      <td>2.717950</td>\n",
       "      <td>-1.043979</td>\n",
       "      <td>2407.60</td>\n",
       "      <td>3151150</td>\n",
       "      <td>NaN</td>\n",
       "    </tr>\n",
       "    <tr>\n",
       "      <th>5305</th>\n",
       "      <td>4.834245</td>\n",
       "      <td>-2.334025</td>\n",
       "      <td>2353.75</td>\n",
       "      <td>4010778</td>\n",
       "      <td>NaN</td>\n",
       "    </tr>\n",
       "  </tbody>\n",
       "</table>\n",
       "</div>"
      ],
      "text/plain": [
       "       HL_Perc   CO_Perc    Close   Volume  PriceNextMonth\n",
       "5301  2.544353  1.577022  2360.65  1946867             NaN\n",
       "5302  1.423745  0.713077  2379.85  1668456             NaN\n",
       "5303  3.325867  1.115546  2406.55  1951215             NaN\n",
       "5304  2.717950 -1.043979  2407.60  3151150             NaN\n",
       "5305  4.834245 -2.334025  2353.75  4010778             NaN"
      ]
     },
     "execution_count": 333,
     "metadata": {},
     "output_type": "execute_result"
    }
   ],
   "source": [
    "stock.tail()"
   ]
  },
  {
   "cell_type": "code",
   "execution_count": 334,
   "id": "c687b99c",
   "metadata": {},
   "outputs": [
    {
     "name": "stderr",
     "output_type": "stream",
     "text": [
      "C:\\Users\\suresh\\AppData\\Local\\Temp\\ipykernel_17924\\459189850.py:2: FutureWarning: In a future version of pandas all arguments of DataFrame.drop except for the argument 'labels' will be keyword-only.\n",
      "  X = np.array(stock.drop([\"PriceNextMonth\"], 1))\n"
     ]
    }
   ],
   "source": [
    "#Make fetaure and label arrays\n",
    "X = np.array(stock.drop([\"PriceNextMonth\"], 1))\n",
    "X = preprocessing.scale(X)\n",
    "X_Check = X[-30:]\n",
    "X = X[:-30]\n",
    "stock.dropna(inplace = True)\n",
    "y = np.array(stock[\"PriceNextMonth\"])"
   ]
  },
  {
   "cell_type": "code",
   "execution_count": 335,
   "id": "381f2472",
   "metadata": {},
   "outputs": [],
   "source": [
    "#Divide the data set into training data and testing data\n",
    "X_train, X_test, y_train, y_test = train_test_split(X,y,test_size = 0.2)"
   ]
  },
  {
   "cell_type": "code",
   "execution_count": 336,
   "id": "489c08a2",
   "metadata": {},
   "outputs": [],
   "source": [
    "#Define the prediction model\n",
    "model = RandomForestRegressor()"
   ]
  },
  {
   "cell_type": "code",
   "execution_count": 337,
   "id": "74ff8cec",
   "metadata": {},
   "outputs": [
    {
     "data": {
      "text/plain": [
       "RandomForestRegressor()"
      ]
     },
     "execution_count": 337,
     "metadata": {},
     "output_type": "execute_result"
    }
   ],
   "source": [
    "#Fit the model using training data\n",
    "model.fit(X_train, y_train)"
   ]
  },
  {
   "cell_type": "code",
   "execution_count": 338,
   "id": "520c0372",
   "metadata": {},
   "outputs": [
    {
     "name": "stdout",
     "output_type": "stream",
     "text": [
      "0.9500931960945241\n"
     ]
    }
   ],
   "source": [
    "#Calculate the confidence value by applying the model to testing data\n",
    "conf = model.score(X_test, y_test)\n",
    "print(conf)"
   ]
  },
  {
   "cell_type": "code",
   "execution_count": 339,
   "id": "b9381393",
   "metadata": {},
   "outputs": [
    {
     "data": {
      "text/plain": [
       "RandomForestRegressor()"
      ]
     },
     "execution_count": 339,
     "metadata": {},
     "output_type": "execute_result"
    }
   ],
   "source": [
    "#Fit the model again using the whole data set\n",
    "model.fit(X,y)"
   ]
  },
  {
   "cell_type": "code",
   "execution_count": 340,
   "id": "4990c67a",
   "metadata": {},
   "outputs": [],
   "source": [
    "predictions = model.predict(X_Check)"
   ]
  },
  {
   "cell_type": "code",
   "execution_count": 341,
   "id": "c0d5a9e2",
   "metadata": {},
   "outputs": [],
   "source": [
    "#Make the final DataFrame containing Dates, ClosePrices, and Forecast values\n",
    "actual = pd.DataFrame(dates, columns = [\"Date\"])\n",
    "actual[\"ClosePrice\"] = stock[\"Close\"]\n",
    "actual[\"Forecast\"] = np.nan\n",
    "actual.set_index(\"Date\", inplace = True)\n",
    "forecast = pd.DataFrame(dates_check, columns=[\"Date\"])\n",
    "forecast[\"Forecast\"] = predictions\n",
    "forecast[\"ClosePrice\"] = np.nan\n",
    "forecast.set_index(\"Date\", inplace = True)\n",
    "var = [actual, forecast]\n",
    "result = pd.concat(var)  #This is the final DataFrame"
   ]
  },
  {
   "cell_type": "code",
   "execution_count": 342,
   "id": "45722829",
   "metadata": {},
   "outputs": [
    {
     "data": {
      "text/plain": [
       "Text(0, 0.5, 'Price')"
      ]
     },
     "execution_count": 342,
     "metadata": {},
     "output_type": "execute_result"
    },
    {
     "data": {
      "image/png": "[encoded data removed]",
      "text/plain": [
       "<Figure size 2000x1000 with 1 Axes>"
      ]
     },
     "metadata": {},
     "output_type": "display_data"
    }
   ],
   "source": [
    "#Plot the final results\n",
    "result.plot(figsize=(20,10), linewidth=1.5)\n",
    "plt.legend(loc=2, prop={'size':20})\n",
    "plt.xlabel('Date')\n",
    "plt.ylabel('Price')"
   ]
  },
  {
   "cell_type": "code",
   "execution_count": null,
   "id": "e099aee8",
   "metadata": {},
   "outputs": [],
   "source": []
  },
  {
   "cell_type": "code",
   "execution_count": null,
   "id": "c36503d8",
   "metadata": {},
   "outputs": [],
   "source": []
  }
 ],
 "metadata": {
  "kernelspec": {
   "display_name": "Python 3 (ipykernel)",
   "language": "python",
   "name": "python3"
  },
  "language_info": {
   "codemirror_mode": {
    "name": "ipython",
    "version": 3
   },
   "file_extension": ".py",
   "mimetype": "text/x-python",
   "name": "python",
   "nbconvert_exporter": "python",
   "pygments_lexer": "ipython3",
   "version": "3.9.13"
  }
 },
 "nbformat": 4,
 "nbformat_minor": 5
}
