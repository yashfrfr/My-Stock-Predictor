{
 "cells": [
  {
   "cell_type": "code",
   "execution_count": 2,
   "id": "5a20ead1",
   "metadata": {},
   "outputs": [],
   "source": [
    "#Import the libraries\n",
    "import pandas as pd \n",
    "import numpy as np \n",
    "import matplotlib.pyplot as plt \n",
    "from sklearn import preprocessing\n",
    "from sklearn.ensemble import RandomForestRegressor\n",
    "from sklearn.model_selection import train_test_split\n",
    "from sklearn.metrics import mean_absolute_error, r2_score"
   ]
  },
  {
   "cell_type": "code",
   "execution_count": 63,
   "id": "1ebabd9c",
   "metadata": {},
   "outputs": [],
   "source": [
    "stock = pd.read_csv(\"C:/Users/suresh/Desktop/PYTHON ML DATA SCIENCE/Stock Prediction/Stock Data/BPCL.csv\")"
   ]
  },
  {
   "cell_type": "code",
   "execution_count": 64,
   "id": "b4a873d4",
   "metadata": {},
   "outputs": [
    {
     "data": {
      "text/html": [
       "<div>\n",
       "<style scoped>\n",
       "    .dataframe tbody tr th:only-of-type {\n",
       "        vertical-align: middle;\n",
       "    }\n",
       "\n",
       "    .dataframe tbody tr th {\n",
       "        vertical-align: top;\n",
       "    }\n",
       "\n",
       "    .dataframe thead th {\n",
       "        text-align: right;\n",
       "    }\n",
       "</style>\n",
       "<table border=\"1\" class=\"dataframe\">\n",
       "  <thead>\n",
       "    <tr style=\"text-align: right;\">\n",
       "      <th></th>\n",
       "      <th>Date</th>\n",
       "      <th>Symbol</th>\n",
       "      <th>Series</th>\n",
       "      <th>Prev Close</th>\n",
       "      <th>Open</th>\n",
       "      <th>High</th>\n",
       "      <th>Low</th>\n",
       "      <th>Last</th>\n",
       "      <th>Close</th>\n",
       "      <th>VWAP</th>\n",
       "      <th>Volume</th>\n",
       "      <th>Turnover</th>\n",
       "      <th>Trades</th>\n",
       "      <th>Deliverable Volume</th>\n",
       "      <th>%Deliverble</th>\n",
       "    </tr>\n",
       "  </thead>\n",
       "  <tbody>\n",
       "    <tr>\n",
       "      <th>0</th>\n",
       "      <td>2000-01-03</td>\n",
       "      <td>BPCL</td>\n",
       "      <td>EQ</td>\n",
       "      <td>381.20</td>\n",
       "      <td>405.00</td>\n",
       "      <td>407.00</td>\n",
       "      <td>393.05</td>\n",
       "      <td>397.75</td>\n",
       "      <td>399.25</td>\n",
       "      <td>399.32</td>\n",
       "      <td>8720</td>\n",
       "      <td>3.482029e+11</td>\n",
       "      <td>NaN</td>\n",
       "      <td>NaN</td>\n",
       "      <td>NaN</td>\n",
       "    </tr>\n",
       "    <tr>\n",
       "      <th>1</th>\n",
       "      <td>2000-01-04</td>\n",
       "      <td>BPCL</td>\n",
       "      <td>EQ</td>\n",
       "      <td>399.25</td>\n",
       "      <td>397.75</td>\n",
       "      <td>397.75</td>\n",
       "      <td>367.40</td>\n",
       "      <td>377.45</td>\n",
       "      <td>370.50</td>\n",
       "      <td>375.71</td>\n",
       "      <td>22820</td>\n",
       "      <td>8.573699e+11</td>\n",
       "      <td>NaN</td>\n",
       "      <td>NaN</td>\n",
       "      <td>NaN</td>\n",
       "    </tr>\n",
       "    <tr>\n",
       "      <th>2</th>\n",
       "      <td>2000-01-05</td>\n",
       "      <td>BPCL</td>\n",
       "      <td>EQ</td>\n",
       "      <td>370.50</td>\n",
       "      <td>350.00</td>\n",
       "      <td>385.00</td>\n",
       "      <td>350.00</td>\n",
       "      <td>360.10</td>\n",
       "      <td>359.95</td>\n",
       "      <td>359.96</td>\n",
       "      <td>152538</td>\n",
       "      <td>5.490785e+12</td>\n",
       "      <td>NaN</td>\n",
       "      <td>NaN</td>\n",
       "      <td>NaN</td>\n",
       "    </tr>\n",
       "    <tr>\n",
       "      <th>3</th>\n",
       "      <td>2000-01-06</td>\n",
       "      <td>BPCL</td>\n",
       "      <td>EQ</td>\n",
       "      <td>359.95</td>\n",
       "      <td>362.00</td>\n",
       "      <td>384.00</td>\n",
       "      <td>362.00</td>\n",
       "      <td>381.65</td>\n",
       "      <td>380.30</td>\n",
       "      <td>380.10</td>\n",
       "      <td>59554</td>\n",
       "      <td>2.263623e+12</td>\n",
       "      <td>NaN</td>\n",
       "      <td>NaN</td>\n",
       "      <td>NaN</td>\n",
       "    </tr>\n",
       "    <tr>\n",
       "      <th>4</th>\n",
       "      <td>2000-01-07</td>\n",
       "      <td>BPCL</td>\n",
       "      <td>EQ</td>\n",
       "      <td>380.30</td>\n",
       "      <td>369.00</td>\n",
       "      <td>390.00</td>\n",
       "      <td>366.00</td>\n",
       "      <td>381.50</td>\n",
       "      <td>379.85</td>\n",
       "      <td>378.33</td>\n",
       "      <td>43187</td>\n",
       "      <td>1.633890e+12</td>\n",
       "      <td>NaN</td>\n",
       "      <td>NaN</td>\n",
       "      <td>NaN</td>\n",
       "    </tr>\n",
       "  </tbody>\n",
       "</table>\n",
       "</div>"
      ],
      "text/plain": [
       "         Date Symbol Series  Prev Close    Open    High     Low    Last  \\\n",
       "0  2000-01-03   BPCL     EQ      381.20  405.00  407.00  393.05  397.75   \n",
       "1  2000-01-04   BPCL     EQ      399.25  397.75  397.75  367.40  377.45   \n",
       "2  2000-01-05   BPCL     EQ      370.50  350.00  385.00  350.00  360.10   \n",
       "3  2000-01-06   BPCL     EQ      359.95  362.00  384.00  362.00  381.65   \n",
       "4  2000-01-07   BPCL     EQ      380.30  369.00  390.00  366.00  381.50   \n",
       "\n",
       "    Close    VWAP  Volume      Turnover  Trades  Deliverable Volume  \\\n",
       "0  399.25  399.32    8720  3.482029e+11     NaN                 NaN   \n",
       "1  370.50  375.71   22820  8.573699e+11     NaN                 NaN   \n",
       "2  359.95  359.96  152538  5.490785e+12     NaN                 NaN   \n",
       "3  380.30  380.10   59554  2.263623e+12     NaN                 NaN   \n",
       "4  379.85  378.33   43187  1.633890e+12     NaN                 NaN   \n",
       "\n",
       "   %Deliverble  \n",
       "0          NaN  \n",
       "1          NaN  \n",
       "2          NaN  \n",
       "3          NaN  \n",
       "4          NaN  "
      ]
     },
     "execution_count": 64,
     "metadata": {},
     "output_type": "execute_result"
    }
   ],
   "source": [
    "stock.head()"
   ]
  },
  {
   "cell_type": "code",
   "execution_count": 65,
   "id": "564201f0",
   "metadata": {},
   "outputs": [
    {
     "name": "stdout",
     "output_type": "stream",
     "text": [
      "<class 'pandas.core.frame.DataFrame'>\n",
      "RangeIndex: 5306 entries, 0 to 5305\n",
      "Data columns (total 15 columns):\n",
      " #   Column              Non-Null Count  Dtype  \n",
      "---  ------              --------------  -----  \n",
      " 0   Date                5306 non-null   object \n",
      " 1   Symbol              5306 non-null   object \n",
      " 2   Series              5306 non-null   object \n",
      " 3   Prev Close          5306 non-null   float64\n",
      " 4   Open                5306 non-null   float64\n",
      " 5   High                5306 non-null   float64\n",
      " 6   Low                 5306 non-null   float64\n",
      " 7   Last                5306 non-null   float64\n",
      " 8   Close               5306 non-null   float64\n",
      " 9   VWAP                5306 non-null   float64\n",
      " 10  Volume              5306 non-null   int64  \n",
      " 11  Turnover            5306 non-null   float64\n",
      " 12  Trades              2456 non-null   float64\n",
      " 13  Deliverable Volume  4797 non-null   float64\n",
      " 14  %Deliverble         4797 non-null   float64\n",
      "dtypes: float64(11), int64(1), object(3)\n",
      "memory usage: 621.9+ KB\n"
     ]
    }
   ],
   "source": [
    "stock.info()"
   ]
  },
  {
   "cell_type": "code",
   "execution_count": 66,
   "id": "c9d711dd",
   "metadata": {},
   "outputs": [
    {
     "data": {
      "text/html": [
       "<div>\n",
       "<style scoped>\n",
       "    .dataframe tbody tr th:only-of-type {\n",
       "        vertical-align: middle;\n",
       "    }\n",
       "\n",
       "    .dataframe tbody tr th {\n",
       "        vertical-align: top;\n",
       "    }\n",
       "\n",
       "    .dataframe thead th {\n",
       "        text-align: right;\n",
       "    }\n",
       "</style>\n",
       "<table border=\"1\" class=\"dataframe\">\n",
       "  <thead>\n",
       "    <tr style=\"text-align: right;\">\n",
       "      <th></th>\n",
       "      <th>Prev Close</th>\n",
       "      <th>Open</th>\n",
       "      <th>High</th>\n",
       "      <th>Low</th>\n",
       "      <th>Last</th>\n",
       "      <th>Close</th>\n",
       "      <th>VWAP</th>\n",
       "      <th>Volume</th>\n",
       "      <th>Turnover</th>\n",
       "      <th>Trades</th>\n",
       "      <th>Deliverable Volume</th>\n",
       "      <th>%Deliverble</th>\n",
       "    </tr>\n",
       "  </thead>\n",
       "  <tbody>\n",
       "    <tr>\n",
       "      <th>count</th>\n",
       "      <td>5306.000000</td>\n",
       "      <td>5306.000000</td>\n",
       "      <td>5306.000000</td>\n",
       "      <td>5306.000000</td>\n",
       "      <td>5306.000000</td>\n",
       "      <td>5306.000000</td>\n",
       "      <td>5306.000000</td>\n",
       "      <td>5.306000e+03</td>\n",
       "      <td>5.306000e+03</td>\n",
       "      <td>2456.000000</td>\n",
       "      <td>4.797000e+03</td>\n",
       "      <td>4797.000000</td>\n",
       "    </tr>\n",
       "    <tr>\n",
       "      <th>mean</th>\n",
       "      <td>444.369977</td>\n",
       "      <td>445.014220</td>\n",
       "      <td>452.935686</td>\n",
       "      <td>436.630013</td>\n",
       "      <td>444.384065</td>\n",
       "      <td>444.377629</td>\n",
       "      <td>444.802256</td>\n",
       "      <td>2.093650e+06</td>\n",
       "      <td>9.323829e+13</td>\n",
       "      <td>55725.562704</td>\n",
       "      <td>8.673432e+05</td>\n",
       "      <td>0.443450</td>\n",
       "    </tr>\n",
       "    <tr>\n",
       "      <th>std</th>\n",
       "      <td>184.340340</td>\n",
       "      <td>184.491153</td>\n",
       "      <td>186.373754</td>\n",
       "      <td>182.706581</td>\n",
       "      <td>184.352843</td>\n",
       "      <td>184.338560</td>\n",
       "      <td>184.537444</td>\n",
       "      <td>4.462703e+06</td>\n",
       "      <td>1.927900e+14</td>\n",
       "      <td>47656.113461</td>\n",
       "      <td>2.283629e+06</td>\n",
       "      <td>0.150737</td>\n",
       "    </tr>\n",
       "    <tr>\n",
       "      <th>min</th>\n",
       "      <td>110.150000</td>\n",
       "      <td>113.900000</td>\n",
       "      <td>117.500000</td>\n",
       "      <td>106.250000</td>\n",
       "      <td>110.000000</td>\n",
       "      <td>110.150000</td>\n",
       "      <td>114.130000</td>\n",
       "      <td>2.297000e+03</td>\n",
       "      <td>6.755889e+10</td>\n",
       "      <td>427.000000</td>\n",
       "      <td>2.903000e+03</td>\n",
       "      <td>0.050500</td>\n",
       "    </tr>\n",
       "    <tr>\n",
       "      <th>25%</th>\n",
       "      <td>333.837500</td>\n",
       "      <td>334.000000</td>\n",
       "      <td>341.000000</td>\n",
       "      <td>326.387500</td>\n",
       "      <td>334.012500</td>\n",
       "      <td>333.837500</td>\n",
       "      <td>333.715000</td>\n",
       "      <td>4.136565e+05</td>\n",
       "      <td>1.647654e+13</td>\n",
       "      <td>24509.750000</td>\n",
       "      <td>2.305310e+05</td>\n",
       "      <td>0.333200</td>\n",
       "    </tr>\n",
       "    <tr>\n",
       "      <th>50%</th>\n",
       "      <td>393.400000</td>\n",
       "      <td>394.075000</td>\n",
       "      <td>400.825000</td>\n",
       "      <td>385.350000</td>\n",
       "      <td>393.100000</td>\n",
       "      <td>393.550000</td>\n",
       "      <td>392.680000</td>\n",
       "      <td>8.820490e+05</td>\n",
       "      <td>3.808395e+13</td>\n",
       "      <td>45158.500000</td>\n",
       "      <td>4.431750e+05</td>\n",
       "      <td>0.443800</td>\n",
       "    </tr>\n",
       "    <tr>\n",
       "      <th>75%</th>\n",
       "      <td>555.125000</td>\n",
       "      <td>555.750000</td>\n",
       "      <td>564.975000</td>\n",
       "      <td>544.987500</td>\n",
       "      <td>554.937500</td>\n",
       "      <td>555.125000</td>\n",
       "      <td>554.590000</td>\n",
       "      <td>2.040695e+06</td>\n",
       "      <td>1.140152e+14</td>\n",
       "      <td>71881.750000</td>\n",
       "      <td>9.883100e+05</td>\n",
       "      <td>0.547000</td>\n",
       "    </tr>\n",
       "    <tr>\n",
       "      <th>max</th>\n",
       "      <td>1133.300000</td>\n",
       "      <td>1132.200000</td>\n",
       "      <td>1156.000000</td>\n",
       "      <td>1120.100000</td>\n",
       "      <td>1132.100000</td>\n",
       "      <td>1133.300000</td>\n",
       "      <td>1137.040000</td>\n",
       "      <td>1.997910e+08</td>\n",
       "      <td>8.810053e+15</td>\n",
       "      <td>511790.000000</td>\n",
       "      <td>1.355721e+08</td>\n",
       "      <td>1.000000</td>\n",
       "    </tr>\n",
       "  </tbody>\n",
       "</table>\n",
       "</div>"
      ],
      "text/plain": [
       "        Prev Close         Open         High          Low         Last  \\\n",
       "count  5306.000000  5306.000000  5306.000000  5306.000000  5306.000000   \n",
       "mean    444.369977   445.014220   452.935686   436.630013   444.384065   \n",
       "std     184.340340   184.491153   186.373754   182.706581   184.352843   \n",
       "min     110.150000   113.900000   117.500000   106.250000   110.000000   \n",
       "25%     333.837500   334.000000   341.000000   326.387500   334.012500   \n",
       "50%     393.400000   394.075000   400.825000   385.350000   393.100000   \n",
       "75%     555.125000   555.750000   564.975000   544.987500   554.937500   \n",
       "max    1133.300000  1132.200000  1156.000000  1120.100000  1132.100000   \n",
       "\n",
       "             Close         VWAP        Volume      Turnover         Trades  \\\n",
       "count  5306.000000  5306.000000  5.306000e+03  5.306000e+03    2456.000000   \n",
       "mean    444.377629   444.802256  2.093650e+06  9.323829e+13   55725.562704   \n",
       "std     184.338560   184.537444  4.462703e+06  1.927900e+14   47656.113461   \n",
       "min     110.150000   114.130000  2.297000e+03  6.755889e+10     427.000000   \n",
       "25%     333.837500   333.715000  4.136565e+05  1.647654e+13   24509.750000   \n",
       "50%     393.550000   392.680000  8.820490e+05  3.808395e+13   45158.500000   \n",
       "75%     555.125000   554.590000  2.040695e+06  1.140152e+14   71881.750000   \n",
       "max    1133.300000  1137.040000  1.997910e+08  8.810053e+15  511790.000000   \n",
       "\n",
       "       Deliverable Volume  %Deliverble  \n",
       "count        4.797000e+03  4797.000000  \n",
       "mean         8.673432e+05     0.443450  \n",
       "std          2.283629e+06     0.150737  \n",
       "min          2.903000e+03     0.050500  \n",
       "25%          2.305310e+05     0.333200  \n",
       "50%          4.431750e+05     0.443800  \n",
       "75%          9.883100e+05     0.547000  \n",
       "max          1.355721e+08     1.000000  "
      ]
     },
     "execution_count": 66,
     "metadata": {},
     "output_type": "execute_result"
    }
   ],
   "source": [
    "stock.describe()"
   ]
  },
  {
   "cell_type": "code",
   "execution_count": 67,
   "id": "011a47e9",
   "metadata": {},
   "outputs": [],
   "source": [
    "# Ensure we are working with a copy of the DataFrame to avoid the SettingWithCopyWarning\n",
    "stock = stock.copy()"
   ]
  },
  {
   "cell_type": "code",
   "execution_count": 68,
   "id": "7758c824",
   "metadata": {},
   "outputs": [],
   "source": [
    "# Calculate HL_Perc and CO_Perc\n",
    "stock.loc[:, 'HL_Perc'] = (stock['High'] - stock['Low']) / stock['Low'] * 100\n",
    "stock.loc[:, 'CO_Perc'] = (stock['Close'] - stock['Open']) / stock['Open'] * 100"
   ]
  },
  {
   "cell_type": "code",
   "execution_count": 69,
   "id": "0bb9c198",
   "metadata": {},
   "outputs": [],
   "source": [
    "dates = np.array(stock[\"Date\"])\n",
    "dates_check = dates[-30:]\n",
    "dates = dates[:-30]"
   ]
  },
  {
   "cell_type": "code",
   "execution_count": 70,
   "id": "07901da7",
   "metadata": {},
   "outputs": [
    {
     "data": {
      "text/plain": [
       "Index(['Date', 'Symbol', 'Series', 'Prev Close', 'Open', 'High', 'Low', 'Last',\n",
       "       'Close', 'VWAP', 'Volume', 'Turnover', 'Trades', 'Deliverable Volume',\n",
       "       '%Deliverble', 'HL_Perc', 'CO_Perc'],\n",
       "      dtype='object')"
      ]
     },
     "execution_count": 70,
     "metadata": {},
     "output_type": "execute_result"
    }
   ],
   "source": [
    "stock.columns"
   ]
  },
  {
   "cell_type": "code",
   "execution_count": 71,
   "id": "75b07f7b",
   "metadata": {},
   "outputs": [],
   "source": [
    "stock = stock[[\"HL_Perc\", \"CO_Perc\", \"Close\", \"Volume\"]]"
   ]
  },
  {
   "cell_type": "code",
   "execution_count": 72,
   "id": "772db78e",
   "metadata": {},
   "outputs": [],
   "source": [
    "#Define the label column\n",
    "stock[\"PriceNextMonth\"] = stock[\"Close\"].shift(-30)"
   ]
  },
  {
   "cell_type": "code",
   "execution_count": 73,
   "id": "79011229",
   "metadata": {},
   "outputs": [
    {
     "data": {
      "text/html": [
       "<div>\n",
       "<style scoped>\n",
       "    .dataframe tbody tr th:only-of-type {\n",
       "        vertical-align: middle;\n",
       "    }\n",
       "\n",
       "    .dataframe tbody tr th {\n",
       "        vertical-align: top;\n",
       "    }\n",
       "\n",
       "    .dataframe thead th {\n",
       "        text-align: right;\n",
       "    }\n",
       "</style>\n",
       "<table border=\"1\" class=\"dataframe\">\n",
       "  <thead>\n",
       "    <tr style=\"text-align: right;\">\n",
       "      <th></th>\n",
       "      <th>HL_Perc</th>\n",
       "      <th>CO_Perc</th>\n",
       "      <th>Close</th>\n",
       "      <th>Volume</th>\n",
       "      <th>PriceNextMonth</th>\n",
       "    </tr>\n",
       "  </thead>\n",
       "  <tbody>\n",
       "    <tr>\n",
       "      <th>5301</th>\n",
       "      <td>2.586517</td>\n",
       "      <td>-1.666667</td>\n",
       "      <td>418.90</td>\n",
       "      <td>6444098</td>\n",
       "      <td>NaN</td>\n",
       "    </tr>\n",
       "    <tr>\n",
       "      <th>5302</th>\n",
       "      <td>1.572440</td>\n",
       "      <td>0.682635</td>\n",
       "      <td>420.35</td>\n",
       "      <td>5408165</td>\n",
       "      <td>NaN</td>\n",
       "    </tr>\n",
       "    <tr>\n",
       "      <th>5303</th>\n",
       "      <td>2.277657</td>\n",
       "      <td>-1.066351</td>\n",
       "      <td>417.50</td>\n",
       "      <td>9902533</td>\n",
       "      <td>NaN</td>\n",
       "    </tr>\n",
       "    <tr>\n",
       "      <th>5304</th>\n",
       "      <td>1.438849</td>\n",
       "      <td>-0.580569</td>\n",
       "      <td>419.55</td>\n",
       "      <td>6632804</td>\n",
       "      <td>NaN</td>\n",
       "    </tr>\n",
       "    <tr>\n",
       "      <th>5305</th>\n",
       "      <td>5.510672</td>\n",
       "      <td>1.029940</td>\n",
       "      <td>421.80</td>\n",
       "      <td>16851470</td>\n",
       "      <td>NaN</td>\n",
       "    </tr>\n",
       "  </tbody>\n",
       "</table>\n",
       "</div>"
      ],
      "text/plain": [
       "       HL_Perc   CO_Perc   Close    Volume  PriceNextMonth\n",
       "5301  2.586517 -1.666667  418.90   6444098             NaN\n",
       "5302  1.572440  0.682635  420.35   5408165             NaN\n",
       "5303  2.277657 -1.066351  417.50   9902533             NaN\n",
       "5304  1.438849 -0.580569  419.55   6632804             NaN\n",
       "5305  5.510672  1.029940  421.80  16851470             NaN"
      ]
     },
     "execution_count": 73,
     "metadata": {},
     "output_type": "execute_result"
    }
   ],
   "source": [
    "stock.tail()"
   ]
  },
  {
   "cell_type": "code",
   "execution_count": 74,
   "id": "c687b99c",
   "metadata": {},
   "outputs": [
    {
     "name": "stderr",
     "output_type": "stream",
     "text": [
      "C:\\Users\\suresh\\AppData\\Local\\Temp\\ipykernel_17924\\459189850.py:2: FutureWarning: In a future version of pandas all arguments of DataFrame.drop except for the argument 'labels' will be keyword-only.\n",
      "  X = np.array(stock.drop([\"PriceNextMonth\"], 1))\n"
     ]
    }
   ],
   "source": [
    "#Make fetaure and label arrays\n",
    "X = np.array(stock.drop([\"PriceNextMonth\"], 1))\n",
    "X = preprocessing.scale(X)\n",
    "X_Check = X[-30:]\n",
    "X = X[:-30]\n",
    "stock.dropna(inplace = True)\n",
    "y = np.array(stock[\"PriceNextMonth\"])"
   ]
  },
  {
   "cell_type": "code",
   "execution_count": 75,
   "id": "381f2472",
   "metadata": {},
   "outputs": [],
   "source": [
    "#Divide the data set into training data and testing data\n",
    "X_train, X_test, y_train, y_test = train_test_split(X,y,test_size = 0.2)"
   ]
  },
  {
   "cell_type": "code",
   "execution_count": 76,
   "id": "489c08a2",
   "metadata": {},
   "outputs": [],
   "source": [
    "#Define the prediction model\n",
    "model = RandomForestRegressor()"
   ]
  },
  {
   "cell_type": "code",
   "execution_count": 77,
   "id": "74ff8cec",
   "metadata": {},
   "outputs": [
    {
     "data": {
      "text/plain": [
       "RandomForestRegressor()"
      ]
     },
     "execution_count": 77,
     "metadata": {},
     "output_type": "execute_result"
    }
   ],
   "source": [
    "#Fit the model using training data\n",
    "model.fit(X_train, y_train)"
   ]
  },
  {
   "cell_type": "code",
   "execution_count": 78,
   "id": "520c0372",
   "metadata": {},
   "outputs": [
    {
     "name": "stdout",
     "output_type": "stream",
     "text": [
      "0.9015384747226772\n"
     ]
    }
   ],
   "source": [
    "#Calculate the confidence value by applying the model to testing data\n",
    "conf = model.score(X_test, y_test)\n",
    "print(conf)"
   ]
  },
  {
   "cell_type": "code",
   "execution_count": 79,
   "id": "b9381393",
   "metadata": {},
   "outputs": [
    {
     "data": {
      "text/plain": [
       "RandomForestRegressor()"
      ]
     },
     "execution_count": 79,
     "metadata": {},
     "output_type": "execute_result"
    }
   ],
   "source": [
    "#Fit the model again using the whole data set\n",
    "model.fit(X,y)"
   ]
  },
  {
   "cell_type": "code",
   "execution_count": 80,
   "id": "4990c67a",
   "metadata": {},
   "outputs": [],
   "source": [
    "predictions = model.predict(X_Check)"
   ]
  },
  {
   "cell_type": "code",
   "execution_count": 81,
   "id": "c0d5a9e2",
   "metadata": {},
   "outputs": [],
   "source": [
    "#Make the final DataFrame containing Dates, ClosePrices, and Forecast values\n",
    "actual = pd.DataFrame(dates, columns = [\"Date\"])\n",
    "actual[\"ClosePrice\"] = stock[\"Close\"]\n",
    "actual[\"Forecast\"] = np.nan\n",
    "actual.set_index(\"Date\", inplace = True)\n",
    "forecast = pd.DataFrame(dates_check, columns=[\"Date\"])\n",
    "forecast[\"Forecast\"] = predictions\n",
    "forecast[\"ClosePrice\"] = np.nan\n",
    "forecast.set_index(\"Date\", inplace = True)\n",
    "var = [actual, forecast]\n",
    "result = pd.concat(var)  #This is the final DataFrame"
   ]
  },
  {
   "cell_type": "code",
   "execution_count": 82,
   "id": "45722829",
   "metadata": {},
   "outputs": [
    {
     "data": {
      "text/plain": [
       "Text(0, 0.5, 'Price')"
      ]
     },
     "execution_count": 82,
     "metadata": {},
     "output_type": "execute_result"
    },
    {
     "data": {
      "image/png": "[encoded data removed]",
      "text/plain": [
       "<Figure size 2000x1000 with 1 Axes>"
      ]
     },
     "metadata": {},
     "output_type": "display_data"
    }
   ],
   "source": [
    "#Plot the final results\n",
    "result.plot(figsize=(20,10), linewidth=1.5)\n",
    "plt.legend(loc=2, prop={'size':20})\n",
    "plt.xlabel('Date')\n",
    "plt.ylabel('Price')"
   ]
  },
  {
   "cell_type": "code",
   "execution_count": null,
   "id": "e099aee8",
   "metadata": {},
   "outputs": [],
   "source": []
  },
  {
   "cell_type": "code",
   "execution_count": null,
   "id": "240ed344",
   "metadata": {},
   "outputs": [],
   "source": []
  }
 ],
 "metadata": {
  "kernelspec": {
   "display_name": "Python 3 (ipykernel)",
   "language": "python",
   "name": "python3"
  },
  "language_info": {
   "codemirror_mode": {
    "name": "ipython",
    "version": 3
   },
   "file_extension": ".py",
   "mimetype": "text/x-python",
   "name": "python",
   "nbconvert_exporter": "python",
   "pygments_lexer": "ipython3",
   "version": "3.9.13"
  }
 },
 "nbformat": 4,
 "nbformat_minor": 5
}
