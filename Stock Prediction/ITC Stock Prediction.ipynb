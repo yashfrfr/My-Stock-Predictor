{
 "cells": [
  {
   "cell_type": "code",
   "execution_count": 2,
   "id": "5a20ead1",
   "metadata": {},
   "outputs": [],
   "source": [
    "#Import the libraries\n",
    "import pandas as pd \n",
    "import numpy as np \n",
    "import matplotlib.pyplot as plt \n",
    "from sklearn import preprocessing\n",
    "from sklearn.ensemble import RandomForestRegressor\n",
    "from sklearn.model_selection import train_test_split\n",
    "from sklearn.metrics import mean_absolute_error, r2_score"
   ]
  },
  {
   "cell_type": "code",
   "execution_count": 432,
   "id": "1ebabd9c",
   "metadata": {},
   "outputs": [],
   "source": [
    "stock = pd.read_csv(\"C:/Users/suresh/Desktop/PYTHON ML DATA SCIENCE/Stock Prediction/Stock Data/ITC.csv\")"
   ]
  },
  {
   "cell_type": "code",
   "execution_count": 433,
   "id": "b4a873d4",
   "metadata": {},
   "outputs": [
    {
     "data": {
      "text/html": [
       "<div>\n",
       "<style scoped>\n",
       "    .dataframe tbody tr th:only-of-type {\n",
       "        vertical-align: middle;\n",
       "    }\n",
       "\n",
       "    .dataframe tbody tr th {\n",
       "        vertical-align: top;\n",
       "    }\n",
       "\n",
       "    .dataframe thead th {\n",
       "        text-align: right;\n",
       "    }\n",
       "</style>\n",
       "<table border=\"1\" class=\"dataframe\">\n",
       "  <thead>\n",
       "    <tr style=\"text-align: right;\">\n",
       "      <th></th>\n",
       "      <th>Date</th>\n",
       "      <th>Symbol</th>\n",
       "      <th>Series</th>\n",
       "      <th>Prev Close</th>\n",
       "      <th>Open</th>\n",
       "      <th>High</th>\n",
       "      <th>Low</th>\n",
       "      <th>Last</th>\n",
       "      <th>Close</th>\n",
       "      <th>VWAP</th>\n",
       "      <th>Volume</th>\n",
       "      <th>Turnover</th>\n",
       "      <th>Trades</th>\n",
       "      <th>Deliverable Volume</th>\n",
       "      <th>%Deliverble</th>\n",
       "    </tr>\n",
       "  </thead>\n",
       "  <tbody>\n",
       "    <tr>\n",
       "      <th>0</th>\n",
       "      <td>2000-01-03</td>\n",
       "      <td>ITC</td>\n",
       "      <td>EQ</td>\n",
       "      <td>656.00</td>\n",
       "      <td>694.00</td>\n",
       "      <td>708.50</td>\n",
       "      <td>675.0</td>\n",
       "      <td>708.50</td>\n",
       "      <td>708.50</td>\n",
       "      <td>701.81</td>\n",
       "      <td>562715</td>\n",
       "      <td>3.949174e+13</td>\n",
       "      <td>NaN</td>\n",
       "      <td>NaN</td>\n",
       "      <td>NaN</td>\n",
       "    </tr>\n",
       "    <tr>\n",
       "      <th>1</th>\n",
       "      <td>2000-01-04</td>\n",
       "      <td>ITC</td>\n",
       "      <td>EQ</td>\n",
       "      <td>708.50</td>\n",
       "      <td>714.00</td>\n",
       "      <td>729.00</td>\n",
       "      <td>694.3</td>\n",
       "      <td>710.65</td>\n",
       "      <td>712.35</td>\n",
       "      <td>714.16</td>\n",
       "      <td>712637</td>\n",
       "      <td>5.089379e+13</td>\n",
       "      <td>NaN</td>\n",
       "      <td>NaN</td>\n",
       "      <td>NaN</td>\n",
       "    </tr>\n",
       "    <tr>\n",
       "      <th>2</th>\n",
       "      <td>2000-01-05</td>\n",
       "      <td>ITC</td>\n",
       "      <td>EQ</td>\n",
       "      <td>712.35</td>\n",
       "      <td>716.25</td>\n",
       "      <td>758.90</td>\n",
       "      <td>660.0</td>\n",
       "      <td>731.00</td>\n",
       "      <td>726.20</td>\n",
       "      <td>732.43</td>\n",
       "      <td>1382149</td>\n",
       "      <td>1.012325e+14</td>\n",
       "      <td>NaN</td>\n",
       "      <td>NaN</td>\n",
       "      <td>NaN</td>\n",
       "    </tr>\n",
       "    <tr>\n",
       "      <th>3</th>\n",
       "      <td>2000-01-06</td>\n",
       "      <td>ITC</td>\n",
       "      <td>EQ</td>\n",
       "      <td>726.20</td>\n",
       "      <td>741.00</td>\n",
       "      <td>784.30</td>\n",
       "      <td>741.0</td>\n",
       "      <td>784.30</td>\n",
       "      <td>784.30</td>\n",
       "      <td>776.63</td>\n",
       "      <td>721618</td>\n",
       "      <td>5.604266e+13</td>\n",
       "      <td>NaN</td>\n",
       "      <td>NaN</td>\n",
       "      <td>NaN</td>\n",
       "    </tr>\n",
       "    <tr>\n",
       "      <th>4</th>\n",
       "      <td>2000-01-07</td>\n",
       "      <td>ITC</td>\n",
       "      <td>EQ</td>\n",
       "      <td>784.30</td>\n",
       "      <td>832.40</td>\n",
       "      <td>847.05</td>\n",
       "      <td>824.0</td>\n",
       "      <td>847.05</td>\n",
       "      <td>847.05</td>\n",
       "      <td>841.25</td>\n",
       "      <td>231209</td>\n",
       "      <td>1.945046e+13</td>\n",
       "      <td>NaN</td>\n",
       "      <td>NaN</td>\n",
       "      <td>NaN</td>\n",
       "    </tr>\n",
       "  </tbody>\n",
       "</table>\n",
       "</div>"
      ],
      "text/plain": [
       "         Date Symbol Series  Prev Close    Open    High    Low    Last  \\\n",
       "0  2000-01-03    ITC     EQ      656.00  694.00  708.50  675.0  708.50   \n",
       "1  2000-01-04    ITC     EQ      708.50  714.00  729.00  694.3  710.65   \n",
       "2  2000-01-05    ITC     EQ      712.35  716.25  758.90  660.0  731.00   \n",
       "3  2000-01-06    ITC     EQ      726.20  741.00  784.30  741.0  784.30   \n",
       "4  2000-01-07    ITC     EQ      784.30  832.40  847.05  824.0  847.05   \n",
       "\n",
       "    Close    VWAP   Volume      Turnover  Trades  Deliverable Volume  \\\n",
       "0  708.50  701.81   562715  3.949174e+13     NaN                 NaN   \n",
       "1  712.35  714.16   712637  5.089379e+13     NaN                 NaN   \n",
       "2  726.20  732.43  1382149  1.012325e+14     NaN                 NaN   \n",
       "3  784.30  776.63   721618  5.604266e+13     NaN                 NaN   \n",
       "4  847.05  841.25   231209  1.945046e+13     NaN                 NaN   \n",
       "\n",
       "   %Deliverble  \n",
       "0          NaN  \n",
       "1          NaN  \n",
       "2          NaN  \n",
       "3          NaN  \n",
       "4          NaN  "
      ]
     },
     "execution_count": 433,
     "metadata": {},
     "output_type": "execute_result"
    }
   ],
   "source": [
    "stock.head()"
   ]
  },
  {
   "cell_type": "code",
   "execution_count": 434,
   "id": "564201f0",
   "metadata": {},
   "outputs": [
    {
     "name": "stdout",
     "output_type": "stream",
     "text": [
      "<class 'pandas.core.frame.DataFrame'>\n",
      "RangeIndex: 5306 entries, 0 to 5305\n",
      "Data columns (total 15 columns):\n",
      " #   Column              Non-Null Count  Dtype  \n",
      "---  ------              --------------  -----  \n",
      " 0   Date                5306 non-null   object \n",
      " 1   Symbol              5306 non-null   object \n",
      " 2   Series              5306 non-null   object \n",
      " 3   Prev Close          5306 non-null   float64\n",
      " 4   Open                5306 non-null   float64\n",
      " 5   High                5306 non-null   float64\n",
      " 6   Low                 5306 non-null   float64\n",
      " 7   Last                5306 non-null   float64\n",
      " 8   Close               5306 non-null   float64\n",
      " 9   VWAP                5306 non-null   float64\n",
      " 10  Volume              5306 non-null   int64  \n",
      " 11  Turnover            5306 non-null   float64\n",
      " 12  Trades              2456 non-null   float64\n",
      " 13  Deliverable Volume  4792 non-null   float64\n",
      " 14  %Deliverble         4792 non-null   float64\n",
      "dtypes: float64(11), int64(1), object(3)\n",
      "memory usage: 621.9+ KB\n"
     ]
    }
   ],
   "source": [
    "stock.info()"
   ]
  },
  {
   "cell_type": "code",
   "execution_count": 435,
   "id": "c9d711dd",
   "metadata": {},
   "outputs": [
    {
     "data": {
      "text/html": [
       "<div>\n",
       "<style scoped>\n",
       "    .dataframe tbody tr th:only-of-type {\n",
       "        vertical-align: middle;\n",
       "    }\n",
       "\n",
       "    .dataframe tbody tr th {\n",
       "        vertical-align: top;\n",
       "    }\n",
       "\n",
       "    .dataframe thead th {\n",
       "        text-align: right;\n",
       "    }\n",
       "</style>\n",
       "<table border=\"1\" class=\"dataframe\">\n",
       "  <thead>\n",
       "    <tr style=\"text-align: right;\">\n",
       "      <th></th>\n",
       "      <th>Prev Close</th>\n",
       "      <th>Open</th>\n",
       "      <th>High</th>\n",
       "      <th>Low</th>\n",
       "      <th>Last</th>\n",
       "      <th>Close</th>\n",
       "      <th>VWAP</th>\n",
       "      <th>Volume</th>\n",
       "      <th>Turnover</th>\n",
       "      <th>Trades</th>\n",
       "      <th>Deliverable Volume</th>\n",
       "      <th>%Deliverble</th>\n",
       "    </tr>\n",
       "  </thead>\n",
       "  <tbody>\n",
       "    <tr>\n",
       "      <th>count</th>\n",
       "      <td>5306.000000</td>\n",
       "      <td>5306.000000</td>\n",
       "      <td>5306.000000</td>\n",
       "      <td>5306.000000</td>\n",
       "      <td>5306.000000</td>\n",
       "      <td>5306.000000</td>\n",
       "      <td>5306.000000</td>\n",
       "      <td>5.306000e+03</td>\n",
       "      <td>5.306000e+03</td>\n",
       "      <td>2456.000000</td>\n",
       "      <td>4.792000e+03</td>\n",
       "      <td>4792.000000</td>\n",
       "    </tr>\n",
       "    <tr>\n",
       "      <th>mean</th>\n",
       "      <td>420.359141</td>\n",
       "      <td>420.631511</td>\n",
       "      <td>426.629061</td>\n",
       "      <td>414.241538</td>\n",
       "      <td>420.250207</td>\n",
       "      <td>420.273690</td>\n",
       "      <td>420.522927</td>\n",
       "      <td>7.173165e+06</td>\n",
       "      <td>1.799399e+14</td>\n",
       "      <td>94563.757736</td>\n",
       "      <td>4.571758e+06</td>\n",
       "      <td>0.591634</td>\n",
       "    </tr>\n",
       "    <tr>\n",
       "      <th>std</th>\n",
       "      <td>328.167744</td>\n",
       "      <td>328.240059</td>\n",
       "      <td>333.333043</td>\n",
       "      <td>323.333442</td>\n",
       "      <td>328.107927</td>\n",
       "      <td>328.165405</td>\n",
       "      <td>328.435808</td>\n",
       "      <td>9.613497e+06</td>\n",
       "      <td>2.155242e+14</td>\n",
       "      <td>59571.722457</td>\n",
       "      <td>5.040517e+06</td>\n",
       "      <td>0.128273</td>\n",
       "    </tr>\n",
       "    <tr>\n",
       "      <th>min</th>\n",
       "      <td>115.450000</td>\n",
       "      <td>115.000000</td>\n",
       "      <td>116.200000</td>\n",
       "      <td>114.400000</td>\n",
       "      <td>115.500000</td>\n",
       "      <td>115.450000</td>\n",
       "      <td>115.390000</td>\n",
       "      <td>6.797000e+03</td>\n",
       "      <td>5.340132e+11</td>\n",
       "      <td>1425.000000</td>\n",
       "      <td>6.120000e+03</td>\n",
       "      <td>0.098000</td>\n",
       "    </tr>\n",
       "    <tr>\n",
       "      <th>25%</th>\n",
       "      <td>201.650000</td>\n",
       "      <td>202.000000</td>\n",
       "      <td>204.500000</td>\n",
       "      <td>198.500000</td>\n",
       "      <td>201.500000</td>\n",
       "      <td>201.650000</td>\n",
       "      <td>201.705000</td>\n",
       "      <td>1.038020e+06</td>\n",
       "      <td>5.423007e+13</td>\n",
       "      <td>56465.250000</td>\n",
       "      <td>1.614865e+06</td>\n",
       "      <td>0.515700</td>\n",
       "    </tr>\n",
       "    <tr>\n",
       "      <th>50%</th>\n",
       "      <td>280.050000</td>\n",
       "      <td>280.200000</td>\n",
       "      <td>283.000000</td>\n",
       "      <td>277.025000</td>\n",
       "      <td>279.900000</td>\n",
       "      <td>280.025000</td>\n",
       "      <td>280.055000</td>\n",
       "      <td>5.122630e+06</td>\n",
       "      <td>1.222452e+14</td>\n",
       "      <td>80494.500000</td>\n",
       "      <td>3.569193e+06</td>\n",
       "      <td>0.611650</td>\n",
       "    </tr>\n",
       "    <tr>\n",
       "      <th>75%</th>\n",
       "      <td>631.875000</td>\n",
       "      <td>630.975000</td>\n",
       "      <td>640.000000</td>\n",
       "      <td>623.500000</td>\n",
       "      <td>631.150000</td>\n",
       "      <td>631.362500</td>\n",
       "      <td>631.727500</td>\n",
       "      <td>8.788539e+06</td>\n",
       "      <td>2.315038e+14</td>\n",
       "      <td>113228.000000</td>\n",
       "      <td>6.023117e+06</td>\n",
       "      <td>0.685625</td>\n",
       "    </tr>\n",
       "    <tr>\n",
       "      <th>max</th>\n",
       "      <td>1940.100000</td>\n",
       "      <td>1946.000000</td>\n",
       "      <td>1964.800000</td>\n",
       "      <td>1916.300000</td>\n",
       "      <td>1940.000000</td>\n",
       "      <td>1940.100000</td>\n",
       "      <td>1933.790000</td>\n",
       "      <td>1.494797e+08</td>\n",
       "      <td>4.254992e+15</td>\n",
       "      <td>667965.000000</td>\n",
       "      <td>8.629348e+07</td>\n",
       "      <td>0.997300</td>\n",
       "    </tr>\n",
       "  </tbody>\n",
       "</table>\n",
       "</div>"
      ],
      "text/plain": [
       "        Prev Close         Open         High          Low         Last  \\\n",
       "count  5306.000000  5306.000000  5306.000000  5306.000000  5306.000000   \n",
       "mean    420.359141   420.631511   426.629061   414.241538   420.250207   \n",
       "std     328.167744   328.240059   333.333043   323.333442   328.107927   \n",
       "min     115.450000   115.000000   116.200000   114.400000   115.500000   \n",
       "25%     201.650000   202.000000   204.500000   198.500000   201.500000   \n",
       "50%     280.050000   280.200000   283.000000   277.025000   279.900000   \n",
       "75%     631.875000   630.975000   640.000000   623.500000   631.150000   \n",
       "max    1940.100000  1946.000000  1964.800000  1916.300000  1940.000000   \n",
       "\n",
       "             Close         VWAP        Volume      Turnover         Trades  \\\n",
       "count  5306.000000  5306.000000  5.306000e+03  5.306000e+03    2456.000000   \n",
       "mean    420.273690   420.522927  7.173165e+06  1.799399e+14   94563.757736   \n",
       "std     328.165405   328.435808  9.613497e+06  2.155242e+14   59571.722457   \n",
       "min     115.450000   115.390000  6.797000e+03  5.340132e+11    1425.000000   \n",
       "25%     201.650000   201.705000  1.038020e+06  5.423007e+13   56465.250000   \n",
       "50%     280.025000   280.055000  5.122630e+06  1.222452e+14   80494.500000   \n",
       "75%     631.362500   631.727500  8.788539e+06  2.315038e+14  113228.000000   \n",
       "max    1940.100000  1933.790000  1.494797e+08  4.254992e+15  667965.000000   \n",
       "\n",
       "       Deliverable Volume  %Deliverble  \n",
       "count        4.792000e+03  4792.000000  \n",
       "mean         4.571758e+06     0.591634  \n",
       "std          5.040517e+06     0.128273  \n",
       "min          6.120000e+03     0.098000  \n",
       "25%          1.614865e+06     0.515700  \n",
       "50%          3.569193e+06     0.611650  \n",
       "75%          6.023117e+06     0.685625  \n",
       "max          8.629348e+07     0.997300  "
      ]
     },
     "execution_count": 435,
     "metadata": {},
     "output_type": "execute_result"
    }
   ],
   "source": [
    "stock.describe()"
   ]
  },
  {
   "cell_type": "code",
   "execution_count": 436,
   "id": "011a47e9",
   "metadata": {},
   "outputs": [],
   "source": [
    "# Ensure we are working with a copy of the DataFrame to avoid the SettingWithCopyWarning\n",
    "stock = stock.copy()"
   ]
  },
  {
   "cell_type": "code",
   "execution_count": 437,
   "id": "7758c824",
   "metadata": {},
   "outputs": [],
   "source": [
    "# Calculate HL_Perc and CO_Perc\n",
    "stock.loc[:, 'HL_Perc'] = (stock['High'] - stock['Low']) / stock['Low'] * 100\n",
    "stock.loc[:, 'CO_Perc'] = (stock['Close'] - stock['Open']) / stock['Open'] * 100"
   ]
  },
  {
   "cell_type": "code",
   "execution_count": 438,
   "id": "0bb9c198",
   "metadata": {},
   "outputs": [],
   "source": [
    "dates = np.array(stock[\"Date\"])\n",
    "dates_check = dates[-30:]\n",
    "dates = dates[:-30]"
   ]
  },
  {
   "cell_type": "code",
   "execution_count": 439,
   "id": "07901da7",
   "metadata": {},
   "outputs": [
    {
     "data": {
      "text/plain": [
       "Index(['Date', 'Symbol', 'Series', 'Prev Close', 'Open', 'High', 'Low', 'Last',\n",
       "       'Close', 'VWAP', 'Volume', 'Turnover', 'Trades', 'Deliverable Volume',\n",
       "       '%Deliverble', 'HL_Perc', 'CO_Perc'],\n",
       "      dtype='object')"
      ]
     },
     "execution_count": 439,
     "metadata": {},
     "output_type": "execute_result"
    }
   ],
   "source": [
    "stock.columns"
   ]
  },
  {
   "cell_type": "code",
   "execution_count": 440,
   "id": "75b07f7b",
   "metadata": {},
   "outputs": [],
   "source": [
    "stock = stock[[\"HL_Perc\", \"CO_Perc\", \"Close\", \"Volume\"]]"
   ]
  },
  {
   "cell_type": "code",
   "execution_count": 441,
   "id": "772db78e",
   "metadata": {},
   "outputs": [],
   "source": [
    "#Define the label column\n",
    "stock[\"PriceNextMonth\"] = stock[\"Close\"].shift(-30)"
   ]
  },
  {
   "cell_type": "code",
   "execution_count": 442,
   "id": "79011229",
   "metadata": {},
   "outputs": [
    {
     "data": {
      "text/html": [
       "<div>\n",
       "<style scoped>\n",
       "    .dataframe tbody tr th:only-of-type {\n",
       "        vertical-align: middle;\n",
       "    }\n",
       "\n",
       "    .dataframe tbody tr th {\n",
       "        vertical-align: top;\n",
       "    }\n",
       "\n",
       "    .dataframe thead th {\n",
       "        text-align: right;\n",
       "    }\n",
       "</style>\n",
       "<table border=\"1\" class=\"dataframe\">\n",
       "  <thead>\n",
       "    <tr style=\"text-align: right;\">\n",
       "      <th></th>\n",
       "      <th>HL_Perc</th>\n",
       "      <th>CO_Perc</th>\n",
       "      <th>Close</th>\n",
       "      <th>Volume</th>\n",
       "      <th>PriceNextMonth</th>\n",
       "    </tr>\n",
       "  </thead>\n",
       "  <tbody>\n",
       "    <tr>\n",
       "      <th>5301</th>\n",
       "      <td>1.001466</td>\n",
       "      <td>-0.242954</td>\n",
       "      <td>205.3</td>\n",
       "      <td>19886214</td>\n",
       "      <td>NaN</td>\n",
       "    </tr>\n",
       "    <tr>\n",
       "      <th>5302</th>\n",
       "      <td>0.926603</td>\n",
       "      <td>0.048709</td>\n",
       "      <td>205.4</td>\n",
       "      <td>11444814</td>\n",
       "      <td>NaN</td>\n",
       "    </tr>\n",
       "    <tr>\n",
       "      <th>5303</th>\n",
       "      <td>0.584510</td>\n",
       "      <td>-0.242718</td>\n",
       "      <td>205.5</td>\n",
       "      <td>12708021</td>\n",
       "      <td>NaN</td>\n",
       "    </tr>\n",
       "    <tr>\n",
       "      <th>5304</th>\n",
       "      <td>1.715266</td>\n",
       "      <td>-1.352004</td>\n",
       "      <td>204.3</td>\n",
       "      <td>13096755</td>\n",
       "      <td>NaN</td>\n",
       "    </tr>\n",
       "    <tr>\n",
       "      <th>5305</th>\n",
       "      <td>1.831683</td>\n",
       "      <td>-0.637567</td>\n",
       "      <td>202.6</td>\n",
       "      <td>16495657</td>\n",
       "      <td>NaN</td>\n",
       "    </tr>\n",
       "  </tbody>\n",
       "</table>\n",
       "</div>"
      ],
      "text/plain": [
       "       HL_Perc   CO_Perc  Close    Volume  PriceNextMonth\n",
       "5301  1.001466 -0.242954  205.3  19886214             NaN\n",
       "5302  0.926603  0.048709  205.4  11444814             NaN\n",
       "5303  0.584510 -0.242718  205.5  12708021             NaN\n",
       "5304  1.715266 -1.352004  204.3  13096755             NaN\n",
       "5305  1.831683 -0.637567  202.6  16495657             NaN"
      ]
     },
     "execution_count": 442,
     "metadata": {},
     "output_type": "execute_result"
    }
   ],
   "source": [
    "stock.tail()"
   ]
  },
  {
   "cell_type": "code",
   "execution_count": 443,
   "id": "c687b99c",
   "metadata": {},
   "outputs": [
    {
     "name": "stderr",
     "output_type": "stream",
     "text": [
      "C:\\Users\\suresh\\AppData\\Local\\Temp\\ipykernel_17924\\459189850.py:2: FutureWarning: In a future version of pandas all arguments of DataFrame.drop except for the argument 'labels' will be keyword-only.\n",
      "  X = np.array(stock.drop([\"PriceNextMonth\"], 1))\n"
     ]
    }
   ],
   "source": [
    "#Make fetaure and label arrays\n",
    "X = np.array(stock.drop([\"PriceNextMonth\"], 1))\n",
    "X = preprocessing.scale(X)\n",
    "X_Check = X[-30:]\n",
    "X = X[:-30]\n",
    "stock.dropna(inplace = True)\n",
    "y = np.array(stock[\"PriceNextMonth\"])"
   ]
  },
  {
   "cell_type": "code",
   "execution_count": 444,
   "id": "381f2472",
   "metadata": {},
   "outputs": [],
   "source": [
    "#Divide the data set into training data and testing data\n",
    "X_train, X_test, y_train, y_test = train_test_split(X,y,test_size = 0.2)"
   ]
  },
  {
   "cell_type": "code",
   "execution_count": 445,
   "id": "489c08a2",
   "metadata": {},
   "outputs": [],
   "source": [
    "#Define the prediction model\n",
    "model = RandomForestRegressor()"
   ]
  },
  {
   "cell_type": "code",
   "execution_count": 446,
   "id": "74ff8cec",
   "metadata": {},
   "outputs": [
    {
     "data": {
      "text/plain": [
       "RandomForestRegressor()"
      ]
     },
     "execution_count": 446,
     "metadata": {},
     "output_type": "execute_result"
    }
   ],
   "source": [
    "#Fit the model using training data\n",
    "model.fit(X_train, y_train)"
   ]
  },
  {
   "cell_type": "code",
   "execution_count": 447,
   "id": "520c0372",
   "metadata": {},
   "outputs": [
    {
     "name": "stdout",
     "output_type": "stream",
     "text": [
      "0.9264714034444184\n"
     ]
    }
   ],
   "source": [
    "#Calculate the confidence value by applying the model to testing data\n",
    "conf = model.score(X_test, y_test)\n",
    "print(conf)"
   ]
  },
  {
   "cell_type": "code",
   "execution_count": 448,
   "id": "b9381393",
   "metadata": {},
   "outputs": [
    {
     "data": {
      "text/plain": [
       "RandomForestRegressor()"
      ]
     },
     "execution_count": 448,
     "metadata": {},
     "output_type": "execute_result"
    }
   ],
   "source": [
    "#Fit the model again using the whole data set\n",
    "model.fit(X,y)"
   ]
  },
  {
   "cell_type": "code",
   "execution_count": 449,
   "id": "4990c67a",
   "metadata": {},
   "outputs": [],
   "source": [
    "predictions = model.predict(X_Check)"
   ]
  },
  {
   "cell_type": "code",
   "execution_count": 450,
   "id": "c0d5a9e2",
   "metadata": {},
   "outputs": [],
   "source": [
    "#Make the final DataFrame containing Dates, ClosePrices, and Forecast values\n",
    "actual = pd.DataFrame(dates, columns = [\"Date\"])\n",
    "actual[\"ClosePrice\"] = stock[\"Close\"]\n",
    "actual[\"Forecast\"] = np.nan\n",
    "actual.set_index(\"Date\", inplace = True)\n",
    "forecast = pd.DataFrame(dates_check, columns=[\"Date\"])\n",
    "forecast[\"Forecast\"] = predictions\n",
    "forecast[\"ClosePrice\"] = np.nan\n",
    "forecast.set_index(\"Date\", inplace = True)\n",
    "var = [actual, forecast]\n",
    "result = pd.concat(var)  #This is the final DataFrame"
   ]
  },
  {
   "cell_type": "code",
   "execution_count": 451,
   "id": "45722829",
   "metadata": {},
   "outputs": [
    {
     "data": {
      "text/plain": [
       "Text(0, 0.5, 'Price')"
      ]
     },
     "execution_count": 451,
     "metadata": {},
     "output_type": "execute_result"
    },
    {
     "data": {
      "image/png": "[encoded data removed]",
      "text/plain": [
       "<Figure size 2000x1000 with 1 Axes>"
      ]
     },
     "metadata": {},
     "output_type": "display_data"
    }
   ],
   "source": [
    "#Plot the final results\n",
    "result.plot(figsize=(20,10), linewidth=1.5)\n",
    "plt.legend(loc=2, prop={'size':20})\n",
    "plt.xlabel('Date')\n",
    "plt.ylabel('Price')"
   ]
  },
  {
   "cell_type": "code",
   "execution_count": null,
   "id": "e099aee8",
   "metadata": {},
   "outputs": [],
   "source": []
  },
  {
   "cell_type": "code",
   "execution_count": null,
   "id": "71ddb7a6",
   "metadata": {},
   "outputs": [],
   "source": []
  }
 ],
 "metadata": {
  "kernelspec": {
   "display_name": "Python 3 (ipykernel)",
   "language": "python",
   "name": "python3"
  },
  "language_info": {
   "codemirror_mode": {
    "name": "ipython",
    "version": 3
   },
   "file_extension": ".py",
   "mimetype": "text/x-python",
   "name": "python",
   "nbconvert_exporter": "python",
   "pygments_lexer": "ipython3",
   "version": "3.9.13"
  }
 },
 "nbformat": 4,
 "nbformat_minor": 5
}
