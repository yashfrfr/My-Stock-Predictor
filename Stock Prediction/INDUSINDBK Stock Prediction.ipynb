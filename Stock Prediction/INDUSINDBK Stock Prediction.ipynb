{
 "cells": [
  {
   "cell_type": "code",
   "execution_count": 2,
   "id": "5a20ead1",
   "metadata": {},
   "outputs": [],
   "source": [
    "#Import the libraries\n",
    "import pandas as pd \n",
    "import numpy as np \n",
    "import matplotlib.pyplot as plt \n",
    "from sklearn import preprocessing\n",
    "from sklearn.ensemble import RandomForestRegressor\n",
    "from sklearn.model_selection import train_test_split\n",
    "from sklearn.metrics import mean_absolute_error, r2_score"
   ]
  },
  {
   "cell_type": "code",
   "execution_count": 363,
   "id": "1ebabd9c",
   "metadata": {},
   "outputs": [],
   "source": [
    "stock = pd.read_csv(\"C:/Users/suresh/Desktop/PYTHON ML DATA SCIENCE/Stock Prediction/Stock Data/INDUSINDBK.csv\")"
   ]
  },
  {
   "cell_type": "code",
   "execution_count": 364,
   "id": "b4a873d4",
   "metadata": {},
   "outputs": [
    {
     "data": {
      "text/html": [
       "<div>\n",
       "<style scoped>\n",
       "    .dataframe tbody tr th:only-of-type {\n",
       "        vertical-align: middle;\n",
       "    }\n",
       "\n",
       "    .dataframe tbody tr th {\n",
       "        vertical-align: top;\n",
       "    }\n",
       "\n",
       "    .dataframe thead th {\n",
       "        text-align: right;\n",
       "    }\n",
       "</style>\n",
       "<table border=\"1\" class=\"dataframe\">\n",
       "  <thead>\n",
       "    <tr style=\"text-align: right;\">\n",
       "      <th></th>\n",
       "      <th>Date</th>\n",
       "      <th>Symbol</th>\n",
       "      <th>Series</th>\n",
       "      <th>Prev Close</th>\n",
       "      <th>Open</th>\n",
       "      <th>High</th>\n",
       "      <th>Low</th>\n",
       "      <th>Last</th>\n",
       "      <th>Close</th>\n",
       "      <th>VWAP</th>\n",
       "      <th>Volume</th>\n",
       "      <th>Turnover</th>\n",
       "      <th>Trades</th>\n",
       "      <th>Deliverable Volume</th>\n",
       "      <th>%Deliverble</th>\n",
       "    </tr>\n",
       "  </thead>\n",
       "  <tbody>\n",
       "    <tr>\n",
       "      <th>0</th>\n",
       "      <td>2000-01-03</td>\n",
       "      <td>INDUSINDBK</td>\n",
       "      <td>EQ</td>\n",
       "      <td>26.80</td>\n",
       "      <td>28.90</td>\n",
       "      <td>28.95</td>\n",
       "      <td>28.00</td>\n",
       "      <td>28.95</td>\n",
       "      <td>28.95</td>\n",
       "      <td>28.69</td>\n",
       "      <td>107224</td>\n",
       "      <td>3.075827e+11</td>\n",
       "      <td>NaN</td>\n",
       "      <td>NaN</td>\n",
       "      <td>NaN</td>\n",
       "    </tr>\n",
       "    <tr>\n",
       "      <th>1</th>\n",
       "      <td>2000-01-04</td>\n",
       "      <td>INDUSINDBK</td>\n",
       "      <td>EQ</td>\n",
       "      <td>28.95</td>\n",
       "      <td>30.85</td>\n",
       "      <td>31.25</td>\n",
       "      <td>27.90</td>\n",
       "      <td>30.60</td>\n",
       "      <td>30.25</td>\n",
       "      <td>29.12</td>\n",
       "      <td>182693</td>\n",
       "      <td>5.320731e+11</td>\n",
       "      <td>NaN</td>\n",
       "      <td>NaN</td>\n",
       "      <td>NaN</td>\n",
       "    </tr>\n",
       "    <tr>\n",
       "      <th>2</th>\n",
       "      <td>2000-01-05</td>\n",
       "      <td>INDUSINDBK</td>\n",
       "      <td>EQ</td>\n",
       "      <td>30.25</td>\n",
       "      <td>29.90</td>\n",
       "      <td>30.00</td>\n",
       "      <td>27.85</td>\n",
       "      <td>28.45</td>\n",
       "      <td>28.15</td>\n",
       "      <td>28.72</td>\n",
       "      <td>162820</td>\n",
       "      <td>4.675717e+11</td>\n",
       "      <td>NaN</td>\n",
       "      <td>NaN</td>\n",
       "      <td>NaN</td>\n",
       "    </tr>\n",
       "    <tr>\n",
       "      <th>3</th>\n",
       "      <td>2000-01-06</td>\n",
       "      <td>INDUSINDBK</td>\n",
       "      <td>EQ</td>\n",
       "      <td>28.15</td>\n",
       "      <td>29.25</td>\n",
       "      <td>29.35</td>\n",
       "      <td>27.95</td>\n",
       "      <td>27.95</td>\n",
       "      <td>28.00</td>\n",
       "      <td>28.55</td>\n",
       "      <td>87901</td>\n",
       "      <td>2.510007e+11</td>\n",
       "      <td>NaN</td>\n",
       "      <td>NaN</td>\n",
       "      <td>NaN</td>\n",
       "    </tr>\n",
       "    <tr>\n",
       "      <th>4</th>\n",
       "      <td>2000-01-07</td>\n",
       "      <td>INDUSINDBK</td>\n",
       "      <td>EQ</td>\n",
       "      <td>28.00</td>\n",
       "      <td>27.20</td>\n",
       "      <td>28.00</td>\n",
       "      <td>26.50</td>\n",
       "      <td>27.20</td>\n",
       "      <td>27.05</td>\n",
       "      <td>27.09</td>\n",
       "      <td>65684</td>\n",
       "      <td>1.779190e+11</td>\n",
       "      <td>NaN</td>\n",
       "      <td>NaN</td>\n",
       "      <td>NaN</td>\n",
       "    </tr>\n",
       "  </tbody>\n",
       "</table>\n",
       "</div>"
      ],
      "text/plain": [
       "         Date      Symbol Series  Prev Close   Open   High    Low   Last  \\\n",
       "0  2000-01-03  INDUSINDBK     EQ       26.80  28.90  28.95  28.00  28.95   \n",
       "1  2000-01-04  INDUSINDBK     EQ       28.95  30.85  31.25  27.90  30.60   \n",
       "2  2000-01-05  INDUSINDBK     EQ       30.25  29.90  30.00  27.85  28.45   \n",
       "3  2000-01-06  INDUSINDBK     EQ       28.15  29.25  29.35  27.95  27.95   \n",
       "4  2000-01-07  INDUSINDBK     EQ       28.00  27.20  28.00  26.50  27.20   \n",
       "\n",
       "   Close   VWAP  Volume      Turnover  Trades  Deliverable Volume  %Deliverble  \n",
       "0  28.95  28.69  107224  3.075827e+11     NaN                 NaN          NaN  \n",
       "1  30.25  29.12  182693  5.320731e+11     NaN                 NaN          NaN  \n",
       "2  28.15  28.72  162820  4.675717e+11     NaN                 NaN          NaN  \n",
       "3  28.00  28.55   87901  2.510007e+11     NaN                 NaN          NaN  \n",
       "4  27.05  27.09   65684  1.779190e+11     NaN                 NaN          NaN  "
      ]
     },
     "execution_count": 364,
     "metadata": {},
     "output_type": "execute_result"
    }
   ],
   "source": [
    "stock.head()"
   ]
  },
  {
   "cell_type": "code",
   "execution_count": 365,
   "id": "564201f0",
   "metadata": {},
   "outputs": [
    {
     "name": "stdout",
     "output_type": "stream",
     "text": [
      "<class 'pandas.core.frame.DataFrame'>\n",
      "RangeIndex: 4985 entries, 0 to 4984\n",
      "Data columns (total 15 columns):\n",
      " #   Column              Non-Null Count  Dtype  \n",
      "---  ------              --------------  -----  \n",
      " 0   Date                4985 non-null   object \n",
      " 1   Symbol              4985 non-null   object \n",
      " 2   Series              4985 non-null   object \n",
      " 3   Prev Close          4985 non-null   float64\n",
      " 4   Open                4985 non-null   float64\n",
      " 5   High                4985 non-null   float64\n",
      " 6   Low                 4985 non-null   float64\n",
      " 7   Last                4985 non-null   float64\n",
      " 8   Close               4985 non-null   float64\n",
      " 9   VWAP                4985 non-null   float64\n",
      " 10  Volume              4985 non-null   int64  \n",
      " 11  Turnover            4985 non-null   float64\n",
      " 12  Trades              2456 non-null   float64\n",
      " 13  Deliverable Volume  4797 non-null   float64\n",
      " 14  %Deliverble         4797 non-null   float64\n",
      "dtypes: float64(11), int64(1), object(3)\n",
      "memory usage: 584.3+ KB\n"
     ]
    }
   ],
   "source": [
    "stock.info()"
   ]
  },
  {
   "cell_type": "code",
   "execution_count": 366,
   "id": "c9d711dd",
   "metadata": {},
   "outputs": [
    {
     "data": {
      "text/html": [
       "<div>\n",
       "<style scoped>\n",
       "    .dataframe tbody tr th:only-of-type {\n",
       "        vertical-align: middle;\n",
       "    }\n",
       "\n",
       "    .dataframe tbody tr th {\n",
       "        vertical-align: top;\n",
       "    }\n",
       "\n",
       "    .dataframe thead th {\n",
       "        text-align: right;\n",
       "    }\n",
       "</style>\n",
       "<table border=\"1\" class=\"dataframe\">\n",
       "  <thead>\n",
       "    <tr style=\"text-align: right;\">\n",
       "      <th></th>\n",
       "      <th>Prev Close</th>\n",
       "      <th>Open</th>\n",
       "      <th>High</th>\n",
       "      <th>Low</th>\n",
       "      <th>Last</th>\n",
       "      <th>Close</th>\n",
       "      <th>VWAP</th>\n",
       "      <th>Volume</th>\n",
       "      <th>Turnover</th>\n",
       "      <th>Trades</th>\n",
       "      <th>Deliverable Volume</th>\n",
       "      <th>%Deliverble</th>\n",
       "    </tr>\n",
       "  </thead>\n",
       "  <tbody>\n",
       "    <tr>\n",
       "      <th>count</th>\n",
       "      <td>4985.000000</td>\n",
       "      <td>4985.000000</td>\n",
       "      <td>4985.000000</td>\n",
       "      <td>4985.000000</td>\n",
       "      <td>4985.000000</td>\n",
       "      <td>4985.000000</td>\n",
       "      <td>4985.000000</td>\n",
       "      <td>4.985000e+03</td>\n",
       "      <td>4.985000e+03</td>\n",
       "      <td>2.456000e+03</td>\n",
       "      <td>4.797000e+03</td>\n",
       "      <td>4797.000000</td>\n",
       "    </tr>\n",
       "    <tr>\n",
       "      <th>mean</th>\n",
       "      <td>494.137563</td>\n",
       "      <td>494.856660</td>\n",
       "      <td>501.926409</td>\n",
       "      <td>486.991344</td>\n",
       "      <td>494.341986</td>\n",
       "      <td>494.322698</td>\n",
       "      <td>494.563232</td>\n",
       "      <td>2.351251e+06</td>\n",
       "      <td>1.531780e+14</td>\n",
       "      <td>7.324800e+04</td>\n",
       "      <td>7.596722e+05</td>\n",
       "      <td>0.489002</td>\n",
       "    </tr>\n",
       "    <tr>\n",
       "      <th>std</th>\n",
       "      <td>562.724997</td>\n",
       "      <td>563.200546</td>\n",
       "      <td>569.267316</td>\n",
       "      <td>556.232197</td>\n",
       "      <td>562.779367</td>\n",
       "      <td>562.718180</td>\n",
       "      <td>562.740212</td>\n",
       "      <td>5.664769e+06</td>\n",
       "      <td>3.679600e+14</td>\n",
       "      <td>1.090752e+05</td>\n",
       "      <td>1.099894e+06</td>\n",
       "      <td>0.189042</td>\n",
       "    </tr>\n",
       "    <tr>\n",
       "      <th>min</th>\n",
       "      <td>9.150000</td>\n",
       "      <td>8.500000</td>\n",
       "      <td>9.750000</td>\n",
       "      <td>8.500000</td>\n",
       "      <td>9.100000</td>\n",
       "      <td>9.150000</td>\n",
       "      <td>9.210000</td>\n",
       "      <td>2.000000e+02</td>\n",
       "      <td>2.650000e+08</td>\n",
       "      <td>4.040000e+02</td>\n",
       "      <td>4.450000e+03</td>\n",
       "      <td>0.029900</td>\n",
       "    </tr>\n",
       "    <tr>\n",
       "      <th>25%</th>\n",
       "      <td>48.400000</td>\n",
       "      <td>48.800000</td>\n",
       "      <td>49.800000</td>\n",
       "      <td>47.300000</td>\n",
       "      <td>48.450000</td>\n",
       "      <td>48.450000</td>\n",
       "      <td>48.670000</td>\n",
       "      <td>4.119510e+05</td>\n",
       "      <td>3.268398e+12</td>\n",
       "      <td>1.744125e+04</td>\n",
       "      <td>1.977390e+05</td>\n",
       "      <td>0.350900</td>\n",
       "    </tr>\n",
       "    <tr>\n",
       "      <th>50%</th>\n",
       "      <td>255.100000</td>\n",
       "      <td>255.000000</td>\n",
       "      <td>261.400000</td>\n",
       "      <td>250.700000</td>\n",
       "      <td>255.100000</td>\n",
       "      <td>255.250000</td>\n",
       "      <td>255.430000</td>\n",
       "      <td>8.692310e+05</td>\n",
       "      <td>1.972708e+13</td>\n",
       "      <td>3.749000e+04</td>\n",
       "      <td>4.267010e+05</td>\n",
       "      <td>0.480000</td>\n",
       "    </tr>\n",
       "    <tr>\n",
       "      <th>75%</th>\n",
       "      <td>873.950000</td>\n",
       "      <td>875.000000</td>\n",
       "      <td>886.000000</td>\n",
       "      <td>858.500000</td>\n",
       "      <td>874.000000</td>\n",
       "      <td>874.550000</td>\n",
       "      <td>872.830000</td>\n",
       "      <td>1.772702e+06</td>\n",
       "      <td>1.118311e+14</td>\n",
       "      <td>8.079375e+04</td>\n",
       "      <td>8.737870e+05</td>\n",
       "      <td>0.620500</td>\n",
       "    </tr>\n",
       "    <tr>\n",
       "      <th>max</th>\n",
       "      <td>2023.050000</td>\n",
       "      <td>2033.100000</td>\n",
       "      <td>2038.000000</td>\n",
       "      <td>2003.450000</td>\n",
       "      <td>2022.000000</td>\n",
       "      <td>2023.050000</td>\n",
       "      <td>2022.360000</td>\n",
       "      <td>8.133645e+07</td>\n",
       "      <td>4.942748e+15</td>\n",
       "      <td>1.424793e+06</td>\n",
       "      <td>1.782411e+07</td>\n",
       "      <td>1.000000</td>\n",
       "    </tr>\n",
       "  </tbody>\n",
       "</table>\n",
       "</div>"
      ],
      "text/plain": [
       "        Prev Close         Open         High          Low         Last  \\\n",
       "count  4985.000000  4985.000000  4985.000000  4985.000000  4985.000000   \n",
       "mean    494.137563   494.856660   501.926409   486.991344   494.341986   \n",
       "std     562.724997   563.200546   569.267316   556.232197   562.779367   \n",
       "min       9.150000     8.500000     9.750000     8.500000     9.100000   \n",
       "25%      48.400000    48.800000    49.800000    47.300000    48.450000   \n",
       "50%     255.100000   255.000000   261.400000   250.700000   255.100000   \n",
       "75%     873.950000   875.000000   886.000000   858.500000   874.000000   \n",
       "max    2023.050000  2033.100000  2038.000000  2003.450000  2022.000000   \n",
       "\n",
       "             Close         VWAP        Volume      Turnover        Trades  \\\n",
       "count  4985.000000  4985.000000  4.985000e+03  4.985000e+03  2.456000e+03   \n",
       "mean    494.322698   494.563232  2.351251e+06  1.531780e+14  7.324800e+04   \n",
       "std     562.718180   562.740212  5.664769e+06  3.679600e+14  1.090752e+05   \n",
       "min       9.150000     9.210000  2.000000e+02  2.650000e+08  4.040000e+02   \n",
       "25%      48.450000    48.670000  4.119510e+05  3.268398e+12  1.744125e+04   \n",
       "50%     255.250000   255.430000  8.692310e+05  1.972708e+13  3.749000e+04   \n",
       "75%     874.550000   872.830000  1.772702e+06  1.118311e+14  8.079375e+04   \n",
       "max    2023.050000  2022.360000  8.133645e+07  4.942748e+15  1.424793e+06   \n",
       "\n",
       "       Deliverable Volume  %Deliverble  \n",
       "count        4.797000e+03  4797.000000  \n",
       "mean         7.596722e+05     0.489002  \n",
       "std          1.099894e+06     0.189042  \n",
       "min          4.450000e+03     0.029900  \n",
       "25%          1.977390e+05     0.350900  \n",
       "50%          4.267010e+05     0.480000  \n",
       "75%          8.737870e+05     0.620500  \n",
       "max          1.782411e+07     1.000000  "
      ]
     },
     "execution_count": 366,
     "metadata": {},
     "output_type": "execute_result"
    }
   ],
   "source": [
    "stock.describe()"
   ]
  },
  {
   "cell_type": "code",
   "execution_count": 367,
   "id": "011a47e9",
   "metadata": {},
   "outputs": [],
   "source": [
    "# Ensure we are working with a copy of the DataFrame to avoid the SettingWithCopyWarning\n",
    "stock = stock.copy()"
   ]
  },
  {
   "cell_type": "code",
   "execution_count": 368,
   "id": "7758c824",
   "metadata": {},
   "outputs": [],
   "source": [
    "# Calculate HL_Perc and CO_Perc\n",
    "stock.loc[:, 'HL_Perc'] = (stock['High'] - stock['Low']) / stock['Low'] * 100\n",
    "stock.loc[:, 'CO_Perc'] = (stock['Close'] - stock['Open']) / stock['Open'] * 100"
   ]
  },
  {
   "cell_type": "code",
   "execution_count": 369,
   "id": "0bb9c198",
   "metadata": {},
   "outputs": [],
   "source": [
    "dates = np.array(stock[\"Date\"])\n",
    "dates_check = dates[-30:]\n",
    "dates = dates[:-30]"
   ]
  },
  {
   "cell_type": "code",
   "execution_count": 370,
   "id": "07901da7",
   "metadata": {},
   "outputs": [
    {
     "data": {
      "text/plain": [
       "Index(['Date', 'Symbol', 'Series', 'Prev Close', 'Open', 'High', 'Low', 'Last',\n",
       "       'Close', 'VWAP', 'Volume', 'Turnover', 'Trades', 'Deliverable Volume',\n",
       "       '%Deliverble', 'HL_Perc', 'CO_Perc'],\n",
       "      dtype='object')"
      ]
     },
     "execution_count": 370,
     "metadata": {},
     "output_type": "execute_result"
    }
   ],
   "source": [
    "stock.columns"
   ]
  },
  {
   "cell_type": "code",
   "execution_count": 371,
   "id": "75b07f7b",
   "metadata": {},
   "outputs": [],
   "source": [
    "stock = stock[[\"HL_Perc\", \"CO_Perc\", \"Close\", \"Volume\"]]"
   ]
  },
  {
   "cell_type": "code",
   "execution_count": 372,
   "id": "772db78e",
   "metadata": {},
   "outputs": [],
   "source": [
    "#Define the label column\n",
    "stock[\"PriceNextMonth\"] = stock[\"Close\"].shift(-30)"
   ]
  },
  {
   "cell_type": "code",
   "execution_count": 373,
   "id": "79011229",
   "metadata": {},
   "outputs": [
    {
     "data": {
      "text/html": [
       "<div>\n",
       "<style scoped>\n",
       "    .dataframe tbody tr th:only-of-type {\n",
       "        vertical-align: middle;\n",
       "    }\n",
       "\n",
       "    .dataframe tbody tr th {\n",
       "        vertical-align: top;\n",
       "    }\n",
       "\n",
       "    .dataframe thead th {\n",
       "        text-align: right;\n",
       "    }\n",
       "</style>\n",
       "<table border=\"1\" class=\"dataframe\">\n",
       "  <thead>\n",
       "    <tr style=\"text-align: right;\">\n",
       "      <th></th>\n",
       "      <th>HL_Perc</th>\n",
       "      <th>CO_Perc</th>\n",
       "      <th>Close</th>\n",
       "      <th>Volume</th>\n",
       "      <th>PriceNextMonth</th>\n",
       "    </tr>\n",
       "  </thead>\n",
       "  <tbody>\n",
       "    <tr>\n",
       "      <th>4980</th>\n",
       "      <td>2.290211</td>\n",
       "      <td>0.297550</td>\n",
       "      <td>859.55</td>\n",
       "      <td>4894557</td>\n",
       "      <td>NaN</td>\n",
       "    </tr>\n",
       "    <tr>\n",
       "      <th>4981</th>\n",
       "      <td>3.143190</td>\n",
       "      <td>2.664185</td>\n",
       "      <td>882.45</td>\n",
       "      <td>5202133</td>\n",
       "      <td>NaN</td>\n",
       "    </tr>\n",
       "    <tr>\n",
       "      <th>4982</th>\n",
       "      <td>4.842342</td>\n",
       "      <td>4.146067</td>\n",
       "      <td>926.90</td>\n",
       "      <td>9935828</td>\n",
       "      <td>NaN</td>\n",
       "    </tr>\n",
       "    <tr>\n",
       "      <th>4983</th>\n",
       "      <td>4.552393</td>\n",
       "      <td>0.277526</td>\n",
       "      <td>939.45</td>\n",
       "      <td>12187280</td>\n",
       "      <td>NaN</td>\n",
       "    </tr>\n",
       "    <tr>\n",
       "      <th>4984</th>\n",
       "      <td>3.649874</td>\n",
       "      <td>0.748922</td>\n",
       "      <td>934.95</td>\n",
       "      <td>7301455</td>\n",
       "      <td>NaN</td>\n",
       "    </tr>\n",
       "  </tbody>\n",
       "</table>\n",
       "</div>"
      ],
      "text/plain": [
       "       HL_Perc   CO_Perc   Close    Volume  PriceNextMonth\n",
       "4980  2.290211  0.297550  859.55   4894557             NaN\n",
       "4981  3.143190  2.664185  882.45   5202133             NaN\n",
       "4982  4.842342  4.146067  926.90   9935828             NaN\n",
       "4983  4.552393  0.277526  939.45  12187280             NaN\n",
       "4984  3.649874  0.748922  934.95   7301455             NaN"
      ]
     },
     "execution_count": 373,
     "metadata": {},
     "output_type": "execute_result"
    }
   ],
   "source": [
    "stock.tail()"
   ]
  },
  {
   "cell_type": "code",
   "execution_count": 374,
   "id": "c687b99c",
   "metadata": {},
   "outputs": [
    {
     "name": "stderr",
     "output_type": "stream",
     "text": [
      "C:\\Users\\suresh\\AppData\\Local\\Temp\\ipykernel_17924\\459189850.py:2: FutureWarning: In a future version of pandas all arguments of DataFrame.drop except for the argument 'labels' will be keyword-only.\n",
      "  X = np.array(stock.drop([\"PriceNextMonth\"], 1))\n"
     ]
    }
   ],
   "source": [
    "#Make fetaure and label arrays\n",
    "X = np.array(stock.drop([\"PriceNextMonth\"], 1))\n",
    "X = preprocessing.scale(X)\n",
    "X_Check = X[-30:]\n",
    "X = X[:-30]\n",
    "stock.dropna(inplace = True)\n",
    "y = np.array(stock[\"PriceNextMonth\"])"
   ]
  },
  {
   "cell_type": "code",
   "execution_count": 375,
   "id": "381f2472",
   "metadata": {},
   "outputs": [],
   "source": [
    "#Divide the data set into training data and testing data\n",
    "X_train, X_test, y_train, y_test = train_test_split(X,y,test_size = 0.2)"
   ]
  },
  {
   "cell_type": "code",
   "execution_count": 376,
   "id": "489c08a2",
   "metadata": {},
   "outputs": [],
   "source": [
    "#Define the prediction model\n",
    "model = RandomForestRegressor()"
   ]
  },
  {
   "cell_type": "code",
   "execution_count": 377,
   "id": "74ff8cec",
   "metadata": {},
   "outputs": [
    {
     "data": {
      "text/plain": [
       "RandomForestRegressor()"
      ]
     },
     "execution_count": 377,
     "metadata": {},
     "output_type": "execute_result"
    }
   ],
   "source": [
    "#Fit the model using training data\n",
    "model.fit(X_train, y_train)"
   ]
  },
  {
   "cell_type": "code",
   "execution_count": 378,
   "id": "520c0372",
   "metadata": {},
   "outputs": [
    {
     "name": "stdout",
     "output_type": "stream",
     "text": [
      "0.9821861610721416\n"
     ]
    }
   ],
   "source": [
    "#Calculate the confidence value by applying the model to testing data\n",
    "conf = model.score(X_test, y_test)\n",
    "print(conf)"
   ]
  },
  {
   "cell_type": "code",
   "execution_count": 379,
   "id": "b9381393",
   "metadata": {},
   "outputs": [
    {
     "data": {
      "text/plain": [
       "RandomForestRegressor()"
      ]
     },
     "execution_count": 379,
     "metadata": {},
     "output_type": "execute_result"
    }
   ],
   "source": [
    "#Fit the model again using the whole data set\n",
    "model.fit(X,y)"
   ]
  },
  {
   "cell_type": "code",
   "execution_count": 380,
   "id": "4990c67a",
   "metadata": {},
   "outputs": [],
   "source": [
    "predictions = model.predict(X_Check)"
   ]
  },
  {
   "cell_type": "code",
   "execution_count": 381,
   "id": "c0d5a9e2",
   "metadata": {},
   "outputs": [],
   "source": [
    "#Make the final DataFrame containing Dates, ClosePrices, and Forecast values\n",
    "actual = pd.DataFrame(dates, columns = [\"Date\"])\n",
    "actual[\"ClosePrice\"] = stock[\"Close\"]\n",
    "actual[\"Forecast\"] = np.nan\n",
    "actual.set_index(\"Date\", inplace = True)\n",
    "forecast = pd.DataFrame(dates_check, columns=[\"Date\"])\n",
    "forecast[\"Forecast\"] = predictions\n",
    "forecast[\"ClosePrice\"] = np.nan\n",
    "forecast.set_index(\"Date\", inplace = True)\n",
    "var = [actual, forecast]\n",
    "result = pd.concat(var)  #This is the final DataFrame"
   ]
  },
  {
   "cell_type": "code",
   "execution_count": 382,
   "id": "45722829",
   "metadata": {},
   "outputs": [
    {
     "data": {
      "text/plain": [
       "Text(0, 0.5, 'Price')"
      ]
     },
     "execution_count": 382,
     "metadata": {},
     "output_type": "execute_result"
    },
    {
     "data": {
      "image/png": "[encoded data removed]",
      "text/plain": [
       "<Figure size 2000x1000 with 1 Axes>"
      ]
     },
     "metadata": {},
     "output_type": "display_data"
    }
   ],
   "source": [
    "#Plot the final results\n",
    "result.plot(figsize=(20,10), linewidth=1.5)\n",
    "plt.legend(loc=2, prop={'size':20})\n",
    "plt.xlabel('Date')\n",
    "plt.ylabel('Price')"
   ]
  },
  {
   "cell_type": "code",
   "execution_count": null,
   "id": "e099aee8",
   "metadata": {},
   "outputs": [],
   "source": []
  },
  {
   "cell_type": "code",
   "execution_count": null,
   "id": "8149ce5e",
   "metadata": {},
   "outputs": [],
   "source": []
  }
 ],
 "metadata": {
  "kernelspec": {
   "display_name": "Python 3 (ipykernel)",
   "language": "python",
   "name": "python3"
  },
  "language_info": {
   "codemirror_mode": {
    "name": "ipython",
    "version": 3
   },
   "file_extension": ".py",
   "mimetype": "text/x-python",
   "name": "python",
   "nbconvert_exporter": "python",
   "pygments_lexer": "ipython3",
   "version": "3.9.13"
  }
 },
 "nbformat": 4,
 "nbformat_minor": 5
}
