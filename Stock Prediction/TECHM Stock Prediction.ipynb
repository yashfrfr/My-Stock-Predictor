{
 "cells": [
  {
   "cell_type": "code",
   "execution_count": 2,
   "id": "5a20ead1",
   "metadata": {},
   "outputs": [],
   "source": [
    "#Import the libraries\n",
    "import pandas as pd \n",
    "import numpy as np \n",
    "import matplotlib.pyplot as plt \n",
    "from sklearn import preprocessing\n",
    "from sklearn.ensemble import RandomForestRegressor\n",
    "from sklearn.model_selection import train_test_split\n",
    "from sklearn.metrics import mean_absolute_error, r2_score"
   ]
  },
  {
   "cell_type": "code",
   "execution_count": 143,
   "id": "1ebabd9c",
   "metadata": {},
   "outputs": [],
   "source": [
    "stock = pd.read_csv(\"C:/Users/suresh/Desktop/PYTHON ML DATA SCIENCE/Stock Prediction/Stock Data/TECHM.csv\")"
   ]
  },
  {
   "cell_type": "code",
   "execution_count": 144,
   "id": "b4a873d4",
   "metadata": {},
   "outputs": [
    {
     "data": {
      "text/html": [
       "<div>\n",
       "<style scoped>\n",
       "    .dataframe tbody tr th:only-of-type {\n",
       "        vertical-align: middle;\n",
       "    }\n",
       "\n",
       "    .dataframe tbody tr th {\n",
       "        vertical-align: top;\n",
       "    }\n",
       "\n",
       "    .dataframe thead th {\n",
       "        text-align: right;\n",
       "    }\n",
       "</style>\n",
       "<table border=\"1\" class=\"dataframe\">\n",
       "  <thead>\n",
       "    <tr style=\"text-align: right;\">\n",
       "      <th></th>\n",
       "      <th>Date</th>\n",
       "      <th>Symbol</th>\n",
       "      <th>Series</th>\n",
       "      <th>Prev Close</th>\n",
       "      <th>Open</th>\n",
       "      <th>High</th>\n",
       "      <th>Low</th>\n",
       "      <th>Last</th>\n",
       "      <th>Close</th>\n",
       "      <th>VWAP</th>\n",
       "      <th>Volume</th>\n",
       "      <th>Turnover</th>\n",
       "      <th>Trades</th>\n",
       "      <th>Deliverable Volume</th>\n",
       "      <th>%Deliverble</th>\n",
       "    </tr>\n",
       "  </thead>\n",
       "  <tbody>\n",
       "    <tr>\n",
       "      <th>0</th>\n",
       "      <td>2006-08-28</td>\n",
       "      <td>TECHM</td>\n",
       "      <td>EQ</td>\n",
       "      <td>365.00</td>\n",
       "      <td>521.0</td>\n",
       "      <td>569.0</td>\n",
       "      <td>502.00</td>\n",
       "      <td>553.00</td>\n",
       "      <td>554.25</td>\n",
       "      <td>552.00</td>\n",
       "      <td>15166163</td>\n",
       "      <td>8.371760e+14</td>\n",
       "      <td>NaN</td>\n",
       "      <td>3777529</td>\n",
       "      <td>0.2491</td>\n",
       "    </tr>\n",
       "    <tr>\n",
       "      <th>1</th>\n",
       "      <td>2006-08-29</td>\n",
       "      <td>TECHM</td>\n",
       "      <td>EQ</td>\n",
       "      <td>554.25</td>\n",
       "      <td>555.0</td>\n",
       "      <td>563.9</td>\n",
       "      <td>535.55</td>\n",
       "      <td>536.10</td>\n",
       "      <td>539.30</td>\n",
       "      <td>547.59</td>\n",
       "      <td>3929113</td>\n",
       "      <td>2.151530e+14</td>\n",
       "      <td>NaN</td>\n",
       "      <td>727534</td>\n",
       "      <td>0.1852</td>\n",
       "    </tr>\n",
       "    <tr>\n",
       "      <th>2</th>\n",
       "      <td>2006-08-30</td>\n",
       "      <td>TECHM</td>\n",
       "      <td>EQ</td>\n",
       "      <td>539.30</td>\n",
       "      <td>537.0</td>\n",
       "      <td>542.9</td>\n",
       "      <td>521.50</td>\n",
       "      <td>529.00</td>\n",
       "      <td>528.10</td>\n",
       "      <td>529.55</td>\n",
       "      <td>2034983</td>\n",
       "      <td>1.077630e+14</td>\n",
       "      <td>NaN</td>\n",
       "      <td>345064</td>\n",
       "      <td>0.1696</td>\n",
       "    </tr>\n",
       "    <tr>\n",
       "      <th>3</th>\n",
       "      <td>2006-08-31</td>\n",
       "      <td>TECHM</td>\n",
       "      <td>EQ</td>\n",
       "      <td>528.10</td>\n",
       "      <td>525.0</td>\n",
       "      <td>544.0</td>\n",
       "      <td>515.00</td>\n",
       "      <td>539.35</td>\n",
       "      <td>538.45</td>\n",
       "      <td>532.89</td>\n",
       "      <td>1670990</td>\n",
       "      <td>8.904464e+13</td>\n",
       "      <td>NaN</td>\n",
       "      <td>286440</td>\n",
       "      <td>0.1714</td>\n",
       "    </tr>\n",
       "    <tr>\n",
       "      <th>4</th>\n",
       "      <td>2006-09-01</td>\n",
       "      <td>TECHM</td>\n",
       "      <td>EQ</td>\n",
       "      <td>538.45</td>\n",
       "      <td>539.0</td>\n",
       "      <td>549.0</td>\n",
       "      <td>535.10</td>\n",
       "      <td>541.35</td>\n",
       "      <td>541.85</td>\n",
       "      <td>542.46</td>\n",
       "      <td>1176195</td>\n",
       "      <td>6.380386e+13</td>\n",
       "      <td>NaN</td>\n",
       "      <td>213842</td>\n",
       "      <td>0.1818</td>\n",
       "    </tr>\n",
       "  </tbody>\n",
       "</table>\n",
       "</div>"
      ],
      "text/plain": [
       "         Date Symbol Series  Prev Close   Open   High     Low    Last   Close  \\\n",
       "0  2006-08-28  TECHM     EQ      365.00  521.0  569.0  502.00  553.00  554.25   \n",
       "1  2006-08-29  TECHM     EQ      554.25  555.0  563.9  535.55  536.10  539.30   \n",
       "2  2006-08-30  TECHM     EQ      539.30  537.0  542.9  521.50  529.00  528.10   \n",
       "3  2006-08-31  TECHM     EQ      528.10  525.0  544.0  515.00  539.35  538.45   \n",
       "4  2006-09-01  TECHM     EQ      538.45  539.0  549.0  535.10  541.35  541.85   \n",
       "\n",
       "     VWAP    Volume      Turnover  Trades  Deliverable Volume  %Deliverble  \n",
       "0  552.00  15166163  8.371760e+14     NaN             3777529       0.2491  \n",
       "1  547.59   3929113  2.151530e+14     NaN              727534       0.1852  \n",
       "2  529.55   2034983  1.077630e+14     NaN              345064       0.1696  \n",
       "3  532.89   1670990  8.904464e+13     NaN              286440       0.1714  \n",
       "4  542.46   1176195  6.380386e+13     NaN              213842       0.1818  "
      ]
     },
     "execution_count": 144,
     "metadata": {},
     "output_type": "execute_result"
    }
   ],
   "source": [
    "stock.head()"
   ]
  },
  {
   "cell_type": "code",
   "execution_count": 145,
   "id": "564201f0",
   "metadata": {},
   "outputs": [
    {
     "name": "stdout",
     "output_type": "stream",
     "text": [
      "<class 'pandas.core.frame.DataFrame'>\n",
      "RangeIndex: 3635 entries, 0 to 3634\n",
      "Data columns (total 15 columns):\n",
      " #   Column              Non-Null Count  Dtype  \n",
      "---  ------              --------------  -----  \n",
      " 0   Date                3635 non-null   object \n",
      " 1   Symbol              3635 non-null   object \n",
      " 2   Series              3635 non-null   object \n",
      " 3   Prev Close          3635 non-null   float64\n",
      " 4   Open                3635 non-null   float64\n",
      " 5   High                3635 non-null   float64\n",
      " 6   Low                 3635 non-null   float64\n",
      " 7   Last                3635 non-null   float64\n",
      " 8   Close               3635 non-null   float64\n",
      " 9   VWAP                3635 non-null   float64\n",
      " 10  Volume              3635 non-null   int64  \n",
      " 11  Turnover            3635 non-null   float64\n",
      " 12  Trades              2456 non-null   float64\n",
      " 13  Deliverable Volume  3635 non-null   int64  \n",
      " 14  %Deliverble         3635 non-null   float64\n",
      "dtypes: float64(10), int64(2), object(3)\n",
      "memory usage: 426.1+ KB\n"
     ]
    }
   ],
   "source": [
    "stock.info()"
   ]
  },
  {
   "cell_type": "code",
   "execution_count": 146,
   "id": "c9d711dd",
   "metadata": {},
   "outputs": [
    {
     "data": {
      "text/html": [
       "<div>\n",
       "<style scoped>\n",
       "    .dataframe tbody tr th:only-of-type {\n",
       "        vertical-align: middle;\n",
       "    }\n",
       "\n",
       "    .dataframe tbody tr th {\n",
       "        vertical-align: top;\n",
       "    }\n",
       "\n",
       "    .dataframe thead th {\n",
       "        text-align: right;\n",
       "    }\n",
       "</style>\n",
       "<table border=\"1\" class=\"dataframe\">\n",
       "  <thead>\n",
       "    <tr style=\"text-align: right;\">\n",
       "      <th></th>\n",
       "      <th>Prev Close</th>\n",
       "      <th>Open</th>\n",
       "      <th>High</th>\n",
       "      <th>Low</th>\n",
       "      <th>Last</th>\n",
       "      <th>Close</th>\n",
       "      <th>VWAP</th>\n",
       "      <th>Volume</th>\n",
       "      <th>Turnover</th>\n",
       "      <th>Trades</th>\n",
       "      <th>Deliverable Volume</th>\n",
       "      <th>%Deliverble</th>\n",
       "    </tr>\n",
       "  </thead>\n",
       "  <tbody>\n",
       "    <tr>\n",
       "      <th>count</th>\n",
       "      <td>3635.000000</td>\n",
       "      <td>3635.000000</td>\n",
       "      <td>3635.000000</td>\n",
       "      <td>3635.000000</td>\n",
       "      <td>3635.000000</td>\n",
       "      <td>3635.000000</td>\n",
       "      <td>3635.000000</td>\n",
       "      <td>3.635000e+03</td>\n",
       "      <td>3.635000e+03</td>\n",
       "      <td>2456.000000</td>\n",
       "      <td>3.635000e+03</td>\n",
       "      <td>3635.000000</td>\n",
       "    </tr>\n",
       "    <tr>\n",
       "      <th>mean</th>\n",
       "      <td>883.174292</td>\n",
       "      <td>884.399697</td>\n",
       "      <td>899.182173</td>\n",
       "      <td>869.315447</td>\n",
       "      <td>883.221871</td>\n",
       "      <td>883.338088</td>\n",
       "      <td>884.722347</td>\n",
       "      <td>1.594018e+06</td>\n",
       "      <td>1.214401e+14</td>\n",
       "      <td>51869.765472</td>\n",
       "      <td>7.434464e+05</td>\n",
       "      <td>0.438308</td>\n",
       "    </tr>\n",
       "    <tr>\n",
       "      <th>std</th>\n",
       "      <td>511.305822</td>\n",
       "      <td>511.325737</td>\n",
       "      <td>517.678224</td>\n",
       "      <td>505.245101</td>\n",
       "      <td>511.292296</td>\n",
       "      <td>511.235143</td>\n",
       "      <td>511.551922</td>\n",
       "      <td>2.039099e+06</td>\n",
       "      <td>1.493583e+14</td>\n",
       "      <td>38982.291775</td>\n",
       "      <td>1.011084e+06</td>\n",
       "      <td>0.173677</td>\n",
       "    </tr>\n",
       "    <tr>\n",
       "      <th>min</th>\n",
       "      <td>209.300000</td>\n",
       "      <td>215.250000</td>\n",
       "      <td>225.050000</td>\n",
       "      <td>205.000000</td>\n",
       "      <td>206.600000</td>\n",
       "      <td>209.300000</td>\n",
       "      <td>216.030000</td>\n",
       "      <td>1.921000e+03</td>\n",
       "      <td>9.384622e+10</td>\n",
       "      <td>187.000000</td>\n",
       "      <td>6.890000e+02</td>\n",
       "      <td>0.075300</td>\n",
       "    </tr>\n",
       "    <tr>\n",
       "      <th>25%</th>\n",
       "      <td>567.625000</td>\n",
       "      <td>570.000000</td>\n",
       "      <td>578.550000</td>\n",
       "      <td>556.200000</td>\n",
       "      <td>567.925000</td>\n",
       "      <td>568.275000</td>\n",
       "      <td>567.245000</td>\n",
       "      <td>2.393455e+05</td>\n",
       "      <td>2.048278e+13</td>\n",
       "      <td>23462.250000</td>\n",
       "      <td>7.643800e+04</td>\n",
       "      <td>0.299900</td>\n",
       "    </tr>\n",
       "    <tr>\n",
       "      <th>50%</th>\n",
       "      <td>723.550000</td>\n",
       "      <td>725.000000</td>\n",
       "      <td>736.700000</td>\n",
       "      <td>712.600000</td>\n",
       "      <td>723.950000</td>\n",
       "      <td>723.600000</td>\n",
       "      <td>724.180000</td>\n",
       "      <td>8.606800e+05</td>\n",
       "      <td>7.753787e+13</td>\n",
       "      <td>45008.000000</td>\n",
       "      <td>3.591660e+05</td>\n",
       "      <td>0.448100</td>\n",
       "    </tr>\n",
       "    <tr>\n",
       "      <th>75%</th>\n",
       "      <td>976.025000</td>\n",
       "      <td>976.000000</td>\n",
       "      <td>993.400000</td>\n",
       "      <td>961.800000</td>\n",
       "      <td>975.950000</td>\n",
       "      <td>976.025000</td>\n",
       "      <td>977.165000</td>\n",
       "      <td>2.253448e+06</td>\n",
       "      <td>1.637602e+14</td>\n",
       "      <td>70815.000000</td>\n",
       "      <td>1.127234e+06</td>\n",
       "      <td>0.572050</td>\n",
       "    </tr>\n",
       "    <tr>\n",
       "      <th>max</th>\n",
       "      <td>2921.650000</td>\n",
       "      <td>2972.000000</td>\n",
       "      <td>2995.100000</td>\n",
       "      <td>2891.750000</td>\n",
       "      <td>2920.000000</td>\n",
       "      <td>2921.650000</td>\n",
       "      <td>2935.980000</td>\n",
       "      <td>3.117145e+07</td>\n",
       "      <td>1.758825e+15</td>\n",
       "      <td>398757.000000</td>\n",
       "      <td>2.129531e+07</td>\n",
       "      <td>0.999200</td>\n",
       "    </tr>\n",
       "  </tbody>\n",
       "</table>\n",
       "</div>"
      ],
      "text/plain": [
       "        Prev Close         Open         High          Low         Last  \\\n",
       "count  3635.000000  3635.000000  3635.000000  3635.000000  3635.000000   \n",
       "mean    883.174292   884.399697   899.182173   869.315447   883.221871   \n",
       "std     511.305822   511.325737   517.678224   505.245101   511.292296   \n",
       "min     209.300000   215.250000   225.050000   205.000000   206.600000   \n",
       "25%     567.625000   570.000000   578.550000   556.200000   567.925000   \n",
       "50%     723.550000   725.000000   736.700000   712.600000   723.950000   \n",
       "75%     976.025000   976.000000   993.400000   961.800000   975.950000   \n",
       "max    2921.650000  2972.000000  2995.100000  2891.750000  2920.000000   \n",
       "\n",
       "             Close         VWAP        Volume      Turnover         Trades  \\\n",
       "count  3635.000000  3635.000000  3.635000e+03  3.635000e+03    2456.000000   \n",
       "mean    883.338088   884.722347  1.594018e+06  1.214401e+14   51869.765472   \n",
       "std     511.235143   511.551922  2.039099e+06  1.493583e+14   38982.291775   \n",
       "min     209.300000   216.030000  1.921000e+03  9.384622e+10     187.000000   \n",
       "25%     568.275000   567.245000  2.393455e+05  2.048278e+13   23462.250000   \n",
       "50%     723.600000   724.180000  8.606800e+05  7.753787e+13   45008.000000   \n",
       "75%     976.025000   977.165000  2.253448e+06  1.637602e+14   70815.000000   \n",
       "max    2921.650000  2935.980000  3.117145e+07  1.758825e+15  398757.000000   \n",
       "\n",
       "       Deliverable Volume  %Deliverble  \n",
       "count        3.635000e+03  3635.000000  \n",
       "mean         7.434464e+05     0.438308  \n",
       "std          1.011084e+06     0.173677  \n",
       "min          6.890000e+02     0.075300  \n",
       "25%          7.643800e+04     0.299900  \n",
       "50%          3.591660e+05     0.448100  \n",
       "75%          1.127234e+06     0.572050  \n",
       "max          2.129531e+07     0.999200  "
      ]
     },
     "execution_count": 146,
     "metadata": {},
     "output_type": "execute_result"
    }
   ],
   "source": [
    "stock.describe()"
   ]
  },
  {
   "cell_type": "code",
   "execution_count": 147,
   "id": "011a47e9",
   "metadata": {},
   "outputs": [],
   "source": [
    "# Ensure we are working with a copy of the DataFrame to avoid the SettingWithCopyWarning\n",
    "stock = stock.copy()"
   ]
  },
  {
   "cell_type": "code",
   "execution_count": 148,
   "id": "7758c824",
   "metadata": {},
   "outputs": [],
   "source": [
    "# Calculate HL_Perc and CO_Perc\n",
    "stock.loc[:, 'HL_Perc'] = (stock['High'] - stock['Low']) / stock['Low'] * 100\n",
    "stock.loc[:, 'CO_Perc'] = (stock['Close'] - stock['Open']) / stock['Open'] * 100"
   ]
  },
  {
   "cell_type": "code",
   "execution_count": 149,
   "id": "0bb9c198",
   "metadata": {},
   "outputs": [],
   "source": [
    "dates = np.array(stock[\"Date\"])\n",
    "dates_check = dates[-30:]\n",
    "dates = dates[:-30]"
   ]
  },
  {
   "cell_type": "code",
   "execution_count": 150,
   "id": "07901da7",
   "metadata": {},
   "outputs": [
    {
     "data": {
      "text/plain": [
       "Index(['Date', 'Symbol', 'Series', 'Prev Close', 'Open', 'High', 'Low', 'Last',\n",
       "       'Close', 'VWAP', 'Volume', 'Turnover', 'Trades', 'Deliverable Volume',\n",
       "       '%Deliverble', 'HL_Perc', 'CO_Perc'],\n",
       "      dtype='object')"
      ]
     },
     "execution_count": 150,
     "metadata": {},
     "output_type": "execute_result"
    }
   ],
   "source": [
    "stock.columns"
   ]
  },
  {
   "cell_type": "code",
   "execution_count": 151,
   "id": "75b07f7b",
   "metadata": {},
   "outputs": [],
   "source": [
    "stock = stock[[\"HL_Perc\", \"CO_Perc\", \"Close\", \"Volume\"]]"
   ]
  },
  {
   "cell_type": "code",
   "execution_count": 152,
   "id": "772db78e",
   "metadata": {},
   "outputs": [],
   "source": [
    "#Define the label column\n",
    "stock[\"PriceNextMonth\"] = stock[\"Close\"].shift(-30)"
   ]
  },
  {
   "cell_type": "code",
   "execution_count": 153,
   "id": "79011229",
   "metadata": {},
   "outputs": [
    {
     "data": {
      "text/html": [
       "<div>\n",
       "<style scoped>\n",
       "    .dataframe tbody tr th:only-of-type {\n",
       "        vertical-align: middle;\n",
       "    }\n",
       "\n",
       "    .dataframe tbody tr th {\n",
       "        vertical-align: top;\n",
       "    }\n",
       "\n",
       "    .dataframe thead th {\n",
       "        text-align: right;\n",
       "    }\n",
       "</style>\n",
       "<table border=\"1\" class=\"dataframe\">\n",
       "  <thead>\n",
       "    <tr style=\"text-align: right;\">\n",
       "      <th></th>\n",
       "      <th>HL_Perc</th>\n",
       "      <th>CO_Perc</th>\n",
       "      <th>Close</th>\n",
       "      <th>Volume</th>\n",
       "      <th>PriceNextMonth</th>\n",
       "    </tr>\n",
       "  </thead>\n",
       "  <tbody>\n",
       "    <tr>\n",
       "      <th>3630</th>\n",
       "      <td>3.521878</td>\n",
       "      <td>1.177708</td>\n",
       "      <td>962.20</td>\n",
       "      <td>5053998</td>\n",
       "      <td>NaN</td>\n",
       "    </tr>\n",
       "    <tr>\n",
       "      <th>3631</th>\n",
       "      <td>4.602023</td>\n",
       "      <td>0.680378</td>\n",
       "      <td>969.25</td>\n",
       "      <td>10497935</td>\n",
       "      <td>NaN</td>\n",
       "    </tr>\n",
       "    <tr>\n",
       "      <th>3632</th>\n",
       "      <td>1.239669</td>\n",
       "      <td>0.246154</td>\n",
       "      <td>977.40</td>\n",
       "      <td>2968625</td>\n",
       "      <td>NaN</td>\n",
       "    </tr>\n",
       "    <tr>\n",
       "      <th>3633</th>\n",
       "      <td>1.488847</td>\n",
       "      <td>-0.822335</td>\n",
       "      <td>976.90</td>\n",
       "      <td>2747579</td>\n",
       "      <td>NaN</td>\n",
       "    </tr>\n",
       "    <tr>\n",
       "      <th>3634</th>\n",
       "      <td>2.250366</td>\n",
       "      <td>-1.376053</td>\n",
       "      <td>960.40</td>\n",
       "      <td>3129105</td>\n",
       "      <td>NaN</td>\n",
       "    </tr>\n",
       "  </tbody>\n",
       "</table>\n",
       "</div>"
      ],
      "text/plain": [
       "       HL_Perc   CO_Perc   Close    Volume  PriceNextMonth\n",
       "3630  3.521878  1.177708  962.20   5053998             NaN\n",
       "3631  4.602023  0.680378  969.25  10497935             NaN\n",
       "3632  1.239669  0.246154  977.40   2968625             NaN\n",
       "3633  1.488847 -0.822335  976.90   2747579             NaN\n",
       "3634  2.250366 -1.376053  960.40   3129105             NaN"
      ]
     },
     "execution_count": 153,
     "metadata": {},
     "output_type": "execute_result"
    }
   ],
   "source": [
    "stock.tail()"
   ]
  },
  {
   "cell_type": "code",
   "execution_count": 154,
   "id": "c687b99c",
   "metadata": {},
   "outputs": [
    {
     "name": "stderr",
     "output_type": "stream",
     "text": [
      "C:\\Users\\suresh\\AppData\\Local\\Temp\\ipykernel_9868\\459189850.py:2: FutureWarning: In a future version of pandas all arguments of DataFrame.drop except for the argument 'labels' will be keyword-only.\n",
      "  X = np.array(stock.drop([\"PriceNextMonth\"], 1))\n"
     ]
    }
   ],
   "source": [
    "#Make fetaure and label arrays\n",
    "X = np.array(stock.drop([\"PriceNextMonth\"], 1))\n",
    "X = preprocessing.scale(X)\n",
    "X_Check = X[-30:]\n",
    "X = X[:-30]\n",
    "stock.dropna(inplace = True)\n",
    "y = np.array(stock[\"PriceNextMonth\"])"
   ]
  },
  {
   "cell_type": "code",
   "execution_count": 155,
   "id": "381f2472",
   "metadata": {},
   "outputs": [],
   "source": [
    "#Divide the data set into training data and testing data\n",
    "X_train, X_test, y_train, y_test = train_test_split(X,y,test_size = 0.2)"
   ]
  },
  {
   "cell_type": "code",
   "execution_count": 156,
   "id": "489c08a2",
   "metadata": {},
   "outputs": [],
   "source": [
    "#Define the prediction model\n",
    "model = RandomForestRegressor()"
   ]
  },
  {
   "cell_type": "code",
   "execution_count": 157,
   "id": "74ff8cec",
   "metadata": {},
   "outputs": [
    {
     "data": {
      "text/plain": [
       "RandomForestRegressor()"
      ]
     },
     "execution_count": 157,
     "metadata": {},
     "output_type": "execute_result"
    }
   ],
   "source": [
    "#Fit the model using training data\n",
    "model.fit(X_train, y_train)"
   ]
  },
  {
   "cell_type": "code",
   "execution_count": 158,
   "id": "520c0372",
   "metadata": {},
   "outputs": [
    {
     "name": "stdout",
     "output_type": "stream",
     "text": [
      "0.9158420196865568\n"
     ]
    }
   ],
   "source": [
    "#Calculate the confidence value by applying the model to testing data\n",
    "conf = model.score(X_test, y_test)\n",
    "print(conf)"
   ]
  },
  {
   "cell_type": "code",
   "execution_count": 159,
   "id": "b9381393",
   "metadata": {},
   "outputs": [
    {
     "data": {
      "text/plain": [
       "RandomForestRegressor()"
      ]
     },
     "execution_count": 159,
     "metadata": {},
     "output_type": "execute_result"
    }
   ],
   "source": [
    "#Fit the model again using the whole data set\n",
    "model.fit(X,y)"
   ]
  },
  {
   "cell_type": "code",
   "execution_count": 160,
   "id": "4990c67a",
   "metadata": {},
   "outputs": [],
   "source": [
    "predictions = model.predict(X_Check)"
   ]
  },
  {
   "cell_type": "code",
   "execution_count": 161,
   "id": "c0d5a9e2",
   "metadata": {},
   "outputs": [],
   "source": [
    "#Make the final DataFrame containing Dates, ClosePrices, and Forecast values\n",
    "actual = pd.DataFrame(dates, columns = [\"Date\"])\n",
    "actual[\"ClosePrice\"] = stock[\"Close\"]\n",
    "actual[\"Forecast\"] = np.nan\n",
    "actual.set_index(\"Date\", inplace = True)\n",
    "forecast = pd.DataFrame(dates_check, columns=[\"Date\"])\n",
    "forecast[\"Forecast\"] = predictions\n",
    "forecast[\"ClosePrice\"] = np.nan\n",
    "forecast.set_index(\"Date\", inplace = True)\n",
    "var = [actual, forecast]\n",
    "result = pd.concat(var)  #This is the final DataFrame"
   ]
  },
  {
   "cell_type": "code",
   "execution_count": 162,
   "id": "45722829",
   "metadata": {},
   "outputs": [
    {
     "data": {
      "text/plain": [
       "Text(0, 0.5, 'Price')"
      ]
     },
     "execution_count": 162,
     "metadata": {},
     "output_type": "execute_result"
    },
    {
     "data": {
      "image/png": "[encoded data removed]",
      "text/plain": [
       "<Figure size 2000x1000 with 1 Axes>"
      ]
     },
     "metadata": {},
     "output_type": "display_data"
    }
   ],
   "source": [
    "#Plot the final results\n",
    "result.plot(figsize=(20,10), linewidth=1.5)\n",
    "plt.legend(loc=2, prop={'size':20})\n",
    "plt.xlabel('Date')\n",
    "plt.ylabel('Price')"
   ]
  },
  {
   "cell_type": "code",
   "execution_count": null,
   "id": "e099aee8",
   "metadata": {},
   "outputs": [],
   "source": []
  },
  {
   "cell_type": "code",
   "execution_count": null,
   "id": "9f8c7a22",
   "metadata": {},
   "outputs": [],
   "source": []
  }
 ],
 "metadata": {
  "kernelspec": {
   "display_name": "Python 3 (ipykernel)",
   "language": "python",
   "name": "python3"
  },
  "language_info": {
   "codemirror_mode": {
    "name": "ipython",
    "version": 3
   },
   "file_extension": ".py",
   "mimetype": "text/x-python",
   "name": "python",
   "nbconvert_exporter": "python",
   "pygments_lexer": "ipython3",
   "version": "3.9.13"
  }
 },
 "nbformat": 4,
 "nbformat_minor": 5
}
