{
 "cells": [
  {
   "cell_type": "code",
   "execution_count": 2,
   "id": "5a20ead1",
   "metadata": {},
   "outputs": [],
   "source": [
    "#Import the libraries\n",
    "import pandas as pd \n",
    "import numpy as np \n",
    "import matplotlib.pyplot as plt \n",
    "from sklearn import preprocessing\n",
    "from sklearn.ensemble import RandomForestRegressor\n",
    "from sklearn.model_selection import train_test_split\n",
    "from sklearn.metrics import mean_absolute_error, r2_score"
   ]
  },
  {
   "cell_type": "code",
   "execution_count": 43,
   "id": "1ebabd9c",
   "metadata": {},
   "outputs": [],
   "source": [
    "stock = pd.read_csv(\"C:/Users/suresh/Desktop/PYTHON ML DATA SCIENCE/Stock Prediction/Stock Data/POWERGRID.csv\")"
   ]
  },
  {
   "cell_type": "code",
   "execution_count": 44,
   "id": "b4a873d4",
   "metadata": {},
   "outputs": [
    {
     "data": {
      "text/html": [
       "<div>\n",
       "<style scoped>\n",
       "    .dataframe tbody tr th:only-of-type {\n",
       "        vertical-align: middle;\n",
       "    }\n",
       "\n",
       "    .dataframe tbody tr th {\n",
       "        vertical-align: top;\n",
       "    }\n",
       "\n",
       "    .dataframe thead th {\n",
       "        text-align: right;\n",
       "    }\n",
       "</style>\n",
       "<table border=\"1\" class=\"dataframe\">\n",
       "  <thead>\n",
       "    <tr style=\"text-align: right;\">\n",
       "      <th></th>\n",
       "      <th>Date</th>\n",
       "      <th>Symbol</th>\n",
       "      <th>Series</th>\n",
       "      <th>Prev Close</th>\n",
       "      <th>Open</th>\n",
       "      <th>High</th>\n",
       "      <th>Low</th>\n",
       "      <th>Last</th>\n",
       "      <th>Close</th>\n",
       "      <th>VWAP</th>\n",
       "      <th>Volume</th>\n",
       "      <th>Turnover</th>\n",
       "      <th>Trades</th>\n",
       "      <th>Deliverable Volume</th>\n",
       "      <th>%Deliverble</th>\n",
       "    </tr>\n",
       "  </thead>\n",
       "  <tbody>\n",
       "    <tr>\n",
       "      <th>0</th>\n",
       "      <td>2007-10-05</td>\n",
       "      <td>POWERGRID</td>\n",
       "      <td>EQ</td>\n",
       "      <td>52.00</td>\n",
       "      <td>89.8</td>\n",
       "      <td>109.50</td>\n",
       "      <td>83.15</td>\n",
       "      <td>100.20</td>\n",
       "      <td>100.60</td>\n",
       "      <td>102.49</td>\n",
       "      <td>481058927</td>\n",
       "      <td>4.930561e+15</td>\n",
       "      <td>NaN</td>\n",
       "      <td>181390171</td>\n",
       "      <td>0.3771</td>\n",
       "    </tr>\n",
       "    <tr>\n",
       "      <th>1</th>\n",
       "      <td>2007-10-08</td>\n",
       "      <td>POWERGRID</td>\n",
       "      <td>EQ</td>\n",
       "      <td>100.60</td>\n",
       "      <td>104.0</td>\n",
       "      <td>104.00</td>\n",
       "      <td>94.85</td>\n",
       "      <td>95.30</td>\n",
       "      <td>95.45</td>\n",
       "      <td>98.12</td>\n",
       "      <td>71252858</td>\n",
       "      <td>6.991616e+14</td>\n",
       "      <td>NaN</td>\n",
       "      <td>22115293</td>\n",
       "      <td>0.3104</td>\n",
       "    </tr>\n",
       "    <tr>\n",
       "      <th>2</th>\n",
       "      <td>2007-10-09</td>\n",
       "      <td>POWERGRID</td>\n",
       "      <td>EQ</td>\n",
       "      <td>95.45</td>\n",
       "      <td>95.5</td>\n",
       "      <td>102.85</td>\n",
       "      <td>90.35</td>\n",
       "      <td>102.10</td>\n",
       "      <td>101.95</td>\n",
       "      <td>98.57</td>\n",
       "      <td>65658228</td>\n",
       "      <td>6.471784e+14</td>\n",
       "      <td>NaN</td>\n",
       "      <td>16991920</td>\n",
       "      <td>0.2588</td>\n",
       "    </tr>\n",
       "    <tr>\n",
       "      <th>3</th>\n",
       "      <td>2007-10-10</td>\n",
       "      <td>POWERGRID</td>\n",
       "      <td>EQ</td>\n",
       "      <td>101.95</td>\n",
       "      <td>104.6</td>\n",
       "      <td>105.00</td>\n",
       "      <td>102.00</td>\n",
       "      <td>102.65</td>\n",
       "      <td>102.90</td>\n",
       "      <td>103.66</td>\n",
       "      <td>38211410</td>\n",
       "      <td>3.960887e+14</td>\n",
       "      <td>NaN</td>\n",
       "      <td>16409289</td>\n",
       "      <td>0.4294</td>\n",
       "    </tr>\n",
       "    <tr>\n",
       "      <th>4</th>\n",
       "      <td>2007-10-11</td>\n",
       "      <td>POWERGRID</td>\n",
       "      <td>EQ</td>\n",
       "      <td>102.90</td>\n",
       "      <td>120.0</td>\n",
       "      <td>120.00</td>\n",
       "      <td>102.00</td>\n",
       "      <td>114.85</td>\n",
       "      <td>114.40</td>\n",
       "      <td>110.78</td>\n",
       "      <td>59805552</td>\n",
       "      <td>6.625235e+14</td>\n",
       "      <td>NaN</td>\n",
       "      <td>17530826</td>\n",
       "      <td>0.2931</td>\n",
       "    </tr>\n",
       "  </tbody>\n",
       "</table>\n",
       "</div>"
      ],
      "text/plain": [
       "         Date     Symbol Series  Prev Close   Open    High     Low    Last  \\\n",
       "0  2007-10-05  POWERGRID     EQ       52.00   89.8  109.50   83.15  100.20   \n",
       "1  2007-10-08  POWERGRID     EQ      100.60  104.0  104.00   94.85   95.30   \n",
       "2  2007-10-09  POWERGRID     EQ       95.45   95.5  102.85   90.35  102.10   \n",
       "3  2007-10-10  POWERGRID     EQ      101.95  104.6  105.00  102.00  102.65   \n",
       "4  2007-10-11  POWERGRID     EQ      102.90  120.0  120.00  102.00  114.85   \n",
       "\n",
       "    Close    VWAP     Volume      Turnover  Trades  Deliverable Volume  \\\n",
       "0  100.60  102.49  481058927  4.930561e+15     NaN           181390171   \n",
       "1   95.45   98.12   71252858  6.991616e+14     NaN            22115293   \n",
       "2  101.95   98.57   65658228  6.471784e+14     NaN            16991920   \n",
       "3  102.90  103.66   38211410  3.960887e+14     NaN            16409289   \n",
       "4  114.40  110.78   59805552  6.625235e+14     NaN            17530826   \n",
       "\n",
       "   %Deliverble  \n",
       "0       0.3771  \n",
       "1       0.3104  \n",
       "2       0.2588  \n",
       "3       0.4294  \n",
       "4       0.2931  "
      ]
     },
     "execution_count": 44,
     "metadata": {},
     "output_type": "execute_result"
    }
   ],
   "source": [
    "stock.head()"
   ]
  },
  {
   "cell_type": "code",
   "execution_count": 45,
   "id": "564201f0",
   "metadata": {},
   "outputs": [
    {
     "name": "stdout",
     "output_type": "stream",
     "text": [
      "<class 'pandas.core.frame.DataFrame'>\n",
      "RangeIndex: 3359 entries, 0 to 3358\n",
      "Data columns (total 15 columns):\n",
      " #   Column              Non-Null Count  Dtype  \n",
      "---  ------              --------------  -----  \n",
      " 0   Date                3359 non-null   object \n",
      " 1   Symbol              3359 non-null   object \n",
      " 2   Series              3359 non-null   object \n",
      " 3   Prev Close          3359 non-null   float64\n",
      " 4   Open                3359 non-null   float64\n",
      " 5   High                3359 non-null   float64\n",
      " 6   Low                 3359 non-null   float64\n",
      " 7   Last                3359 non-null   float64\n",
      " 8   Close               3359 non-null   float64\n",
      " 9   VWAP                3359 non-null   float64\n",
      " 10  Volume              3359 non-null   int64  \n",
      " 11  Turnover            3359 non-null   float64\n",
      " 12  Trades              2456 non-null   float64\n",
      " 13  Deliverable Volume  3359 non-null   int64  \n",
      " 14  %Deliverble         3359 non-null   float64\n",
      "dtypes: float64(10), int64(2), object(3)\n",
      "memory usage: 393.8+ KB\n"
     ]
    }
   ],
   "source": [
    "stock.info()"
   ]
  },
  {
   "cell_type": "code",
   "execution_count": 46,
   "id": "c9d711dd",
   "metadata": {},
   "outputs": [
    {
     "data": {
      "text/html": [
       "<div>\n",
       "<style scoped>\n",
       "    .dataframe tbody tr th:only-of-type {\n",
       "        vertical-align: middle;\n",
       "    }\n",
       "\n",
       "    .dataframe tbody tr th {\n",
       "        vertical-align: top;\n",
       "    }\n",
       "\n",
       "    .dataframe thead th {\n",
       "        text-align: right;\n",
       "    }\n",
       "</style>\n",
       "<table border=\"1\" class=\"dataframe\">\n",
       "  <thead>\n",
       "    <tr style=\"text-align: right;\">\n",
       "      <th></th>\n",
       "      <th>Prev Close</th>\n",
       "      <th>Open</th>\n",
       "      <th>High</th>\n",
       "      <th>Low</th>\n",
       "      <th>Last</th>\n",
       "      <th>Close</th>\n",
       "      <th>VWAP</th>\n",
       "      <th>Volume</th>\n",
       "      <th>Turnover</th>\n",
       "      <th>Trades</th>\n",
       "      <th>Deliverable Volume</th>\n",
       "      <th>%Deliverble</th>\n",
       "    </tr>\n",
       "  </thead>\n",
       "  <tbody>\n",
       "    <tr>\n",
       "      <th>count</th>\n",
       "      <td>3359.000000</td>\n",
       "      <td>3359.000000</td>\n",
       "      <td>3359.000000</td>\n",
       "      <td>3359.000000</td>\n",
       "      <td>3359.000000</td>\n",
       "      <td>3359.000000</td>\n",
       "      <td>3359.000000</td>\n",
       "      <td>3.359000e+03</td>\n",
       "      <td>3.359000e+03</td>\n",
       "      <td>2456.000000</td>\n",
       "      <td>3.359000e+03</td>\n",
       "      <td>3359.000000</td>\n",
       "    </tr>\n",
       "    <tr>\n",
       "      <th>mean</th>\n",
       "      <td>141.332123</td>\n",
       "      <td>141.497246</td>\n",
       "      <td>143.342513</td>\n",
       "      <td>139.468309</td>\n",
       "      <td>141.372715</td>\n",
       "      <td>141.382152</td>\n",
       "      <td>141.426859</td>\n",
       "      <td>6.019073e+06</td>\n",
       "      <td>8.986049e+13</td>\n",
       "      <td>38764.626221</td>\n",
       "      <td>3.501519e+06</td>\n",
       "      <td>0.591903</td>\n",
       "    </tr>\n",
       "    <tr>\n",
       "      <th>std</th>\n",
       "      <td>41.954289</td>\n",
       "      <td>41.993967</td>\n",
       "      <td>42.299214</td>\n",
       "      <td>41.696305</td>\n",
       "      <td>41.929357</td>\n",
       "      <td>41.947928</td>\n",
       "      <td>41.965621</td>\n",
       "      <td>1.244297e+07</td>\n",
       "      <td>1.601171e+14</td>\n",
       "      <td>28682.079786</td>\n",
       "      <td>6.577419e+06</td>\n",
       "      <td>0.149282</td>\n",
       "    </tr>\n",
       "    <tr>\n",
       "      <th>min</th>\n",
       "      <td>52.000000</td>\n",
       "      <td>61.700000</td>\n",
       "      <td>62.000000</td>\n",
       "      <td>52.000000</td>\n",
       "      <td>59.150000</td>\n",
       "      <td>58.000000</td>\n",
       "      <td>55.980000</td>\n",
       "      <td>3.406300e+04</td>\n",
       "      <td>3.824913e+11</td>\n",
       "      <td>412.000000</td>\n",
       "      <td>1.172700e+04</td>\n",
       "      <td>0.153100</td>\n",
       "    </tr>\n",
       "    <tr>\n",
       "      <th>25%</th>\n",
       "      <td>104.400000</td>\n",
       "      <td>104.475000</td>\n",
       "      <td>105.825000</td>\n",
       "      <td>103.100000</td>\n",
       "      <td>104.450000</td>\n",
       "      <td>104.425000</td>\n",
       "      <td>104.495000</td>\n",
       "      <td>2.339470e+06</td>\n",
       "      <td>2.681986e+13</td>\n",
       "      <td>18770.250000</td>\n",
       "      <td>1.310524e+06</td>\n",
       "      <td>0.487250</td>\n",
       "    </tr>\n",
       "    <tr>\n",
       "      <th>50%</th>\n",
       "      <td>133.050000</td>\n",
       "      <td>133.000000</td>\n",
       "      <td>134.850000</td>\n",
       "      <td>131.250000</td>\n",
       "      <td>133.000000</td>\n",
       "      <td>133.050000</td>\n",
       "      <td>133.200000</td>\n",
       "      <td>3.947345e+06</td>\n",
       "      <td>5.318995e+13</td>\n",
       "      <td>32081.000000</td>\n",
       "      <td>2.325513e+06</td>\n",
       "      <td>0.617200</td>\n",
       "    </tr>\n",
       "    <tr>\n",
       "      <th>75%</th>\n",
       "      <td>185.075000</td>\n",
       "      <td>185.475000</td>\n",
       "      <td>187.875000</td>\n",
       "      <td>182.925000</td>\n",
       "      <td>185.250000</td>\n",
       "      <td>185.150000</td>\n",
       "      <td>185.325000</td>\n",
       "      <td>6.629918e+06</td>\n",
       "      <td>1.039562e+14</td>\n",
       "      <td>50584.500000</td>\n",
       "      <td>4.051940e+06</td>\n",
       "      <td>0.702900</td>\n",
       "    </tr>\n",
       "    <tr>\n",
       "      <th>max</th>\n",
       "      <td>236.500000</td>\n",
       "      <td>234.400000</td>\n",
       "      <td>238.300000</td>\n",
       "      <td>228.750000</td>\n",
       "      <td>235.250000</td>\n",
       "      <td>236.500000</td>\n",
       "      <td>234.930000</td>\n",
       "      <td>4.810589e+08</td>\n",
       "      <td>4.930561e+15</td>\n",
       "      <td>350022.000000</td>\n",
       "      <td>1.856564e+08</td>\n",
       "      <td>0.997200</td>\n",
       "    </tr>\n",
       "  </tbody>\n",
       "</table>\n",
       "</div>"
      ],
      "text/plain": [
       "        Prev Close         Open         High          Low         Last  \\\n",
       "count  3359.000000  3359.000000  3359.000000  3359.000000  3359.000000   \n",
       "mean    141.332123   141.497246   143.342513   139.468309   141.372715   \n",
       "std      41.954289    41.993967    42.299214    41.696305    41.929357   \n",
       "min      52.000000    61.700000    62.000000    52.000000    59.150000   \n",
       "25%     104.400000   104.475000   105.825000   103.100000   104.450000   \n",
       "50%     133.050000   133.000000   134.850000   131.250000   133.000000   \n",
       "75%     185.075000   185.475000   187.875000   182.925000   185.250000   \n",
       "max     236.500000   234.400000   238.300000   228.750000   235.250000   \n",
       "\n",
       "             Close         VWAP        Volume      Turnover         Trades  \\\n",
       "count  3359.000000  3359.000000  3.359000e+03  3.359000e+03    2456.000000   \n",
       "mean    141.382152   141.426859  6.019073e+06  8.986049e+13   38764.626221   \n",
       "std      41.947928    41.965621  1.244297e+07  1.601171e+14   28682.079786   \n",
       "min      58.000000    55.980000  3.406300e+04  3.824913e+11     412.000000   \n",
       "25%     104.425000   104.495000  2.339470e+06  2.681986e+13   18770.250000   \n",
       "50%     133.050000   133.200000  3.947345e+06  5.318995e+13   32081.000000   \n",
       "75%     185.150000   185.325000  6.629918e+06  1.039562e+14   50584.500000   \n",
       "max     236.500000   234.930000  4.810589e+08  4.930561e+15  350022.000000   \n",
       "\n",
       "       Deliverable Volume  %Deliverble  \n",
       "count        3.359000e+03  3359.000000  \n",
       "mean         3.501519e+06     0.591903  \n",
       "std          6.577419e+06     0.149282  \n",
       "min          1.172700e+04     0.153100  \n",
       "25%          1.310524e+06     0.487250  \n",
       "50%          2.325513e+06     0.617200  \n",
       "75%          4.051940e+06     0.702900  \n",
       "max          1.856564e+08     0.997200  "
      ]
     },
     "execution_count": 46,
     "metadata": {},
     "output_type": "execute_result"
    }
   ],
   "source": [
    "stock.describe()"
   ]
  },
  {
   "cell_type": "code",
   "execution_count": 47,
   "id": "011a47e9",
   "metadata": {},
   "outputs": [],
   "source": [
    "# Ensure we are working with a copy of the DataFrame to avoid the SettingWithCopyWarning\n",
    "stock = stock.copy()"
   ]
  },
  {
   "cell_type": "code",
   "execution_count": 48,
   "id": "7758c824",
   "metadata": {},
   "outputs": [],
   "source": [
    "# Calculate HL_Perc and CO_Perc\n",
    "stock.loc[:, 'HL_Perc'] = (stock['High'] - stock['Low']) / stock['Low'] * 100\n",
    "stock.loc[:, 'CO_Perc'] = (stock['Close'] - stock['Open']) / stock['Open'] * 100"
   ]
  },
  {
   "cell_type": "code",
   "execution_count": 49,
   "id": "0bb9c198",
   "metadata": {},
   "outputs": [],
   "source": [
    "dates = np.array(stock[\"Date\"])\n",
    "dates_check = dates[-30:]\n",
    "dates = dates[:-30]"
   ]
  },
  {
   "cell_type": "code",
   "execution_count": 50,
   "id": "07901da7",
   "metadata": {},
   "outputs": [
    {
     "data": {
      "text/plain": [
       "Index(['Date', 'Symbol', 'Series', 'Prev Close', 'Open', 'High', 'Low', 'Last',\n",
       "       'Close', 'VWAP', 'Volume', 'Turnover', 'Trades', 'Deliverable Volume',\n",
       "       '%Deliverble', 'HL_Perc', 'CO_Perc'],\n",
       "      dtype='object')"
      ]
     },
     "execution_count": 50,
     "metadata": {},
     "output_type": "execute_result"
    }
   ],
   "source": [
    "stock.columns"
   ]
  },
  {
   "cell_type": "code",
   "execution_count": 51,
   "id": "75b07f7b",
   "metadata": {},
   "outputs": [],
   "source": [
    "stock = stock[[\"HL_Perc\", \"CO_Perc\", \"Close\", \"Volume\"]]"
   ]
  },
  {
   "cell_type": "code",
   "execution_count": 52,
   "id": "772db78e",
   "metadata": {},
   "outputs": [],
   "source": [
    "#Define the label column\n",
    "stock[\"PriceNextMonth\"] = stock[\"Close\"].shift(-30)"
   ]
  },
  {
   "cell_type": "code",
   "execution_count": 53,
   "id": "79011229",
   "metadata": {},
   "outputs": [
    {
     "data": {
      "text/html": [
       "<div>\n",
       "<style scoped>\n",
       "    .dataframe tbody tr th:only-of-type {\n",
       "        vertical-align: middle;\n",
       "    }\n",
       "\n",
       "    .dataframe tbody tr th {\n",
       "        vertical-align: top;\n",
       "    }\n",
       "\n",
       "    .dataframe thead th {\n",
       "        text-align: right;\n",
       "    }\n",
       "</style>\n",
       "<table border=\"1\" class=\"dataframe\">\n",
       "  <thead>\n",
       "    <tr style=\"text-align: right;\">\n",
       "      <th></th>\n",
       "      <th>HL_Perc</th>\n",
       "      <th>CO_Perc</th>\n",
       "      <th>Close</th>\n",
       "      <th>Volume</th>\n",
       "      <th>PriceNextMonth</th>\n",
       "    </tr>\n",
       "  </thead>\n",
       "  <tbody>\n",
       "    <tr>\n",
       "      <th>3354</th>\n",
       "      <td>3.962536</td>\n",
       "      <td>3.650336</td>\n",
       "      <td>215.80</td>\n",
       "      <td>10765892</td>\n",
       "      <td>NaN</td>\n",
       "    </tr>\n",
       "    <tr>\n",
       "      <th>3355</th>\n",
       "      <td>2.177943</td>\n",
       "      <td>0.277713</td>\n",
       "      <td>216.65</td>\n",
       "      <td>8589721</td>\n",
       "      <td>NaN</td>\n",
       "    </tr>\n",
       "    <tr>\n",
       "      <th>3356</th>\n",
       "      <td>2.496533</td>\n",
       "      <td>0.959781</td>\n",
       "      <td>220.90</td>\n",
       "      <td>9215766</td>\n",
       "      <td>NaN</td>\n",
       "    </tr>\n",
       "    <tr>\n",
       "      <th>3357</th>\n",
       "      <td>2.099977</td>\n",
       "      <td>-1.322277</td>\n",
       "      <td>220.15</td>\n",
       "      <td>8303610</td>\n",
       "      <td>NaN</td>\n",
       "    </tr>\n",
       "    <tr>\n",
       "      <th>3358</th>\n",
       "      <td>2.607893</td>\n",
       "      <td>1.056257</td>\n",
       "      <td>220.05</td>\n",
       "      <td>9504624</td>\n",
       "      <td>NaN</td>\n",
       "    </tr>\n",
       "  </tbody>\n",
       "</table>\n",
       "</div>"
      ],
      "text/plain": [
       "       HL_Perc   CO_Perc   Close    Volume  PriceNextMonth\n",
       "3354  3.962536  3.650336  215.80  10765892             NaN\n",
       "3355  2.177943  0.277713  216.65   8589721             NaN\n",
       "3356  2.496533  0.959781  220.90   9215766             NaN\n",
       "3357  2.099977 -1.322277  220.15   8303610             NaN\n",
       "3358  2.607893  1.056257  220.05   9504624             NaN"
      ]
     },
     "execution_count": 53,
     "metadata": {},
     "output_type": "execute_result"
    }
   ],
   "source": [
    "stock.tail()"
   ]
  },
  {
   "cell_type": "code",
   "execution_count": 54,
   "id": "c687b99c",
   "metadata": {},
   "outputs": [
    {
     "name": "stderr",
     "output_type": "stream",
     "text": [
      "C:\\Users\\suresh\\AppData\\Local\\Temp\\ipykernel_9868\\459189850.py:2: FutureWarning: In a future version of pandas all arguments of DataFrame.drop except for the argument 'labels' will be keyword-only.\n",
      "  X = np.array(stock.drop([\"PriceNextMonth\"], 1))\n"
     ]
    }
   ],
   "source": [
    "#Make fetaure and label arrays\n",
    "X = np.array(stock.drop([\"PriceNextMonth\"], 1))\n",
    "X = preprocessing.scale(X)\n",
    "X_Check = X[-30:]\n",
    "X = X[:-30]\n",
    "stock.dropna(inplace = True)\n",
    "y = np.array(stock[\"PriceNextMonth\"])"
   ]
  },
  {
   "cell_type": "code",
   "execution_count": 55,
   "id": "381f2472",
   "metadata": {},
   "outputs": [],
   "source": [
    "#Divide the data set into training data and testing data\n",
    "X_train, X_test, y_train, y_test = train_test_split(X,y,test_size = 0.2)"
   ]
  },
  {
   "cell_type": "code",
   "execution_count": 56,
   "id": "489c08a2",
   "metadata": {},
   "outputs": [],
   "source": [
    "#Define the prediction model\n",
    "model = RandomForestRegressor()"
   ]
  },
  {
   "cell_type": "code",
   "execution_count": 57,
   "id": "74ff8cec",
   "metadata": {},
   "outputs": [
    {
     "data": {
      "text/plain": [
       "RandomForestRegressor()"
      ]
     },
     "execution_count": 57,
     "metadata": {},
     "output_type": "execute_result"
    }
   ],
   "source": [
    "#Fit the model using training data\n",
    "model.fit(X_train, y_train)"
   ]
  },
  {
   "cell_type": "code",
   "execution_count": 58,
   "id": "520c0372",
   "metadata": {},
   "outputs": [
    {
     "name": "stdout",
     "output_type": "stream",
     "text": [
      "0.9415658456966409\n"
     ]
    }
   ],
   "source": [
    "#Calculate the confidence value by applying the model to testing data\n",
    "conf = model.score(X_test, y_test)\n",
    "print(conf)"
   ]
  },
  {
   "cell_type": "code",
   "execution_count": 59,
   "id": "b9381393",
   "metadata": {},
   "outputs": [
    {
     "data": {
      "text/plain": [
       "RandomForestRegressor()"
      ]
     },
     "execution_count": 59,
     "metadata": {},
     "output_type": "execute_result"
    }
   ],
   "source": [
    "#Fit the model again using the whole data set\n",
    "model.fit(X,y)"
   ]
  },
  {
   "cell_type": "code",
   "execution_count": 60,
   "id": "4990c67a",
   "metadata": {},
   "outputs": [],
   "source": [
    "predictions = model.predict(X_Check)"
   ]
  },
  {
   "cell_type": "code",
   "execution_count": 61,
   "id": "c0d5a9e2",
   "metadata": {},
   "outputs": [],
   "source": [
    "#Make the final DataFrame containing Dates, ClosePrices, and Forecast values\n",
    "actual = pd.DataFrame(dates, columns = [\"Date\"])\n",
    "actual[\"ClosePrice\"] = stock[\"Close\"]\n",
    "actual[\"Forecast\"] = np.nan\n",
    "actual.set_index(\"Date\", inplace = True)\n",
    "forecast = pd.DataFrame(dates_check, columns=[\"Date\"])\n",
    "forecast[\"Forecast\"] = predictions\n",
    "forecast[\"ClosePrice\"] = np.nan\n",
    "forecast.set_index(\"Date\", inplace = True)\n",
    "var = [actual, forecast]\n",
    "result = pd.concat(var)  #This is the final DataFrame"
   ]
  },
  {
   "cell_type": "code",
   "execution_count": 62,
   "id": "45722829",
   "metadata": {},
   "outputs": [
    {
     "data": {
      "text/plain": [
       "Text(0, 0.5, 'Price')"
      ]
     },
     "execution_count": 62,
     "metadata": {},
     "output_type": "execute_result"
    },
    {
     "data": {
      "image/png": "[encoded data removed]",
      "text/plain": [
       "<Figure size 2000x1000 with 1 Axes>"
      ]
     },
     "metadata": {},
     "output_type": "display_data"
    }
   ],
   "source": [
    "#Plot the final results\n",
    "result.plot(figsize=(20,10), linewidth=1.5)\n",
    "plt.legend(loc=2, prop={'size':20})\n",
    "plt.xlabel('Date')\n",
    "plt.ylabel('Price')"
   ]
  },
  {
   "cell_type": "code",
   "execution_count": null,
   "id": "e099aee8",
   "metadata": {},
   "outputs": [],
   "source": []
  },
  {
   "cell_type": "code",
   "execution_count": null,
   "id": "9f8c7a22",
   "metadata": {},
   "outputs": [],
   "source": []
  }
 ],
 "metadata": {
  "kernelspec": {
   "display_name": "Python 3 (ipykernel)",
   "language": "python",
   "name": "python3"
  },
  "language_info": {
   "codemirror_mode": {
    "name": "ipython",
    "version": 3
   },
   "file_extension": ".py",
   "mimetype": "text/x-python",
   "name": "python",
   "nbconvert_exporter": "python",
   "pygments_lexer": "ipython3",
   "version": "3.9.13"
  }
 },
 "nbformat": 4,
 "nbformat_minor": 5
}
