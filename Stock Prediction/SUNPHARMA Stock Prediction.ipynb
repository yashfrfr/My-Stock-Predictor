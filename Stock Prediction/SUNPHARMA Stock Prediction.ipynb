{
 "cells": [
  {
   "cell_type": "code",
   "execution_count": 2,
   "id": "5a20ead1",
   "metadata": {},
   "outputs": [],
   "source": [
    "#Import the libraries\n",
    "import pandas as pd \n",
    "import numpy as np \n",
    "import matplotlib.pyplot as plt \n",
    "from sklearn import preprocessing\n",
    "from sklearn.ensemble import RandomForestRegressor\n",
    "from sklearn.model_selection import train_test_split\n",
    "from sklearn.metrics import mean_absolute_error, r2_score"
   ]
  },
  {
   "cell_type": "code",
   "execution_count": 103,
   "id": "1ebabd9c",
   "metadata": {},
   "outputs": [],
   "source": [
    "stock = pd.read_csv(\"C:/Users/suresh/Desktop/PYTHON ML DATA SCIENCE/Stock Prediction/Stock Data/SUNPHARMA.csv\")"
   ]
  },
  {
   "cell_type": "code",
   "execution_count": 104,
   "id": "b4a873d4",
   "metadata": {},
   "outputs": [
    {
     "data": {
      "text/html": [
       "<div>\n",
       "<style scoped>\n",
       "    .dataframe tbody tr th:only-of-type {\n",
       "        vertical-align: middle;\n",
       "    }\n",
       "\n",
       "    .dataframe tbody tr th {\n",
       "        vertical-align: top;\n",
       "    }\n",
       "\n",
       "    .dataframe thead th {\n",
       "        text-align: right;\n",
       "    }\n",
       "</style>\n",
       "<table border=\"1\" class=\"dataframe\">\n",
       "  <thead>\n",
       "    <tr style=\"text-align: right;\">\n",
       "      <th></th>\n",
       "      <th>Date</th>\n",
       "      <th>Symbol</th>\n",
       "      <th>Series</th>\n",
       "      <th>Prev Close</th>\n",
       "      <th>Open</th>\n",
       "      <th>High</th>\n",
       "      <th>Low</th>\n",
       "      <th>Last</th>\n",
       "      <th>Close</th>\n",
       "      <th>VWAP</th>\n",
       "      <th>Volume</th>\n",
       "      <th>Turnover</th>\n",
       "      <th>Trades</th>\n",
       "      <th>Deliverable Volume</th>\n",
       "      <th>%Deliverble</th>\n",
       "    </tr>\n",
       "  </thead>\n",
       "  <tbody>\n",
       "    <tr>\n",
       "      <th>0</th>\n",
       "      <td>2000-01-03</td>\n",
       "      <td>SUNPHARMA</td>\n",
       "      <td>EQ</td>\n",
       "      <td>1699.10</td>\n",
       "      <td>1800.0</td>\n",
       "      <td>1835.05</td>\n",
       "      <td>1760.0</td>\n",
       "      <td>1835.05</td>\n",
       "      <td>1835.05</td>\n",
       "      <td>1825.90</td>\n",
       "      <td>3024</td>\n",
       "      <td>5.521525e+11</td>\n",
       "      <td>NaN</td>\n",
       "      <td>NaN</td>\n",
       "      <td>NaN</td>\n",
       "    </tr>\n",
       "    <tr>\n",
       "      <th>1</th>\n",
       "      <td>2000-01-04</td>\n",
       "      <td>SUNPHARMA</td>\n",
       "      <td>EQ</td>\n",
       "      <td>1835.05</td>\n",
       "      <td>1960.0</td>\n",
       "      <td>1960.00</td>\n",
       "      <td>1763.0</td>\n",
       "      <td>1811.50</td>\n",
       "      <td>1810.45</td>\n",
       "      <td>1805.97</td>\n",
       "      <td>5787</td>\n",
       "      <td>1.045115e+12</td>\n",
       "      <td>NaN</td>\n",
       "      <td>NaN</td>\n",
       "      <td>NaN</td>\n",
       "    </tr>\n",
       "    <tr>\n",
       "      <th>2</th>\n",
       "      <td>2000-01-05</td>\n",
       "      <td>SUNPHARMA</td>\n",
       "      <td>EQ</td>\n",
       "      <td>1810.45</td>\n",
       "      <td>1845.0</td>\n",
       "      <td>1845.00</td>\n",
       "      <td>1740.0</td>\n",
       "      <td>1745.00</td>\n",
       "      <td>1746.90</td>\n",
       "      <td>1766.69</td>\n",
       "      <td>6105</td>\n",
       "      <td>1.078564e+12</td>\n",
       "      <td>NaN</td>\n",
       "      <td>NaN</td>\n",
       "      <td>NaN</td>\n",
       "    </tr>\n",
       "    <tr>\n",
       "      <th>3</th>\n",
       "      <td>2000-01-06</td>\n",
       "      <td>SUNPHARMA</td>\n",
       "      <td>EQ</td>\n",
       "      <td>1746.90</td>\n",
       "      <td>1750.0</td>\n",
       "      <td>1795.00</td>\n",
       "      <td>1735.0</td>\n",
       "      <td>1748.00</td>\n",
       "      <td>1745.20</td>\n",
       "      <td>1749.32</td>\n",
       "      <td>3472</td>\n",
       "      <td>6.073632e+11</td>\n",
       "      <td>NaN</td>\n",
       "      <td>NaN</td>\n",
       "      <td>NaN</td>\n",
       "    </tr>\n",
       "    <tr>\n",
       "      <th>4</th>\n",
       "      <td>2000-01-07</td>\n",
       "      <td>SUNPHARMA</td>\n",
       "      <td>EQ</td>\n",
       "      <td>1745.20</td>\n",
       "      <td>1705.0</td>\n",
       "      <td>1705.00</td>\n",
       "      <td>1605.6</td>\n",
       "      <td>1605.60</td>\n",
       "      <td>1605.60</td>\n",
       "      <td>1621.51</td>\n",
       "      <td>4125</td>\n",
       "      <td>6.688740e+11</td>\n",
       "      <td>NaN</td>\n",
       "      <td>NaN</td>\n",
       "      <td>NaN</td>\n",
       "    </tr>\n",
       "  </tbody>\n",
       "</table>\n",
       "</div>"
      ],
      "text/plain": [
       "         Date     Symbol Series  Prev Close    Open     High     Low     Last  \\\n",
       "0  2000-01-03  SUNPHARMA     EQ     1699.10  1800.0  1835.05  1760.0  1835.05   \n",
       "1  2000-01-04  SUNPHARMA     EQ     1835.05  1960.0  1960.00  1763.0  1811.50   \n",
       "2  2000-01-05  SUNPHARMA     EQ     1810.45  1845.0  1845.00  1740.0  1745.00   \n",
       "3  2000-01-06  SUNPHARMA     EQ     1746.90  1750.0  1795.00  1735.0  1748.00   \n",
       "4  2000-01-07  SUNPHARMA     EQ     1745.20  1705.0  1705.00  1605.6  1605.60   \n",
       "\n",
       "     Close     VWAP  Volume      Turnover  Trades  Deliverable Volume  \\\n",
       "0  1835.05  1825.90    3024  5.521525e+11     NaN                 NaN   \n",
       "1  1810.45  1805.97    5787  1.045115e+12     NaN                 NaN   \n",
       "2  1746.90  1766.69    6105  1.078564e+12     NaN                 NaN   \n",
       "3  1745.20  1749.32    3472  6.073632e+11     NaN                 NaN   \n",
       "4  1605.60  1621.51    4125  6.688740e+11     NaN                 NaN   \n",
       "\n",
       "   %Deliverble  \n",
       "0          NaN  \n",
       "1          NaN  \n",
       "2          NaN  \n",
       "3          NaN  \n",
       "4          NaN  "
      ]
     },
     "execution_count": 104,
     "metadata": {},
     "output_type": "execute_result"
    }
   ],
   "source": [
    "stock.head()"
   ]
  },
  {
   "cell_type": "code",
   "execution_count": 105,
   "id": "564201f0",
   "metadata": {},
   "outputs": [
    {
     "name": "stdout",
     "output_type": "stream",
     "text": [
      "<class 'pandas.core.frame.DataFrame'>\n",
      "RangeIndex: 5306 entries, 0 to 5305\n",
      "Data columns (total 15 columns):\n",
      " #   Column              Non-Null Count  Dtype  \n",
      "---  ------              --------------  -----  \n",
      " 0   Date                5306 non-null   object \n",
      " 1   Symbol              5306 non-null   object \n",
      " 2   Series              5306 non-null   object \n",
      " 3   Prev Close          5306 non-null   float64\n",
      " 4   Open                5306 non-null   float64\n",
      " 5   High                5306 non-null   float64\n",
      " 6   Low                 5306 non-null   float64\n",
      " 7   Last                5306 non-null   float64\n",
      " 8   Close               5306 non-null   float64\n",
      " 9   VWAP                5306 non-null   float64\n",
      " 10  Volume              5306 non-null   int64  \n",
      " 11  Turnover            5306 non-null   float64\n",
      " 12  Trades              2456 non-null   float64\n",
      " 13  Deliverable Volume  4778 non-null   float64\n",
      " 14  %Deliverble         4778 non-null   float64\n",
      "dtypes: float64(11), int64(1), object(3)\n",
      "memory usage: 621.9+ KB\n"
     ]
    }
   ],
   "source": [
    "stock.info()"
   ]
  },
  {
   "cell_type": "code",
   "execution_count": 106,
   "id": "c9d711dd",
   "metadata": {},
   "outputs": [
    {
     "data": {
      "text/html": [
       "<div>\n",
       "<style scoped>\n",
       "    .dataframe tbody tr th:only-of-type {\n",
       "        vertical-align: middle;\n",
       "    }\n",
       "\n",
       "    .dataframe tbody tr th {\n",
       "        vertical-align: top;\n",
       "    }\n",
       "\n",
       "    .dataframe thead th {\n",
       "        text-align: right;\n",
       "    }\n",
       "</style>\n",
       "<table border=\"1\" class=\"dataframe\">\n",
       "  <thead>\n",
       "    <tr style=\"text-align: right;\">\n",
       "      <th></th>\n",
       "      <th>Prev Close</th>\n",
       "      <th>Open</th>\n",
       "      <th>High</th>\n",
       "      <th>Low</th>\n",
       "      <th>Last</th>\n",
       "      <th>Close</th>\n",
       "      <th>VWAP</th>\n",
       "      <th>Volume</th>\n",
       "      <th>Turnover</th>\n",
       "      <th>Trades</th>\n",
       "      <th>Deliverable Volume</th>\n",
       "      <th>%Deliverble</th>\n",
       "    </tr>\n",
       "  </thead>\n",
       "  <tbody>\n",
       "    <tr>\n",
       "      <th>count</th>\n",
       "      <td>5306.000000</td>\n",
       "      <td>5306.000000</td>\n",
       "      <td>5306.000000</td>\n",
       "      <td>5306.000000</td>\n",
       "      <td>5306.000000</td>\n",
       "      <td>5306.000000</td>\n",
       "      <td>5306.000000</td>\n",
       "      <td>5.306000e+03</td>\n",
       "      <td>5.306000e+03</td>\n",
       "      <td>2456.000000</td>\n",
       "      <td>4.778000e+03</td>\n",
       "      <td>4778.000000</td>\n",
       "    </tr>\n",
       "    <tr>\n",
       "      <th>mean</th>\n",
       "      <td>747.503986</td>\n",
       "      <td>748.091887</td>\n",
       "      <td>761.003421</td>\n",
       "      <td>734.275905</td>\n",
       "      <td>747.220307</td>\n",
       "      <td>747.307105</td>\n",
       "      <td>747.717938</td>\n",
       "      <td>2.227251e+06</td>\n",
       "      <td>1.321695e+14</td>\n",
       "      <td>78354.908795</td>\n",
       "      <td>9.994654e+05</td>\n",
       "      <td>0.556243</td>\n",
       "    </tr>\n",
       "    <tr>\n",
       "      <th>std</th>\n",
       "      <td>361.700518</td>\n",
       "      <td>362.525350</td>\n",
       "      <td>369.649342</td>\n",
       "      <td>354.184039</td>\n",
       "      <td>361.241519</td>\n",
       "      <td>361.466683</td>\n",
       "      <td>361.615528</td>\n",
       "      <td>5.634408e+06</td>\n",
       "      <td>4.044806e+14</td>\n",
       "      <td>64095.248957</td>\n",
       "      <td>3.445982e+06</td>\n",
       "      <td>0.174570</td>\n",
       "    </tr>\n",
       "    <tr>\n",
       "      <th>min</th>\n",
       "      <td>267.400000</td>\n",
       "      <td>266.000000</td>\n",
       "      <td>275.000000</td>\n",
       "      <td>256.000000</td>\n",
       "      <td>264.950000</td>\n",
       "      <td>267.400000</td>\n",
       "      <td>270.120000</td>\n",
       "      <td>2.650000e+02</td>\n",
       "      <td>1.477400e+10</td>\n",
       "      <td>567.000000</td>\n",
       "      <td>3.910000e+02</td>\n",
       "      <td>0.081300</td>\n",
       "    </tr>\n",
       "    <tr>\n",
       "      <th>25%</th>\n",
       "      <td>512.662500</td>\n",
       "      <td>514.000000</td>\n",
       "      <td>522.000000</td>\n",
       "      <td>504.550000</td>\n",
       "      <td>512.550000</td>\n",
       "      <td>512.662500</td>\n",
       "      <td>513.467500</td>\n",
       "      <td>7.920475e+04</td>\n",
       "      <td>5.349111e+12</td>\n",
       "      <td>39602.000000</td>\n",
       "      <td>7.045875e+04</td>\n",
       "      <td>0.447000</td>\n",
       "    </tr>\n",
       "    <tr>\n",
       "      <th>50%</th>\n",
       "      <td>616.075000</td>\n",
       "      <td>618.275000</td>\n",
       "      <td>626.575000</td>\n",
       "      <td>606.100000</td>\n",
       "      <td>616.000000</td>\n",
       "      <td>616.075000</td>\n",
       "      <td>616.825000</td>\n",
       "      <td>4.253940e+05</td>\n",
       "      <td>3.715205e+13</td>\n",
       "      <td>64567.500000</td>\n",
       "      <td>3.961255e+05</td>\n",
       "      <td>0.577900</td>\n",
       "    </tr>\n",
       "    <tr>\n",
       "      <th>75%</th>\n",
       "      <td>881.250000</td>\n",
       "      <td>883.200000</td>\n",
       "      <td>895.000000</td>\n",
       "      <td>866.737500</td>\n",
       "      <td>880.937500</td>\n",
       "      <td>879.912500</td>\n",
       "      <td>880.980000</td>\n",
       "      <td>2.596622e+06</td>\n",
       "      <td>1.747032e+14</td>\n",
       "      <td>97365.250000</td>\n",
       "      <td>1.404886e+06</td>\n",
       "      <td>0.676625</td>\n",
       "    </tr>\n",
       "    <tr>\n",
       "      <th>max</th>\n",
       "      <td>2877.000000</td>\n",
       "      <td>2975.000000</td>\n",
       "      <td>3107.000000</td>\n",
       "      <td>2647.000000</td>\n",
       "      <td>2877.200000</td>\n",
       "      <td>2877.000000</td>\n",
       "      <td>2909.160000</td>\n",
       "      <td>2.657094e+08</td>\n",
       "      <td>2.481773e+16</td>\n",
       "      <td>855830.000000</td>\n",
       "      <td>2.163778e+08</td>\n",
       "      <td>1.000000</td>\n",
       "    </tr>\n",
       "  </tbody>\n",
       "</table>\n",
       "</div>"
      ],
      "text/plain": [
       "        Prev Close         Open         High          Low         Last  \\\n",
       "count  5306.000000  5306.000000  5306.000000  5306.000000  5306.000000   \n",
       "mean    747.503986   748.091887   761.003421   734.275905   747.220307   \n",
       "std     361.700518   362.525350   369.649342   354.184039   361.241519   \n",
       "min     267.400000   266.000000   275.000000   256.000000   264.950000   \n",
       "25%     512.662500   514.000000   522.000000   504.550000   512.550000   \n",
       "50%     616.075000   618.275000   626.575000   606.100000   616.000000   \n",
       "75%     881.250000   883.200000   895.000000   866.737500   880.937500   \n",
       "max    2877.000000  2975.000000  3107.000000  2647.000000  2877.200000   \n",
       "\n",
       "             Close         VWAP        Volume      Turnover         Trades  \\\n",
       "count  5306.000000  5306.000000  5.306000e+03  5.306000e+03    2456.000000   \n",
       "mean    747.307105   747.717938  2.227251e+06  1.321695e+14   78354.908795   \n",
       "std     361.466683   361.615528  5.634408e+06  4.044806e+14   64095.248957   \n",
       "min     267.400000   270.120000  2.650000e+02  1.477400e+10     567.000000   \n",
       "25%     512.662500   513.467500  7.920475e+04  5.349111e+12   39602.000000   \n",
       "50%     616.075000   616.825000  4.253940e+05  3.715205e+13   64567.500000   \n",
       "75%     879.912500   880.980000  2.596622e+06  1.747032e+14   97365.250000   \n",
       "max    2877.000000  2909.160000  2.657094e+08  2.481773e+16  855830.000000   \n",
       "\n",
       "       Deliverable Volume  %Deliverble  \n",
       "count        4.778000e+03  4778.000000  \n",
       "mean         9.994654e+05     0.556243  \n",
       "std          3.445982e+06     0.174570  \n",
       "min          3.910000e+02     0.081300  \n",
       "25%          7.045875e+04     0.447000  \n",
       "50%          3.961255e+05     0.577900  \n",
       "75%          1.404886e+06     0.676625  \n",
       "max          2.163778e+08     1.000000  "
      ]
     },
     "execution_count": 106,
     "metadata": {},
     "output_type": "execute_result"
    }
   ],
   "source": [
    "stock.describe()"
   ]
  },
  {
   "cell_type": "code",
   "execution_count": 107,
   "id": "011a47e9",
   "metadata": {},
   "outputs": [],
   "source": [
    "# Ensure we are working with a copy of the DataFrame to avoid the SettingWithCopyWarning\n",
    "stock = stock.copy()"
   ]
  },
  {
   "cell_type": "code",
   "execution_count": 108,
   "id": "7758c824",
   "metadata": {},
   "outputs": [],
   "source": [
    "# Calculate HL_Perc and CO_Perc\n",
    "stock.loc[:, 'HL_Perc'] = (stock['High'] - stock['Low']) / stock['Low'] * 100\n",
    "stock.loc[:, 'CO_Perc'] = (stock['Close'] - stock['Open']) / stock['Open'] * 100"
   ]
  },
  {
   "cell_type": "code",
   "execution_count": 109,
   "id": "0bb9c198",
   "metadata": {},
   "outputs": [],
   "source": [
    "dates = np.array(stock[\"Date\"])\n",
    "dates_check = dates[-30:]\n",
    "dates = dates[:-30]"
   ]
  },
  {
   "cell_type": "code",
   "execution_count": 110,
   "id": "07901da7",
   "metadata": {},
   "outputs": [
    {
     "data": {
      "text/plain": [
       "Index(['Date', 'Symbol', 'Series', 'Prev Close', 'Open', 'High', 'Low', 'Last',\n",
       "       'Close', 'VWAP', 'Volume', 'Turnover', 'Trades', 'Deliverable Volume',\n",
       "       '%Deliverble', 'HL_Perc', 'CO_Perc'],\n",
       "      dtype='object')"
      ]
     },
     "execution_count": 110,
     "metadata": {},
     "output_type": "execute_result"
    }
   ],
   "source": [
    "stock.columns"
   ]
  },
  {
   "cell_type": "code",
   "execution_count": 111,
   "id": "75b07f7b",
   "metadata": {},
   "outputs": [],
   "source": [
    "stock = stock[[\"HL_Perc\", \"CO_Perc\", \"Close\", \"Volume\"]]"
   ]
  },
  {
   "cell_type": "code",
   "execution_count": 112,
   "id": "772db78e",
   "metadata": {},
   "outputs": [],
   "source": [
    "#Define the label column\n",
    "stock[\"PriceNextMonth\"] = stock[\"Close\"].shift(-30)"
   ]
  },
  {
   "cell_type": "code",
   "execution_count": 113,
   "id": "79011229",
   "metadata": {},
   "outputs": [
    {
     "data": {
      "text/html": [
       "<div>\n",
       "<style scoped>\n",
       "    .dataframe tbody tr th:only-of-type {\n",
       "        vertical-align: middle;\n",
       "    }\n",
       "\n",
       "    .dataframe tbody tr th {\n",
       "        vertical-align: top;\n",
       "    }\n",
       "\n",
       "    .dataframe thead th {\n",
       "        text-align: right;\n",
       "    }\n",
       "</style>\n",
       "<table border=\"1\" class=\"dataframe\">\n",
       "  <thead>\n",
       "    <tr style=\"text-align: right;\">\n",
       "      <th></th>\n",
       "      <th>HL_Perc</th>\n",
       "      <th>CO_Perc</th>\n",
       "      <th>Close</th>\n",
       "      <th>Volume</th>\n",
       "      <th>PriceNextMonth</th>\n",
       "    </tr>\n",
       "  </thead>\n",
       "  <tbody>\n",
       "    <tr>\n",
       "      <th>5301</th>\n",
       "      <td>2.060222</td>\n",
       "      <td>-1.444099</td>\n",
       "      <td>634.70</td>\n",
       "      <td>6527947</td>\n",
       "      <td>NaN</td>\n",
       "    </tr>\n",
       "    <tr>\n",
       "      <th>5302</th>\n",
       "      <td>1.653481</td>\n",
       "      <td>1.035246</td>\n",
       "      <td>639.25</td>\n",
       "      <td>5112384</td>\n",
       "      <td>NaN</td>\n",
       "    </tr>\n",
       "    <tr>\n",
       "      <th>5303</th>\n",
       "      <td>1.409995</td>\n",
       "      <td>0.382245</td>\n",
       "      <td>643.40</td>\n",
       "      <td>6069155</td>\n",
       "      <td>NaN</td>\n",
       "    </tr>\n",
       "    <tr>\n",
       "      <th>5304</th>\n",
       "      <td>1.700203</td>\n",
       "      <td>-0.685723</td>\n",
       "      <td>644.50</td>\n",
       "      <td>5676290</td>\n",
       "      <td>NaN</td>\n",
       "    </tr>\n",
       "    <tr>\n",
       "      <th>5305</th>\n",
       "      <td>4.139978</td>\n",
       "      <td>1.939252</td>\n",
       "      <td>654.45</td>\n",
       "      <td>10874266</td>\n",
       "      <td>NaN</td>\n",
       "    </tr>\n",
       "  </tbody>\n",
       "</table>\n",
       "</div>"
      ],
      "text/plain": [
       "       HL_Perc   CO_Perc   Close    Volume  PriceNextMonth\n",
       "5301  2.060222 -1.444099  634.70   6527947             NaN\n",
       "5302  1.653481  1.035246  639.25   5112384             NaN\n",
       "5303  1.409995  0.382245  643.40   6069155             NaN\n",
       "5304  1.700203 -0.685723  644.50   5676290             NaN\n",
       "5305  4.139978  1.939252  654.45  10874266             NaN"
      ]
     },
     "execution_count": 113,
     "metadata": {},
     "output_type": "execute_result"
    }
   ],
   "source": [
    "stock.tail()"
   ]
  },
  {
   "cell_type": "code",
   "execution_count": 114,
   "id": "c687b99c",
   "metadata": {},
   "outputs": [
    {
     "name": "stderr",
     "output_type": "stream",
     "text": [
      "C:\\Users\\suresh\\AppData\\Local\\Temp\\ipykernel_9868\\459189850.py:2: FutureWarning: In a future version of pandas all arguments of DataFrame.drop except for the argument 'labels' will be keyword-only.\n",
      "  X = np.array(stock.drop([\"PriceNextMonth\"], 1))\n"
     ]
    }
   ],
   "source": [
    "#Make fetaure and label arrays\n",
    "X = np.array(stock.drop([\"PriceNextMonth\"], 1))\n",
    "X = preprocessing.scale(X)\n",
    "X_Check = X[-30:]\n",
    "X = X[:-30]\n",
    "stock.dropna(inplace = True)\n",
    "y = np.array(stock[\"PriceNextMonth\"])"
   ]
  },
  {
   "cell_type": "code",
   "execution_count": 115,
   "id": "381f2472",
   "metadata": {},
   "outputs": [],
   "source": [
    "#Divide the data set into training data and testing data\n",
    "X_train, X_test, y_train, y_test = train_test_split(X,y,test_size = 0.2)"
   ]
  },
  {
   "cell_type": "code",
   "execution_count": 116,
   "id": "489c08a2",
   "metadata": {},
   "outputs": [],
   "source": [
    "#Define the prediction model\n",
    "model = RandomForestRegressor()"
   ]
  },
  {
   "cell_type": "code",
   "execution_count": 117,
   "id": "74ff8cec",
   "metadata": {},
   "outputs": [
    {
     "data": {
      "text/plain": [
       "RandomForestRegressor()"
      ]
     },
     "execution_count": 117,
     "metadata": {},
     "output_type": "execute_result"
    }
   ],
   "source": [
    "#Fit the model using training data\n",
    "model.fit(X_train, y_train)"
   ]
  },
  {
   "cell_type": "code",
   "execution_count": 118,
   "id": "520c0372",
   "metadata": {},
   "outputs": [
    {
     "name": "stdout",
     "output_type": "stream",
     "text": [
      "0.9057790043611199\n"
     ]
    }
   ],
   "source": [
    "#Calculate the confidence value by applying the model to testing data\n",
    "conf = model.score(X_test, y_test)\n",
    "print(conf)"
   ]
  },
  {
   "cell_type": "code",
   "execution_count": 119,
   "id": "b9381393",
   "metadata": {},
   "outputs": [
    {
     "data": {
      "text/plain": [
       "RandomForestRegressor()"
      ]
     },
     "execution_count": 119,
     "metadata": {},
     "output_type": "execute_result"
    }
   ],
   "source": [
    "#Fit the model again using the whole data set\n",
    "model.fit(X,y)"
   ]
  },
  {
   "cell_type": "code",
   "execution_count": 120,
   "id": "4990c67a",
   "metadata": {},
   "outputs": [],
   "source": [
    "predictions = model.predict(X_Check)"
   ]
  },
  {
   "cell_type": "code",
   "execution_count": 121,
   "id": "c0d5a9e2",
   "metadata": {},
   "outputs": [],
   "source": [
    "#Make the final DataFrame containing Dates, ClosePrices, and Forecast values\n",
    "actual = pd.DataFrame(dates, columns = [\"Date\"])\n",
    "actual[\"ClosePrice\"] = stock[\"Close\"]\n",
    "actual[\"Forecast\"] = np.nan\n",
    "actual.set_index(\"Date\", inplace = True)\n",
    "forecast = pd.DataFrame(dates_check, columns=[\"Date\"])\n",
    "forecast[\"Forecast\"] = predictions\n",
    "forecast[\"ClosePrice\"] = np.nan\n",
    "forecast.set_index(\"Date\", inplace = True)\n",
    "var = [actual, forecast]\n",
    "result = pd.concat(var)  #This is the final DataFrame"
   ]
  },
  {
   "cell_type": "code",
   "execution_count": 122,
   "id": "45722829",
   "metadata": {},
   "outputs": [
    {
     "data": {
      "text/plain": [
       "Text(0, 0.5, 'Price')"
      ]
     },
     "execution_count": 122,
     "metadata": {},
     "output_type": "execute_result"
    },
    {
     "data": {
      "image/png": "[encoded data removed]",
      "text/plain": [
       "<Figure size 2000x1000 with 1 Axes>"
      ]
     },
     "metadata": {},
     "output_type": "display_data"
    }
   ],
   "source": [
    "#Plot the final results\n",
    "result.plot(figsize=(20,10), linewidth=1.5)\n",
    "plt.legend(loc=2, prop={'size':20})\n",
    "plt.xlabel('Date')\n",
    "plt.ylabel('Price')"
   ]
  },
  {
   "cell_type": "code",
   "execution_count": null,
   "id": "e099aee8",
   "metadata": {},
   "outputs": [],
   "source": []
  },
  {
   "cell_type": "code",
   "execution_count": null,
   "id": "9f8c7a22",
   "metadata": {},
   "outputs": [],
   "source": []
  }
 ],
 "metadata": {
  "kernelspec": {
   "display_name": "Python 3 (ipykernel)",
   "language": "python",
   "name": "python3"
  },
  "language_info": {
   "codemirror_mode": {
    "name": "ipython",
    "version": 3
   },
   "file_extension": ".py",
   "mimetype": "text/x-python",
   "name": "python",
   "nbconvert_exporter": "python",
   "pygments_lexer": "ipython3",
   "version": "3.9.13"
  }
 },
 "nbformat": 4,
 "nbformat_minor": 5
}
