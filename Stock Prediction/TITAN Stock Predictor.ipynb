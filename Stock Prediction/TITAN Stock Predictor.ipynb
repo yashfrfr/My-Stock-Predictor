{
 "cells": [
  {
   "cell_type": "code",
   "execution_count": 2,
   "id": "5a20ead1",
   "metadata": {},
   "outputs": [],
   "source": [
    "#Import the libraries\n",
    "import pandas as pd \n",
    "import numpy as np \n",
    "import matplotlib.pyplot as plt \n",
    "from sklearn import preprocessing\n",
    "from sklearn.ensemble import RandomForestRegressor\n",
    "from sklearn.model_selection import train_test_split\n",
    "from sklearn.metrics import mean_absolute_error, r2_score"
   ]
  },
  {
   "cell_type": "code",
   "execution_count": 263,
   "id": "1ebabd9c",
   "metadata": {},
   "outputs": [],
   "source": [
    "stock = pd.read_csv(\"C:/Users/suresh/Desktop/PYTHON ML DATA SCIENCE/Stock Prediction/Stock Data/TITAN.csv\")"
   ]
  },
  {
   "cell_type": "code",
   "execution_count": 264,
   "id": "b4a873d4",
   "metadata": {},
   "outputs": [
    {
     "data": {
      "text/html": [
       "<div>\n",
       "<style scoped>\n",
       "    .dataframe tbody tr th:only-of-type {\n",
       "        vertical-align: middle;\n",
       "    }\n",
       "\n",
       "    .dataframe tbody tr th {\n",
       "        vertical-align: top;\n",
       "    }\n",
       "\n",
       "    .dataframe thead th {\n",
       "        text-align: right;\n",
       "    }\n",
       "</style>\n",
       "<table border=\"1\" class=\"dataframe\">\n",
       "  <thead>\n",
       "    <tr style=\"text-align: right;\">\n",
       "      <th></th>\n",
       "      <th>Date</th>\n",
       "      <th>Symbol</th>\n",
       "      <th>Series</th>\n",
       "      <th>Prev Close</th>\n",
       "      <th>Open</th>\n",
       "      <th>High</th>\n",
       "      <th>Low</th>\n",
       "      <th>Last</th>\n",
       "      <th>Close</th>\n",
       "      <th>VWAP</th>\n",
       "      <th>Volume</th>\n",
       "      <th>Turnover</th>\n",
       "      <th>Trades</th>\n",
       "      <th>Deliverable Volume</th>\n",
       "      <th>%Deliverble</th>\n",
       "    </tr>\n",
       "  </thead>\n",
       "  <tbody>\n",
       "    <tr>\n",
       "      <th>0</th>\n",
       "      <td>2000-01-03</td>\n",
       "      <td>TITAN</td>\n",
       "      <td>EQ</td>\n",
       "      <td>144.95</td>\n",
       "      <td>146.0</td>\n",
       "      <td>156.45</td>\n",
       "      <td>146.0</td>\n",
       "      <td>155.00</td>\n",
       "      <td>155.70</td>\n",
       "      <td>154.36</td>\n",
       "      <td>23000</td>\n",
       "      <td>3.550370e+11</td>\n",
       "      <td>NaN</td>\n",
       "      <td>NaN</td>\n",
       "      <td>NaN</td>\n",
       "    </tr>\n",
       "    <tr>\n",
       "      <th>1</th>\n",
       "      <td>2000-01-04</td>\n",
       "      <td>TITAN</td>\n",
       "      <td>EQ</td>\n",
       "      <td>155.70</td>\n",
       "      <td>152.0</td>\n",
       "      <td>152.00</td>\n",
       "      <td>144.0</td>\n",
       "      <td>148.05</td>\n",
       "      <td>147.40</td>\n",
       "      <td>146.72</td>\n",
       "      <td>26300</td>\n",
       "      <td>3.858700e+11</td>\n",
       "      <td>NaN</td>\n",
       "      <td>NaN</td>\n",
       "      <td>NaN</td>\n",
       "    </tr>\n",
       "    <tr>\n",
       "      <th>2</th>\n",
       "      <td>2000-01-05</td>\n",
       "      <td>TITAN</td>\n",
       "      <td>EQ</td>\n",
       "      <td>147.40</td>\n",
       "      <td>144.0</td>\n",
       "      <td>148.80</td>\n",
       "      <td>136.0</td>\n",
       "      <td>139.95</td>\n",
       "      <td>138.40</td>\n",
       "      <td>142.95</td>\n",
       "      <td>20600</td>\n",
       "      <td>2.944850e+11</td>\n",
       "      <td>NaN</td>\n",
       "      <td>NaN</td>\n",
       "      <td>NaN</td>\n",
       "    </tr>\n",
       "    <tr>\n",
       "      <th>3</th>\n",
       "      <td>2000-01-06</td>\n",
       "      <td>TITAN</td>\n",
       "      <td>EQ</td>\n",
       "      <td>138.40</td>\n",
       "      <td>142.0</td>\n",
       "      <td>149.50</td>\n",
       "      <td>141.0</td>\n",
       "      <td>149.50</td>\n",
       "      <td>149.50</td>\n",
       "      <td>147.87</td>\n",
       "      <td>31600</td>\n",
       "      <td>4.672750e+11</td>\n",
       "      <td>NaN</td>\n",
       "      <td>NaN</td>\n",
       "      <td>NaN</td>\n",
       "    </tr>\n",
       "    <tr>\n",
       "      <th>4</th>\n",
       "      <td>2000-01-07</td>\n",
       "      <td>TITAN</td>\n",
       "      <td>EQ</td>\n",
       "      <td>149.50</td>\n",
       "      <td>149.5</td>\n",
       "      <td>153.00</td>\n",
       "      <td>145.0</td>\n",
       "      <td>147.75</td>\n",
       "      <td>146.35</td>\n",
       "      <td>148.63</td>\n",
       "      <td>36600</td>\n",
       "      <td>5.439965e+11</td>\n",
       "      <td>NaN</td>\n",
       "      <td>NaN</td>\n",
       "      <td>NaN</td>\n",
       "    </tr>\n",
       "  </tbody>\n",
       "</table>\n",
       "</div>"
      ],
      "text/plain": [
       "         Date Symbol Series  Prev Close   Open    High    Low    Last   Close  \\\n",
       "0  2000-01-03  TITAN     EQ      144.95  146.0  156.45  146.0  155.00  155.70   \n",
       "1  2000-01-04  TITAN     EQ      155.70  152.0  152.00  144.0  148.05  147.40   \n",
       "2  2000-01-05  TITAN     EQ      147.40  144.0  148.80  136.0  139.95  138.40   \n",
       "3  2000-01-06  TITAN     EQ      138.40  142.0  149.50  141.0  149.50  149.50   \n",
       "4  2000-01-07  TITAN     EQ      149.50  149.5  153.00  145.0  147.75  146.35   \n",
       "\n",
       "     VWAP  Volume      Turnover  Trades  Deliverable Volume  %Deliverble  \n",
       "0  154.36   23000  3.550370e+11     NaN                 NaN          NaN  \n",
       "1  146.72   26300  3.858700e+11     NaN                 NaN          NaN  \n",
       "2  142.95   20600  2.944850e+11     NaN                 NaN          NaN  \n",
       "3  147.87   31600  4.672750e+11     NaN                 NaN          NaN  \n",
       "4  148.63   36600  5.439965e+11     NaN                 NaN          NaN  "
      ]
     },
     "execution_count": 264,
     "metadata": {},
     "output_type": "execute_result"
    }
   ],
   "source": [
    "stock.head()"
   ]
  },
  {
   "cell_type": "code",
   "execution_count": 265,
   "id": "564201f0",
   "metadata": {},
   "outputs": [
    {
     "name": "stdout",
     "output_type": "stream",
     "text": [
      "<class 'pandas.core.frame.DataFrame'>\n",
      "RangeIndex: 5306 entries, 0 to 5305\n",
      "Data columns (total 15 columns):\n",
      " #   Column              Non-Null Count  Dtype  \n",
      "---  ------              --------------  -----  \n",
      " 0   Date                5306 non-null   object \n",
      " 1   Symbol              5306 non-null   object \n",
      " 2   Series              5306 non-null   object \n",
      " 3   Prev Close          5306 non-null   float64\n",
      " 4   Open                5306 non-null   float64\n",
      " 5   High                5306 non-null   float64\n",
      " 6   Low                 5306 non-null   float64\n",
      " 7   Last                5306 non-null   float64\n",
      " 8   Close               5306 non-null   float64\n",
      " 9   VWAP                5306 non-null   float64\n",
      " 10  Volume              5306 non-null   int64  \n",
      " 11  Turnover            5306 non-null   float64\n",
      " 12  Trades              2456 non-null   float64\n",
      " 13  Deliverable Volume  4792 non-null   float64\n",
      " 14  %Deliverble         4792 non-null   float64\n",
      "dtypes: float64(11), int64(1), object(3)\n",
      "memory usage: 621.9+ KB\n"
     ]
    }
   ],
   "source": [
    "stock.info()"
   ]
  },
  {
   "cell_type": "code",
   "execution_count": 266,
   "id": "c9d711dd",
   "metadata": {},
   "outputs": [
    {
     "data": {
      "text/html": [
       "<div>\n",
       "<style scoped>\n",
       "    .dataframe tbody tr th:only-of-type {\n",
       "        vertical-align: middle;\n",
       "    }\n",
       "\n",
       "    .dataframe tbody tr th {\n",
       "        vertical-align: top;\n",
       "    }\n",
       "\n",
       "    .dataframe thead th {\n",
       "        text-align: right;\n",
       "    }\n",
       "</style>\n",
       "<table border=\"1\" class=\"dataframe\">\n",
       "  <thead>\n",
       "    <tr style=\"text-align: right;\">\n",
       "      <th></th>\n",
       "      <th>Prev Close</th>\n",
       "      <th>Open</th>\n",
       "      <th>High</th>\n",
       "      <th>Low</th>\n",
       "      <th>Last</th>\n",
       "      <th>Close</th>\n",
       "      <th>VWAP</th>\n",
       "      <th>Volume</th>\n",
       "      <th>Turnover</th>\n",
       "      <th>Trades</th>\n",
       "      <th>Deliverable Volume</th>\n",
       "      <th>%Deliverble</th>\n",
       "    </tr>\n",
       "  </thead>\n",
       "  <tbody>\n",
       "    <tr>\n",
       "      <th>count</th>\n",
       "      <td>5306.000000</td>\n",
       "      <td>5306.000000</td>\n",
       "      <td>5306.000000</td>\n",
       "      <td>5306.000000</td>\n",
       "      <td>5306.000000</td>\n",
       "      <td>5306.000000</td>\n",
       "      <td>5306.000000</td>\n",
       "      <td>5.306000e+03</td>\n",
       "      <td>5.306000e+03</td>\n",
       "      <td>2456.000000</td>\n",
       "      <td>4.792000e+03</td>\n",
       "      <td>4792.000000</td>\n",
       "    </tr>\n",
       "    <tr>\n",
       "      <th>mean</th>\n",
       "      <td>709.230692</td>\n",
       "      <td>709.989926</td>\n",
       "      <td>723.312816</td>\n",
       "      <td>696.430767</td>\n",
       "      <td>709.449114</td>\n",
       "      <td>709.484499</td>\n",
       "      <td>710.415443</td>\n",
       "      <td>1.172596e+06</td>\n",
       "      <td>7.796053e+13</td>\n",
       "      <td>47241.859935</td>\n",
       "      <td>4.408763e+05</td>\n",
       "      <td>0.367944</td>\n",
       "    </tr>\n",
       "    <tr>\n",
       "      <th>std</th>\n",
       "      <td>785.170900</td>\n",
       "      <td>785.435092</td>\n",
       "      <td>799.085424</td>\n",
       "      <td>772.183889</td>\n",
       "      <td>784.995523</td>\n",
       "      <td>785.206121</td>\n",
       "      <td>786.266584</td>\n",
       "      <td>1.763858e+06</td>\n",
       "      <td>1.378542e+14</td>\n",
       "      <td>43331.439701</td>\n",
       "      <td>7.022005e+05</td>\n",
       "      <td>0.164969</td>\n",
       "    </tr>\n",
       "    <tr>\n",
       "      <th>min</th>\n",
       "      <td>27.500000</td>\n",
       "      <td>27.000000</td>\n",
       "      <td>28.800000</td>\n",
       "      <td>27.000000</td>\n",
       "      <td>27.750000</td>\n",
       "      <td>27.500000</td>\n",
       "      <td>27.880000</td>\n",
       "      <td>2.000000e+02</td>\n",
       "      <td>8.125000e+08</td>\n",
       "      <td>993.000000</td>\n",
       "      <td>3.600000e+02</td>\n",
       "      <td>0.023600</td>\n",
       "    </tr>\n",
       "    <tr>\n",
       "      <th>25%</th>\n",
       "      <td>192.262500</td>\n",
       "      <td>192.625000</td>\n",
       "      <td>198.800000</td>\n",
       "      <td>189.500000</td>\n",
       "      <td>192.837500</td>\n",
       "      <td>193.412500</td>\n",
       "      <td>194.245000</td>\n",
       "      <td>9.867325e+04</td>\n",
       "      <td>4.299007e+12</td>\n",
       "      <td>18126.500000</td>\n",
       "      <td>4.992600e+04</td>\n",
       "      <td>0.249000</td>\n",
       "    </tr>\n",
       "    <tr>\n",
       "      <th>50%</th>\n",
       "      <td>396.150000</td>\n",
       "      <td>398.250000</td>\n",
       "      <td>404.525000</td>\n",
       "      <td>391.125000</td>\n",
       "      <td>397.025000</td>\n",
       "      <td>396.350000</td>\n",
       "      <td>398.095000</td>\n",
       "      <td>5.491360e+05</td>\n",
       "      <td>2.785515e+13</td>\n",
       "      <td>35076.500000</td>\n",
       "      <td>2.012115e+05</td>\n",
       "      <td>0.352400</td>\n",
       "    </tr>\n",
       "    <tr>\n",
       "      <th>75%</th>\n",
       "      <td>1017.725000</td>\n",
       "      <td>1018.925000</td>\n",
       "      <td>1046.500000</td>\n",
       "      <td>991.187500</td>\n",
       "      <td>1020.000000</td>\n",
       "      <td>1019.000000</td>\n",
       "      <td>1016.790000</td>\n",
       "      <td>1.630698e+06</td>\n",
       "      <td>8.382494e+13</td>\n",
       "      <td>63520.250000</td>\n",
       "      <td>6.247118e+05</td>\n",
       "      <td>0.472900</td>\n",
       "    </tr>\n",
       "    <tr>\n",
       "      <th>max</th>\n",
       "      <td>4714.600000</td>\n",
       "      <td>4730.000000</td>\n",
       "      <td>4754.950000</td>\n",
       "      <td>4559.900000</td>\n",
       "      <td>4734.000000</td>\n",
       "      <td>4714.600000</td>\n",
       "      <td>4647.540000</td>\n",
       "      <td>3.327661e+07</td>\n",
       "      <td>2.451345e+15</td>\n",
       "      <td>536406.000000</td>\n",
       "      <td>2.169911e+07</td>\n",
       "      <td>1.000000</td>\n",
       "    </tr>\n",
       "  </tbody>\n",
       "</table>\n",
       "</div>"
      ],
      "text/plain": [
       "        Prev Close         Open         High          Low         Last  \\\n",
       "count  5306.000000  5306.000000  5306.000000  5306.000000  5306.000000   \n",
       "mean    709.230692   709.989926   723.312816   696.430767   709.449114   \n",
       "std     785.170900   785.435092   799.085424   772.183889   784.995523   \n",
       "min      27.500000    27.000000    28.800000    27.000000    27.750000   \n",
       "25%     192.262500   192.625000   198.800000   189.500000   192.837500   \n",
       "50%     396.150000   398.250000   404.525000   391.125000   397.025000   \n",
       "75%    1017.725000  1018.925000  1046.500000   991.187500  1020.000000   \n",
       "max    4714.600000  4730.000000  4754.950000  4559.900000  4734.000000   \n",
       "\n",
       "             Close         VWAP        Volume      Turnover         Trades  \\\n",
       "count  5306.000000  5306.000000  5.306000e+03  5.306000e+03    2456.000000   \n",
       "mean    709.484499   710.415443  1.172596e+06  7.796053e+13   47241.859935   \n",
       "std     785.206121   786.266584  1.763858e+06  1.378542e+14   43331.439701   \n",
       "min      27.500000    27.880000  2.000000e+02  8.125000e+08     993.000000   \n",
       "25%     193.412500   194.245000  9.867325e+04  4.299007e+12   18126.500000   \n",
       "50%     396.350000   398.095000  5.491360e+05  2.785515e+13   35076.500000   \n",
       "75%    1019.000000  1016.790000  1.630698e+06  8.382494e+13   63520.250000   \n",
       "max    4714.600000  4647.540000  3.327661e+07  2.451345e+15  536406.000000   \n",
       "\n",
       "       Deliverable Volume  %Deliverble  \n",
       "count        4.792000e+03  4792.000000  \n",
       "mean         4.408763e+05     0.367944  \n",
       "std          7.022005e+05     0.164969  \n",
       "min          3.600000e+02     0.023600  \n",
       "25%          4.992600e+04     0.249000  \n",
       "50%          2.012115e+05     0.352400  \n",
       "75%          6.247118e+05     0.472900  \n",
       "max          2.169911e+07     1.000000  "
      ]
     },
     "execution_count": 266,
     "metadata": {},
     "output_type": "execute_result"
    }
   ],
   "source": [
    "stock.describe()"
   ]
  },
  {
   "cell_type": "code",
   "execution_count": 267,
   "id": "011a47e9",
   "metadata": {},
   "outputs": [],
   "source": [
    "# Ensure we are working with a copy of the DataFrame to avoid the SettingWithCopyWarning\n",
    "stock = stock.copy()"
   ]
  },
  {
   "cell_type": "code",
   "execution_count": 268,
   "id": "7758c824",
   "metadata": {},
   "outputs": [],
   "source": [
    "# Calculate HL_Perc and CO_Perc\n",
    "stock.loc[:, 'HL_Perc'] = (stock['High'] - stock['Low']) / stock['Low'] * 100\n",
    "stock.loc[:, 'CO_Perc'] = (stock['Close'] - stock['Open']) / stock['Open'] * 100"
   ]
  },
  {
   "cell_type": "code",
   "execution_count": 269,
   "id": "0bb9c198",
   "metadata": {},
   "outputs": [],
   "source": [
    "dates = np.array(stock[\"Date\"])\n",
    "dates_check = dates[-30:]\n",
    "dates = dates[:-30]"
   ]
  },
  {
   "cell_type": "code",
   "execution_count": 270,
   "id": "07901da7",
   "metadata": {},
   "outputs": [
    {
     "data": {
      "text/plain": [
       "Index(['Date', 'Symbol', 'Series', 'Prev Close', 'Open', 'High', 'Low', 'Last',\n",
       "       'Close', 'VWAP', 'Volume', 'Turnover', 'Trades', 'Deliverable Volume',\n",
       "       '%Deliverble', 'HL_Perc', 'CO_Perc'],\n",
       "      dtype='object')"
      ]
     },
     "execution_count": 270,
     "metadata": {},
     "output_type": "execute_result"
    }
   ],
   "source": [
    "stock.columns"
   ]
  },
  {
   "cell_type": "code",
   "execution_count": 271,
   "id": "75b07f7b",
   "metadata": {},
   "outputs": [],
   "source": [
    "stock = stock[[\"HL_Perc\", \"CO_Perc\", \"Close\", \"Volume\"]]"
   ]
  },
  {
   "cell_type": "code",
   "execution_count": 272,
   "id": "772db78e",
   "metadata": {},
   "outputs": [],
   "source": [
    "#Define the label column\n",
    "stock[\"PriceNextMonth\"] = stock[\"Close\"].shift(-30)"
   ]
  },
  {
   "cell_type": "code",
   "execution_count": 273,
   "id": "79011229",
   "metadata": {},
   "outputs": [
    {
     "data": {
      "text/html": [
       "<div>\n",
       "<style scoped>\n",
       "    .dataframe tbody tr th:only-of-type {\n",
       "        vertical-align: middle;\n",
       "    }\n",
       "\n",
       "    .dataframe tbody tr th {\n",
       "        vertical-align: top;\n",
       "    }\n",
       "\n",
       "    .dataframe thead th {\n",
       "        text-align: right;\n",
       "    }\n",
       "</style>\n",
       "<table border=\"1\" class=\"dataframe\">\n",
       "  <thead>\n",
       "    <tr style=\"text-align: right;\">\n",
       "      <th></th>\n",
       "      <th>HL_Perc</th>\n",
       "      <th>CO_Perc</th>\n",
       "      <th>Close</th>\n",
       "      <th>Volume</th>\n",
       "      <th>PriceNextMonth</th>\n",
       "    </tr>\n",
       "  </thead>\n",
       "  <tbody>\n",
       "    <tr>\n",
       "      <th>5301</th>\n",
       "      <td>1.679009</td>\n",
       "      <td>0.670068</td>\n",
       "      <td>1479.85</td>\n",
       "      <td>1020499</td>\n",
       "      <td>NaN</td>\n",
       "    </tr>\n",
       "    <tr>\n",
       "      <th>5302</th>\n",
       "      <td>1.454116</td>\n",
       "      <td>0.680135</td>\n",
       "      <td>1495.10</td>\n",
       "      <td>1145908</td>\n",
       "      <td>NaN</td>\n",
       "    </tr>\n",
       "    <tr>\n",
       "      <th>5303</th>\n",
       "      <td>1.555273</td>\n",
       "      <td>0.255814</td>\n",
       "      <td>1508.85</td>\n",
       "      <td>1037771</td>\n",
       "      <td>NaN</td>\n",
       "    </tr>\n",
       "    <tr>\n",
       "      <th>5304</th>\n",
       "      <td>2.037408</td>\n",
       "      <td>-1.128609</td>\n",
       "      <td>1506.80</td>\n",
       "      <td>1927546</td>\n",
       "      <td>NaN</td>\n",
       "    </tr>\n",
       "    <tr>\n",
       "      <th>5305</th>\n",
       "      <td>3.096533</td>\n",
       "      <td>-0.556667</td>\n",
       "      <td>1491.65</td>\n",
       "      <td>3691399</td>\n",
       "      <td>NaN</td>\n",
       "    </tr>\n",
       "  </tbody>\n",
       "</table>\n",
       "</div>"
      ],
      "text/plain": [
       "       HL_Perc   CO_Perc    Close   Volume  PriceNextMonth\n",
       "5301  1.679009  0.670068  1479.85  1020499             NaN\n",
       "5302  1.454116  0.680135  1495.10  1145908             NaN\n",
       "5303  1.555273  0.255814  1508.85  1037771             NaN\n",
       "5304  2.037408 -1.128609  1506.80  1927546             NaN\n",
       "5305  3.096533 -0.556667  1491.65  3691399             NaN"
      ]
     },
     "execution_count": 273,
     "metadata": {},
     "output_type": "execute_result"
    }
   ],
   "source": [
    "stock.tail()"
   ]
  },
  {
   "cell_type": "code",
   "execution_count": 274,
   "id": "c687b99c",
   "metadata": {},
   "outputs": [
    {
     "name": "stderr",
     "output_type": "stream",
     "text": [
      "C:\\Users\\suresh\\AppData\\Local\\Temp\\ipykernel_9868\\459189850.py:2: FutureWarning: In a future version of pandas all arguments of DataFrame.drop except for the argument 'labels' will be keyword-only.\n",
      "  X = np.array(stock.drop([\"PriceNextMonth\"], 1))\n"
     ]
    }
   ],
   "source": [
    "#Make fetaure and label arrays\n",
    "X = np.array(stock.drop([\"PriceNextMonth\"], 1))\n",
    "X = preprocessing.scale(X)\n",
    "X_Check = X[-30:]\n",
    "X = X[:-30]\n",
    "stock.dropna(inplace = True)\n",
    "y = np.array(stock[\"PriceNextMonth\"])"
   ]
  },
  {
   "cell_type": "code",
   "execution_count": 275,
   "id": "381f2472",
   "metadata": {},
   "outputs": [],
   "source": [
    "#Divide the data set into training data and testing data\n",
    "X_train, X_test, y_train, y_test = train_test_split(X,y,test_size = 0.2)"
   ]
  },
  {
   "cell_type": "code",
   "execution_count": 276,
   "id": "489c08a2",
   "metadata": {},
   "outputs": [],
   "source": [
    "#Define the prediction model\n",
    "model = RandomForestRegressor()"
   ]
  },
  {
   "cell_type": "code",
   "execution_count": 277,
   "id": "74ff8cec",
   "metadata": {},
   "outputs": [
    {
     "data": {
      "text/plain": [
       "RandomForestRegressor()"
      ]
     },
     "execution_count": 277,
     "metadata": {},
     "output_type": "execute_result"
    }
   ],
   "source": [
    "#Fit the model using training data\n",
    "model.fit(X_train, y_train)"
   ]
  },
  {
   "cell_type": "code",
   "execution_count": 278,
   "id": "520c0372",
   "metadata": {},
   "outputs": [
    {
     "name": "stdout",
     "output_type": "stream",
     "text": [
      "0.9508763826836713\n"
     ]
    }
   ],
   "source": [
    "#Calculate the confidence value by applying the model to testing data\n",
    "conf = model.score(X_test, y_test)\n",
    "print(conf)"
   ]
  },
  {
   "cell_type": "code",
   "execution_count": 279,
   "id": "b9381393",
   "metadata": {},
   "outputs": [
    {
     "data": {
      "text/plain": [
       "RandomForestRegressor()"
      ]
     },
     "execution_count": 279,
     "metadata": {},
     "output_type": "execute_result"
    }
   ],
   "source": [
    "#Fit the model again using the whole data set\n",
    "model.fit(X,y)"
   ]
  },
  {
   "cell_type": "code",
   "execution_count": 280,
   "id": "4990c67a",
   "metadata": {},
   "outputs": [],
   "source": [
    "predictions = model.predict(X_Check)"
   ]
  },
  {
   "cell_type": "code",
   "execution_count": 281,
   "id": "c0d5a9e2",
   "metadata": {},
   "outputs": [],
   "source": [
    "#Make the final DataFrame containing Dates, ClosePrices, and Forecast values\n",
    "actual = pd.DataFrame(dates, columns = [\"Date\"])\n",
    "actual[\"ClosePrice\"] = stock[\"Close\"]\n",
    "actual[\"Forecast\"] = np.nan\n",
    "actual.set_index(\"Date\", inplace = True)\n",
    "forecast = pd.DataFrame(dates_check, columns=[\"Date\"])\n",
    "forecast[\"Forecast\"] = predictions\n",
    "forecast[\"ClosePrice\"] = np.nan\n",
    "forecast.set_index(\"Date\", inplace = True)\n",
    "var = [actual, forecast]\n",
    "result = pd.concat(var)  #This is the final DataFrame"
   ]
  },
  {
   "cell_type": "code",
   "execution_count": 282,
   "id": "45722829",
   "metadata": {},
   "outputs": [
    {
     "data": {
      "text/plain": [
       "Text(0, 0.5, 'Price')"
      ]
     },
     "execution_count": 282,
     "metadata": {},
     "output_type": "execute_result"
    },
    {
     "data": {
      "image/png": "[encoded data removed]",
      "text/plain": [
       "<Figure size 2000x1000 with 1 Axes>"
      ]
     },
     "metadata": {},
     "output_type": "display_data"
    }
   ],
   "source": [
    "#Plot the final results\n",
    "result.plot(figsize=(20,10), linewidth=1.5)\n",
    "plt.legend(loc=2, prop={'size':20})\n",
    "plt.xlabel('Date')\n",
    "plt.ylabel('Price')"
   ]
  },
  {
   "cell_type": "code",
   "execution_count": null,
   "id": "e099aee8",
   "metadata": {},
   "outputs": [],
   "source": []
  },
  {
   "cell_type": "code",
   "execution_count": null,
   "id": "9f8c7a22",
   "metadata": {},
   "outputs": [],
   "source": []
  }
 ],
 "metadata": {
  "kernelspec": {
   "display_name": "Python 3 (ipykernel)",
   "language": "python",
   "name": "python3"
  },
  "language_info": {
   "codemirror_mode": {
    "name": "ipython",
    "version": 3
   },
   "file_extension": ".py",
   "mimetype": "text/x-python",
   "name": "python",
   "nbconvert_exporter": "python",
   "pygments_lexer": "ipython3",
   "version": "3.9.13"
  }
 },
 "nbformat": 4,
 "nbformat_minor": 5
}
