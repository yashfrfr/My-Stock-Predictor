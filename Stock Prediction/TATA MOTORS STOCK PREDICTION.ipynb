{
 "cells": [
  {
   "cell_type": "code",
   "execution_count": 1,
   "id": "5a20ead1",
   "metadata": {},
   "outputs": [],
   "source": [
    "#Import the libraries\n",
    "import pandas as pd \n",
    "import numpy as np \n",
    "import matplotlib.pyplot as plt \n",
    "from sklearn import preprocessing\n",
    "from sklearn.ensemble import RandomForestRegressor\n",
    "from sklearn.model_selection import train_test_split\n",
    "from sklearn.metrics import mean_absolute_error, r2_score"
   ]
  },
  {
   "cell_type": "code",
   "execution_count": 36,
   "id": "1ebabd9c",
   "metadata": {},
   "outputs": [],
   "source": [
    "stock = pd.read_csv(\"C:/Users/suresh/Desktop/PYTHON ML DATA SCIENCE/Stock Prediction/Stock Data/TATAMOTORS.csv\")"
   ]
  },
  {
   "cell_type": "code",
   "execution_count": 37,
   "id": "b4a873d4",
   "metadata": {},
   "outputs": [
    {
     "data": {
      "text/html": [
       "<div>\n",
       "<style scoped>\n",
       "    .dataframe tbody tr th:only-of-type {\n",
       "        vertical-align: middle;\n",
       "    }\n",
       "\n",
       "    .dataframe tbody tr th {\n",
       "        vertical-align: top;\n",
       "    }\n",
       "\n",
       "    .dataframe thead th {\n",
       "        text-align: right;\n",
       "    }\n",
       "</style>\n",
       "<table border=\"1\" class=\"dataframe\">\n",
       "  <thead>\n",
       "    <tr style=\"text-align: right;\">\n",
       "      <th></th>\n",
       "      <th>Date</th>\n",
       "      <th>Symbol</th>\n",
       "      <th>Series</th>\n",
       "      <th>Prev Close</th>\n",
       "      <th>Open</th>\n",
       "      <th>High</th>\n",
       "      <th>Low</th>\n",
       "      <th>Last</th>\n",
       "      <th>Close</th>\n",
       "      <th>VWAP</th>\n",
       "      <th>Volume</th>\n",
       "      <th>Turnover</th>\n",
       "      <th>Trades</th>\n",
       "      <th>Deliverable Volume</th>\n",
       "      <th>%Deliverble</th>\n",
       "    </tr>\n",
       "  </thead>\n",
       "  <tbody>\n",
       "    <tr>\n",
       "      <th>0</th>\n",
       "      <td>2000-01-03</td>\n",
       "      <td>TELCO</td>\n",
       "      <td>EQ</td>\n",
       "      <td>201.60</td>\n",
       "      <td>207.4</td>\n",
       "      <td>217.25</td>\n",
       "      <td>207.4</td>\n",
       "      <td>217.0</td>\n",
       "      <td>216.75</td>\n",
       "      <td>214.28</td>\n",
       "      <td>676126</td>\n",
       "      <td>1.448775e+13</td>\n",
       "      <td>NaN</td>\n",
       "      <td>NaN</td>\n",
       "      <td>NaN</td>\n",
       "    </tr>\n",
       "    <tr>\n",
       "      <th>1</th>\n",
       "      <td>2000-01-04</td>\n",
       "      <td>TELCO</td>\n",
       "      <td>EQ</td>\n",
       "      <td>216.75</td>\n",
       "      <td>217.0</td>\n",
       "      <td>219.00</td>\n",
       "      <td>206.0</td>\n",
       "      <td>211.9</td>\n",
       "      <td>208.20</td>\n",
       "      <td>209.50</td>\n",
       "      <td>679215</td>\n",
       "      <td>1.422962e+13</td>\n",
       "      <td>NaN</td>\n",
       "      <td>NaN</td>\n",
       "      <td>NaN</td>\n",
       "    </tr>\n",
       "    <tr>\n",
       "      <th>2</th>\n",
       "      <td>2000-01-05</td>\n",
       "      <td>TELCO</td>\n",
       "      <td>EQ</td>\n",
       "      <td>208.20</td>\n",
       "      <td>194.0</td>\n",
       "      <td>217.80</td>\n",
       "      <td>194.0</td>\n",
       "      <td>213.1</td>\n",
       "      <td>213.25</td>\n",
       "      <td>210.33</td>\n",
       "      <td>1120951</td>\n",
       "      <td>2.357684e+13</td>\n",
       "      <td>NaN</td>\n",
       "      <td>NaN</td>\n",
       "      <td>NaN</td>\n",
       "    </tr>\n",
       "    <tr>\n",
       "      <th>3</th>\n",
       "      <td>2000-01-06</td>\n",
       "      <td>TELCO</td>\n",
       "      <td>EQ</td>\n",
       "      <td>213.25</td>\n",
       "      <td>215.0</td>\n",
       "      <td>229.90</td>\n",
       "      <td>215.0</td>\n",
       "      <td>222.0</td>\n",
       "      <td>222.10</td>\n",
       "      <td>225.29</td>\n",
       "      <td>1968998</td>\n",
       "      <td>4.435932e+13</td>\n",
       "      <td>NaN</td>\n",
       "      <td>NaN</td>\n",
       "      <td>NaN</td>\n",
       "    </tr>\n",
       "    <tr>\n",
       "      <th>4</th>\n",
       "      <td>2000-01-07</td>\n",
       "      <td>TELCO</td>\n",
       "      <td>EQ</td>\n",
       "      <td>222.10</td>\n",
       "      <td>224.0</td>\n",
       "      <td>239.90</td>\n",
       "      <td>223.1</td>\n",
       "      <td>239.9</td>\n",
       "      <td>239.90</td>\n",
       "      <td>236.32</td>\n",
       "      <td>2199431</td>\n",
       "      <td>5.197636e+13</td>\n",
       "      <td>NaN</td>\n",
       "      <td>NaN</td>\n",
       "      <td>NaN</td>\n",
       "    </tr>\n",
       "  </tbody>\n",
       "</table>\n",
       "</div>"
      ],
      "text/plain": [
       "         Date Symbol Series  Prev Close   Open    High    Low   Last   Close  \\\n",
       "0  2000-01-03  TELCO     EQ      201.60  207.4  217.25  207.4  217.0  216.75   \n",
       "1  2000-01-04  TELCO     EQ      216.75  217.0  219.00  206.0  211.9  208.20   \n",
       "2  2000-01-05  TELCO     EQ      208.20  194.0  217.80  194.0  213.1  213.25   \n",
       "3  2000-01-06  TELCO     EQ      213.25  215.0  229.90  215.0  222.0  222.10   \n",
       "4  2000-01-07  TELCO     EQ      222.10  224.0  239.90  223.1  239.9  239.90   \n",
       "\n",
       "     VWAP   Volume      Turnover  Trades  Deliverable Volume  %Deliverble  \n",
       "0  214.28   676126  1.448775e+13     NaN                 NaN          NaN  \n",
       "1  209.50   679215  1.422962e+13     NaN                 NaN          NaN  \n",
       "2  210.33  1120951  2.357684e+13     NaN                 NaN          NaN  \n",
       "3  225.29  1968998  4.435932e+13     NaN                 NaN          NaN  \n",
       "4  236.32  2199431  5.197636e+13     NaN                 NaN          NaN  "
      ]
     },
     "execution_count": 37,
     "metadata": {},
     "output_type": "execute_result"
    }
   ],
   "source": [
    "stock.head()"
   ]
  },
  {
   "cell_type": "code",
   "execution_count": 38,
   "id": "564201f0",
   "metadata": {},
   "outputs": [
    {
     "name": "stdout",
     "output_type": "stream",
     "text": [
      "<class 'pandas.core.frame.DataFrame'>\n",
      "RangeIndex: 5306 entries, 0 to 5305\n",
      "Data columns (total 15 columns):\n",
      " #   Column              Non-Null Count  Dtype  \n",
      "---  ------              --------------  -----  \n",
      " 0   Date                5306 non-null   object \n",
      " 1   Symbol              5306 non-null   object \n",
      " 2   Series              5306 non-null   object \n",
      " 3   Prev Close          5306 non-null   float64\n",
      " 4   Open                5306 non-null   float64\n",
      " 5   High                5306 non-null   float64\n",
      " 6   Low                 5306 non-null   float64\n",
      " 7   Last                5306 non-null   float64\n",
      " 8   Close               5306 non-null   float64\n",
      " 9   VWAP                5306 non-null   float64\n",
      " 10  Volume              5306 non-null   int64  \n",
      " 11  Turnover            5306 non-null   float64\n",
      " 12  Trades              2456 non-null   float64\n",
      " 13  Deliverable Volume  4792 non-null   float64\n",
      " 14  %Deliverble         4792 non-null   float64\n",
      "dtypes: float64(11), int64(1), object(3)\n",
      "memory usage: 621.9+ KB\n"
     ]
    }
   ],
   "source": [
    "stock.info()"
   ]
  },
  {
   "cell_type": "code",
   "execution_count": 39,
   "id": "c9d711dd",
   "metadata": {},
   "outputs": [
    {
     "data": {
      "text/html": [
       "<div>\n",
       "<style scoped>\n",
       "    .dataframe tbody tr th:only-of-type {\n",
       "        vertical-align: middle;\n",
       "    }\n",
       "\n",
       "    .dataframe tbody tr th {\n",
       "        vertical-align: top;\n",
       "    }\n",
       "\n",
       "    .dataframe thead th {\n",
       "        text-align: right;\n",
       "    }\n",
       "</style>\n",
       "<table border=\"1\" class=\"dataframe\">\n",
       "  <thead>\n",
       "    <tr style=\"text-align: right;\">\n",
       "      <th></th>\n",
       "      <th>Prev Close</th>\n",
       "      <th>Open</th>\n",
       "      <th>High</th>\n",
       "      <th>Low</th>\n",
       "      <th>Last</th>\n",
       "      <th>Close</th>\n",
       "      <th>VWAP</th>\n",
       "      <th>Volume</th>\n",
       "      <th>Turnover</th>\n",
       "      <th>Trades</th>\n",
       "      <th>Deliverable Volume</th>\n",
       "      <th>%Deliverble</th>\n",
       "    </tr>\n",
       "  </thead>\n",
       "  <tbody>\n",
       "    <tr>\n",
       "      <th>count</th>\n",
       "      <td>5306.000000</td>\n",
       "      <td>5306.000000</td>\n",
       "      <td>5306.000000</td>\n",
       "      <td>5306.000000</td>\n",
       "      <td>5306.000000</td>\n",
       "      <td>5306.000000</td>\n",
       "      <td>5306.000000</td>\n",
       "      <td>5.306000e+03</td>\n",
       "      <td>5.306000e+03</td>\n",
       "      <td>2.456000e+03</td>\n",
       "      <td>4.792000e+03</td>\n",
       "      <td>4792.000000</td>\n",
       "    </tr>\n",
       "    <tr>\n",
       "      <th>mean</th>\n",
       "      <td>409.432878</td>\n",
       "      <td>410.152752</td>\n",
       "      <td>417.122512</td>\n",
       "      <td>402.179438</td>\n",
       "      <td>409.451828</td>\n",
       "      <td>409.450264</td>\n",
       "      <td>409.761357</td>\n",
       "      <td>1.046560e+07</td>\n",
       "      <td>2.790772e+14</td>\n",
       "      <td>1.284400e+05</td>\n",
       "      <td>2.805962e+06</td>\n",
       "      <td>0.360529</td>\n",
       "    </tr>\n",
       "    <tr>\n",
       "      <th>std</th>\n",
       "      <td>272.483585</td>\n",
       "      <td>272.966475</td>\n",
       "      <td>277.018798</td>\n",
       "      <td>268.028297</td>\n",
       "      <td>272.516903</td>\n",
       "      <td>272.473264</td>\n",
       "      <td>272.491123</td>\n",
       "      <td>2.185034e+07</td>\n",
       "      <td>4.674351e+14</td>\n",
       "      <td>1.049546e+05</td>\n",
       "      <td>3.579713e+06</td>\n",
       "      <td>0.161659</td>\n",
       "    </tr>\n",
       "    <tr>\n",
       "      <th>min</th>\n",
       "      <td>58.800000</td>\n",
       "      <td>58.000000</td>\n",
       "      <td>60.700000</td>\n",
       "      <td>57.550000</td>\n",
       "      <td>58.750000</td>\n",
       "      <td>58.800000</td>\n",
       "      <td>59.240000</td>\n",
       "      <td>1.235100e+04</td>\n",
       "      <td>1.069384e+11</td>\n",
       "      <td>3.434000e+03</td>\n",
       "      <td>1.235100e+04</td>\n",
       "      <td>0.038500</td>\n",
       "    </tr>\n",
       "    <tr>\n",
       "      <th>25%</th>\n",
       "      <td>174.600000</td>\n",
       "      <td>174.762500</td>\n",
       "      <td>178.825000</td>\n",
       "      <td>171.012500</td>\n",
       "      <td>174.725000</td>\n",
       "      <td>174.600000</td>\n",
       "      <td>175.182500</td>\n",
       "      <td>1.668994e+06</td>\n",
       "      <td>7.049025e+13</td>\n",
       "      <td>7.547825e+04</td>\n",
       "      <td>6.469200e+05</td>\n",
       "      <td>0.227475</td>\n",
       "    </tr>\n",
       "    <tr>\n",
       "      <th>50%</th>\n",
       "      <td>377.250000</td>\n",
       "      <td>378.900000</td>\n",
       "      <td>384.750000</td>\n",
       "      <td>372.600000</td>\n",
       "      <td>377.525000</td>\n",
       "      <td>377.250000</td>\n",
       "      <td>378.465000</td>\n",
       "      <td>4.141648e+06</td>\n",
       "      <td>1.967418e+14</td>\n",
       "      <td>1.000340e+05</td>\n",
       "      <td>1.636752e+06</td>\n",
       "      <td>0.361350</td>\n",
       "    </tr>\n",
       "    <tr>\n",
       "      <th>75%</th>\n",
       "      <td>523.150000</td>\n",
       "      <td>523.475000</td>\n",
       "      <td>530.800000</td>\n",
       "      <td>515.912500</td>\n",
       "      <td>523.487500</td>\n",
       "      <td>523.150000</td>\n",
       "      <td>523.715000</td>\n",
       "      <td>8.706037e+06</td>\n",
       "      <td>3.175959e+14</td>\n",
       "      <td>1.420648e+05</td>\n",
       "      <td>3.761212e+06</td>\n",
       "      <td>0.483300</td>\n",
       "    </tr>\n",
       "    <tr>\n",
       "      <th>max</th>\n",
       "      <td>1365.150000</td>\n",
       "      <td>1361.000000</td>\n",
       "      <td>1382.000000</td>\n",
       "      <td>1347.000000</td>\n",
       "      <td>1362.000000</td>\n",
       "      <td>1365.150000</td>\n",
       "      <td>1362.150000</td>\n",
       "      <td>3.905778e+08</td>\n",
       "      <td>9.365671e+15</td>\n",
       "      <td>1.318669e+06</td>\n",
       "      <td>7.333848e+07</td>\n",
       "      <td>1.000000</td>\n",
       "    </tr>\n",
       "  </tbody>\n",
       "</table>\n",
       "</div>"
      ],
      "text/plain": [
       "        Prev Close         Open         High          Low         Last  \\\n",
       "count  5306.000000  5306.000000  5306.000000  5306.000000  5306.000000   \n",
       "mean    409.432878   410.152752   417.122512   402.179438   409.451828   \n",
       "std     272.483585   272.966475   277.018798   268.028297   272.516903   \n",
       "min      58.800000    58.000000    60.700000    57.550000    58.750000   \n",
       "25%     174.600000   174.762500   178.825000   171.012500   174.725000   \n",
       "50%     377.250000   378.900000   384.750000   372.600000   377.525000   \n",
       "75%     523.150000   523.475000   530.800000   515.912500   523.487500   \n",
       "max    1365.150000  1361.000000  1382.000000  1347.000000  1362.000000   \n",
       "\n",
       "             Close         VWAP        Volume      Turnover        Trades  \\\n",
       "count  5306.000000  5306.000000  5.306000e+03  5.306000e+03  2.456000e+03   \n",
       "mean    409.450264   409.761357  1.046560e+07  2.790772e+14  1.284400e+05   \n",
       "std     272.473264   272.491123  2.185034e+07  4.674351e+14  1.049546e+05   \n",
       "min      58.800000    59.240000  1.235100e+04  1.069384e+11  3.434000e+03   \n",
       "25%     174.600000   175.182500  1.668994e+06  7.049025e+13  7.547825e+04   \n",
       "50%     377.250000   378.465000  4.141648e+06  1.967418e+14  1.000340e+05   \n",
       "75%     523.150000   523.715000  8.706037e+06  3.175959e+14  1.420648e+05   \n",
       "max    1365.150000  1362.150000  3.905778e+08  9.365671e+15  1.318669e+06   \n",
       "\n",
       "       Deliverable Volume  %Deliverble  \n",
       "count        4.792000e+03  4792.000000  \n",
       "mean         2.805962e+06     0.360529  \n",
       "std          3.579713e+06     0.161659  \n",
       "min          1.235100e+04     0.038500  \n",
       "25%          6.469200e+05     0.227475  \n",
       "50%          1.636752e+06     0.361350  \n",
       "75%          3.761212e+06     0.483300  \n",
       "max          7.333848e+07     1.000000  "
      ]
     },
     "execution_count": 39,
     "metadata": {},
     "output_type": "execute_result"
    }
   ],
   "source": [
    "stock.describe()"
   ]
  },
  {
   "cell_type": "code",
   "execution_count": 40,
   "id": "ae21cdc5",
   "metadata": {},
   "outputs": [],
   "source": [
    "# Ensure we are working with a copy of the DataFrame to avoid the SettingWithCopyWarning\n",
    "stock = stock.copy()"
   ]
  },
  {
   "cell_type": "code",
   "execution_count": 41,
   "id": "7758c824",
   "metadata": {},
   "outputs": [],
   "source": [
    "# Calculate HL_Perc and CO_Perc\n",
    "stock.loc[:, 'HL_Perc'] = (stock['High'] - stock['Low']) / stock['Low'] * 100\n",
    "stock.loc[:, 'CO_Perc'] = (stock['Close'] - stock['Open']) / stock['Open'] * 100"
   ]
  },
  {
   "cell_type": "code",
   "execution_count": 42,
   "id": "0bb9c198",
   "metadata": {},
   "outputs": [],
   "source": [
    "dates = np.array(stock[\"Date\"])\n",
    "dates_check = dates[-30:]\n",
    "dates = dates[:-30]"
   ]
  },
  {
   "cell_type": "code",
   "execution_count": 43,
   "id": "07901da7",
   "metadata": {},
   "outputs": [
    {
     "data": {
      "text/plain": [
       "Index(['Date', 'Symbol', 'Series', 'Prev Close', 'Open', 'High', 'Low', 'Last',\n",
       "       'Close', 'VWAP', 'Volume', 'Turnover', 'Trades', 'Deliverable Volume',\n",
       "       '%Deliverble', 'HL_Perc', 'CO_Perc'],\n",
       "      dtype='object')"
      ]
     },
     "execution_count": 43,
     "metadata": {},
     "output_type": "execute_result"
    }
   ],
   "source": [
    "stock.columns"
   ]
  },
  {
   "cell_type": "code",
   "execution_count": 44,
   "id": "75b07f7b",
   "metadata": {},
   "outputs": [],
   "source": [
    "stock = stock[[\"HL_Perc\", \"CO_Perc\", \"Close\", \"Volume\"]]"
   ]
  },
  {
   "cell_type": "code",
   "execution_count": 45,
   "id": "d3c3ad3c",
   "metadata": {},
   "outputs": [],
   "source": [
    "#Define the label column\n",
    "stock[\"PriceNextMonth\"] = stock[\"Close\"].shift(-30)"
   ]
  },
  {
   "cell_type": "code",
   "execution_count": 46,
   "id": "0166d7bb",
   "metadata": {},
   "outputs": [
    {
     "data": {
      "text/html": [
       "<div>\n",
       "<style scoped>\n",
       "    .dataframe tbody tr th:only-of-type {\n",
       "        vertical-align: middle;\n",
       "    }\n",
       "\n",
       "    .dataframe tbody tr th {\n",
       "        vertical-align: top;\n",
       "    }\n",
       "\n",
       "    .dataframe thead th {\n",
       "        text-align: right;\n",
       "    }\n",
       "</style>\n",
       "<table border=\"1\" class=\"dataframe\">\n",
       "  <thead>\n",
       "    <tr style=\"text-align: right;\">\n",
       "      <th></th>\n",
       "      <th>HL_Perc</th>\n",
       "      <th>CO_Perc</th>\n",
       "      <th>Close</th>\n",
       "      <th>Volume</th>\n",
       "      <th>PriceNextMonth</th>\n",
       "    </tr>\n",
       "  </thead>\n",
       "  <tbody>\n",
       "    <tr>\n",
       "      <th>5301</th>\n",
       "      <td>1.493551</td>\n",
       "      <td>-0.538721</td>\n",
       "      <td>295.40</td>\n",
       "      <td>30583139</td>\n",
       "      <td>NaN</td>\n",
       "    </tr>\n",
       "    <tr>\n",
       "      <th>5302</th>\n",
       "      <td>2.507625</td>\n",
       "      <td>1.961447</td>\n",
       "      <td>301.50</td>\n",
       "      <td>35040532</td>\n",
       "      <td>NaN</td>\n",
       "    </tr>\n",
       "    <tr>\n",
       "      <th>5303</th>\n",
       "      <td>2.145215</td>\n",
       "      <td>0.790774</td>\n",
       "      <td>305.90</td>\n",
       "      <td>44668126</td>\n",
       "      <td>NaN</td>\n",
       "    </tr>\n",
       "    <tr>\n",
       "      <th>5304</th>\n",
       "      <td>2.904564</td>\n",
       "      <td>-2.266106</td>\n",
       "      <td>301.90</td>\n",
       "      <td>36647292</td>\n",
       "      <td>NaN</td>\n",
       "    </tr>\n",
       "    <tr>\n",
       "      <th>5305</th>\n",
       "      <td>2.990942</td>\n",
       "      <td>-1.458753</td>\n",
       "      <td>293.85</td>\n",
       "      <td>36121668</td>\n",
       "      <td>NaN</td>\n",
       "    </tr>\n",
       "  </tbody>\n",
       "</table>\n",
       "</div>"
      ],
      "text/plain": [
       "       HL_Perc   CO_Perc   Close    Volume  PriceNextMonth\n",
       "5301  1.493551 -0.538721  295.40  30583139             NaN\n",
       "5302  2.507625  1.961447  301.50  35040532             NaN\n",
       "5303  2.145215  0.790774  305.90  44668126             NaN\n",
       "5304  2.904564 -2.266106  301.90  36647292             NaN\n",
       "5305  2.990942 -1.458753  293.85  36121668             NaN"
      ]
     },
     "execution_count": 46,
     "metadata": {},
     "output_type": "execute_result"
    }
   ],
   "source": [
    "stock.tail()"
   ]
  },
  {
   "cell_type": "code",
   "execution_count": 47,
   "id": "e1fc9d51",
   "metadata": {},
   "outputs": [
    {
     "name": "stderr",
     "output_type": "stream",
     "text": [
      "C:\\Users\\suresh\\AppData\\Local\\Temp\\ipykernel_7132\\459189850.py:2: FutureWarning: In a future version of pandas all arguments of DataFrame.drop except for the argument 'labels' will be keyword-only.\n",
      "  X = np.array(stock.drop([\"PriceNextMonth\"], 1))\n"
     ]
    }
   ],
   "source": [
    "#Make fetaure and label arrays\n",
    "X = np.array(stock.drop([\"PriceNextMonth\"], 1))\n",
    "X = preprocessing.scale(X)\n",
    "X_Check = X[-30:]\n",
    "X = X[:-30]\n",
    "stock.dropna(inplace = True)\n",
    "y = np.array(stock[\"PriceNextMonth\"])"
   ]
  },
  {
   "cell_type": "code",
   "execution_count": 48,
   "id": "d53f6fdc",
   "metadata": {},
   "outputs": [],
   "source": [
    "#Divide the data set into training data and testing data\n",
    "X_train, X_test, y_train, y_test = train_test_split(X,y,test_size = 0.2)"
   ]
  },
  {
   "cell_type": "code",
   "execution_count": 49,
   "id": "555a1fdf",
   "metadata": {},
   "outputs": [],
   "source": [
    "#Define the prediction model\n",
    "model = RandomForestRegressor()"
   ]
  },
  {
   "cell_type": "code",
   "execution_count": 50,
   "id": "b063d9dd",
   "metadata": {},
   "outputs": [
    {
     "data": {
      "text/plain": [
       "RandomForestRegressor()"
      ]
     },
     "execution_count": 50,
     "metadata": {},
     "output_type": "execute_result"
    }
   ],
   "source": [
    "#Fit the model using training data\n",
    "model.fit(X_train, y_train)"
   ]
  },
  {
   "cell_type": "code",
   "execution_count": 51,
   "id": "09ee7f7c",
   "metadata": {},
   "outputs": [
    {
     "name": "stdout",
     "output_type": "stream",
     "text": [
      "0.9180340390572915\n"
     ]
    }
   ],
   "source": [
    "#Calculate the confidence value by applying the model to testing data\n",
    "conf = model.score(X_test, y_test)\n",
    "print(conf)"
   ]
  },
  {
   "cell_type": "code",
   "execution_count": 52,
   "id": "e75547ea",
   "metadata": {},
   "outputs": [
    {
     "data": {
      "text/plain": [
       "RandomForestRegressor()"
      ]
     },
     "execution_count": 52,
     "metadata": {},
     "output_type": "execute_result"
    }
   ],
   "source": [
    "#Fit the model again using the whole data set\n",
    "model.fit(X,y)"
   ]
  },
  {
   "cell_type": "code",
   "execution_count": 53,
   "id": "1ca2ecb0",
   "metadata": {},
   "outputs": [],
   "source": [
    "predictions = model.predict(X_Check)"
   ]
  },
  {
   "cell_type": "code",
   "execution_count": 54,
   "id": "f2a9e3e5",
   "metadata": {},
   "outputs": [],
   "source": [
    "#Make the final DataFrame containing Dates, ClosePrices, and Forecast values\n",
    "actual = pd.DataFrame(dates, columns = [\"Date\"])\n",
    "actual[\"ClosePrice\"] = stock[\"Close\"]\n",
    "actual[\"Forecast\"] = np.nan\n",
    "actual.set_index(\"Date\", inplace = True)\n",
    "forecast = pd.DataFrame(dates_check, columns=[\"Date\"])\n",
    "forecast[\"Forecast\"] = predictions\n",
    "forecast[\"ClosePrice\"] = np.nan\n",
    "forecast.set_index(\"Date\", inplace = True)\n",
    "var = [actual, forecast]\n",
    "result = pd.concat(var)  #This is the final DataFrame"
   ]
  },
  {
   "cell_type": "code",
   "execution_count": 55,
   "id": "a731134c",
   "metadata": {},
   "outputs": [
    {
     "data": {
      "text/plain": [
       "Text(0, 0.5, 'Price')"
      ]
     },
     "execution_count": 55,
     "metadata": {},
     "output_type": "execute_result"
    },
    {
     "data": {
      "image/png": "[encoded data removed]",
      "text/plain": [
       "<Figure size 2000x1000 with 1 Axes>"
      ]
     },
     "metadata": {},
     "output_type": "display_data"
    }
   ],
   "source": [
    "#Plot the final results\n",
    "result.plot(figsize=(20,10), linewidth=1.5)\n",
    "plt.legend(loc=2, prop={'size':20})\n",
    "plt.xlabel('Date')\n",
    "plt.ylabel('Price')"
   ]
  },
  {
   "cell_type": "code",
   "execution_count": null,
   "id": "87031322",
   "metadata": {},
   "outputs": [],
   "source": []
  }
 ],
 "metadata": {
  "kernelspec": {
   "display_name": "Python 3 (ipykernel)",
   "language": "python",
   "name": "python3"
  },
  "language_info": {
   "codemirror_mode": {
    "name": "ipython",
    "version": 3
   },
   "file_extension": ".py",
   "mimetype": "text/x-python",
   "name": "python",
   "nbconvert_exporter": "python",
   "pygments_lexer": "ipython3",
   "version": "3.9.13"
  }
 },
 "nbformat": 4,
 "nbformat_minor": 5
}
